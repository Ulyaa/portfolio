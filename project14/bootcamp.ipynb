{
 "cells": [
  {
   "cell_type": "markdown",
   "metadata": {},
   "source": [
    "# Игры — Анализ рекламных источников"
   ]
  },
  {
   "cell_type": "markdown",
   "metadata": {},
   "source": [
    "**Описание проекта**\n",
    "\n",
    "Заказчик этого исследования — компания «Космические братья»! 🎆 «Космические братья» - команда мобильной игры, которая пользуется большой популярностью, закупила трафик. Нужно сравнить и выявить определяющие выгодность каналов закономерности. Это позволит сделать ставку на потенциально выгодный канал и спланировать дальнейшее перераспределение бюджета. Перед вами данные первых пользователей приложения — когорты пользователей, которые начали пользоваться приложением в период с 4 по 10 мая включительно 2020го года. \n",
    "\n",
    "**Описание датасетов:**\n",
    "\n",
    "Основной датасет содержит данные о событиях, совершенных в мобильной игре «Космические братья». В ней пользователи строят свою космическую программу и пытаются преуспеть в нелёгком деле колонизации галактики. Основная монетизация игры — только планируется. Но предполагается, что в приложении будет происходить показ рекламы на экране с выбором типа объекта для постройки. \n",
    "\n",
    "В датасете представлены данные по игре пользователей на первом уровне.\n",
    "Завершение первого уровня требует от игрока выполнения одного из двух условий:\n",
    "1. Победа над первым врагом\n",
    "2. Реализация проекта - разработка орбитальной сборки спутников\n",
    "\n",
    "\n",
    "\n",
    "**Датасет `game_actions.csv`:**\n",
    "- `event_datetime` — время события;\n",
    "- `event` — одно из трёх событий:\n",
    "     1. `building` — объект построен,\n",
    "     2. `finished_stage_1` — первый уровень завершён,\n",
    "     3. `project` — проект завершён;\n",
    "- `building_type` — один из трёх типов здания:\n",
    "     1. `assembly_shop` — сборочный цех,\n",
    "     2. `spaceport` — космопорт,\n",
    "     3. `research_center` — исследовательский центр;\n",
    "- `user_id` — идентификатор пользователя;\n",
    "-`project_type` — тип реализованного проекта;\n",
    "\n",
    "\n",
    "Помимо основного датасета есть два датасета с информацией о рекламных\n",
    "активностях. Они также помогут в решении задачи.\n",
    "\n",
    "**Датасет `ad_costs.csv`:**\n",
    "- `day` - день, в который был совершен клик по объявлению\n",
    "- `source` - источник трафика\n",
    "- `cost` - стоимость кликов\n",
    "\n",
    "**Датасет `user_source.csv` содержит колонки:**\n",
    "- `user_id` - идентификатор пользователя\n",
    "- `source` - источников, с которого пришёл пользователь, установивший приложение\n",
    "\n",
    "**Задачи:**\n",
    "1. Проанализировать игроков в зависимости от источника перехода, рассмотреть их различия;\n",
    "2. Проверить, какие каналы хорошо себя показали;\n",
    "3. Какие источники приводят \"качественных пользователей\"\n",
    "\n",
    "\n",
    "**Цель исследования** — Определить выгодные, не выгодные каналы для планирования дальнейшей ставки распределения бюджета. А также проверить две гипотезы:\n",
    "1. Время завершения уровня различается в зависимости способа прохождения: \n",
    "        через реализацию проекта,\n",
    "        через победу над первым игроком.\n",
    "2. Доля прохождения уровней различается в зависимости от источника"
   ]
  },
  {
   "cell_type": "markdown",
   "metadata": {},
   "source": [
    "## шаг. Открытие файла с данными и изучение общей информации.\n",
    "- Открыть датасеты\n",
    "- Вывести и изучить основную информацию о датасетах"
   ]
  },
  {
   "cell_type": "markdown",
   "metadata": {},
   "source": [
    "Импортируем библиотеки, которыми будем пользоваться"
   ]
  },
  {
   "cell_type": "code",
   "execution_count": 1,
   "metadata": {},
   "outputs": [],
   "source": [
    "import pandas as pd\n",
    "pd.options.display.float_format = '{:,.2f}'.format \n",
    "import matplotlib.pyplot as plt                          \n",
    "import seaborn as sns  \n",
    "from scipy import stats as st\n",
    "import math as mth\n",
    "\n"
   ]
  },
  {
   "cell_type": "markdown",
   "metadata": {},
   "source": [
    "Откроем файлы с данными и запишем их как датафреймы `game`, `costs`, `users`"
   ]
  },
  {
   "cell_type": "code",
   "execution_count": 2,
   "metadata": {},
   "outputs": [],
   "source": [
    "game = pd.read_csv('https://code.s3.yandex.net/datasets/game_actions.csv', parse_dates=['event_datetime'])\n",
    "costs =  pd.read_csv('https://code.s3.yandex.net/datasets/ad_costs.csv', parse_dates=['day'])\n",
    "users =  pd.read_csv('https://code.s3.yandex.net/datasets/user_source.csv')"
   ]
  },
  {
   "cell_type": "markdown",
   "metadata": {},
   "source": [
    "Рассмотрим первые 5 строк и основную информацию датафрейма `game`"
   ]
  },
  {
   "cell_type": "code",
   "execution_count": 3,
   "metadata": {},
   "outputs": [],
   "source": [
    "def information(dataframe):\n",
    "    display(dataframe.head())\n",
    "    dataframe.info()\n",
    "    "
   ]
  },
  {
   "cell_type": "code",
   "execution_count": 4,
   "metadata": {
    "scrolled": false
   },
   "outputs": [
    {
     "data": {
      "text/html": [
       "<div>\n",
       "<style scoped>\n",
       "    .dataframe tbody tr th:only-of-type {\n",
       "        vertical-align: middle;\n",
       "    }\n",
       "\n",
       "    .dataframe tbody tr th {\n",
       "        vertical-align: top;\n",
       "    }\n",
       "\n",
       "    .dataframe thead th {\n",
       "        text-align: right;\n",
       "    }\n",
       "</style>\n",
       "<table border=\"1\" class=\"dataframe\">\n",
       "  <thead>\n",
       "    <tr style=\"text-align: right;\">\n",
       "      <th></th>\n",
       "      <th>event_datetime</th>\n",
       "      <th>event</th>\n",
       "      <th>building_type</th>\n",
       "      <th>user_id</th>\n",
       "      <th>project_type</th>\n",
       "    </tr>\n",
       "  </thead>\n",
       "  <tbody>\n",
       "    <tr>\n",
       "      <th>0</th>\n",
       "      <td>2020-05-04 00:00:01</td>\n",
       "      <td>building</td>\n",
       "      <td>assembly_shop</td>\n",
       "      <td>55e92310-cb8e-4754-b622-597e124b03de</td>\n",
       "      <td>NaN</td>\n",
       "    </tr>\n",
       "    <tr>\n",
       "      <th>1</th>\n",
       "      <td>2020-05-04 00:00:03</td>\n",
       "      <td>building</td>\n",
       "      <td>assembly_shop</td>\n",
       "      <td>c07b1c10-f477-44dc-81dc-ec82254b1347</td>\n",
       "      <td>NaN</td>\n",
       "    </tr>\n",
       "    <tr>\n",
       "      <th>2</th>\n",
       "      <td>2020-05-04 00:00:16</td>\n",
       "      <td>building</td>\n",
       "      <td>assembly_shop</td>\n",
       "      <td>6edd42cc-e753-4ff6-a947-2107cd560710</td>\n",
       "      <td>NaN</td>\n",
       "    </tr>\n",
       "    <tr>\n",
       "      <th>3</th>\n",
       "      <td>2020-05-04 00:00:16</td>\n",
       "      <td>building</td>\n",
       "      <td>assembly_shop</td>\n",
       "      <td>92c69003-d60a-444a-827f-8cc51bf6bf4c</td>\n",
       "      <td>NaN</td>\n",
       "    </tr>\n",
       "    <tr>\n",
       "      <th>4</th>\n",
       "      <td>2020-05-04 00:00:35</td>\n",
       "      <td>building</td>\n",
       "      <td>assembly_shop</td>\n",
       "      <td>cdc6bb92-0ccb-4490-9866-ef142f09139d</td>\n",
       "      <td>NaN</td>\n",
       "    </tr>\n",
       "  </tbody>\n",
       "</table>\n",
       "</div>"
      ],
      "text/plain": [
       "       event_datetime     event  building_type  \\\n",
       "0 2020-05-04 00:00:01  building  assembly_shop   \n",
       "1 2020-05-04 00:00:03  building  assembly_shop   \n",
       "2 2020-05-04 00:00:16  building  assembly_shop   \n",
       "3 2020-05-04 00:00:16  building  assembly_shop   \n",
       "4 2020-05-04 00:00:35  building  assembly_shop   \n",
       "\n",
       "                                user_id project_type  \n",
       "0  55e92310-cb8e-4754-b622-597e124b03de          NaN  \n",
       "1  c07b1c10-f477-44dc-81dc-ec82254b1347          NaN  \n",
       "2  6edd42cc-e753-4ff6-a947-2107cd560710          NaN  \n",
       "3  92c69003-d60a-444a-827f-8cc51bf6bf4c          NaN  \n",
       "4  cdc6bb92-0ccb-4490-9866-ef142f09139d          NaN  "
      ]
     },
     "metadata": {},
     "output_type": "display_data"
    },
    {
     "name": "stdout",
     "output_type": "stream",
     "text": [
      "<class 'pandas.core.frame.DataFrame'>\n",
      "RangeIndex: 135640 entries, 0 to 135639\n",
      "Data columns (total 5 columns):\n",
      " #   Column          Non-Null Count   Dtype         \n",
      "---  ------          --------------   -----         \n",
      " 0   event_datetime  135640 non-null  datetime64[ns]\n",
      " 1   event           135640 non-null  object        \n",
      " 2   building_type   127957 non-null  object        \n",
      " 3   user_id         135640 non-null  object        \n",
      " 4   project_type    1866 non-null    object        \n",
      "dtypes: datetime64[ns](1), object(4)\n",
      "memory usage: 5.2+ MB\n"
     ]
    },
    {
     "data": {
      "text/html": [
       "<div>\n",
       "<style scoped>\n",
       "    .dataframe tbody tr th:only-of-type {\n",
       "        vertical-align: middle;\n",
       "    }\n",
       "\n",
       "    .dataframe tbody tr th {\n",
       "        vertical-align: top;\n",
       "    }\n",
       "\n",
       "    .dataframe thead th {\n",
       "        text-align: right;\n",
       "    }\n",
       "</style>\n",
       "<table border=\"1\" class=\"dataframe\">\n",
       "  <thead>\n",
       "    <tr style=\"text-align: right;\">\n",
       "      <th></th>\n",
       "      <th>source</th>\n",
       "      <th>day</th>\n",
       "      <th>cost</th>\n",
       "    </tr>\n",
       "  </thead>\n",
       "  <tbody>\n",
       "    <tr>\n",
       "      <th>0</th>\n",
       "      <td>facebook_ads</td>\n",
       "      <td>2020-05-03</td>\n",
       "      <td>935.88</td>\n",
       "    </tr>\n",
       "    <tr>\n",
       "      <th>1</th>\n",
       "      <td>facebook_ads</td>\n",
       "      <td>2020-05-04</td>\n",
       "      <td>548.35</td>\n",
       "    </tr>\n",
       "    <tr>\n",
       "      <th>2</th>\n",
       "      <td>facebook_ads</td>\n",
       "      <td>2020-05-05</td>\n",
       "      <td>260.19</td>\n",
       "    </tr>\n",
       "    <tr>\n",
       "      <th>3</th>\n",
       "      <td>facebook_ads</td>\n",
       "      <td>2020-05-06</td>\n",
       "      <td>177.98</td>\n",
       "    </tr>\n",
       "    <tr>\n",
       "      <th>4</th>\n",
       "      <td>facebook_ads</td>\n",
       "      <td>2020-05-07</td>\n",
       "      <td>111.77</td>\n",
       "    </tr>\n",
       "  </tbody>\n",
       "</table>\n",
       "</div>"
      ],
      "text/plain": [
       "         source        day   cost\n",
       "0  facebook_ads 2020-05-03 935.88\n",
       "1  facebook_ads 2020-05-04 548.35\n",
       "2  facebook_ads 2020-05-05 260.19\n",
       "3  facebook_ads 2020-05-06 177.98\n",
       "4  facebook_ads 2020-05-07 111.77"
      ]
     },
     "metadata": {},
     "output_type": "display_data"
    },
    {
     "name": "stdout",
     "output_type": "stream",
     "text": [
      "<class 'pandas.core.frame.DataFrame'>\n",
      "RangeIndex: 28 entries, 0 to 27\n",
      "Data columns (total 3 columns):\n",
      " #   Column  Non-Null Count  Dtype         \n",
      "---  ------  --------------  -----         \n",
      " 0   source  28 non-null     object        \n",
      " 1   day     28 non-null     datetime64[ns]\n",
      " 2   cost    28 non-null     float64       \n",
      "dtypes: datetime64[ns](1), float64(1), object(1)\n",
      "memory usage: 800.0+ bytes\n"
     ]
    },
    {
     "data": {
      "text/html": [
       "<div>\n",
       "<style scoped>\n",
       "    .dataframe tbody tr th:only-of-type {\n",
       "        vertical-align: middle;\n",
       "    }\n",
       "\n",
       "    .dataframe tbody tr th {\n",
       "        vertical-align: top;\n",
       "    }\n",
       "\n",
       "    .dataframe thead th {\n",
       "        text-align: right;\n",
       "    }\n",
       "</style>\n",
       "<table border=\"1\" class=\"dataframe\">\n",
       "  <thead>\n",
       "    <tr style=\"text-align: right;\">\n",
       "      <th></th>\n",
       "      <th>user_id</th>\n",
       "      <th>source</th>\n",
       "    </tr>\n",
       "  </thead>\n",
       "  <tbody>\n",
       "    <tr>\n",
       "      <th>0</th>\n",
       "      <td>0001f83c-c6ac-4621-b7f0-8a28b283ac30</td>\n",
       "      <td>facebook_ads</td>\n",
       "    </tr>\n",
       "    <tr>\n",
       "      <th>1</th>\n",
       "      <td>00151b4f-ba38-44a8-a650-d7cf130a0105</td>\n",
       "      <td>yandex_direct</td>\n",
       "    </tr>\n",
       "    <tr>\n",
       "      <th>2</th>\n",
       "      <td>001aaea6-3d14-43f1-8ca8-7f48820f17aa</td>\n",
       "      <td>youtube_channel_reklama</td>\n",
       "    </tr>\n",
       "    <tr>\n",
       "      <th>3</th>\n",
       "      <td>001d39dc-366c-4021-9604-6a3b9ff01e25</td>\n",
       "      <td>instagram_new_adverts</td>\n",
       "    </tr>\n",
       "    <tr>\n",
       "      <th>4</th>\n",
       "      <td>002f508f-67b6-479f-814b-b05f00d4e995</td>\n",
       "      <td>facebook_ads</td>\n",
       "    </tr>\n",
       "  </tbody>\n",
       "</table>\n",
       "</div>"
      ],
      "text/plain": [
       "                                user_id                   source\n",
       "0  0001f83c-c6ac-4621-b7f0-8a28b283ac30             facebook_ads\n",
       "1  00151b4f-ba38-44a8-a650-d7cf130a0105            yandex_direct\n",
       "2  001aaea6-3d14-43f1-8ca8-7f48820f17aa  youtube_channel_reklama\n",
       "3  001d39dc-366c-4021-9604-6a3b9ff01e25    instagram_new_adverts\n",
       "4  002f508f-67b6-479f-814b-b05f00d4e995             facebook_ads"
      ]
     },
     "metadata": {},
     "output_type": "display_data"
    },
    {
     "name": "stdout",
     "output_type": "stream",
     "text": [
      "<class 'pandas.core.frame.DataFrame'>\n",
      "RangeIndex: 13576 entries, 0 to 13575\n",
      "Data columns (total 2 columns):\n",
      " #   Column   Non-Null Count  Dtype \n",
      "---  ------   --------------  ----- \n",
      " 0   user_id  13576 non-null  object\n",
      " 1   source   13576 non-null  object\n",
      "dtypes: object(2)\n",
      "memory usage: 212.2+ KB\n"
     ]
    },
    {
     "data": {
      "text/html": [
       "<div>\n",
       "<style scoped>\n",
       "    .dataframe tbody tr th:only-of-type {\n",
       "        vertical-align: middle;\n",
       "    }\n",
       "\n",
       "    .dataframe tbody tr th {\n",
       "        vertical-align: top;\n",
       "    }\n",
       "\n",
       "    .dataframe thead th {\n",
       "        text-align: right;\n",
       "    }\n",
       "</style>\n",
       "<table border=\"1\" class=\"dataframe\">\n",
       "  <thead>\n",
       "    <tr style=\"text-align: right;\">\n",
       "      <th></th>\n",
       "      <th>cost</th>\n",
       "    </tr>\n",
       "  </thead>\n",
       "  <tbody>\n",
       "    <tr>\n",
       "      <th>count</th>\n",
       "      <td>28.00</td>\n",
       "    </tr>\n",
       "    <tr>\n",
       "      <th>mean</th>\n",
       "      <td>271.56</td>\n",
       "    </tr>\n",
       "    <tr>\n",
       "      <th>std</th>\n",
       "      <td>286.87</td>\n",
       "    </tr>\n",
       "    <tr>\n",
       "      <th>min</th>\n",
       "      <td>23.31</td>\n",
       "    </tr>\n",
       "    <tr>\n",
       "      <th>25%</th>\n",
       "      <td>66.75</td>\n",
       "    </tr>\n",
       "    <tr>\n",
       "      <th>50%</th>\n",
       "      <td>160.06</td>\n",
       "    </tr>\n",
       "    <tr>\n",
       "      <th>75%</th>\n",
       "      <td>349.03</td>\n",
       "    </tr>\n",
       "    <tr>\n",
       "      <th>max</th>\n",
       "      <td>969.14</td>\n",
       "    </tr>\n",
       "  </tbody>\n",
       "</table>\n",
       "</div>"
      ],
      "text/plain": [
       "        cost\n",
       "count  28.00\n",
       "mean  271.56\n",
       "std   286.87\n",
       "min    23.31\n",
       "25%    66.75\n",
       "50%   160.06\n",
       "75%   349.03\n",
       "max   969.14"
      ]
     },
     "execution_count": 4,
     "metadata": {},
     "output_type": "execute_result"
    }
   ],
   "source": [
    "information(game)\n",
    "information(costs)\n",
    "information(users)\n",
    "costs.describe()"
   ]
  },
  {
   "cell_type": "markdown",
   "metadata": {},
   "source": [
    "Видим, что\n",
    "- В датафрейме `game` всего 135640 строк, позднее рассмотрим долю пропусков;\n",
    "- Всего строк в датафрейме `costs` - 28, отсутствуют пропуски\n",
    "- В `users` строк 13576, \n",
    "     - пропуски отсутствуют, \n",
    "     - минимальное значение `cost` - 23.31\n",
    "     - максимальное значение - 969.14\n",
    "     - разброс большой\n",
    "                                                    \n"
   ]
  },
  {
   "cell_type": "markdown",
   "metadata": {},
   "source": [
    "## шаг. Подготовка данных.\n",
    "\n",
    "### Проверить корректность названий столбцов;\n",
    "\n",
    "\n",
    "\n",
    "\n",
    "\n",
    "\n"
   ]
  },
  {
   "cell_type": "markdown",
   "metadata": {},
   "source": [
    "Выведем наименования всех столбцов таблиц `game`, `costs`, `users`"
   ]
  },
  {
   "cell_type": "code",
   "execution_count": 5,
   "metadata": {},
   "outputs": [
    {
     "name": "stdout",
     "output_type": "stream",
     "text": [
      "['event_datetime', 'event', 'building_type', 'user_id', 'project_type']\n",
      "['source', 'day', 'cost']\n",
      "['user_id', 'source']\n"
     ]
    }
   ],
   "source": [
    "print(game.columns.tolist())\n",
    "print(costs.columns.tolist())\n",
    "print(users.columns.tolist())"
   ]
  },
  {
   "cell_type": "markdown",
   "metadata": {},
   "source": [
    "Переименуем столбец `event_datetime` в `date` для удобства"
   ]
  },
  {
   "cell_type": "code",
   "execution_count": 6,
   "metadata": {},
   "outputs": [],
   "source": [
    "game = game.rename(columns = {'event_datetime':'date'})"
   ]
  },
  {
   "cell_type": "markdown",
   "metadata": {},
   "source": [
    "Все столбцы имеют корректное название"
   ]
  },
  {
   "cell_type": "markdown",
   "metadata": {},
   "source": [
    "### Преобразование данных в нужные типы. Описать, в каких столбцах заменили тип данных и почему;"
   ]
  },
  {
   "cell_type": "code",
   "execution_count": 7,
   "metadata": {},
   "outputs": [],
   "source": [
    "costs['day'] = costs['day'].dt.date"
   ]
  },
  {
   "cell_type": "markdown",
   "metadata": {},
   "source": [
    "### Обработка дубликатов;"
   ]
  },
  {
   "cell_type": "markdown",
   "metadata": {},
   "source": [
    "Для начала проверим датафреймы на наличие явных дубликатов"
   ]
  },
  {
   "cell_type": "code",
   "execution_count": 8,
   "metadata": {},
   "outputs": [
    {
     "name": "stdout",
     "output_type": "stream",
     "text": [
      "1\n",
      "0\n"
     ]
    },
    {
     "data": {
      "text/plain": [
       "0"
      ]
     },
     "execution_count": 8,
     "metadata": {},
     "output_type": "execute_result"
    }
   ],
   "source": [
    "print(game.duplicated().sum())\n",
    "print(costs.duplicated().sum())\n",
    "users.duplicated().sum()"
   ]
  },
  {
   "cell_type": "markdown",
   "metadata": {},
   "source": [
    "Удалим найденный явный дубликат и проверим удаление\n"
   ]
  },
  {
   "cell_type": "code",
   "execution_count": 9,
   "metadata": {
    "scrolled": true
   },
   "outputs": [
    {
     "data": {
      "text/plain": [
       "0"
      ]
     },
     "execution_count": 9,
     "metadata": {},
     "output_type": "execute_result"
    }
   ],
   "source": [
    "game = game.drop_duplicates()\n",
    "game = game.reset_index(drop = True)\n",
    "game.duplicated().sum()"
   ]
  },
  {
   "cell_type": "markdown",
   "metadata": {},
   "source": [
    "Далее рассмотрим строки с одинаковыми `user_id` и `date`"
   ]
  },
  {
   "cell_type": "code",
   "execution_count": 10,
   "metadata": {},
   "outputs": [
    {
     "data": {
      "text/html": [
       "<div>\n",
       "<style scoped>\n",
       "    .dataframe tbody tr th:only-of-type {\n",
       "        vertical-align: middle;\n",
       "    }\n",
       "\n",
       "    .dataframe tbody tr th {\n",
       "        vertical-align: top;\n",
       "    }\n",
       "\n",
       "    .dataframe thead th {\n",
       "        text-align: right;\n",
       "    }\n",
       "</style>\n",
       "<table border=\"1\" class=\"dataframe\">\n",
       "  <thead>\n",
       "    <tr style=\"text-align: right;\">\n",
       "      <th></th>\n",
       "      <th>date</th>\n",
       "      <th>event</th>\n",
       "      <th>building_type</th>\n",
       "      <th>user_id</th>\n",
       "      <th>project_type</th>\n",
       "    </tr>\n",
       "  </thead>\n",
       "  <tbody>\n",
       "  </tbody>\n",
       "</table>\n",
       "</div>"
      ],
      "text/plain": [
       "Empty DataFrame\n",
       "Columns: [date, event, building_type, user_id, project_type]\n",
       "Index: []"
      ]
     },
     "execution_count": 10,
     "metadata": {},
     "output_type": "execute_result"
    }
   ],
   "source": [
    "game.loc[game.duplicated(subset = ['user_id', 'date']) == True]"
   ]
  },
  {
   "cell_type": "markdown",
   "metadata": {},
   "source": [
    "Пусто, оставим в таком виде."
   ]
  },
  {
   "cell_type": "code",
   "execution_count": 11,
   "metadata": {},
   "outputs": [],
   "source": [
    "game['date'] = game['date'].dt.date"
   ]
  },
  {
   "cell_type": "markdown",
   "metadata": {},
   "source": [
    "### Обработка пропусков;\n"
   ]
  },
  {
   "cell_type": "markdown",
   "metadata": {},
   "source": [
    "Проверим долю пропусков в датафрейме `game`, у остальных двух отсутствуют пропуски по всем столбцам."
   ]
  },
  {
   "cell_type": "code",
   "execution_count": 12,
   "metadata": {
    "scrolled": false
   },
   "outputs": [
    {
     "data": {
      "text/html": [
       "<style  type=\"text/css\" >\n",
       "#T_9942d_row0_col0,#T_9942d_row1_col0,#T_9942d_row3_col0{\n",
       "            background-color:  #3b4cc0;\n",
       "            color:  #f1f1f1;\n",
       "        }#T_9942d_row2_col0{\n",
       "            background-color:  #4b64d5;\n",
       "            color:  #f1f1f1;\n",
       "        }#T_9942d_row4_col0{\n",
       "            background-color:  #b40426;\n",
       "            color:  #f1f1f1;\n",
       "        }</style><table id=\"T_9942d_\" ><thead>    <tr>        <th class=\"blank level0\" ></th>        <th class=\"col_heading level0 col0\" >0</th>    </tr></thead><tbody>\n",
       "                <tr>\n",
       "                        <th id=\"T_9942d_level0_row0\" class=\"row_heading level0 row0\" >date</th>\n",
       "                        <td id=\"T_9942d_row0_col0\" class=\"data row0 col0\" >0.000000</td>\n",
       "            </tr>\n",
       "            <tr>\n",
       "                        <th id=\"T_9942d_level0_row1\" class=\"row_heading level0 row1\" >event</th>\n",
       "                        <td id=\"T_9942d_row1_col0\" class=\"data row1 col0\" >0.000000</td>\n",
       "            </tr>\n",
       "            <tr>\n",
       "                        <th id=\"T_9942d_level0_row2\" class=\"row_heading level0 row2\" >building_type</th>\n",
       "                        <td id=\"T_9942d_row2_col0\" class=\"data row2 col0\" >5.700000</td>\n",
       "            </tr>\n",
       "            <tr>\n",
       "                        <th id=\"T_9942d_level0_row3\" class=\"row_heading level0 row3\" >user_id</th>\n",
       "                        <td id=\"T_9942d_row3_col0\" class=\"data row3 col0\" >0.000000</td>\n",
       "            </tr>\n",
       "            <tr>\n",
       "                        <th id=\"T_9942d_level0_row4\" class=\"row_heading level0 row4\" >project_type</th>\n",
       "                        <td id=\"T_9942d_row4_col0\" class=\"data row4 col0\" >98.600000</td>\n",
       "            </tr>\n",
       "    </tbody></table>"
      ],
      "text/plain": [
       "<pandas.io.formats.style.Styler at 0x7f2d6eefa6a0>"
      ]
     },
     "execution_count": 12,
     "metadata": {},
     "output_type": "execute_result"
    }
   ],
   "source": [
    "pd.DataFrame(round(game.isna().mean()*100, 1)).style.background_gradient('coolwarm')"
   ]
  },
  {
   "cell_type": "markdown",
   "metadata": {},
   "source": [
    "Видим что огромная доля пропусков идет на столбец `project_type`.\n",
    "\n",
    "Детальнее рассмотрим данные с ненулевыми значениями данного столбца. Выведем все уникальные значения столбца `event`."
   ]
  },
  {
   "cell_type": "code",
   "execution_count": 13,
   "metadata": {},
   "outputs": [
    {
     "data": {
      "text/plain": [
       "['project']"
      ]
     },
     "execution_count": 13,
     "metadata": {},
     "output_type": "execute_result"
    }
   ],
   "source": [
    "game.query('project_type.isna() == False')['event'].unique().tolist()"
   ]
  },
  {
   "cell_type": "markdown",
   "metadata": {},
   "source": [
    "Рассмотрим все уникальные значения столбца `project_type`"
   ]
  },
  {
   "cell_type": "code",
   "execution_count": 14,
   "metadata": {},
   "outputs": [
    {
     "data": {
      "text/plain": [
       "[nan, 'satellite_orbital_assembly']"
      ]
     },
     "execution_count": 14,
     "metadata": {},
     "output_type": "execute_result"
    }
   ],
   "source": [
    "game['project_type'].unique().tolist()"
   ]
  },
  {
   "cell_type": "markdown",
   "metadata": {},
   "source": [
    "Имеется только единственное ненулевое значение `satellite_orbital_assembly` значит мы можем избавиться от столбца `project_type`, так как значение `project` в столбце `event` уже подразумевает о разработке орбитальной сборки спутников."
   ]
  },
  {
   "cell_type": "code",
   "execution_count": 15,
   "metadata": {},
   "outputs": [
    {
     "data": {
      "text/plain": [
       "['date', 'event', 'building_type', 'user_id']"
      ]
     },
     "execution_count": 15,
     "metadata": {},
     "output_type": "execute_result"
    }
   ],
   "source": [
    "game = game.drop(columns=['project_type'])\n",
    "list(game.columns)"
   ]
  },
  {
   "cell_type": "markdown",
   "metadata": {},
   "source": [
    "Что касаемо пропусков в столбце `building_type`, рассмотрим так же. Выведем количество ненулевых значений и все уникальные значения столбца event."
   ]
  },
  {
   "cell_type": "code",
   "execution_count": 16,
   "metadata": {},
   "outputs": [
    {
     "name": "stdout",
     "output_type": "stream",
     "text": [
      "127956\n"
     ]
    },
    {
     "data": {
      "text/plain": [
       "['building']"
      ]
     },
     "execution_count": 16,
     "metadata": {},
     "output_type": "execute_result"
    }
   ],
   "source": [
    "print(len(game.query('building_type.isna() == False')))\n",
    "game.query('building_type.isna() == False')['event'].unique().tolist()"
   ]
  },
  {
   "cell_type": "markdown",
   "metadata": {},
   "source": [
    "Далее выведем количество значений `building` во всем датафрейме `game` и сравним."
   ]
  },
  {
   "cell_type": "code",
   "execution_count": 17,
   "metadata": {},
   "outputs": [
    {
     "name": "stdout",
     "output_type": "stream",
     "text": [
      "127956\n"
     ]
    }
   ],
   "source": [
    "print(len(game.query('event == \"building\"')))"
   ]
  },
  {
   "cell_type": "markdown",
   "metadata": {},
   "source": [
    "Количества так же совпадают, то есть если в столбце `event` стоит `building` значит, что там есть постройка. Рассмотрим виды построек"
   ]
  },
  {
   "cell_type": "code",
   "execution_count": 18,
   "metadata": {},
   "outputs": [
    {
     "data": {
      "text/plain": [
       "['assembly_shop', 'spaceport', nan, 'research_center']"
      ]
     },
     "execution_count": 18,
     "metadata": {},
     "output_type": "execute_result"
    }
   ],
   "source": [
    "game['building_type'].unique().tolist()"
   ]
  },
  {
   "cell_type": "markdown",
   "metadata": {},
   "source": [
    "Так как имеются несколько зданий построек, мы не можем просто взять и избавиться от столбца. Поэтому остальные пропуски просто оставим как есть."
   ]
  },
  {
   "cell_type": "markdown",
   "metadata": {},
   "source": [
    "## шаг. Исследовательский анализ данных.\n",
    "\n",
    "### Подробное рассмотрение информации датафрейма `game_actions.csv`\n"
   ]
  },
  {
   "cell_type": "markdown",
   "metadata": {},
   "source": [
    "Рассмотрим уникальные значения столбца `event`, выведем наксимальную и минимальную даты столбца `date` а также выведем количество уникальных пользователей в данном датафрейме."
   ]
  },
  {
   "cell_type": "code",
   "execution_count": 19,
   "metadata": {},
   "outputs": [
    {
     "name": "stdout",
     "output_type": "stream",
     "text": [
      "['building' 'finished_stage_1' 'project']\n",
      "2020-05-04\n",
      "2020-06-05\n"
     ]
    },
    {
     "data": {
      "text/plain": [
       "13576"
      ]
     },
     "execution_count": 19,
     "metadata": {},
     "output_type": "execute_result"
    }
   ],
   "source": [
    "print(game['event'].unique())\n",
    "print(game['date'].min())\n",
    "print(game['date'].max())\n",
    "len(game['user_id'].unique())"
   ]
  },
  {
   "cell_type": "markdown",
   "metadata": {},
   "source": [
    "### Подробное рассмотрение информации датафрейма `ad_costs.csv`"
   ]
  },
  {
   "cell_type": "markdown",
   "metadata": {},
   "source": [
    "Рассмотрим уникальные значения столбца `source`, выведем наксимальную и минимальную даты столбца `day` а также еще раз  cписок характерных значений столбца `cost`"
   ]
  },
  {
   "cell_type": "code",
   "execution_count": 20,
   "metadata": {},
   "outputs": [
    {
     "data": {
      "text/plain": [
       "['facebook_ads',\n",
       " 'instagram_new_adverts',\n",
       " 'yandex_direct',\n",
       " 'youtube_channel_reklama']"
      ]
     },
     "metadata": {},
     "output_type": "display_data"
    },
    {
     "name": "stdout",
     "output_type": "stream",
     "text": [
      "2020-05-03\n",
      "2020-05-09\n"
     ]
    },
    {
     "data": {
      "text/html": [
       "<div>\n",
       "<style scoped>\n",
       "    .dataframe tbody tr th:only-of-type {\n",
       "        vertical-align: middle;\n",
       "    }\n",
       "\n",
       "    .dataframe tbody tr th {\n",
       "        vertical-align: top;\n",
       "    }\n",
       "\n",
       "    .dataframe thead th {\n",
       "        text-align: right;\n",
       "    }\n",
       "</style>\n",
       "<table border=\"1\" class=\"dataframe\">\n",
       "  <thead>\n",
       "    <tr style=\"text-align: right;\">\n",
       "      <th></th>\n",
       "      <th>cost</th>\n",
       "    </tr>\n",
       "  </thead>\n",
       "  <tbody>\n",
       "    <tr>\n",
       "      <th>count</th>\n",
       "      <td>28.00</td>\n",
       "    </tr>\n",
       "    <tr>\n",
       "      <th>mean</th>\n",
       "      <td>271.56</td>\n",
       "    </tr>\n",
       "    <tr>\n",
       "      <th>std</th>\n",
       "      <td>286.87</td>\n",
       "    </tr>\n",
       "    <tr>\n",
       "      <th>min</th>\n",
       "      <td>23.31</td>\n",
       "    </tr>\n",
       "    <tr>\n",
       "      <th>25%</th>\n",
       "      <td>66.75</td>\n",
       "    </tr>\n",
       "    <tr>\n",
       "      <th>50%</th>\n",
       "      <td>160.06</td>\n",
       "    </tr>\n",
       "    <tr>\n",
       "      <th>75%</th>\n",
       "      <td>349.03</td>\n",
       "    </tr>\n",
       "    <tr>\n",
       "      <th>max</th>\n",
       "      <td>969.14</td>\n",
       "    </tr>\n",
       "  </tbody>\n",
       "</table>\n",
       "</div>"
      ],
      "text/plain": [
       "        cost\n",
       "count  28.00\n",
       "mean  271.56\n",
       "std   286.87\n",
       "min    23.31\n",
       "25%    66.75\n",
       "50%   160.06\n",
       "75%   349.03\n",
       "max   969.14"
      ]
     },
     "execution_count": 20,
     "metadata": {},
     "output_type": "execute_result"
    }
   ],
   "source": [
    "display(costs['source'].unique().tolist())\n",
    "print(costs['day'].min())\n",
    "print(costs['day'].max())\n",
    "costs.describe()"
   ]
  },
  {
   "cell_type": "markdown",
   "metadata": {},
   "source": [
    "### Подробное рассмотрение информации датафрейма `user_source.csv`"
   ]
  },
  {
   "cell_type": "code",
   "execution_count": 21,
   "metadata": {},
   "outputs": [
    {
     "data": {
      "text/html": [
       "<div>\n",
       "<style scoped>\n",
       "    .dataframe tbody tr th:only-of-type {\n",
       "        vertical-align: middle;\n",
       "    }\n",
       "\n",
       "    .dataframe tbody tr th {\n",
       "        vertical-align: top;\n",
       "    }\n",
       "\n",
       "    .dataframe thead th {\n",
       "        text-align: right;\n",
       "    }\n",
       "</style>\n",
       "<table border=\"1\" class=\"dataframe\">\n",
       "  <thead>\n",
       "    <tr style=\"text-align: right;\">\n",
       "      <th></th>\n",
       "      <th>user_id</th>\n",
       "      <th>source</th>\n",
       "    </tr>\n",
       "  </thead>\n",
       "  <tbody>\n",
       "    <tr>\n",
       "      <th>0</th>\n",
       "      <td>0001f83c-c6ac-4621-b7f0-8a28b283ac30</td>\n",
       "      <td>facebook_ads</td>\n",
       "    </tr>\n",
       "    <tr>\n",
       "      <th>1</th>\n",
       "      <td>00151b4f-ba38-44a8-a650-d7cf130a0105</td>\n",
       "      <td>yandex_direct</td>\n",
       "    </tr>\n",
       "    <tr>\n",
       "      <th>2</th>\n",
       "      <td>001aaea6-3d14-43f1-8ca8-7f48820f17aa</td>\n",
       "      <td>youtube_channel_reklama</td>\n",
       "    </tr>\n",
       "    <tr>\n",
       "      <th>3</th>\n",
       "      <td>001d39dc-366c-4021-9604-6a3b9ff01e25</td>\n",
       "      <td>instagram_new_adverts</td>\n",
       "    </tr>\n",
       "    <tr>\n",
       "      <th>4</th>\n",
       "      <td>002f508f-67b6-479f-814b-b05f00d4e995</td>\n",
       "      <td>facebook_ads</td>\n",
       "    </tr>\n",
       "  </tbody>\n",
       "</table>\n",
       "</div>"
      ],
      "text/plain": [
       "                                user_id                   source\n",
       "0  0001f83c-c6ac-4621-b7f0-8a28b283ac30             facebook_ads\n",
       "1  00151b4f-ba38-44a8-a650-d7cf130a0105            yandex_direct\n",
       "2  001aaea6-3d14-43f1-8ca8-7f48820f17aa  youtube_channel_reklama\n",
       "3  001d39dc-366c-4021-9604-6a3b9ff01e25    instagram_new_adverts\n",
       "4  002f508f-67b6-479f-814b-b05f00d4e995             facebook_ads"
      ]
     },
     "execution_count": 21,
     "metadata": {},
     "output_type": "execute_result"
    }
   ],
   "source": [
    "users.head()"
   ]
  },
  {
   "cell_type": "code",
   "execution_count": 22,
   "metadata": {},
   "outputs": [
    {
     "name": "stdout",
     "output_type": "stream",
     "text": [
      "13576\n"
     ]
    },
    {
     "data": {
      "text/plain": [
       "['facebook_ads',\n",
       " 'yandex_direct',\n",
       " 'youtube_channel_reklama',\n",
       " 'instagram_new_adverts']"
      ]
     },
     "execution_count": 22,
     "metadata": {},
     "output_type": "execute_result"
    }
   ],
   "source": [
    "print(len(users['user_id'].unique()))\n",
    "users['source'].unique().tolist()"
   ]
  },
  {
   "cell_type": "markdown",
   "metadata": {},
   "source": [
    "### Объединение двух таблиц `game` и `users`, по столбцу `user_id`"
   ]
  },
  {
   "cell_type": "markdown",
   "metadata": {},
   "source": [
    "Объединим две данные таблицы по столбцу `user_id`"
   ]
  },
  {
   "cell_type": "code",
   "execution_count": 23,
   "metadata": {},
   "outputs": [],
   "source": [
    "df = pd.merge(game, users, on=\"user_id\")"
   ]
  },
  {
   "cell_type": "code",
   "execution_count": 24,
   "metadata": {
    "scrolled": false
   },
   "outputs": [
    {
     "data": {
      "text/html": [
       "<div>\n",
       "<style scoped>\n",
       "    .dataframe tbody tr th:only-of-type {\n",
       "        vertical-align: middle;\n",
       "    }\n",
       "\n",
       "    .dataframe tbody tr th {\n",
       "        vertical-align: top;\n",
       "    }\n",
       "\n",
       "    .dataframe thead th {\n",
       "        text-align: right;\n",
       "    }\n",
       "</style>\n",
       "<table border=\"1\" class=\"dataframe\">\n",
       "  <thead>\n",
       "    <tr style=\"text-align: right;\">\n",
       "      <th></th>\n",
       "      <th>date</th>\n",
       "      <th>event</th>\n",
       "      <th>building_type</th>\n",
       "      <th>user_id</th>\n",
       "      <th>source</th>\n",
       "    </tr>\n",
       "  </thead>\n",
       "  <tbody>\n",
       "    <tr>\n",
       "      <th>0</th>\n",
       "      <td>2020-05-04</td>\n",
       "      <td>building</td>\n",
       "      <td>assembly_shop</td>\n",
       "      <td>55e92310-cb8e-4754-b622-597e124b03de</td>\n",
       "      <td>youtube_channel_reklama</td>\n",
       "    </tr>\n",
       "    <tr>\n",
       "      <th>1</th>\n",
       "      <td>2020-05-05</td>\n",
       "      <td>building</td>\n",
       "      <td>assembly_shop</td>\n",
       "      <td>55e92310-cb8e-4754-b622-597e124b03de</td>\n",
       "      <td>youtube_channel_reklama</td>\n",
       "    </tr>\n",
       "    <tr>\n",
       "      <th>2</th>\n",
       "      <td>2020-05-05</td>\n",
       "      <td>building</td>\n",
       "      <td>assembly_shop</td>\n",
       "      <td>55e92310-cb8e-4754-b622-597e124b03de</td>\n",
       "      <td>youtube_channel_reklama</td>\n",
       "    </tr>\n",
       "    <tr>\n",
       "      <th>3</th>\n",
       "      <td>2020-05-05</td>\n",
       "      <td>building</td>\n",
       "      <td>assembly_shop</td>\n",
       "      <td>55e92310-cb8e-4754-b622-597e124b03de</td>\n",
       "      <td>youtube_channel_reklama</td>\n",
       "    </tr>\n",
       "    <tr>\n",
       "      <th>4</th>\n",
       "      <td>2020-05-06</td>\n",
       "      <td>building</td>\n",
       "      <td>assembly_shop</td>\n",
       "      <td>55e92310-cb8e-4754-b622-597e124b03de</td>\n",
       "      <td>youtube_channel_reklama</td>\n",
       "    </tr>\n",
       "  </tbody>\n",
       "</table>\n",
       "</div>"
      ],
      "text/plain": [
       "         date     event  building_type                               user_id  \\\n",
       "0  2020-05-04  building  assembly_shop  55e92310-cb8e-4754-b622-597e124b03de   \n",
       "1  2020-05-05  building  assembly_shop  55e92310-cb8e-4754-b622-597e124b03de   \n",
       "2  2020-05-05  building  assembly_shop  55e92310-cb8e-4754-b622-597e124b03de   \n",
       "3  2020-05-05  building  assembly_shop  55e92310-cb8e-4754-b622-597e124b03de   \n",
       "4  2020-05-06  building  assembly_shop  55e92310-cb8e-4754-b622-597e124b03de   \n",
       "\n",
       "                    source  \n",
       "0  youtube_channel_reklama  \n",
       "1  youtube_channel_reklama  \n",
       "2  youtube_channel_reklama  \n",
       "3  youtube_channel_reklama  \n",
       "4  youtube_channel_reklama  "
      ]
     },
     "execution_count": 24,
     "metadata": {},
     "output_type": "execute_result"
    }
   ],
   "source": [
    "df.head()"
   ]
  },
  {
   "cell_type": "markdown",
   "metadata": {},
   "source": [
    "### Разбивка событий по типу и по источнику канала"
   ]
  },
  {
   "cell_type": "code",
   "execution_count": 25,
   "metadata": {
    "scrolled": false
   },
   "outputs": [
    {
     "data": {
      "image/png": "[encoded data removed]",
      "text/plain": [
       "<Figure size 1296x432 with 2 Axes>"
      ]
     },
     "metadata": {
      "needs_background": "light"
     },
     "output_type": "display_data"
    }
   ],
   "source": [
    "fig, (ax1, ax2) = plt.subplots(1, 2)\n",
    "df['event'].value_counts().plot(kind='bar', ax=ax1, figsize=(18,6), alpha=0.5)\n",
    "plt.grid()\n",
    "users['source'].value_counts().plot(kind='bar', ax=ax2, figsize=(18,6), alpha=0.5)\n",
    "ylab = ax1.set_ylabel('Количество событий')\n",
    "xlab = ax1.set_xlabel('Событие')\n",
    "ax1.set_title(\"Распределение событий по типу\")\n",
    "ylab = ax2.set_ylabel('Количество пользователей')\n",
    "xlab = ax2.set_xlabel('Источник')\n",
    "ax2.set_title(\"Распределение количества пользователей по источникам\")\n",
    "ax1.tick_params(rotation = 0)\n",
    "ax2.tick_params(rotation = 0)\n",
    "ax1.grid()\n",
    "ax2.grid()\n",
    "\n",
    "\n",
    "plt.show()"
   ]
  },
  {
   "cell_type": "code",
   "execution_count": 26,
   "metadata": {
    "scrolled": false
   },
   "outputs": [
    {
     "data": {
      "image/png": "[encoded data removed]",
      "text/plain": [
       "<Figure size 1296x432 with 2 Axes>"
      ]
     },
     "metadata": {
      "needs_background": "light"
     },
     "output_type": "display_data"
    }
   ],
   "source": [
    "fig, (ax1, ax2) = plt.subplots(1, 2)\n",
    "df.groupby(['source', 'event']).size().unstack().plot(kind='bar', stacked=True, ax=ax1, figsize=(18,6), alpha=0.5)\n",
    "\n",
    "df.query('event != \"building\"').groupby(['source', 'event']).size().unstack().plot(kind='bar', stacked=True, ax=ax2, figsize=(18,6), alpha=0.5)\n",
    "\n",
    "ylab = ax1.set_ylabel('Количество собйтий')\n",
    "xlab = ax1.set_xlabel('Источник')\n",
    "ax1.set_title(\"Распределение количества событий в разрезе по источникам и типам событий\")\n",
    "\n",
    "ylab = ax2.set_ylabel('Количество событий')\n",
    "xlab = ax2.set_xlabel('Источник')\n",
    "ax2.set_title(\"Распределение количества событий в разрезе по источникам и \\n типам событий без учета постройки\")\n",
    "ax1.tick_params(rotation = 0)\n",
    "ax2.tick_params(rotation = 0)\n",
    "ax1.grid()\n",
    "ax2.grid()\n",
    "\n",
    "\n",
    "plt.show()"
   ]
  },
  {
   "cell_type": "markdown",
   "metadata": {},
   "source": [
    "по результатам таблиц, видим что \n",
    "- больше всего событий `building`, скорее всего это обусловлено тем, что один пользователь может построить несколько зданий.\n",
    "- наибольшее количество пользователей пришли с источника `yandex_direct`\n",
    "- больше всего получили `finished_stage_1` пользователи пришедшие с источника `yandex_direct`\n",
    "- Наибольшее количество зданий построили пользователи с источника `yandex_direct`, возможно это связано с тем, что там наибольшее количество пользователей. "
   ]
  },
  {
   "cell_type": "markdown",
   "metadata": {},
   "source": [
    "### Распределение количества пользователей по признаку завершения уровня и источнику канала"
   ]
  },
  {
   "cell_type": "markdown",
   "metadata": {},
   "source": [
    "Для этого нужно создать отдельный датафрейм, с уникальными значениями пользователей.\n",
    "\n",
    "Для начала найдем даты когда игроки получили `project`, `finished_stage_1` "
   ]
  },
  {
   "cell_type": "code",
   "execution_count": 27,
   "metadata": {},
   "outputs": [],
   "source": [
    "project_date = df[df['event'] == 'project'].sort_values(by = ['user_id', 'date']).groupby('user_id')['date'].first()\n",
    "finish_date = df[df['event'] == 'finished_stage_1'].sort_values(by = ['user_id', 'date']).groupby('user_id')['date'].first()"
   ]
  },
  {
   "cell_type": "markdown",
   "metadata": {},
   "source": [
    "Далее составим датафрейм"
   ]
  },
  {
   "cell_type": "code",
   "execution_count": 28,
   "metadata": {
    "scrolled": false
   },
   "outputs": [],
   "source": [
    "users_unique = pd.merge(users, project_date, on = 'user_id', how='left')\n",
    "users_unique = users_unique.rename(columns = {'date':'project_date'})\n",
    "\n",
    "users_unique = pd.merge(users_unique, finish_date, on = 'user_id', how='left')\n",
    "users_unique = users_unique.rename(columns = {'date':'finish_date'})"
   ]
  },
  {
   "cell_type": "code",
   "execution_count": 29,
   "metadata": {},
   "outputs": [],
   "source": [
    "users_unique['is_finished'] = pd.notna(users_unique['finish_date'])\n",
    "users_unique['project_finished'] = pd.notna(users_unique['project_date'])\n"
   ]
  },
  {
   "cell_type": "code",
   "execution_count": 30,
   "metadata": {
    "scrolled": true
   },
   "outputs": [
    {
     "data": {
      "text/html": [
       "<div>\n",
       "<style scoped>\n",
       "    .dataframe tbody tr th:only-of-type {\n",
       "        vertical-align: middle;\n",
       "    }\n",
       "\n",
       "    .dataframe tbody tr th {\n",
       "        vertical-align: top;\n",
       "    }\n",
       "\n",
       "    .dataframe thead th {\n",
       "        text-align: right;\n",
       "    }\n",
       "</style>\n",
       "<table border=\"1\" class=\"dataframe\">\n",
       "  <thead>\n",
       "    <tr style=\"text-align: right;\">\n",
       "      <th></th>\n",
       "      <th>user_id</th>\n",
       "      <th>source</th>\n",
       "      <th>project_date</th>\n",
       "      <th>finish_date</th>\n",
       "      <th>is_finished</th>\n",
       "      <th>project_finished</th>\n",
       "    </tr>\n",
       "  </thead>\n",
       "  <tbody>\n",
       "    <tr>\n",
       "      <th>0</th>\n",
       "      <td>0001f83c-c6ac-4621-b7f0-8a28b283ac30</td>\n",
       "      <td>facebook_ads</td>\n",
       "      <td>NaN</td>\n",
       "      <td>NaN</td>\n",
       "      <td>False</td>\n",
       "      <td>False</td>\n",
       "    </tr>\n",
       "    <tr>\n",
       "      <th>1</th>\n",
       "      <td>00151b4f-ba38-44a8-a650-d7cf130a0105</td>\n",
       "      <td>yandex_direct</td>\n",
       "      <td>NaN</td>\n",
       "      <td>NaN</td>\n",
       "      <td>False</td>\n",
       "      <td>False</td>\n",
       "    </tr>\n",
       "    <tr>\n",
       "      <th>2</th>\n",
       "      <td>001aaea6-3d14-43f1-8ca8-7f48820f17aa</td>\n",
       "      <td>youtube_channel_reklama</td>\n",
       "      <td>NaN</td>\n",
       "      <td>NaN</td>\n",
       "      <td>False</td>\n",
       "      <td>False</td>\n",
       "    </tr>\n",
       "    <tr>\n",
       "      <th>3</th>\n",
       "      <td>001d39dc-366c-4021-9604-6a3b9ff01e25</td>\n",
       "      <td>instagram_new_adverts</td>\n",
       "      <td>NaN</td>\n",
       "      <td>2020-05-12</td>\n",
       "      <td>True</td>\n",
       "      <td>False</td>\n",
       "    </tr>\n",
       "    <tr>\n",
       "      <th>4</th>\n",
       "      <td>002f508f-67b6-479f-814b-b05f00d4e995</td>\n",
       "      <td>facebook_ads</td>\n",
       "      <td>NaN</td>\n",
       "      <td>NaN</td>\n",
       "      <td>False</td>\n",
       "      <td>False</td>\n",
       "    </tr>\n",
       "  </tbody>\n",
       "</table>\n",
       "</div>"
      ],
      "text/plain": [
       "                                user_id                   source project_date  \\\n",
       "0  0001f83c-c6ac-4621-b7f0-8a28b283ac30             facebook_ads          NaN   \n",
       "1  00151b4f-ba38-44a8-a650-d7cf130a0105            yandex_direct          NaN   \n",
       "2  001aaea6-3d14-43f1-8ca8-7f48820f17aa  youtube_channel_reklama          NaN   \n",
       "3  001d39dc-366c-4021-9604-6a3b9ff01e25    instagram_new_adverts          NaN   \n",
       "4  002f508f-67b6-479f-814b-b05f00d4e995             facebook_ads          NaN   \n",
       "\n",
       "  finish_date  is_finished  project_finished  \n",
       "0         NaN        False             False  \n",
       "1         NaN        False             False  \n",
       "2         NaN        False             False  \n",
       "3  2020-05-12         True             False  \n",
       "4         NaN        False             False  "
      ]
     },
     "execution_count": 30,
     "metadata": {},
     "output_type": "execute_result"
    }
   ],
   "source": [
    "users_unique.head()"
   ]
  },
  {
   "cell_type": "markdown",
   "metadata": {},
   "source": [
    "Выведем, долю прохождения уровня среди всех пользователей\n"
   ]
  },
  {
   "cell_type": "code",
   "execution_count": 31,
   "metadata": {},
   "outputs": [
    {
     "name": "stdout",
     "output_type": "stream",
     "text": [
      "Доля завершивших первый уровень\n"
     ]
    },
    {
     "data": {
      "text/plain": [
       "42.85"
      ]
     },
     "execution_count": 31,
     "metadata": {},
     "output_type": "execute_result"
    }
   ],
   "source": [
    "print('Доля завершивших первый уровень')\n",
    "round(len(users_unique.query('is_finished == True'))/len(users_unique) *100, 2)"
   ]
  },
  {
   "cell_type": "code",
   "execution_count": 32,
   "metadata": {
    "scrolled": false
   },
   "outputs": [
    {
     "data": {
      "image/png": "[encoded data removed]",
      "text/plain": [
       "<Figure size 576x432 with 1 Axes>"
      ]
     },
     "metadata": {
      "needs_background": "light"
     },
     "output_type": "display_data"
    }
   ],
   "source": [
    "users_unique.groupby(['is_finished']).size().plot(kind='bar',figsize=(8,6), alpha = 0.5)\n",
    "plt.xticks(rotation = 0)\n",
    "plt.title('Распределение количества пользователей по признаку прохождения уровня')\n",
    "plt.xlabel('Прошел ли уровень?')\n",
    "plt.ylabel('Количество уникальных пользователей')\n",
    "plt.grid()\n",
    "\n",
    "plt.show()"
   ]
  },
  {
   "cell_type": "markdown",
   "metadata": {},
   "source": [
    "Рассмотрим количество пользователей победивших первого врага, пользователей - исследователей и пользователей не прошедших уровень"
   ]
  },
  {
   "cell_type": "code",
   "execution_count": 33,
   "metadata": {},
   "outputs": [
    {
     "data": {
      "text/html": [
       "<div>\n",
       "<style scoped>\n",
       "    .dataframe tbody tr th:only-of-type {\n",
       "        vertical-align: middle;\n",
       "    }\n",
       "\n",
       "    .dataframe tbody tr th {\n",
       "        vertical-align: top;\n",
       "    }\n",
       "\n",
       "    .dataframe thead th {\n",
       "        text-align: right;\n",
       "    }\n",
       "</style>\n",
       "<table border=\"1\" class=\"dataframe\">\n",
       "  <thead>\n",
       "    <tr style=\"text-align: right;\">\n",
       "      <th></th>\n",
       "      <th>researcher</th>\n",
       "      <th>win_enemy</th>\n",
       "      <th>not_finished</th>\n",
       "    </tr>\n",
       "  </thead>\n",
       "  <tbody>\n",
       "    <tr>\n",
       "      <th>0</th>\n",
       "      <td>1866</td>\n",
       "      <td>3951</td>\n",
       "      <td>7759</td>\n",
       "    </tr>\n",
       "  </tbody>\n",
       "</table>\n",
       "</div>"
      ],
      "text/plain": [
       "   researcher  win_enemy  not_finished\n",
       "0        1866       3951          7759"
      ]
     },
     "execution_count": 33,
     "metadata": {},
     "output_type": "execute_result"
    }
   ],
   "source": [
    "#Количество пользователей - исследователей( пользователи, построившие станцию и прошли уровень)\n",
    "v1 = len(users_unique.query('project_finished == True'))\n",
    "#Количество пользователей, победивших первого врага и прошедших уровень автоматически\n",
    "v2 = len(users_unique.query('is_finished == True & project_finished == False'))\n",
    "#Количество пользователей, не прошедших уровень\n",
    "v3 = len(users_unique.query('is_finished == False & project_finished == False'))\n",
    "\n",
    "d = {'researcher': [v1], 'win_enemy': [v2], 'not_finished': [v3]}\n",
    "data = pd.DataFrame(data=d)\n",
    "data"
   ]
  },
  {
   "cell_type": "code",
   "execution_count": 34,
   "metadata": {
    "scrolled": false
   },
   "outputs": [
    {
     "data": {
      "image/png": "[encoded data removed]",
      "text/plain": [
       "<Figure size 720x432 with 1 Axes>"
      ]
     },
     "metadata": {
      "needs_background": "light"
     },
     "output_type": "display_data"
    }
   ],
   "source": [
    "data.plot(kind='bar',figsize=(10,6), alpha = 0.5)\n",
    "plt.xticks(rotation = 0)\n",
    "plt.title('Распределение количества пользователей по типу прохождения уровня')\n",
    "plt.xlabel('Источники')\n",
    "plt.ylabel('Количество')\n",
    "plt.grid()\n",
    "\n",
    "plt.show()"
   ]
  },
  {
   "cell_type": "markdown",
   "metadata": {},
   "source": [
    "Выводы:\n",
    "- Доля пользователей завершивших первый уровень составляет 42.85%\n",
    "- Доля пользователей завершивших уровень меньше доли не завершивших уровень\n",
    "- Игроки чаще проходят уровень побеждая первого врага\n",
    "- Игроков исследователей оказалось почти в два раза меньше игроков прошедших уровень победив своего первого врага"
   ]
  },
  {
   "cell_type": "markdown",
   "metadata": {},
   "source": [
    "Рассмотрим столбчатую диаграмму пользователей по признаку прохождения первого уровня в разрезе по источникам канала"
   ]
  },
  {
   "cell_type": "code",
   "execution_count": 35,
   "metadata": {},
   "outputs": [
    {
     "data": {
      "image/png": "[encoded data removed]",
      "text/plain": [
       "<Figure size 1080x432 with 1 Axes>"
      ]
     },
     "metadata": {
      "needs_background": "light"
     },
     "output_type": "display_data"
    }
   ],
   "source": [
    "users_unique.groupby(['source', 'is_finished']).size().unstack().plot(kind='bar', stacked=True, figsize=(15,6), alpha = 0.5)\n",
    "plt.xticks(rotation = 0)\n",
    "plt.title('Распределение пользователей по признаку прохождения первого уровня в разрезе по источникам канала')\n",
    "plt.xlabel('Источники')\n",
    "plt.ylabel('Количество')\n",
    "plt.grid()\n",
    "\n",
    "plt.show()"
   ]
  },
  {
   "cell_type": "markdown",
   "metadata": {},
   "source": [
    "Доли пользователей прошедших первый уровень и не прошедших первый уровень в разрезе по источникам не сильно отличаются."
   ]
  },
  {
   "cell_type": "markdown",
   "metadata": {},
   "source": [
    "Распределение количества пользователей с значением finished_stage_1 в разрезе по источникам канала"
   ]
  },
  {
   "cell_type": "code",
   "execution_count": 36,
   "metadata": {},
   "outputs": [
    {
     "data": {
      "image/png": "[encoded data removed]",
      "text/plain": [
       "<Figure size 1296x432 with 1 Axes>"
      ]
     },
     "metadata": {
      "needs_background": "light"
     },
     "output_type": "display_data"
    }
   ],
   "source": [
    "users_unique.query('is_finished == True & project_finished == False').groupby(['source']).size().plot(kind='bar',figsize=(18,6), alpha = 0.5)\n",
    "plt.xticks(rotation = 0)\n",
    "plt.title('Распределение количества пользователей прошедших уровень методом победы врага в разрезе по источникам канала')\n",
    "plt.xlabel('Источники')\n",
    "plt.ylabel('Количество')\n",
    "plt.grid()\n",
    "\n",
    "plt.show()"
   ]
  },
  {
   "cell_type": "markdown",
   "metadata": {},
   "source": [
    "Далее выведем с событием `project`"
   ]
  },
  {
   "cell_type": "code",
   "execution_count": 37,
   "metadata": {},
   "outputs": [
    {
     "data": {
      "image/png": "[encoded data removed]",
      "text/plain": [
       "<Figure size 1296x432 with 1 Axes>"
      ]
     },
     "metadata": {
      "needs_background": "light"
     },
     "output_type": "display_data"
    }
   ],
   "source": [
    "users_unique.query('is_finished == True & project_finished == True').groupby(['source']).size().plot(kind='bar',figsize=(18,6), alpha = 0.5)\n",
    "plt.xticks(rotation = 0)\n",
    "plt.title('Распределение количества пользователей прошедших уровень методом победы врага в разрезе по источникам канала')\n",
    "plt.xlabel('Источники')\n",
    "plt.ylabel('Количество')\n",
    "plt.grid()\n",
    "\n",
    "plt.show()"
   ]
  },
  {
   "cell_type": "markdown",
   "metadata": {},
   "source": [
    "- Доли пользователей прошедших первый уровень двумя разными способами также не сильно отличаются"
   ]
  },
  {
   "cell_type": "markdown",
   "metadata": {},
   "source": [
    "###  Среднее количество дней для завершения уровня в разрезе по источнику канала"
   ]
  },
  {
   "cell_type": "markdown",
   "metadata": {},
   "source": [
    "Для начала, выведем первый и последний дни игры пользователя, и соединим с датафреймом с уникальными пользователями"
   ]
  },
  {
   "cell_type": "code",
   "execution_count": 38,
   "metadata": {},
   "outputs": [],
   "source": [
    "first_date = df.sort_values(by=['user_id', 'date']).groupby('user_id')['date'].first()\n",
    "last_date = df.sort_values(by=['user_id', 'date']).groupby('user_id')['date'].last()\n"
   ]
  },
  {
   "cell_type": "code",
   "execution_count": 39,
   "metadata": {},
   "outputs": [],
   "source": [
    "users_unique = pd.merge(users_unique, first_date, on = 'user_id', how='left')\n",
    "users_unique = users_unique.rename(columns = {'date':'first_date'})\n",
    "\n",
    "users_unique = pd.merge(users_unique, last_date, on = 'user_id', how='left')\n",
    "users_unique = users_unique.rename(columns = {'date':'last_date'})\n"
   ]
  },
  {
   "cell_type": "code",
   "execution_count": 40,
   "metadata": {
    "scrolled": false
   },
   "outputs": [
    {
     "data": {
      "text/html": [
       "<div>\n",
       "<style scoped>\n",
       "    .dataframe tbody tr th:only-of-type {\n",
       "        vertical-align: middle;\n",
       "    }\n",
       "\n",
       "    .dataframe tbody tr th {\n",
       "        vertical-align: top;\n",
       "    }\n",
       "\n",
       "    .dataframe thead th {\n",
       "        text-align: right;\n",
       "    }\n",
       "</style>\n",
       "<table border=\"1\" class=\"dataframe\">\n",
       "  <thead>\n",
       "    <tr style=\"text-align: right;\">\n",
       "      <th></th>\n",
       "      <th>user_id</th>\n",
       "      <th>source</th>\n",
       "      <th>project_date</th>\n",
       "      <th>finish_date</th>\n",
       "      <th>is_finished</th>\n",
       "      <th>project_finished</th>\n",
       "      <th>first_date</th>\n",
       "      <th>last_date</th>\n",
       "    </tr>\n",
       "  </thead>\n",
       "  <tbody>\n",
       "    <tr>\n",
       "      <th>0</th>\n",
       "      <td>0001f83c-c6ac-4621-b7f0-8a28b283ac30</td>\n",
       "      <td>facebook_ads</td>\n",
       "      <td>NaN</td>\n",
       "      <td>NaN</td>\n",
       "      <td>False</td>\n",
       "      <td>False</td>\n",
       "      <td>2020-05-06</td>\n",
       "      <td>2020-05-20</td>\n",
       "    </tr>\n",
       "    <tr>\n",
       "      <th>1</th>\n",
       "      <td>00151b4f-ba38-44a8-a650-d7cf130a0105</td>\n",
       "      <td>yandex_direct</td>\n",
       "      <td>NaN</td>\n",
       "      <td>NaN</td>\n",
       "      <td>False</td>\n",
       "      <td>False</td>\n",
       "      <td>2020-05-06</td>\n",
       "      <td>2020-05-18</td>\n",
       "    </tr>\n",
       "    <tr>\n",
       "      <th>2</th>\n",
       "      <td>001aaea6-3d14-43f1-8ca8-7f48820f17aa</td>\n",
       "      <td>youtube_channel_reklama</td>\n",
       "      <td>NaN</td>\n",
       "      <td>NaN</td>\n",
       "      <td>False</td>\n",
       "      <td>False</td>\n",
       "      <td>2020-05-05</td>\n",
       "      <td>2020-05-14</td>\n",
       "    </tr>\n",
       "    <tr>\n",
       "      <th>3</th>\n",
       "      <td>001d39dc-366c-4021-9604-6a3b9ff01e25</td>\n",
       "      <td>instagram_new_adverts</td>\n",
       "      <td>NaN</td>\n",
       "      <td>2020-05-12</td>\n",
       "      <td>True</td>\n",
       "      <td>False</td>\n",
       "      <td>2020-05-05</td>\n",
       "      <td>2020-05-12</td>\n",
       "    </tr>\n",
       "    <tr>\n",
       "      <th>4</th>\n",
       "      <td>002f508f-67b6-479f-814b-b05f00d4e995</td>\n",
       "      <td>facebook_ads</td>\n",
       "      <td>NaN</td>\n",
       "      <td>NaN</td>\n",
       "      <td>False</td>\n",
       "      <td>False</td>\n",
       "      <td>2020-05-05</td>\n",
       "      <td>2020-05-22</td>\n",
       "    </tr>\n",
       "  </tbody>\n",
       "</table>\n",
       "</div>"
      ],
      "text/plain": [
       "                                user_id                   source project_date  \\\n",
       "0  0001f83c-c6ac-4621-b7f0-8a28b283ac30             facebook_ads          NaN   \n",
       "1  00151b4f-ba38-44a8-a650-d7cf130a0105            yandex_direct          NaN   \n",
       "2  001aaea6-3d14-43f1-8ca8-7f48820f17aa  youtube_channel_reklama          NaN   \n",
       "3  001d39dc-366c-4021-9604-6a3b9ff01e25    instagram_new_adverts          NaN   \n",
       "4  002f508f-67b6-479f-814b-b05f00d4e995             facebook_ads          NaN   \n",
       "\n",
       "  finish_date  is_finished  project_finished  first_date   last_date  \n",
       "0         NaN        False             False  2020-05-06  2020-05-20  \n",
       "1         NaN        False             False  2020-05-06  2020-05-18  \n",
       "2         NaN        False             False  2020-05-05  2020-05-14  \n",
       "3  2020-05-12         True             False  2020-05-05  2020-05-12  \n",
       "4         NaN        False             False  2020-05-05  2020-05-22  "
      ]
     },
     "execution_count": 40,
     "metadata": {},
     "output_type": "execute_result"
    }
   ],
   "source": [
    "users_unique.head()"
   ]
  },
  {
   "cell_type": "markdown",
   "metadata": {},
   "source": [
    "Далее высчитаем сколько дней проводят пользователи в игре"
   ]
  },
  {
   "cell_type": "code",
   "execution_count": 41,
   "metadata": {},
   "outputs": [
    {
     "data": {
      "text/html": [
       "<div>\n",
       "<style scoped>\n",
       "    .dataframe tbody tr th:only-of-type {\n",
       "        vertical-align: middle;\n",
       "    }\n",
       "\n",
       "    .dataframe tbody tr th {\n",
       "        vertical-align: top;\n",
       "    }\n",
       "\n",
       "    .dataframe thead th {\n",
       "        text-align: right;\n",
       "    }\n",
       "</style>\n",
       "<table border=\"1\" class=\"dataframe\">\n",
       "  <thead>\n",
       "    <tr style=\"text-align: right;\">\n",
       "      <th></th>\n",
       "      <th>user_id</th>\n",
       "      <th>source</th>\n",
       "      <th>project_date</th>\n",
       "      <th>finish_date</th>\n",
       "      <th>is_finished</th>\n",
       "      <th>project_finished</th>\n",
       "      <th>first_date</th>\n",
       "      <th>last_date</th>\n",
       "      <th>days</th>\n",
       "    </tr>\n",
       "  </thead>\n",
       "  <tbody>\n",
       "    <tr>\n",
       "      <th>0</th>\n",
       "      <td>0001f83c-c6ac-4621-b7f0-8a28b283ac30</td>\n",
       "      <td>facebook_ads</td>\n",
       "      <td>NaN</td>\n",
       "      <td>NaN</td>\n",
       "      <td>False</td>\n",
       "      <td>False</td>\n",
       "      <td>2020-05-06</td>\n",
       "      <td>2020-05-20</td>\n",
       "      <td>14</td>\n",
       "    </tr>\n",
       "    <tr>\n",
       "      <th>1</th>\n",
       "      <td>00151b4f-ba38-44a8-a650-d7cf130a0105</td>\n",
       "      <td>yandex_direct</td>\n",
       "      <td>NaN</td>\n",
       "      <td>NaN</td>\n",
       "      <td>False</td>\n",
       "      <td>False</td>\n",
       "      <td>2020-05-06</td>\n",
       "      <td>2020-05-18</td>\n",
       "      <td>12</td>\n",
       "    </tr>\n",
       "    <tr>\n",
       "      <th>2</th>\n",
       "      <td>001aaea6-3d14-43f1-8ca8-7f48820f17aa</td>\n",
       "      <td>youtube_channel_reklama</td>\n",
       "      <td>NaN</td>\n",
       "      <td>NaN</td>\n",
       "      <td>False</td>\n",
       "      <td>False</td>\n",
       "      <td>2020-05-05</td>\n",
       "      <td>2020-05-14</td>\n",
       "      <td>9</td>\n",
       "    </tr>\n",
       "    <tr>\n",
       "      <th>3</th>\n",
       "      <td>001d39dc-366c-4021-9604-6a3b9ff01e25</td>\n",
       "      <td>instagram_new_adverts</td>\n",
       "      <td>NaN</td>\n",
       "      <td>2020-05-12</td>\n",
       "      <td>True</td>\n",
       "      <td>False</td>\n",
       "      <td>2020-05-05</td>\n",
       "      <td>2020-05-12</td>\n",
       "      <td>7</td>\n",
       "    </tr>\n",
       "    <tr>\n",
       "      <th>4</th>\n",
       "      <td>002f508f-67b6-479f-814b-b05f00d4e995</td>\n",
       "      <td>facebook_ads</td>\n",
       "      <td>NaN</td>\n",
       "      <td>NaN</td>\n",
       "      <td>False</td>\n",
       "      <td>False</td>\n",
       "      <td>2020-05-05</td>\n",
       "      <td>2020-05-22</td>\n",
       "      <td>17</td>\n",
       "    </tr>\n",
       "  </tbody>\n",
       "</table>\n",
       "</div>"
      ],
      "text/plain": [
       "                                user_id                   source project_date  \\\n",
       "0  0001f83c-c6ac-4621-b7f0-8a28b283ac30             facebook_ads          NaN   \n",
       "1  00151b4f-ba38-44a8-a650-d7cf130a0105            yandex_direct          NaN   \n",
       "2  001aaea6-3d14-43f1-8ca8-7f48820f17aa  youtube_channel_reklama          NaN   \n",
       "3  001d39dc-366c-4021-9604-6a3b9ff01e25    instagram_new_adverts          NaN   \n",
       "4  002f508f-67b6-479f-814b-b05f00d4e995             facebook_ads          NaN   \n",
       "\n",
       "  finish_date  is_finished  project_finished  first_date   last_date  days  \n",
       "0         NaN        False             False  2020-05-06  2020-05-20    14  \n",
       "1         NaN        False             False  2020-05-06  2020-05-18    12  \n",
       "2         NaN        False             False  2020-05-05  2020-05-14     9  \n",
       "3  2020-05-12         True             False  2020-05-05  2020-05-12     7  \n",
       "4         NaN        False             False  2020-05-05  2020-05-22    17  "
      ]
     },
     "execution_count": 41,
     "metadata": {},
     "output_type": "execute_result"
    }
   ],
   "source": [
    "users_unique['days'] = (users_unique['last_date'] - users_unique['first_date']).dt.days \n",
    "users_unique.head()"
   ]
  },
  {
   "cell_type": "markdown",
   "metadata": {},
   "source": [
    "Выведем столбчатую диаграмму, показывающую на какой день пользователи заканчивают первый уровень"
   ]
  },
  {
   "cell_type": "code",
   "execution_count": 42,
   "metadata": {},
   "outputs": [
    {
     "data": {
      "image/png": "[encoded data removed]",
      "text/plain": [
       "<Figure size 1296x432 with 1 Axes>"
      ]
     },
     "metadata": {
      "needs_background": "light"
     },
     "output_type": "display_data"
    }
   ],
   "source": [
    "users_unique.query('is_finished == True').groupby(['days']).size().plot(kind='bar',  figsize=(18,6), alpha=0.5)\n",
    "plt.xticks(rotation = 0)\n",
    "plt.title('Распределение количества пользователей по дням завершения уровня')\n",
    "plt.xlabel('Дни')\n",
    "plt.ylabel('Количество пользователей')\n",
    "plt.grid()\n",
    "plt.show()\n",
    "plt.show()"
   ]
  },
  {
   "cell_type": "code",
   "execution_count": 43,
   "metadata": {},
   "outputs": [
    {
     "data": {
      "image/png": "[encoded data removed]",
      "text/plain": [
       "<Figure size 1296x432 with 4 Axes>"
      ]
     },
     "metadata": {
      "needs_background": "light"
     },
     "output_type": "display_data"
    }
   ],
   "source": [
    "fig, ((ax1, ax2), (ax3, ax4)) = plt.subplots(2, 2)\n",
    "users_unique.query('is_finished == True & source == \"facebook_ads\"').groupby(['days']).size().plot(kind='bar',  figsize=(18,6),  ax=ax1, alpha=0.5)\n",
    "users_unique.query('is_finished == True & source == \"instagram_new_adverts\"').groupby(['days']).size().plot(kind='bar',  figsize=(18,6), ax=ax2, alpha=0.5)\n",
    "\n",
    "users_unique.query('is_finished == True & source == \"yandex_direct\"').groupby(['days']).size().plot(kind='bar',  figsize=(18,6), ax=ax3, alpha=0.5)\n",
    "users_unique.query('is_finished == True & source == \"youtube_channel_reklama\"').groupby(['days']).size().plot(kind='bar',  figsize=(18,6), ax=ax4, alpha=0.5)\n",
    "\n",
    "fig.tight_layout(pad=3.0)\n",
    "\n",
    "ylab = ax1.set_ylabel('Количество')\n",
    "xlab = ax1.set_xlabel('Источник')\n",
    "ylab = ax2.set_ylabel('Количество')\n",
    "xlab = ax2.set_xlabel('Источник')\n",
    "ylab = ax3.set_ylabel('Количество')\n",
    "xlab = ax3.set_xlabel('Источник')\n",
    "ylab = ax4.set_ylabel('Количество')\n",
    "xlab = ax4.set_xlabel('Источник')\n",
    "\n",
    "ax1.set_title(\"Источник facebook_ads\")\n",
    "ax2.set_title(\"Источник instagram_new_adverts\")\n",
    "ax3.set_title(\"Источника yandex_direct\")\n",
    "ax4.set_title(\"Источника youtube_channel_reklama\")\n",
    "\n",
    "ax1.tick_params(rotation = 0)\n",
    "ax2.tick_params(rotation = 0)\n",
    "ax3.tick_params(rotation = 0)\n",
    "ax4.tick_params(rotation = 0)\n",
    "\n",
    "ax1.grid()\n",
    "ax2.grid()\n",
    "ax3.grid()\n",
    "ax4.grid()\n",
    "\n",
    "plt.show()"
   ]
  },
  {
   "cell_type": "markdown",
   "metadata": {},
   "source": [
    "По результатам графиков можно определить, что:\n",
    "- Максимальное количество пользователей закончили первый уровень на 11-й день игры\n",
    "- По данным таблиц по источникам, также видим, что максимальное количество пользователей заканчивают первый уровень на 11-й день игры"
   ]
  },
  {
   "cell_type": "markdown",
   "metadata": {},
   "source": [
    "###  Исследование построек по типам зданий"
   ]
  },
  {
   "cell_type": "code",
   "execution_count": 45,
   "metadata": {
    "scrolled": false
   },
   "outputs": [
    {
     "data": {
      "image/png": "[encoded data removed]",
      "text/plain": [
       "<Figure size 720x432 with 1 Axes>"
      ]
     },
     "metadata": {
      "needs_background": "light"
     },
     "output_type": "display_data"
    }
   ],
   "source": [
    "df.groupby(['building_type']).size().sort_values(ascending = False).plot(kind='bar', figsize=(10,6), alpha=0.5)\n",
    "plt.xticks(rotation = 0)\n",
    "plt.title('Распределение количества событий по типам зданий')\n",
    "plt.xlabel('Тип здания')\n",
    "plt.ylabel('Количество построек')\n",
    "plt.grid()\n",
    "\n",
    "plt.show()"
   ]
  },
  {
   "cell_type": "markdown",
   "metadata": {},
   "source": [
    "- Пользователи чаще всего строят `spaceport` и `assembly_shop`"
   ]
  },
  {
   "cell_type": "markdown",
   "metadata": {},
   "source": [
    "Далее рассмотрим распределение количества зданий по типам в разрезе по дням, для этого добавим в датафрейм значения первого, последнего дней и количество дней проведенных в игре"
   ]
  },
  {
   "cell_type": "code",
   "execution_count": 46,
   "metadata": {},
   "outputs": [],
   "source": [
    "first_date = df.sort_values(by=['user_id', 'date']).groupby('user_id')['date'].first()\n",
    "last_date = df.sort_values(by=['user_id', 'date']).groupby('user_id')['date'].last()\n"
   ]
  },
  {
   "cell_type": "code",
   "execution_count": 47,
   "metadata": {
    "scrolled": true
   },
   "outputs": [
    {
     "data": {
      "text/html": [
       "<div>\n",
       "<style scoped>\n",
       "    .dataframe tbody tr th:only-of-type {\n",
       "        vertical-align: middle;\n",
       "    }\n",
       "\n",
       "    .dataframe tbody tr th {\n",
       "        vertical-align: top;\n",
       "    }\n",
       "\n",
       "    .dataframe thead th {\n",
       "        text-align: right;\n",
       "    }\n",
       "</style>\n",
       "<table border=\"1\" class=\"dataframe\">\n",
       "  <thead>\n",
       "    <tr style=\"text-align: right;\">\n",
       "      <th></th>\n",
       "      <th>date</th>\n",
       "      <th>event</th>\n",
       "      <th>building_type</th>\n",
       "      <th>user_id</th>\n",
       "      <th>source</th>\n",
       "      <th>first_day</th>\n",
       "      <th>last_day</th>\n",
       "    </tr>\n",
       "  </thead>\n",
       "  <tbody>\n",
       "    <tr>\n",
       "      <th>0</th>\n",
       "      <td>2020-05-04</td>\n",
       "      <td>building</td>\n",
       "      <td>assembly_shop</td>\n",
       "      <td>55e92310-cb8e-4754-b622-597e124b03de</td>\n",
       "      <td>youtube_channel_reklama</td>\n",
       "      <td>2020-05-04</td>\n",
       "      <td>2020-05-10</td>\n",
       "    </tr>\n",
       "    <tr>\n",
       "      <th>1</th>\n",
       "      <td>2020-05-05</td>\n",
       "      <td>building</td>\n",
       "      <td>assembly_shop</td>\n",
       "      <td>55e92310-cb8e-4754-b622-597e124b03de</td>\n",
       "      <td>youtube_channel_reklama</td>\n",
       "      <td>2020-05-04</td>\n",
       "      <td>2020-05-10</td>\n",
       "    </tr>\n",
       "    <tr>\n",
       "      <th>2</th>\n",
       "      <td>2020-05-05</td>\n",
       "      <td>building</td>\n",
       "      <td>assembly_shop</td>\n",
       "      <td>55e92310-cb8e-4754-b622-597e124b03de</td>\n",
       "      <td>youtube_channel_reklama</td>\n",
       "      <td>2020-05-04</td>\n",
       "      <td>2020-05-10</td>\n",
       "    </tr>\n",
       "    <tr>\n",
       "      <th>3</th>\n",
       "      <td>2020-05-05</td>\n",
       "      <td>building</td>\n",
       "      <td>assembly_shop</td>\n",
       "      <td>55e92310-cb8e-4754-b622-597e124b03de</td>\n",
       "      <td>youtube_channel_reklama</td>\n",
       "      <td>2020-05-04</td>\n",
       "      <td>2020-05-10</td>\n",
       "    </tr>\n",
       "    <tr>\n",
       "      <th>4</th>\n",
       "      <td>2020-05-06</td>\n",
       "      <td>building</td>\n",
       "      <td>assembly_shop</td>\n",
       "      <td>55e92310-cb8e-4754-b622-597e124b03de</td>\n",
       "      <td>youtube_channel_reklama</td>\n",
       "      <td>2020-05-04</td>\n",
       "      <td>2020-05-10</td>\n",
       "    </tr>\n",
       "  </tbody>\n",
       "</table>\n",
       "</div>"
      ],
      "text/plain": [
       "         date     event  building_type                               user_id  \\\n",
       "0  2020-05-04  building  assembly_shop  55e92310-cb8e-4754-b622-597e124b03de   \n",
       "1  2020-05-05  building  assembly_shop  55e92310-cb8e-4754-b622-597e124b03de   \n",
       "2  2020-05-05  building  assembly_shop  55e92310-cb8e-4754-b622-597e124b03de   \n",
       "3  2020-05-05  building  assembly_shop  55e92310-cb8e-4754-b622-597e124b03de   \n",
       "4  2020-05-06  building  assembly_shop  55e92310-cb8e-4754-b622-597e124b03de   \n",
       "\n",
       "                    source   first_day    last_day  \n",
       "0  youtube_channel_reklama  2020-05-04  2020-05-10  \n",
       "1  youtube_channel_reklama  2020-05-04  2020-05-10  \n",
       "2  youtube_channel_reklama  2020-05-04  2020-05-10  \n",
       "3  youtube_channel_reklama  2020-05-04  2020-05-10  \n",
       "4  youtube_channel_reklama  2020-05-04  2020-05-10  "
      ]
     },
     "execution_count": 47,
     "metadata": {},
     "output_type": "execute_result"
    }
   ],
   "source": [
    "df = pd.merge(df, first_date, on = 'user_id', how='left')\n",
    "df = df.rename(columns = {'date_x':'date', 'date_y':'first_day'})\n",
    "\n",
    "df = pd.merge(df, last_date, on = 'user_id', how='left')\n",
    "df = df.rename(columns = {'date_x':'date', 'date_y':'last_day'})\n",
    "\n",
    "df.head()"
   ]
  },
  {
   "cell_type": "code",
   "execution_count": 48,
   "metadata": {},
   "outputs": [],
   "source": [
    "df['days'] = (df['date'] - df['first_day']).dt.days "
   ]
  },
  {
   "cell_type": "code",
   "execution_count": 49,
   "metadata": {
    "scrolled": false
   },
   "outputs": [
    {
     "data": {
      "image/png": "[encoded data removed]",
      "text/plain": [
       "<Figure size 1296x432 with 1 Axes>"
      ]
     },
     "metadata": {
      "needs_background": "light"
     },
     "output_type": "display_data"
    }
   ],
   "source": [
    "df.groupby(['days', 'building_type']).size().unstack().plot(kind='bar', stacked=True,  figsize=(18,6), alpha=0.5)\n",
    "plt.xticks(rotation = 0)\n",
    "plt.title('Распределение количества зданий по типам зданий в разрезе по дням')\n",
    "plt.xlabel('Дни')\n",
    "plt.ylabel('Количество')\n",
    "plt.grid()\n",
    "\n",
    "plt.show()"
   ]
  },
  {
   "cell_type": "markdown",
   "metadata": {},
   "source": [
    "Дополнительно рассмотрим количество зданий в разрезе по датам"
   ]
  },
  {
   "cell_type": "code",
   "execution_count": 50,
   "metadata": {
    "scrolled": false
   },
   "outputs": [
    {
     "data": {
      "image/png": "[encoded data removed]",
      "text/plain": [
       "<Figure size 1296x432 with 1 Axes>"
      ]
     },
     "metadata": {
      "needs_background": "light"
     },
     "output_type": "display_data"
    }
   ],
   "source": [
    "df.groupby(['date', 'building_type']).size().unstack().plot(kind='bar', stacked=True,  figsize=(18,6), alpha=0.5)\n",
    "plt.xticks(rotation = 90)\n",
    "plt.title('Распределение количества зданий по типам зданий в разрезе по дням')\n",
    "plt.xlabel('Дни')\n",
    "plt.ylabel('Количество')\n",
    "plt.grid()\n",
    "\n",
    "plt.show()"
   ]
  },
  {
   "cell_type": "markdown",
   "metadata": {},
   "source": [
    "Также, можем рассчитать среднее количество зданий которое построили пользователи"
   ]
  },
  {
   "cell_type": "code",
   "execution_count": 51,
   "metadata": {
    "scrolled": true
   },
   "outputs": [
    {
     "name": "stdout",
     "output_type": "stream",
     "text": [
      "среднее количество зданий которые построили пользователи\n"
     ]
    },
    {
     "data": {
      "text/plain": [
       "9"
      ]
     },
     "execution_count": 51,
     "metadata": {},
     "output_type": "execute_result"
    }
   ],
   "source": [
    "print(\"среднее количество зданий которые построили пользователи\")\n",
    "round(len(df.query('building_type.isna()== False'))/df['user_id'].nunique())"
   ]
  },
  {
   "cell_type": "markdown",
   "metadata": {},
   "source": [
    "Среднее количество типов зданий которые построили пользователи"
   ]
  },
  {
   "cell_type": "code",
   "execution_count": 52,
   "metadata": {},
   "outputs": [
    {
     "name": "stdout",
     "output_type": "stream",
     "text": [
      "Среднее количество типов зданий которые построили пользователи\n"
     ]
    },
    {
     "data": {
      "text/plain": [
       "building_type\n",
       "assembly_shop     4.00\n",
       "research_center   2.00\n",
       "spaceport         4.00\n",
       "dtype: float64"
      ]
     },
     "execution_count": 52,
     "metadata": {},
     "output_type": "execute_result"
    }
   ],
   "source": [
    "print(\"Среднее количество типов зданий которые построили пользователи\")\n",
    "round(df.query('building_type.isna()== False').groupby(['user_id', 'building_type']).size().groupby('building_type').mean())\n"
   ]
  },
  {
   "cell_type": "code",
   "execution_count": 53,
   "metadata": {},
   "outputs": [
    {
     "data": {
      "image/png": "[encoded data removed]",
      "text/plain": [
       "<Figure size 1296x432 with 4 Axes>"
      ]
     },
     "metadata": {
      "needs_background": "light"
     },
     "output_type": "display_data"
    }
   ],
   "source": [
    "fig, ((ax1, ax2), (ax3, ax4)) = plt.subplots(2, 2)\n",
    "df.query('source == \"facebook_ads\"').groupby(['days', 'building_type']).size().unstack().plot(kind='bar', ax=ax1, stacked=True,  figsize=(18,6), alpha=0.5)\n",
    "df.query('source == \"instagram_new_adverts\"').groupby(['days', 'building_type']).size().unstack().plot(kind='bar', ax=ax2, stacked=True,  figsize=(18,6), alpha=0.5)\n",
    "\n",
    "df.query('source == \"yandex_direct\"').groupby(['days', 'building_type']).size().unstack().plot(kind='bar', ax=ax3, stacked=True,  figsize=(18,6), alpha=0.5)\n",
    "df.query('source == \"youtube_channel_reklama\"').groupby(['days', 'building_type']).size().unstack().plot(kind='bar', ax=ax4, stacked=True,  figsize=(18,6), alpha=0.5)\n",
    "\n",
    "fig.tight_layout(pad=3.0)\n",
    "\n",
    "ylab = ax1.set_ylabel('Количество')\n",
    "xlab = ax1.set_xlabel('Источник')\n",
    "ylab = ax2.set_ylabel('Количество')\n",
    "xlab = ax2.set_xlabel('Источник')\n",
    "ylab = ax3.set_ylabel('Количество')\n",
    "xlab = ax3.set_xlabel('Источник')\n",
    "ylab = ax4.set_ylabel('Количество')\n",
    "xlab = ax4.set_xlabel('Источник')\n",
    "\n",
    "ax1.set_title(\"Источник facebook_ads\")\n",
    "ax2.set_title(\"Источник instagram_new_adverts\")\n",
    "ax3.set_title(\"Источник yandex_direct\")\n",
    "ax4.set_title(\"Источник youtube_channel_reklama\")\n",
    "\n",
    "ax1.tick_params(rotation = 0)\n",
    "ax2.tick_params(rotation = 0)\n",
    "ax3.tick_params(rotation = 0)\n",
    "ax4.tick_params(rotation = 0)\n",
    "\n",
    "ax1.grid()\n",
    "ax2.grid()\n",
    "ax3.grid()\n",
    "ax4.grid()\n",
    "\n",
    "plt.show()\n"
   ]
  },
  {
   "cell_type": "markdown",
   "metadata": {},
   "source": [
    "По результатам данных таблиц, можно сказать, что:\n",
    "- первые 6 дней с начала игры пользователи строят `assembly_shop`, далее постройка данного дания прекращается, что говорит о том , что его можно строить только в первые 6 дней.\n",
    "- строительство `research_center` разрешено с 3-4го дня игры\n",
    "- Разница в динамике постройки зданий в разрезе источников минимальная. Доля распределения построек по датам между источниками почти одинаковая\n",
    "- В среднем пользователи построили по 9 зданий\n",
    "- В среднем, пользователи строили по:\n",
    "    - 4 здания - `assembly_shop`     \n",
    "    - 2 здания - `research_center`   \n",
    "    - 4 здания - `spaceport`         "
   ]
  },
  {
   "cell_type": "markdown",
   "metadata": {},
   "source": [
    "## шаг. Оценка каналов привлечения пользователей"
   ]
  },
  {
   "cell_type": "markdown",
   "metadata": {},
   "source": [
    "###  Определим минимальную и максимальную даты привлечения пользователей."
   ]
  },
  {
   "cell_type": "code",
   "execution_count": 54,
   "metadata": {
    "scrolled": true
   },
   "outputs": [
    {
     "data": {
      "text/html": [
       "<div>\n",
       "<style scoped>\n",
       "    .dataframe tbody tr th:only-of-type {\n",
       "        vertical-align: middle;\n",
       "    }\n",
       "\n",
       "    .dataframe tbody tr th {\n",
       "        vertical-align: top;\n",
       "    }\n",
       "\n",
       "    .dataframe thead th {\n",
       "        text-align: right;\n",
       "    }\n",
       "</style>\n",
       "<table border=\"1\" class=\"dataframe\">\n",
       "  <thead>\n",
       "    <tr style=\"text-align: right;\">\n",
       "      <th></th>\n",
       "      <th>source</th>\n",
       "      <th>day</th>\n",
       "      <th>cost</th>\n",
       "    </tr>\n",
       "  </thead>\n",
       "  <tbody>\n",
       "    <tr>\n",
       "      <th>0</th>\n",
       "      <td>facebook_ads</td>\n",
       "      <td>2020-05-03</td>\n",
       "      <td>935.88</td>\n",
       "    </tr>\n",
       "    <tr>\n",
       "      <th>1</th>\n",
       "      <td>facebook_ads</td>\n",
       "      <td>2020-05-04</td>\n",
       "      <td>548.35</td>\n",
       "    </tr>\n",
       "    <tr>\n",
       "      <th>2</th>\n",
       "      <td>facebook_ads</td>\n",
       "      <td>2020-05-05</td>\n",
       "      <td>260.19</td>\n",
       "    </tr>\n",
       "    <tr>\n",
       "      <th>3</th>\n",
       "      <td>facebook_ads</td>\n",
       "      <td>2020-05-06</td>\n",
       "      <td>177.98</td>\n",
       "    </tr>\n",
       "    <tr>\n",
       "      <th>4</th>\n",
       "      <td>facebook_ads</td>\n",
       "      <td>2020-05-07</td>\n",
       "      <td>111.77</td>\n",
       "    </tr>\n",
       "    <tr>\n",
       "      <th>5</th>\n",
       "      <td>facebook_ads</td>\n",
       "      <td>2020-05-08</td>\n",
       "      <td>68.01</td>\n",
       "    </tr>\n",
       "    <tr>\n",
       "      <th>6</th>\n",
       "      <td>facebook_ads</td>\n",
       "      <td>2020-05-09</td>\n",
       "      <td>38.72</td>\n",
       "    </tr>\n",
       "    <tr>\n",
       "      <th>7</th>\n",
       "      <td>instagram_new_adverts</td>\n",
       "      <td>2020-05-03</td>\n",
       "      <td>943.20</td>\n",
       "    </tr>\n",
       "    <tr>\n",
       "      <th>8</th>\n",
       "      <td>instagram_new_adverts</td>\n",
       "      <td>2020-05-04</td>\n",
       "      <td>502.93</td>\n",
       "    </tr>\n",
       "    <tr>\n",
       "      <th>9</th>\n",
       "      <td>instagram_new_adverts</td>\n",
       "      <td>2020-05-05</td>\n",
       "      <td>313.97</td>\n",
       "    </tr>\n",
       "    <tr>\n",
       "      <th>10</th>\n",
       "      <td>instagram_new_adverts</td>\n",
       "      <td>2020-05-06</td>\n",
       "      <td>173.07</td>\n",
       "    </tr>\n",
       "    <tr>\n",
       "      <th>11</th>\n",
       "      <td>instagram_new_adverts</td>\n",
       "      <td>2020-05-07</td>\n",
       "      <td>109.92</td>\n",
       "    </tr>\n",
       "    <tr>\n",
       "      <th>12</th>\n",
       "      <td>instagram_new_adverts</td>\n",
       "      <td>2020-05-08</td>\n",
       "      <td>71.58</td>\n",
       "    </tr>\n",
       "    <tr>\n",
       "      <th>13</th>\n",
       "      <td>instagram_new_adverts</td>\n",
       "      <td>2020-05-09</td>\n",
       "      <td>46.78</td>\n",
       "    </tr>\n",
       "    <tr>\n",
       "      <th>14</th>\n",
       "      <td>yandex_direct</td>\n",
       "      <td>2020-05-03</td>\n",
       "      <td>969.14</td>\n",
       "    </tr>\n",
       "    <tr>\n",
       "      <th>15</th>\n",
       "      <td>yandex_direct</td>\n",
       "      <td>2020-05-04</td>\n",
       "      <td>554.65</td>\n",
       "    </tr>\n",
       "    <tr>\n",
       "      <th>16</th>\n",
       "      <td>yandex_direct</td>\n",
       "      <td>2020-05-05</td>\n",
       "      <td>308.23</td>\n",
       "    </tr>\n",
       "    <tr>\n",
       "      <th>17</th>\n",
       "      <td>yandex_direct</td>\n",
       "      <td>2020-05-06</td>\n",
       "      <td>180.92</td>\n",
       "    </tr>\n",
       "    <tr>\n",
       "      <th>18</th>\n",
       "      <td>yandex_direct</td>\n",
       "      <td>2020-05-07</td>\n",
       "      <td>114.43</td>\n",
       "    </tr>\n",
       "    <tr>\n",
       "      <th>19</th>\n",
       "      <td>yandex_direct</td>\n",
       "      <td>2020-05-08</td>\n",
       "      <td>62.96</td>\n",
       "    </tr>\n",
       "    <tr>\n",
       "      <th>20</th>\n",
       "      <td>yandex_direct</td>\n",
       "      <td>2020-05-09</td>\n",
       "      <td>42.78</td>\n",
       "    </tr>\n",
       "    <tr>\n",
       "      <th>21</th>\n",
       "      <td>youtube_channel_reklama</td>\n",
       "      <td>2020-05-03</td>\n",
       "      <td>454.22</td>\n",
       "    </tr>\n",
       "    <tr>\n",
       "      <th>22</th>\n",
       "      <td>youtube_channel_reklama</td>\n",
       "      <td>2020-05-04</td>\n",
       "      <td>259.07</td>\n",
       "    </tr>\n",
       "    <tr>\n",
       "      <th>23</th>\n",
       "      <td>youtube_channel_reklama</td>\n",
       "      <td>2020-05-05</td>\n",
       "      <td>147.04</td>\n",
       "    </tr>\n",
       "    <tr>\n",
       "      <th>24</th>\n",
       "      <td>youtube_channel_reklama</td>\n",
       "      <td>2020-05-06</td>\n",
       "      <td>88.51</td>\n",
       "    </tr>\n",
       "    <tr>\n",
       "      <th>25</th>\n",
       "      <td>youtube_channel_reklama</td>\n",
       "      <td>2020-05-07</td>\n",
       "      <td>55.74</td>\n",
       "    </tr>\n",
       "    <tr>\n",
       "      <th>26</th>\n",
       "      <td>youtube_channel_reklama</td>\n",
       "      <td>2020-05-08</td>\n",
       "      <td>40.22</td>\n",
       "    </tr>\n",
       "    <tr>\n",
       "      <th>27</th>\n",
       "      <td>youtube_channel_reklama</td>\n",
       "      <td>2020-05-09</td>\n",
       "      <td>23.31</td>\n",
       "    </tr>\n",
       "  </tbody>\n",
       "</table>\n",
       "</div>"
      ],
      "text/plain": [
       "                     source         day   cost\n",
       "0              facebook_ads  2020-05-03 935.88\n",
       "1              facebook_ads  2020-05-04 548.35\n",
       "2              facebook_ads  2020-05-05 260.19\n",
       "3              facebook_ads  2020-05-06 177.98\n",
       "4              facebook_ads  2020-05-07 111.77\n",
       "5              facebook_ads  2020-05-08  68.01\n",
       "6              facebook_ads  2020-05-09  38.72\n",
       "7     instagram_new_adverts  2020-05-03 943.20\n",
       "8     instagram_new_adverts  2020-05-04 502.93\n",
       "9     instagram_new_adverts  2020-05-05 313.97\n",
       "10    instagram_new_adverts  2020-05-06 173.07\n",
       "11    instagram_new_adverts  2020-05-07 109.92\n",
       "12    instagram_new_adverts  2020-05-08  71.58\n",
       "13    instagram_new_adverts  2020-05-09  46.78\n",
       "14            yandex_direct  2020-05-03 969.14\n",
       "15            yandex_direct  2020-05-04 554.65\n",
       "16            yandex_direct  2020-05-05 308.23\n",
       "17            yandex_direct  2020-05-06 180.92\n",
       "18            yandex_direct  2020-05-07 114.43\n",
       "19            yandex_direct  2020-05-08  62.96\n",
       "20            yandex_direct  2020-05-09  42.78\n",
       "21  youtube_channel_reklama  2020-05-03 454.22\n",
       "22  youtube_channel_reklama  2020-05-04 259.07\n",
       "23  youtube_channel_reklama  2020-05-05 147.04\n",
       "24  youtube_channel_reklama  2020-05-06  88.51\n",
       "25  youtube_channel_reklama  2020-05-07  55.74\n",
       "26  youtube_channel_reklama  2020-05-08  40.22\n",
       "27  youtube_channel_reklama  2020-05-09  23.31"
      ]
     },
     "execution_count": 54,
     "metadata": {},
     "output_type": "execute_result"
    }
   ],
   "source": [
    "costs"
   ]
  },
  {
   "cell_type": "code",
   "execution_count": 55,
   "metadata": {
    "scrolled": true
   },
   "outputs": [
    {
     "name": "stdout",
     "output_type": "stream",
     "text": [
      "Минимальная дата = 2020-05-03\n",
      "Максимальная дата = 2020-05-09\n"
     ]
    }
   ],
   "source": [
    "print('Минимальная дата =', costs['day'].min())\n",
    "print('Максимальная дата =', costs['day'].max())\n"
   ]
  },
  {
   "cell_type": "markdown",
   "metadata": {},
   "source": [
    "У всех источников даты оплаты рекламы в одни и те же дни, начиная с 2020-05-03 ежедневно до 2020-05-09"
   ]
  },
  {
   "cell_type": "markdown",
   "metadata": {},
   "source": [
    "### Посчитаем общую сумму расходов на привлечение пользователей."
   ]
  },
  {
   "cell_type": "code",
   "execution_count": 56,
   "metadata": {},
   "outputs": [
    {
     "name": "stdout",
     "output_type": "stream",
     "text": [
      "Общая сумма расходов на привлечение пользователей\n"
     ]
    },
    {
     "data": {
      "text/plain": [
       "7603.58"
      ]
     },
     "execution_count": 56,
     "metadata": {},
     "output_type": "execute_result"
    }
   ],
   "source": [
    "print('Общая сумма расходов на привлечение пользователей')\n",
    "round(costs['cost'].sum(), 2)"
   ]
  },
  {
   "cell_type": "markdown",
   "metadata": {},
   "source": [
    "### Распределение бюджета по рекламным источникам"
   ]
  },
  {
   "cell_type": "code",
   "execution_count": 57,
   "metadata": {},
   "outputs": [
    {
     "data": {
      "image/png": "[encoded data removed]",
      "text/plain": [
       "<Figure size 1296x432 with 1 Axes>"
      ]
     },
     "metadata": {},
     "output_type": "display_data"
    }
   ],
   "source": [
    "costs.groupby('source')['cost'].sum().plot(kind='pie',figsize=(18,6), autopct='%.0f%%', textprops={'fontsize':18})\n",
    "\n",
    "plt.show()"
   ]
  },
  {
   "cell_type": "markdown",
   "metadata": {},
   "source": [
    "Cумма расходов на привлечение пользователей facebook_ads"
   ]
  },
  {
   "cell_type": "code",
   "execution_count": 58,
   "metadata": {},
   "outputs": [
    {
     "data": {
      "text/html": [
       "<style  type=\"text/css\" >\n",
       "#T_b6732_row0_col0{\n",
       "            background-color:  #b40426;\n",
       "            color:  #f1f1f1;\n",
       "        }#T_b6732_row1_col0{\n",
       "            background-color:  #ca3b37;\n",
       "            color:  #f1f1f1;\n",
       "        }#T_b6732_row2_col0{\n",
       "            background-color:  #d0473d;\n",
       "            color:  #f1f1f1;\n",
       "        }#T_b6732_row3_col0{\n",
       "            background-color:  #3b4cc0;\n",
       "            color:  #f1f1f1;\n",
       "        }</style><table id=\"T_b6732_\" ><thead>    <tr>        <th class=\"blank level0\" ></th>        <th class=\"col_heading level0 col0\" >cost</th>    </tr>    <tr>        <th class=\"index_name level0\" >source</th>        <th class=\"blank\" ></th>    </tr></thead><tbody>\n",
       "                <tr>\n",
       "                        <th id=\"T_b6732_level0_row0\" class=\"row_heading level0 row0\" >yandex_direct</th>\n",
       "                        <td id=\"T_b6732_row0_col0\" class=\"data row0 col0\" >2233.111449</td>\n",
       "            </tr>\n",
       "            <tr>\n",
       "                        <th id=\"T_b6732_level0_row1\" class=\"row_heading level0 row1\" >instagram_new_adverts</th>\n",
       "                        <td id=\"T_b6732_row1_col0\" class=\"data row1 col0\" >2161.441691</td>\n",
       "            </tr>\n",
       "            <tr>\n",
       "                        <th id=\"T_b6732_level0_row2\" class=\"row_heading level0 row2\" >facebook_ads</th>\n",
       "                        <td id=\"T_b6732_row2_col0\" class=\"data row2 col0\" >2140.904643</td>\n",
       "            </tr>\n",
       "            <tr>\n",
       "                        <th id=\"T_b6732_level0_row3\" class=\"row_heading level0 row3\" >youtube_channel_reklama</th>\n",
       "                        <td id=\"T_b6732_row3_col0\" class=\"data row3 col0\" >1068.119204</td>\n",
       "            </tr>\n",
       "    </tbody></table>"
      ],
      "text/plain": [
       "<pandas.io.formats.style.Styler at 0x7f2d6e6ec940>"
      ]
     },
     "execution_count": 58,
     "metadata": {},
     "output_type": "execute_result"
    }
   ],
   "source": [
    "pd.DataFrame(costs.groupby(['source']).sum().sort_values(by = 'cost', ascending =False)).style.background_gradient('coolwarm')"
   ]
  },
  {
   "cell_type": "markdown",
   "metadata": {},
   "source": [
    "Так как реклама, за которую оплатили, откручивается только на следующий день, поэтому скорректируем даты"
   ]
  },
  {
   "cell_type": "code",
   "execution_count": 59,
   "metadata": {},
   "outputs": [],
   "source": [
    "costs['day'] = (costs['day'] + pd.DateOffset(1)).dt.date"
   ]
  },
  {
   "cell_type": "code",
   "execution_count": 60,
   "metadata": {
    "scrolled": false
   },
   "outputs": [
    {
     "data": {
      "image/png": "[encoded data removed]",
      "text/plain": [
       "<Figure size 1296x432 with 2 Axes>"
      ]
     },
     "metadata": {
      "needs_background": "light"
     },
     "output_type": "display_data"
    }
   ],
   "source": [
    "df_wide = costs.pivot_table( index='source', columns='day', values='cost')\n",
    "plt.figure(figsize=(18,6))\n",
    "sns.heatmap(df_wide,  annot=True, linewidth=1.5, fmt=\".2f\", cmap='Blues')\n",
    "plt.xlabel('Дата')\n",
    "plt.ylabel('Источник')\n",
    "plt.show()"
   ]
  },
  {
   "cell_type": "code",
   "execution_count": 61,
   "metadata": {
    "scrolled": false
   },
   "outputs": [
    {
     "data": {
      "image/png": "[encoded data removed]",
      "text/plain": [
       "<Figure size 1080x432 with 1 Axes>"
      ]
     },
     "metadata": {
      "needs_background": "light"
     },
     "output_type": "display_data"
    }
   ],
   "source": [
    "costs.groupby(['day','source']).sum().unstack().plot(kind = 'line', figsize=(15,6))\n",
    "plt.title('Распределение суммы выручки по датам в разрезе по источникам')\n",
    "plt.xlabel('дни')\n",
    "plt.ylabel('сумма')\n",
    "plt.grid()\n",
    "plt.show()"
   ]
  },
  {
   "cell_type": "markdown",
   "metadata": {},
   "source": [
    "- Наибольшая сумма для привлечения пользователей идет на источник `yandex_direct`, чуть больше чем `instagram_new_adverts` , `facebook_ads`.\n",
    "- Наименьшая сумма для привлечения пользователей идет на источник `youtube_channel_reklama`\n",
    "- Но в то же время нужно учитывать что количество привлеченных пользователей с источника  `yandex_direct` наибольшее \n",
    "- И с наименьшее с источника `youtube_channel_reklama`"
   ]
  },
  {
   "cell_type": "markdown",
   "metadata": {},
   "source": [
    "### Стоимость привлечения одного пользователя для каждого источника."
   ]
  },
  {
   "cell_type": "markdown",
   "metadata": {},
   "source": [
    "Рассчистаем стоимость привлечения одного пользователя для каждого источника"
   ]
  },
  {
   "cell_type": "code",
   "execution_count": 62,
   "metadata": {},
   "outputs": [
    {
     "data": {
      "text/html": [
       "<div>\n",
       "<style scoped>\n",
       "    .dataframe tbody tr th:only-of-type {\n",
       "        vertical-align: middle;\n",
       "    }\n",
       "\n",
       "    .dataframe tbody tr th {\n",
       "        vertical-align: top;\n",
       "    }\n",
       "\n",
       "    .dataframe thead th {\n",
       "        text-align: right;\n",
       "    }\n",
       "</style>\n",
       "<table border=\"1\" class=\"dataframe\">\n",
       "  <thead>\n",
       "    <tr style=\"text-align: right;\">\n",
       "      <th></th>\n",
       "      <th>date</th>\n",
       "      <th>event</th>\n",
       "      <th>building_type</th>\n",
       "      <th>user_id</th>\n",
       "      <th>source</th>\n",
       "      <th>first_day</th>\n",
       "      <th>last_day</th>\n",
       "      <th>days</th>\n",
       "    </tr>\n",
       "  </thead>\n",
       "  <tbody>\n",
       "    <tr>\n",
       "      <th>0</th>\n",
       "      <td>2020-05-04</td>\n",
       "      <td>building</td>\n",
       "      <td>assembly_shop</td>\n",
       "      <td>55e92310-cb8e-4754-b622-597e124b03de</td>\n",
       "      <td>youtube_channel_reklama</td>\n",
       "      <td>2020-05-04</td>\n",
       "      <td>2020-05-10</td>\n",
       "      <td>0</td>\n",
       "    </tr>\n",
       "    <tr>\n",
       "      <th>1</th>\n",
       "      <td>2020-05-05</td>\n",
       "      <td>building</td>\n",
       "      <td>assembly_shop</td>\n",
       "      <td>55e92310-cb8e-4754-b622-597e124b03de</td>\n",
       "      <td>youtube_channel_reklama</td>\n",
       "      <td>2020-05-04</td>\n",
       "      <td>2020-05-10</td>\n",
       "      <td>1</td>\n",
       "    </tr>\n",
       "    <tr>\n",
       "      <th>2</th>\n",
       "      <td>2020-05-05</td>\n",
       "      <td>building</td>\n",
       "      <td>assembly_shop</td>\n",
       "      <td>55e92310-cb8e-4754-b622-597e124b03de</td>\n",
       "      <td>youtube_channel_reklama</td>\n",
       "      <td>2020-05-04</td>\n",
       "      <td>2020-05-10</td>\n",
       "      <td>1</td>\n",
       "    </tr>\n",
       "    <tr>\n",
       "      <th>3</th>\n",
       "      <td>2020-05-05</td>\n",
       "      <td>building</td>\n",
       "      <td>assembly_shop</td>\n",
       "      <td>55e92310-cb8e-4754-b622-597e124b03de</td>\n",
       "      <td>youtube_channel_reklama</td>\n",
       "      <td>2020-05-04</td>\n",
       "      <td>2020-05-10</td>\n",
       "      <td>1</td>\n",
       "    </tr>\n",
       "    <tr>\n",
       "      <th>4</th>\n",
       "      <td>2020-05-06</td>\n",
       "      <td>building</td>\n",
       "      <td>assembly_shop</td>\n",
       "      <td>55e92310-cb8e-4754-b622-597e124b03de</td>\n",
       "      <td>youtube_channel_reklama</td>\n",
       "      <td>2020-05-04</td>\n",
       "      <td>2020-05-10</td>\n",
       "      <td>2</td>\n",
       "    </tr>\n",
       "  </tbody>\n",
       "</table>\n",
       "</div>"
      ],
      "text/plain": [
       "         date     event  building_type                               user_id  \\\n",
       "0  2020-05-04  building  assembly_shop  55e92310-cb8e-4754-b622-597e124b03de   \n",
       "1  2020-05-05  building  assembly_shop  55e92310-cb8e-4754-b622-597e124b03de   \n",
       "2  2020-05-05  building  assembly_shop  55e92310-cb8e-4754-b622-597e124b03de   \n",
       "3  2020-05-05  building  assembly_shop  55e92310-cb8e-4754-b622-597e124b03de   \n",
       "4  2020-05-06  building  assembly_shop  55e92310-cb8e-4754-b622-597e124b03de   \n",
       "\n",
       "                    source   first_day    last_day  days  \n",
       "0  youtube_channel_reklama  2020-05-04  2020-05-10     0  \n",
       "1  youtube_channel_reklama  2020-05-04  2020-05-10     1  \n",
       "2  youtube_channel_reklama  2020-05-04  2020-05-10     1  \n",
       "3  youtube_channel_reklama  2020-05-04  2020-05-10     1  \n",
       "4  youtube_channel_reklama  2020-05-04  2020-05-10     2  "
      ]
     },
     "execution_count": 62,
     "metadata": {},
     "output_type": "execute_result"
    }
   ],
   "source": [
    "df.head()"
   ]
  },
  {
   "cell_type": "code",
   "execution_count": 63,
   "metadata": {},
   "outputs": [
    {
     "data": {
      "text/html": [
       "<div>\n",
       "<style scoped>\n",
       "    .dataframe tbody tr th:only-of-type {\n",
       "        vertical-align: middle;\n",
       "    }\n",
       "\n",
       "    .dataframe tbody tr th {\n",
       "        vertical-align: top;\n",
       "    }\n",
       "\n",
       "    .dataframe thead th {\n",
       "        text-align: right;\n",
       "    }\n",
       "</style>\n",
       "<table border=\"1\" class=\"dataframe\">\n",
       "  <thead>\n",
       "    <tr style=\"text-align: right;\">\n",
       "      <th></th>\n",
       "      <th>cost</th>\n",
       "      <th>user_id</th>\n",
       "      <th>cost_pp</th>\n",
       "    </tr>\n",
       "    <tr>\n",
       "      <th>source</th>\n",
       "      <th></th>\n",
       "      <th></th>\n",
       "      <th></th>\n",
       "    </tr>\n",
       "  </thead>\n",
       "  <tbody>\n",
       "    <tr>\n",
       "      <th>facebook_ads</th>\n",
       "      <td>2,140.90</td>\n",
       "      <td>2726</td>\n",
       "      <td>0.79</td>\n",
       "    </tr>\n",
       "    <tr>\n",
       "      <th>instagram_new_adverts</th>\n",
       "      <td>2,161.44</td>\n",
       "      <td>3347</td>\n",
       "      <td>0.65</td>\n",
       "    </tr>\n",
       "    <tr>\n",
       "      <th>yandex_direct</th>\n",
       "      <td>2,233.11</td>\n",
       "      <td>4817</td>\n",
       "      <td>0.46</td>\n",
       "    </tr>\n",
       "    <tr>\n",
       "      <th>youtube_channel_reklama</th>\n",
       "      <td>1,068.12</td>\n",
       "      <td>2686</td>\n",
       "      <td>0.40</td>\n",
       "    </tr>\n",
       "  </tbody>\n",
       "</table>\n",
       "</div>"
      ],
      "text/plain": [
       "                            cost  user_id  cost_pp\n",
       "source                                            \n",
       "facebook_ads            2,140.90     2726     0.79\n",
       "instagram_new_adverts   2,161.44     3347     0.65\n",
       "yandex_direct           2,233.11     4817     0.46\n",
       "youtube_channel_reklama 1,068.12     2686     0.40"
      ]
     },
     "metadata": {},
     "output_type": "display_data"
    }
   ],
   "source": [
    "cost_per_person = costs.groupby(['source']).sum()\n",
    "cost_per_person1 =(pd.pivot_table(df, index = ['source'], values = ['user_id'], aggfunc='nunique'))\n",
    "cost_per_person = pd.merge(cost_per_person, cost_per_person1, on=\"source\")\n",
    "cost_per_person['cost_pp']=cost_per_person['cost']/cost_per_person['user_id']\n",
    "\n",
    "display(cost_per_person)"
   ]
  },
  {
   "cell_type": "code",
   "execution_count": 64,
   "metadata": {},
   "outputs": [
    {
     "data": {
      "image/png": "[encoded data removed]",
      "text/plain": [
       "<Figure size 1296x432 with 1 Axes>"
      ]
     },
     "metadata": {
      "needs_background": "light"
     },
     "output_type": "display_data"
    }
   ],
   "source": [
    "cost_per_person['cost_pp'].plot(kind='bar',figsize=(18,6), alpha = 0.5)\n",
    "plt.xticks(rotation = 0)\n",
    "plt.title('Cумма расходов на привлечение 1 пользователя в разрезе по источникам')\n",
    "plt.xlabel('Источники')\n",
    "plt.ylabel('Сумма')\n",
    "plt.grid()\n",
    "plt.show()"
   ]
  },
  {
   "cell_type": "markdown",
   "metadata": {},
   "source": [
    "Оказалось, что самое дорогое привлечение приходится на источник `facebook_ads` и самое дешевое привлечение идет с `youtube_channel_reklama` "
   ]
  },
  {
   "cell_type": "markdown",
   "metadata": {},
   "source": [
    "## шаг. Проверка гипотез\n"
   ]
  },
  {
   "cell_type": "markdown",
   "metadata": {},
   "source": [
    "### Время завершения уровня различается в зависимости способа прохождения: через реализацию проекта,  через победу над первым игроком.\n"
   ]
  },
  {
   "cell_type": "markdown",
   "metadata": {},
   "source": [
    "Проверим гипотезу: Время завершения уровня различается в зависимости способа прохождения: через реализацию проекта, через победу над первым игроком\n",
    "\n",
    "H0: Время завершения уровня одинаково\n",
    "\n",
    "H1: Время завершения уровня различно"
   ]
  },
  {
   "cell_type": "code",
   "execution_count": 65,
   "metadata": {
    "scrolled": true
   },
   "outputs": [],
   "source": [
    "project_date = df[df['event'] == 'project'].sort_values(by = ['user_id', 'date']).groupby('user_id')['date'].first()\n",
    "finish_date = df[df['event'] == 'finished_stage_1'].sort_values(by = ['user_id', 'date']).groupby('user_id')['date'].first()\n",
    "\n",
    "df = pd.merge(df, project_date, on = 'user_id', how='left')\n",
    "df = df.rename(columns = {'date_x':'date', 'date_y':'project_date'})\n",
    "\n",
    "df = pd.merge(df, finish_date, on = 'user_id', how='left')\n",
    "df = df.rename(columns = {'date_x':'date', 'date_y':'finish_date'})\n"
   ]
  },
  {
   "cell_type": "code",
   "execution_count": 66,
   "metadata": {},
   "outputs": [],
   "source": [
    "project_end_time = df[(df['project_date'].isna()== False) & (df['finish_date'].isna()== False)]['days']\n",
    "\n",
    "finish_end_time =  df[(df['project_date'].isna()== True) & (df['finish_date'].isna()== False)]['days']"
   ]
  },
  {
   "cell_type": "code",
   "execution_count": 67,
   "metadata": {
    "scrolled": true
   },
   "outputs": [
    {
     "name": "stdout",
     "output_type": "stream",
     "text": [
      "p-значение: 2.73450987002769e-127\n",
      "Отвергаем нулевую гипотезу\n"
     ]
    }
   ],
   "source": [
    "alpha = 0.05\n",
    "\n",
    "results = st.ttest_ind(\n",
    "    project_end_time,\n",
    "    finish_end_time,\n",
    "    equal_var=False)\n",
    "\n",
    "print('p-значение:', results.pvalue)\n",
    "\n",
    "if results.pvalue < alpha:\n",
    "    print(\"Отвергаем нулевую гипотезу\")\n",
    "else:\n",
    "    print(\"Не получилось отвергнуть нулевую гипотезу\")"
   ]
  },
  {
   "cell_type": "markdown",
   "metadata": {},
   "source": [
    " Время завершения уровня различно в зависимости от способа прохождения: через реализацию проекта, через победу над первым игроком."
   ]
  },
  {
   "cell_type": "markdown",
   "metadata": {},
   "source": [
    "###  Доля прохождения уровней  различается в зависимости от источника\n",
    "\n",
    "Проверим гипотезу: Доля прохождения уровней различается в зависимости от источника\n",
    "\n",
    "H0: Доля прохождения уровней одинакова\n",
    "\n",
    "H1: Доля прохождения уровней различна"
   ]
  },
  {
   "cell_type": "code",
   "execution_count": 70,
   "metadata": {},
   "outputs": [],
   "source": [
    "def hypot(value1, value2):\n",
    "    df1 = users_unique.query('source == @value1')\n",
    "    df1_finish_count = len(df1.query(\"is_finished == True\"))\n",
    "    df1_all_count = len(df1)\n",
    "\n",
    "    df2 = users_unique.query('source == @value2')\n",
    "    df2_finish_count = len(df2.query(\"is_finished == True\"))\n",
    "    df2_all_count = len(df2)\n",
    "\n",
    "    # пропорция успехов в первой группе:\n",
    "    p1 = df1_finish_count/df1_all_count\n",
    "\n",
    "    # пропорция успехов во второй группе:\n",
    "    p2 = df2_finish_count/df2_all_count\n",
    "\n",
    "    # пропорция успехов в комбинированном датасете:\n",
    "    p_combined = (df1_finish_count + df2_finish_count) / (df1_all_count + df2_all_count)\n",
    "\n",
    "    # разница пропорций в датасетах\n",
    "    difference = p1 - p2 \n",
    "\n",
    "    # считаем статистику в ст.отклонениях стандартного нормального распределения\n",
    "    z_value = difference / mth.sqrt(p_combined * (1 - p_combined) * (1/df1_all_count + 1/df2_all_count))\n",
    "\n",
    "    # задаем стандартное нормальное распределение (среднее 0, ст.отклонение 1)\n",
    "    distr = st.norm(0, 1)  \n",
    "\n",
    "    p_value = (1 - distr.cdf(abs(z_value))) * 2\n",
    "\n",
    "    print('p-значение: ', p_value)\n",
    "\n",
    "    if p_value < alpha:\n",
    "        print('Отвергаем нулевую гипотезу: между долями есть значимая разница')\n",
    "    else:\n",
    "        print(\n",
    "            'Не получилось отвергнуть нулевую гипотезу, нет оснований считать доли разными'\n",
    "        ) "
   ]
  },
  {
   "cell_type": "code",
   "execution_count": 69,
   "metadata": {},
   "outputs": [
    {
     "name": "stdout",
     "output_type": "stream",
     "text": [
      "yandex_direct и facebook_ads\n",
      "p-значение:  0.8624388026512437\n",
      "Не получилось отвергнуть нулевую гипотезу, нет оснований считать доли разными\n",
      "\n",
      "yandex_direct и youtube_channel_reklama\n",
      "p-значение:  0.5244230207169549\n",
      "Не получилось отвергнуть нулевую гипотезу, нет оснований считать доли разными\n",
      "\n",
      "yandex_direct и instagram_new_adverts\n",
      "p-значение:  0.20595754565724533\n",
      "Не получилось отвергнуть нулевую гипотезу, нет оснований считать доли разными\n",
      "\n",
      "\n",
      "facebook_ads и youtube_channel_reklama\n",
      "p-значение:  0.4737412931629539\n",
      "Не получилось отвергнуть нулевую гипотезу, нет оснований считать доли разными\n",
      "\n",
      "facebook_ads и instagram_new_adverts\n",
      "p-значение:  0.20644137086490777\n",
      "Не получилось отвергнуть нулевую гипотезу, нет оснований считать доли разными\n",
      "\n",
      "\n",
      "instagram_new_adverts и youtube_channel_reklama\n",
      "p-значение:  0.6123664865502236\n",
      "Не получилось отвергнуть нулевую гипотезу, нет оснований считать доли разными\n"
     ]
    }
   ],
   "source": [
    "print(\"yandex_direct и facebook_ads\")\n",
    "hypot('yandex_direct', 'facebook_ads')\n",
    "\n",
    "print(\"\\nyandex_direct и youtube_channel_reklama\")\n",
    "hypot('yandex_direct', 'youtube_channel_reklama')\n",
    "\n",
    "print(\"\\nyandex_direct и instagram_new_adverts\")\n",
    "hypot('yandex_direct', 'instagram_new_adverts')\n",
    "\n",
    "\n",
    "print(\"\\n\\nfacebook_ads и youtube_channel_reklama\")\n",
    "hypot('facebook_ads', 'youtube_channel_reklama')\n",
    "print(\"\\nfacebook_ads и instagram_new_adverts\")\n",
    "hypot('facebook_ads', 'instagram_new_adverts')\n",
    "\n",
    "\n",
    "print(\"\\n\\ninstagram_new_adverts и youtube_channel_reklama\")\n",
    "hypot('instagram_new_adverts', 'youtube_channel_reklama')"
   ]
  },
  {
   "cell_type": "markdown",
   "metadata": {},
   "source": [
    " Доля прохождения уровней одинакова независимо от источника"
   ]
  },
  {
   "cell_type": "markdown",
   "metadata": {},
   "source": [
    "\n",
    "\n",
    "\n",
    "## шаг. Общие выводы\n",
    "- Выводы\n",
    "- Рекомендации"
   ]
  },
  {
   "cell_type": "markdown",
   "metadata": {},
   "source": [
    "В результате нашего исследования, можно сказать, что :\n",
    "- больше всего событий `building`, это обусловлено тем, что один пользователь может построить несколько зданий, а именно в среднем 9 зданий на каждого пользователя\n",
    "- В среднем, пользователи строили по:\n",
    "    - 4 здания - `assembly_shop`     \n",
    "    - 2 здания - `research_center`   \n",
    "    - 4 здания - `spaceport`         \n",
    "- Доля пользователей завершивших первый уровень составляет **42.85%**\n",
    "- Наибольшая сумма для привлечения пользователей идет на источник `yandex_direct`, чуть больше чем `instagram_new_adverts` , `facebook_ads`.\n",
    "- Наименьшая сумма для привлечения пользователей идет на источник `youtube_channel_reklama`\n",
    "- Но в то же время нужно учитывать что количество привлеченных пользователей с источника  `yandex_direct` наибольшее \n",
    "- И наименьшее число с источника `youtube_channel_reklama`\n",
    "- Оказалось, что самое дорогое привлечение приходится на источник `facebook_ads` и самое дешевое привлечение идет с `youtube_channel_reklama` \n",
    "- первые 6 дней с начала игры пользователи строят `assembly_shop`, далее постройка данного дания прекращается, что говорит о том , что его можно строить только в первые 6 дней.\n",
    "- строительство `research_center` начинается с 3-4го дня игры\n",
    "- Разница в динамике постройки зданий в разрезе источников минимальная. Доля распределения построек по датам между источниками почти одинаковая\n",
    "- Доля пользователей завершивших уровень чуть меньше доли не завершивших уровень уникальных пользователей в разрезе по источникам.\n",
    "- наибольшее количество пользователей пришли с источника `yandex_direct`\n",
    "- больше всего получили `finished_stage_1` пользователи пришедшие с источника `yandex_direct`"
   ]
  },
  {
   "cell_type": "markdown",
   "metadata": {},
   "source": [
    "**рекомендации**\n",
    "- При планировании распределения бюджета, желательно сделать усилие в сторону источников с лучшими показателями -  `yandex_direct` и `youtube_channel_reklama`\n",
    "- Уделять больше внимания пользователям источника `yandex_direct`"
   ]
  },
  {
   "cell_type": "code",
   "execution_count": null,
   "metadata": {},
   "outputs": [],
   "source": []
  }
 ],
 "metadata": {
  "ExecuteTimeLog": [
   {
    "duration": 427,
    "start_time": "2023-08-01T01:53:50.399Z"
   },
   {
    "duration": 529,
    "start_time": "2023-08-01T01:55:32.827Z"
   },
   {
    "duration": 18,
    "start_time": "2023-08-01T01:55:37.405Z"
   },
   {
    "duration": 689,
    "start_time": "2023-08-01T01:57:17.451Z"
   },
   {
    "duration": 231,
    "start_time": "2023-08-01T01:58:06.415Z"
   },
   {
    "duration": 55,
    "start_time": "2023-08-01T01:59:55.280Z"
   },
   {
    "duration": 39,
    "start_time": "2023-08-01T02:00:13.102Z"
   },
   {
    "duration": 15,
    "start_time": "2023-08-01T02:00:16.015Z"
   },
   {
    "duration": 22,
    "start_time": "2023-08-01T02:00:41.463Z"
   },
   {
    "duration": 23,
    "start_time": "2023-08-01T02:00:47.555Z"
   },
   {
    "duration": 18,
    "start_time": "2023-08-01T02:02:46.730Z"
   },
   {
    "duration": 66,
    "start_time": "2023-08-01T02:34:20.022Z"
   },
   {
    "duration": 4,
    "start_time": "2023-08-01T02:34:23.874Z"
   },
   {
    "duration": 4,
    "start_time": "2023-08-01T02:34:37.770Z"
   },
   {
    "duration": 4,
    "start_time": "2023-08-01T02:34:44.167Z"
   },
   {
    "duration": 3,
    "start_time": "2023-08-01T02:34:53.027Z"
   },
   {
    "duration": 5,
    "start_time": "2023-08-01T02:35:18.769Z"
   },
   {
    "duration": 4,
    "start_time": "2023-08-01T02:35:28.947Z"
   },
   {
    "duration": 5,
    "start_time": "2023-08-01T02:40:28.708Z"
   },
   {
    "duration": 455,
    "start_time": "2023-08-01T05:14:36.258Z"
   },
   {
    "duration": 3,
    "start_time": "2023-08-01T05:16:30.743Z"
   },
   {
    "duration": 750,
    "start_time": "2023-08-01T05:16:30.749Z"
   },
   {
    "duration": 74,
    "start_time": "2023-08-01T05:16:31.501Z"
   },
   {
    "duration": 30,
    "start_time": "2023-08-01T05:16:31.577Z"
   },
   {
    "duration": 49,
    "start_time": "2023-08-01T05:16:31.609Z"
   },
   {
    "duration": 29,
    "start_time": "2023-08-01T05:16:31.660Z"
   },
   {
    "duration": 34,
    "start_time": "2023-08-01T05:16:34.113Z"
   },
   {
    "duration": 39,
    "start_time": "2023-08-01T05:16:46.392Z"
   },
   {
    "duration": 60,
    "start_time": "2023-08-01T05:18:40.847Z"
   },
   {
    "duration": 16,
    "start_time": "2023-08-01T05:18:43.178Z"
   },
   {
    "duration": 6,
    "start_time": "2023-08-01T05:18:55.424Z"
   },
   {
    "duration": 3,
    "start_time": "2023-08-01T05:19:34.783Z"
   },
   {
    "duration": 585,
    "start_time": "2023-08-01T05:19:34.788Z"
   },
   {
    "duration": 68,
    "start_time": "2023-08-01T05:19:35.376Z"
   },
   {
    "duration": 44,
    "start_time": "2023-08-01T05:19:35.446Z"
   },
   {
    "duration": 20,
    "start_time": "2023-08-01T05:19:35.492Z"
   },
   {
    "duration": 5,
    "start_time": "2023-08-01T05:19:35.514Z"
   },
   {
    "duration": 93,
    "start_time": "2023-08-01T05:19:35.521Z"
   },
   {
    "duration": 62,
    "start_time": "2023-08-01T05:19:35.617Z"
   },
   {
    "duration": 7,
    "start_time": "2023-08-01T05:19:40.061Z"
   },
   {
    "duration": 22,
    "start_time": "2023-08-01T05:19:44.222Z"
   },
   {
    "duration": 12,
    "start_time": "2023-08-01T05:19:46.559Z"
   },
   {
    "duration": 8,
    "start_time": "2023-08-01T05:19:49.847Z"
   },
   {
    "duration": 87,
    "start_time": "2023-08-01T05:19:58.573Z"
   },
   {
    "duration": 4,
    "start_time": "2023-08-01T05:20:50.585Z"
   },
   {
    "duration": 524,
    "start_time": "2023-08-01T05:20:50.591Z"
   },
   {
    "duration": 66,
    "start_time": "2023-08-01T05:20:51.117Z"
   },
   {
    "duration": 23,
    "start_time": "2023-08-01T05:20:51.185Z"
   },
   {
    "duration": 28,
    "start_time": "2023-08-01T05:20:51.211Z"
   },
   {
    "duration": 33,
    "start_time": "2023-08-01T05:20:51.241Z"
   },
   {
    "duration": 68,
    "start_time": "2023-08-01T05:20:51.277Z"
   },
   {
    "duration": 47,
    "start_time": "2023-08-01T05:20:51.347Z"
   },
   {
    "duration": 5,
    "start_time": "2023-08-01T05:20:54.898Z"
   },
   {
    "duration": 9,
    "start_time": "2023-08-01T05:20:57.808Z"
   },
   {
    "duration": 16,
    "start_time": "2023-08-01T05:21:08.687Z"
   },
   {
    "duration": 7,
    "start_time": "2023-08-01T05:21:12.179Z"
   },
   {
    "duration": 3,
    "start_time": "2023-08-01T05:24:55.175Z"
   },
   {
    "duration": 518,
    "start_time": "2023-08-01T05:24:55.181Z"
   },
   {
    "duration": 71,
    "start_time": "2023-08-01T05:24:55.701Z"
   },
   {
    "duration": 31,
    "start_time": "2023-08-01T05:24:55.774Z"
   },
   {
    "duration": 25,
    "start_time": "2023-08-01T05:24:55.808Z"
   },
   {
    "duration": 36,
    "start_time": "2023-08-01T05:24:55.836Z"
   },
   {
    "duration": 33,
    "start_time": "2023-08-01T05:24:55.874Z"
   },
   {
    "duration": 32,
    "start_time": "2023-08-01T05:24:55.909Z"
   },
   {
    "duration": 29,
    "start_time": "2023-08-01T05:24:55.943Z"
   },
   {
    "duration": 5,
    "start_time": "2023-08-01T05:24:58.722Z"
   },
   {
    "duration": 7,
    "start_time": "2023-08-01T05:25:02.222Z"
   },
   {
    "duration": 14,
    "start_time": "2023-08-01T05:25:08.004Z"
   },
   {
    "duration": 53,
    "start_time": "2023-08-01T05:25:50.160Z"
   },
   {
    "duration": 64,
    "start_time": "2023-08-01T05:26:00.984Z"
   },
   {
    "duration": 56,
    "start_time": "2023-08-01T05:35:58.407Z"
   },
   {
    "duration": 57,
    "start_time": "2023-08-01T05:36:14.181Z"
   },
   {
    "duration": 40,
    "start_time": "2023-08-01T05:36:42.296Z"
   },
   {
    "duration": 34,
    "start_time": "2023-08-01T05:36:46.635Z"
   },
   {
    "duration": 36,
    "start_time": "2023-08-01T05:36:56.376Z"
   },
   {
    "duration": 81,
    "start_time": "2023-08-01T05:39:06.120Z"
   },
   {
    "duration": 38,
    "start_time": "2023-08-01T05:39:08.692Z"
   },
   {
    "duration": 30,
    "start_time": "2023-08-01T05:39:53.881Z"
   },
   {
    "duration": 22,
    "start_time": "2023-08-01T05:40:19.095Z"
   },
   {
    "duration": 24,
    "start_time": "2023-08-01T05:41:18.769Z"
   },
   {
    "duration": 61,
    "start_time": "2023-08-01T05:41:32.822Z"
   },
   {
    "duration": 68,
    "start_time": "2023-08-01T05:42:27.040Z"
   },
   {
    "duration": 62,
    "start_time": "2023-08-01T05:42:49.504Z"
   },
   {
    "duration": 59,
    "start_time": "2023-08-01T05:43:08.454Z"
   },
   {
    "duration": 80,
    "start_time": "2023-08-01T05:43:26.054Z"
   },
   {
    "duration": 24,
    "start_time": "2023-08-01T05:44:13.912Z"
   },
   {
    "duration": 13,
    "start_time": "2023-08-01T05:44:32.913Z"
   },
   {
    "duration": 14,
    "start_time": "2023-08-01T05:44:36.896Z"
   },
   {
    "duration": 15,
    "start_time": "2023-08-01T05:44:42.639Z"
   },
   {
    "duration": 18,
    "start_time": "2023-08-01T05:44:50.434Z"
   },
   {
    "duration": 14,
    "start_time": "2023-08-01T05:44:54.390Z"
   },
   {
    "duration": 15,
    "start_time": "2023-08-01T05:45:02.687Z"
   },
   {
    "duration": 16,
    "start_time": "2023-08-01T05:45:08.029Z"
   },
   {
    "duration": 4,
    "start_time": "2023-08-01T06:46:43.388Z"
   },
   {
    "duration": 688,
    "start_time": "2023-08-01T06:46:43.394Z"
   },
   {
    "duration": 49,
    "start_time": "2023-08-01T06:46:44.086Z"
   },
   {
    "duration": 21,
    "start_time": "2023-08-01T06:46:44.137Z"
   },
   {
    "duration": 20,
    "start_time": "2023-08-01T06:46:44.170Z"
   },
   {
    "duration": 8,
    "start_time": "2023-08-01T06:46:44.191Z"
   },
   {
    "duration": 36,
    "start_time": "2023-08-01T06:46:44.200Z"
   },
   {
    "duration": 53,
    "start_time": "2023-08-01T06:46:44.238Z"
   },
   {
    "duration": 61,
    "start_time": "2023-08-01T06:46:44.293Z"
   },
   {
    "duration": 71,
    "start_time": "2023-08-01T06:46:44.356Z"
   },
   {
    "duration": 15,
    "start_time": "2023-08-01T06:46:44.429Z"
   },
   {
    "duration": 29,
    "start_time": "2023-08-01T06:51:15.006Z"
   },
   {
    "duration": 6,
    "start_time": "2023-08-01T06:52:57.764Z"
   },
   {
    "duration": 14,
    "start_time": "2023-08-01T06:53:21.938Z"
   },
   {
    "duration": 56,
    "start_time": "2023-08-01T06:53:32.011Z"
   },
   {
    "duration": 75,
    "start_time": "2023-08-01T06:53:48.789Z"
   },
   {
    "duration": 73,
    "start_time": "2023-08-01T06:58:31.114Z"
   },
   {
    "duration": 53,
    "start_time": "2023-08-01T06:58:37.412Z"
   },
   {
    "duration": 60,
    "start_time": "2023-08-01T06:58:41.178Z"
   },
   {
    "duration": 21,
    "start_time": "2023-08-01T06:58:44.733Z"
   },
   {
    "duration": 3,
    "start_time": "2023-08-01T06:59:04.253Z"
   },
   {
    "duration": 842,
    "start_time": "2023-08-01T06:59:04.258Z"
   },
   {
    "duration": 42,
    "start_time": "2023-08-01T06:59:05.102Z"
   },
   {
    "duration": 45,
    "start_time": "2023-08-01T06:59:05.146Z"
   },
   {
    "duration": 19,
    "start_time": "2023-08-01T06:59:05.195Z"
   },
   {
    "duration": 17,
    "start_time": "2023-08-01T06:59:05.216Z"
   },
   {
    "duration": 71,
    "start_time": "2023-08-01T06:59:05.235Z"
   },
   {
    "duration": 47,
    "start_time": "2023-08-01T06:59:05.308Z"
   },
   {
    "duration": 84,
    "start_time": "2023-08-01T06:59:05.357Z"
   },
   {
    "duration": 22,
    "start_time": "2023-08-01T06:59:11.727Z"
   },
   {
    "duration": 98,
    "start_time": "2023-08-01T06:59:15.065Z"
   },
   {
    "duration": 61,
    "start_time": "2023-08-01T06:59:18.899Z"
   },
   {
    "duration": 26,
    "start_time": "2023-08-01T06:59:24.466Z"
   },
   {
    "duration": 86,
    "start_time": "2023-08-01T07:13:26.520Z"
   },
   {
    "duration": 141,
    "start_time": "2023-08-01T07:13:48.155Z"
   },
   {
    "duration": 82,
    "start_time": "2023-08-01T07:24:19.843Z"
   },
   {
    "duration": 10,
    "start_time": "2023-08-01T07:24:39.839Z"
   },
   {
    "duration": 9,
    "start_time": "2023-08-01T07:25:08.116Z"
   },
   {
    "duration": 14,
    "start_time": "2023-08-01T07:26:25.643Z"
   },
   {
    "duration": 25,
    "start_time": "2023-08-01T07:26:46.770Z"
   },
   {
    "duration": 60,
    "start_time": "2023-08-01T07:26:55.766Z"
   },
   {
    "duration": 40,
    "start_time": "2023-08-01T07:27:17.523Z"
   },
   {
    "duration": 628,
    "start_time": "2023-08-01T07:28:21.199Z"
   },
   {
    "duration": 33,
    "start_time": "2023-08-01T08:01:50.114Z"
   },
   {
    "duration": 18,
    "start_time": "2023-08-01T08:02:45.603Z"
   },
   {
    "duration": 29,
    "start_time": "2023-08-01T08:03:43.392Z"
   },
   {
    "duration": 12,
    "start_time": "2023-08-01T08:03:53.842Z"
   },
   {
    "duration": 18,
    "start_time": "2023-08-01T08:04:10.539Z"
   },
   {
    "duration": 22,
    "start_time": "2023-08-01T08:06:13.914Z"
   },
   {
    "duration": 35,
    "start_time": "2023-08-01T08:06:21.092Z"
   },
   {
    "duration": 14,
    "start_time": "2023-08-01T08:06:31.227Z"
   },
   {
    "duration": 116,
    "start_time": "2023-08-01T08:09:37.492Z"
   },
   {
    "duration": 105,
    "start_time": "2023-08-01T08:10:28.115Z"
   },
   {
    "duration": 84,
    "start_time": "2023-08-01T08:10:33.841Z"
   },
   {
    "duration": 97,
    "start_time": "2023-08-01T08:10:39.132Z"
   },
   {
    "duration": 98,
    "start_time": "2023-08-01T08:11:13.567Z"
   },
   {
    "duration": 117,
    "start_time": "2023-08-01T08:11:44.574Z"
   },
   {
    "duration": 391,
    "start_time": "2023-08-02T13:50:47.784Z"
   },
   {
    "duration": 789,
    "start_time": "2023-08-02T13:50:48.177Z"
   },
   {
    "duration": 44,
    "start_time": "2023-08-02T13:50:48.968Z"
   },
   {
    "duration": 22,
    "start_time": "2023-08-02T13:50:49.013Z"
   },
   {
    "duration": 15,
    "start_time": "2023-08-02T13:50:49.061Z"
   },
   {
    "duration": 4,
    "start_time": "2023-08-02T13:50:49.077Z"
   },
   {
    "duration": 49,
    "start_time": "2023-08-02T13:50:49.082Z"
   },
   {
    "duration": 40,
    "start_time": "2023-08-02T13:50:49.133Z"
   },
   {
    "duration": 64,
    "start_time": "2023-08-02T13:50:49.175Z"
   },
   {
    "duration": 131,
    "start_time": "2023-08-02T13:50:49.240Z"
   },
   {
    "duration": 10,
    "start_time": "2023-08-02T13:50:49.372Z"
   },
   {
    "duration": 42,
    "start_time": "2023-08-02T13:50:49.383Z"
   },
   {
    "duration": 474,
    "start_time": "2023-08-02T13:50:49.427Z"
   },
   {
    "duration": 27,
    "start_time": "2023-08-02T13:50:49.904Z"
   },
   {
    "duration": 10,
    "start_time": "2023-08-02T13:50:49.933Z"
   },
   {
    "duration": 8,
    "start_time": "2023-08-02T13:50:49.959Z"
   },
   {
    "duration": 13,
    "start_time": "2023-08-02T13:50:49.968Z"
   },
   {
    "duration": 10,
    "start_time": "2023-08-02T13:50:49.982Z"
   },
   {
    "duration": 12,
    "start_time": "2023-08-02T13:50:49.993Z"
   },
   {
    "duration": 145,
    "start_time": "2023-08-02T13:50:50.006Z"
   },
   {
    "duration": 0,
    "start_time": "2023-08-02T13:50:50.159Z"
   },
   {
    "duration": 376,
    "start_time": "2023-08-03T05:00:20.415Z"
   },
   {
    "duration": 646,
    "start_time": "2023-08-03T05:00:20.793Z"
   },
   {
    "duration": 39,
    "start_time": "2023-08-03T05:00:21.440Z"
   },
   {
    "duration": 22,
    "start_time": "2023-08-03T05:00:21.480Z"
   },
   {
    "duration": 14,
    "start_time": "2023-08-03T05:00:21.505Z"
   },
   {
    "duration": 11,
    "start_time": "2023-08-03T05:00:21.521Z"
   },
   {
    "duration": 38,
    "start_time": "2023-08-03T05:00:21.534Z"
   },
   {
    "duration": 40,
    "start_time": "2023-08-03T05:00:21.574Z"
   },
   {
    "duration": 55,
    "start_time": "2023-08-03T05:00:21.615Z"
   },
   {
    "duration": 116,
    "start_time": "2023-08-03T05:00:21.672Z"
   },
   {
    "duration": 10,
    "start_time": "2023-08-03T05:00:21.790Z"
   },
   {
    "duration": 54,
    "start_time": "2023-08-03T05:00:21.802Z"
   },
   {
    "duration": 441,
    "start_time": "2023-08-03T05:00:21.857Z"
   },
   {
    "duration": 24,
    "start_time": "2023-08-03T05:00:22.301Z"
   },
   {
    "duration": 10,
    "start_time": "2023-08-03T05:00:22.327Z"
   },
   {
    "duration": 17,
    "start_time": "2023-08-03T05:00:22.338Z"
   },
   {
    "duration": 16,
    "start_time": "2023-08-03T05:00:22.356Z"
   },
   {
    "duration": 6,
    "start_time": "2023-08-03T05:00:22.374Z"
   },
   {
    "duration": 24,
    "start_time": "2023-08-03T05:00:22.382Z"
   },
   {
    "duration": 122,
    "start_time": "2023-08-03T05:00:22.408Z"
   },
   {
    "duration": 0,
    "start_time": "2023-08-03T05:00:22.532Z"
   },
   {
    "duration": 53,
    "start_time": "2023-08-03T05:10:40.703Z"
   },
   {
    "duration": 51,
    "start_time": "2023-08-03T05:10:56.665Z"
   },
   {
    "duration": 48,
    "start_time": "2023-08-03T05:11:09.732Z"
   },
   {
    "duration": 49,
    "start_time": "2023-08-03T05:11:13.775Z"
   },
   {
    "duration": 9,
    "start_time": "2023-08-03T05:16:01.316Z"
   },
   {
    "duration": 10,
    "start_time": "2023-08-03T05:16:32.076Z"
   },
   {
    "duration": 17,
    "start_time": "2023-08-03T05:19:20.128Z"
   },
   {
    "duration": 5,
    "start_time": "2023-08-03T05:19:35.809Z"
   },
   {
    "duration": 17,
    "start_time": "2023-08-03T05:20:49.126Z"
   },
   {
    "duration": 23,
    "start_time": "2023-08-03T05:21:15.459Z"
   },
   {
    "duration": 6,
    "start_time": "2023-08-03T05:30:43.726Z"
   },
   {
    "duration": 11,
    "start_time": "2023-08-03T05:30:54.423Z"
   },
   {
    "duration": 9,
    "start_time": "2023-08-03T05:32:03.160Z"
   },
   {
    "duration": 11,
    "start_time": "2023-08-03T05:35:01.129Z"
   },
   {
    "duration": 25,
    "start_time": "2023-08-03T05:43:49.776Z"
   },
   {
    "duration": 15,
    "start_time": "2023-08-03T06:06:45.807Z"
   },
   {
    "duration": 17,
    "start_time": "2023-08-03T06:07:18.317Z"
   },
   {
    "duration": 10,
    "start_time": "2023-08-03T06:08:23.985Z"
   },
   {
    "duration": 18,
    "start_time": "2023-08-03T06:09:08.770Z"
   },
   {
    "duration": 7,
    "start_time": "2023-08-03T06:39:46.585Z"
   },
   {
    "duration": 22,
    "start_time": "2023-08-03T06:39:58.694Z"
   },
   {
    "duration": 20,
    "start_time": "2023-08-03T06:40:03.292Z"
   },
   {
    "duration": 32,
    "start_time": "2023-08-03T06:41:18.457Z"
   },
   {
    "duration": 13,
    "start_time": "2023-08-03T06:41:24.661Z"
   },
   {
    "duration": 28,
    "start_time": "2023-08-03T06:41:45.253Z"
   },
   {
    "duration": 26,
    "start_time": "2023-08-03T06:43:00.740Z"
   },
   {
    "duration": 24,
    "start_time": "2023-08-03T06:43:09.597Z"
   },
   {
    "duration": 8,
    "start_time": "2023-08-03T06:43:56.499Z"
   },
   {
    "duration": 17,
    "start_time": "2023-08-03T06:57:31.389Z"
   },
   {
    "duration": 16,
    "start_time": "2023-08-03T06:57:41.355Z"
   },
   {
    "duration": 12,
    "start_time": "2023-08-03T06:58:12.759Z"
   },
   {
    "duration": 21,
    "start_time": "2023-08-03T07:00:27.119Z"
   },
   {
    "duration": 18,
    "start_time": "2023-08-03T07:00:36.551Z"
   },
   {
    "duration": 7,
    "start_time": "2023-08-03T07:02:43.821Z"
   },
   {
    "duration": 47,
    "start_time": "2023-08-03T07:06:11.943Z"
   },
   {
    "duration": 94,
    "start_time": "2023-08-03T07:07:45.798Z"
   },
   {
    "duration": 11,
    "start_time": "2023-08-03T07:07:47.798Z"
   },
   {
    "duration": 33,
    "start_time": "2023-08-03T07:08:23.243Z"
   },
   {
    "duration": 8,
    "start_time": "2023-08-03T07:08:49.338Z"
   },
   {
    "duration": 6,
    "start_time": "2023-08-03T07:08:59.525Z"
   },
   {
    "duration": 4,
    "start_time": "2023-08-03T07:09:47.865Z"
   },
   {
    "duration": 21,
    "start_time": "2023-08-03T07:09:59.003Z"
   },
   {
    "duration": 49,
    "start_time": "2023-08-03T07:13:44.777Z"
   },
   {
    "duration": 14,
    "start_time": "2023-08-03T07:15:24.416Z"
   },
   {
    "duration": 0,
    "start_time": "2023-08-03T07:18:26.043Z"
   },
   {
    "duration": 2097,
    "start_time": "2023-08-03T07:18:31.206Z"
   },
   {
    "duration": 3,
    "start_time": "2023-08-03T07:18:40.379Z"
   },
   {
    "duration": 786,
    "start_time": "2023-08-03T07:18:40.384Z"
   },
   {
    "duration": 34,
    "start_time": "2023-08-03T07:18:41.171Z"
   },
   {
    "duration": 20,
    "start_time": "2023-08-03T07:18:41.206Z"
   },
   {
    "duration": 13,
    "start_time": "2023-08-03T07:18:41.228Z"
   },
   {
    "duration": 4,
    "start_time": "2023-08-03T07:18:41.242Z"
   },
   {
    "duration": 68,
    "start_time": "2023-08-03T07:18:41.247Z"
   },
   {
    "duration": 31,
    "start_time": "2023-08-03T07:18:41.316Z"
   },
   {
    "duration": 67,
    "start_time": "2023-08-03T07:18:41.348Z"
   },
   {
    "duration": 110,
    "start_time": "2023-08-03T07:18:41.416Z"
   },
   {
    "duration": 9,
    "start_time": "2023-08-03T07:18:41.528Z"
   },
   {
    "duration": 52,
    "start_time": "2023-08-03T07:18:41.538Z"
   },
   {
    "duration": 25,
    "start_time": "2023-08-03T07:18:41.592Z"
   },
   {
    "duration": 29,
    "start_time": "2023-08-03T07:18:41.621Z"
   },
   {
    "duration": 9,
    "start_time": "2023-08-03T07:18:41.651Z"
   },
   {
    "duration": 39,
    "start_time": "2023-08-03T07:18:41.661Z"
   },
   {
    "duration": 11,
    "start_time": "2023-08-03T07:18:41.702Z"
   },
   {
    "duration": 39,
    "start_time": "2023-08-03T07:18:41.715Z"
   },
   {
    "duration": 12,
    "start_time": "2023-08-03T07:18:41.756Z"
   },
   {
    "duration": 32,
    "start_time": "2023-08-03T07:18:41.769Z"
   },
   {
    "duration": 7,
    "start_time": "2023-08-03T07:18:41.803Z"
   },
   {
    "duration": 42,
    "start_time": "2023-08-03T07:18:41.812Z"
   },
   {
    "duration": 24,
    "start_time": "2023-08-03T07:18:41.856Z"
   },
   {
    "duration": 0,
    "start_time": "2023-08-03T07:18:41.883Z"
   },
   {
    "duration": 0,
    "start_time": "2023-08-03T07:18:41.884Z"
   },
   {
    "duration": 0,
    "start_time": "2023-08-03T07:18:41.885Z"
   },
   {
    "duration": 0,
    "start_time": "2023-08-03T07:18:41.886Z"
   },
   {
    "duration": 0,
    "start_time": "2023-08-03T07:18:41.887Z"
   },
   {
    "duration": 0,
    "start_time": "2023-08-03T07:18:41.888Z"
   },
   {
    "duration": 0,
    "start_time": "2023-08-03T07:18:41.889Z"
   },
   {
    "duration": 0,
    "start_time": "2023-08-03T07:18:41.890Z"
   },
   {
    "duration": 0,
    "start_time": "2023-08-03T07:18:41.899Z"
   },
   {
    "duration": 0,
    "start_time": "2023-08-03T07:18:41.900Z"
   },
   {
    "duration": 0,
    "start_time": "2023-08-03T07:18:41.901Z"
   },
   {
    "duration": 0,
    "start_time": "2023-08-03T07:18:41.902Z"
   },
   {
    "duration": 0,
    "start_time": "2023-08-03T07:18:41.903Z"
   },
   {
    "duration": 0,
    "start_time": "2023-08-03T07:18:41.904Z"
   },
   {
    "duration": 0,
    "start_time": "2023-08-03T07:18:41.905Z"
   },
   {
    "duration": 0,
    "start_time": "2023-08-03T07:18:41.906Z"
   },
   {
    "duration": 0,
    "start_time": "2023-08-03T07:18:41.907Z"
   },
   {
    "duration": 0,
    "start_time": "2023-08-03T07:18:41.908Z"
   },
   {
    "duration": 0,
    "start_time": "2023-08-03T07:18:41.909Z"
   },
   {
    "duration": 0,
    "start_time": "2023-08-03T07:18:41.911Z"
   },
   {
    "duration": 0,
    "start_time": "2023-08-03T07:18:41.912Z"
   },
   {
    "duration": 0,
    "start_time": "2023-08-03T07:18:41.913Z"
   },
   {
    "duration": 0,
    "start_time": "2023-08-03T07:18:41.914Z"
   },
   {
    "duration": 0,
    "start_time": "2023-08-03T07:18:41.915Z"
   },
   {
    "duration": 13,
    "start_time": "2023-08-03T07:20:24.622Z"
   },
   {
    "duration": 13,
    "start_time": "2023-08-03T07:20:29.645Z"
   },
   {
    "duration": 2,
    "start_time": "2023-08-03T07:20:42.847Z"
   },
   {
    "duration": 529,
    "start_time": "2023-08-03T07:20:42.851Z"
   },
   {
    "duration": 33,
    "start_time": "2023-08-03T07:20:43.382Z"
   },
   {
    "duration": 29,
    "start_time": "2023-08-03T07:20:43.417Z"
   },
   {
    "duration": 19,
    "start_time": "2023-08-03T07:20:43.449Z"
   },
   {
    "duration": 3,
    "start_time": "2023-08-03T07:20:43.470Z"
   },
   {
    "duration": 32,
    "start_time": "2023-08-03T07:20:43.502Z"
   },
   {
    "duration": 57,
    "start_time": "2023-08-03T07:20:43.536Z"
   },
   {
    "duration": 53,
    "start_time": "2023-08-03T07:20:43.594Z"
   },
   {
    "duration": 107,
    "start_time": "2023-08-03T07:20:43.648Z"
   },
   {
    "duration": 8,
    "start_time": "2023-08-03T07:20:43.756Z"
   },
   {
    "duration": 44,
    "start_time": "2023-08-03T07:20:43.765Z"
   },
   {
    "duration": 26,
    "start_time": "2023-08-03T07:20:43.810Z"
   },
   {
    "duration": 21,
    "start_time": "2023-08-03T07:20:43.839Z"
   },
   {
    "duration": 7,
    "start_time": "2023-08-03T07:20:43.861Z"
   },
   {
    "duration": 37,
    "start_time": "2023-08-03T07:20:43.869Z"
   },
   {
    "duration": 18,
    "start_time": "2023-08-03T07:20:43.908Z"
   },
   {
    "duration": 45,
    "start_time": "2023-08-03T07:20:43.927Z"
   },
   {
    "duration": 12,
    "start_time": "2023-08-03T07:20:43.974Z"
   },
   {
    "duration": 13,
    "start_time": "2023-08-03T07:20:43.988Z"
   },
   {
    "duration": 11,
    "start_time": "2023-08-03T07:20:44.002Z"
   },
   {
    "duration": 6,
    "start_time": "2023-08-03T07:20:44.015Z"
   },
   {
    "duration": 11,
    "start_time": "2023-08-03T07:20:44.022Z"
   },
   {
    "duration": 31,
    "start_time": "2023-08-03T07:20:44.035Z"
   },
   {
    "duration": 0,
    "start_time": "2023-08-03T07:20:44.068Z"
   },
   {
    "duration": 0,
    "start_time": "2023-08-03T07:20:44.069Z"
   },
   {
    "duration": 0,
    "start_time": "2023-08-03T07:20:44.070Z"
   },
   {
    "duration": 0,
    "start_time": "2023-08-03T07:20:44.071Z"
   },
   {
    "duration": 0,
    "start_time": "2023-08-03T07:20:44.072Z"
   },
   {
    "duration": 0,
    "start_time": "2023-08-03T07:20:44.072Z"
   },
   {
    "duration": 0,
    "start_time": "2023-08-03T07:20:44.073Z"
   },
   {
    "duration": 0,
    "start_time": "2023-08-03T07:20:44.100Z"
   },
   {
    "duration": 0,
    "start_time": "2023-08-03T07:20:44.101Z"
   },
   {
    "duration": 0,
    "start_time": "2023-08-03T07:20:44.102Z"
   },
   {
    "duration": 0,
    "start_time": "2023-08-03T07:20:44.103Z"
   },
   {
    "duration": 0,
    "start_time": "2023-08-03T07:20:44.104Z"
   },
   {
    "duration": 0,
    "start_time": "2023-08-03T07:20:44.105Z"
   },
   {
    "duration": 0,
    "start_time": "2023-08-03T07:20:44.106Z"
   },
   {
    "duration": 0,
    "start_time": "2023-08-03T07:20:44.107Z"
   },
   {
    "duration": 0,
    "start_time": "2023-08-03T07:20:44.108Z"
   },
   {
    "duration": 0,
    "start_time": "2023-08-03T07:20:44.109Z"
   },
   {
    "duration": 0,
    "start_time": "2023-08-03T07:20:44.110Z"
   },
   {
    "duration": 0,
    "start_time": "2023-08-03T07:20:44.111Z"
   },
   {
    "duration": 0,
    "start_time": "2023-08-03T07:20:44.112Z"
   },
   {
    "duration": 0,
    "start_time": "2023-08-03T07:20:44.112Z"
   },
   {
    "duration": 0,
    "start_time": "2023-08-03T07:20:44.113Z"
   },
   {
    "duration": 0,
    "start_time": "2023-08-03T07:20:44.115Z"
   },
   {
    "duration": 0,
    "start_time": "2023-08-03T07:20:44.115Z"
   },
   {
    "duration": 23,
    "start_time": "2023-08-03T07:22:45.079Z"
   },
   {
    "duration": 8,
    "start_time": "2023-08-03T07:25:17.669Z"
   },
   {
    "duration": 12,
    "start_time": "2023-08-03T07:26:17.815Z"
   },
   {
    "duration": 17,
    "start_time": "2023-08-03T07:27:33.552Z"
   },
   {
    "duration": 13,
    "start_time": "2023-08-03T07:27:49.319Z"
   },
   {
    "duration": 26,
    "start_time": "2023-08-03T07:29:06.967Z"
   },
   {
    "duration": 8,
    "start_time": "2023-08-03T07:31:44.894Z"
   },
   {
    "duration": 13,
    "start_time": "2023-08-03T07:33:12.970Z"
   },
   {
    "duration": 13,
    "start_time": "2023-08-03T07:35:04.413Z"
   },
   {
    "duration": 6,
    "start_time": "2023-08-03T07:40:37.950Z"
   },
   {
    "duration": 9,
    "start_time": "2023-08-03T07:41:19.551Z"
   },
   {
    "duration": 9,
    "start_time": "2023-08-03T07:41:59.367Z"
   },
   {
    "duration": 28,
    "start_time": "2023-08-03T07:44:15.708Z"
   },
   {
    "duration": 13,
    "start_time": "2023-08-03T07:44:20.077Z"
   },
   {
    "duration": 27,
    "start_time": "2023-08-03T07:44:43.731Z"
   },
   {
    "duration": 40,
    "start_time": "2023-08-03T07:52:13.688Z"
   },
   {
    "duration": 9,
    "start_time": "2023-08-03T07:52:21.111Z"
   },
   {
    "duration": 24,
    "start_time": "2023-08-03T11:16:56.196Z"
   },
   {
    "duration": 2,
    "start_time": "2023-08-03T11:17:17.354Z"
   },
   {
    "duration": 114,
    "start_time": "2023-08-03T11:17:22.257Z"
   },
   {
    "duration": 270,
    "start_time": "2023-08-03T11:18:53.527Z"
   },
   {
    "duration": 255,
    "start_time": "2023-08-03T11:23:06.175Z"
   },
   {
    "duration": 257,
    "start_time": "2023-08-03T11:23:50.891Z"
   },
   {
    "duration": 247,
    "start_time": "2023-08-03T11:24:01.643Z"
   },
   {
    "duration": 285,
    "start_time": "2023-08-03T11:24:09.458Z"
   },
   {
    "duration": 11,
    "start_time": "2023-08-03T11:24:13.831Z"
   },
   {
    "duration": 239,
    "start_time": "2023-08-03T11:24:16.797Z"
   },
   {
    "duration": 219,
    "start_time": "2023-08-03T11:24:29.235Z"
   },
   {
    "duration": 148,
    "start_time": "2023-08-03T11:24:43.722Z"
   },
   {
    "duration": 247,
    "start_time": "2023-08-03T11:28:00.146Z"
   },
   {
    "duration": 242,
    "start_time": "2023-08-03T11:28:06.426Z"
   },
   {
    "duration": 469,
    "start_time": "2023-08-03T11:28:18.748Z"
   },
   {
    "duration": 250,
    "start_time": "2023-08-03T11:28:52.814Z"
   },
   {
    "duration": 20,
    "start_time": "2023-08-03T11:47:42.765Z"
   },
   {
    "duration": 13,
    "start_time": "2023-08-03T11:47:59.703Z"
   },
   {
    "duration": 154,
    "start_time": "2023-08-03T11:48:52.704Z"
   },
   {
    "duration": 114,
    "start_time": "2023-08-03T11:49:02.648Z"
   },
   {
    "duration": 4,
    "start_time": "2023-08-03T11:53:37.202Z"
   },
   {
    "duration": 8,
    "start_time": "2023-08-03T11:54:00.299Z"
   },
   {
    "duration": 17,
    "start_time": "2023-08-03T11:54:05.127Z"
   },
   {
    "duration": 28,
    "start_time": "2023-08-03T11:54:35.424Z"
   },
   {
    "duration": 28,
    "start_time": "2023-08-03T11:54:49.349Z"
   },
   {
    "duration": 197,
    "start_time": "2023-08-03T11:55:20.139Z"
   },
   {
    "duration": 189,
    "start_time": "2023-08-03T11:55:33.415Z"
   },
   {
    "duration": 43,
    "start_time": "2023-08-03T11:55:56.642Z"
   },
   {
    "duration": 39,
    "start_time": "2023-08-03T11:56:02.753Z"
   },
   {
    "duration": 199,
    "start_time": "2023-08-03T11:56:07.473Z"
   },
   {
    "duration": 264,
    "start_time": "2023-08-03T11:58:04.554Z"
   },
   {
    "duration": 162,
    "start_time": "2023-08-03T11:58:40.381Z"
   },
   {
    "duration": 290,
    "start_time": "2023-08-03T11:59:41.070Z"
   },
   {
    "duration": 324,
    "start_time": "2023-08-03T12:00:15.622Z"
   },
   {
    "duration": 400,
    "start_time": "2023-08-03T12:00:22.274Z"
   },
   {
    "duration": 233,
    "start_time": "2023-08-03T12:01:11.407Z"
   },
   {
    "duration": 232,
    "start_time": "2023-08-03T12:04:19.084Z"
   },
   {
    "duration": 100,
    "start_time": "2023-08-03T12:07:49.109Z"
   },
   {
    "duration": 284,
    "start_time": "2023-08-03T12:09:42.590Z"
   },
   {
    "duration": 155,
    "start_time": "2023-08-03T12:09:49.886Z"
   },
   {
    "duration": 189,
    "start_time": "2023-08-03T12:09:56.832Z"
   },
   {
    "duration": 176,
    "start_time": "2023-08-03T12:10:06.267Z"
   },
   {
    "duration": 350,
    "start_time": "2023-08-03T12:10:18.415Z"
   },
   {
    "duration": 207,
    "start_time": "2023-08-03T12:10:25.988Z"
   },
   {
    "duration": 283,
    "start_time": "2023-08-03T12:10:31.502Z"
   },
   {
    "duration": 152,
    "start_time": "2023-08-03T12:11:09.314Z"
   },
   {
    "duration": 160,
    "start_time": "2023-08-03T12:11:19.072Z"
   },
   {
    "duration": 273,
    "start_time": "2023-08-03T12:11:26.272Z"
   },
   {
    "duration": 753,
    "start_time": "2023-08-03T13:55:46.883Z"
   },
   {
    "duration": 464,
    "start_time": "2023-08-03T13:55:47.638Z"
   },
   {
    "duration": 41,
    "start_time": "2023-08-03T13:55:48.104Z"
   },
   {
    "duration": 22,
    "start_time": "2023-08-03T13:55:48.147Z"
   },
   {
    "duration": 12,
    "start_time": "2023-08-03T13:55:48.170Z"
   },
   {
    "duration": 4,
    "start_time": "2023-08-03T13:55:48.183Z"
   },
   {
    "duration": 56,
    "start_time": "2023-08-03T13:55:48.189Z"
   },
   {
    "duration": 30,
    "start_time": "2023-08-03T13:55:48.247Z"
   },
   {
    "duration": 69,
    "start_time": "2023-08-03T13:55:48.279Z"
   },
   {
    "duration": 103,
    "start_time": "2023-08-03T13:55:48.351Z"
   },
   {
    "duration": 8,
    "start_time": "2023-08-03T13:55:48.456Z"
   },
   {
    "duration": 32,
    "start_time": "2023-08-03T13:55:48.465Z"
   },
   {
    "duration": 76,
    "start_time": "2023-08-03T13:55:48.499Z"
   },
   {
    "duration": 19,
    "start_time": "2023-08-03T13:55:48.577Z"
   },
   {
    "duration": 24,
    "start_time": "2023-08-03T13:55:48.598Z"
   },
   {
    "duration": 18,
    "start_time": "2023-08-03T13:55:48.623Z"
   },
   {
    "duration": 12,
    "start_time": "2023-08-03T13:55:48.643Z"
   },
   {
    "duration": 36,
    "start_time": "2023-08-03T13:55:48.656Z"
   },
   {
    "duration": 11,
    "start_time": "2023-08-03T13:55:48.694Z"
   },
   {
    "duration": 17,
    "start_time": "2023-08-03T13:55:48.707Z"
   },
   {
    "duration": 25,
    "start_time": "2023-08-03T13:55:48.726Z"
   },
   {
    "duration": 12,
    "start_time": "2023-08-03T13:55:48.752Z"
   },
   {
    "duration": 6,
    "start_time": "2023-08-03T13:55:48.765Z"
   },
   {
    "duration": 11,
    "start_time": "2023-08-03T13:55:48.773Z"
   },
   {
    "duration": 57,
    "start_time": "2023-08-03T13:55:48.786Z"
   },
   {
    "duration": 13,
    "start_time": "2023-08-03T13:55:48.845Z"
   },
   {
    "duration": 306,
    "start_time": "2023-08-03T13:55:48.859Z"
   },
   {
    "duration": 162,
    "start_time": "2023-08-03T13:55:49.169Z"
   },
   {
    "duration": 0,
    "start_time": "2023-08-03T13:55:49.332Z"
   },
   {
    "duration": 0,
    "start_time": "2023-08-03T13:55:49.333Z"
   },
   {
    "duration": 0,
    "start_time": "2023-08-03T13:55:49.334Z"
   },
   {
    "duration": 0,
    "start_time": "2023-08-03T13:55:49.335Z"
   },
   {
    "duration": 0,
    "start_time": "2023-08-03T13:55:49.336Z"
   },
   {
    "duration": 0,
    "start_time": "2023-08-03T13:55:49.337Z"
   },
   {
    "duration": 0,
    "start_time": "2023-08-03T13:55:49.338Z"
   },
   {
    "duration": 0,
    "start_time": "2023-08-03T13:55:49.339Z"
   },
   {
    "duration": 0,
    "start_time": "2023-08-03T13:55:49.340Z"
   },
   {
    "duration": 0,
    "start_time": "2023-08-03T13:55:49.341Z"
   },
   {
    "duration": 0,
    "start_time": "2023-08-03T13:55:49.342Z"
   },
   {
    "duration": 0,
    "start_time": "2023-08-03T13:55:49.343Z"
   },
   {
    "duration": 0,
    "start_time": "2023-08-03T13:55:49.344Z"
   },
   {
    "duration": 0,
    "start_time": "2023-08-03T13:55:49.345Z"
   },
   {
    "duration": 0,
    "start_time": "2023-08-03T13:55:49.346Z"
   },
   {
    "duration": 0,
    "start_time": "2023-08-03T13:55:49.347Z"
   },
   {
    "duration": 0,
    "start_time": "2023-08-03T13:55:49.348Z"
   },
   {
    "duration": 0,
    "start_time": "2023-08-03T13:55:49.349Z"
   },
   {
    "duration": 0,
    "start_time": "2023-08-03T13:55:49.350Z"
   },
   {
    "duration": 0,
    "start_time": "2023-08-03T13:55:49.352Z"
   },
   {
    "duration": 0,
    "start_time": "2023-08-03T13:55:49.353Z"
   },
   {
    "duration": 0,
    "start_time": "2023-08-03T13:55:49.354Z"
   },
   {
    "duration": 0,
    "start_time": "2023-08-03T13:55:49.355Z"
   },
   {
    "duration": 248,
    "start_time": "2023-08-03T13:57:05.004Z"
   },
   {
    "duration": 183,
    "start_time": "2023-08-03T13:57:27.363Z"
   },
   {
    "duration": 134,
    "start_time": "2023-08-03T13:57:42.424Z"
   },
   {
    "duration": 181,
    "start_time": "2023-08-03T13:57:54.864Z"
   },
   {
    "duration": 195,
    "start_time": "2023-08-03T13:58:01.065Z"
   },
   {
    "duration": 197,
    "start_time": "2023-08-03T13:58:34.610Z"
   },
   {
    "duration": 208,
    "start_time": "2023-08-03T13:58:49.003Z"
   },
   {
    "duration": 138,
    "start_time": "2023-08-03T14:00:08.696Z"
   },
   {
    "duration": 255,
    "start_time": "2023-08-03T14:00:15.321Z"
   },
   {
    "duration": 246,
    "start_time": "2023-08-03T14:01:04.812Z"
   },
   {
    "duration": 241,
    "start_time": "2023-08-03T14:02:23.742Z"
   },
   {
    "duration": 282,
    "start_time": "2023-08-03T14:02:35.618Z"
   },
   {
    "duration": 310,
    "start_time": "2023-08-03T14:02:51.832Z"
   },
   {
    "duration": 227,
    "start_time": "2023-08-03T14:03:01.229Z"
   },
   {
    "duration": 265,
    "start_time": "2023-08-03T14:03:19.303Z"
   },
   {
    "duration": 238,
    "start_time": "2023-08-03T14:03:27.821Z"
   },
   {
    "duration": 219,
    "start_time": "2023-08-03T14:44:44.018Z"
   },
   {
    "duration": 262,
    "start_time": "2023-08-03T14:45:34.426Z"
   },
   {
    "duration": 232,
    "start_time": "2023-08-03T14:47:14.545Z"
   },
   {
    "duration": 259,
    "start_time": "2023-08-03T14:47:26.325Z"
   },
   {
    "duration": 240,
    "start_time": "2023-08-03T14:50:39.684Z"
   },
   {
    "duration": 315,
    "start_time": "2023-08-03T14:50:51.239Z"
   },
   {
    "duration": 252,
    "start_time": "2023-08-03T14:51:10.284Z"
   },
   {
    "duration": 250,
    "start_time": "2023-08-03T14:52:08.178Z"
   },
   {
    "duration": 264,
    "start_time": "2023-08-03T14:52:47.256Z"
   },
   {
    "duration": 259,
    "start_time": "2023-08-03T14:53:12.859Z"
   },
   {
    "duration": 299,
    "start_time": "2023-08-03T14:53:16.484Z"
   },
   {
    "duration": 338,
    "start_time": "2023-08-03T14:55:00.431Z"
   },
   {
    "duration": 326,
    "start_time": "2023-08-03T14:55:44.736Z"
   },
   {
    "duration": 426,
    "start_time": "2023-08-03T14:56:59.235Z"
   },
   {
    "duration": 362,
    "start_time": "2023-08-03T14:57:15.847Z"
   },
   {
    "duration": 357,
    "start_time": "2023-08-03T14:59:13.385Z"
   },
   {
    "duration": 74,
    "start_time": "2023-08-03T14:59:28.684Z"
   },
   {
    "duration": 68,
    "start_time": "2023-08-03T14:59:36.783Z"
   },
   {
    "duration": 334,
    "start_time": "2023-08-03T14:59:43.089Z"
   },
   {
    "duration": 319,
    "start_time": "2023-08-03T15:01:08.282Z"
   },
   {
    "duration": 323,
    "start_time": "2023-08-03T15:01:36.187Z"
   },
   {
    "duration": 387,
    "start_time": "2023-08-03T15:01:52.345Z"
   },
   {
    "duration": 324,
    "start_time": "2023-08-03T15:01:59.546Z"
   },
   {
    "duration": 22,
    "start_time": "2023-08-03T15:12:58.885Z"
   },
   {
    "duration": 35,
    "start_time": "2023-08-03T15:13:25.101Z"
   },
   {
    "duration": 26,
    "start_time": "2023-08-03T15:13:43.193Z"
   },
   {
    "duration": 159,
    "start_time": "2023-08-03T15:14:16.605Z"
   },
   {
    "duration": 17,
    "start_time": "2023-08-03T15:15:02.992Z"
   },
   {
    "duration": 18,
    "start_time": "2023-08-03T15:15:20.588Z"
   },
   {
    "duration": 14,
    "start_time": "2023-08-03T15:15:35.104Z"
   },
   {
    "duration": 12,
    "start_time": "2023-08-03T15:15:53.336Z"
   },
   {
    "duration": 113,
    "start_time": "2023-08-03T15:16:16.822Z"
   },
   {
    "duration": 135,
    "start_time": "2023-08-03T15:16:42.489Z"
   },
   {
    "duration": 160,
    "start_time": "2023-08-03T15:18:20.501Z"
   },
   {
    "duration": 168,
    "start_time": "2023-08-03T15:19:01.289Z"
   },
   {
    "duration": 164,
    "start_time": "2023-08-03T15:19:27.609Z"
   },
   {
    "duration": 210,
    "start_time": "2023-08-03T15:19:36.304Z"
   },
   {
    "duration": 351,
    "start_time": "2023-08-03T15:19:52.992Z"
   },
   {
    "duration": 361,
    "start_time": "2023-08-03T15:20:09.300Z"
   },
   {
    "duration": 345,
    "start_time": "2023-08-03T15:21:49.384Z"
   },
   {
    "duration": 338,
    "start_time": "2023-08-03T15:22:11.896Z"
   },
   {
    "duration": 365,
    "start_time": "2023-08-03T15:22:53.977Z"
   },
   {
    "duration": 397,
    "start_time": "2023-08-03T15:23:45.909Z"
   },
   {
    "duration": 266,
    "start_time": "2023-08-03T15:24:04.582Z"
   },
   {
    "duration": 2,
    "start_time": "2023-08-03T15:27:56.003Z"
   },
   {
    "duration": 501,
    "start_time": "2023-08-03T15:27:57.594Z"
   },
   {
    "duration": 47,
    "start_time": "2023-08-03T15:27:59.443Z"
   },
   {
    "duration": 3,
    "start_time": "2023-08-03T15:28:03.688Z"
   },
   {
    "duration": 464,
    "start_time": "2023-08-03T15:28:03.695Z"
   },
   {
    "duration": 38,
    "start_time": "2023-08-03T15:28:04.162Z"
   },
   {
    "duration": 24,
    "start_time": "2023-08-03T15:28:04.201Z"
   },
   {
    "duration": 14,
    "start_time": "2023-08-03T15:28:04.227Z"
   },
   {
    "duration": 3,
    "start_time": "2023-08-03T15:28:04.243Z"
   },
   {
    "duration": 52,
    "start_time": "2023-08-03T15:28:04.248Z"
   },
   {
    "duration": 42,
    "start_time": "2023-08-03T15:28:04.301Z"
   },
   {
    "duration": 55,
    "start_time": "2023-08-03T15:28:04.344Z"
   },
   {
    "duration": 113,
    "start_time": "2023-08-03T15:28:04.400Z"
   },
   {
    "duration": 9,
    "start_time": "2023-08-03T15:28:04.520Z"
   },
   {
    "duration": 33,
    "start_time": "2023-08-03T15:28:04.531Z"
   },
   {
    "duration": 32,
    "start_time": "2023-08-03T15:28:04.566Z"
   },
   {
    "duration": 41,
    "start_time": "2023-08-03T15:28:04.599Z"
   },
   {
    "duration": 9,
    "start_time": "2023-08-03T15:28:04.643Z"
   },
   {
    "duration": 12,
    "start_time": "2023-08-03T15:28:04.653Z"
   },
   {
    "duration": 17,
    "start_time": "2023-08-03T15:28:04.667Z"
   },
   {
    "duration": 52,
    "start_time": "2023-08-03T15:28:04.686Z"
   },
   {
    "duration": 15,
    "start_time": "2023-08-03T15:28:04.740Z"
   },
   {
    "duration": 19,
    "start_time": "2023-08-03T15:28:04.756Z"
   },
   {
    "duration": 38,
    "start_time": "2023-08-03T15:28:04.777Z"
   },
   {
    "duration": 13,
    "start_time": "2023-08-03T15:28:04.820Z"
   },
   {
    "duration": 6,
    "start_time": "2023-08-03T15:28:04.835Z"
   },
   {
    "duration": 13,
    "start_time": "2023-08-03T15:28:04.842Z"
   },
   {
    "duration": 32,
    "start_time": "2023-08-03T15:28:04.857Z"
   },
   {
    "duration": 13,
    "start_time": "2023-08-03T15:28:04.919Z"
   },
   {
    "duration": 297,
    "start_time": "2023-08-03T15:28:04.933Z"
   },
   {
    "duration": 414,
    "start_time": "2023-08-03T15:28:05.231Z"
   },
   {
    "duration": 187,
    "start_time": "2023-08-03T15:28:05.647Z"
   },
   {
    "duration": 114,
    "start_time": "2023-08-03T15:28:05.836Z"
   },
   {
    "duration": 0,
    "start_time": "2023-08-03T15:28:05.952Z"
   },
   {
    "duration": 0,
    "start_time": "2023-08-03T15:28:05.956Z"
   },
   {
    "duration": 0,
    "start_time": "2023-08-03T15:28:05.957Z"
   },
   {
    "duration": 0,
    "start_time": "2023-08-03T15:28:05.959Z"
   },
   {
    "duration": 0,
    "start_time": "2023-08-03T15:28:05.961Z"
   },
   {
    "duration": 0,
    "start_time": "2023-08-03T15:28:05.962Z"
   },
   {
    "duration": 0,
    "start_time": "2023-08-03T15:28:05.963Z"
   },
   {
    "duration": 0,
    "start_time": "2023-08-03T15:28:05.964Z"
   },
   {
    "duration": 0,
    "start_time": "2023-08-03T15:28:05.965Z"
   },
   {
    "duration": 0,
    "start_time": "2023-08-03T15:28:05.966Z"
   },
   {
    "duration": 0,
    "start_time": "2023-08-03T15:28:05.967Z"
   },
   {
    "duration": 0,
    "start_time": "2023-08-03T15:28:05.967Z"
   },
   {
    "duration": 0,
    "start_time": "2023-08-03T15:28:05.968Z"
   },
   {
    "duration": 0,
    "start_time": "2023-08-03T15:28:05.968Z"
   },
   {
    "duration": 0,
    "start_time": "2023-08-03T15:28:05.969Z"
   },
   {
    "duration": 0,
    "start_time": "2023-08-03T15:28:05.969Z"
   },
   {
    "duration": 0,
    "start_time": "2023-08-03T15:28:05.970Z"
   },
   {
    "duration": 0,
    "start_time": "2023-08-03T15:28:05.972Z"
   },
   {
    "duration": 0,
    "start_time": "2023-08-03T15:28:05.973Z"
   },
   {
    "duration": 0,
    "start_time": "2023-08-03T15:28:05.974Z"
   },
   {
    "duration": 0,
    "start_time": "2023-08-03T15:28:05.975Z"
   },
   {
    "duration": 0,
    "start_time": "2023-08-03T15:28:05.975Z"
   },
   {
    "duration": 0,
    "start_time": "2023-08-03T15:28:05.976Z"
   },
   {
    "duration": 169,
    "start_time": "2023-08-03T15:29:03.752Z"
   },
   {
    "duration": 15,
    "start_time": "2023-08-03T15:37:41.453Z"
   },
   {
    "duration": 9,
    "start_time": "2023-08-03T15:38:13.938Z"
   },
   {
    "duration": 4,
    "start_time": "2023-08-03T15:38:42.604Z"
   },
   {
    "duration": 21,
    "start_time": "2023-08-03T15:38:48.626Z"
   },
   {
    "duration": 15,
    "start_time": "2023-08-03T15:38:57.137Z"
   },
   {
    "duration": 23,
    "start_time": "2023-08-03T15:39:08.444Z"
   },
   {
    "duration": 24,
    "start_time": "2023-08-03T15:39:32.705Z"
   },
   {
    "duration": 34,
    "start_time": "2023-08-03T15:39:53.949Z"
   },
   {
    "duration": 24,
    "start_time": "2023-08-03T15:40:15.903Z"
   },
   {
    "duration": 15,
    "start_time": "2023-08-03T15:40:31.312Z"
   },
   {
    "duration": 38,
    "start_time": "2023-08-03T15:41:31.241Z"
   },
   {
    "duration": 20,
    "start_time": "2023-08-03T15:41:59.162Z"
   },
   {
    "duration": 8,
    "start_time": "2023-08-03T15:42:43.987Z"
   },
   {
    "duration": 73,
    "start_time": "2023-08-03T15:43:34.827Z"
   },
   {
    "duration": 10,
    "start_time": "2023-08-03T15:43:40.602Z"
   },
   {
    "duration": 8,
    "start_time": "2023-08-03T15:43:52.891Z"
   },
   {
    "duration": 11,
    "start_time": "2023-08-03T15:44:28.146Z"
   },
   {
    "duration": 9,
    "start_time": "2023-08-03T15:44:56.396Z"
   },
   {
    "duration": 13,
    "start_time": "2023-08-03T15:45:02.309Z"
   },
   {
    "duration": 5,
    "start_time": "2023-08-03T15:45:34.281Z"
   },
   {
    "duration": 20,
    "start_time": "2023-08-03T15:45:40.183Z"
   },
   {
    "duration": 31,
    "start_time": "2023-08-03T15:47:30.308Z"
   },
   {
    "duration": 269,
    "start_time": "2023-08-03T16:46:05.801Z"
   },
   {
    "duration": 117,
    "start_time": "2023-08-03T16:52:01.643Z"
   },
   {
    "duration": 2056,
    "start_time": "2023-08-03T16:52:09.395Z"
   },
   {
    "duration": 417,
    "start_time": "2023-08-03T16:55:59.954Z"
   },
   {
    "duration": 153,
    "start_time": "2023-08-03T17:16:13.612Z"
   },
   {
    "duration": 74,
    "start_time": "2023-08-03T17:22:12.165Z"
   },
   {
    "duration": 15,
    "start_time": "2023-08-03T17:23:00.312Z"
   },
   {
    "duration": 23,
    "start_time": "2023-08-03T17:24:00.961Z"
   },
   {
    "duration": 21,
    "start_time": "2023-08-03T17:24:10.724Z"
   },
   {
    "duration": 24,
    "start_time": "2023-08-03T17:27:22.066Z"
   },
   {
    "duration": 335,
    "start_time": "2023-08-03T17:29:26.955Z"
   },
   {
    "duration": 12,
    "start_time": "2023-08-03T17:41:25.337Z"
   },
   {
    "duration": 23300,
    "start_time": "2023-08-03T17:41:29.420Z"
   },
   {
    "duration": 13,
    "start_time": "2023-08-03T17:41:52.722Z"
   },
   {
    "duration": 24610,
    "start_time": "2023-08-03T17:42:03.217Z"
   },
   {
    "duration": 9,
    "start_time": "2023-08-03T17:42:27.830Z"
   },
   {
    "duration": 7,
    "start_time": "2023-08-03T17:43:28.368Z"
   },
   {
    "duration": 9,
    "start_time": "2023-08-03T17:43:37.232Z"
   },
   {
    "duration": 10,
    "start_time": "2023-08-03T17:44:03.537Z"
   },
   {
    "duration": 9,
    "start_time": "2023-08-03T17:44:26.962Z"
   },
   {
    "duration": 25124,
    "start_time": "2023-08-03T17:44:29.962Z"
   },
   {
    "duration": 11,
    "start_time": "2023-08-03T17:44:55.088Z"
   },
   {
    "duration": 10,
    "start_time": "2023-08-03T17:45:09.833Z"
   },
   {
    "duration": 12,
    "start_time": "2023-08-03T17:45:17.900Z"
   },
   {
    "duration": 13,
    "start_time": "2023-08-03T17:45:25.955Z"
   },
   {
    "duration": 18,
    "start_time": "2023-08-03T17:45:46.497Z"
   },
   {
    "duration": 23178,
    "start_time": "2023-08-03T17:47:55.721Z"
   },
   {
    "duration": 7,
    "start_time": "2023-08-03T17:48:18.901Z"
   },
   {
    "duration": 152,
    "start_time": "2023-08-03T17:49:21.661Z"
   },
   {
    "duration": 22,
    "start_time": "2023-08-03T17:49:40.243Z"
   },
   {
    "duration": 38,
    "start_time": "2023-08-03T18:14:25.653Z"
   },
   {
    "duration": 8,
    "start_time": "2023-08-03T18:14:31.063Z"
   },
   {
    "duration": 15,
    "start_time": "2023-08-03T18:14:42.396Z"
   },
   {
    "duration": 32,
    "start_time": "2023-08-03T18:15:08.936Z"
   },
   {
    "duration": 57,
    "start_time": "2023-08-03T18:15:15.212Z"
   },
   {
    "duration": 69,
    "start_time": "2023-08-03T18:15:21.936Z"
   },
   {
    "duration": 195,
    "start_time": "2023-08-03T18:16:22.403Z"
   },
   {
    "duration": 160,
    "start_time": "2023-08-03T18:16:42.724Z"
   },
   {
    "duration": 155,
    "start_time": "2023-08-03T18:16:51.688Z"
   },
   {
    "duration": 61,
    "start_time": "2023-08-03T18:22:21.108Z"
   },
   {
    "duration": 254,
    "start_time": "2023-08-03T18:22:30.036Z"
   },
   {
    "duration": 151,
    "start_time": "2023-08-03T18:22:39.934Z"
   },
   {
    "duration": 258,
    "start_time": "2023-08-03T18:24:50.996Z"
   },
   {
    "duration": 184,
    "start_time": "2023-08-03T18:24:57.996Z"
   },
   {
    "duration": 65,
    "start_time": "2023-08-03T18:25:23.704Z"
   },
   {
    "duration": 121,
    "start_time": "2023-08-03T18:26:02.830Z"
   },
   {
    "duration": 103,
    "start_time": "2023-08-03T18:26:18.596Z"
   },
   {
    "duration": 151,
    "start_time": "2023-08-03T18:26:28.492Z"
   },
   {
    "duration": 225,
    "start_time": "2023-08-03T18:27:25.320Z"
   },
   {
    "duration": 173,
    "start_time": "2023-08-03T18:27:33.124Z"
   },
   {
    "duration": 192,
    "start_time": "2023-08-03T18:28:21.041Z"
   },
   {
    "duration": 153,
    "start_time": "2023-08-03T18:28:44.892Z"
   },
   {
    "duration": 140,
    "start_time": "2023-08-03T18:30:21.439Z"
   },
   {
    "duration": 30,
    "start_time": "2023-08-03T18:32:15.218Z"
   },
   {
    "duration": 133,
    "start_time": "2023-08-03T18:32:23.504Z"
   },
   {
    "duration": 167,
    "start_time": "2023-08-03T18:32:31.439Z"
   },
   {
    "duration": 28,
    "start_time": "2023-08-03T18:32:49.828Z"
   },
   {
    "duration": 207,
    "start_time": "2023-08-03T18:32:55.096Z"
   },
   {
    "duration": 39,
    "start_time": "2023-08-03T18:33:06.292Z"
   },
   {
    "duration": 172,
    "start_time": "2023-08-03T18:33:08.750Z"
   },
   {
    "duration": 39,
    "start_time": "2023-08-03T18:40:50.121Z"
   },
   {
    "duration": 176,
    "start_time": "2023-08-03T18:40:54.477Z"
   },
   {
    "duration": 174,
    "start_time": "2023-08-03T18:42:35.956Z"
   },
   {
    "duration": 4,
    "start_time": "2023-08-03T18:42:41.918Z"
   },
   {
    "duration": 17,
    "start_time": "2023-08-03T18:42:59.318Z"
   },
   {
    "duration": 6,
    "start_time": "2023-08-03T18:46:34.717Z"
   },
   {
    "duration": 4,
    "start_time": "2023-08-03T18:46:52.966Z"
   },
   {
    "duration": 29,
    "start_time": "2023-08-03T18:55:10.228Z"
   },
   {
    "duration": 14,
    "start_time": "2023-08-03T18:56:29.194Z"
   },
   {
    "duration": 15,
    "start_time": "2023-08-03T18:56:35.947Z"
   },
   {
    "duration": 14,
    "start_time": "2023-08-03T18:56:41.721Z"
   },
   {
    "duration": 15,
    "start_time": "2023-08-03T18:56:44.945Z"
   },
   {
    "duration": 40,
    "start_time": "2023-08-03T18:57:06.567Z"
   },
   {
    "duration": 10,
    "start_time": "2023-08-03T18:57:07.630Z"
   },
   {
    "duration": 28,
    "start_time": "2023-08-03T18:57:14.951Z"
   },
   {
    "duration": 26,
    "start_time": "2023-08-03T18:57:27.905Z"
   },
   {
    "duration": 29,
    "start_time": "2023-08-03T18:57:29.909Z"
   },
   {
    "duration": 14,
    "start_time": "2023-08-03T18:57:35.616Z"
   },
   {
    "duration": 17,
    "start_time": "2023-08-03T18:57:47.267Z"
   },
   {
    "duration": 26,
    "start_time": "2023-08-03T18:59:41.013Z"
   },
   {
    "duration": 28,
    "start_time": "2023-08-03T19:00:08.638Z"
   },
   {
    "duration": 197,
    "start_time": "2023-08-03T19:00:35.669Z"
   },
   {
    "duration": 9,
    "start_time": "2023-08-03T19:01:47.301Z"
   },
   {
    "duration": 8,
    "start_time": "2023-08-03T19:01:55.489Z"
   },
   {
    "duration": 8,
    "start_time": "2023-08-03T19:02:07.627Z"
   },
   {
    "duration": 4,
    "start_time": "2023-08-03T19:02:28.867Z"
   },
   {
    "duration": 3,
    "start_time": "2023-08-03T19:02:45.247Z"
   },
   {
    "duration": 116,
    "start_time": "2023-08-03T19:03:21.965Z"
   },
   {
    "duration": 100,
    "start_time": "2023-08-03T19:04:15.747Z"
   },
   {
    "duration": 89,
    "start_time": "2023-08-03T19:04:54.889Z"
   },
   {
    "duration": 96,
    "start_time": "2023-08-03T19:05:07.408Z"
   },
   {
    "duration": 91,
    "start_time": "2023-08-03T19:05:14.316Z"
   },
   {
    "duration": 86,
    "start_time": "2023-08-03T19:05:34.509Z"
   },
   {
    "duration": 8,
    "start_time": "2023-08-03T19:05:47.457Z"
   },
   {
    "duration": 14,
    "start_time": "2023-08-03T19:06:32.036Z"
   },
   {
    "duration": 57,
    "start_time": "2023-08-03T19:07:14.343Z"
   },
   {
    "duration": 16,
    "start_time": "2023-08-03T19:07:19.913Z"
   },
   {
    "duration": 92,
    "start_time": "2023-08-03T19:08:53.713Z"
   },
   {
    "duration": 95,
    "start_time": "2023-08-03T19:09:09.298Z"
   },
   {
    "duration": 93,
    "start_time": "2023-08-03T19:09:28.958Z"
   },
   {
    "duration": 217,
    "start_time": "2023-08-03T19:19:56.404Z"
   },
   {
    "duration": 115,
    "start_time": "2023-08-03T19:20:05.392Z"
   },
   {
    "duration": 102,
    "start_time": "2023-08-03T19:20:51.841Z"
   },
   {
    "duration": 130,
    "start_time": "2023-08-03T19:21:00.409Z"
   },
   {
    "duration": 307,
    "start_time": "2023-08-03T19:22:18.763Z"
   },
   {
    "duration": 247,
    "start_time": "2023-08-03T19:22:51.600Z"
   },
   {
    "duration": 35,
    "start_time": "2023-08-03T19:24:05.201Z"
   },
   {
    "duration": 45025,
    "start_time": "2023-08-03T19:37:20.606Z"
   },
   {
    "duration": 259,
    "start_time": "2023-08-03T19:44:15.844Z"
   },
   {
    "duration": 109,
    "start_time": "2023-08-03T19:44:21.410Z"
   },
   {
    "duration": 119,
    "start_time": "2023-08-03T19:44:29.300Z"
   },
   {
    "duration": 207,
    "start_time": "2023-08-03T19:45:54.351Z"
   },
   {
    "duration": 324,
    "start_time": "2023-08-03T19:46:15.432Z"
   },
   {
    "duration": 4,
    "start_time": "2023-08-03T19:46:39.807Z"
   },
   {
    "duration": 5,
    "start_time": "2023-08-03T19:46:50.707Z"
   },
   {
    "duration": 41,
    "start_time": "2023-08-03T19:48:15.705Z"
   },
   {
    "duration": 14,
    "start_time": "2023-08-03T19:48:23.498Z"
   },
   {
    "duration": 33,
    "start_time": "2023-08-03T19:49:16.556Z"
   },
   {
    "duration": 12,
    "start_time": "2023-08-03T19:49:18.664Z"
   },
   {
    "duration": 3,
    "start_time": "2023-08-03T19:49:46.411Z"
   },
   {
    "duration": 656,
    "start_time": "2023-08-03T19:49:46.415Z"
   },
   {
    "duration": 35,
    "start_time": "2023-08-03T19:49:47.072Z"
   },
   {
    "duration": 34,
    "start_time": "2023-08-03T19:49:47.109Z"
   },
   {
    "duration": 12,
    "start_time": "2023-08-03T19:49:47.145Z"
   },
   {
    "duration": 3,
    "start_time": "2023-08-03T19:49:47.159Z"
   },
   {
    "duration": 40,
    "start_time": "2023-08-03T19:49:47.164Z"
   },
   {
    "duration": 44,
    "start_time": "2023-08-03T19:49:47.206Z"
   },
   {
    "duration": 55,
    "start_time": "2023-08-03T19:49:47.251Z"
   },
   {
    "duration": 108,
    "start_time": "2023-08-03T19:49:47.308Z"
   },
   {
    "duration": 14,
    "start_time": "2023-08-03T19:49:47.417Z"
   },
   {
    "duration": 44,
    "start_time": "2023-08-03T19:49:47.432Z"
   },
   {
    "duration": 26,
    "start_time": "2023-08-03T19:49:47.477Z"
   },
   {
    "duration": 16,
    "start_time": "2023-08-03T19:49:47.505Z"
   },
   {
    "duration": 7,
    "start_time": "2023-08-03T19:49:47.522Z"
   },
   {
    "duration": 37,
    "start_time": "2023-08-03T19:49:47.531Z"
   },
   {
    "duration": 9,
    "start_time": "2023-08-03T19:49:47.570Z"
   },
   {
    "duration": 30,
    "start_time": "2023-08-03T19:49:47.580Z"
   },
   {
    "duration": 16,
    "start_time": "2023-08-03T19:49:47.611Z"
   },
   {
    "duration": 25,
    "start_time": "2023-08-03T19:49:47.629Z"
   },
   {
    "duration": 25,
    "start_time": "2023-08-03T19:49:47.655Z"
   },
   {
    "duration": 12,
    "start_time": "2023-08-03T19:49:47.681Z"
   },
   {
    "duration": 5,
    "start_time": "2023-08-03T19:49:47.694Z"
   },
   {
    "duration": 16,
    "start_time": "2023-08-03T19:49:47.700Z"
   },
   {
    "duration": 37,
    "start_time": "2023-08-03T19:49:47.718Z"
   },
   {
    "duration": 7,
    "start_time": "2023-08-03T19:49:47.756Z"
   },
   {
    "duration": 279,
    "start_time": "2023-08-03T19:49:47.765Z"
   },
   {
    "duration": 354,
    "start_time": "2023-08-03T19:49:48.045Z"
   },
   {
    "duration": 173,
    "start_time": "2023-08-03T19:49:48.400Z"
   },
   {
    "duration": 176,
    "start_time": "2023-08-03T19:49:48.575Z"
   },
   {
    "duration": 20,
    "start_time": "2023-08-03T19:49:48.753Z"
   },
   {
    "duration": 19,
    "start_time": "2023-08-03T19:49:48.775Z"
   },
   {
    "duration": 44,
    "start_time": "2023-08-03T19:49:48.795Z"
   },
   {
    "duration": 28,
    "start_time": "2023-08-03T19:49:48.843Z"
   },
   {
    "duration": 274,
    "start_time": "2023-08-03T19:49:48.872Z"
   },
   {
    "duration": 319,
    "start_time": "2023-08-03T19:49:55.343Z"
   },
   {
    "duration": 23,
    "start_time": "2023-08-03T19:50:07.931Z"
   },
   {
    "duration": 17,
    "start_time": "2023-08-03T19:50:10.316Z"
   },
   {
    "duration": 5,
    "start_time": "2023-08-03T19:50:46.891Z"
   },
   {
    "duration": 12,
    "start_time": "2023-08-03T19:51:27.945Z"
   },
   {
    "duration": 6,
    "start_time": "2023-08-03T19:51:29.232Z"
   },
   {
    "duration": 14,
    "start_time": "2023-08-03T19:51:34.652Z"
   },
   {
    "duration": 27,
    "start_time": "2023-08-03T19:51:59.556Z"
   },
   {
    "duration": 47,
    "start_time": "2023-08-03T19:52:15.691Z"
   },
   {
    "duration": 14,
    "start_time": "2023-08-03T19:52:18.531Z"
   },
   {
    "duration": 3,
    "start_time": "2023-08-03T19:52:34.892Z"
   },
   {
    "duration": 530,
    "start_time": "2023-08-03T19:52:34.896Z"
   },
   {
    "duration": 42,
    "start_time": "2023-08-03T19:52:35.427Z"
   },
   {
    "duration": 21,
    "start_time": "2023-08-03T19:52:35.470Z"
   },
   {
    "duration": 41,
    "start_time": "2023-08-03T19:52:35.493Z"
   },
   {
    "duration": 4,
    "start_time": "2023-08-03T19:52:35.535Z"
   },
   {
    "duration": 42,
    "start_time": "2023-08-03T19:52:35.540Z"
   },
   {
    "duration": 52,
    "start_time": "2023-08-03T19:52:35.584Z"
   },
   {
    "duration": 50,
    "start_time": "2023-08-03T19:52:35.638Z"
   },
   {
    "duration": 100,
    "start_time": "2023-08-03T19:52:35.689Z"
   },
   {
    "duration": 8,
    "start_time": "2023-08-03T19:52:35.790Z"
   },
   {
    "duration": 59,
    "start_time": "2023-08-03T19:52:35.800Z"
   },
   {
    "duration": 24,
    "start_time": "2023-08-03T19:52:35.860Z"
   },
   {
    "duration": 21,
    "start_time": "2023-08-03T19:52:35.887Z"
   },
   {
    "duration": 40,
    "start_time": "2023-08-03T19:52:35.910Z"
   },
   {
    "duration": 13,
    "start_time": "2023-08-03T19:52:35.951Z"
   },
   {
    "duration": 14,
    "start_time": "2023-08-03T19:52:35.965Z"
   },
   {
    "duration": 34,
    "start_time": "2023-08-03T19:52:35.980Z"
   },
   {
    "duration": 19,
    "start_time": "2023-08-03T19:52:36.016Z"
   },
   {
    "duration": 9,
    "start_time": "2023-08-03T19:52:36.037Z"
   },
   {
    "duration": 30,
    "start_time": "2023-08-03T19:52:36.048Z"
   },
   {
    "duration": 12,
    "start_time": "2023-08-03T19:52:36.080Z"
   },
   {
    "duration": 12,
    "start_time": "2023-08-03T19:52:36.094Z"
   },
   {
    "duration": 43,
    "start_time": "2023-08-03T19:52:36.107Z"
   },
   {
    "duration": 48,
    "start_time": "2023-08-03T19:52:36.152Z"
   },
   {
    "duration": 8,
    "start_time": "2023-08-03T19:52:36.201Z"
   },
   {
    "duration": 274,
    "start_time": "2023-08-03T19:52:36.210Z"
   },
   {
    "duration": 338,
    "start_time": "2023-08-03T19:52:36.486Z"
   },
   {
    "duration": 176,
    "start_time": "2023-08-03T19:52:36.825Z"
   },
   {
    "duration": 169,
    "start_time": "2023-08-03T19:52:37.003Z"
   },
   {
    "duration": 31,
    "start_time": "2023-08-03T19:52:37.174Z"
   },
   {
    "duration": 29,
    "start_time": "2023-08-03T19:52:37.220Z"
   },
   {
    "duration": 45,
    "start_time": "2023-08-03T19:52:37.251Z"
   },
   {
    "duration": 104,
    "start_time": "2023-08-03T19:52:37.298Z"
   },
   {
    "duration": 246,
    "start_time": "2023-08-03T19:52:37.403Z"
   },
   {
    "duration": 291,
    "start_time": "2023-08-03T19:52:37.650Z"
   },
   {
    "duration": 22,
    "start_time": "2023-08-03T19:52:37.942Z"
   },
   {
    "duration": 13,
    "start_time": "2023-08-03T19:52:37.965Z"
   },
   {
    "duration": 10,
    "start_time": "2023-08-03T19:52:37.979Z"
   },
   {
    "duration": 26,
    "start_time": "2023-08-03T19:52:41.836Z"
   },
   {
    "duration": 13,
    "start_time": "2023-08-03T19:52:44.293Z"
   },
   {
    "duration": 40,
    "start_time": "2023-08-03T19:53:18.491Z"
   },
   {
    "duration": 23,
    "start_time": "2023-08-03T19:53:21.659Z"
   },
   {
    "duration": 4,
    "start_time": "2023-08-03T19:53:36.734Z"
   },
   {
    "duration": 499,
    "start_time": "2023-08-03T19:53:36.739Z"
   },
   {
    "duration": 34,
    "start_time": "2023-08-03T19:53:37.239Z"
   },
   {
    "duration": 25,
    "start_time": "2023-08-03T19:53:37.275Z"
   },
   {
    "duration": 42,
    "start_time": "2023-08-03T19:53:37.303Z"
   },
   {
    "duration": 7,
    "start_time": "2023-08-03T19:53:37.347Z"
   },
   {
    "duration": 33,
    "start_time": "2023-08-03T19:53:37.356Z"
   },
   {
    "duration": 48,
    "start_time": "2023-08-03T19:53:37.390Z"
   },
   {
    "duration": 56,
    "start_time": "2023-08-03T19:53:37.439Z"
   },
   {
    "duration": 99,
    "start_time": "2023-08-03T19:53:37.496Z"
   },
   {
    "duration": 8,
    "start_time": "2023-08-03T19:53:37.596Z"
   },
   {
    "duration": 45,
    "start_time": "2023-08-03T19:53:37.605Z"
   },
   {
    "duration": 26,
    "start_time": "2023-08-03T19:53:37.651Z"
   },
   {
    "duration": 19,
    "start_time": "2023-08-03T19:53:37.679Z"
   },
   {
    "duration": 28,
    "start_time": "2023-08-03T19:53:37.699Z"
   },
   {
    "duration": 28,
    "start_time": "2023-08-03T19:53:37.728Z"
   },
   {
    "duration": 9,
    "start_time": "2023-08-03T19:53:37.757Z"
   },
   {
    "duration": 29,
    "start_time": "2023-08-03T19:53:37.768Z"
   },
   {
    "duration": 11,
    "start_time": "2023-08-03T19:53:37.798Z"
   },
   {
    "duration": 29,
    "start_time": "2023-08-03T19:53:37.810Z"
   },
   {
    "duration": 25,
    "start_time": "2023-08-03T19:53:37.840Z"
   },
   {
    "duration": 13,
    "start_time": "2023-08-03T19:53:37.866Z"
   },
   {
    "duration": 6,
    "start_time": "2023-08-03T19:53:37.880Z"
   },
   {
    "duration": 11,
    "start_time": "2023-08-03T19:53:37.888Z"
   },
   {
    "duration": 61,
    "start_time": "2023-08-03T19:53:37.900Z"
   },
   {
    "duration": 8,
    "start_time": "2023-08-03T19:53:37.963Z"
   },
   {
    "duration": 277,
    "start_time": "2023-08-03T19:53:37.973Z"
   },
   {
    "duration": 349,
    "start_time": "2023-08-03T19:53:38.252Z"
   },
   {
    "duration": 171,
    "start_time": "2023-08-03T19:53:38.603Z"
   },
   {
    "duration": 162,
    "start_time": "2023-08-03T19:53:38.776Z"
   },
   {
    "duration": 26,
    "start_time": "2023-08-03T19:53:38.940Z"
   },
   {
    "duration": 42,
    "start_time": "2023-08-03T19:53:38.968Z"
   },
   {
    "duration": 45,
    "start_time": "2023-08-03T19:53:39.011Z"
   },
   {
    "duration": 35,
    "start_time": "2023-08-03T19:53:39.057Z"
   },
   {
    "duration": 261,
    "start_time": "2023-08-03T19:53:39.093Z"
   },
   {
    "duration": 304,
    "start_time": "2023-08-03T19:53:39.356Z"
   },
   {
    "duration": 23,
    "start_time": "2023-08-03T19:53:39.662Z"
   },
   {
    "duration": 14,
    "start_time": "2023-08-03T19:53:39.686Z"
   },
   {
    "duration": 30,
    "start_time": "2023-08-03T19:53:39.702Z"
   },
   {
    "duration": 43,
    "start_time": "2023-08-03T19:53:39.736Z"
   },
   {
    "duration": 29,
    "start_time": "2023-08-03T19:53:46.885Z"
   },
   {
    "duration": 24,
    "start_time": "2023-08-03T19:53:49.063Z"
   },
   {
    "duration": 74,
    "start_time": "2023-08-03T19:54:48.814Z"
   },
   {
    "duration": 21,
    "start_time": "2023-08-03T19:55:11.747Z"
   },
   {
    "duration": 17,
    "start_time": "2023-08-03T19:55:15.347Z"
   },
   {
    "duration": 11,
    "start_time": "2023-08-03T19:55:25.232Z"
   },
   {
    "duration": 642,
    "start_time": "2023-08-03T19:55:25.245Z"
   },
   {
    "duration": 32,
    "start_time": "2023-08-03T19:55:25.889Z"
   },
   {
    "duration": 27,
    "start_time": "2023-08-03T19:55:25.923Z"
   },
   {
    "duration": 17,
    "start_time": "2023-08-03T19:55:25.952Z"
   },
   {
    "duration": 3,
    "start_time": "2023-08-03T19:55:25.971Z"
   },
   {
    "duration": 71,
    "start_time": "2023-08-03T19:55:25.976Z"
   },
   {
    "duration": 37,
    "start_time": "2023-08-03T19:55:26.049Z"
   },
   {
    "duration": 58,
    "start_time": "2023-08-03T19:55:26.088Z"
   },
   {
    "duration": 117,
    "start_time": "2023-08-03T19:55:26.148Z"
   },
   {
    "duration": 8,
    "start_time": "2023-08-03T19:55:26.267Z"
   },
   {
    "duration": 42,
    "start_time": "2023-08-03T19:55:26.276Z"
   },
   {
    "duration": 39,
    "start_time": "2023-08-03T19:55:26.320Z"
   },
   {
    "duration": 21,
    "start_time": "2023-08-03T19:55:26.362Z"
   },
   {
    "duration": 6,
    "start_time": "2023-08-03T19:55:26.384Z"
   },
   {
    "duration": 47,
    "start_time": "2023-08-03T19:55:26.392Z"
   },
   {
    "duration": 16,
    "start_time": "2023-08-03T19:55:26.441Z"
   },
   {
    "duration": 55,
    "start_time": "2023-08-03T19:55:26.461Z"
   },
   {
    "duration": 36,
    "start_time": "2023-08-03T19:55:26.517Z"
   },
   {
    "duration": 16,
    "start_time": "2023-08-03T19:55:26.555Z"
   },
   {
    "duration": 43,
    "start_time": "2023-08-03T19:55:26.572Z"
   },
   {
    "duration": 19,
    "start_time": "2023-08-03T19:55:26.616Z"
   },
   {
    "duration": 14,
    "start_time": "2023-08-03T19:55:26.646Z"
   },
   {
    "duration": 17,
    "start_time": "2023-08-03T19:55:26.661Z"
   },
   {
    "duration": 29,
    "start_time": "2023-08-03T19:55:26.680Z"
   },
   {
    "duration": 19,
    "start_time": "2023-08-03T19:55:26.710Z"
   },
   {
    "duration": 273,
    "start_time": "2023-08-03T19:55:26.744Z"
   },
   {
    "duration": 348,
    "start_time": "2023-08-03T19:55:27.028Z"
   },
   {
    "duration": 202,
    "start_time": "2023-08-03T19:55:27.379Z"
   },
   {
    "duration": 181,
    "start_time": "2023-08-03T19:55:27.583Z"
   },
   {
    "duration": 23,
    "start_time": "2023-08-03T19:55:27.765Z"
   },
   {
    "duration": 51,
    "start_time": "2023-08-03T19:55:27.789Z"
   },
   {
    "duration": 41,
    "start_time": "2023-08-03T19:55:27.841Z"
   },
   {
    "duration": 28,
    "start_time": "2023-08-03T19:55:27.884Z"
   },
   {
    "duration": 333,
    "start_time": "2023-08-03T19:55:27.926Z"
   },
   {
    "duration": 322,
    "start_time": "2023-08-03T19:55:28.261Z"
   },
   {
    "duration": 36,
    "start_time": "2023-08-03T19:55:28.584Z"
   },
   {
    "duration": 51,
    "start_time": "2023-08-03T19:55:28.621Z"
   },
   {
    "duration": 27,
    "start_time": "2023-08-03T19:55:28.674Z"
   },
   {
    "duration": 66,
    "start_time": "2023-08-03T19:55:28.703Z"
   },
   {
    "duration": 76,
    "start_time": "2023-08-03T19:55:34.191Z"
   },
   {
    "duration": 271,
    "start_time": "2023-08-03T19:56:04.345Z"
   },
   {
    "duration": 3,
    "start_time": "2023-08-03T20:00:19.203Z"
   },
   {
    "duration": 634,
    "start_time": "2023-08-03T20:00:19.208Z"
   },
   {
    "duration": 38,
    "start_time": "2023-08-03T20:00:19.844Z"
   },
   {
    "duration": 20,
    "start_time": "2023-08-03T20:00:19.884Z"
   },
   {
    "duration": 32,
    "start_time": "2023-08-03T20:00:19.906Z"
   },
   {
    "duration": 62,
    "start_time": "2023-08-03T20:00:19.940Z"
   },
   {
    "duration": 114,
    "start_time": "2023-08-03T20:00:20.003Z"
   },
   {
    "duration": 54,
    "start_time": "2023-08-03T20:00:20.118Z"
   },
   {
    "duration": 101,
    "start_time": "2023-08-03T20:00:20.174Z"
   },
   {
    "duration": 107,
    "start_time": "2023-08-03T20:00:20.276Z"
   },
   {
    "duration": 9,
    "start_time": "2023-08-03T20:00:20.385Z"
   },
   {
    "duration": 75,
    "start_time": "2023-08-03T20:00:20.395Z"
   },
   {
    "duration": 24,
    "start_time": "2023-08-03T20:00:20.473Z"
   },
   {
    "duration": 26,
    "start_time": "2023-08-03T20:00:20.498Z"
   },
   {
    "duration": 22,
    "start_time": "2023-08-03T20:00:20.526Z"
   },
   {
    "duration": 14,
    "start_time": "2023-08-03T20:00:20.550Z"
   },
   {
    "duration": 13,
    "start_time": "2023-08-03T20:00:20.565Z"
   },
   {
    "duration": 62,
    "start_time": "2023-08-03T20:00:20.580Z"
   },
   {
    "duration": 18,
    "start_time": "2023-08-03T20:00:20.644Z"
   },
   {
    "duration": 18,
    "start_time": "2023-08-03T20:00:20.664Z"
   },
   {
    "duration": 56,
    "start_time": "2023-08-03T20:00:20.683Z"
   },
   {
    "duration": 21,
    "start_time": "2023-08-03T20:00:20.740Z"
   },
   {
    "duration": 15,
    "start_time": "2023-08-03T20:00:20.762Z"
   },
   {
    "duration": 31,
    "start_time": "2023-08-03T20:00:20.778Z"
   },
   {
    "duration": 43,
    "start_time": "2023-08-03T20:00:20.811Z"
   },
   {
    "duration": 23,
    "start_time": "2023-08-03T20:00:20.855Z"
   },
   {
    "duration": 255,
    "start_time": "2023-08-03T20:00:20.880Z"
   },
   {
    "duration": 359,
    "start_time": "2023-08-03T20:00:21.136Z"
   },
   {
    "duration": 192,
    "start_time": "2023-08-03T20:00:21.497Z"
   },
   {
    "duration": 172,
    "start_time": "2023-08-03T20:00:21.691Z"
   },
   {
    "duration": 25,
    "start_time": "2023-08-03T20:00:21.864Z"
   },
   {
    "duration": 60,
    "start_time": "2023-08-03T20:00:21.890Z"
   },
   {
    "duration": 40,
    "start_time": "2023-08-03T20:00:21.951Z"
   },
   {
    "duration": 52,
    "start_time": "2023-08-03T20:00:21.993Z"
   },
   {
    "duration": 280,
    "start_time": "2023-08-03T20:00:22.047Z"
   },
   {
    "duration": 330,
    "start_time": "2023-08-03T20:00:22.329Z"
   },
   {
    "duration": 25,
    "start_time": "2023-08-03T20:00:22.664Z"
   },
   {
    "duration": 48,
    "start_time": "2023-08-03T20:00:22.690Z"
   },
   {
    "duration": 30,
    "start_time": "2023-08-03T20:00:22.740Z"
   },
   {
    "duration": 42,
    "start_time": "2023-08-03T20:00:22.771Z"
   },
   {
    "duration": 100,
    "start_time": "2023-08-03T20:00:25.005Z"
   },
   {
    "duration": 265,
    "start_time": "2023-08-03T20:00:27.250Z"
   },
   {
    "duration": 241,
    "start_time": "2023-08-03T20:00:44.751Z"
   },
   {
    "duration": 15,
    "start_time": "2023-08-03T20:02:09.468Z"
   },
   {
    "duration": 434,
    "start_time": "2023-08-03T20:02:51.865Z"
   },
   {
    "duration": 362,
    "start_time": "2023-08-03T20:04:43.722Z"
   },
   {
    "duration": 390,
    "start_time": "2023-08-03T20:04:57.547Z"
   },
   {
    "duration": 256,
    "start_time": "2023-08-03T20:09:41.339Z"
   },
   {
    "duration": 7,
    "start_time": "2023-08-03T20:09:53.293Z"
   },
   {
    "duration": 3,
    "start_time": "2023-08-03T20:10:08.355Z"
   },
   {
    "duration": 872,
    "start_time": "2023-08-03T20:10:08.360Z"
   },
   {
    "duration": 42,
    "start_time": "2023-08-03T20:10:09.243Z"
   },
   {
    "duration": 19,
    "start_time": "2023-08-03T20:10:09.287Z"
   },
   {
    "duration": 29,
    "start_time": "2023-08-03T20:10:09.308Z"
   },
   {
    "duration": 4,
    "start_time": "2023-08-03T20:10:09.343Z"
   },
   {
    "duration": 53,
    "start_time": "2023-08-03T20:10:09.349Z"
   },
   {
    "duration": 57,
    "start_time": "2023-08-03T20:10:09.404Z"
   },
   {
    "duration": 65,
    "start_time": "2023-08-03T20:10:09.462Z"
   },
   {
    "duration": 118,
    "start_time": "2023-08-03T20:10:09.528Z"
   },
   {
    "duration": 10,
    "start_time": "2023-08-03T20:10:09.649Z"
   },
   {
    "duration": 61,
    "start_time": "2023-08-03T20:10:09.661Z"
   },
   {
    "duration": 43,
    "start_time": "2023-08-03T20:10:09.724Z"
   },
   {
    "duration": 29,
    "start_time": "2023-08-03T20:10:09.771Z"
   },
   {
    "duration": 20,
    "start_time": "2023-08-03T20:10:09.802Z"
   },
   {
    "duration": 18,
    "start_time": "2023-08-03T20:10:09.824Z"
   },
   {
    "duration": 42,
    "start_time": "2023-08-03T20:10:09.843Z"
   },
   {
    "duration": 62,
    "start_time": "2023-08-03T20:10:09.887Z"
   },
   {
    "duration": 13,
    "start_time": "2023-08-03T20:10:09.951Z"
   },
   {
    "duration": 16,
    "start_time": "2023-08-03T20:10:09.966Z"
   },
   {
    "duration": 53,
    "start_time": "2023-08-03T20:10:09.984Z"
   },
   {
    "duration": 48,
    "start_time": "2023-08-03T20:10:10.039Z"
   },
   {
    "duration": 8,
    "start_time": "2023-08-03T20:10:10.089Z"
   },
   {
    "duration": 19,
    "start_time": "2023-08-03T20:10:10.099Z"
   },
   {
    "duration": 58,
    "start_time": "2023-08-03T20:10:10.122Z"
   },
   {
    "duration": 9,
    "start_time": "2023-08-03T20:10:10.181Z"
   },
   {
    "duration": 293,
    "start_time": "2023-08-03T20:10:10.191Z"
   },
   {
    "duration": 360,
    "start_time": "2023-08-03T20:10:10.485Z"
   },
   {
    "duration": 178,
    "start_time": "2023-08-03T20:10:10.847Z"
   },
   {
    "duration": 188,
    "start_time": "2023-08-03T20:10:11.027Z"
   },
   {
    "duration": 42,
    "start_time": "2023-08-03T20:10:11.217Z"
   },
   {
    "duration": 46,
    "start_time": "2023-08-03T20:10:11.260Z"
   },
   {
    "duration": 52,
    "start_time": "2023-08-03T20:10:11.307Z"
   },
   {
    "duration": 33,
    "start_time": "2023-08-03T20:10:11.361Z"
   },
   {
    "duration": 273,
    "start_time": "2023-08-03T20:10:11.396Z"
   },
   {
    "duration": 306,
    "start_time": "2023-08-03T20:10:11.671Z"
   },
   {
    "duration": 58,
    "start_time": "2023-08-03T20:10:11.979Z"
   },
   {
    "duration": 21,
    "start_time": "2023-08-03T20:10:12.053Z"
   },
   {
    "duration": 6,
    "start_time": "2023-08-03T20:10:12.075Z"
   },
   {
    "duration": 66,
    "start_time": "2023-08-03T20:10:12.083Z"
   },
   {
    "duration": 123,
    "start_time": "2023-08-03T20:10:12.156Z"
   },
   {
    "duration": 290,
    "start_time": "2023-08-03T20:10:18.276Z"
   },
   {
    "duration": 9,
    "start_time": "2023-08-03T20:10:20.306Z"
   },
   {
    "duration": 26,
    "start_time": "2023-08-03T20:10:29.101Z"
   },
   {
    "duration": 299,
    "start_time": "2023-08-03T20:11:04.897Z"
   },
   {
    "duration": 329,
    "start_time": "2023-08-03T20:11:25.417Z"
   },
   {
    "duration": 18,
    "start_time": "2023-08-03T20:11:30.533Z"
   },
   {
    "duration": 1205,
    "start_time": "2023-08-03T20:11:42.067Z"
   },
   {
    "duration": 3,
    "start_time": "2023-08-03T20:16:41.400Z"
   },
   {
    "duration": 679,
    "start_time": "2023-08-03T20:16:41.405Z"
   },
   {
    "duration": 40,
    "start_time": "2023-08-03T20:16:42.086Z"
   },
   {
    "duration": 22,
    "start_time": "2023-08-03T20:16:42.128Z"
   },
   {
    "duration": 15,
    "start_time": "2023-08-03T20:16:42.152Z"
   },
   {
    "duration": 6,
    "start_time": "2023-08-03T20:16:42.168Z"
   },
   {
    "duration": 33,
    "start_time": "2023-08-03T20:16:42.175Z"
   },
   {
    "duration": 54,
    "start_time": "2023-08-03T20:16:42.209Z"
   },
   {
    "duration": 74,
    "start_time": "2023-08-03T20:16:42.265Z"
   },
   {
    "duration": 119,
    "start_time": "2023-08-03T20:16:42.340Z"
   },
   {
    "duration": 8,
    "start_time": "2023-08-03T20:16:42.461Z"
   },
   {
    "duration": 39,
    "start_time": "2023-08-03T20:16:42.470Z"
   },
   {
    "duration": 36,
    "start_time": "2023-08-03T20:16:42.511Z"
   },
   {
    "duration": 19,
    "start_time": "2023-08-03T20:16:42.550Z"
   },
   {
    "duration": 6,
    "start_time": "2023-08-03T20:16:42.570Z"
   },
   {
    "duration": 12,
    "start_time": "2023-08-03T20:16:42.577Z"
   },
   {
    "duration": 10,
    "start_time": "2023-08-03T20:16:42.590Z"
   },
   {
    "duration": 55,
    "start_time": "2023-08-03T20:16:42.602Z"
   },
   {
    "duration": 12,
    "start_time": "2023-08-03T20:16:42.659Z"
   },
   {
    "duration": 18,
    "start_time": "2023-08-03T20:16:42.672Z"
   },
   {
    "duration": 57,
    "start_time": "2023-08-03T20:16:42.691Z"
   },
   {
    "duration": 15,
    "start_time": "2023-08-03T20:16:42.750Z"
   },
   {
    "duration": 6,
    "start_time": "2023-08-03T20:16:42.766Z"
   },
   {
    "duration": 12,
    "start_time": "2023-08-03T20:16:42.774Z"
   },
   {
    "duration": 53,
    "start_time": "2023-08-03T20:16:42.788Z"
   },
   {
    "duration": 10,
    "start_time": "2023-08-03T20:16:42.843Z"
   },
   {
    "duration": 298,
    "start_time": "2023-08-03T20:16:42.854Z"
   },
   {
    "duration": 376,
    "start_time": "2023-08-03T20:16:43.154Z"
   },
   {
    "duration": 169,
    "start_time": "2023-08-03T20:16:43.531Z"
   },
   {
    "duration": 175,
    "start_time": "2023-08-03T20:16:43.701Z"
   },
   {
    "duration": 34,
    "start_time": "2023-08-03T20:16:43.878Z"
   },
   {
    "duration": 34,
    "start_time": "2023-08-03T20:16:43.914Z"
   },
   {
    "duration": 24,
    "start_time": "2023-08-03T20:16:43.950Z"
   },
   {
    "duration": 58,
    "start_time": "2023-08-03T20:16:43.976Z"
   },
   {
    "duration": 270,
    "start_time": "2023-08-03T20:16:44.040Z"
   },
   {
    "duration": 234,
    "start_time": "2023-08-03T20:16:44.311Z"
   },
   {
    "duration": 72,
    "start_time": "2023-08-03T20:16:51.199Z"
   },
   {
    "duration": 11,
    "start_time": "2023-08-03T20:16:53.157Z"
   },
   {
    "duration": 441,
    "start_time": "2023-08-03T20:17:55.393Z"
   },
   {
    "duration": 333,
    "start_time": "2023-08-03T20:19:26.605Z"
   },
   {
    "duration": 286,
    "start_time": "2023-08-03T20:23:10.544Z"
   },
   {
    "duration": 14,
    "start_time": "2023-08-03T20:25:02.843Z"
   },
   {
    "duration": 21,
    "start_time": "2023-08-03T20:25:15.063Z"
   },
   {
    "duration": 24,
    "start_time": "2023-08-03T20:26:18.301Z"
   },
   {
    "duration": 15,
    "start_time": "2023-08-03T20:28:16.299Z"
   },
   {
    "duration": 10,
    "start_time": "2023-08-03T20:29:16.698Z"
   },
   {
    "duration": 18,
    "start_time": "2023-08-03T20:29:21.875Z"
   },
   {
    "duration": 16,
    "start_time": "2023-08-03T20:30:02.499Z"
   },
   {
    "duration": 236,
    "start_time": "2023-08-03T20:30:31.394Z"
   },
   {
    "duration": 357,
    "start_time": "2023-08-03T20:31:00.106Z"
   },
   {
    "duration": 193,
    "start_time": "2023-08-03T20:31:25.709Z"
   },
   {
    "duration": 244,
    "start_time": "2023-08-03T20:33:59.843Z"
   },
   {
    "duration": 14,
    "start_time": "2023-08-03T20:35:06.979Z"
   },
   {
    "duration": 4,
    "start_time": "2023-08-03T20:35:19.338Z"
   },
   {
    "duration": 651,
    "start_time": "2023-08-03T20:35:19.344Z"
   },
   {
    "duration": 41,
    "start_time": "2023-08-03T20:35:19.998Z"
   },
   {
    "duration": 31,
    "start_time": "2023-08-03T20:35:20.041Z"
   },
   {
    "duration": 20,
    "start_time": "2023-08-03T20:35:20.075Z"
   },
   {
    "duration": 28,
    "start_time": "2023-08-03T20:35:20.096Z"
   },
   {
    "duration": 47,
    "start_time": "2023-08-03T20:35:20.125Z"
   },
   {
    "duration": 34,
    "start_time": "2023-08-03T20:35:20.174Z"
   },
   {
    "duration": 65,
    "start_time": "2023-08-03T20:35:20.220Z"
   },
   {
    "duration": 132,
    "start_time": "2023-08-03T20:35:20.288Z"
   },
   {
    "duration": 11,
    "start_time": "2023-08-03T20:35:20.422Z"
   },
   {
    "duration": 54,
    "start_time": "2023-08-03T20:35:20.435Z"
   },
   {
    "duration": 30,
    "start_time": "2023-08-03T20:35:20.491Z"
   },
   {
    "duration": 26,
    "start_time": "2023-08-03T20:35:20.525Z"
   },
   {
    "duration": 21,
    "start_time": "2023-08-03T20:35:20.553Z"
   },
   {
    "duration": 17,
    "start_time": "2023-08-03T20:35:20.576Z"
   },
   {
    "duration": 31,
    "start_time": "2023-08-03T20:35:20.595Z"
   },
   {
    "duration": 36,
    "start_time": "2023-08-03T20:35:20.628Z"
   },
   {
    "duration": 19,
    "start_time": "2023-08-03T20:35:20.666Z"
   },
   {
    "duration": 34,
    "start_time": "2023-08-03T20:35:20.687Z"
   },
   {
    "duration": 33,
    "start_time": "2023-08-03T20:35:20.722Z"
   },
   {
    "duration": 13,
    "start_time": "2023-08-03T20:35:20.757Z"
   },
   {
    "duration": 12,
    "start_time": "2023-08-03T20:35:20.771Z"
   },
   {
    "duration": 13,
    "start_time": "2023-08-03T20:35:20.785Z"
   },
   {
    "duration": 35,
    "start_time": "2023-08-03T20:35:20.819Z"
   },
   {
    "duration": 15,
    "start_time": "2023-08-03T20:35:20.856Z"
   },
   {
    "duration": 307,
    "start_time": "2023-08-03T20:35:20.872Z"
   },
   {
    "duration": 399,
    "start_time": "2023-08-03T20:35:21.181Z"
   },
   {
    "duration": 182,
    "start_time": "2023-08-03T20:35:21.581Z"
   },
   {
    "duration": 216,
    "start_time": "2023-08-03T20:35:21.765Z"
   },
   {
    "duration": 37,
    "start_time": "2023-08-03T20:35:21.983Z"
   },
   {
    "duration": 22,
    "start_time": "2023-08-03T20:35:22.024Z"
   },
   {
    "duration": 24,
    "start_time": "2023-08-03T20:35:22.048Z"
   },
   {
    "duration": 28,
    "start_time": "2023-08-03T20:35:22.073Z"
   },
   {
    "duration": 301,
    "start_time": "2023-08-03T20:35:25.347Z"
   },
   {
    "duration": 207,
    "start_time": "2023-08-03T20:35:43.362Z"
   },
   {
    "duration": 51,
    "start_time": "2023-08-03T20:35:44.319Z"
   },
   {
    "duration": 10,
    "start_time": "2023-08-03T20:35:45.117Z"
   },
   {
    "duration": 317,
    "start_time": "2023-08-03T20:35:48.294Z"
   },
   {
    "duration": 296,
    "start_time": "2023-08-03T20:36:52.183Z"
   },
   {
    "duration": 280,
    "start_time": "2023-08-03T20:37:53.595Z"
   },
   {
    "duration": 1136,
    "start_time": "2023-08-03T20:39:26.196Z"
   },
   {
    "duration": 257,
    "start_time": "2023-08-03T20:41:11.201Z"
   },
   {
    "duration": 279,
    "start_time": "2023-08-03T20:42:21.033Z"
   },
   {
    "duration": 848,
    "start_time": "2023-08-03T20:42:32.128Z"
   },
   {
    "duration": 258,
    "start_time": "2023-08-03T20:42:42.988Z"
   },
   {
    "duration": 29,
    "start_time": "2023-08-03T20:42:56.519Z"
   },
   {
    "duration": 248,
    "start_time": "2023-08-03T20:43:05.502Z"
   },
   {
    "duration": 1097,
    "start_time": "2023-08-03T20:43:57.943Z"
   },
   {
    "duration": 958,
    "start_time": "2023-08-03T20:52:08.252Z"
   },
   {
    "duration": 1068,
    "start_time": "2023-08-03T20:52:19.985Z"
   },
   {
    "duration": 1218,
    "start_time": "2023-08-03T20:54:22.197Z"
   },
   {
    "duration": 1014,
    "start_time": "2023-08-03T20:54:29.293Z"
   },
   {
    "duration": 1288,
    "start_time": "2023-08-03T20:55:10.989Z"
   },
   {
    "duration": 1494,
    "start_time": "2023-08-03T20:55:19.147Z"
   },
   {
    "duration": 2,
    "start_time": "2023-08-03T20:59:33.324Z"
   },
   {
    "duration": 19,
    "start_time": "2023-08-03T21:00:45.310Z"
   },
   {
    "duration": 363,
    "start_time": "2023-08-03T21:01:25.805Z"
   },
   {
    "duration": 295,
    "start_time": "2023-08-03T21:02:15.314Z"
   },
   {
    "duration": 307,
    "start_time": "2023-08-03T21:02:45.467Z"
   },
   {
    "duration": 83,
    "start_time": "2023-08-03T21:03:49.501Z"
   },
   {
    "duration": 537,
    "start_time": "2023-08-03T21:04:54.343Z"
   },
   {
    "duration": 400,
    "start_time": "2023-08-03T21:05:53.362Z"
   },
   {
    "duration": 1491,
    "start_time": "2023-08-03T21:07:30.376Z"
   },
   {
    "duration": 1746,
    "start_time": "2023-08-03T21:07:57.501Z"
   },
   {
    "duration": 1638,
    "start_time": "2023-08-03T21:08:40.310Z"
   },
   {
    "duration": 493,
    "start_time": "2023-08-03T21:09:30.953Z"
   },
   {
    "duration": 1812,
    "start_time": "2023-08-03T21:30:57.804Z"
   },
   {
    "duration": 3,
    "start_time": "2023-08-03T21:35:12.205Z"
   },
   {
    "duration": 738,
    "start_time": "2023-08-03T21:35:12.209Z"
   },
   {
    "duration": 40,
    "start_time": "2023-08-03T21:35:12.949Z"
   },
   {
    "duration": 19,
    "start_time": "2023-08-03T21:35:12.991Z"
   },
   {
    "duration": 23,
    "start_time": "2023-08-03T21:35:13.012Z"
   },
   {
    "duration": 24,
    "start_time": "2023-08-03T21:35:13.036Z"
   },
   {
    "duration": 63,
    "start_time": "2023-08-03T21:35:13.061Z"
   },
   {
    "duration": 46,
    "start_time": "2023-08-03T21:35:13.127Z"
   },
   {
    "duration": 52,
    "start_time": "2023-08-03T21:35:13.174Z"
   },
   {
    "duration": 117,
    "start_time": "2023-08-03T21:35:13.227Z"
   },
   {
    "duration": 8,
    "start_time": "2023-08-03T21:35:13.346Z"
   },
   {
    "duration": 67,
    "start_time": "2023-08-03T21:35:13.355Z"
   },
   {
    "duration": 35,
    "start_time": "2023-08-03T21:35:13.423Z"
   },
   {
    "duration": 21,
    "start_time": "2023-08-03T21:35:13.462Z"
   },
   {
    "duration": 7,
    "start_time": "2023-08-03T21:35:13.484Z"
   },
   {
    "duration": 31,
    "start_time": "2023-08-03T21:35:13.493Z"
   },
   {
    "duration": 15,
    "start_time": "2023-08-03T21:35:13.526Z"
   },
   {
    "duration": 31,
    "start_time": "2023-08-03T21:35:13.542Z"
   },
   {
    "duration": 12,
    "start_time": "2023-08-03T21:35:13.574Z"
   },
   {
    "duration": 7,
    "start_time": "2023-08-03T21:35:13.587Z"
   },
   {
    "duration": 53,
    "start_time": "2023-08-03T21:35:13.595Z"
   },
   {
    "duration": 13,
    "start_time": "2023-08-03T21:35:13.650Z"
   },
   {
    "duration": 6,
    "start_time": "2023-08-03T21:35:13.665Z"
   },
   {
    "duration": 11,
    "start_time": "2023-08-03T21:35:13.673Z"
   },
   {
    "duration": 58,
    "start_time": "2023-08-03T21:35:13.686Z"
   },
   {
    "duration": 10,
    "start_time": "2023-08-03T21:35:13.746Z"
   },
   {
    "duration": 291,
    "start_time": "2023-08-03T21:35:13.758Z"
   },
   {
    "duration": 348,
    "start_time": "2023-08-03T21:35:14.050Z"
   },
   {
    "duration": 168,
    "start_time": "2023-08-03T21:35:14.399Z"
   },
   {
    "duration": 156,
    "start_time": "2023-08-03T21:35:14.569Z"
   },
   {
    "duration": 29,
    "start_time": "2023-08-03T21:35:14.727Z"
   },
   {
    "duration": 43,
    "start_time": "2023-08-03T21:35:14.758Z"
   },
   {
    "duration": 107,
    "start_time": "2023-08-03T21:35:14.803Z"
   },
   {
    "duration": 91,
    "start_time": "2023-08-03T21:35:14.912Z"
   },
   {
    "duration": 345,
    "start_time": "2023-08-03T21:35:15.005Z"
   },
   {
    "duration": 282,
    "start_time": "2023-08-03T21:35:15.352Z"
   },
   {
    "duration": 63,
    "start_time": "2023-08-03T21:35:15.636Z"
   },
   {
    "duration": 21,
    "start_time": "2023-08-03T21:35:15.701Z"
   },
   {
    "duration": 455,
    "start_time": "2023-08-03T21:35:15.724Z"
   },
   {
    "duration": 332,
    "start_time": "2023-08-03T21:35:16.180Z"
   },
   {
    "duration": 1360,
    "start_time": "2023-08-03T21:35:16.515Z"
   },
   {
    "duration": 415,
    "start_time": "2023-08-03T21:35:17.877Z"
   },
   {
    "duration": 1555,
    "start_time": "2023-08-03T21:35:18.294Z"
   },
   {
    "duration": 319,
    "start_time": "2023-08-03T21:35:19.851Z"
   },
   {
    "duration": 15,
    "start_time": "2023-08-03T21:35:20.172Z"
   },
   {
    "duration": 6,
    "start_time": "2023-08-03T21:35:20.189Z"
   },
   {
    "duration": 472,
    "start_time": "2023-08-03T21:35:20.197Z"
   },
   {
    "duration": 318,
    "start_time": "2023-08-03T21:35:20.671Z"
   },
   {
    "duration": 29,
    "start_time": "2023-08-03T21:35:20.991Z"
   },
   {
    "duration": 56,
    "start_time": "2023-08-03T21:35:21.021Z"
   },
   {
    "duration": 0,
    "start_time": "2023-08-03T21:35:21.078Z"
   },
   {
    "duration": 0,
    "start_time": "2023-08-03T21:35:21.079Z"
   },
   {
    "duration": 0,
    "start_time": "2023-08-03T21:35:21.080Z"
   },
   {
    "duration": 0,
    "start_time": "2023-08-03T21:35:21.081Z"
   },
   {
    "duration": 0,
    "start_time": "2023-08-03T21:35:21.082Z"
   },
   {
    "duration": 0,
    "start_time": "2023-08-03T21:35:21.083Z"
   },
   {
    "duration": 0,
    "start_time": "2023-08-03T21:35:21.084Z"
   },
   {
    "duration": 0,
    "start_time": "2023-08-03T21:35:21.085Z"
   },
   {
    "duration": 0,
    "start_time": "2023-08-03T21:35:21.086Z"
   },
   {
    "duration": 0,
    "start_time": "2023-08-03T21:35:21.087Z"
   },
   {
    "duration": 0,
    "start_time": "2023-08-03T21:35:21.088Z"
   },
   {
    "duration": 0,
    "start_time": "2023-08-03T21:35:21.090Z"
   },
   {
    "duration": 0,
    "start_time": "2023-08-03T21:35:21.091Z"
   },
   {
    "duration": 0,
    "start_time": "2023-08-03T21:35:21.093Z"
   },
   {
    "duration": 0,
    "start_time": "2023-08-03T21:35:21.094Z"
   },
   {
    "duration": 0,
    "start_time": "2023-08-03T21:35:21.095Z"
   },
   {
    "duration": 0,
    "start_time": "2023-08-03T21:35:21.096Z"
   },
   {
    "duration": 0,
    "start_time": "2023-08-03T21:35:21.097Z"
   },
   {
    "duration": 3,
    "start_time": "2023-08-03T21:36:12.745Z"
   },
   {
    "duration": 7,
    "start_time": "2023-08-03T21:36:28.807Z"
   },
   {
    "duration": 8,
    "start_time": "2023-08-03T21:36:36.899Z"
   },
   {
    "duration": 85,
    "start_time": "2023-08-03T21:38:46.799Z"
   },
   {
    "duration": 95,
    "start_time": "2023-08-03T21:39:07.495Z"
   },
   {
    "duration": 119,
    "start_time": "2023-08-03T21:40:03.963Z"
   },
   {
    "duration": 141,
    "start_time": "2023-08-03T21:40:15.891Z"
   },
   {
    "duration": 75,
    "start_time": "2023-08-03T21:40:26.891Z"
   },
   {
    "duration": 98,
    "start_time": "2023-08-03T21:40:39.546Z"
   },
   {
    "duration": 100,
    "start_time": "2023-08-03T21:41:04.609Z"
   },
   {
    "duration": 96,
    "start_time": "2023-08-03T21:41:33.784Z"
   },
   {
    "duration": 131,
    "start_time": "2023-08-03T21:41:38.867Z"
   },
   {
    "duration": 162,
    "start_time": "2023-08-03T21:41:42.407Z"
   },
   {
    "duration": 96,
    "start_time": "2023-08-03T21:41:56.420Z"
   },
   {
    "duration": 144,
    "start_time": "2023-08-03T21:42:06.257Z"
   },
   {
    "duration": 108,
    "start_time": "2023-08-03T21:42:10.503Z"
   },
   {
    "duration": 230,
    "start_time": "2023-08-03T21:42:17.366Z"
   },
   {
    "duration": 365,
    "start_time": "2023-08-03T21:42:25.009Z"
   },
   {
    "duration": 127,
    "start_time": "2023-08-03T21:42:42.212Z"
   },
   {
    "duration": 102,
    "start_time": "2023-08-03T21:44:51.950Z"
   },
   {
    "duration": 112,
    "start_time": "2023-08-03T21:45:07.541Z"
   },
   {
    "duration": 536,
    "start_time": "2023-08-03T21:45:18.792Z"
   },
   {
    "duration": 334,
    "start_time": "2023-08-03T21:45:29.396Z"
   },
   {
    "duration": 343,
    "start_time": "2023-08-03T21:45:36.634Z"
   },
   {
    "duration": 117,
    "start_time": "2023-08-03T21:46:04.899Z"
   },
   {
    "duration": 141,
    "start_time": "2023-08-03T21:46:15.490Z"
   },
   {
    "duration": 103,
    "start_time": "2023-08-03T21:47:31.452Z"
   },
   {
    "duration": 120,
    "start_time": "2023-08-03T21:47:41.436Z"
   },
   {
    "duration": 164,
    "start_time": "2023-08-03T21:48:07.988Z"
   },
   {
    "duration": 169,
    "start_time": "2023-08-03T21:48:11.412Z"
   },
   {
    "duration": 107,
    "start_time": "2023-08-03T21:48:16.992Z"
   },
   {
    "duration": 105,
    "start_time": "2023-08-03T21:57:00.195Z"
   },
   {
    "duration": 99,
    "start_time": "2023-08-03T21:57:10.889Z"
   },
   {
    "duration": 130,
    "start_time": "2023-08-03T22:00:37.047Z"
   },
   {
    "duration": 129,
    "start_time": "2023-08-03T22:00:55.488Z"
   },
   {
    "duration": 186,
    "start_time": "2023-08-03T22:01:42.988Z"
   },
   {
    "duration": 223,
    "start_time": "2023-08-03T22:02:17.415Z"
   },
   {
    "duration": 191,
    "start_time": "2023-08-03T22:03:00.148Z"
   },
   {
    "duration": 216,
    "start_time": "2023-08-03T22:03:11.088Z"
   },
   {
    "duration": 197,
    "start_time": "2023-08-03T22:04:10.930Z"
   },
   {
    "duration": 217,
    "start_time": "2023-08-03T22:30:08.434Z"
   },
   {
    "duration": 234,
    "start_time": "2023-08-03T22:30:16.996Z"
   },
   {
    "duration": 388,
    "start_time": "2023-08-03T22:30:41.588Z"
   },
   {
    "duration": 4,
    "start_time": "2023-08-03T22:33:26.298Z"
   },
   {
    "duration": 4,
    "start_time": "2023-08-03T22:33:35.748Z"
   },
   {
    "duration": 17,
    "start_time": "2023-08-03T22:35:00.534Z"
   },
   {
    "duration": 20,
    "start_time": "2023-08-03T22:36:30.904Z"
   },
   {
    "duration": 11,
    "start_time": "2023-08-03T22:36:53.052Z"
   },
   {
    "duration": 18,
    "start_time": "2023-08-03T22:37:50.042Z"
   },
   {
    "duration": 12,
    "start_time": "2023-08-03T22:38:01.135Z"
   },
   {
    "duration": 10,
    "start_time": "2023-08-03T22:38:34.146Z"
   },
   {
    "duration": 11,
    "start_time": "2023-08-03T22:38:47.138Z"
   },
   {
    "duration": 14,
    "start_time": "2023-08-03T22:40:39.661Z"
   },
   {
    "duration": 11,
    "start_time": "2023-08-03T22:40:47.446Z"
   },
   {
    "duration": 22,
    "start_time": "2023-08-03T22:45:45.397Z"
   },
   {
    "duration": 6,
    "start_time": "2023-08-03T22:45:52.296Z"
   },
   {
    "duration": 87,
    "start_time": "2023-08-03T22:47:38.107Z"
   },
   {
    "duration": 25,
    "start_time": "2023-08-03T22:48:08.961Z"
   },
   {
    "duration": 41,
    "start_time": "2023-08-03T22:48:39.134Z"
   },
   {
    "duration": 20,
    "start_time": "2023-08-03T22:49:23.661Z"
   },
   {
    "duration": 17,
    "start_time": "2023-08-03T22:49:26.589Z"
   },
   {
    "duration": 80,
    "start_time": "2023-08-03T22:49:49.891Z"
   },
   {
    "duration": 22,
    "start_time": "2023-08-03T22:50:09.232Z"
   },
   {
    "duration": 104,
    "start_time": "2023-08-03T23:08:33.991Z"
   },
   {
    "duration": 76,
    "start_time": "2023-08-03T23:09:15.417Z"
   },
   {
    "duration": 16,
    "start_time": "2023-08-03T23:24:04.837Z"
   },
   {
    "duration": 66,
    "start_time": "2023-08-03T23:24:45.167Z"
   },
   {
    "duration": 61,
    "start_time": "2023-08-03T23:26:06.638Z"
   },
   {
    "duration": 73,
    "start_time": "2023-08-03T23:26:19.358Z"
   },
   {
    "duration": 58,
    "start_time": "2023-08-03T23:26:49.790Z"
   },
   {
    "duration": 65,
    "start_time": "2023-08-03T23:26:54.998Z"
   },
   {
    "duration": 59,
    "start_time": "2023-08-03T23:27:29.797Z"
   },
   {
    "duration": 54,
    "start_time": "2023-08-03T23:27:34.381Z"
   },
   {
    "duration": 54,
    "start_time": "2023-08-03T23:27:37.956Z"
   },
   {
    "duration": 60,
    "start_time": "2023-08-03T23:27:43.305Z"
   },
   {
    "duration": 41,
    "start_time": "2023-08-03T23:48:22.414Z"
   },
   {
    "duration": 7,
    "start_time": "2023-08-03T23:54:02.483Z"
   },
   {
    "duration": 5,
    "start_time": "2023-08-03T23:54:18.758Z"
   },
   {
    "duration": 33,
    "start_time": "2023-08-03T23:54:21.683Z"
   },
   {
    "duration": 6,
    "start_time": "2023-08-03T23:55:21.637Z"
   },
   {
    "duration": 19,
    "start_time": "2023-08-03T23:55:32.851Z"
   },
   {
    "duration": 18,
    "start_time": "2023-08-03T23:56:58.354Z"
   },
   {
    "duration": 29,
    "start_time": "2023-08-03T23:57:30.156Z"
   },
   {
    "duration": 17,
    "start_time": "2023-08-03T23:57:37.091Z"
   },
   {
    "duration": 35,
    "start_time": "2023-08-03T23:59:10.017Z"
   },
   {
    "duration": 34,
    "start_time": "2023-08-04T00:00:28.518Z"
   },
   {
    "duration": 15,
    "start_time": "2023-08-04T00:01:06.349Z"
   },
   {
    "duration": 41,
    "start_time": "2023-08-04T00:04:04.400Z"
   },
   {
    "duration": 29,
    "start_time": "2023-08-04T00:04:25.559Z"
   },
   {
    "duration": 29,
    "start_time": "2023-08-04T00:04:30.640Z"
   },
   {
    "duration": 29,
    "start_time": "2023-08-04T00:04:41.554Z"
   },
   {
    "duration": 41,
    "start_time": "2023-08-04T00:05:30.336Z"
   },
   {
    "duration": 45,
    "start_time": "2023-08-04T00:05:50.711Z"
   },
   {
    "duration": 37,
    "start_time": "2023-08-04T00:06:10.044Z"
   },
   {
    "duration": 62,
    "start_time": "2023-08-04T00:06:30.255Z"
   },
   {
    "duration": 12,
    "start_time": "2023-08-04T00:08:21.587Z"
   },
   {
    "duration": 8,
    "start_time": "2023-08-04T00:08:43.453Z"
   },
   {
    "duration": 35,
    "start_time": "2023-08-04T00:09:26.583Z"
   },
   {
    "duration": 42,
    "start_time": "2023-08-04T00:09:50.771Z"
   },
   {
    "duration": 48,
    "start_time": "2023-08-04T00:09:57.087Z"
   },
   {
    "duration": 6,
    "start_time": "2023-08-04T00:11:09.914Z"
   },
   {
    "duration": 5,
    "start_time": "2023-08-04T00:11:16.769Z"
   },
   {
    "duration": 4,
    "start_time": "2023-08-04T00:12:07.587Z"
   },
   {
    "duration": 6,
    "start_time": "2023-08-04T00:12:14.639Z"
   },
   {
    "duration": 41,
    "start_time": "2023-08-04T00:13:01.941Z"
   },
   {
    "duration": 167,
    "start_time": "2023-08-04T00:14:36.802Z"
   },
   {
    "duration": 161,
    "start_time": "2023-08-04T00:15:43.421Z"
   },
   {
    "duration": 3,
    "start_time": "2023-08-04T00:20:53.100Z"
   },
   {
    "duration": 4,
    "start_time": "2023-08-04T00:21:06.749Z"
   },
   {
    "duration": 10,
    "start_time": "2023-08-04T00:21:15.346Z"
   },
   {
    "duration": 4,
    "start_time": "2023-08-04T00:21:20.644Z"
   },
   {
    "duration": 5,
    "start_time": "2023-08-04T00:24:31.332Z"
   },
   {
    "duration": 12,
    "start_time": "2023-08-04T00:27:36.992Z"
   },
   {
    "duration": 11,
    "start_time": "2023-08-04T00:29:03.954Z"
   },
   {
    "duration": 14,
    "start_time": "2023-08-04T00:29:13.014Z"
   },
   {
    "duration": 20,
    "start_time": "2023-08-04T00:29:50.912Z"
   },
   {
    "duration": 66,
    "start_time": "2023-08-04T00:32:26.410Z"
   },
   {
    "duration": 73,
    "start_time": "2023-08-04T00:32:42.852Z"
   },
   {
    "duration": 137,
    "start_time": "2023-08-04T00:32:59.727Z"
   },
   {
    "duration": 95,
    "start_time": "2023-08-04T00:33:08.721Z"
   },
   {
    "duration": 64,
    "start_time": "2023-08-04T00:33:14.651Z"
   },
   {
    "duration": 14,
    "start_time": "2023-08-04T00:34:09.045Z"
   },
   {
    "duration": 399,
    "start_time": "2023-08-04T00:34:40.540Z"
   },
   {
    "duration": 62,
    "start_time": "2023-08-04T00:35:02.387Z"
   },
   {
    "duration": 10,
    "start_time": "2023-08-04T00:39:15.773Z"
   },
   {
    "duration": 295,
    "start_time": "2023-08-04T00:39:22.779Z"
   },
   {
    "duration": 3,
    "start_time": "2023-08-04T00:40:02.105Z"
   },
   {
    "duration": 296,
    "start_time": "2023-08-04T00:40:04.287Z"
   },
   {
    "duration": 309,
    "start_time": "2023-08-04T00:40:40.858Z"
   },
   {
    "duration": 357,
    "start_time": "2023-08-04T00:40:47.931Z"
   },
   {
    "duration": 347,
    "start_time": "2023-08-04T00:41:01.913Z"
   },
   {
    "duration": 343,
    "start_time": "2023-08-04T00:41:55.832Z"
   },
   {
    "duration": 338,
    "start_time": "2023-08-04T00:42:06.632Z"
   },
   {
    "duration": 513,
    "start_time": "2023-08-04T00:42:15.241Z"
   },
   {
    "duration": 365,
    "start_time": "2023-08-04T00:42:32.606Z"
   },
   {
    "duration": 284,
    "start_time": "2023-08-04T00:50:59.390Z"
   },
   {
    "duration": 110,
    "start_time": "2023-08-04T00:52:30.097Z"
   },
   {
    "duration": 11,
    "start_time": "2023-08-04T00:53:03.966Z"
   },
   {
    "duration": 11,
    "start_time": "2023-08-04T00:58:19.389Z"
   },
   {
    "duration": 12,
    "start_time": "2023-08-04T00:58:30.753Z"
   },
   {
    "duration": 12,
    "start_time": "2023-08-04T00:58:41.350Z"
   },
   {
    "duration": 7,
    "start_time": "2023-08-04T01:14:13.207Z"
   },
   {
    "duration": 26,
    "start_time": "2023-08-04T01:28:43.516Z"
   },
   {
    "duration": 30,
    "start_time": "2023-08-04T01:30:38.522Z"
   },
   {
    "duration": 8,
    "start_time": "2023-08-04T01:30:52.074Z"
   },
   {
    "duration": 2,
    "start_time": "2023-08-04T01:31:15.668Z"
   },
   {
    "duration": 4,
    "start_time": "2023-08-04T01:31:21.403Z"
   },
   {
    "duration": 2,
    "start_time": "2023-08-04T01:39:52.217Z"
   },
   {
    "duration": 645,
    "start_time": "2023-08-04T01:39:52.221Z"
   },
   {
    "duration": 31,
    "start_time": "2023-08-04T01:39:52.868Z"
   },
   {
    "duration": 19,
    "start_time": "2023-08-04T01:39:52.901Z"
   },
   {
    "duration": 11,
    "start_time": "2023-08-04T01:39:52.922Z"
   },
   {
    "duration": 20,
    "start_time": "2023-08-04T01:39:52.935Z"
   },
   {
    "duration": 39,
    "start_time": "2023-08-04T01:39:52.956Z"
   },
   {
    "duration": 34,
    "start_time": "2023-08-04T01:39:52.996Z"
   },
   {
    "duration": 67,
    "start_time": "2023-08-04T01:39:53.031Z"
   },
   {
    "duration": 95,
    "start_time": "2023-08-04T01:39:53.099Z"
   },
   {
    "duration": 7,
    "start_time": "2023-08-04T01:39:53.195Z"
   },
   {
    "duration": 63,
    "start_time": "2023-08-04T01:39:53.204Z"
   },
   {
    "duration": 24,
    "start_time": "2023-08-04T01:39:53.268Z"
   },
   {
    "duration": 30,
    "start_time": "2023-08-04T01:39:53.295Z"
   },
   {
    "duration": 6,
    "start_time": "2023-08-04T01:39:53.327Z"
   },
   {
    "duration": 22,
    "start_time": "2023-08-04T01:39:53.334Z"
   },
   {
    "duration": 34,
    "start_time": "2023-08-04T01:39:53.357Z"
   },
   {
    "duration": 34,
    "start_time": "2023-08-04T01:39:53.392Z"
   },
   {
    "duration": 12,
    "start_time": "2023-08-04T01:39:53.428Z"
   },
   {
    "duration": 14,
    "start_time": "2023-08-04T01:39:53.442Z"
   },
   {
    "duration": 47,
    "start_time": "2023-08-04T01:39:53.458Z"
   },
   {
    "duration": 30,
    "start_time": "2023-08-04T01:39:53.507Z"
   },
   {
    "duration": 12,
    "start_time": "2023-08-04T01:39:53.538Z"
   },
   {
    "duration": 36,
    "start_time": "2023-08-04T01:39:53.551Z"
   },
   {
    "duration": 51,
    "start_time": "2023-08-04T01:39:53.589Z"
   },
   {
    "duration": 8,
    "start_time": "2023-08-04T01:39:53.641Z"
   },
   {
    "duration": 241,
    "start_time": "2023-08-04T01:39:53.650Z"
   },
   {
    "duration": 310,
    "start_time": "2023-08-04T01:39:53.892Z"
   },
   {
    "duration": 10,
    "start_time": "2023-08-04T01:40:03.320Z"
   },
   {
    "duration": 9,
    "start_time": "2023-08-04T01:41:32.352Z"
   },
   {
    "duration": 16,
    "start_time": "2023-08-04T01:42:35.542Z"
   },
   {
    "duration": 19,
    "start_time": "2023-08-04T01:42:58.025Z"
   },
   {
    "duration": 9,
    "start_time": "2023-08-04T01:43:16.376Z"
   },
   {
    "duration": 8,
    "start_time": "2023-08-04T01:43:26.819Z"
   },
   {
    "duration": 38,
    "start_time": "2023-08-04T01:43:58.370Z"
   },
   {
    "duration": 17,
    "start_time": "2023-08-04T01:44:36.680Z"
   },
   {
    "duration": 13,
    "start_time": "2023-08-04T01:46:55.768Z"
   },
   {
    "duration": 33,
    "start_time": "2023-08-04T01:47:21.278Z"
   },
   {
    "duration": 28,
    "start_time": "2023-08-04T01:47:23.930Z"
   },
   {
    "duration": 10,
    "start_time": "2023-08-04T01:47:33.884Z"
   },
   {
    "duration": 9,
    "start_time": "2023-08-04T01:47:48.076Z"
   },
   {
    "duration": 17,
    "start_time": "2023-08-04T01:48:07.210Z"
   },
   {
    "duration": 3,
    "start_time": "2023-08-04T01:48:14.319Z"
   },
   {
    "duration": 469,
    "start_time": "2023-08-04T01:48:14.324Z"
   },
   {
    "duration": 30,
    "start_time": "2023-08-04T01:48:14.794Z"
   },
   {
    "duration": 19,
    "start_time": "2023-08-04T01:48:14.827Z"
   },
   {
    "duration": 12,
    "start_time": "2023-08-04T01:48:14.848Z"
   },
   {
    "duration": 4,
    "start_time": "2023-08-04T01:48:14.862Z"
   },
   {
    "duration": 56,
    "start_time": "2023-08-04T01:48:14.867Z"
   },
   {
    "duration": 34,
    "start_time": "2023-08-04T01:48:16.918Z"
   },
   {
    "duration": 35,
    "start_time": "2023-08-04T01:48:20.120Z"
   },
   {
    "duration": 3,
    "start_time": "2023-08-04T01:48:49.872Z"
   },
   {
    "duration": 535,
    "start_time": "2023-08-04T01:48:49.876Z"
   },
   {
    "duration": 30,
    "start_time": "2023-08-04T01:48:50.412Z"
   },
   {
    "duration": 19,
    "start_time": "2023-08-04T01:48:50.444Z"
   },
   {
    "duration": 16,
    "start_time": "2023-08-04T01:48:50.465Z"
   },
   {
    "duration": 4,
    "start_time": "2023-08-04T01:48:50.482Z"
   },
   {
    "duration": 59,
    "start_time": "2023-08-04T01:48:50.487Z"
   },
   {
    "duration": 37,
    "start_time": "2023-08-04T01:48:50.548Z"
   },
   {
    "duration": 37,
    "start_time": "2023-08-04T01:48:50.587Z"
   },
   {
    "duration": 58,
    "start_time": "2023-08-04T01:48:50.625Z"
   },
   {
    "duration": 117,
    "start_time": "2023-08-04T01:48:50.684Z"
   },
   {
    "duration": 7,
    "start_time": "2023-08-04T01:48:50.803Z"
   },
   {
    "duration": 15,
    "start_time": "2023-08-04T01:48:50.812Z"
   },
   {
    "duration": 0,
    "start_time": "2023-08-04T01:48:50.829Z"
   },
   {
    "duration": 0,
    "start_time": "2023-08-04T01:48:50.830Z"
   },
   {
    "duration": 0,
    "start_time": "2023-08-04T01:48:50.831Z"
   },
   {
    "duration": 0,
    "start_time": "2023-08-04T01:48:50.832Z"
   },
   {
    "duration": 0,
    "start_time": "2023-08-04T01:48:50.832Z"
   },
   {
    "duration": 0,
    "start_time": "2023-08-04T01:48:50.833Z"
   },
   {
    "duration": 0,
    "start_time": "2023-08-04T01:48:50.834Z"
   },
   {
    "duration": 0,
    "start_time": "2023-08-04T01:48:50.835Z"
   },
   {
    "duration": 0,
    "start_time": "2023-08-04T01:48:50.835Z"
   },
   {
    "duration": 0,
    "start_time": "2023-08-04T01:48:50.836Z"
   },
   {
    "duration": 0,
    "start_time": "2023-08-04T01:48:50.837Z"
   },
   {
    "duration": 0,
    "start_time": "2023-08-04T01:48:50.838Z"
   },
   {
    "duration": 0,
    "start_time": "2023-08-04T01:48:50.839Z"
   },
   {
    "duration": 0,
    "start_time": "2023-08-04T01:48:50.840Z"
   },
   {
    "duration": 0,
    "start_time": "2023-08-04T01:48:50.841Z"
   },
   {
    "duration": 0,
    "start_time": "2023-08-04T01:48:50.842Z"
   },
   {
    "duration": 0,
    "start_time": "2023-08-04T01:48:50.843Z"
   },
   {
    "duration": 0,
    "start_time": "2023-08-04T01:48:50.844Z"
   },
   {
    "duration": 0,
    "start_time": "2023-08-04T01:48:50.845Z"
   },
   {
    "duration": 0,
    "start_time": "2023-08-04T01:48:50.846Z"
   },
   {
    "duration": 0,
    "start_time": "2023-08-04T01:48:50.848Z"
   },
   {
    "duration": 0,
    "start_time": "2023-08-04T01:48:50.849Z"
   },
   {
    "duration": 0,
    "start_time": "2023-08-04T01:48:50.850Z"
   },
   {
    "duration": 0,
    "start_time": "2023-08-04T01:48:50.851Z"
   },
   {
    "duration": 0,
    "start_time": "2023-08-04T01:48:50.852Z"
   },
   {
    "duration": 0,
    "start_time": "2023-08-04T01:48:50.853Z"
   },
   {
    "duration": 0,
    "start_time": "2023-08-04T01:48:50.854Z"
   },
   {
    "duration": 0,
    "start_time": "2023-08-04T01:48:50.855Z"
   },
   {
    "duration": 0,
    "start_time": "2023-08-04T01:48:50.856Z"
   },
   {
    "duration": 0,
    "start_time": "2023-08-04T01:48:50.857Z"
   },
   {
    "duration": 0,
    "start_time": "2023-08-04T01:48:50.858Z"
   },
   {
    "duration": 0,
    "start_time": "2023-08-04T01:48:50.858Z"
   },
   {
    "duration": 0,
    "start_time": "2023-08-04T01:48:50.860Z"
   },
   {
    "duration": 0,
    "start_time": "2023-08-04T01:48:50.860Z"
   },
   {
    "duration": 0,
    "start_time": "2023-08-04T01:48:50.920Z"
   },
   {
    "duration": 0,
    "start_time": "2023-08-04T01:48:50.921Z"
   },
   {
    "duration": 0,
    "start_time": "2023-08-04T01:48:50.922Z"
   },
   {
    "duration": 0,
    "start_time": "2023-08-04T01:48:50.923Z"
   },
   {
    "duration": 0,
    "start_time": "2023-08-04T01:48:50.924Z"
   },
   {
    "duration": 0,
    "start_time": "2023-08-04T01:48:50.924Z"
   },
   {
    "duration": 0,
    "start_time": "2023-08-04T01:48:50.926Z"
   },
   {
    "duration": 0,
    "start_time": "2023-08-04T01:48:50.926Z"
   },
   {
    "duration": 0,
    "start_time": "2023-08-04T01:48:50.928Z"
   },
   {
    "duration": 0,
    "start_time": "2023-08-04T01:48:50.929Z"
   },
   {
    "duration": 0,
    "start_time": "2023-08-04T01:48:50.930Z"
   },
   {
    "duration": 0,
    "start_time": "2023-08-04T01:48:50.931Z"
   },
   {
    "duration": 0,
    "start_time": "2023-08-04T01:48:50.931Z"
   },
   {
    "duration": 0,
    "start_time": "2023-08-04T01:48:50.932Z"
   },
   {
    "duration": 0,
    "start_time": "2023-08-04T01:48:50.933Z"
   },
   {
    "duration": 34,
    "start_time": "2023-08-04T01:49:16.572Z"
   },
   {
    "duration": 24,
    "start_time": "2023-08-04T01:49:28.559Z"
   },
   {
    "duration": 17,
    "start_time": "2023-08-04T01:49:47.179Z"
   },
   {
    "duration": 6,
    "start_time": "2023-08-04T01:49:49.754Z"
   },
   {
    "duration": 10,
    "start_time": "2023-08-04T01:49:51.315Z"
   },
   {
    "duration": 7,
    "start_time": "2023-08-04T01:49:52.708Z"
   },
   {
    "duration": 31,
    "start_time": "2023-08-04T01:49:54.138Z"
   },
   {
    "duration": 13,
    "start_time": "2023-08-04T01:49:56.265Z"
   },
   {
    "duration": 7,
    "start_time": "2023-08-04T01:49:57.396Z"
   },
   {
    "duration": 28,
    "start_time": "2023-08-04T01:50:03.099Z"
   },
   {
    "duration": 12,
    "start_time": "2023-08-04T01:50:07.180Z"
   },
   {
    "duration": 8,
    "start_time": "2023-08-04T01:50:12.149Z"
   },
   {
    "duration": 26,
    "start_time": "2023-08-04T01:50:18.206Z"
   },
   {
    "duration": 9,
    "start_time": "2023-08-04T01:50:20.676Z"
   },
   {
    "duration": 244,
    "start_time": "2023-08-04T01:50:29.301Z"
   },
   {
    "duration": 326,
    "start_time": "2023-08-04T01:50:33.677Z"
   },
   {
    "duration": 41,
    "start_time": "2023-08-04T01:50:57.589Z"
   },
   {
    "duration": 50,
    "start_time": "2023-08-04T01:52:40.517Z"
   },
   {
    "duration": 3,
    "start_time": "2023-08-04T01:52:56.122Z"
   },
   {
    "duration": 414,
    "start_time": "2023-08-04T01:52:56.126Z"
   },
   {
    "duration": 32,
    "start_time": "2023-08-04T01:52:56.542Z"
   },
   {
    "duration": 18,
    "start_time": "2023-08-04T01:52:56.576Z"
   },
   {
    "duration": 29,
    "start_time": "2023-08-04T01:52:56.596Z"
   },
   {
    "duration": 9,
    "start_time": "2023-08-04T01:52:56.626Z"
   },
   {
    "duration": 34,
    "start_time": "2023-08-04T01:52:56.636Z"
   },
   {
    "duration": 35,
    "start_time": "2023-08-04T01:52:56.671Z"
   },
   {
    "duration": 42,
    "start_time": "2023-08-04T01:52:56.708Z"
   },
   {
    "duration": 68,
    "start_time": "2023-08-04T01:52:56.752Z"
   },
   {
    "duration": 115,
    "start_time": "2023-08-04T01:52:56.822Z"
   },
   {
    "duration": 8,
    "start_time": "2023-08-04T01:52:56.938Z"
   },
   {
    "duration": 31,
    "start_time": "2023-08-04T01:52:56.947Z"
   },
   {
    "duration": 43,
    "start_time": "2023-08-04T01:52:56.981Z"
   },
   {
    "duration": 17,
    "start_time": "2023-08-04T01:52:57.025Z"
   },
   {
    "duration": 5,
    "start_time": "2023-08-04T01:52:57.043Z"
   },
   {
    "duration": 8,
    "start_time": "2023-08-04T01:52:57.049Z"
   },
   {
    "duration": 21,
    "start_time": "2023-08-04T01:52:57.058Z"
   },
   {
    "duration": 40,
    "start_time": "2023-08-04T01:52:57.080Z"
   },
   {
    "duration": 12,
    "start_time": "2023-08-04T01:52:57.121Z"
   },
   {
    "duration": 7,
    "start_time": "2023-08-04T01:52:57.134Z"
   },
   {
    "duration": 40,
    "start_time": "2023-08-04T01:52:57.142Z"
   },
   {
    "duration": 13,
    "start_time": "2023-08-04T01:52:57.183Z"
   },
   {
    "duration": 7,
    "start_time": "2023-08-04T01:52:57.220Z"
   },
   {
    "duration": 13,
    "start_time": "2023-08-04T01:52:57.228Z"
   },
   {
    "duration": 25,
    "start_time": "2023-08-04T01:52:57.243Z"
   },
   {
    "duration": 8,
    "start_time": "2023-08-04T01:52:57.270Z"
   },
   {
    "duration": 252,
    "start_time": "2023-08-04T01:52:57.280Z"
   },
   {
    "duration": 320,
    "start_time": "2023-08-04T01:52:57.534Z"
   },
   {
    "duration": 8,
    "start_time": "2023-08-04T01:52:57.855Z"
   },
   {
    "duration": 43,
    "start_time": "2023-08-04T01:53:02.548Z"
   },
   {
    "duration": 51,
    "start_time": "2023-08-04T01:53:47.639Z"
   },
   {
    "duration": 3,
    "start_time": "2023-08-04T01:53:59.749Z"
   },
   {
    "duration": 411,
    "start_time": "2023-08-04T01:53:59.754Z"
   },
   {
    "duration": 31,
    "start_time": "2023-08-04T01:54:00.166Z"
   },
   {
    "duration": 24,
    "start_time": "2023-08-04T01:54:00.198Z"
   },
   {
    "duration": 33,
    "start_time": "2023-08-04T01:54:00.224Z"
   },
   {
    "duration": 39,
    "start_time": "2023-08-04T01:54:00.258Z"
   },
   {
    "duration": 62,
    "start_time": "2023-08-04T01:54:00.299Z"
   },
   {
    "duration": 69,
    "start_time": "2023-08-04T01:54:00.362Z"
   },
   {
    "duration": 34,
    "start_time": "2023-08-04T01:54:00.432Z"
   },
   {
    "duration": 72,
    "start_time": "2023-08-04T01:54:00.468Z"
   },
   {
    "duration": 111,
    "start_time": "2023-08-04T01:54:00.541Z"
   },
   {
    "duration": 7,
    "start_time": "2023-08-04T01:54:00.653Z"
   },
   {
    "duration": 66,
    "start_time": "2023-08-04T01:54:00.661Z"
   },
   {
    "duration": 43,
    "start_time": "2023-08-04T01:54:00.730Z"
   },
   {
    "duration": 53,
    "start_time": "2023-08-04T01:54:00.774Z"
   },
   {
    "duration": 26,
    "start_time": "2023-08-04T01:54:00.828Z"
   },
   {
    "duration": 33,
    "start_time": "2023-08-04T01:54:00.855Z"
   },
   {
    "duration": 30,
    "start_time": "2023-08-04T01:54:00.890Z"
   },
   {
    "duration": 64,
    "start_time": "2023-08-04T01:54:00.921Z"
   },
   {
    "duration": 43,
    "start_time": "2023-08-04T01:54:00.986Z"
   },
   {
    "duration": 62,
    "start_time": "2023-08-04T01:54:01.030Z"
   },
   {
    "duration": 52,
    "start_time": "2023-08-04T01:54:01.093Z"
   },
   {
    "duration": 25,
    "start_time": "2023-08-04T01:54:01.147Z"
   },
   {
    "duration": 14,
    "start_time": "2023-08-04T01:54:01.173Z"
   },
   {
    "duration": 21,
    "start_time": "2023-08-04T01:54:01.188Z"
   },
   {
    "duration": 39,
    "start_time": "2023-08-04T01:54:01.210Z"
   },
   {
    "duration": 18,
    "start_time": "2023-08-04T01:54:01.251Z"
   },
   {
    "duration": 240,
    "start_time": "2023-08-04T01:54:01.271Z"
   },
   {
    "duration": 335,
    "start_time": "2023-08-04T01:54:01.513Z"
   },
   {
    "duration": 46,
    "start_time": "2023-08-04T01:54:04.428Z"
   },
   {
    "duration": 93,
    "start_time": "2023-08-04T01:54:55.416Z"
   },
   {
    "duration": 3,
    "start_time": "2023-08-04T01:55:11.891Z"
   },
   {
    "duration": 416,
    "start_time": "2023-08-04T01:55:11.896Z"
   },
   {
    "duration": 31,
    "start_time": "2023-08-04T01:55:12.313Z"
   },
   {
    "duration": 19,
    "start_time": "2023-08-04T01:55:12.346Z"
   },
   {
    "duration": 208,
    "start_time": "2023-08-04T01:55:12.367Z"
   },
   {
    "duration": 4,
    "start_time": "2023-08-04T01:55:12.576Z"
   },
   {
    "duration": 50,
    "start_time": "2023-08-04T01:55:12.581Z"
   },
   {
    "duration": 44,
    "start_time": "2023-08-04T01:55:12.633Z"
   },
   {
    "duration": 33,
    "start_time": "2023-08-04T01:55:12.678Z"
   },
   {
    "duration": 63,
    "start_time": "2023-08-04T01:55:12.713Z"
   },
   {
    "duration": 113,
    "start_time": "2023-08-04T01:55:12.778Z"
   },
   {
    "duration": 7,
    "start_time": "2023-08-04T01:55:12.893Z"
   },
   {
    "duration": 41,
    "start_time": "2023-08-04T01:55:12.902Z"
   },
   {
    "duration": 25,
    "start_time": "2023-08-04T01:55:12.946Z"
   },
   {
    "duration": 16,
    "start_time": "2023-08-04T01:55:12.973Z"
   },
   {
    "duration": 29,
    "start_time": "2023-08-04T01:55:12.991Z"
   },
   {
    "duration": 7,
    "start_time": "2023-08-04T01:55:13.022Z"
   },
   {
    "duration": 18,
    "start_time": "2023-08-04T01:55:13.031Z"
   },
   {
    "duration": 29,
    "start_time": "2023-08-04T01:55:13.051Z"
   },
   {
    "duration": 12,
    "start_time": "2023-08-04T01:55:13.081Z"
   },
   {
    "duration": 30,
    "start_time": "2023-08-04T01:55:13.095Z"
   },
   {
    "duration": 39,
    "start_time": "2023-08-04T01:55:13.126Z"
   },
   {
    "duration": 13,
    "start_time": "2023-08-04T01:55:13.167Z"
   },
   {
    "duration": 6,
    "start_time": "2023-08-04T01:55:13.182Z"
   },
   {
    "duration": 32,
    "start_time": "2023-08-04T01:55:13.189Z"
   },
   {
    "duration": 27,
    "start_time": "2023-08-04T01:55:13.222Z"
   },
   {
    "duration": 8,
    "start_time": "2023-08-04T01:55:13.250Z"
   },
   {
    "duration": 246,
    "start_time": "2023-08-04T01:55:13.260Z"
   },
   {
    "duration": 344,
    "start_time": "2023-08-04T01:55:13.508Z"
   },
   {
    "duration": 73,
    "start_time": "2023-08-04T01:55:19.520Z"
   },
   {
    "duration": 4,
    "start_time": "2023-08-04T01:58:00.156Z"
   },
   {
    "duration": 492,
    "start_time": "2023-08-04T01:58:00.162Z"
   },
   {
    "duration": 32,
    "start_time": "2023-08-04T01:58:00.655Z"
   },
   {
    "duration": 41,
    "start_time": "2023-08-04T01:58:00.689Z"
   },
   {
    "duration": 37,
    "start_time": "2023-08-04T01:58:00.731Z"
   },
   {
    "duration": 20,
    "start_time": "2023-08-04T01:58:00.770Z"
   },
   {
    "duration": 60,
    "start_time": "2023-08-04T01:58:00.791Z"
   },
   {
    "duration": 55,
    "start_time": "2023-08-04T01:58:00.853Z"
   },
   {
    "duration": 32,
    "start_time": "2023-08-04T01:58:00.909Z"
   },
   {
    "duration": 77,
    "start_time": "2023-08-04T01:58:00.944Z"
   },
   {
    "duration": 110,
    "start_time": "2023-08-04T01:58:01.022Z"
   },
   {
    "duration": 8,
    "start_time": "2023-08-04T01:58:01.133Z"
   },
   {
    "duration": 72,
    "start_time": "2023-08-04T01:58:01.142Z"
   },
   {
    "duration": 26,
    "start_time": "2023-08-04T01:58:01.216Z"
   },
   {
    "duration": 58,
    "start_time": "2023-08-04T01:58:01.243Z"
   },
   {
    "duration": 34,
    "start_time": "2023-08-04T01:58:01.302Z"
   },
   {
    "duration": 45,
    "start_time": "2023-08-04T01:58:01.338Z"
   },
   {
    "duration": 46,
    "start_time": "2023-08-04T01:58:01.385Z"
   },
   {
    "duration": 90,
    "start_time": "2023-08-04T01:58:01.433Z"
   },
   {
    "duration": 46,
    "start_time": "2023-08-04T01:58:01.525Z"
   },
   {
    "duration": 99,
    "start_time": "2023-08-04T01:58:01.572Z"
   },
   {
    "duration": 97,
    "start_time": "2023-08-04T01:58:01.672Z"
   },
   {
    "duration": 31,
    "start_time": "2023-08-04T01:58:01.770Z"
   },
   {
    "duration": 27,
    "start_time": "2023-08-04T01:58:01.802Z"
   },
   {
    "duration": 42,
    "start_time": "2023-08-04T01:58:01.830Z"
   },
   {
    "duration": 86,
    "start_time": "2023-08-04T01:58:01.874Z"
   },
   {
    "duration": 44,
    "start_time": "2023-08-04T01:58:01.961Z"
   },
   {
    "duration": 256,
    "start_time": "2023-08-04T01:58:02.008Z"
   },
   {
    "duration": 324,
    "start_time": "2023-08-04T01:58:02.266Z"
   },
   {
    "duration": 78,
    "start_time": "2023-08-04T01:58:02.591Z"
   },
   {
    "duration": 165,
    "start_time": "2023-08-04T01:58:02.670Z"
   },
   {
    "duration": 148,
    "start_time": "2023-08-04T01:58:02.837Z"
   },
   {
    "duration": 23,
    "start_time": "2023-08-04T01:58:02.986Z"
   },
   {
    "duration": 27,
    "start_time": "2023-08-04T01:58:03.010Z"
   },
   {
    "duration": 58,
    "start_time": "2023-08-04T01:58:03.039Z"
   },
   {
    "duration": 62,
    "start_time": "2023-08-04T01:58:03.098Z"
   },
   {
    "duration": 234,
    "start_time": "2023-08-04T01:58:03.162Z"
   },
   {
    "duration": 167,
    "start_time": "2023-08-04T01:58:03.397Z"
   },
   {
    "duration": 71,
    "start_time": "2023-08-04T01:58:03.566Z"
   },
   {
    "duration": 9,
    "start_time": "2023-08-04T01:58:03.639Z"
   },
   {
    "duration": 12,
    "start_time": "2023-08-04T01:58:03.650Z"
   },
   {
    "duration": 0,
    "start_time": "2023-08-04T01:58:03.663Z"
   },
   {
    "duration": 0,
    "start_time": "2023-08-04T01:58:03.664Z"
   },
   {
    "duration": 0,
    "start_time": "2023-08-04T01:58:03.665Z"
   },
   {
    "duration": 0,
    "start_time": "2023-08-04T01:58:03.665Z"
   },
   {
    "duration": 0,
    "start_time": "2023-08-04T01:58:03.666Z"
   },
   {
    "duration": 0,
    "start_time": "2023-08-04T01:58:03.667Z"
   },
   {
    "duration": 0,
    "start_time": "2023-08-04T01:58:03.668Z"
   },
   {
    "duration": 0,
    "start_time": "2023-08-04T01:58:03.669Z"
   },
   {
    "duration": 0,
    "start_time": "2023-08-04T01:58:03.670Z"
   },
   {
    "duration": 0,
    "start_time": "2023-08-04T01:58:03.671Z"
   },
   {
    "duration": 0,
    "start_time": "2023-08-04T01:58:03.671Z"
   },
   {
    "duration": 0,
    "start_time": "2023-08-04T01:58:03.672Z"
   },
   {
    "duration": 0,
    "start_time": "2023-08-04T01:58:03.673Z"
   },
   {
    "duration": 0,
    "start_time": "2023-08-04T01:58:03.674Z"
   },
   {
    "duration": 0,
    "start_time": "2023-08-04T01:58:03.674Z"
   },
   {
    "duration": 0,
    "start_time": "2023-08-04T01:58:03.675Z"
   },
   {
    "duration": 0,
    "start_time": "2023-08-04T01:58:03.676Z"
   },
   {
    "duration": 11,
    "start_time": "2023-08-04T01:58:20.956Z"
   },
   {
    "duration": 3,
    "start_time": "2023-08-04T01:58:31.152Z"
   },
   {
    "duration": 451,
    "start_time": "2023-08-04T01:58:31.156Z"
   },
   {
    "duration": 33,
    "start_time": "2023-08-04T01:58:31.608Z"
   },
   {
    "duration": 18,
    "start_time": "2023-08-04T01:58:31.642Z"
   },
   {
    "duration": 17,
    "start_time": "2023-08-04T01:58:31.661Z"
   },
   {
    "duration": 16,
    "start_time": "2023-08-04T01:58:31.679Z"
   },
   {
    "duration": 47,
    "start_time": "2023-08-04T01:58:31.696Z"
   },
   {
    "duration": 67,
    "start_time": "2023-08-04T01:58:31.744Z"
   },
   {
    "duration": 39,
    "start_time": "2023-08-04T01:58:31.812Z"
   },
   {
    "duration": 63,
    "start_time": "2023-08-04T01:58:31.852Z"
   },
   {
    "duration": 108,
    "start_time": "2023-08-04T01:58:31.916Z"
   },
   {
    "duration": 8,
    "start_time": "2023-08-04T01:58:32.026Z"
   },
   {
    "duration": 49,
    "start_time": "2023-08-04T01:58:32.035Z"
   },
   {
    "duration": 23,
    "start_time": "2023-08-04T01:58:32.087Z"
   },
   {
    "duration": 27,
    "start_time": "2023-08-04T01:58:32.111Z"
   },
   {
    "duration": 8,
    "start_time": "2023-08-04T01:58:32.139Z"
   },
   {
    "duration": 28,
    "start_time": "2023-08-04T01:58:32.149Z"
   },
   {
    "duration": 22,
    "start_time": "2023-08-04T01:58:32.178Z"
   },
   {
    "duration": 37,
    "start_time": "2023-08-04T01:58:32.202Z"
   },
   {
    "duration": 12,
    "start_time": "2023-08-04T01:58:32.240Z"
   },
   {
    "duration": 12,
    "start_time": "2023-08-04T01:58:32.253Z"
   },
   {
    "duration": 31,
    "start_time": "2023-08-04T01:58:32.267Z"
   },
   {
    "duration": 31,
    "start_time": "2023-08-04T01:58:32.300Z"
   },
   {
    "duration": 6,
    "start_time": "2023-08-04T01:58:32.332Z"
   },
   {
    "duration": 11,
    "start_time": "2023-08-04T01:58:32.339Z"
   },
   {
    "duration": 41,
    "start_time": "2023-08-04T01:58:32.351Z"
   },
   {
    "duration": 8,
    "start_time": "2023-08-04T01:58:32.394Z"
   },
   {
    "duration": 247,
    "start_time": "2023-08-04T01:58:32.403Z"
   },
   {
    "duration": 332,
    "start_time": "2023-08-04T01:58:32.652Z"
   },
   {
    "duration": 78,
    "start_time": "2023-08-04T01:58:32.986Z"
   },
   {
    "duration": 172,
    "start_time": "2023-08-04T01:58:33.066Z"
   },
   {
    "duration": 152,
    "start_time": "2023-08-04T01:58:33.239Z"
   },
   {
    "duration": 29,
    "start_time": "2023-08-04T01:58:33.393Z"
   },
   {
    "duration": 19,
    "start_time": "2023-08-04T01:58:33.423Z"
   },
   {
    "duration": 22,
    "start_time": "2023-08-04T01:58:33.444Z"
   },
   {
    "duration": 59,
    "start_time": "2023-08-04T01:58:33.467Z"
   },
   {
    "duration": 242,
    "start_time": "2023-08-04T01:58:33.527Z"
   },
   {
    "duration": 153,
    "start_time": "2023-08-04T01:58:33.771Z"
   },
   {
    "duration": 62,
    "start_time": "2023-08-04T01:58:33.925Z"
   },
   {
    "duration": 10,
    "start_time": "2023-08-04T01:58:33.989Z"
   },
   {
    "duration": 12,
    "start_time": "2023-08-04T01:59:27.436Z"
   },
   {
    "duration": 3,
    "start_time": "2023-08-04T01:59:31.119Z"
   },
   {
    "duration": 434,
    "start_time": "2023-08-04T01:59:31.125Z"
   },
   {
    "duration": 30,
    "start_time": "2023-08-04T01:59:31.561Z"
   },
   {
    "duration": 18,
    "start_time": "2023-08-04T01:59:31.593Z"
   },
   {
    "duration": 16,
    "start_time": "2023-08-04T01:59:31.612Z"
   },
   {
    "duration": 21,
    "start_time": "2023-08-04T01:59:31.630Z"
   },
   {
    "duration": 62,
    "start_time": "2023-08-04T01:59:31.652Z"
   },
   {
    "duration": 57,
    "start_time": "2023-08-04T01:59:31.716Z"
   },
   {
    "duration": 32,
    "start_time": "2023-08-04T01:59:31.775Z"
   },
   {
    "duration": 60,
    "start_time": "2023-08-04T01:59:31.808Z"
   },
   {
    "duration": 109,
    "start_time": "2023-08-04T01:59:31.870Z"
   },
   {
    "duration": 8,
    "start_time": "2023-08-04T01:59:31.980Z"
   },
   {
    "duration": 64,
    "start_time": "2023-08-04T01:59:31.990Z"
   },
   {
    "duration": 31,
    "start_time": "2023-08-04T01:59:32.056Z"
   },
   {
    "duration": 26,
    "start_time": "2023-08-04T01:59:32.089Z"
   },
   {
    "duration": 37,
    "start_time": "2023-08-04T01:59:32.117Z"
   },
   {
    "duration": 76,
    "start_time": "2023-08-04T01:59:32.155Z"
   },
   {
    "duration": 81,
    "start_time": "2023-08-04T01:59:32.233Z"
   },
   {
    "duration": 53,
    "start_time": "2023-08-04T01:59:32.315Z"
   },
   {
    "duration": 11,
    "start_time": "2023-08-04T01:59:32.369Z"
   },
   {
    "duration": 21,
    "start_time": "2023-08-04T01:59:32.381Z"
   },
   {
    "duration": 54,
    "start_time": "2023-08-04T01:59:32.404Z"
   },
   {
    "duration": 11,
    "start_time": "2023-08-04T01:59:32.460Z"
   },
   {
    "duration": 9,
    "start_time": "2023-08-04T01:59:32.473Z"
   },
   {
    "duration": 15,
    "start_time": "2023-08-04T01:59:32.484Z"
   },
   {
    "duration": 32,
    "start_time": "2023-08-04T01:59:32.500Z"
   },
   {
    "duration": 33,
    "start_time": "2023-08-04T01:59:32.534Z"
   },
   {
    "duration": 266,
    "start_time": "2023-08-04T01:59:32.569Z"
   },
   {
    "duration": 493,
    "start_time": "2023-08-04T01:59:32.836Z"
   },
   {
    "duration": 70,
    "start_time": "2023-08-04T01:59:33.330Z"
   },
   {
    "duration": 174,
    "start_time": "2023-08-04T01:59:33.401Z"
   },
   {
    "duration": 148,
    "start_time": "2023-08-04T01:59:33.576Z"
   },
   {
    "duration": 22,
    "start_time": "2023-08-04T01:59:33.725Z"
   },
   {
    "duration": 18,
    "start_time": "2023-08-04T01:59:33.748Z"
   },
   {
    "duration": 20,
    "start_time": "2023-08-04T01:59:33.767Z"
   },
   {
    "duration": 55,
    "start_time": "2023-08-04T01:59:33.789Z"
   },
   {
    "duration": 241,
    "start_time": "2023-08-04T01:59:33.846Z"
   },
   {
    "duration": 153,
    "start_time": "2023-08-04T01:59:36.033Z"
   },
   {
    "duration": 35,
    "start_time": "2023-08-04T01:59:51.932Z"
   },
   {
    "duration": 26,
    "start_time": "2023-08-04T02:00:09.830Z"
   },
   {
    "duration": 39,
    "start_time": "2023-08-04T02:00:35.946Z"
   },
   {
    "duration": 51,
    "start_time": "2023-08-04T02:01:01.866Z"
   },
   {
    "duration": 11,
    "start_time": "2023-08-04T02:01:06.036Z"
   },
   {
    "duration": 3,
    "start_time": "2023-08-04T02:01:27.018Z"
   },
   {
    "duration": 445,
    "start_time": "2023-08-04T02:01:27.022Z"
   },
   {
    "duration": 31,
    "start_time": "2023-08-04T02:01:27.469Z"
   },
   {
    "duration": 17,
    "start_time": "2023-08-04T02:01:27.501Z"
   },
   {
    "duration": 10,
    "start_time": "2023-08-04T02:01:27.520Z"
   },
   {
    "duration": 3,
    "start_time": "2023-08-04T02:01:27.531Z"
   },
   {
    "duration": 36,
    "start_time": "2023-08-04T02:01:27.535Z"
   },
   {
    "duration": 47,
    "start_time": "2023-08-04T02:01:27.573Z"
   },
   {
    "duration": 34,
    "start_time": "2023-08-04T02:01:27.622Z"
   },
   {
    "duration": 69,
    "start_time": "2023-08-04T02:01:27.657Z"
   },
   {
    "duration": 123,
    "start_time": "2023-08-04T02:01:27.728Z"
   },
   {
    "duration": 7,
    "start_time": "2023-08-04T02:01:27.853Z"
   },
   {
    "duration": 34,
    "start_time": "2023-08-04T02:01:27.862Z"
   },
   {
    "duration": 36,
    "start_time": "2023-08-04T02:01:27.897Z"
   },
   {
    "duration": 20,
    "start_time": "2023-08-04T02:01:27.935Z"
   },
   {
    "duration": 7,
    "start_time": "2023-08-04T02:01:27.957Z"
   },
   {
    "duration": 8,
    "start_time": "2023-08-04T02:01:27.965Z"
   },
   {
    "duration": 12,
    "start_time": "2023-08-04T02:01:27.974Z"
   },
   {
    "duration": 54,
    "start_time": "2023-08-04T02:01:27.988Z"
   },
   {
    "duration": 14,
    "start_time": "2023-08-04T02:01:28.044Z"
   },
   {
    "duration": 8,
    "start_time": "2023-08-04T02:01:28.059Z"
   },
   {
    "duration": 70,
    "start_time": "2023-08-04T02:01:28.069Z"
   },
   {
    "duration": 15,
    "start_time": "2023-08-04T02:01:28.141Z"
   },
   {
    "duration": 10,
    "start_time": "2023-08-04T02:01:28.160Z"
   },
   {
    "duration": 14,
    "start_time": "2023-08-04T02:01:28.171Z"
   },
   {
    "duration": 40,
    "start_time": "2023-08-04T02:01:28.187Z"
   },
   {
    "duration": 7,
    "start_time": "2023-08-04T02:01:28.229Z"
   },
   {
    "duration": 253,
    "start_time": "2023-08-04T02:01:28.237Z"
   },
   {
    "duration": 337,
    "start_time": "2023-08-04T02:01:28.492Z"
   },
   {
    "duration": 82,
    "start_time": "2023-08-04T02:01:28.830Z"
   },
   {
    "duration": 183,
    "start_time": "2023-08-04T02:01:28.921Z"
   },
   {
    "duration": 152,
    "start_time": "2023-08-04T02:01:29.106Z"
   },
   {
    "duration": 21,
    "start_time": "2023-08-04T02:01:29.260Z"
   },
   {
    "duration": 21,
    "start_time": "2023-08-04T02:01:29.283Z"
   },
   {
    "duration": 27,
    "start_time": "2023-08-04T02:01:29.320Z"
   },
   {
    "duration": 40,
    "start_time": "2023-08-04T02:01:29.349Z"
   },
   {
    "duration": 264,
    "start_time": "2023-08-04T02:01:29.391Z"
   },
   {
    "duration": 168,
    "start_time": "2023-08-04T02:01:29.656Z"
   },
   {
    "duration": 67,
    "start_time": "2023-08-04T02:01:29.826Z"
   },
   {
    "duration": 11,
    "start_time": "2023-08-04T02:01:34.277Z"
   },
   {
    "duration": 10,
    "start_time": "2023-08-04T02:01:50.776Z"
   },
   {
    "duration": 220,
    "start_time": "2023-08-04T02:02:20.088Z"
   },
   {
    "duration": 265,
    "start_time": "2023-08-04T02:02:32.400Z"
   },
   {
    "duration": 1080,
    "start_time": "2023-08-04T02:02:34.655Z"
   },
   {
    "duration": 523,
    "start_time": "2023-08-04T02:02:39.065Z"
   },
   {
    "duration": 1336,
    "start_time": "2023-08-04T02:02:41.485Z"
   },
   {
    "duration": 7,
    "start_time": "2023-08-04T02:02:47.975Z"
   },
   {
    "duration": 5,
    "start_time": "2023-08-04T02:02:48.882Z"
   },
   {
    "duration": 8,
    "start_time": "2023-08-04T02:02:54.040Z"
   },
   {
    "duration": 4,
    "start_time": "2023-08-04T02:02:59.617Z"
   },
   {
    "duration": 101,
    "start_time": "2023-08-04T02:03:03.144Z"
   },
   {
    "duration": 11,
    "start_time": "2023-08-04T02:03:05.524Z"
   },
   {
    "duration": 331,
    "start_time": "2023-08-04T02:03:07.433Z"
   },
   {
    "duration": 203,
    "start_time": "2023-08-04T02:03:09.987Z"
   },
   {
    "duration": 37,
    "start_time": "2023-08-04T02:03:20.381Z"
   },
   {
    "duration": 320,
    "start_time": "2023-08-04T02:03:23.658Z"
   },
   {
    "duration": 24,
    "start_time": "2023-08-04T02:06:35.518Z"
   },
   {
    "duration": 50,
    "start_time": "2023-08-04T02:06:43.334Z"
   },
   {
    "duration": 16,
    "start_time": "2023-08-04T02:07:05.868Z"
   },
   {
    "duration": 5,
    "start_time": "2023-08-04T02:07:11.638Z"
   },
   {
    "duration": 16,
    "start_time": "2023-08-04T02:07:16.182Z"
   },
   {
    "duration": 5,
    "start_time": "2023-08-04T02:07:18.234Z"
   },
   {
    "duration": 27,
    "start_time": "2023-08-04T02:07:20.925Z"
   },
   {
    "duration": 23,
    "start_time": "2023-08-04T02:10:43.067Z"
   },
   {
    "duration": 11,
    "start_time": "2023-08-04T02:15:18.581Z"
   },
   {
    "duration": 22,
    "start_time": "2023-08-04T02:15:46.467Z"
   },
   {
    "duration": 5,
    "start_time": "2023-08-04T02:16:08.355Z"
   },
   {
    "duration": 4,
    "start_time": "2023-08-04T02:16:10.196Z"
   },
   {
    "duration": 8,
    "start_time": "2023-08-04T02:17:21.353Z"
   },
   {
    "duration": 4,
    "start_time": "2023-08-04T02:17:22.331Z"
   },
   {
    "duration": 9,
    "start_time": "2023-08-04T02:18:49.861Z"
   },
   {
    "duration": 4,
    "start_time": "2023-08-04T02:18:52.250Z"
   },
   {
    "duration": 4,
    "start_time": "2023-08-04T02:19:31.737Z"
   },
   {
    "duration": 29,
    "start_time": "2023-08-04T02:21:59.982Z"
   },
   {
    "duration": 2,
    "start_time": "2023-08-04T02:22:04.461Z"
   },
   {
    "duration": 588,
    "start_time": "2023-08-04T02:22:05.813Z"
   },
   {
    "duration": 31,
    "start_time": "2023-08-04T02:22:07.442Z"
   },
   {
    "duration": 2,
    "start_time": "2023-08-04T02:24:09.480Z"
   },
   {
    "duration": 822,
    "start_time": "2023-08-04T02:24:09.484Z"
   },
   {
    "duration": 31,
    "start_time": "2023-08-04T02:24:10.308Z"
   },
   {
    "duration": 17,
    "start_time": "2023-08-04T02:24:10.340Z"
   },
   {
    "duration": 35,
    "start_time": "2023-08-04T02:24:10.359Z"
   },
   {
    "duration": 31,
    "start_time": "2023-08-04T02:24:10.395Z"
   },
   {
    "duration": 45,
    "start_time": "2023-08-04T02:24:10.428Z"
   },
   {
    "duration": 40,
    "start_time": "2023-08-04T02:24:10.474Z"
   },
   {
    "duration": 30,
    "start_time": "2023-08-04T02:24:10.515Z"
   },
   {
    "duration": 51,
    "start_time": "2023-08-04T02:24:10.547Z"
   },
   {
    "duration": 115,
    "start_time": "2023-08-04T02:24:10.601Z"
   },
   {
    "duration": 7,
    "start_time": "2023-08-04T02:24:10.720Z"
   },
   {
    "duration": 62,
    "start_time": "2023-08-04T02:24:10.728Z"
   },
   {
    "duration": 24,
    "start_time": "2023-08-04T02:24:10.791Z"
   },
   {
    "duration": 19,
    "start_time": "2023-08-04T02:24:10.816Z"
   },
   {
    "duration": 6,
    "start_time": "2023-08-04T02:24:10.836Z"
   },
   {
    "duration": 22,
    "start_time": "2023-08-04T02:24:10.843Z"
   },
   {
    "duration": 24,
    "start_time": "2023-08-04T02:24:10.866Z"
   },
   {
    "duration": 38,
    "start_time": "2023-08-04T02:24:10.892Z"
   },
   {
    "duration": 11,
    "start_time": "2023-08-04T02:24:10.931Z"
   },
   {
    "duration": 6,
    "start_time": "2023-08-04T02:24:10.943Z"
   },
   {
    "duration": 32,
    "start_time": "2023-08-04T02:24:10.951Z"
   },
   {
    "duration": 11,
    "start_time": "2023-08-04T02:24:10.984Z"
   },
   {
    "duration": 25,
    "start_time": "2023-08-04T02:24:10.996Z"
   },
   {
    "duration": 38,
    "start_time": "2023-08-04T02:24:11.022Z"
   },
   {
    "duration": 76,
    "start_time": "2023-08-04T02:24:11.061Z"
   },
   {
    "duration": 44,
    "start_time": "2023-08-04T02:24:11.139Z"
   },
   {
    "duration": 239,
    "start_time": "2023-08-04T02:24:11.185Z"
   },
   {
    "duration": 321,
    "start_time": "2023-08-04T02:24:11.428Z"
   },
   {
    "duration": 74,
    "start_time": "2023-08-04T02:24:11.750Z"
   },
   {
    "duration": 6,
    "start_time": "2023-08-04T02:24:11.825Z"
   },
   {
    "duration": 10,
    "start_time": "2023-08-04T02:24:11.832Z"
   },
   {
    "duration": 237,
    "start_time": "2023-08-04T02:24:11.843Z"
   },
   {
    "duration": 152,
    "start_time": "2023-08-04T02:24:12.082Z"
   },
   {
    "duration": 31,
    "start_time": "2023-08-04T02:24:12.235Z"
   },
   {
    "duration": 17,
    "start_time": "2023-08-04T02:24:12.268Z"
   },
   {
    "duration": 20,
    "start_time": "2023-08-04T02:24:12.287Z"
   },
   {
    "duration": 33,
    "start_time": "2023-08-04T02:24:12.308Z"
   },
   {
    "duration": 242,
    "start_time": "2023-08-04T02:24:12.342Z"
   },
   {
    "duration": 153,
    "start_time": "2023-08-04T02:24:12.586Z"
   },
   {
    "duration": 61,
    "start_time": "2023-08-04T02:24:12.741Z"
   },
   {
    "duration": 20,
    "start_time": "2023-08-04T02:24:12.803Z"
   },
   {
    "duration": 209,
    "start_time": "2023-08-04T02:24:12.825Z"
   },
   {
    "duration": 279,
    "start_time": "2023-08-04T02:24:13.036Z"
   },
   {
    "duration": 1086,
    "start_time": "2023-08-04T02:24:13.317Z"
   },
   {
    "duration": 365,
    "start_time": "2023-08-04T02:24:14.404Z"
   },
   {
    "duration": 1588,
    "start_time": "2023-08-04T02:24:14.770Z"
   },
   {
    "duration": 9,
    "start_time": "2023-08-04T02:24:16.359Z"
   },
   {
    "duration": 12,
    "start_time": "2023-08-04T02:24:16.369Z"
   },
   {
    "duration": 24,
    "start_time": "2023-08-04T02:24:16.382Z"
   },
   {
    "duration": 113,
    "start_time": "2023-08-04T02:24:16.407Z"
   },
   {
    "duration": 11,
    "start_time": "2023-08-04T02:24:16.522Z"
   },
   {
    "duration": 363,
    "start_time": "2023-08-04T02:24:16.534Z"
   },
   {
    "duration": 208,
    "start_time": "2023-08-04T02:24:16.898Z"
   },
   {
    "duration": 38,
    "start_time": "2023-08-04T02:24:17.108Z"
   },
   {
    "duration": 167,
    "start_time": "2023-08-04T02:24:17.148Z"
   },
   {
    "duration": 16,
    "start_time": "2023-08-04T02:24:17.316Z"
   },
   {
    "duration": 12,
    "start_time": "2023-08-04T02:24:17.334Z"
   },
   {
    "duration": 6,
    "start_time": "2023-08-04T02:24:17.347Z"
   },
   {
    "duration": 15,
    "start_time": "2023-08-04T02:24:45.895Z"
   },
   {
    "duration": 11,
    "start_time": "2023-08-04T02:24:55.720Z"
   },
   {
    "duration": 14,
    "start_time": "2023-08-04T02:34:39.091Z"
   },
   {
    "duration": 3,
    "start_time": "2023-08-04T02:34:45.001Z"
   },
   {
    "duration": 553,
    "start_time": "2023-08-04T02:34:45.006Z"
   },
   {
    "duration": 33,
    "start_time": "2023-08-04T02:34:45.561Z"
   },
   {
    "duration": 21,
    "start_time": "2023-08-04T02:34:45.595Z"
   },
   {
    "duration": 13,
    "start_time": "2023-08-04T02:34:45.619Z"
   },
   {
    "duration": 3,
    "start_time": "2023-08-04T02:34:45.634Z"
   },
   {
    "duration": 32,
    "start_time": "2023-08-04T02:34:45.639Z"
   },
   {
    "duration": 59,
    "start_time": "2023-08-04T02:34:45.672Z"
   },
   {
    "duration": 35,
    "start_time": "2023-08-04T02:34:45.733Z"
   },
   {
    "duration": 74,
    "start_time": "2023-08-04T02:34:45.770Z"
   },
   {
    "duration": 121,
    "start_time": "2023-08-04T02:34:45.845Z"
   },
   {
    "duration": 8,
    "start_time": "2023-08-04T02:34:45.967Z"
   },
   {
    "duration": 44,
    "start_time": "2023-08-04T02:34:45.976Z"
   },
   {
    "duration": 28,
    "start_time": "2023-08-04T02:34:46.023Z"
   },
   {
    "duration": 29,
    "start_time": "2023-08-04T02:34:46.052Z"
   },
   {
    "duration": 5,
    "start_time": "2023-08-04T02:34:46.082Z"
   },
   {
    "duration": 13,
    "start_time": "2023-08-04T02:34:46.089Z"
   },
   {
    "duration": 29,
    "start_time": "2023-08-04T02:34:46.103Z"
   },
   {
    "duration": 43,
    "start_time": "2023-08-04T02:34:46.134Z"
   },
   {
    "duration": 14,
    "start_time": "2023-08-04T02:34:46.178Z"
   },
   {
    "duration": 12,
    "start_time": "2023-08-04T02:34:46.193Z"
   },
   {
    "duration": 47,
    "start_time": "2023-08-04T02:34:46.206Z"
   },
   {
    "duration": 12,
    "start_time": "2023-08-04T02:34:46.254Z"
   },
   {
    "duration": 23,
    "start_time": "2023-08-04T02:34:46.268Z"
   },
   {
    "duration": 17,
    "start_time": "2023-08-04T02:34:46.293Z"
   },
   {
    "duration": 32,
    "start_time": "2023-08-04T02:34:46.312Z"
   },
   {
    "duration": 8,
    "start_time": "2023-08-04T02:34:46.346Z"
   },
   {
    "duration": 248,
    "start_time": "2023-08-04T02:34:46.356Z"
   },
   {
    "duration": 353,
    "start_time": "2023-08-04T02:34:46.606Z"
   },
   {
    "duration": 88,
    "start_time": "2023-08-04T02:34:46.960Z"
   },
   {
    "duration": 6,
    "start_time": "2023-08-04T02:34:47.050Z"
   },
   {
    "duration": 21,
    "start_time": "2023-08-04T02:34:47.057Z"
   },
   {
    "duration": 373,
    "start_time": "2023-08-04T02:34:47.079Z"
   },
   {
    "duration": 153,
    "start_time": "2023-08-04T02:34:47.454Z"
   },
   {
    "duration": 27,
    "start_time": "2023-08-04T02:34:47.609Z"
   },
   {
    "duration": 21,
    "start_time": "2023-08-04T02:34:47.638Z"
   },
   {
    "duration": 9,
    "start_time": "2023-08-04T02:34:47.660Z"
   },
   {
    "duration": 260,
    "start_time": "2023-08-04T02:34:47.670Z"
   },
   {
    "duration": 189,
    "start_time": "2023-08-04T02:34:47.931Z"
   },
   {
    "duration": 76,
    "start_time": "2023-08-04T02:34:48.121Z"
   },
   {
    "duration": 10,
    "start_time": "2023-08-04T02:34:48.201Z"
   },
   {
    "duration": 208,
    "start_time": "2023-08-04T02:34:48.212Z"
   },
   {
    "duration": 161,
    "start_time": "2023-08-04T02:34:48.421Z"
   },
   {
    "duration": 0,
    "start_time": "2023-08-04T02:34:48.584Z"
   },
   {
    "duration": 0,
    "start_time": "2023-08-04T02:34:48.585Z"
   },
   {
    "duration": 0,
    "start_time": "2023-08-04T02:34:48.586Z"
   },
   {
    "duration": 0,
    "start_time": "2023-08-04T02:34:48.587Z"
   },
   {
    "duration": 0,
    "start_time": "2023-08-04T02:34:48.588Z"
   },
   {
    "duration": 0,
    "start_time": "2023-08-04T02:34:48.589Z"
   },
   {
    "duration": 0,
    "start_time": "2023-08-04T02:34:48.589Z"
   },
   {
    "duration": 0,
    "start_time": "2023-08-04T02:34:48.590Z"
   },
   {
    "duration": 0,
    "start_time": "2023-08-04T02:34:48.591Z"
   },
   {
    "duration": 0,
    "start_time": "2023-08-04T02:34:48.592Z"
   },
   {
    "duration": 0,
    "start_time": "2023-08-04T02:34:48.593Z"
   },
   {
    "duration": 0,
    "start_time": "2023-08-04T02:34:48.593Z"
   },
   {
    "duration": 0,
    "start_time": "2023-08-04T02:34:48.594Z"
   },
   {
    "duration": 0,
    "start_time": "2023-08-04T02:34:48.595Z"
   },
   {
    "duration": 0,
    "start_time": "2023-08-04T02:34:48.595Z"
   },
   {
    "duration": 0,
    "start_time": "2023-08-04T02:34:48.596Z"
   },
   {
    "duration": 3,
    "start_time": "2023-08-04T02:47:01.087Z"
   },
   {
    "duration": 736,
    "start_time": "2023-08-04T02:47:01.092Z"
   },
   {
    "duration": 31,
    "start_time": "2023-08-04T02:47:01.830Z"
   },
   {
    "duration": 24,
    "start_time": "2023-08-04T02:47:01.863Z"
   },
   {
    "duration": 23,
    "start_time": "2023-08-04T02:47:01.890Z"
   },
   {
    "duration": 14,
    "start_time": "2023-08-04T02:47:01.921Z"
   },
   {
    "duration": 58,
    "start_time": "2023-08-04T02:47:01.937Z"
   },
   {
    "duration": 48,
    "start_time": "2023-08-04T02:47:01.997Z"
   },
   {
    "duration": 30,
    "start_time": "2023-08-04T02:47:02.047Z"
   },
   {
    "duration": 64,
    "start_time": "2023-08-04T02:47:02.078Z"
   },
   {
    "duration": 97,
    "start_time": "2023-08-04T02:47:02.143Z"
   },
   {
    "duration": 7,
    "start_time": "2023-08-04T02:47:02.241Z"
   },
   {
    "duration": 58,
    "start_time": "2023-08-04T02:47:02.250Z"
   },
   {
    "duration": 26,
    "start_time": "2023-08-04T02:47:02.310Z"
   },
   {
    "duration": 29,
    "start_time": "2023-08-04T02:47:02.337Z"
   },
   {
    "duration": 45,
    "start_time": "2023-08-04T02:47:02.367Z"
   },
   {
    "duration": 52,
    "start_time": "2023-08-04T02:47:02.413Z"
   },
   {
    "duration": 80,
    "start_time": "2023-08-04T02:47:02.467Z"
   },
   {
    "duration": 68,
    "start_time": "2023-08-04T02:47:02.549Z"
   },
   {
    "duration": 30,
    "start_time": "2023-08-04T02:47:02.619Z"
   },
   {
    "duration": 36,
    "start_time": "2023-08-04T02:47:02.650Z"
   },
   {
    "duration": 54,
    "start_time": "2023-08-04T02:47:02.688Z"
   },
   {
    "duration": 14,
    "start_time": "2023-08-04T02:47:02.743Z"
   },
   {
    "duration": 17,
    "start_time": "2023-08-04T02:47:02.759Z"
   },
   {
    "duration": 23,
    "start_time": "2023-08-04T02:47:02.777Z"
   },
   {
    "duration": 34,
    "start_time": "2023-08-04T02:47:02.801Z"
   },
   {
    "duration": 9,
    "start_time": "2023-08-04T02:47:02.837Z"
   },
   {
    "duration": 241,
    "start_time": "2023-08-04T02:47:02.847Z"
   },
   {
    "duration": 332,
    "start_time": "2023-08-04T02:47:03.090Z"
   },
   {
    "duration": 75,
    "start_time": "2023-08-04T02:47:03.424Z"
   },
   {
    "duration": 20,
    "start_time": "2023-08-04T02:47:03.500Z"
   },
   {
    "duration": 25,
    "start_time": "2023-08-04T02:47:03.521Z"
   },
   {
    "duration": 187,
    "start_time": "2023-08-04T02:47:03.547Z"
   },
   {
    "duration": 148,
    "start_time": "2023-08-04T02:47:03.736Z"
   },
   {
    "duration": 34,
    "start_time": "2023-08-04T02:47:03.886Z"
   },
   {
    "duration": 25,
    "start_time": "2023-08-04T02:47:03.921Z"
   },
   {
    "duration": 55,
    "start_time": "2023-08-04T02:47:03.947Z"
   },
   {
    "duration": 239,
    "start_time": "2023-08-04T02:47:04.004Z"
   },
   {
    "duration": 156,
    "start_time": "2023-08-04T02:47:04.244Z"
   },
   {
    "duration": 60,
    "start_time": "2023-08-04T02:47:04.402Z"
   },
   {
    "duration": 10,
    "start_time": "2023-08-04T02:47:04.465Z"
   },
   {
    "duration": 213,
    "start_time": "2023-08-04T02:47:04.476Z"
   },
   {
    "duration": 151,
    "start_time": "2023-08-04T02:47:04.690Z"
   },
   {
    "duration": 0,
    "start_time": "2023-08-04T02:47:04.843Z"
   },
   {
    "duration": 0,
    "start_time": "2023-08-04T02:47:04.844Z"
   },
   {
    "duration": 0,
    "start_time": "2023-08-04T02:47:04.845Z"
   },
   {
    "duration": 0,
    "start_time": "2023-08-04T02:47:04.845Z"
   },
   {
    "duration": 0,
    "start_time": "2023-08-04T02:47:04.846Z"
   },
   {
    "duration": 0,
    "start_time": "2023-08-04T02:47:04.848Z"
   },
   {
    "duration": 0,
    "start_time": "2023-08-04T02:47:04.849Z"
   },
   {
    "duration": 0,
    "start_time": "2023-08-04T02:47:04.850Z"
   },
   {
    "duration": 0,
    "start_time": "2023-08-04T02:47:04.852Z"
   },
   {
    "duration": 0,
    "start_time": "2023-08-04T02:47:04.853Z"
   },
   {
    "duration": 0,
    "start_time": "2023-08-04T02:47:04.854Z"
   },
   {
    "duration": 0,
    "start_time": "2023-08-04T02:47:04.855Z"
   },
   {
    "duration": 0,
    "start_time": "2023-08-04T02:47:04.856Z"
   },
   {
    "duration": 0,
    "start_time": "2023-08-04T02:47:04.857Z"
   },
   {
    "duration": 0,
    "start_time": "2023-08-04T02:47:04.858Z"
   },
   {
    "duration": 0,
    "start_time": "2023-08-04T02:47:04.859Z"
   },
   {
    "duration": 136,
    "start_time": "2023-08-04T02:47:19.204Z"
   },
   {
    "duration": 7,
    "start_time": "2023-08-04T02:47:59.172Z"
   },
   {
    "duration": 13,
    "start_time": "2023-08-04T02:48:10.852Z"
   },
   {
    "duration": 34,
    "start_time": "2023-08-04T02:48:46.172Z"
   },
   {
    "duration": 13,
    "start_time": "2023-08-04T02:48:50.995Z"
   },
   {
    "duration": 184,
    "start_time": "2023-08-04T02:49:09.149Z"
   },
   {
    "duration": 52,
    "start_time": "2023-08-04T02:49:21.481Z"
   },
   {
    "duration": 258,
    "start_time": "2023-08-04T02:50:22.972Z"
   },
   {
    "duration": 2,
    "start_time": "2023-08-04T02:50:28.611Z"
   },
   {
    "duration": 476,
    "start_time": "2023-08-04T02:50:28.615Z"
   },
   {
    "duration": 31,
    "start_time": "2023-08-04T02:50:29.092Z"
   },
   {
    "duration": 19,
    "start_time": "2023-08-04T02:50:29.125Z"
   },
   {
    "duration": 12,
    "start_time": "2023-08-04T02:50:29.146Z"
   },
   {
    "duration": 3,
    "start_time": "2023-08-04T02:50:29.160Z"
   },
   {
    "duration": 34,
    "start_time": "2023-08-04T02:50:29.165Z"
   },
   {
    "duration": 36,
    "start_time": "2023-08-04T02:50:29.220Z"
   },
   {
    "duration": 35,
    "start_time": "2023-08-04T02:50:29.258Z"
   },
   {
    "duration": 68,
    "start_time": "2023-08-04T02:50:29.295Z"
   },
   {
    "duration": 123,
    "start_time": "2023-08-04T02:50:29.364Z"
   },
   {
    "duration": 8,
    "start_time": "2023-08-04T02:50:29.489Z"
   },
   {
    "duration": 45,
    "start_time": "2023-08-04T02:50:29.498Z"
   },
   {
    "duration": 26,
    "start_time": "2023-08-04T02:50:29.544Z"
   },
   {
    "duration": 17,
    "start_time": "2023-08-04T02:50:29.571Z"
   },
   {
    "duration": 7,
    "start_time": "2023-08-04T02:50:29.590Z"
   },
   {
    "duration": 26,
    "start_time": "2023-08-04T02:50:29.599Z"
   },
   {
    "duration": 11,
    "start_time": "2023-08-04T02:50:29.626Z"
   },
   {
    "duration": 35,
    "start_time": "2023-08-04T02:50:29.638Z"
   },
   {
    "duration": 12,
    "start_time": "2023-08-04T02:50:29.674Z"
   },
   {
    "duration": 8,
    "start_time": "2023-08-04T02:50:29.688Z"
   },
   {
    "duration": 32,
    "start_time": "2023-08-04T02:50:29.719Z"
   },
   {
    "duration": 13,
    "start_time": "2023-08-04T02:50:29.752Z"
   },
   {
    "duration": 6,
    "start_time": "2023-08-04T02:50:29.766Z"
   },
   {
    "duration": 23,
    "start_time": "2023-08-04T02:50:29.773Z"
   },
   {
    "duration": 40,
    "start_time": "2023-08-04T02:50:29.797Z"
   },
   {
    "duration": 7,
    "start_time": "2023-08-04T02:50:29.839Z"
   },
   {
    "duration": 250,
    "start_time": "2023-08-04T02:50:29.849Z"
   },
   {
    "duration": 339,
    "start_time": "2023-08-04T02:50:30.101Z"
   },
   {
    "duration": 74,
    "start_time": "2023-08-04T02:50:32.367Z"
   },
   {
    "duration": 33,
    "start_time": "2023-08-04T02:50:35.949Z"
   },
   {
    "duration": 40,
    "start_time": "2023-08-04T02:51:10.830Z"
   },
   {
    "duration": 25,
    "start_time": "2023-08-04T02:53:09.490Z"
   },
   {
    "duration": 3,
    "start_time": "2023-08-04T02:53:13.950Z"
   },
   {
    "duration": 612,
    "start_time": "2023-08-04T02:53:13.954Z"
   },
   {
    "duration": 30,
    "start_time": "2023-08-04T02:53:14.568Z"
   },
   {
    "duration": 17,
    "start_time": "2023-08-04T02:53:14.599Z"
   },
   {
    "duration": 11,
    "start_time": "2023-08-04T02:53:14.618Z"
   },
   {
    "duration": 3,
    "start_time": "2023-08-04T02:53:14.631Z"
   },
   {
    "duration": 43,
    "start_time": "2023-08-04T02:53:14.635Z"
   },
   {
    "duration": 48,
    "start_time": "2023-08-04T02:53:14.679Z"
   },
   {
    "duration": 33,
    "start_time": "2023-08-04T02:53:17.617Z"
   },
   {
    "duration": 56,
    "start_time": "2023-08-04T02:53:36.537Z"
   },
   {
    "duration": 3,
    "start_time": "2023-08-04T02:53:52.998Z"
   },
   {
    "duration": 497,
    "start_time": "2023-08-04T02:53:53.003Z"
   },
   {
    "duration": 32,
    "start_time": "2023-08-04T02:53:53.502Z"
   },
   {
    "duration": 18,
    "start_time": "2023-08-04T02:53:53.535Z"
   },
   {
    "duration": 12,
    "start_time": "2023-08-04T02:53:53.555Z"
   },
   {
    "duration": 6,
    "start_time": "2023-08-04T02:53:53.568Z"
   },
   {
    "duration": 49,
    "start_time": "2023-08-04T02:53:53.575Z"
   },
   {
    "duration": 42,
    "start_time": "2023-08-04T02:53:56.622Z"
   },
   {
    "duration": 33,
    "start_time": "2023-08-04T02:53:58.951Z"
   },
   {
    "duration": 58,
    "start_time": "2023-08-04T02:54:02.721Z"
   },
   {
    "duration": 3,
    "start_time": "2023-08-04T02:54:57.128Z"
   },
   {
    "duration": 856,
    "start_time": "2023-08-04T02:54:57.132Z"
   },
   {
    "duration": 32,
    "start_time": "2023-08-04T02:54:57.990Z"
   },
   {
    "duration": 17,
    "start_time": "2023-08-04T02:54:58.024Z"
   },
   {
    "duration": 14,
    "start_time": "2023-08-04T02:54:58.042Z"
   },
   {
    "duration": 15,
    "start_time": "2023-08-04T02:54:58.058Z"
   },
   {
    "duration": 46,
    "start_time": "2023-08-04T02:54:58.075Z"
   },
   {
    "duration": 11,
    "start_time": "2023-08-04T02:54:58.123Z"
   },
   {
    "duration": 29,
    "start_time": "2023-08-04T02:55:03.230Z"
   },
   {
    "duration": 51,
    "start_time": "2023-08-04T02:55:07.956Z"
   },
   {
    "duration": 96,
    "start_time": "2023-08-04T02:55:11.143Z"
   },
   {
    "duration": 8,
    "start_time": "2023-08-04T02:55:14.125Z"
   },
   {
    "duration": 33,
    "start_time": "2023-08-04T02:55:19.972Z"
   },
   {
    "duration": 30,
    "start_time": "2023-08-04T02:55:31.412Z"
   },
   {
    "duration": 10,
    "start_time": "2023-08-04T02:56:24.688Z"
   },
   {
    "duration": 3,
    "start_time": "2023-08-04T02:56:29.013Z"
   },
   {
    "duration": 453,
    "start_time": "2023-08-04T02:56:29.017Z"
   },
   {
    "duration": 32,
    "start_time": "2023-08-04T02:56:29.471Z"
   },
   {
    "duration": 19,
    "start_time": "2023-08-04T02:56:29.504Z"
   },
   {
    "duration": 12,
    "start_time": "2023-08-04T02:56:29.525Z"
   },
   {
    "duration": 3,
    "start_time": "2023-08-04T02:56:29.539Z"
   },
   {
    "duration": 36,
    "start_time": "2023-08-04T02:56:29.543Z"
   },
   {
    "duration": 11,
    "start_time": "2023-08-04T02:56:29.582Z"
   },
   {
    "duration": 52,
    "start_time": "2023-08-04T02:56:29.595Z"
   },
   {
    "duration": 51,
    "start_time": "2023-08-04T02:56:29.649Z"
   },
   {
    "duration": 104,
    "start_time": "2023-08-04T02:56:29.701Z"
   },
   {
    "duration": 15,
    "start_time": "2023-08-04T02:56:29.806Z"
   },
   {
    "duration": 30,
    "start_time": "2023-08-04T02:56:29.823Z"
   },
   {
    "duration": 30,
    "start_time": "2023-08-04T02:56:33.787Z"
   },
   {
    "duration": 27,
    "start_time": "2023-08-04T02:56:37.318Z"
   },
   {
    "duration": 34,
    "start_time": "2023-08-04T02:56:44.414Z"
   },
   {
    "duration": 7,
    "start_time": "2023-08-04T02:56:51.747Z"
   },
   {
    "duration": 3,
    "start_time": "2023-08-04T03:53:27.592Z"
   },
   {
    "duration": 660,
    "start_time": "2023-08-04T03:53:29.026Z"
   },
   {
    "duration": 32,
    "start_time": "2023-08-04T03:53:30.812Z"
   },
   {
    "duration": 13,
    "start_time": "2023-08-04T03:54:35.090Z"
   },
   {
    "duration": 3,
    "start_time": "2023-08-04T03:54:38.468Z"
   },
   {
    "duration": 31,
    "start_time": "2023-08-04T03:55:04.977Z"
   },
   {
    "duration": 7,
    "start_time": "2023-08-04T03:55:08.912Z"
   },
   {
    "duration": 30,
    "start_time": "2023-08-04T03:55:10.487Z"
   },
   {
    "duration": 56,
    "start_time": "2023-08-04T03:55:21.433Z"
   },
   {
    "duration": 97,
    "start_time": "2023-08-04T03:55:23.855Z"
   },
   {
    "duration": 8,
    "start_time": "2023-08-04T03:55:25.701Z"
   },
   {
    "duration": 28,
    "start_time": "2023-08-04T03:55:51.698Z"
   },
   {
    "duration": 29,
    "start_time": "2023-08-04T03:55:53.842Z"
   },
   {
    "duration": 28,
    "start_time": "2023-08-04T03:55:58.017Z"
   },
   {
    "duration": 25,
    "start_time": "2023-08-04T04:00:38.231Z"
   },
   {
    "duration": 9,
    "start_time": "2023-08-04T04:01:07.586Z"
   },
   {
    "duration": 9,
    "start_time": "2023-08-04T04:01:43.214Z"
   },
   {
    "duration": 39,
    "start_time": "2023-08-04T04:02:28.347Z"
   },
   {
    "duration": 12,
    "start_time": "2023-08-04T04:02:49.035Z"
   },
   {
    "duration": 6,
    "start_time": "2023-08-04T04:03:02.054Z"
   },
   {
    "duration": 8,
    "start_time": "2023-08-04T04:03:04.950Z"
   },
   {
    "duration": 28,
    "start_time": "2023-08-04T04:03:08.747Z"
   },
   {
    "duration": 8,
    "start_time": "2023-08-04T04:03:09.849Z"
   },
   {
    "duration": 248,
    "start_time": "2023-08-04T04:03:18.621Z"
   },
   {
    "duration": 353,
    "start_time": "2023-08-04T04:03:30.412Z"
   },
   {
    "duration": 48,
    "start_time": "2023-08-04T04:06:40.358Z"
   },
   {
    "duration": 36,
    "start_time": "2023-08-04T04:06:54.156Z"
   },
   {
    "duration": 7,
    "start_time": "2023-08-04T04:07:56.681Z"
   },
   {
    "duration": 35,
    "start_time": "2023-08-04T04:08:02.508Z"
   },
   {
    "duration": 58,
    "start_time": "2023-08-04T04:09:20.642Z"
   },
   {
    "duration": 36,
    "start_time": "2023-08-04T04:09:31.624Z"
   },
   {
    "duration": 15,
    "start_time": "2023-08-04T04:10:09.503Z"
   },
   {
    "duration": 38,
    "start_time": "2023-08-04T04:10:14.802Z"
   },
   {
    "duration": 37,
    "start_time": "2023-08-04T04:10:40.099Z"
   },
   {
    "duration": 37,
    "start_time": "2023-08-04T04:10:47.817Z"
   },
   {
    "duration": 195,
    "start_time": "2023-08-04T04:12:42.613Z"
   },
   {
    "duration": 66,
    "start_time": "2023-08-04T04:12:43.780Z"
   },
   {
    "duration": 9,
    "start_time": "2023-08-04T04:12:46.901Z"
   },
   {
    "duration": 45,
    "start_time": "2023-08-04T04:12:57.619Z"
   },
   {
    "duration": 47,
    "start_time": "2023-08-04T04:13:17.051Z"
   },
   {
    "duration": 8,
    "start_time": "2023-08-04T04:14:28.994Z"
   },
   {
    "duration": 46,
    "start_time": "2023-08-04T04:14:34.628Z"
   },
   {
    "duration": 171,
    "start_time": "2023-08-04T04:14:54.912Z"
   },
   {
    "duration": 146,
    "start_time": "2023-08-04T04:14:57.698Z"
   },
   {
    "duration": 27,
    "start_time": "2023-08-04T04:15:00.472Z"
   },
   {
    "duration": 233,
    "start_time": "2023-08-04T04:15:15.910Z"
   },
   {
    "duration": 24,
    "start_time": "2023-08-04T04:15:22.629Z"
   },
   {
    "duration": 45,
    "start_time": "2023-08-04T04:15:53.404Z"
   },
   {
    "duration": 7,
    "start_time": "2023-08-04T04:17:32.577Z"
   },
   {
    "duration": 47,
    "start_time": "2023-08-04T04:17:39.208Z"
   },
   {
    "duration": 26,
    "start_time": "2023-08-04T04:17:55.735Z"
   },
   {
    "duration": 50,
    "start_time": "2023-08-04T04:18:06.951Z"
   },
   {
    "duration": 10,
    "start_time": "2023-08-04T04:18:18.451Z"
   },
   {
    "duration": 2230,
    "start_time": "2023-08-04T04:18:33.619Z"
   },
   {
    "duration": 4,
    "start_time": "2023-08-04T04:18:53.177Z"
   },
   {
    "duration": 8,
    "start_time": "2023-08-04T04:19:28.366Z"
   },
   {
    "duration": 48,
    "start_time": "2023-08-04T04:19:30.579Z"
   },
   {
    "duration": 163,
    "start_time": "2023-08-04T04:19:35.914Z"
   },
   {
    "duration": 344,
    "start_time": "2023-08-04T04:19:39.080Z"
   },
   {
    "duration": 21,
    "start_time": "2023-08-04T04:19:46.137Z"
   },
   {
    "duration": 250,
    "start_time": "2023-08-04T04:19:51.450Z"
   },
   {
    "duration": 4,
    "start_time": "2023-08-04T04:20:06.436Z"
   },
   {
    "duration": 270,
    "start_time": "2023-08-04T04:20:10.667Z"
   },
   {
    "duration": 950,
    "start_time": "2023-08-04T04:20:39.439Z"
   },
   {
    "duration": 1611,
    "start_time": "2023-08-04T04:21:04.101Z"
   },
   {
    "duration": 13,
    "start_time": "2023-08-04T04:21:19.559Z"
   },
   {
    "duration": 3,
    "start_time": "2023-08-04T04:21:20.697Z"
   },
   {
    "duration": 4,
    "start_time": "2023-08-04T04:21:21.716Z"
   },
   {
    "duration": 16,
    "start_time": "2023-08-04T04:21:23.665Z"
   },
   {
    "duration": 4,
    "start_time": "2023-08-04T04:22:05.395Z"
   },
   {
    "duration": 15,
    "start_time": "2023-08-04T04:22:20.913Z"
   },
   {
    "duration": 366,
    "start_time": "2023-08-04T04:33:37.285Z"
   },
   {
    "duration": 1346,
    "start_time": "2023-08-04T04:33:41.316Z"
   },
   {
    "duration": 19,
    "start_time": "2023-08-04T04:34:12.182Z"
   },
   {
    "duration": 19,
    "start_time": "2023-08-04T04:35:01.160Z"
   },
   {
    "duration": 3,
    "start_time": "2023-08-04T04:35:03.863Z"
   },
   {
    "duration": 5,
    "start_time": "2023-08-04T04:35:06.881Z"
   },
   {
    "duration": 3,
    "start_time": "2023-08-04T04:55:17.135Z"
   },
   {
    "duration": 3,
    "start_time": "2023-08-04T04:55:38.263Z"
   },
   {
    "duration": 16,
    "start_time": "2023-08-04T04:57:00.158Z"
   },
   {
    "duration": 28,
    "start_time": "2023-08-04T05:16:34.294Z"
   },
   {
    "duration": 26,
    "start_time": "2023-08-04T05:26:08.655Z"
   },
   {
    "duration": 14,
    "start_time": "2023-08-04T05:28:48.696Z"
   },
   {
    "duration": 31,
    "start_time": "2023-08-04T05:29:00.228Z"
   },
   {
    "duration": 3,
    "start_time": "2023-08-04T05:33:02.898Z"
   },
   {
    "duration": 675,
    "start_time": "2023-08-04T05:33:02.902Z"
   },
   {
    "duration": 32,
    "start_time": "2023-08-04T05:33:03.578Z"
   },
   {
    "duration": 19,
    "start_time": "2023-08-04T05:33:03.612Z"
   },
   {
    "duration": 14,
    "start_time": "2023-08-04T05:33:03.632Z"
   },
   {
    "duration": 4,
    "start_time": "2023-08-04T05:33:03.648Z"
   },
   {
    "duration": 41,
    "start_time": "2023-08-04T05:33:03.653Z"
   },
   {
    "duration": 7,
    "start_time": "2023-08-04T05:33:03.695Z"
   },
   {
    "duration": 30,
    "start_time": "2023-08-04T05:33:03.719Z"
   },
   {
    "duration": 50,
    "start_time": "2023-08-04T05:33:03.751Z"
   },
   {
    "duration": 104,
    "start_time": "2023-08-04T05:33:03.820Z"
   },
   {
    "duration": 32,
    "start_time": "2023-08-04T05:33:03.925Z"
   },
   {
    "duration": 33,
    "start_time": "2023-08-04T05:33:03.959Z"
   },
   {
    "duration": 47,
    "start_time": "2023-08-04T05:33:03.994Z"
   },
   {
    "duration": 32,
    "start_time": "2023-08-04T05:33:04.043Z"
   },
   {
    "duration": 10,
    "start_time": "2023-08-04T05:33:04.077Z"
   },
   {
    "duration": 24,
    "start_time": "2023-08-04T05:33:04.088Z"
   },
   {
    "duration": 41,
    "start_time": "2023-08-04T05:33:04.114Z"
   },
   {
    "duration": 15,
    "start_time": "2023-08-04T05:33:04.156Z"
   },
   {
    "duration": 7,
    "start_time": "2023-08-04T05:33:04.173Z"
   },
   {
    "duration": 59,
    "start_time": "2023-08-04T05:33:04.181Z"
   },
   {
    "duration": 12,
    "start_time": "2023-08-04T05:33:04.241Z"
   },
   {
    "duration": 6,
    "start_time": "2023-08-04T05:33:04.255Z"
   },
   {
    "duration": 11,
    "start_time": "2023-08-04T05:33:04.263Z"
   },
   {
    "duration": 54,
    "start_time": "2023-08-04T05:33:04.276Z"
   },
   {
    "duration": 9,
    "start_time": "2023-08-04T05:33:04.331Z"
   },
   {
    "duration": 255,
    "start_time": "2023-08-04T05:33:04.341Z"
   },
   {
    "duration": 545,
    "start_time": "2023-08-04T05:33:04.598Z"
   },
   {
    "duration": 218,
    "start_time": "2023-08-04T05:33:05.146Z"
   },
   {
    "duration": 187,
    "start_time": "2023-08-04T05:33:12.897Z"
   },
   {
    "duration": 71,
    "start_time": "2023-08-04T05:33:13.950Z"
   },
   {
    "duration": 10,
    "start_time": "2023-08-04T05:33:16.478Z"
   },
   {
    "duration": 110,
    "start_time": "2023-08-04T05:34:12.130Z"
   },
   {
    "duration": 54,
    "start_time": "2023-08-04T05:34:18.610Z"
   },
   {
    "duration": 176,
    "start_time": "2023-08-04T05:42:22.946Z"
   },
   {
    "duration": 171,
    "start_time": "2023-08-04T05:42:26.446Z"
   },
   {
    "duration": 28,
    "start_time": "2023-08-04T05:42:40.160Z"
   },
   {
    "duration": 191,
    "start_time": "2023-08-04T05:54:00.965Z"
   },
   {
    "duration": 3,
    "start_time": "2023-08-04T05:54:04.321Z"
   },
   {
    "duration": 638,
    "start_time": "2023-08-04T05:54:04.326Z"
   },
   {
    "duration": 32,
    "start_time": "2023-08-04T05:54:04.965Z"
   },
   {
    "duration": 20,
    "start_time": "2023-08-04T05:54:04.999Z"
   },
   {
    "duration": 15,
    "start_time": "2023-08-04T05:54:05.021Z"
   },
   {
    "duration": 10,
    "start_time": "2023-08-04T05:54:05.037Z"
   },
   {
    "duration": 43,
    "start_time": "2023-08-04T05:54:05.048Z"
   },
   {
    "duration": 7,
    "start_time": "2023-08-04T05:54:05.093Z"
   },
   {
    "duration": 42,
    "start_time": "2023-08-04T05:54:05.102Z"
   },
   {
    "duration": 60,
    "start_time": "2023-08-04T05:54:05.146Z"
   },
   {
    "duration": 94,
    "start_time": "2023-08-04T05:54:05.219Z"
   },
   {
    "duration": 29,
    "start_time": "2023-08-04T05:54:05.320Z"
   },
   {
    "duration": 30,
    "start_time": "2023-08-04T05:54:05.351Z"
   },
   {
    "duration": 62,
    "start_time": "2023-08-04T05:54:05.382Z"
   },
   {
    "duration": 26,
    "start_time": "2023-08-04T05:54:05.445Z"
   },
   {
    "duration": 19,
    "start_time": "2023-08-04T05:54:05.472Z"
   },
   {
    "duration": 39,
    "start_time": "2023-08-04T05:54:05.492Z"
   },
   {
    "duration": 44,
    "start_time": "2023-08-04T05:54:05.533Z"
   },
   {
    "duration": 13,
    "start_time": "2023-08-04T05:54:05.579Z"
   },
   {
    "duration": 16,
    "start_time": "2023-08-04T05:54:05.593Z"
   },
   {
    "duration": 68,
    "start_time": "2023-08-04T05:54:05.610Z"
   },
   {
    "duration": 11,
    "start_time": "2023-08-04T05:54:05.679Z"
   },
   {
    "duration": 23,
    "start_time": "2023-08-04T05:54:05.692Z"
   },
   {
    "duration": 24,
    "start_time": "2023-08-04T05:54:05.717Z"
   },
   {
    "duration": 50,
    "start_time": "2023-08-04T05:54:05.742Z"
   },
   {
    "duration": 35,
    "start_time": "2023-08-04T05:54:05.793Z"
   },
   {
    "duration": 272,
    "start_time": "2023-08-04T05:54:05.829Z"
   },
   {
    "duration": 334,
    "start_time": "2023-08-04T05:54:06.102Z"
   },
   {
    "duration": 180,
    "start_time": "2023-08-04T05:54:06.440Z"
   },
   {
    "duration": 62,
    "start_time": "2023-08-04T05:54:06.621Z"
   },
   {
    "duration": 8,
    "start_time": "2023-08-04T05:54:06.685Z"
   },
   {
    "duration": 138,
    "start_time": "2023-08-04T05:54:06.695Z"
   },
   {
    "duration": 52,
    "start_time": "2023-08-04T05:54:06.834Z"
   },
   {
    "duration": 150,
    "start_time": "2023-08-04T05:54:06.887Z"
   },
   {
    "duration": 7,
    "start_time": "2023-08-04T05:54:07.038Z"
   },
   {
    "duration": 39,
    "start_time": "2023-08-04T05:54:07.046Z"
   },
   {
    "duration": 82,
    "start_time": "2023-08-04T05:54:07.086Z"
   },
   {
    "duration": 186,
    "start_time": "2023-08-04T05:54:07.170Z"
   },
   {
    "duration": 150,
    "start_time": "2023-08-04T05:54:07.358Z"
   },
   {
    "duration": 29,
    "start_time": "2023-08-04T05:54:07.510Z"
   },
   {
    "duration": 43,
    "start_time": "2023-08-04T05:54:07.541Z"
   },
   {
    "duration": 25,
    "start_time": "2023-08-04T05:54:07.586Z"
   },
   {
    "duration": 263,
    "start_time": "2023-08-04T05:54:07.612Z"
   },
   {
    "duration": 252,
    "start_time": "2023-08-04T05:54:07.877Z"
   },
   {
    "duration": 51,
    "start_time": "2023-08-04T05:54:08.130Z"
   },
   {
    "duration": 30,
    "start_time": "2023-08-04T05:54:08.183Z"
   },
   {
    "duration": 275,
    "start_time": "2023-08-04T05:54:08.214Z"
   },
   {
    "duration": 934,
    "start_time": "2023-08-04T05:54:08.491Z"
   },
   {
    "duration": 604,
    "start_time": "2023-08-04T05:54:09.426Z"
   },
   {
    "duration": 1385,
    "start_time": "2023-08-04T05:54:10.032Z"
   },
   {
    "duration": 7,
    "start_time": "2023-08-04T05:54:11.420Z"
   },
   {
    "duration": 6,
    "start_time": "2023-08-04T05:54:11.429Z"
   },
   {
    "duration": 7,
    "start_time": "2023-08-04T05:54:11.436Z"
   },
   {
    "duration": 110,
    "start_time": "2023-08-04T05:54:11.444Z"
   },
   {
    "duration": 11,
    "start_time": "2023-08-04T05:54:11.555Z"
   },
   {
    "duration": 353,
    "start_time": "2023-08-04T05:54:11.567Z"
   },
   {
    "duration": 217,
    "start_time": "2023-08-04T05:54:11.921Z"
   },
   {
    "duration": 14,
    "start_time": "2023-08-04T05:54:12.140Z"
   },
   {
    "duration": 99,
    "start_time": "2023-08-04T05:54:12.156Z"
   },
   {
    "duration": 150,
    "start_time": "2023-08-04T05:54:12.257Z"
   },
   {
    "duration": 24,
    "start_time": "2023-08-04T05:54:12.409Z"
   },
   {
    "duration": 15,
    "start_time": "2023-08-04T05:54:12.435Z"
   },
   {
    "duration": 15,
    "start_time": "2023-08-04T05:54:12.452Z"
   },
   {
    "duration": 6,
    "start_time": "2023-08-04T05:54:12.468Z"
   },
   {
    "duration": 16,
    "start_time": "2023-08-04T05:54:12.475Z"
   },
   {
    "duration": 29,
    "start_time": "2023-08-04T05:54:12.520Z"
   },
   {
    "duration": 10,
    "start_time": "2023-08-04T05:54:54.721Z"
   },
   {
    "duration": 4,
    "start_time": "2023-08-04T06:14:45.498Z"
   },
   {
    "duration": 35,
    "start_time": "2023-08-04T06:14:49.270Z"
   },
   {
    "duration": 14,
    "start_time": "2023-08-04T06:15:57.421Z"
   },
   {
    "duration": 20,
    "start_time": "2023-08-04T06:17:06.516Z"
   },
   {
    "duration": 22,
    "start_time": "2023-08-04T06:17:22.862Z"
   },
   {
    "duration": 20,
    "start_time": "2023-08-04T06:17:31.116Z"
   },
   {
    "duration": 48,
    "start_time": "2023-08-04T06:17:52.665Z"
   },
   {
    "duration": 97,
    "start_time": "2023-08-04T06:24:34.153Z"
   },
   {
    "duration": 85,
    "start_time": "2023-08-04T06:25:35.048Z"
   },
   {
    "duration": 12,
    "start_time": "2023-08-04T06:28:00.054Z"
   },
   {
    "duration": 11,
    "start_time": "2023-08-04T06:29:01.430Z"
   },
   {
    "duration": 9,
    "start_time": "2023-08-04T06:29:03.516Z"
   },
   {
    "duration": 10,
    "start_time": "2023-08-04T06:29:09.969Z"
   },
   {
    "duration": 5,
    "start_time": "2023-08-04T06:29:11.976Z"
   },
   {
    "duration": 13,
    "start_time": "2023-08-04T06:30:06.940Z"
   },
   {
    "duration": 21,
    "start_time": "2023-08-04T06:30:14.013Z"
   },
   {
    "duration": 46,
    "start_time": "2023-08-04T06:30:15.508Z"
   },
   {
    "duration": 20,
    "start_time": "2023-08-04T06:30:24.876Z"
   },
   {
    "duration": 11,
    "start_time": "2023-08-04T06:30:30.907Z"
   },
   {
    "duration": 5,
    "start_time": "2023-08-04T06:30:34.955Z"
   },
   {
    "duration": 22,
    "start_time": "2023-08-04T06:34:39.008Z"
   },
   {
    "duration": 13,
    "start_time": "2023-08-04T06:34:40.940Z"
   },
   {
    "duration": 5,
    "start_time": "2023-08-04T06:34:47.308Z"
   },
   {
    "duration": 8,
    "start_time": "2023-08-04T06:35:53.505Z"
   },
   {
    "duration": 1784,
    "start_time": "2023-08-04T23:02:13.470Z"
   },
   {
    "duration": 933,
    "start_time": "2023-08-04T23:02:15.256Z"
   },
   {
    "duration": 74,
    "start_time": "2023-08-04T23:02:16.191Z"
   },
   {
    "duration": 36,
    "start_time": "2023-08-04T23:02:16.268Z"
   },
   {
    "duration": 30,
    "start_time": "2023-08-04T23:02:16.314Z"
   },
   {
    "duration": 14,
    "start_time": "2023-08-04T23:02:16.346Z"
   },
   {
    "duration": 52,
    "start_time": "2023-08-04T23:02:16.362Z"
   },
   {
    "duration": 24,
    "start_time": "2023-08-04T23:02:16.415Z"
   },
   {
    "duration": 39,
    "start_time": "2023-08-04T23:02:16.441Z"
   },
   {
    "duration": 71,
    "start_time": "2023-08-04T23:02:16.484Z"
   },
   {
    "duration": 120,
    "start_time": "2023-08-04T23:02:16.557Z"
   },
   {
    "duration": 55,
    "start_time": "2023-08-04T23:02:16.679Z"
   },
   {
    "duration": 36,
    "start_time": "2023-08-04T23:02:16.735Z"
   },
   {
    "duration": 100,
    "start_time": "2023-08-04T23:02:16.772Z"
   },
   {
    "duration": 32,
    "start_time": "2023-08-04T23:02:16.874Z"
   },
   {
    "duration": 21,
    "start_time": "2023-08-04T23:02:16.908Z"
   },
   {
    "duration": 13,
    "start_time": "2023-08-04T23:02:16.931Z"
   },
   {
    "duration": 78,
    "start_time": "2023-08-04T23:02:16.946Z"
   },
   {
    "duration": 16,
    "start_time": "2023-08-04T23:02:17.025Z"
   },
   {
    "duration": 19,
    "start_time": "2023-08-04T23:02:17.043Z"
   },
   {
    "duration": 71,
    "start_time": "2023-08-04T23:02:17.064Z"
   },
   {
    "duration": 16,
    "start_time": "2023-08-04T23:02:17.137Z"
   },
   {
    "duration": 24,
    "start_time": "2023-08-04T23:02:17.155Z"
   },
   {
    "duration": 44,
    "start_time": "2023-08-04T23:02:17.181Z"
   },
   {
    "duration": 63,
    "start_time": "2023-08-04T23:02:17.229Z"
   },
   {
    "duration": 31,
    "start_time": "2023-08-04T23:02:17.294Z"
   },
   {
    "duration": 475,
    "start_time": "2023-08-04T23:02:17.331Z"
   },
   {
    "duration": 475,
    "start_time": "2023-08-04T23:02:17.811Z"
   },
   {
    "duration": 256,
    "start_time": "2023-08-04T23:02:18.289Z"
   },
   {
    "duration": 103,
    "start_time": "2023-08-04T23:02:18.547Z"
   },
   {
    "duration": 11,
    "start_time": "2023-08-04T23:02:18.652Z"
   },
   {
    "duration": 162,
    "start_time": "2023-08-04T23:02:18.664Z"
   },
   {
    "duration": 104,
    "start_time": "2023-08-04T23:02:18.829Z"
   },
   {
    "duration": 197,
    "start_time": "2023-08-04T23:02:18.935Z"
   },
   {
    "duration": 9,
    "start_time": "2023-08-04T23:02:19.134Z"
   },
   {
    "duration": 25,
    "start_time": "2023-08-04T23:02:19.145Z"
   },
   {
    "duration": 83,
    "start_time": "2023-08-04T23:02:19.172Z"
   },
   {
    "duration": 226,
    "start_time": "2023-08-04T23:02:19.257Z"
   },
   {
    "duration": 198,
    "start_time": "2023-08-04T23:02:19.485Z"
   },
   {
    "duration": 52,
    "start_time": "2023-08-04T23:02:19.686Z"
   },
   {
    "duration": 33,
    "start_time": "2023-08-04T23:02:19.741Z"
   },
   {
    "duration": 50,
    "start_time": "2023-08-04T23:02:19.777Z"
   },
   {
    "duration": 442,
    "start_time": "2023-08-04T23:02:19.828Z"
   },
   {
    "duration": 293,
    "start_time": "2023-08-04T23:02:20.272Z"
   },
   {
    "duration": 72,
    "start_time": "2023-08-04T23:02:20.567Z"
   },
   {
    "duration": 337,
    "start_time": "2023-08-04T23:02:20.641Z"
   },
   {
    "duration": 33,
    "start_time": "2023-08-04T23:02:20.979Z"
   },
   {
    "duration": 41,
    "start_time": "2023-08-04T23:02:51.872Z"
   },
   {
    "duration": 45,
    "start_time": "2023-08-04T23:03:08.699Z"
   },
   {
    "duration": 16,
    "start_time": "2023-08-04T23:05:30.024Z"
   },
   {
    "duration": 19,
    "start_time": "2023-08-04T23:05:43.775Z"
   },
   {
    "duration": 62,
    "start_time": "2023-08-04T23:57:40.767Z"
   },
   {
    "duration": 1305,
    "start_time": "2023-08-04T23:57:46.918Z"
   },
   {
    "duration": 794,
    "start_time": "2023-08-04T23:57:49.818Z"
   },
   {
    "duration": 63,
    "start_time": "2023-08-04T23:57:51.688Z"
   },
   {
    "duration": 1761,
    "start_time": "2023-08-05T00:49:58.108Z"
   },
   {
    "duration": 50,
    "start_time": "2023-08-05T00:50:02.418Z"
   },
   {
    "duration": 1227,
    "start_time": "2023-08-05T00:50:10.512Z"
   },
   {
    "duration": 41,
    "start_time": "2023-08-05T00:50:12.247Z"
   },
   {
    "duration": 59,
    "start_time": "2023-08-05T00:50:53.019Z"
   },
   {
    "duration": 1615,
    "start_time": "2023-08-05T00:50:59.626Z"
   },
   {
    "duration": 40,
    "start_time": "2023-08-05T00:51:03.011Z"
   },
   {
    "duration": 686,
    "start_time": "2023-08-05T00:51:56.562Z"
   },
   {
    "duration": 41,
    "start_time": "2023-08-05T00:51:59.171Z"
   },
   {
    "duration": 23,
    "start_time": "2023-08-05T00:52:04.829Z"
   },
   {
    "duration": 17,
    "start_time": "2023-08-05T00:52:12.313Z"
   },
   {
    "duration": 6,
    "start_time": "2023-08-05T00:54:29.642Z"
   },
   {
    "duration": 3,
    "start_time": "2023-08-05T00:54:47.049Z"
   },
   {
    "duration": 38,
    "start_time": "2023-08-05T00:54:49.538Z"
   },
   {
    "duration": 3,
    "start_time": "2023-08-05T00:55:53.576Z"
   },
   {
    "duration": 583,
    "start_time": "2023-08-05T00:55:53.581Z"
   },
   {
    "duration": 48,
    "start_time": "2023-08-05T00:55:54.166Z"
   },
   {
    "duration": 25,
    "start_time": "2023-08-05T00:55:54.216Z"
   },
   {
    "duration": 21,
    "start_time": "2023-08-05T00:55:54.243Z"
   },
   {
    "duration": 38,
    "start_time": "2023-08-05T00:55:54.267Z"
   },
   {
    "duration": 19,
    "start_time": "2023-08-05T00:55:54.309Z"
   },
   {
    "duration": 4,
    "start_time": "2023-08-05T00:56:24.719Z"
   },
   {
    "duration": 6,
    "start_time": "2023-08-05T00:56:36.351Z"
   },
   {
    "duration": 4,
    "start_time": "2023-08-05T00:56:50.361Z"
   },
   {
    "duration": 58,
    "start_time": "2023-08-05T00:56:50.367Z"
   },
   {
    "duration": 12,
    "start_time": "2023-08-05T00:57:13.474Z"
   },
   {
    "duration": 41,
    "start_time": "2023-08-05T00:57:17.070Z"
   },
   {
    "duration": 2,
    "start_time": "2023-08-05T00:57:43.711Z"
   },
   {
    "duration": 526,
    "start_time": "2023-08-05T00:57:43.715Z"
   },
   {
    "duration": 39,
    "start_time": "2023-08-05T00:57:44.243Z"
   },
   {
    "duration": 34,
    "start_time": "2023-08-05T00:57:44.284Z"
   },
   {
    "duration": 23,
    "start_time": "2023-08-05T00:57:44.320Z"
   },
   {
    "duration": 5,
    "start_time": "2023-08-05T00:57:44.345Z"
   },
   {
    "duration": 13,
    "start_time": "2023-08-05T00:57:44.351Z"
   },
   {
    "duration": 4,
    "start_time": "2023-08-05T00:57:44.367Z"
   },
   {
    "duration": 70,
    "start_time": "2023-08-05T00:57:50.367Z"
   },
   {
    "duration": 121,
    "start_time": "2023-08-05T00:57:52.821Z"
   },
   {
    "duration": 46,
    "start_time": "2023-08-05T00:57:55.593Z"
   },
   {
    "duration": 37,
    "start_time": "2023-08-05T00:57:57.753Z"
   },
   {
    "duration": 86,
    "start_time": "2023-08-05T00:58:12.774Z"
   },
   {
    "duration": 3,
    "start_time": "2023-08-05T01:02:45.726Z"
   },
   {
    "duration": 157,
    "start_time": "2023-08-05T01:03:14.130Z"
   },
   {
    "duration": 144,
    "start_time": "2023-08-05T01:03:29.231Z"
   },
   {
    "duration": 190,
    "start_time": "2023-08-05T01:03:48.341Z"
   },
   {
    "duration": 2,
    "start_time": "2023-08-05T01:04:05.019Z"
   },
   {
    "duration": 2,
    "start_time": "2023-08-05T01:04:24.608Z"
   },
   {
    "duration": 177,
    "start_time": "2023-08-05T01:04:28.455Z"
   },
   {
    "duration": 196,
    "start_time": "2023-08-05T01:04:44.744Z"
   },
   {
    "duration": 3,
    "start_time": "2023-08-05T01:04:58.245Z"
   },
   {
    "duration": 2,
    "start_time": "2023-08-05T01:05:20.761Z"
   },
   {
    "duration": 52,
    "start_time": "2023-08-05T01:05:23.629Z"
   },
   {
    "duration": 3,
    "start_time": "2023-08-05T01:06:00.453Z"
   },
   {
    "duration": 212,
    "start_time": "2023-08-05T01:06:03.345Z"
   },
   {
    "duration": 200,
    "start_time": "2023-08-05T01:06:21.266Z"
   },
   {
    "duration": 4,
    "start_time": "2023-08-05T01:52:42.422Z"
   },
   {
    "duration": 919,
    "start_time": "2023-08-05T01:52:42.428Z"
   },
   {
    "duration": 3,
    "start_time": "2023-08-05T01:52:43.348Z"
   },
   {
    "duration": 3,
    "start_time": "2023-08-05T01:52:56.171Z"
   },
   {
    "duration": 616,
    "start_time": "2023-08-05T01:52:59.288Z"
   },
   {
    "duration": 3,
    "start_time": "2023-08-05T01:53:00.963Z"
   },
   {
    "duration": 216,
    "start_time": "2023-08-05T01:53:05.329Z"
   },
   {
    "duration": 3,
    "start_time": "2023-08-05T01:53:44.549Z"
   },
   {
    "duration": 69,
    "start_time": "2023-08-05T01:53:48.022Z"
   },
   {
    "duration": 1426,
    "start_time": "2023-08-05T02:07:30.256Z"
   },
   {
    "duration": 13,
    "start_time": "2023-08-05T02:07:47.793Z"
   },
   {
    "duration": 976,
    "start_time": "2023-08-05T02:07:47.808Z"
   },
   {
    "duration": 3,
    "start_time": "2023-08-05T02:07:48.786Z"
   },
   {
    "duration": 126,
    "start_time": "2023-08-05T02:07:48.791Z"
   },
   {
    "duration": 12,
    "start_time": "2023-08-05T02:07:48.919Z"
   },
   {
    "duration": 23,
    "start_time": "2023-08-05T02:07:48.933Z"
   },
   {
    "duration": 4,
    "start_time": "2023-08-05T02:07:48.958Z"
   },
   {
    "duration": 82,
    "start_time": "2023-08-05T02:07:48.964Z"
   },
   {
    "duration": 135,
    "start_time": "2023-08-05T02:07:49.050Z"
   },
   {
    "duration": 54,
    "start_time": "2023-08-05T02:07:49.186Z"
   },
   {
    "duration": 42,
    "start_time": "2023-08-05T02:07:49.242Z"
   },
   {
    "duration": 61,
    "start_time": "2023-08-05T02:07:49.286Z"
   },
   {
    "duration": 29,
    "start_time": "2023-08-05T02:07:49.349Z"
   },
   {
    "duration": 23,
    "start_time": "2023-08-05T02:07:49.401Z"
   },
   {
    "duration": 24,
    "start_time": "2023-08-05T02:07:49.428Z"
   },
   {
    "duration": 61,
    "start_time": "2023-08-05T02:07:49.453Z"
   },
   {
    "duration": 17,
    "start_time": "2023-08-05T02:07:49.517Z"
   },
   {
    "duration": 13,
    "start_time": "2023-08-05T02:07:49.535Z"
   },
   {
    "duration": 55,
    "start_time": "2023-08-05T02:07:57.472Z"
   },
   {
    "duration": 206,
    "start_time": "2023-08-05T02:18:24.122Z"
   },
   {
    "duration": 37,
    "start_time": "2023-08-05T02:18:38.352Z"
   },
   {
    "duration": 12,
    "start_time": "2023-08-05T02:18:39.416Z"
   },
   {
    "duration": 331,
    "start_time": "2023-08-05T02:18:41.126Z"
   },
   {
    "duration": 344,
    "start_time": "2023-08-05T02:19:04.495Z"
   },
   {
    "duration": 296,
    "start_time": "2023-08-05T02:19:24.271Z"
   },
   {
    "duration": 4,
    "start_time": "2023-08-05T02:19:40.786Z"
   },
   {
    "duration": 777,
    "start_time": "2023-08-05T02:19:40.792Z"
   },
   {
    "duration": 4,
    "start_time": "2023-08-05T02:19:41.571Z"
   },
   {
    "duration": 93,
    "start_time": "2023-08-05T02:19:41.576Z"
   },
   {
    "duration": 3,
    "start_time": "2023-08-05T02:19:41.672Z"
   },
   {
    "duration": 28,
    "start_time": "2023-08-05T02:19:41.677Z"
   },
   {
    "duration": 22,
    "start_time": "2023-08-05T02:19:41.715Z"
   },
   {
    "duration": 68,
    "start_time": "2023-08-05T02:19:41.739Z"
   },
   {
    "duration": 138,
    "start_time": "2023-08-05T02:19:41.809Z"
   },
   {
    "duration": 52,
    "start_time": "2023-08-05T02:19:41.949Z"
   },
   {
    "duration": 54,
    "start_time": "2023-08-05T02:19:42.006Z"
   },
   {
    "duration": 56,
    "start_time": "2023-08-05T02:19:42.061Z"
   },
   {
    "duration": 32,
    "start_time": "2023-08-05T02:19:42.119Z"
   },
   {
    "duration": 12,
    "start_time": "2023-08-05T02:19:42.152Z"
   },
   {
    "duration": 13,
    "start_time": "2023-08-05T02:19:42.166Z"
   },
   {
    "duration": 60,
    "start_time": "2023-08-05T02:19:42.181Z"
   },
   {
    "duration": 15,
    "start_time": "2023-08-05T02:19:42.242Z"
   },
   {
    "duration": 10,
    "start_time": "2023-08-05T02:19:42.258Z"
   },
   {
    "duration": 40,
    "start_time": "2023-08-05T02:19:46.126Z"
   },
   {
    "duration": 14,
    "start_time": "2023-08-05T02:19:49.075Z"
   },
   {
    "duration": 8,
    "start_time": "2023-08-05T02:19:56.452Z"
   },
   {
    "duration": 10,
    "start_time": "2023-08-05T02:19:57.551Z"
   },
   {
    "duration": 34,
    "start_time": "2023-08-05T02:20:04.540Z"
   },
   {
    "duration": 10,
    "start_time": "2023-08-05T02:20:05.223Z"
   },
   {
    "duration": 296,
    "start_time": "2023-08-05T02:20:09.387Z"
   },
   {
    "duration": 488,
    "start_time": "2023-08-05T02:22:52.728Z"
   },
   {
    "duration": 455,
    "start_time": "2023-08-05T02:23:42.377Z"
   },
   {
    "duration": 455,
    "start_time": "2023-08-05T02:23:46.726Z"
   },
   {
    "duration": 388,
    "start_time": "2023-08-05T02:24:00.540Z"
   },
   {
    "duration": 302,
    "start_time": "2023-08-05T02:24:58.767Z"
   },
   {
    "duration": 17,
    "start_time": "2023-08-05T02:42:13.020Z"
   },
   {
    "duration": 239,
    "start_time": "2023-08-05T02:42:17.119Z"
   },
   {
    "duration": 92,
    "start_time": "2023-08-05T02:42:18.182Z"
   },
   {
    "duration": 65,
    "start_time": "2023-08-05T02:42:28.667Z"
   },
   {
    "duration": 168,
    "start_time": "2023-08-05T02:42:44.527Z"
   },
   {
    "duration": 83,
    "start_time": "2023-08-05T02:42:45.680Z"
   },
   {
    "duration": 1795,
    "start_time": "2023-08-05T18:54:38.049Z"
   },
   {
    "duration": 977,
    "start_time": "2023-08-05T18:54:39.847Z"
   },
   {
    "duration": 4,
    "start_time": "2023-08-05T18:54:40.828Z"
   },
   {
    "duration": 124,
    "start_time": "2023-08-05T18:54:40.835Z"
   },
   {
    "duration": 6,
    "start_time": "2023-08-05T18:54:40.983Z"
   },
   {
    "duration": 25,
    "start_time": "2023-08-05T18:54:40.991Z"
   },
   {
    "duration": 5,
    "start_time": "2023-08-05T18:54:41.020Z"
   },
   {
    "duration": 109,
    "start_time": "2023-08-05T18:54:41.027Z"
   },
   {
    "duration": 178,
    "start_time": "2023-08-05T18:54:41.139Z"
   },
   {
    "duration": 78,
    "start_time": "2023-08-05T18:54:41.321Z"
   },
   {
    "duration": 63,
    "start_time": "2023-08-05T18:54:41.401Z"
   },
   {
    "duration": 122,
    "start_time": "2023-08-05T18:54:41.467Z"
   },
   {
    "duration": 34,
    "start_time": "2023-08-05T18:54:41.597Z"
   },
   {
    "duration": 17,
    "start_time": "2023-08-05T18:54:41.634Z"
   },
   {
    "duration": 13,
    "start_time": "2023-08-05T18:54:41.653Z"
   },
   {
    "duration": 55,
    "start_time": "2023-08-05T18:54:41.674Z"
   },
   {
    "duration": 20,
    "start_time": "2023-08-05T18:54:41.731Z"
   },
   {
    "duration": 36,
    "start_time": "2023-08-05T18:54:41.753Z"
   },
   {
    "duration": 90,
    "start_time": "2023-08-05T18:54:41.791Z"
   },
   {
    "duration": 23,
    "start_time": "2023-08-05T18:54:41.884Z"
   },
   {
    "duration": 9,
    "start_time": "2023-08-05T18:54:41.909Z"
   },
   {
    "duration": 19,
    "start_time": "2023-08-05T18:54:41.920Z"
   },
   {
    "duration": 73,
    "start_time": "2023-08-05T18:54:41.941Z"
   },
   {
    "duration": 13,
    "start_time": "2023-08-05T18:54:42.016Z"
   },
   {
    "duration": 471,
    "start_time": "2023-08-05T18:54:42.031Z"
   },
   {
    "duration": 558,
    "start_time": "2023-08-05T18:54:42.508Z"
   },
   {
    "duration": 21,
    "start_time": "2023-08-05T19:02:23.963Z"
   },
   {
    "duration": 157,
    "start_time": "2023-08-05T19:04:31.844Z"
   },
   {
    "duration": 225,
    "start_time": "2023-08-05T19:23:51.401Z"
   },
   {
    "duration": 54,
    "start_time": "2023-08-05T19:24:12.740Z"
   },
   {
    "duration": 55,
    "start_time": "2023-08-05T19:24:20.998Z"
   },
   {
    "duration": 49,
    "start_time": "2023-08-05T19:25:19.190Z"
   },
   {
    "duration": 2,
    "start_time": "2023-08-05T19:25:31.728Z"
   },
   {
    "duration": 631,
    "start_time": "2023-08-05T19:25:31.732Z"
   },
   {
    "duration": 3,
    "start_time": "2023-08-05T19:25:32.366Z"
   },
   {
    "duration": 94,
    "start_time": "2023-08-05T19:25:32.370Z"
   },
   {
    "duration": 10,
    "start_time": "2023-08-05T19:25:32.466Z"
   },
   {
    "duration": 25,
    "start_time": "2023-08-05T19:25:32.478Z"
   },
   {
    "duration": 18,
    "start_time": "2023-08-05T19:25:32.505Z"
   },
   {
    "duration": 97,
    "start_time": "2023-08-05T19:25:32.525Z"
   },
   {
    "duration": 130,
    "start_time": "2023-08-05T19:25:32.624Z"
   },
   {
    "duration": 45,
    "start_time": "2023-08-05T19:25:32.756Z"
   },
   {
    "duration": 37,
    "start_time": "2023-08-05T19:25:32.804Z"
   },
   {
    "duration": 76,
    "start_time": "2023-08-05T19:25:32.843Z"
   },
   {
    "duration": 28,
    "start_time": "2023-08-05T19:25:32.921Z"
   },
   {
    "duration": 10,
    "start_time": "2023-08-05T19:25:32.951Z"
   },
   {
    "duration": 42,
    "start_time": "2023-08-05T19:25:32.963Z"
   },
   {
    "duration": 44,
    "start_time": "2023-08-05T19:25:33.007Z"
   },
   {
    "duration": 15,
    "start_time": "2023-08-05T19:25:33.053Z"
   },
   {
    "duration": 21,
    "start_time": "2023-08-05T19:25:33.070Z"
   },
   {
    "duration": 44,
    "start_time": "2023-08-05T19:25:33.092Z"
   },
   {
    "duration": 13,
    "start_time": "2023-08-05T19:25:33.138Z"
   },
   {
    "duration": 7,
    "start_time": "2023-08-05T19:25:33.152Z"
   },
   {
    "duration": 23,
    "start_time": "2023-08-05T19:25:33.160Z"
   },
   {
    "duration": 60,
    "start_time": "2023-08-05T19:25:33.185Z"
   },
   {
    "duration": 12,
    "start_time": "2023-08-05T19:25:33.247Z"
   },
   {
    "duration": 307,
    "start_time": "2023-08-05T19:25:33.261Z"
   },
   {
    "duration": 491,
    "start_time": "2023-08-05T19:25:33.575Z"
   },
   {
    "duration": 18,
    "start_time": "2023-08-05T19:25:34.068Z"
   },
   {
    "duration": 258,
    "start_time": "2023-08-05T19:25:38.536Z"
   },
   {
    "duration": 51,
    "start_time": "2023-08-05T19:25:39.412Z"
   },
   {
    "duration": 76,
    "start_time": "2023-08-05T19:27:06.067Z"
   },
   {
    "duration": 71,
    "start_time": "2023-08-05T19:27:36.671Z"
   },
   {
    "duration": 23,
    "start_time": "2023-08-05T19:27:50.589Z"
   },
   {
    "duration": 20,
    "start_time": "2023-08-05T19:28:25.992Z"
   },
   {
    "duration": 40,
    "start_time": "2023-08-05T19:38:47.947Z"
   },
   {
    "duration": 308,
    "start_time": "2023-08-05T19:39:33.612Z"
   },
   {
    "duration": 29,
    "start_time": "2023-08-05T19:41:51.384Z"
   },
   {
    "duration": 22,
    "start_time": "2023-08-05T19:41:58.594Z"
   },
   {
    "duration": 29,
    "start_time": "2023-08-05T19:42:11.891Z"
   },
   {
    "duration": 22,
    "start_time": "2023-08-05T19:42:36.337Z"
   },
   {
    "duration": 29,
    "start_time": "2023-08-05T19:42:45.692Z"
   },
   {
    "duration": 47,
    "start_time": "2023-08-05T19:42:59.932Z"
   },
   {
    "duration": 64,
    "start_time": "2023-08-05T19:43:01.456Z"
   },
   {
    "duration": 35,
    "start_time": "2023-08-05T19:43:03.476Z"
   },
   {
    "duration": 307,
    "start_time": "2023-08-05T19:43:45.998Z"
   },
   {
    "duration": 39,
    "start_time": "2023-08-05T19:43:47.084Z"
   },
   {
    "duration": 30,
    "start_time": "2023-08-05T19:44:28.802Z"
   },
   {
    "duration": 46,
    "start_time": "2023-08-05T19:44:50.432Z"
   },
   {
    "duration": 44,
    "start_time": "2023-08-05T19:45:05.820Z"
   },
   {
    "duration": 48,
    "start_time": "2023-08-05T19:45:07.304Z"
   },
   {
    "duration": 33,
    "start_time": "2023-08-05T19:45:22.709Z"
   },
   {
    "duration": 38,
    "start_time": "2023-08-05T19:45:45.971Z"
   },
   {
    "duration": 32,
    "start_time": "2023-08-05T19:46:12.337Z"
   },
   {
    "duration": 41,
    "start_time": "2023-08-05T19:46:16.899Z"
   },
   {
    "duration": 53,
    "start_time": "2023-08-05T19:46:42.458Z"
   },
   {
    "duration": 48,
    "start_time": "2023-08-05T19:46:49.408Z"
   },
   {
    "duration": 154,
    "start_time": "2023-08-05T19:50:40.391Z"
   },
   {
    "duration": 15,
    "start_time": "2023-08-05T19:56:16.863Z"
   },
   {
    "duration": 11,
    "start_time": "2023-08-05T19:58:15.552Z"
   },
   {
    "duration": 21,
    "start_time": "2023-08-05T19:58:32.395Z"
   },
   {
    "duration": 11,
    "start_time": "2023-08-05T19:59:39.601Z"
   },
   {
    "duration": 81,
    "start_time": "2023-08-05T19:59:53.815Z"
   },
   {
    "duration": 20,
    "start_time": "2023-08-05T20:00:01.533Z"
   },
   {
    "duration": 87,
    "start_time": "2023-08-05T20:01:13.748Z"
   },
   {
    "duration": 6,
    "start_time": "2023-08-05T20:01:57.127Z"
   },
   {
    "duration": 6,
    "start_time": "2023-08-05T20:02:42.166Z"
   },
   {
    "duration": 14,
    "start_time": "2023-08-05T20:02:46.212Z"
   },
   {
    "duration": 20,
    "start_time": "2023-08-05T20:04:20.991Z"
   },
   {
    "duration": 17,
    "start_time": "2023-08-05T20:04:31.909Z"
   },
   {
    "duration": 22,
    "start_time": "2023-08-05T20:04:39.029Z"
   },
   {
    "duration": 10,
    "start_time": "2023-08-05T20:04:56.297Z"
   },
   {
    "duration": 23,
    "start_time": "2023-08-05T20:05:53.164Z"
   },
   {
    "duration": 25,
    "start_time": "2023-08-05T20:12:03.510Z"
   },
   {
    "duration": 18,
    "start_time": "2023-08-05T20:12:08.914Z"
   },
   {
    "duration": 12,
    "start_time": "2023-08-05T20:12:15.232Z"
   },
   {
    "duration": 393,
    "start_time": "2023-08-05T20:21:24.142Z"
   },
   {
    "duration": 57,
    "start_time": "2023-08-05T20:21:24.906Z"
   },
   {
    "duration": 21,
    "start_time": "2023-08-05T20:21:32.662Z"
   },
   {
    "duration": 38,
    "start_time": "2023-08-05T20:21:34.372Z"
   },
   {
    "duration": 20,
    "start_time": "2023-08-05T20:23:01.902Z"
   },
   {
    "duration": 25,
    "start_time": "2023-08-05T20:23:09.000Z"
   },
   {
    "duration": 26,
    "start_time": "2023-08-05T20:23:26.202Z"
   },
   {
    "duration": 10,
    "start_time": "2023-08-05T20:32:23.451Z"
   },
   {
    "duration": 154,
    "start_time": "2023-08-05T20:36:53.094Z"
   },
   {
    "duration": 194,
    "start_time": "2023-08-05T20:38:10.464Z"
   },
   {
    "duration": 196,
    "start_time": "2023-08-05T20:39:28.784Z"
   },
   {
    "duration": 83,
    "start_time": "2023-08-05T21:03:21.331Z"
   },
   {
    "duration": 26,
    "start_time": "2023-08-05T21:03:28.797Z"
   },
   {
    "duration": 11,
    "start_time": "2023-08-05T21:03:34.233Z"
   },
   {
    "duration": 9,
    "start_time": "2023-08-05T21:03:54.826Z"
   },
   {
    "duration": 351,
    "start_time": "2023-08-05T21:04:02.343Z"
   },
   {
    "duration": 59,
    "start_time": "2023-08-05T21:04:03.849Z"
   },
   {
    "duration": 7,
    "start_time": "2023-08-05T21:04:04.659Z"
   },
   {
    "duration": 11,
    "start_time": "2023-08-05T21:04:05.711Z"
   },
   {
    "duration": 17,
    "start_time": "2023-08-05T21:04:25.201Z"
   },
   {
    "duration": 15,
    "start_time": "2023-08-05T21:05:10.113Z"
   },
   {
    "duration": 41,
    "start_time": "2023-08-05T21:05:27.191Z"
   },
   {
    "duration": 49,
    "start_time": "2023-08-05T21:05:32.172Z"
   },
   {
    "duration": 30,
    "start_time": "2023-08-05T21:05:36.150Z"
   },
   {
    "duration": 11,
    "start_time": "2023-08-05T21:07:05.819Z"
   },
   {
    "duration": 7,
    "start_time": "2023-08-05T21:07:23.509Z"
   },
   {
    "duration": 7,
    "start_time": "2023-08-05T21:08:05.791Z"
   },
   {
    "duration": 10,
    "start_time": "2023-08-05T21:08:27.291Z"
   },
   {
    "duration": 12,
    "start_time": "2023-08-05T21:14:46.287Z"
   },
   {
    "duration": 4,
    "start_time": "2023-08-05T21:14:52.116Z"
   },
   {
    "duration": 10,
    "start_time": "2023-08-05T21:17:10.828Z"
   },
   {
    "duration": 84,
    "start_time": "2023-08-05T21:19:30.864Z"
   },
   {
    "duration": 88,
    "start_time": "2023-08-05T21:21:15.935Z"
   },
   {
    "duration": 9,
    "start_time": "2023-08-05T21:21:22.317Z"
   },
   {
    "duration": 32,
    "start_time": "2023-08-05T21:22:01.560Z"
   },
   {
    "duration": 6,
    "start_time": "2023-08-05T22:41:31.321Z"
   },
   {
    "duration": 6,
    "start_time": "2023-08-05T22:41:37.160Z"
   },
   {
    "duration": 6,
    "start_time": "2023-08-05T22:41:43.150Z"
   },
   {
    "duration": 7,
    "start_time": "2023-08-05T22:41:52.506Z"
   },
   {
    "duration": 7,
    "start_time": "2023-08-05T22:42:05.452Z"
   },
   {
    "duration": 7,
    "start_time": "2023-08-05T22:43:43.126Z"
   },
   {
    "duration": 14,
    "start_time": "2023-08-05T22:44:24.175Z"
   },
   {
    "duration": 199,
    "start_time": "2023-08-05T22:44:46.450Z"
   },
   {
    "duration": 130,
    "start_time": "2023-08-05T22:46:42.801Z"
   },
   {
    "duration": 137,
    "start_time": "2023-08-05T22:47:09.508Z"
   },
   {
    "duration": 162,
    "start_time": "2023-08-05T22:47:47.970Z"
   },
   {
    "duration": 19,
    "start_time": "2023-08-05T22:47:55.268Z"
   },
   {
    "duration": 157,
    "start_time": "2023-08-05T22:47:57.298Z"
   },
   {
    "duration": 149,
    "start_time": "2023-08-05T22:50:37.435Z"
   },
   {
    "duration": 159,
    "start_time": "2023-08-05T22:54:14.800Z"
   },
   {
    "duration": 161,
    "start_time": "2023-08-05T22:54:36.204Z"
   },
   {
    "duration": 245,
    "start_time": "2023-08-05T22:54:44.420Z"
   },
   {
    "duration": 155,
    "start_time": "2023-08-05T22:54:48.977Z"
   },
   {
    "duration": 140,
    "start_time": "2023-08-05T22:54:55.190Z"
   },
   {
    "duration": 192,
    "start_time": "2023-08-05T22:56:22.998Z"
   },
   {
    "duration": 177,
    "start_time": "2023-08-05T22:58:34.529Z"
   },
   {
    "duration": 204,
    "start_time": "2023-08-05T22:59:08.944Z"
   },
   {
    "duration": 198,
    "start_time": "2023-08-05T22:59:22.154Z"
   },
   {
    "duration": 186,
    "start_time": "2023-08-05T23:00:28.854Z"
   },
   {
    "duration": 177,
    "start_time": "2023-08-05T23:00:58.769Z"
   },
   {
    "duration": 16,
    "start_time": "2023-08-05T23:05:51.483Z"
   },
   {
    "duration": 156,
    "start_time": "2023-08-05T23:05:54.434Z"
   },
   {
    "duration": 160,
    "start_time": "2023-08-05T23:07:45.896Z"
   },
   {
    "duration": 274,
    "start_time": "2023-08-05T23:12:09.243Z"
   },
   {
    "duration": 31,
    "start_time": "2023-08-05T23:19:29.196Z"
   },
   {
    "duration": 33,
    "start_time": "2023-08-05T23:19:53.266Z"
   },
   {
    "duration": 155,
    "start_time": "2023-08-05T23:20:04.676Z"
   },
   {
    "duration": 190,
    "start_time": "2023-08-05T23:20:31.111Z"
   },
   {
    "duration": 176,
    "start_time": "2023-08-05T23:20:55.625Z"
   },
   {
    "duration": 1327,
    "start_time": "2023-08-05T23:25:57.132Z"
   },
   {
    "duration": 3,
    "start_time": "2023-08-05T23:26:41.065Z"
   },
   {
    "duration": 1842,
    "start_time": "2023-08-05T23:26:41.070Z"
   },
   {
    "duration": 3,
    "start_time": "2023-08-05T23:26:42.914Z"
   },
   {
    "duration": 68,
    "start_time": "2023-08-05T23:26:42.919Z"
   },
   {
    "duration": 3,
    "start_time": "2023-08-05T23:26:42.989Z"
   },
   {
    "duration": 18,
    "start_time": "2023-08-05T23:26:42.994Z"
   },
   {
    "duration": 4,
    "start_time": "2023-08-05T23:26:43.014Z"
   },
   {
    "duration": 81,
    "start_time": "2023-08-05T23:26:43.019Z"
   },
   {
    "duration": 115,
    "start_time": "2023-08-05T23:26:43.101Z"
   },
   {
    "duration": 34,
    "start_time": "2023-08-05T23:26:43.218Z"
   },
   {
    "duration": 54,
    "start_time": "2023-08-05T23:26:43.253Z"
   },
   {
    "duration": 41,
    "start_time": "2023-08-05T23:26:43.308Z"
   },
   {
    "duration": 35,
    "start_time": "2023-08-05T23:26:43.350Z"
   },
   {
    "duration": 10,
    "start_time": "2023-08-05T23:26:43.387Z"
   },
   {
    "duration": 10,
    "start_time": "2023-08-05T23:26:43.399Z"
   },
   {
    "duration": 41,
    "start_time": "2023-08-05T23:26:43.411Z"
   },
   {
    "duration": 15,
    "start_time": "2023-08-05T23:26:43.475Z"
   },
   {
    "duration": 9,
    "start_time": "2023-08-05T23:26:43.491Z"
   },
   {
    "duration": 82,
    "start_time": "2023-08-05T23:26:43.501Z"
   },
   {
    "duration": 14,
    "start_time": "2023-08-05T23:26:43.585Z"
   },
   {
    "duration": 7,
    "start_time": "2023-08-05T23:26:43.600Z"
   },
   {
    "duration": 11,
    "start_time": "2023-08-05T23:26:43.609Z"
   },
   {
    "duration": 66,
    "start_time": "2023-08-05T23:26:43.621Z"
   },
   {
    "duration": 10,
    "start_time": "2023-08-05T23:26:43.688Z"
   },
   {
    "duration": 314,
    "start_time": "2023-08-05T23:26:43.699Z"
   },
   {
    "duration": 384,
    "start_time": "2023-08-05T23:26:44.015Z"
   },
   {
    "duration": 266,
    "start_time": "2023-08-05T23:26:44.401Z"
   },
   {
    "duration": 43,
    "start_time": "2023-08-05T23:26:44.670Z"
   },
   {
    "duration": 6,
    "start_time": "2023-08-05T23:26:44.715Z"
   },
   {
    "duration": 39,
    "start_time": "2023-08-05T23:26:44.722Z"
   },
   {
    "duration": 21,
    "start_time": "2023-08-05T23:26:44.763Z"
   },
   {
    "duration": 0,
    "start_time": "2023-08-05T23:26:44.785Z"
   },
   {
    "duration": 0,
    "start_time": "2023-08-05T23:26:44.787Z"
   },
   {
    "duration": 0,
    "start_time": "2023-08-05T23:26:44.788Z"
   },
   {
    "duration": 0,
    "start_time": "2023-08-05T23:26:44.789Z"
   },
   {
    "duration": 0,
    "start_time": "2023-08-05T23:26:44.790Z"
   },
   {
    "duration": 0,
    "start_time": "2023-08-05T23:26:44.791Z"
   },
   {
    "duration": 145,
    "start_time": "2023-08-05T23:27:17.930Z"
   },
   {
    "duration": 19,
    "start_time": "2023-08-05T23:27:19.880Z"
   },
   {
    "duration": 170,
    "start_time": "2023-08-05T23:27:20.718Z"
   },
   {
    "duration": 181,
    "start_time": "2023-08-05T23:27:22.346Z"
   },
   {
    "duration": 268,
    "start_time": "2023-08-05T23:27:24.987Z"
   },
   {
    "duration": 153,
    "start_time": "2023-08-05T23:27:26.710Z"
   },
   {
    "duration": 19,
    "start_time": "2023-08-05T23:27:28.556Z"
   },
   {
    "duration": 9,
    "start_time": "2023-08-05T23:27:57.260Z"
   },
   {
    "duration": 8,
    "start_time": "2023-08-05T23:30:10.719Z"
   },
   {
    "duration": 1295,
    "start_time": "2023-08-05T23:59:21.685Z"
   },
   {
    "duration": 3,
    "start_time": "2023-08-05T23:59:56.167Z"
   },
   {
    "duration": 733,
    "start_time": "2023-08-05T23:59:56.172Z"
   },
   {
    "duration": 3,
    "start_time": "2023-08-05T23:59:56.907Z"
   },
   {
    "duration": 64,
    "start_time": "2023-08-05T23:59:56.911Z"
   },
   {
    "duration": 3,
    "start_time": "2023-08-05T23:59:56.977Z"
   },
   {
    "duration": 9,
    "start_time": "2023-08-05T23:59:56.982Z"
   },
   {
    "duration": 3,
    "start_time": "2023-08-05T23:59:56.992Z"
   },
   {
    "duration": 81,
    "start_time": "2023-08-05T23:59:56.997Z"
   },
   {
    "duration": 112,
    "start_time": "2023-08-05T23:59:57.079Z"
   },
   {
    "duration": 33,
    "start_time": "2023-08-05T23:59:57.193Z"
   },
   {
    "duration": 50,
    "start_time": "2023-08-05T23:59:57.228Z"
   },
   {
    "duration": 56,
    "start_time": "2023-08-05T23:59:57.280Z"
   },
   {
    "duration": 21,
    "start_time": "2023-08-05T23:59:57.338Z"
   },
   {
    "duration": 10,
    "start_time": "2023-08-05T23:59:57.360Z"
   },
   {
    "duration": 14,
    "start_time": "2023-08-05T23:59:57.371Z"
   },
   {
    "duration": 36,
    "start_time": "2023-08-05T23:59:57.386Z"
   },
   {
    "duration": 13,
    "start_time": "2023-08-05T23:59:57.423Z"
   },
   {
    "duration": 14,
    "start_time": "2023-08-05T23:59:57.438Z"
   },
   {
    "duration": 64,
    "start_time": "2023-08-05T23:59:57.453Z"
   },
   {
    "duration": 15,
    "start_time": "2023-08-05T23:59:57.518Z"
   },
   {
    "duration": 15,
    "start_time": "2023-08-05T23:59:57.534Z"
   },
   {
    "duration": 36,
    "start_time": "2023-08-05T23:59:57.550Z"
   },
   {
    "duration": 38,
    "start_time": "2023-08-05T23:59:57.588Z"
   },
   {
    "duration": 8,
    "start_time": "2023-08-05T23:59:57.628Z"
   },
   {
    "duration": 288,
    "start_time": "2023-08-05T23:59:57.637Z"
   },
   {
    "duration": 386,
    "start_time": "2023-08-05T23:59:57.926Z"
   },
   {
    "duration": 249,
    "start_time": "2023-08-05T23:59:58.313Z"
   },
   {
    "duration": 41,
    "start_time": "2023-08-05T23:59:58.564Z"
   },
   {
    "duration": 6,
    "start_time": "2023-08-05T23:59:58.608Z"
   },
   {
    "duration": 11,
    "start_time": "2023-08-05T23:59:58.615Z"
   },
   {
    "duration": 16,
    "start_time": "2023-08-05T23:59:58.627Z"
   },
   {
    "duration": 147,
    "start_time": "2023-08-05T23:59:58.644Z"
   },
   {
    "duration": 16,
    "start_time": "2023-08-05T23:59:58.792Z"
   },
   {
    "duration": 168,
    "start_time": "2023-08-05T23:59:58.809Z"
   },
   {
    "duration": 183,
    "start_time": "2023-08-05T23:59:58.979Z"
   },
   {
    "duration": 184,
    "start_time": "2023-08-05T23:59:59.164Z"
   },
   {
    "duration": 168,
    "start_time": "2023-08-05T23:59:59.349Z"
   },
   {
    "duration": 14,
    "start_time": "2023-08-06T00:05:26.699Z"
   },
   {
    "duration": 3,
    "start_time": "2023-08-06T00:10:41.846Z"
   },
   {
    "duration": 727,
    "start_time": "2023-08-06T00:10:41.852Z"
   },
   {
    "duration": 4,
    "start_time": "2023-08-06T00:10:42.580Z"
   },
   {
    "duration": 68,
    "start_time": "2023-08-06T00:10:42.585Z"
   },
   {
    "duration": 3,
    "start_time": "2023-08-06T00:10:42.655Z"
   },
   {
    "duration": 11,
    "start_time": "2023-08-06T00:10:42.674Z"
   },
   {
    "duration": 4,
    "start_time": "2023-08-06T00:10:42.687Z"
   },
   {
    "duration": 88,
    "start_time": "2023-08-06T00:10:42.693Z"
   },
   {
    "duration": 121,
    "start_time": "2023-08-06T00:10:42.784Z"
   },
   {
    "duration": 130,
    "start_time": "2023-08-06T00:10:42.906Z"
   },
   {
    "duration": 52,
    "start_time": "2023-08-06T00:10:43.038Z"
   },
   {
    "duration": 47,
    "start_time": "2023-08-06T00:10:43.091Z"
   },
   {
    "duration": 37,
    "start_time": "2023-08-06T00:10:43.140Z"
   },
   {
    "duration": 11,
    "start_time": "2023-08-06T00:10:43.178Z"
   },
   {
    "duration": 21,
    "start_time": "2023-08-06T00:10:43.190Z"
   },
   {
    "duration": 38,
    "start_time": "2023-08-06T00:10:43.213Z"
   },
   {
    "duration": 35,
    "start_time": "2023-08-06T00:10:43.253Z"
   },
   {
    "duration": 8,
    "start_time": "2023-08-06T00:10:43.290Z"
   },
   {
    "duration": 48,
    "start_time": "2023-08-06T00:10:43.299Z"
   },
   {
    "duration": 34,
    "start_time": "2023-08-06T00:10:43.349Z"
   },
   {
    "duration": 6,
    "start_time": "2023-08-06T00:10:43.384Z"
   },
   {
    "duration": 22,
    "start_time": "2023-08-06T00:10:43.392Z"
   },
   {
    "duration": 37,
    "start_time": "2023-08-06T00:10:43.416Z"
   },
   {
    "duration": 26,
    "start_time": "2023-08-06T00:10:43.456Z"
   },
   {
    "duration": 308,
    "start_time": "2023-08-06T00:10:43.484Z"
   },
   {
    "duration": 404,
    "start_time": "2023-08-06T00:10:43.794Z"
   },
   {
    "duration": 41,
    "start_time": "2023-08-06T00:10:48.348Z"
   },
   {
    "duration": 37,
    "start_time": "2023-08-06T00:10:50.223Z"
   },
   {
    "duration": 11,
    "start_time": "2023-08-06T00:10:50.980Z"
   },
   {
    "duration": 11,
    "start_time": "2023-08-06T00:10:51.603Z"
   },
   {
    "duration": 10,
    "start_time": "2023-08-06T00:10:55.556Z"
   },
   {
    "duration": 137,
    "start_time": "2023-08-06T00:11:04.237Z"
   },
   {
    "duration": 18,
    "start_time": "2023-08-06T00:11:07.894Z"
   },
   {
    "duration": 156,
    "start_time": "2023-08-06T00:11:09.487Z"
   },
   {
    "duration": 208,
    "start_time": "2023-08-06T00:11:13.701Z"
   },
   {
    "duration": 173,
    "start_time": "2023-08-06T00:11:18.605Z"
   },
   {
    "duration": 169,
    "start_time": "2023-08-06T00:11:22.968Z"
   },
   {
    "duration": 213,
    "start_time": "2023-08-06T00:14:47.701Z"
   },
   {
    "duration": 24,
    "start_time": "2023-08-06T00:14:48.590Z"
   },
   {
    "duration": 11,
    "start_time": "2023-08-06T00:14:53.575Z"
   },
   {
    "duration": 3,
    "start_time": "2023-08-06T00:15:14.882Z"
   },
   {
    "duration": 588,
    "start_time": "2023-08-06T00:15:14.887Z"
   },
   {
    "duration": 3,
    "start_time": "2023-08-06T00:15:15.477Z"
   },
   {
    "duration": 93,
    "start_time": "2023-08-06T00:15:15.482Z"
   },
   {
    "duration": 3,
    "start_time": "2023-08-06T00:15:15.578Z"
   },
   {
    "duration": 32,
    "start_time": "2023-08-06T00:15:15.583Z"
   },
   {
    "duration": 21,
    "start_time": "2023-08-06T00:15:15.616Z"
   },
   {
    "duration": 73,
    "start_time": "2023-08-06T00:15:15.639Z"
   },
   {
    "duration": 121,
    "start_time": "2023-08-06T00:15:15.713Z"
   },
   {
    "duration": 41,
    "start_time": "2023-08-06T00:15:15.836Z"
   },
   {
    "duration": 38,
    "start_time": "2023-08-06T00:15:15.879Z"
   },
   {
    "duration": 56,
    "start_time": "2023-08-06T00:15:15.918Z"
   },
   {
    "duration": 23,
    "start_time": "2023-08-06T00:15:15.976Z"
   },
   {
    "duration": 31,
    "start_time": "2023-08-06T00:15:16.001Z"
   },
   {
    "duration": 20,
    "start_time": "2023-08-06T00:15:16.034Z"
   },
   {
    "duration": 55,
    "start_time": "2023-08-06T00:15:16.056Z"
   },
   {
    "duration": 15,
    "start_time": "2023-08-06T00:15:16.112Z"
   },
   {
    "duration": 19,
    "start_time": "2023-08-06T00:15:16.129Z"
   },
   {
    "duration": 58,
    "start_time": "2023-08-06T00:15:16.149Z"
   },
   {
    "duration": 13,
    "start_time": "2023-08-06T00:15:16.209Z"
   },
   {
    "duration": 20,
    "start_time": "2023-08-06T00:15:16.224Z"
   },
   {
    "duration": 25,
    "start_time": "2023-08-06T00:15:16.246Z"
   },
   {
    "duration": 63,
    "start_time": "2023-08-06T00:15:16.272Z"
   },
   {
    "duration": 8,
    "start_time": "2023-08-06T00:15:16.337Z"
   },
   {
    "duration": 274,
    "start_time": "2023-08-06T00:15:16.347Z"
   },
   {
    "duration": 483,
    "start_time": "2023-08-06T00:15:16.623Z"
   },
   {
    "duration": 41,
    "start_time": "2023-08-06T00:15:17.107Z"
   },
   {
    "duration": 41,
    "start_time": "2023-08-06T00:15:17.150Z"
   },
   {
    "duration": 6,
    "start_time": "2023-08-06T00:15:17.195Z"
   },
   {
    "duration": 23,
    "start_time": "2023-08-06T00:15:17.202Z"
   },
   {
    "duration": 19,
    "start_time": "2023-08-06T00:15:17.226Z"
   },
   {
    "duration": 143,
    "start_time": "2023-08-06T00:15:17.247Z"
   },
   {
    "duration": 19,
    "start_time": "2023-08-06T00:15:17.392Z"
   },
   {
    "duration": 177,
    "start_time": "2023-08-06T00:15:17.412Z"
   },
   {
    "duration": 183,
    "start_time": "2023-08-06T00:15:17.591Z"
   },
   {
    "duration": 180,
    "start_time": "2023-08-06T00:15:17.776Z"
   },
   {
    "duration": 176,
    "start_time": "2023-08-06T00:15:17.958Z"
   },
   {
    "duration": 209,
    "start_time": "2023-08-06T00:15:24.975Z"
   },
   {
    "duration": 34,
    "start_time": "2023-08-06T00:15:25.890Z"
   },
   {
    "duration": 16,
    "start_time": "2023-08-06T00:15:26.647Z"
   },
   {
    "duration": 3,
    "start_time": "2023-08-06T00:16:39.963Z"
   },
   {
    "duration": 600,
    "start_time": "2023-08-06T00:16:39.967Z"
   },
   {
    "duration": 2,
    "start_time": "2023-08-06T00:16:40.569Z"
   },
   {
    "duration": 66,
    "start_time": "2023-08-06T00:16:40.572Z"
   },
   {
    "duration": 4,
    "start_time": "2023-08-06T00:16:40.640Z"
   },
   {
    "duration": 29,
    "start_time": "2023-08-06T00:16:40.645Z"
   },
   {
    "duration": 3,
    "start_time": "2023-08-06T00:16:40.676Z"
   },
   {
    "duration": 64,
    "start_time": "2023-08-06T00:16:40.681Z"
   },
   {
    "duration": 115,
    "start_time": "2023-08-06T00:16:40.746Z"
   },
   {
    "duration": 38,
    "start_time": "2023-08-06T00:16:40.862Z"
   },
   {
    "duration": 35,
    "start_time": "2023-08-06T00:16:40.902Z"
   },
   {
    "duration": 49,
    "start_time": "2023-08-06T00:16:40.939Z"
   },
   {
    "duration": 23,
    "start_time": "2023-08-06T00:16:40.990Z"
   },
   {
    "duration": 13,
    "start_time": "2023-08-06T00:16:41.015Z"
   },
   {
    "duration": 27,
    "start_time": "2023-08-06T00:16:41.029Z"
   },
   {
    "duration": 47,
    "start_time": "2023-08-06T00:16:41.057Z"
   },
   {
    "duration": 14,
    "start_time": "2023-08-06T00:16:41.105Z"
   },
   {
    "duration": 8,
    "start_time": "2023-08-06T00:16:41.121Z"
   },
   {
    "duration": 61,
    "start_time": "2023-08-06T00:16:41.130Z"
   },
   {
    "duration": 14,
    "start_time": "2023-08-06T00:16:41.192Z"
   },
   {
    "duration": 6,
    "start_time": "2023-08-06T00:16:41.207Z"
   },
   {
    "duration": 9,
    "start_time": "2023-08-06T00:16:41.214Z"
   },
   {
    "duration": 63,
    "start_time": "2023-08-06T00:16:41.224Z"
   },
   {
    "duration": 9,
    "start_time": "2023-08-06T00:16:41.288Z"
   },
   {
    "duration": 279,
    "start_time": "2023-08-06T00:16:41.299Z"
   },
   {
    "duration": 372,
    "start_time": "2023-08-06T00:16:41.580Z"
   },
   {
    "duration": 48,
    "start_time": "2023-08-06T00:16:41.954Z"
   },
   {
    "duration": 35,
    "start_time": "2023-08-06T00:16:42.004Z"
   },
   {
    "duration": 11,
    "start_time": "2023-08-06T00:16:42.042Z"
   },
   {
    "duration": 26,
    "start_time": "2023-08-06T00:16:42.055Z"
   },
   {
    "duration": 27,
    "start_time": "2023-08-06T00:16:42.082Z"
   },
   {
    "duration": 149,
    "start_time": "2023-08-06T00:16:42.111Z"
   },
   {
    "duration": 24,
    "start_time": "2023-08-06T00:16:42.262Z"
   },
   {
    "duration": 249,
    "start_time": "2023-08-06T00:16:42.288Z"
   },
   {
    "duration": 202,
    "start_time": "2023-08-06T00:16:42.539Z"
   },
   {
    "duration": 177,
    "start_time": "2023-08-06T00:16:42.742Z"
   },
   {
    "duration": 175,
    "start_time": "2023-08-06T00:16:42.921Z"
   },
   {
    "duration": 215,
    "start_time": "2023-08-06T00:16:48.019Z"
   },
   {
    "duration": 45,
    "start_time": "2023-08-06T00:16:49.044Z"
   },
   {
    "duration": 25,
    "start_time": "2023-08-06T00:16:50.104Z"
   },
   {
    "duration": 3,
    "start_time": "2023-08-06T00:18:19.149Z"
   },
   {
    "duration": 528,
    "start_time": "2023-08-06T00:18:19.154Z"
   },
   {
    "duration": 3,
    "start_time": "2023-08-06T00:18:19.683Z"
   },
   {
    "duration": 65,
    "start_time": "2023-08-06T00:18:19.688Z"
   },
   {
    "duration": 4,
    "start_time": "2023-08-06T00:18:19.773Z"
   },
   {
    "duration": 11,
    "start_time": "2023-08-06T00:18:19.779Z"
   },
   {
    "duration": 8,
    "start_time": "2023-08-06T00:18:19.791Z"
   },
   {
    "duration": 75,
    "start_time": "2023-08-06T00:18:19.800Z"
   },
   {
    "duration": 119,
    "start_time": "2023-08-06T00:18:19.878Z"
   },
   {
    "duration": 36,
    "start_time": "2023-08-06T00:18:19.998Z"
   },
   {
    "duration": 55,
    "start_time": "2023-08-06T00:18:20.036Z"
   },
   {
    "duration": 49,
    "start_time": "2023-08-06T00:18:20.093Z"
   },
   {
    "duration": 32,
    "start_time": "2023-08-06T00:18:20.144Z"
   },
   {
    "duration": 11,
    "start_time": "2023-08-06T00:18:20.178Z"
   },
   {
    "duration": 36,
    "start_time": "2023-08-06T00:18:20.191Z"
   },
   {
    "duration": 56,
    "start_time": "2023-08-06T00:18:20.230Z"
   },
   {
    "duration": 18,
    "start_time": "2023-08-06T00:18:20.288Z"
   },
   {
    "duration": 12,
    "start_time": "2023-08-06T00:18:20.309Z"
   },
   {
    "duration": 71,
    "start_time": "2023-08-06T00:18:20.323Z"
   },
   {
    "duration": 15,
    "start_time": "2023-08-06T00:18:20.395Z"
   },
   {
    "duration": 13,
    "start_time": "2023-08-06T00:18:20.412Z"
   },
   {
    "duration": 46,
    "start_time": "2023-08-06T00:18:20.427Z"
   },
   {
    "duration": 44,
    "start_time": "2023-08-06T00:18:20.475Z"
   },
   {
    "duration": 9,
    "start_time": "2023-08-06T00:18:20.522Z"
   },
   {
    "duration": 296,
    "start_time": "2023-08-06T00:18:20.533Z"
   },
   {
    "duration": 398,
    "start_time": "2023-08-06T00:18:20.830Z"
   },
   {
    "duration": 1184,
    "start_time": "2023-08-06T00:18:49.510Z"
   },
   {
    "duration": 523,
    "start_time": "2023-08-06T00:18:50.696Z"
   },
   {
    "duration": 3,
    "start_time": "2023-08-06T00:18:51.220Z"
   },
   {
    "duration": 114,
    "start_time": "2023-08-06T00:18:51.225Z"
   },
   {
    "duration": 3,
    "start_time": "2023-08-06T00:18:51.341Z"
   },
   {
    "duration": 52,
    "start_time": "2023-08-06T00:18:51.346Z"
   },
   {
    "duration": 29,
    "start_time": "2023-08-06T00:18:51.400Z"
   },
   {
    "duration": 93,
    "start_time": "2023-08-06T00:18:51.431Z"
   },
   {
    "duration": 107,
    "start_time": "2023-08-06T00:18:51.525Z"
   },
   {
    "duration": 40,
    "start_time": "2023-08-06T00:18:51.635Z"
   },
   {
    "duration": 74,
    "start_time": "2023-08-06T00:18:51.677Z"
   },
   {
    "duration": 76,
    "start_time": "2023-08-06T00:18:51.752Z"
   },
   {
    "duration": 27,
    "start_time": "2023-08-06T00:18:51.830Z"
   },
   {
    "duration": 18,
    "start_time": "2023-08-06T00:18:51.859Z"
   },
   {
    "duration": 21,
    "start_time": "2023-08-06T00:18:51.879Z"
   },
   {
    "duration": 77,
    "start_time": "2023-08-06T00:18:51.901Z"
   },
   {
    "duration": 14,
    "start_time": "2023-08-06T00:18:51.980Z"
   },
   {
    "duration": 38,
    "start_time": "2023-08-06T00:18:51.996Z"
   },
   {
    "duration": 61,
    "start_time": "2023-08-06T00:18:52.036Z"
   },
   {
    "duration": 16,
    "start_time": "2023-08-06T00:18:52.099Z"
   },
   {
    "duration": 12,
    "start_time": "2023-08-06T00:18:52.116Z"
   },
   {
    "duration": 35,
    "start_time": "2023-08-06T00:18:52.129Z"
   },
   {
    "duration": 46,
    "start_time": "2023-08-06T00:18:52.166Z"
   },
   {
    "duration": 10,
    "start_time": "2023-08-06T00:18:52.214Z"
   },
   {
    "duration": 310,
    "start_time": "2023-08-06T00:18:52.225Z"
   },
   {
    "duration": 390,
    "start_time": "2023-08-06T00:18:52.537Z"
   },
   {
    "duration": 48,
    "start_time": "2023-08-06T00:18:52.929Z"
   },
   {
    "duration": 99,
    "start_time": "2023-08-06T00:18:52.981Z"
   },
   {
    "duration": 0,
    "start_time": "2023-08-06T00:18:53.082Z"
   },
   {
    "duration": 0,
    "start_time": "2023-08-06T00:18:53.083Z"
   },
   {
    "duration": 0,
    "start_time": "2023-08-06T00:18:53.084Z"
   },
   {
    "duration": 0,
    "start_time": "2023-08-06T00:18:53.085Z"
   },
   {
    "duration": 0,
    "start_time": "2023-08-06T00:18:53.086Z"
   },
   {
    "duration": 0,
    "start_time": "2023-08-06T00:18:53.087Z"
   },
   {
    "duration": 0,
    "start_time": "2023-08-06T00:18:53.088Z"
   },
   {
    "duration": 0,
    "start_time": "2023-08-06T00:18:53.089Z"
   },
   {
    "duration": 0,
    "start_time": "2023-08-06T00:18:53.090Z"
   },
   {
    "duration": 0,
    "start_time": "2023-08-06T00:18:53.092Z"
   },
   {
    "duration": 0,
    "start_time": "2023-08-06T00:18:53.093Z"
   },
   {
    "duration": 0,
    "start_time": "2023-08-06T00:18:53.094Z"
   },
   {
    "duration": 0,
    "start_time": "2023-08-06T00:18:53.095Z"
   },
   {
    "duration": 0,
    "start_time": "2023-08-06T00:18:53.096Z"
   },
   {
    "duration": 0,
    "start_time": "2023-08-06T00:18:53.097Z"
   },
   {
    "duration": 0,
    "start_time": "2023-08-06T00:18:53.098Z"
   },
   {
    "duration": 0,
    "start_time": "2023-08-06T00:18:53.099Z"
   },
   {
    "duration": 0,
    "start_time": "2023-08-06T00:18:53.100Z"
   },
   {
    "duration": 0,
    "start_time": "2023-08-06T00:18:53.101Z"
   },
   {
    "duration": 0,
    "start_time": "2023-08-06T00:18:53.102Z"
   },
   {
    "duration": 0,
    "start_time": "2023-08-06T00:18:53.103Z"
   },
   {
    "duration": 0,
    "start_time": "2023-08-06T00:18:53.103Z"
   },
   {
    "duration": 0,
    "start_time": "2023-08-06T00:18:53.104Z"
   },
   {
    "duration": 0,
    "start_time": "2023-08-06T00:18:53.105Z"
   },
   {
    "duration": 0,
    "start_time": "2023-08-06T00:18:53.106Z"
   },
   {
    "duration": 0,
    "start_time": "2023-08-06T00:18:53.107Z"
   },
   {
    "duration": 0,
    "start_time": "2023-08-06T00:18:53.107Z"
   },
   {
    "duration": 0,
    "start_time": "2023-08-06T00:18:53.109Z"
   },
   {
    "duration": 0,
    "start_time": "2023-08-06T00:18:53.109Z"
   },
   {
    "duration": 0,
    "start_time": "2023-08-06T00:18:53.110Z"
   },
   {
    "duration": 0,
    "start_time": "2023-08-06T00:18:53.111Z"
   },
   {
    "duration": 0,
    "start_time": "2023-08-06T00:18:53.112Z"
   },
   {
    "duration": 0,
    "start_time": "2023-08-06T00:18:53.113Z"
   },
   {
    "duration": 0,
    "start_time": "2023-08-06T00:18:53.114Z"
   },
   {
    "duration": 0,
    "start_time": "2023-08-06T00:18:53.115Z"
   },
   {
    "duration": 0,
    "start_time": "2023-08-06T00:18:53.116Z"
   },
   {
    "duration": 0,
    "start_time": "2023-08-06T00:18:53.117Z"
   },
   {
    "duration": 0,
    "start_time": "2023-08-06T00:18:53.118Z"
   },
   {
    "duration": 0,
    "start_time": "2023-08-06T00:18:53.119Z"
   },
   {
    "duration": 0,
    "start_time": "2023-08-06T00:18:53.119Z"
   },
   {
    "duration": 20,
    "start_time": "2023-08-06T00:19:35.493Z"
   },
   {
    "duration": 7,
    "start_time": "2023-08-06T00:19:39.090Z"
   },
   {
    "duration": 10,
    "start_time": "2023-08-06T00:19:41.265Z"
   },
   {
    "duration": 9,
    "start_time": "2023-08-06T00:19:52.048Z"
   },
   {
    "duration": 147,
    "start_time": "2023-08-06T00:19:52.639Z"
   },
   {
    "duration": 20,
    "start_time": "2023-08-06T00:19:53.800Z"
   },
   {
    "duration": 163,
    "start_time": "2023-08-06T00:19:54.329Z"
   },
   {
    "duration": 226,
    "start_time": "2023-08-06T00:19:55.828Z"
   },
   {
    "duration": 241,
    "start_time": "2023-08-06T00:19:56.357Z"
   },
   {
    "duration": 166,
    "start_time": "2023-08-06T00:19:56.686Z"
   },
   {
    "duration": 219,
    "start_time": "2023-08-06T00:20:05.596Z"
   },
   {
    "duration": 26,
    "start_time": "2023-08-06T00:20:09.424Z"
   },
   {
    "duration": 16,
    "start_time": "2023-08-06T00:20:10.561Z"
   },
   {
    "duration": 33,
    "start_time": "2023-08-06T00:20:56.723Z"
   },
   {
    "duration": 34,
    "start_time": "2023-08-06T00:21:07.174Z"
   },
   {
    "duration": 29,
    "start_time": "2023-08-06T00:21:46.770Z"
   },
   {
    "duration": 302,
    "start_time": "2023-08-06T00:21:58.688Z"
   },
   {
    "duration": 277,
    "start_time": "2023-08-06T00:22:38.846Z"
   },
   {
    "duration": 28,
    "start_time": "2023-08-06T00:22:59.223Z"
   },
   {
    "duration": 1375,
    "start_time": "2023-08-06T00:26:45.690Z"
   },
   {
    "duration": 11,
    "start_time": "2023-08-06T00:28:36.261Z"
   },
   {
    "duration": 13,
    "start_time": "2023-08-06T00:35:16.493Z"
   },
   {
    "duration": 260,
    "start_time": "2023-08-06T00:35:20.063Z"
   },
   {
    "duration": 82,
    "start_time": "2023-08-06T00:35:21.079Z"
   },
   {
    "duration": 12,
    "start_time": "2023-08-06T00:35:27.775Z"
   },
   {
    "duration": 3,
    "start_time": "2023-08-06T00:36:20.144Z"
   },
   {
    "duration": 873,
    "start_time": "2023-08-06T00:36:20.149Z"
   },
   {
    "duration": 3,
    "start_time": "2023-08-06T00:36:21.024Z"
   },
   {
    "duration": 152,
    "start_time": "2023-08-06T00:36:21.029Z"
   },
   {
    "duration": 3,
    "start_time": "2023-08-06T00:36:21.184Z"
   },
   {
    "duration": 10,
    "start_time": "2023-08-06T00:36:21.189Z"
   },
   {
    "duration": 19,
    "start_time": "2023-08-06T00:36:21.201Z"
   },
   {
    "duration": 75,
    "start_time": "2023-08-06T00:36:21.221Z"
   },
   {
    "duration": 107,
    "start_time": "2023-08-06T00:36:21.297Z"
   },
   {
    "duration": 32,
    "start_time": "2023-08-06T00:36:21.405Z"
   },
   {
    "duration": 49,
    "start_time": "2023-08-06T00:36:21.440Z"
   },
   {
    "duration": 45,
    "start_time": "2023-08-06T00:36:21.490Z"
   },
   {
    "duration": 27,
    "start_time": "2023-08-06T00:36:21.537Z"
   },
   {
    "duration": 32,
    "start_time": "2023-08-06T00:36:21.566Z"
   },
   {
    "duration": 23,
    "start_time": "2023-08-06T00:36:21.599Z"
   },
   {
    "duration": 43,
    "start_time": "2023-08-06T00:36:21.624Z"
   },
   {
    "duration": 14,
    "start_time": "2023-08-06T00:36:21.669Z"
   },
   {
    "duration": 17,
    "start_time": "2023-08-06T00:36:21.684Z"
   },
   {
    "duration": 53,
    "start_time": "2023-08-06T00:36:21.702Z"
   },
   {
    "duration": 18,
    "start_time": "2023-08-06T00:36:21.756Z"
   },
   {
    "duration": 6,
    "start_time": "2023-08-06T00:36:21.776Z"
   },
   {
    "duration": 23,
    "start_time": "2023-08-06T00:36:21.784Z"
   },
   {
    "duration": 48,
    "start_time": "2023-08-06T00:36:21.809Z"
   },
   {
    "duration": 18,
    "start_time": "2023-08-06T00:36:21.858Z"
   },
   {
    "duration": 312,
    "start_time": "2023-08-06T00:36:21.878Z"
   },
   {
    "duration": 389,
    "start_time": "2023-08-06T00:36:22.191Z"
   },
   {
    "duration": 38,
    "start_time": "2023-08-06T00:36:22.581Z"
   },
   {
    "duration": 19,
    "start_time": "2023-08-06T00:36:22.621Z"
   },
   {
    "duration": 6,
    "start_time": "2023-08-06T00:36:22.643Z"
   },
   {
    "duration": 31,
    "start_time": "2023-08-06T00:36:22.650Z"
   },
   {
    "duration": 8,
    "start_time": "2023-08-06T00:36:22.682Z"
   },
   {
    "duration": 149,
    "start_time": "2023-08-06T00:36:22.692Z"
   },
   {
    "duration": 17,
    "start_time": "2023-08-06T00:36:22.843Z"
   },
   {
    "duration": 185,
    "start_time": "2023-08-06T00:36:22.862Z"
   },
   {
    "duration": 187,
    "start_time": "2023-08-06T00:36:23.049Z"
   },
   {
    "duration": 164,
    "start_time": "2023-08-06T00:36:23.238Z"
   },
   {
    "duration": 176,
    "start_time": "2023-08-06T00:36:23.404Z"
   },
   {
    "duration": 218,
    "start_time": "2023-08-06T00:36:23.582Z"
   },
   {
    "duration": 28,
    "start_time": "2023-08-06T00:36:23.803Z"
   },
   {
    "duration": 14,
    "start_time": "2023-08-06T00:36:23.833Z"
   },
   {
    "duration": 57,
    "start_time": "2023-08-06T00:36:23.849Z"
   },
   {
    "duration": 305,
    "start_time": "2023-08-06T00:36:23.908Z"
   },
   {
    "duration": 1402,
    "start_time": "2023-08-06T00:36:24.215Z"
   },
   {
    "duration": 26,
    "start_time": "2023-08-06T00:36:25.619Z"
   },
   {
    "duration": 0,
    "start_time": "2023-08-06T00:36:25.646Z"
   },
   {
    "duration": 0,
    "start_time": "2023-08-06T00:36:25.648Z"
   },
   {
    "duration": 10,
    "start_time": "2023-08-06T00:36:33.976Z"
   },
   {
    "duration": 201,
    "start_time": "2023-08-06T00:36:35.317Z"
   },
   {
    "duration": 2,
    "start_time": "2023-08-06T00:36:45.369Z"
   },
   {
    "duration": 203,
    "start_time": "2023-08-06T00:36:52.349Z"
   },
   {
    "duration": 39,
    "start_time": "2023-08-06T00:36:54.563Z"
   },
   {
    "duration": 62,
    "start_time": "2023-08-06T00:37:50.153Z"
   },
   {
    "duration": 3,
    "start_time": "2023-08-06T00:38:01.583Z"
   },
   {
    "duration": 799,
    "start_time": "2023-08-06T00:38:01.588Z"
   },
   {
    "duration": 3,
    "start_time": "2023-08-06T00:38:02.389Z"
   },
   {
    "duration": 67,
    "start_time": "2023-08-06T00:38:02.393Z"
   },
   {
    "duration": 3,
    "start_time": "2023-08-06T00:38:02.462Z"
   },
   {
    "duration": 27,
    "start_time": "2023-08-06T00:38:02.474Z"
   },
   {
    "duration": 4,
    "start_time": "2023-08-06T00:38:02.503Z"
   },
   {
    "duration": 58,
    "start_time": "2023-08-06T00:38:02.509Z"
   },
   {
    "duration": 93,
    "start_time": "2023-08-06T00:38:02.569Z"
   },
   {
    "duration": 32,
    "start_time": "2023-08-06T00:38:02.663Z"
   },
   {
    "duration": 35,
    "start_time": "2023-08-06T00:38:02.698Z"
   },
   {
    "duration": 47,
    "start_time": "2023-08-06T00:38:02.734Z"
   },
   {
    "duration": 19,
    "start_time": "2023-08-06T00:38:02.782Z"
   },
   {
    "duration": 10,
    "start_time": "2023-08-06T00:38:02.802Z"
   },
   {
    "duration": 11,
    "start_time": "2023-08-06T00:38:02.813Z"
   },
   {
    "duration": 55,
    "start_time": "2023-08-06T00:38:02.826Z"
   },
   {
    "duration": 13,
    "start_time": "2023-08-06T00:38:02.882Z"
   },
   {
    "duration": 26,
    "start_time": "2023-08-06T00:38:02.897Z"
   },
   {
    "duration": 82,
    "start_time": "2023-08-06T00:38:02.924Z"
   },
   {
    "duration": 13,
    "start_time": "2023-08-06T00:38:03.008Z"
   },
   {
    "duration": 8,
    "start_time": "2023-08-06T00:38:03.022Z"
   },
   {
    "duration": 27,
    "start_time": "2023-08-06T00:38:03.031Z"
   },
   {
    "duration": 35,
    "start_time": "2023-08-06T00:38:03.060Z"
   },
   {
    "duration": 8,
    "start_time": "2023-08-06T00:38:03.098Z"
   },
   {
    "duration": 270,
    "start_time": "2023-08-06T00:38:03.107Z"
   },
   {
    "duration": 365,
    "start_time": "2023-08-06T00:38:03.378Z"
   },
   {
    "duration": 49,
    "start_time": "2023-08-06T00:38:03.744Z"
   },
   {
    "duration": 17,
    "start_time": "2023-08-06T00:38:03.794Z"
   },
   {
    "duration": 6,
    "start_time": "2023-08-06T00:38:03.815Z"
   },
   {
    "duration": 30,
    "start_time": "2023-08-06T00:38:03.823Z"
   },
   {
    "duration": 18,
    "start_time": "2023-08-06T00:38:03.855Z"
   },
   {
    "duration": 142,
    "start_time": "2023-08-06T00:38:03.875Z"
   },
   {
    "duration": 14,
    "start_time": "2023-08-06T00:38:04.019Z"
   },
   {
    "duration": 166,
    "start_time": "2023-08-06T00:38:04.035Z"
   },
   {
    "duration": 271,
    "start_time": "2023-08-06T00:38:04.203Z"
   },
   {
    "duration": 161,
    "start_time": "2023-08-06T00:38:04.476Z"
   },
   {
    "duration": 163,
    "start_time": "2023-08-06T00:38:04.639Z"
   },
   {
    "duration": 197,
    "start_time": "2023-08-06T00:38:04.804Z"
   },
   {
    "duration": 24,
    "start_time": "2023-08-06T00:38:05.002Z"
   },
   {
    "duration": 10,
    "start_time": "2023-08-06T00:38:05.028Z"
   },
   {
    "duration": 50,
    "start_time": "2023-08-06T00:38:05.040Z"
   },
   {
    "duration": 284,
    "start_time": "2023-08-06T00:38:05.092Z"
   },
   {
    "duration": 1180,
    "start_time": "2023-08-06T00:38:05.377Z"
   },
   {
    "duration": 3,
    "start_time": "2023-08-06T00:38:06.558Z"
   },
   {
    "duration": 23,
    "start_time": "2023-08-06T00:38:06.562Z"
   },
   {
    "duration": 200,
    "start_time": "2023-08-06T00:38:06.587Z"
   },
   {
    "duration": 214,
    "start_time": "2023-08-06T00:38:19.386Z"
   },
   {
    "duration": 54,
    "start_time": "2023-08-06T00:38:20.500Z"
   },
   {
    "duration": 38,
    "start_time": "2023-08-06T00:38:44.752Z"
   },
   {
    "duration": 13,
    "start_time": "2023-08-06T00:38:47.404Z"
   },
   {
    "duration": 52,
    "start_time": "2023-08-06T00:39:09.039Z"
   },
   {
    "duration": 14,
    "start_time": "2023-08-06T00:39:09.958Z"
   },
   {
    "duration": 5,
    "start_time": "2023-08-06T00:39:20.223Z"
   },
   {
    "duration": 541,
    "start_time": "2023-08-06T00:39:20.230Z"
   },
   {
    "duration": 4,
    "start_time": "2023-08-06T00:39:20.773Z"
   },
   {
    "duration": 67,
    "start_time": "2023-08-06T00:39:20.779Z"
   },
   {
    "duration": 4,
    "start_time": "2023-08-06T00:39:20.848Z"
   },
   {
    "duration": 26,
    "start_time": "2023-08-06T00:39:20.853Z"
   },
   {
    "duration": 13,
    "start_time": "2023-08-06T00:39:20.881Z"
   },
   {
    "duration": 78,
    "start_time": "2023-08-06T00:39:20.895Z"
   },
   {
    "duration": 118,
    "start_time": "2023-08-06T00:39:20.975Z"
   },
   {
    "duration": 35,
    "start_time": "2023-08-06T00:39:21.095Z"
   },
   {
    "duration": 56,
    "start_time": "2023-08-06T00:39:21.134Z"
   },
   {
    "duration": 44,
    "start_time": "2023-08-06T00:39:21.192Z"
   },
   {
    "duration": 21,
    "start_time": "2023-08-06T00:39:21.237Z"
   },
   {
    "duration": 19,
    "start_time": "2023-08-06T00:39:21.259Z"
   },
   {
    "duration": 14,
    "start_time": "2023-08-06T00:39:21.280Z"
   },
   {
    "duration": 37,
    "start_time": "2023-08-06T00:39:21.296Z"
   },
   {
    "duration": 14,
    "start_time": "2023-08-06T00:39:21.335Z"
   },
   {
    "duration": 10,
    "start_time": "2023-08-06T00:39:21.375Z"
   },
   {
    "duration": 45,
    "start_time": "2023-08-06T00:39:21.387Z"
   },
   {
    "duration": 15,
    "start_time": "2023-08-06T00:39:21.434Z"
   },
   {
    "duration": 7,
    "start_time": "2023-08-06T00:39:21.475Z"
   },
   {
    "duration": 23,
    "start_time": "2023-08-06T00:39:21.483Z"
   },
   {
    "duration": 35,
    "start_time": "2023-08-06T00:39:21.507Z"
   },
   {
    "duration": 9,
    "start_time": "2023-08-06T00:39:21.543Z"
   },
   {
    "duration": 294,
    "start_time": "2023-08-06T00:39:21.553Z"
   },
   {
    "duration": 487,
    "start_time": "2023-08-06T00:39:21.849Z"
   },
   {
    "duration": 44,
    "start_time": "2023-08-06T00:39:22.338Z"
   },
   {
    "duration": 19,
    "start_time": "2023-08-06T00:39:22.383Z"
   },
   {
    "duration": 5,
    "start_time": "2023-08-06T00:39:22.405Z"
   },
   {
    "duration": 9,
    "start_time": "2023-08-06T00:39:22.412Z"
   },
   {
    "duration": 10,
    "start_time": "2023-08-06T00:39:22.422Z"
   },
   {
    "duration": 171,
    "start_time": "2023-08-06T00:39:22.434Z"
   },
   {
    "duration": 16,
    "start_time": "2023-08-06T00:39:22.606Z"
   },
   {
    "duration": 175,
    "start_time": "2023-08-06T00:39:22.623Z"
   },
   {
    "duration": 191,
    "start_time": "2023-08-06T00:39:22.800Z"
   },
   {
    "duration": 182,
    "start_time": "2023-08-06T00:39:22.993Z"
   },
   {
    "duration": 173,
    "start_time": "2023-08-06T00:39:23.176Z"
   },
   {
    "duration": 214,
    "start_time": "2023-08-06T00:39:23.350Z"
   },
   {
    "duration": 31,
    "start_time": "2023-08-06T00:39:23.566Z"
   },
   {
    "duration": 10,
    "start_time": "2023-08-06T00:39:23.599Z"
   },
   {
    "duration": 41,
    "start_time": "2023-08-06T00:39:23.611Z"
   },
   {
    "duration": 342,
    "start_time": "2023-08-06T00:39:23.653Z"
   },
   {
    "duration": 1429,
    "start_time": "2023-08-06T00:39:23.996Z"
   },
   {
    "duration": 2,
    "start_time": "2023-08-06T00:39:25.427Z"
   },
   {
    "duration": 20,
    "start_time": "2023-08-06T00:39:25.431Z"
   },
   {
    "duration": 231,
    "start_time": "2023-08-06T00:39:25.453Z"
   },
   {
    "duration": 36,
    "start_time": "2023-08-06T00:39:25.686Z"
   },
   {
    "duration": 45,
    "start_time": "2023-08-06T02:27:16.113Z"
   },
   {
    "duration": 70,
    "start_time": "2023-08-06T02:27:16.913Z"
   },
   {
    "duration": 15,
    "start_time": "2023-08-06T02:27:17.512Z"
   },
   {
    "duration": 12,
    "start_time": "2023-08-06T02:27:23.275Z"
   },
   {
    "duration": 1724,
    "start_time": "2023-08-06T02:28:00.498Z"
   },
   {
    "duration": 53,
    "start_time": "2023-08-06T02:28:16.939Z"
   },
   {
    "duration": 457,
    "start_time": "2023-08-06T02:28:30.358Z"
   },
   {
    "duration": 357,
    "start_time": "2023-08-06T02:28:50.842Z"
   },
   {
    "duration": 59,
    "start_time": "2023-08-06T02:29:04.510Z"
   },
   {
    "duration": 4,
    "start_time": "2023-08-06T05:37:53.812Z"
   },
   {
    "duration": 761,
    "start_time": "2023-08-06T05:37:53.818Z"
   },
   {
    "duration": 3,
    "start_time": "2023-08-06T05:37:54.581Z"
   },
   {
    "duration": 74,
    "start_time": "2023-08-06T05:37:54.586Z"
   },
   {
    "duration": 15,
    "start_time": "2023-08-06T05:37:54.661Z"
   },
   {
    "duration": 11,
    "start_time": "2023-08-06T05:37:54.678Z"
   },
   {
    "duration": 11,
    "start_time": "2023-08-06T05:37:54.690Z"
   },
   {
    "duration": 64,
    "start_time": "2023-08-06T05:37:54.702Z"
   },
   {
    "duration": 108,
    "start_time": "2023-08-06T05:37:54.768Z"
   },
   {
    "duration": 30,
    "start_time": "2023-08-06T05:37:54.878Z"
   },
   {
    "duration": 36,
    "start_time": "2023-08-06T05:37:54.909Z"
   },
   {
    "duration": 56,
    "start_time": "2023-08-06T05:37:54.946Z"
   },
   {
    "duration": 21,
    "start_time": "2023-08-06T05:37:55.004Z"
   },
   {
    "duration": 10,
    "start_time": "2023-08-06T05:37:55.027Z"
   },
   {
    "duration": 13,
    "start_time": "2023-08-06T05:37:55.038Z"
   },
   {
    "duration": 58,
    "start_time": "2023-08-06T05:37:55.052Z"
   },
   {
    "duration": 14,
    "start_time": "2023-08-06T05:37:55.111Z"
   },
   {
    "duration": 8,
    "start_time": "2023-08-06T05:37:55.126Z"
   },
   {
    "duration": 65,
    "start_time": "2023-08-06T05:37:55.136Z"
   },
   {
    "duration": 13,
    "start_time": "2023-08-06T05:37:55.202Z"
   },
   {
    "duration": 6,
    "start_time": "2023-08-06T05:37:55.217Z"
   },
   {
    "duration": 10,
    "start_time": "2023-08-06T05:37:55.224Z"
   },
   {
    "duration": 63,
    "start_time": "2023-08-06T05:37:55.236Z"
   },
   {
    "duration": 9,
    "start_time": "2023-08-06T05:37:55.304Z"
   },
   {
    "duration": 274,
    "start_time": "2023-08-06T05:37:55.315Z"
   },
   {
    "duration": 362,
    "start_time": "2023-08-06T05:37:55.590Z"
   },
   {
    "duration": 58,
    "start_time": "2023-08-06T05:37:55.954Z"
   },
   {
    "duration": 19,
    "start_time": "2023-08-06T05:37:56.014Z"
   },
   {
    "duration": 6,
    "start_time": "2023-08-06T05:37:56.034Z"
   },
   {
    "duration": 19,
    "start_time": "2023-08-06T05:37:56.042Z"
   },
   {
    "duration": 11,
    "start_time": "2023-08-06T05:37:56.074Z"
   },
   {
    "duration": 143,
    "start_time": "2023-08-06T05:37:56.087Z"
   },
   {
    "duration": 14,
    "start_time": "2023-08-06T05:37:56.232Z"
   },
   {
    "duration": 168,
    "start_time": "2023-08-06T05:37:56.248Z"
   },
   {
    "duration": 177,
    "start_time": "2023-08-06T05:37:56.418Z"
   },
   {
    "duration": 174,
    "start_time": "2023-08-06T05:37:56.597Z"
   },
   {
    "duration": 267,
    "start_time": "2023-08-06T05:37:56.774Z"
   },
   {
    "duration": 221,
    "start_time": "2023-08-06T05:37:57.043Z"
   },
   {
    "duration": 25,
    "start_time": "2023-08-06T05:37:57.266Z"
   },
   {
    "duration": 10,
    "start_time": "2023-08-06T05:37:57.292Z"
   },
   {
    "duration": 42,
    "start_time": "2023-08-06T05:37:57.303Z"
   },
   {
    "duration": 322,
    "start_time": "2023-08-06T05:37:57.347Z"
   },
   {
    "duration": 1294,
    "start_time": "2023-08-06T05:37:57.670Z"
   },
   {
    "duration": 1,
    "start_time": "2023-08-06T05:37:58.966Z"
   },
   {
    "duration": 9,
    "start_time": "2023-08-06T05:37:58.974Z"
   },
   {
    "duration": 206,
    "start_time": "2023-08-06T05:37:58.984Z"
   },
   {
    "duration": 210,
    "start_time": "2023-08-06T05:39:58.173Z"
   },
   {
    "duration": 49,
    "start_time": "2023-08-06T05:40:11.293Z"
   },
   {
    "duration": 48,
    "start_time": "2023-08-06T05:40:17.054Z"
   },
   {
    "duration": 52,
    "start_time": "2023-08-06T05:40:18.312Z"
   },
   {
    "duration": 13,
    "start_time": "2023-08-06T05:40:32.209Z"
   },
   {
    "duration": 253,
    "start_time": "2023-08-06T05:41:39.513Z"
   },
   {
    "duration": 422,
    "start_time": "2023-08-06T05:46:01.135Z"
   },
   {
    "duration": 561,
    "start_time": "2023-08-06T05:48:17.909Z"
   },
   {
    "duration": 1642,
    "start_time": "2023-08-06T05:48:56.613Z"
   },
   {
    "duration": 165,
    "start_time": "2023-08-06T05:50:32.816Z"
   },
   {
    "duration": 152,
    "start_time": "2023-08-06T05:51:00.401Z"
   },
   {
    "duration": 10,
    "start_time": "2023-08-06T05:51:24.894Z"
   },
   {
    "duration": 149,
    "start_time": "2023-08-06T05:51:37.984Z"
   },
   {
    "duration": 255,
    "start_time": "2023-08-06T05:51:48.139Z"
   },
   {
    "duration": 3,
    "start_time": "2023-08-06T05:56:52.475Z"
   },
   {
    "duration": 790,
    "start_time": "2023-08-06T05:56:52.480Z"
   },
   {
    "duration": 3,
    "start_time": "2023-08-06T05:56:53.272Z"
   },
   {
    "duration": 81,
    "start_time": "2023-08-06T05:56:53.277Z"
   },
   {
    "duration": 4,
    "start_time": "2023-08-06T05:56:53.374Z"
   },
   {
    "duration": 10,
    "start_time": "2023-08-06T05:56:53.380Z"
   },
   {
    "duration": 4,
    "start_time": "2023-08-06T05:56:53.392Z"
   },
   {
    "duration": 77,
    "start_time": "2023-08-06T05:56:53.398Z"
   },
   {
    "duration": 124,
    "start_time": "2023-08-06T05:56:53.477Z"
   },
   {
    "duration": 36,
    "start_time": "2023-08-06T05:56:53.603Z"
   },
   {
    "duration": 51,
    "start_time": "2023-08-06T05:56:53.643Z"
   },
   {
    "duration": 36,
    "start_time": "2023-08-06T05:56:53.696Z"
   },
   {
    "duration": 45,
    "start_time": "2023-08-06T05:56:53.734Z"
   },
   {
    "duration": 11,
    "start_time": "2023-08-06T05:56:53.781Z"
   },
   {
    "duration": 14,
    "start_time": "2023-08-06T05:56:53.794Z"
   },
   {
    "duration": 79,
    "start_time": "2023-08-06T05:56:53.809Z"
   },
   {
    "duration": 15,
    "start_time": "2023-08-06T05:56:53.889Z"
   },
   {
    "duration": 9,
    "start_time": "2023-08-06T05:56:53.905Z"
   },
   {
    "duration": 64,
    "start_time": "2023-08-06T05:56:53.916Z"
   },
   {
    "duration": 14,
    "start_time": "2023-08-06T05:56:53.982Z"
   },
   {
    "duration": 6,
    "start_time": "2023-08-06T05:56:53.998Z"
   },
   {
    "duration": 10,
    "start_time": "2023-08-06T05:56:54.006Z"
   },
   {
    "duration": 69,
    "start_time": "2023-08-06T05:56:54.017Z"
   },
   {
    "duration": 9,
    "start_time": "2023-08-06T05:56:54.088Z"
   },
   {
    "duration": 300,
    "start_time": "2023-08-06T05:56:54.099Z"
   },
   {
    "duration": 383,
    "start_time": "2023-08-06T05:56:54.400Z"
   },
   {
    "duration": 44,
    "start_time": "2023-08-06T05:56:54.785Z"
   },
   {
    "duration": 24,
    "start_time": "2023-08-06T05:56:54.831Z"
   },
   {
    "duration": 6,
    "start_time": "2023-08-06T05:56:54.875Z"
   },
   {
    "duration": 10,
    "start_time": "2023-08-06T05:56:54.882Z"
   },
   {
    "duration": 9,
    "start_time": "2023-08-06T05:56:54.894Z"
   },
   {
    "duration": 163,
    "start_time": "2023-08-06T05:56:54.905Z"
   },
   {
    "duration": 15,
    "start_time": "2023-08-06T05:56:55.074Z"
   },
   {
    "duration": 171,
    "start_time": "2023-08-06T05:56:55.090Z"
   },
   {
    "duration": 201,
    "start_time": "2023-08-06T05:56:55.263Z"
   },
   {
    "duration": 174,
    "start_time": "2023-08-06T05:56:55.466Z"
   },
   {
    "duration": 166,
    "start_time": "2023-08-06T05:56:55.642Z"
   },
   {
    "duration": 220,
    "start_time": "2023-08-06T05:56:55.810Z"
   },
   {
    "duration": 24,
    "start_time": "2023-08-06T05:56:56.032Z"
   },
   {
    "duration": 19,
    "start_time": "2023-08-06T05:56:56.058Z"
   },
   {
    "duration": 43,
    "start_time": "2023-08-06T05:56:56.079Z"
   },
   {
    "duration": 302,
    "start_time": "2023-08-06T05:56:56.124Z"
   },
   {
    "duration": 1432,
    "start_time": "2023-08-06T05:56:56.428Z"
   },
   {
    "duration": 2,
    "start_time": "2023-08-06T05:56:57.862Z"
   },
   {
    "duration": 149,
    "start_time": "2023-08-06T05:57:09.240Z"
   },
   {
    "duration": 223,
    "start_time": "2023-08-06T05:57:14.382Z"
   },
   {
    "duration": 92,
    "start_time": "2023-08-06T05:57:15.345Z"
   },
   {
    "duration": 239,
    "start_time": "2023-08-06T05:57:17.245Z"
   },
   {
    "duration": 439,
    "start_time": "2023-08-06T05:57:18.550Z"
   },
   {
    "duration": 1998,
    "start_time": "2023-08-06T05:58:32.928Z"
   },
   {
    "duration": 436,
    "start_time": "2023-08-06T06:04:25.475Z"
   },
   {
    "duration": 480,
    "start_time": "2023-08-06T06:05:58.393Z"
   },
   {
    "duration": 497,
    "start_time": "2023-08-06T06:06:06.851Z"
   },
   {
    "duration": 515,
    "start_time": "2023-08-06T06:06:48.729Z"
   },
   {
    "duration": 9,
    "start_time": "2023-08-06T06:26:39.587Z"
   },
   {
    "duration": 3,
    "start_time": "2023-08-06T06:26:51.480Z"
   },
   {
    "duration": 4,
    "start_time": "2023-08-06T06:27:06.052Z"
   },
   {
    "duration": 4,
    "start_time": "2023-08-06T06:27:16.815Z"
   },
   {
    "duration": 4,
    "start_time": "2023-08-06T06:27:43.111Z"
   },
   {
    "duration": 4,
    "start_time": "2023-08-06T06:27:49.854Z"
   },
   {
    "duration": 10,
    "start_time": "2023-08-06T06:29:57.919Z"
   },
   {
    "duration": 22,
    "start_time": "2023-08-06T06:30:18.366Z"
   },
   {
    "duration": 22,
    "start_time": "2023-08-06T06:30:56.810Z"
   },
   {
    "duration": 4,
    "start_time": "2023-08-06T06:31:02.954Z"
   },
   {
    "duration": 40,
    "start_time": "2023-08-06T06:31:06.457Z"
   },
   {
    "duration": 39,
    "start_time": "2023-08-06T06:31:14.051Z"
   },
   {
    "duration": 61,
    "start_time": "2023-08-06T06:31:47.881Z"
   },
   {
    "duration": 58,
    "start_time": "2023-08-06T06:32:35.301Z"
   },
   {
    "duration": 28,
    "start_time": "2023-08-06T06:36:12.443Z"
   },
   {
    "duration": 112,
    "start_time": "2023-08-06T06:37:14.353Z"
   },
   {
    "duration": 112,
    "start_time": "2023-08-06T06:37:41.350Z"
   },
   {
    "duration": 233,
    "start_time": "2023-08-06T06:37:56.256Z"
   },
   {
    "duration": 103,
    "start_time": "2023-08-06T06:38:14.198Z"
   },
   {
    "duration": 72,
    "start_time": "2023-08-06T06:38:53.875Z"
   },
   {
    "duration": 66,
    "start_time": "2023-08-06T06:39:05.785Z"
   },
   {
    "duration": 6,
    "start_time": "2023-08-06T06:39:28.495Z"
   },
   {
    "duration": 67,
    "start_time": "2023-08-06T06:41:46.029Z"
   },
   {
    "duration": 8,
    "start_time": "2023-08-06T06:41:48.461Z"
   },
   {
    "duration": 64,
    "start_time": "2023-08-06T06:41:57.331Z"
   },
   {
    "duration": 7,
    "start_time": "2023-08-06T06:42:00.137Z"
   },
   {
    "duration": 8,
    "start_time": "2023-08-06T06:42:08.280Z"
   },
   {
    "duration": 61,
    "start_time": "2023-08-06T06:42:33.286Z"
   },
   {
    "duration": 63,
    "start_time": "2023-08-06T06:43:01.720Z"
   },
   {
    "duration": 68,
    "start_time": "2023-08-06T06:43:14.810Z"
   },
   {
    "duration": 74,
    "start_time": "2023-08-06T06:44:13.767Z"
   },
   {
    "duration": 73,
    "start_time": "2023-08-06T06:44:23.480Z"
   },
   {
    "duration": 101,
    "start_time": "2023-08-06T06:45:17.824Z"
   },
   {
    "duration": 74,
    "start_time": "2023-08-06T06:45:25.345Z"
   },
   {
    "duration": 71,
    "start_time": "2023-08-06T06:46:24.248Z"
   },
   {
    "duration": 123,
    "start_time": "2023-08-06T06:49:35.371Z"
   },
   {
    "duration": 13,
    "start_time": "2023-08-06T06:49:47.649Z"
   },
   {
    "duration": 10,
    "start_time": "2023-08-06T06:51:02.357Z"
   },
   {
    "duration": 17,
    "start_time": "2023-08-06T06:51:38.902Z"
   },
   {
    "duration": 6,
    "start_time": "2023-08-06T06:52:18.890Z"
   },
   {
    "duration": 9,
    "start_time": "2023-08-06T06:52:29.691Z"
   },
   {
    "duration": 475,
    "start_time": "2023-08-06T06:52:46.007Z"
   },
   {
    "duration": 4,
    "start_time": "2023-08-06T06:53:15.129Z"
   },
   {
    "duration": 392,
    "start_time": "2023-08-06T06:53:17.516Z"
   },
   {
    "duration": 427,
    "start_time": "2023-08-06T06:53:29.622Z"
   },
   {
    "duration": 421,
    "start_time": "2023-08-06T06:53:41.318Z"
   },
   {
    "duration": 374,
    "start_time": "2023-08-06T06:53:46.198Z"
   },
   {
    "duration": 320,
    "start_time": "2023-08-06T06:55:49.474Z"
   },
   {
    "duration": 12,
    "start_time": "2023-08-06T06:56:55.049Z"
   },
   {
    "duration": 55,
    "start_time": "2023-08-06T06:56:57.476Z"
   },
   {
    "duration": 175,
    "start_time": "2023-08-06T06:56:59.865Z"
   },
   {
    "duration": 1550,
    "start_time": "2023-08-06T07:02:16.520Z"
   },
   {
    "duration": 0,
    "start_time": "2023-08-06T07:02:18.072Z"
   },
   {
    "duration": 13,
    "start_time": "2023-08-06T07:03:02.865Z"
   },
   {
    "duration": 61,
    "start_time": "2023-08-06T07:04:35.304Z"
   },
   {
    "duration": 170,
    "start_time": "2023-08-06T07:05:01.483Z"
   },
   {
    "duration": 3,
    "start_time": "2023-08-06T07:05:09.637Z"
   },
   {
    "duration": 1024,
    "start_time": "2023-08-06T07:05:09.643Z"
   },
   {
    "duration": 3,
    "start_time": "2023-08-06T07:05:10.669Z"
   },
   {
    "duration": 84,
    "start_time": "2023-08-06T07:05:10.674Z"
   },
   {
    "duration": 4,
    "start_time": "2023-08-06T07:05:10.759Z"
   },
   {
    "duration": 6,
    "start_time": "2023-08-06T07:05:10.775Z"
   },
   {
    "duration": 5,
    "start_time": "2023-08-06T07:05:10.783Z"
   },
   {
    "duration": 93,
    "start_time": "2023-08-06T07:05:10.790Z"
   },
   {
    "duration": 115,
    "start_time": "2023-08-06T07:05:10.885Z"
   },
   {
    "duration": 38,
    "start_time": "2023-08-06T07:05:11.002Z"
   },
   {
    "duration": 53,
    "start_time": "2023-08-06T07:05:11.042Z"
   },
   {
    "duration": 34,
    "start_time": "2023-08-06T07:05:11.097Z"
   },
   {
    "duration": 52,
    "start_time": "2023-08-06T07:05:11.133Z"
   },
   {
    "duration": 10,
    "start_time": "2023-08-06T07:05:11.187Z"
   },
   {
    "duration": 13,
    "start_time": "2023-08-06T07:05:11.198Z"
   },
   {
    "duration": 36,
    "start_time": "2023-08-06T07:05:11.212Z"
   },
   {
    "duration": 14,
    "start_time": "2023-08-06T07:05:11.275Z"
   },
   {
    "duration": 27,
    "start_time": "2023-08-06T07:05:11.291Z"
   },
   {
    "duration": 64,
    "start_time": "2023-08-06T07:05:11.320Z"
   },
   {
    "duration": 14,
    "start_time": "2023-08-06T07:05:11.385Z"
   },
   {
    "duration": 17,
    "start_time": "2023-08-06T07:05:11.401Z"
   },
   {
    "duration": 25,
    "start_time": "2023-08-06T07:05:11.420Z"
   },
   {
    "duration": 56,
    "start_time": "2023-08-06T07:05:11.447Z"
   },
   {
    "duration": 10,
    "start_time": "2023-08-06T07:05:11.507Z"
   },
   {
    "duration": 300,
    "start_time": "2023-08-06T07:05:11.519Z"
   },
   {
    "duration": 506,
    "start_time": "2023-08-06T07:05:11.821Z"
   },
   {
    "duration": 50,
    "start_time": "2023-08-06T07:05:12.329Z"
   },
   {
    "duration": 28,
    "start_time": "2023-08-06T07:05:12.381Z"
   },
   {
    "duration": 16,
    "start_time": "2023-08-06T07:05:12.411Z"
   },
   {
    "duration": 27,
    "start_time": "2023-08-06T07:05:12.430Z"
   },
   {
    "duration": 36,
    "start_time": "2023-08-06T07:05:12.458Z"
   },
   {
    "duration": 147,
    "start_time": "2023-08-06T07:05:12.496Z"
   },
   {
    "duration": 16,
    "start_time": "2023-08-06T07:05:12.645Z"
   },
   {
    "duration": 166,
    "start_time": "2023-08-06T07:05:12.663Z"
   },
   {
    "duration": 191,
    "start_time": "2023-08-06T07:05:12.830Z"
   },
   {
    "duration": 188,
    "start_time": "2023-08-06T07:05:13.023Z"
   },
   {
    "duration": 171,
    "start_time": "2023-08-06T07:05:13.212Z"
   },
   {
    "duration": 223,
    "start_time": "2023-08-06T07:05:13.384Z"
   },
   {
    "duration": 25,
    "start_time": "2023-08-06T07:05:13.609Z"
   },
   {
    "duration": 18,
    "start_time": "2023-08-06T07:05:13.636Z"
   },
   {
    "duration": 60,
    "start_time": "2023-08-06T07:05:13.656Z"
   },
   {
    "duration": 359,
    "start_time": "2023-08-06T07:05:13.719Z"
   },
   {
    "duration": 1448,
    "start_time": "2023-08-06T07:05:14.079Z"
   },
   {
    "duration": 3,
    "start_time": "2023-08-06T07:05:15.529Z"
   },
   {
    "duration": 170,
    "start_time": "2023-08-06T07:05:15.534Z"
   },
   {
    "duration": 220,
    "start_time": "2023-08-06T07:05:15.707Z"
   },
   {
    "duration": 109,
    "start_time": "2023-08-06T07:05:15.928Z"
   },
   {
    "duration": 253,
    "start_time": "2023-08-06T07:05:16.039Z"
   },
   {
    "duration": 456,
    "start_time": "2023-08-06T07:05:16.294Z"
   },
   {
    "duration": 512,
    "start_time": "2023-08-06T07:05:16.751Z"
   },
   {
    "duration": 84,
    "start_time": "2023-08-06T07:05:17.265Z"
   },
   {
    "duration": 76,
    "start_time": "2023-08-06T07:05:17.351Z"
   },
   {
    "duration": 1795,
    "start_time": "2023-08-06T07:05:17.429Z"
   },
   {
    "duration": 9,
    "start_time": "2023-08-06T07:05:19.226Z"
   },
   {
    "duration": 7,
    "start_time": "2023-08-06T07:05:19.237Z"
   },
   {
    "duration": 12,
    "start_time": "2023-08-06T07:05:19.245Z"
   },
   {
    "duration": 130,
    "start_time": "2023-08-06T07:05:19.275Z"
   },
   {
    "duration": 13,
    "start_time": "2023-08-06T07:05:19.407Z"
   },
   {
    "duration": 14,
    "start_time": "2023-08-06T07:05:19.421Z"
   },
   {
    "duration": 454,
    "start_time": "2023-08-06T07:05:19.436Z"
   },
   {
    "duration": 261,
    "start_time": "2023-08-06T07:05:19.891Z"
   },
   {
    "duration": 10,
    "start_time": "2023-08-06T07:05:20.153Z"
   },
   {
    "duration": 47,
    "start_time": "2023-08-06T07:05:20.175Z"
   },
   {
    "duration": 263,
    "start_time": "2023-08-06T07:05:20.224Z"
   },
   {
    "duration": 179,
    "start_time": "2023-08-06T07:05:25.520Z"
   },
   {
    "duration": 4,
    "start_time": "2023-08-06T07:05:58.556Z"
   },
   {
    "duration": 639,
    "start_time": "2023-08-06T07:05:58.562Z"
   },
   {
    "duration": 3,
    "start_time": "2023-08-06T07:05:59.203Z"
   },
   {
    "duration": 93,
    "start_time": "2023-08-06T07:05:59.207Z"
   },
   {
    "duration": 5,
    "start_time": "2023-08-06T07:05:59.303Z"
   },
   {
    "duration": 8,
    "start_time": "2023-08-06T07:05:59.310Z"
   },
   {
    "duration": 3,
    "start_time": "2023-08-06T07:05:59.320Z"
   },
   {
    "duration": 80,
    "start_time": "2023-08-06T07:05:59.325Z"
   },
   {
    "duration": 115,
    "start_time": "2023-08-06T07:05:59.406Z"
   },
   {
    "duration": 33,
    "start_time": "2023-08-06T07:05:59.522Z"
   },
   {
    "duration": 78,
    "start_time": "2023-08-06T07:05:59.558Z"
   },
   {
    "duration": 80,
    "start_time": "2023-08-06T07:05:59.638Z"
   },
   {
    "duration": 31,
    "start_time": "2023-08-06T07:05:59.722Z"
   },
   {
    "duration": 29,
    "start_time": "2023-08-06T07:05:59.756Z"
   },
   {
    "duration": 20,
    "start_time": "2023-08-06T07:05:59.787Z"
   },
   {
    "duration": 75,
    "start_time": "2023-08-06T07:05:59.810Z"
   },
   {
    "duration": 20,
    "start_time": "2023-08-06T07:05:59.887Z"
   },
   {
    "duration": 15,
    "start_time": "2023-08-06T07:05:59.910Z"
   },
   {
    "duration": 106,
    "start_time": "2023-08-06T07:05:59.927Z"
   },
   {
    "duration": 23,
    "start_time": "2023-08-06T07:06:00.035Z"
   },
   {
    "duration": 8,
    "start_time": "2023-08-06T07:06:00.077Z"
   },
   {
    "duration": 24,
    "start_time": "2023-08-06T07:06:00.087Z"
   },
   {
    "duration": 86,
    "start_time": "2023-08-06T07:06:00.113Z"
   },
   {
    "duration": 11,
    "start_time": "2023-08-06T07:06:00.200Z"
   },
   {
    "duration": 427,
    "start_time": "2023-08-06T07:06:00.213Z"
   },
   {
    "duration": 438,
    "start_time": "2023-08-06T07:06:00.643Z"
   },
   {
    "duration": 49,
    "start_time": "2023-08-06T07:06:01.083Z"
   },
   {
    "duration": 76,
    "start_time": "2023-08-06T07:06:01.134Z"
   },
   {
    "duration": 137,
    "start_time": "2023-08-06T07:06:01.212Z"
   },
   {
    "duration": 101,
    "start_time": "2023-08-06T07:06:01.351Z"
   },
   {
    "duration": 117,
    "start_time": "2023-08-06T07:06:01.454Z"
   },
   {
    "duration": 407,
    "start_time": "2023-08-06T07:06:01.573Z"
   },
   {
    "duration": 17,
    "start_time": "2023-08-06T07:06:01.982Z"
   },
   {
    "duration": 246,
    "start_time": "2023-08-06T07:06:02.001Z"
   },
   {
    "duration": 241,
    "start_time": "2023-08-06T07:06:02.250Z"
   },
   {
    "duration": 192,
    "start_time": "2023-08-06T07:06:02.493Z"
   },
   {
    "duration": 188,
    "start_time": "2023-08-06T07:06:02.691Z"
   },
   {
    "duration": 236,
    "start_time": "2023-08-06T07:06:02.881Z"
   },
   {
    "duration": 35,
    "start_time": "2023-08-06T07:06:03.119Z"
   },
   {
    "duration": 27,
    "start_time": "2023-08-06T07:06:03.156Z"
   },
   {
    "duration": 83,
    "start_time": "2023-08-06T07:06:03.185Z"
   },
   {
    "duration": 528,
    "start_time": "2023-08-06T07:06:03.270Z"
   },
   {
    "duration": 1533,
    "start_time": "2023-08-06T07:06:03.800Z"
   },
   {
    "duration": 3,
    "start_time": "2023-08-06T07:06:05.335Z"
   },
   {
    "duration": 314,
    "start_time": "2023-08-06T07:06:05.340Z"
   },
   {
    "duration": 245,
    "start_time": "2023-08-06T07:06:05.656Z"
   },
   {
    "duration": 88,
    "start_time": "2023-08-06T07:06:05.903Z"
   },
   {
    "duration": 328,
    "start_time": "2023-08-06T07:06:05.993Z"
   },
   {
    "duration": 450,
    "start_time": "2023-08-06T07:06:06.325Z"
   },
   {
    "duration": 520,
    "start_time": "2023-08-06T07:06:06.777Z"
   },
   {
    "duration": 96,
    "start_time": "2023-08-06T07:06:07.299Z"
   },
   {
    "duration": 84,
    "start_time": "2023-08-06T07:06:07.397Z"
   },
   {
    "duration": 1851,
    "start_time": "2023-08-06T07:06:07.482Z"
   },
   {
    "duration": 10,
    "start_time": "2023-08-06T07:06:09.334Z"
   },
   {
    "duration": 19,
    "start_time": "2023-08-06T07:06:09.346Z"
   },
   {
    "duration": 12,
    "start_time": "2023-08-06T07:06:09.367Z"
   },
   {
    "duration": 156,
    "start_time": "2023-08-06T07:06:09.381Z"
   },
   {
    "duration": 18,
    "start_time": "2023-08-06T07:06:09.539Z"
   },
   {
    "duration": 27,
    "start_time": "2023-08-06T07:06:09.559Z"
   },
   {
    "duration": 502,
    "start_time": "2023-08-06T07:06:09.588Z"
   },
   {
    "duration": 337,
    "start_time": "2023-08-06T07:06:10.092Z"
   },
   {
    "duration": 16,
    "start_time": "2023-08-06T07:06:10.431Z"
   },
   {
    "duration": 92,
    "start_time": "2023-08-06T07:06:10.449Z"
   },
   {
    "duration": 287,
    "start_time": "2023-08-06T07:06:10.545Z"
   },
   {
    "duration": 90,
    "start_time": "2023-08-06T07:06:16.950Z"
   },
   {
    "duration": 37,
    "start_time": "2023-08-06T07:07:26.422Z"
   },
   {
    "duration": 56,
    "start_time": "2023-08-06T07:07:48.330Z"
   },
   {
    "duration": 33,
    "start_time": "2023-08-06T07:08:11.806Z"
   },
   {
    "duration": 70,
    "start_time": "2023-08-06T07:09:01.522Z"
   },
   {
    "duration": 54,
    "start_time": "2023-08-06T07:10:10.259Z"
   },
   {
    "duration": 7,
    "start_time": "2023-08-06T07:10:15.431Z"
   },
   {
    "duration": 220,
    "start_time": "2023-08-06T07:10:48.271Z"
   },
   {
    "duration": 65,
    "start_time": "2023-08-06T07:18:49.608Z"
   },
   {
    "duration": 29,
    "start_time": "2023-08-06T07:18:54.773Z"
   },
   {
    "duration": 49,
    "start_time": "2023-08-06T07:19:28.567Z"
   },
   {
    "duration": 51,
    "start_time": "2023-08-06T07:19:35.912Z"
   },
   {
    "duration": 3,
    "start_time": "2023-08-06T07:19:49.648Z"
   },
   {
    "duration": 693,
    "start_time": "2023-08-06T07:19:49.653Z"
   },
   {
    "duration": 3,
    "start_time": "2023-08-06T07:19:50.348Z"
   },
   {
    "duration": 131,
    "start_time": "2023-08-06T07:19:50.354Z"
   },
   {
    "duration": 4,
    "start_time": "2023-08-06T07:19:50.487Z"
   },
   {
    "duration": 16,
    "start_time": "2023-08-06T07:19:50.493Z"
   },
   {
    "duration": 9,
    "start_time": "2023-08-06T07:19:50.512Z"
   },
   {
    "duration": 96,
    "start_time": "2023-08-06T07:19:50.523Z"
   },
   {
    "duration": 116,
    "start_time": "2023-08-06T07:19:50.621Z"
   },
   {
    "duration": 48,
    "start_time": "2023-08-06T07:19:50.739Z"
   },
   {
    "duration": 40,
    "start_time": "2023-08-06T07:19:50.789Z"
   },
   {
    "duration": 48,
    "start_time": "2023-08-06T07:19:50.831Z"
   },
   {
    "duration": 23,
    "start_time": "2023-08-06T07:19:50.881Z"
   },
   {
    "duration": 25,
    "start_time": "2023-08-06T07:19:50.906Z"
   },
   {
    "duration": 30,
    "start_time": "2023-08-06T07:19:50.933Z"
   },
   {
    "duration": 53,
    "start_time": "2023-08-06T07:19:50.964Z"
   },
   {
    "duration": 15,
    "start_time": "2023-08-06T07:19:51.019Z"
   },
   {
    "duration": 11,
    "start_time": "2023-08-06T07:19:51.035Z"
   },
   {
    "duration": 80,
    "start_time": "2023-08-06T07:19:51.048Z"
   },
   {
    "duration": 13,
    "start_time": "2023-08-06T07:19:51.130Z"
   },
   {
    "duration": 15,
    "start_time": "2023-08-06T07:19:51.145Z"
   },
   {
    "duration": 27,
    "start_time": "2023-08-06T07:19:51.162Z"
   },
   {
    "duration": 59,
    "start_time": "2023-08-06T07:19:51.190Z"
   },
   {
    "duration": 13,
    "start_time": "2023-08-06T07:19:51.253Z"
   },
   {
    "duration": 285,
    "start_time": "2023-08-06T07:19:51.268Z"
   },
   {
    "duration": 387,
    "start_time": "2023-08-06T07:19:51.555Z"
   },
   {
    "duration": 52,
    "start_time": "2023-08-06T07:19:51.944Z"
   },
   {
    "duration": 24,
    "start_time": "2023-08-06T07:19:51.998Z"
   },
   {
    "duration": 19,
    "start_time": "2023-08-06T07:19:52.025Z"
   },
   {
    "duration": 15,
    "start_time": "2023-08-06T07:19:52.045Z"
   },
   {
    "duration": 28,
    "start_time": "2023-08-06T07:19:52.063Z"
   },
   {
    "duration": 303,
    "start_time": "2023-08-06T07:19:52.093Z"
   },
   {
    "duration": 18,
    "start_time": "2023-08-06T07:19:52.398Z"
   },
   {
    "duration": 187,
    "start_time": "2023-08-06T07:19:52.418Z"
   },
   {
    "duration": 197,
    "start_time": "2023-08-06T07:19:52.607Z"
   },
   {
    "duration": 192,
    "start_time": "2023-08-06T07:19:52.805Z"
   },
   {
    "duration": 193,
    "start_time": "2023-08-06T07:19:52.999Z"
   },
   {
    "duration": 245,
    "start_time": "2023-08-06T07:19:53.194Z"
   },
   {
    "duration": 48,
    "start_time": "2023-08-06T07:19:53.441Z"
   },
   {
    "duration": 16,
    "start_time": "2023-08-06T07:19:53.491Z"
   },
   {
    "duration": 68,
    "start_time": "2023-08-06T07:19:53.509Z"
   },
   {
    "duration": 378,
    "start_time": "2023-08-06T07:19:53.579Z"
   },
   {
    "duration": 1438,
    "start_time": "2023-08-06T07:19:53.959Z"
   },
   {
    "duration": 3,
    "start_time": "2023-08-06T07:19:55.399Z"
   },
   {
    "duration": 341,
    "start_time": "2023-08-06T07:19:55.404Z"
   },
   {
    "duration": 235,
    "start_time": "2023-08-06T07:19:55.747Z"
   },
   {
    "duration": 96,
    "start_time": "2023-08-06T07:19:55.984Z"
   },
   {
    "duration": 279,
    "start_time": "2023-08-06T07:19:56.081Z"
   },
   {
    "duration": 470,
    "start_time": "2023-08-06T07:19:56.362Z"
   },
   {
    "duration": 560,
    "start_time": "2023-08-06T07:19:56.834Z"
   },
   {
    "duration": 68,
    "start_time": "2023-08-06T07:19:57.396Z"
   },
   {
    "duration": 43,
    "start_time": "2023-08-06T07:20:01.654Z"
   },
   {
    "duration": 42,
    "start_time": "2023-08-06T07:20:33.204Z"
   },
   {
    "duration": 69,
    "start_time": "2023-08-06T07:20:41.984Z"
   },
   {
    "duration": 1304,
    "start_time": "2023-08-06T07:26:08.718Z"
   },
   {
    "duration": 3,
    "start_time": "2023-08-06T07:26:32.055Z"
   },
   {
    "duration": 679,
    "start_time": "2023-08-06T07:26:32.060Z"
   },
   {
    "duration": 4,
    "start_time": "2023-08-06T07:26:32.741Z"
   },
   {
    "duration": 79,
    "start_time": "2023-08-06T07:26:32.747Z"
   },
   {
    "duration": 5,
    "start_time": "2023-08-06T07:26:32.828Z"
   },
   {
    "duration": 13,
    "start_time": "2023-08-06T07:26:32.835Z"
   },
   {
    "duration": 28,
    "start_time": "2023-08-06T07:26:32.850Z"
   },
   {
    "duration": 124,
    "start_time": "2023-08-06T07:26:32.880Z"
   },
   {
    "duration": 138,
    "start_time": "2023-08-06T07:26:33.006Z"
   },
   {
    "duration": 46,
    "start_time": "2023-08-06T07:26:33.146Z"
   },
   {
    "duration": 42,
    "start_time": "2023-08-06T07:26:33.195Z"
   },
   {
    "duration": 57,
    "start_time": "2023-08-06T07:26:33.239Z"
   },
   {
    "duration": 35,
    "start_time": "2023-08-06T07:26:33.299Z"
   },
   {
    "duration": 12,
    "start_time": "2023-08-06T07:26:33.336Z"
   },
   {
    "duration": 32,
    "start_time": "2023-08-06T07:26:33.350Z"
   },
   {
    "duration": 43,
    "start_time": "2023-08-06T07:26:33.384Z"
   },
   {
    "duration": 15,
    "start_time": "2023-08-06T07:26:33.429Z"
   },
   {
    "duration": 36,
    "start_time": "2023-08-06T07:26:33.447Z"
   },
   {
    "duration": 50,
    "start_time": "2023-08-06T07:26:33.486Z"
   },
   {
    "duration": 14,
    "start_time": "2023-08-06T07:26:33.538Z"
   },
   {
    "duration": 27,
    "start_time": "2023-08-06T07:26:33.553Z"
   },
   {
    "duration": 30,
    "start_time": "2023-08-06T07:26:33.582Z"
   },
   {
    "duration": 51,
    "start_time": "2023-08-06T07:26:33.614Z"
   },
   {
    "duration": 16,
    "start_time": "2023-08-06T07:26:33.667Z"
   },
   {
    "duration": 373,
    "start_time": "2023-08-06T07:26:33.686Z"
   },
   {
    "duration": 457,
    "start_time": "2023-08-06T07:26:34.061Z"
   },
   {
    "duration": 68,
    "start_time": "2023-08-06T07:26:34.521Z"
   },
   {
    "duration": 22,
    "start_time": "2023-08-06T07:26:34.591Z"
   },
   {
    "duration": 7,
    "start_time": "2023-08-06T07:26:34.618Z"
   },
   {
    "duration": 16,
    "start_time": "2023-08-06T07:26:34.627Z"
   },
   {
    "duration": 30,
    "start_time": "2023-08-06T07:26:34.645Z"
   },
   {
    "duration": 153,
    "start_time": "2023-08-06T07:26:34.677Z"
   },
   {
    "duration": 16,
    "start_time": "2023-08-06T07:26:34.832Z"
   },
   {
    "duration": 354,
    "start_time": "2023-08-06T07:26:34.850Z"
   },
   {
    "duration": 202,
    "start_time": "2023-08-06T07:26:35.207Z"
   },
   {
    "duration": 219,
    "start_time": "2023-08-06T07:26:35.411Z"
   },
   {
    "duration": 182,
    "start_time": "2023-08-06T07:26:35.632Z"
   },
   {
    "duration": 230,
    "start_time": "2023-08-06T07:26:35.816Z"
   },
   {
    "duration": 38,
    "start_time": "2023-08-06T07:26:36.048Z"
   },
   {
    "duration": 13,
    "start_time": "2023-08-06T07:26:36.089Z"
   },
   {
    "duration": 50,
    "start_time": "2023-08-06T07:26:36.104Z"
   },
   {
    "duration": 324,
    "start_time": "2023-08-06T07:26:36.156Z"
   },
   {
    "duration": 1365,
    "start_time": "2023-08-06T07:26:36.482Z"
   },
   {
    "duration": 3,
    "start_time": "2023-08-06T07:26:37.848Z"
   },
   {
    "duration": 260,
    "start_time": "2023-08-06T07:26:37.853Z"
   },
   {
    "duration": 219,
    "start_time": "2023-08-06T07:26:38.114Z"
   },
   {
    "duration": 90,
    "start_time": "2023-08-06T07:26:38.335Z"
   },
   {
    "duration": 224,
    "start_time": "2023-08-06T07:26:38.427Z"
   },
   {
    "duration": 463,
    "start_time": "2023-08-06T07:26:38.653Z"
   },
   {
    "duration": 532,
    "start_time": "2023-08-06T07:26:39.118Z"
   },
   {
    "duration": 95,
    "start_time": "2023-08-06T07:26:39.652Z"
   },
   {
    "duration": 80,
    "start_time": "2023-08-06T07:26:39.749Z"
   },
   {
    "duration": 1882,
    "start_time": "2023-08-06T07:26:39.830Z"
   },
   {
    "duration": 9,
    "start_time": "2023-08-06T07:26:41.713Z"
   },
   {
    "duration": 15,
    "start_time": "2023-08-06T07:26:41.724Z"
   },
   {
    "duration": 6,
    "start_time": "2023-08-06T07:26:41.741Z"
   },
   {
    "duration": 145,
    "start_time": "2023-08-06T07:26:41.749Z"
   },
   {
    "duration": 14,
    "start_time": "2023-08-06T07:26:41.896Z"
   },
   {
    "duration": 7,
    "start_time": "2023-08-06T07:26:41.912Z"
   },
   {
    "duration": 435,
    "start_time": "2023-08-06T07:26:41.921Z"
   },
   {
    "duration": 282,
    "start_time": "2023-08-06T07:26:42.358Z"
   },
   {
    "duration": 10,
    "start_time": "2023-08-06T07:26:42.642Z"
   },
   {
    "duration": 68,
    "start_time": "2023-08-06T07:26:42.654Z"
   },
   {
    "duration": 202,
    "start_time": "2023-08-06T07:26:42.724Z"
   },
   {
    "duration": 168,
    "start_time": "2023-08-06T07:26:42.927Z"
   },
   {
    "duration": 85,
    "start_time": "2023-08-06T07:26:43.097Z"
   },
   {
    "duration": 6,
    "start_time": "2023-08-06T07:26:43.183Z"
   },
   {
    "duration": 41,
    "start_time": "2023-08-06T07:26:43.191Z"
   },
   {
    "duration": 22,
    "start_time": "2023-08-06T07:26:43.233Z"
   },
   {
    "duration": 1499,
    "start_time": "2023-08-06T07:26:43.257Z"
   },
   {
    "duration": 1,
    "start_time": "2023-08-06T07:26:44.758Z"
   },
   {
    "duration": 0,
    "start_time": "2023-08-06T07:26:44.760Z"
   },
   {
    "duration": 0,
    "start_time": "2023-08-06T07:26:44.761Z"
   },
   {
    "duration": 0,
    "start_time": "2023-08-06T07:26:44.763Z"
   },
   {
    "duration": 27,
    "start_time": "2023-08-06T07:31:31.499Z"
   },
   {
    "duration": 7,
    "start_time": "2023-08-06T07:33:45.572Z"
   },
   {
    "duration": 10,
    "start_time": "2023-08-06T07:34:01.587Z"
   },
   {
    "duration": 17,
    "start_time": "2023-08-06T07:34:04.709Z"
   },
   {
    "duration": 16,
    "start_time": "2023-08-06T07:55:39.710Z"
   },
   {
    "duration": 83,
    "start_time": "2023-08-06T07:56:52.629Z"
   },
   {
    "duration": 15,
    "start_time": "2023-08-06T07:57:24.868Z"
   },
   {
    "duration": 15,
    "start_time": "2023-08-06T07:57:31.585Z"
   },
   {
    "duration": 24,
    "start_time": "2023-08-06T08:01:22.138Z"
   },
   {
    "duration": 24,
    "start_time": "2023-08-06T08:01:33.763Z"
   },
   {
    "duration": 3,
    "start_time": "2023-08-06T08:02:14.846Z"
   },
   {
    "duration": 28,
    "start_time": "2023-08-06T08:04:51.471Z"
   },
   {
    "duration": 18,
    "start_time": "2023-08-06T08:05:20.622Z"
   },
   {
    "duration": 19,
    "start_time": "2023-08-06T08:05:46.330Z"
   },
   {
    "duration": 7,
    "start_time": "2023-08-06T08:07:31.299Z"
   },
   {
    "duration": 29,
    "start_time": "2023-08-06T08:08:08.905Z"
   },
   {
    "duration": 28,
    "start_time": "2023-08-06T08:08:45.328Z"
   },
   {
    "duration": 29,
    "start_time": "2023-08-06T08:15:31.627Z"
   },
   {
    "duration": 10,
    "start_time": "2023-08-06T08:15:44.688Z"
   },
   {
    "duration": 33,
    "start_time": "2023-08-06T08:15:47.696Z"
   },
   {
    "duration": 8,
    "start_time": "2023-08-06T08:15:56.084Z"
   },
   {
    "duration": 20,
    "start_time": "2023-08-06T08:15:58.527Z"
   },
   {
    "duration": 5,
    "start_time": "2023-08-06T08:18:08.146Z"
   },
   {
    "duration": 15,
    "start_time": "2023-08-06T08:18:10.587Z"
   },
   {
    "duration": 26,
    "start_time": "2023-08-06T08:18:37.524Z"
   },
   {
    "duration": 65,
    "start_time": "2023-08-06T08:20:12.493Z"
   },
   {
    "duration": 67,
    "start_time": "2023-08-06T08:21:47.151Z"
   },
   {
    "duration": 63,
    "start_time": "2023-08-06T08:22:11.542Z"
   },
   {
    "duration": 67,
    "start_time": "2023-08-06T08:22:25.039Z"
   },
   {
    "duration": 1147,
    "start_time": "2023-08-06T08:25:10.350Z"
   },
   {
    "duration": 647,
    "start_time": "2023-08-06T08:25:11.499Z"
   },
   {
    "duration": 3,
    "start_time": "2023-08-06T08:25:12.148Z"
   },
   {
    "duration": 72,
    "start_time": "2023-08-06T08:25:12.153Z"
   },
   {
    "duration": 3,
    "start_time": "2023-08-06T08:25:12.226Z"
   },
   {
    "duration": 10,
    "start_time": "2023-08-06T08:25:12.231Z"
   },
   {
    "duration": 3,
    "start_time": "2023-08-06T08:25:12.242Z"
   },
   {
    "duration": 85,
    "start_time": "2023-08-06T08:25:12.246Z"
   },
   {
    "duration": 127,
    "start_time": "2023-08-06T08:25:12.332Z"
   },
   {
    "duration": 37,
    "start_time": "2023-08-06T08:25:12.463Z"
   },
   {
    "duration": 37,
    "start_time": "2023-08-06T08:25:12.502Z"
   },
   {
    "duration": 100,
    "start_time": "2023-08-06T08:25:12.541Z"
   },
   {
    "duration": 21,
    "start_time": "2023-08-06T08:25:12.643Z"
   },
   {
    "duration": 18,
    "start_time": "2023-08-06T08:25:12.666Z"
   },
   {
    "duration": 45,
    "start_time": "2023-08-06T08:25:12.686Z"
   },
   {
    "duration": 62,
    "start_time": "2023-08-06T08:25:12.733Z"
   },
   {
    "duration": 13,
    "start_time": "2023-08-06T08:25:12.797Z"
   },
   {
    "duration": 8,
    "start_time": "2023-08-06T08:25:12.812Z"
   },
   {
    "duration": 62,
    "start_time": "2023-08-06T08:25:12.822Z"
   },
   {
    "duration": 14,
    "start_time": "2023-08-06T08:25:12.886Z"
   },
   {
    "duration": 14,
    "start_time": "2023-08-06T08:25:12.901Z"
   },
   {
    "duration": 20,
    "start_time": "2023-08-06T08:25:12.917Z"
   },
   {
    "duration": 55,
    "start_time": "2023-08-06T08:25:12.938Z"
   },
   {
    "duration": 9,
    "start_time": "2023-08-06T08:25:12.995Z"
   },
   {
    "duration": 299,
    "start_time": "2023-08-06T08:25:13.006Z"
   },
   {
    "duration": 417,
    "start_time": "2023-08-06T08:25:13.307Z"
   },
   {
    "duration": 48,
    "start_time": "2023-08-06T08:25:13.727Z"
   },
   {
    "duration": 21,
    "start_time": "2023-08-06T08:25:13.780Z"
   },
   {
    "duration": 5,
    "start_time": "2023-08-06T08:25:13.803Z"
   },
   {
    "duration": 13,
    "start_time": "2023-08-06T08:25:13.810Z"
   },
   {
    "duration": 18,
    "start_time": "2023-08-06T08:25:13.824Z"
   },
   {
    "duration": 187,
    "start_time": "2023-08-06T08:25:13.844Z"
   },
   {
    "duration": 15,
    "start_time": "2023-08-06T08:25:14.032Z"
   },
   {
    "duration": 170,
    "start_time": "2023-08-06T08:25:14.049Z"
   },
   {
    "duration": 194,
    "start_time": "2023-08-06T08:25:14.221Z"
   },
   {
    "duration": 241,
    "start_time": "2023-08-06T08:25:14.417Z"
   },
   {
    "duration": 174,
    "start_time": "2023-08-06T08:25:14.660Z"
   },
   {
    "duration": 230,
    "start_time": "2023-08-06T08:25:14.836Z"
   },
   {
    "duration": 29,
    "start_time": "2023-08-06T08:25:15.068Z"
   },
   {
    "duration": 11,
    "start_time": "2023-08-06T08:25:15.099Z"
   },
   {
    "duration": 63,
    "start_time": "2023-08-06T08:25:15.112Z"
   },
   {
    "duration": 332,
    "start_time": "2023-08-06T08:25:15.177Z"
   },
   {
    "duration": 1433,
    "start_time": "2023-08-06T08:25:15.511Z"
   },
   {
    "duration": 2,
    "start_time": "2023-08-06T08:25:16.946Z"
   },
   {
    "duration": 159,
    "start_time": "2023-08-06T08:25:16.950Z"
   },
   {
    "duration": 230,
    "start_time": "2023-08-06T08:25:17.111Z"
   },
   {
    "duration": 96,
    "start_time": "2023-08-06T08:25:17.343Z"
   },
   {
    "duration": 225,
    "start_time": "2023-08-06T08:25:17.440Z"
   },
   {
    "duration": 556,
    "start_time": "2023-08-06T08:25:17.668Z"
   },
   {
    "duration": 540,
    "start_time": "2023-08-06T08:25:18.226Z"
   },
   {
    "duration": 70,
    "start_time": "2023-08-06T08:25:18.768Z"
   },
   {
    "duration": 98,
    "start_time": "2023-08-06T08:25:18.840Z"
   },
   {
    "duration": 1839,
    "start_time": "2023-08-06T08:25:18.940Z"
   },
   {
    "duration": 13,
    "start_time": "2023-08-06T08:25:20.782Z"
   },
   {
    "duration": 23,
    "start_time": "2023-08-06T08:25:20.797Z"
   },
   {
    "duration": 18,
    "start_time": "2023-08-06T08:25:20.822Z"
   },
   {
    "duration": 257,
    "start_time": "2023-08-06T08:25:20.842Z"
   },
   {
    "duration": 14,
    "start_time": "2023-08-06T08:25:21.101Z"
   },
   {
    "duration": 4,
    "start_time": "2023-08-06T08:25:21.117Z"
   },
   {
    "duration": 472,
    "start_time": "2023-08-06T08:25:21.123Z"
   },
   {
    "duration": 362,
    "start_time": "2023-08-06T08:25:21.596Z"
   },
   {
    "duration": 15,
    "start_time": "2023-08-06T08:25:21.960Z"
   },
   {
    "duration": 56,
    "start_time": "2023-08-06T08:25:21.977Z"
   },
   {
    "duration": 211,
    "start_time": "2023-08-06T08:25:22.035Z"
   },
   {
    "duration": 178,
    "start_time": "2023-08-06T08:25:22.248Z"
   },
   {
    "duration": 83,
    "start_time": "2023-08-06T08:25:22.428Z"
   },
   {
    "duration": 6,
    "start_time": "2023-08-06T08:25:22.513Z"
   },
   {
    "duration": 23,
    "start_time": "2023-08-06T08:25:22.521Z"
   },
   {
    "duration": 77,
    "start_time": "2023-08-06T08:25:22.546Z"
   },
   {
    "duration": 1575,
    "start_time": "2023-08-07T16:11:08.778Z"
   },
   {
    "duration": 1166,
    "start_time": "2023-08-07T16:11:10.357Z"
   },
   {
    "duration": 3,
    "start_time": "2023-08-07T16:11:11.524Z"
   },
   {
    "duration": 79,
    "start_time": "2023-08-07T16:11:11.529Z"
   },
   {
    "duration": 4,
    "start_time": "2023-08-07T16:11:11.610Z"
   },
   {
    "duration": 18,
    "start_time": "2023-08-07T16:11:11.615Z"
   },
   {
    "duration": 7,
    "start_time": "2023-08-07T16:11:11.659Z"
   },
   {
    "duration": 104,
    "start_time": "2023-08-07T16:11:11.668Z"
   },
   {
    "duration": 200,
    "start_time": "2023-08-07T16:11:11.776Z"
   },
   {
    "duration": 39,
    "start_time": "2023-08-07T16:11:11.979Z"
   },
   {
    "duration": 56,
    "start_time": "2023-08-07T16:11:12.020Z"
   },
   {
    "duration": 97,
    "start_time": "2023-08-07T16:11:12.077Z"
   },
   {
    "duration": 31,
    "start_time": "2023-08-07T16:11:12.176Z"
   },
   {
    "duration": 20,
    "start_time": "2023-08-07T16:11:12.209Z"
   },
   {
    "duration": 37,
    "start_time": "2023-08-07T16:11:12.231Z"
   },
   {
    "duration": 39,
    "start_time": "2023-08-07T16:11:12.269Z"
   },
   {
    "duration": 16,
    "start_time": "2023-08-07T16:11:12.310Z"
   },
   {
    "duration": 9,
    "start_time": "2023-08-07T16:11:12.328Z"
   },
   {
    "duration": 46,
    "start_time": "2023-08-07T16:11:12.363Z"
   },
   {
    "duration": 22,
    "start_time": "2023-08-07T16:11:12.411Z"
   },
   {
    "duration": 22,
    "start_time": "2023-08-07T16:11:12.435Z"
   },
   {
    "duration": 25,
    "start_time": "2023-08-07T16:11:12.459Z"
   },
   {
    "duration": 47,
    "start_time": "2023-08-07T16:11:12.486Z"
   },
   {
    "duration": 31,
    "start_time": "2023-08-07T16:11:12.534Z"
   },
   {
    "duration": 397,
    "start_time": "2023-08-07T16:11:12.567Z"
   },
   {
    "duration": 432,
    "start_time": "2023-08-07T16:11:12.970Z"
   },
   {
    "duration": 39,
    "start_time": "2023-08-07T16:11:13.404Z"
   },
   {
    "duration": 38,
    "start_time": "2023-08-07T16:11:13.447Z"
   },
   {
    "duration": 6,
    "start_time": "2023-08-07T16:11:13.486Z"
   },
   {
    "duration": 16,
    "start_time": "2023-08-07T16:11:13.494Z"
   },
   {
    "duration": 12,
    "start_time": "2023-08-07T16:11:13.513Z"
   },
   {
    "duration": 171,
    "start_time": "2023-08-07T16:11:13.527Z"
   },
   {
    "duration": 16,
    "start_time": "2023-08-07T16:11:13.700Z"
   },
   {
    "duration": 199,
    "start_time": "2023-08-07T16:11:13.718Z"
   },
   {
    "duration": 221,
    "start_time": "2023-08-07T16:11:13.919Z"
   },
   {
    "duration": 276,
    "start_time": "2023-08-07T16:11:14.143Z"
   },
   {
    "duration": 229,
    "start_time": "2023-08-07T16:11:14.421Z"
   },
   {
    "duration": 321,
    "start_time": "2023-08-07T16:11:14.658Z"
   },
   {
    "duration": 28,
    "start_time": "2023-08-07T16:11:14.981Z"
   },
   {
    "duration": 11,
    "start_time": "2023-08-07T16:11:15.011Z"
   },
   {
    "duration": 85,
    "start_time": "2023-08-07T16:11:15.024Z"
   },
   {
    "duration": 363,
    "start_time": "2023-08-07T16:11:15.111Z"
   },
   {
    "duration": 1438,
    "start_time": "2023-08-07T16:11:15.476Z"
   },
   {
    "duration": 2,
    "start_time": "2023-08-07T16:11:16.916Z"
   },
   {
    "duration": 172,
    "start_time": "2023-08-07T16:11:16.920Z"
   },
   {
    "duration": 287,
    "start_time": "2023-08-07T16:11:17.094Z"
   },
   {
    "duration": 124,
    "start_time": "2023-08-07T16:11:17.383Z"
   },
   {
    "duration": 232,
    "start_time": "2023-08-07T16:11:17.509Z"
   },
   {
    "duration": 622,
    "start_time": "2023-08-07T16:11:17.743Z"
   },
   {
    "duration": 668,
    "start_time": "2023-08-07T16:11:18.372Z"
   },
   {
    "duration": 113,
    "start_time": "2023-08-07T16:11:19.042Z"
   },
   {
    "duration": 112,
    "start_time": "2023-08-07T16:11:19.158Z"
   },
   {
    "duration": 1860,
    "start_time": "2023-08-07T16:11:19.272Z"
   },
   {
    "duration": 24,
    "start_time": "2023-08-07T16:11:21.135Z"
   },
   {
    "duration": 6,
    "start_time": "2023-08-07T16:11:21.161Z"
   },
   {
    "duration": 21,
    "start_time": "2023-08-07T16:11:21.169Z"
   },
   {
    "duration": 283,
    "start_time": "2023-08-07T16:11:21.192Z"
   },
   {
    "duration": 13,
    "start_time": "2023-08-07T16:11:21.477Z"
   },
   {
    "duration": 25,
    "start_time": "2023-08-07T16:11:21.491Z"
   },
   {
    "duration": 449,
    "start_time": "2023-08-07T16:11:21.518Z"
   },
   {
    "duration": 341,
    "start_time": "2023-08-07T16:11:21.969Z"
   },
   {
    "duration": 11,
    "start_time": "2023-08-07T16:11:22.312Z"
   },
   {
    "duration": 73,
    "start_time": "2023-08-07T16:11:22.324Z"
   },
   {
    "duration": 209,
    "start_time": "2023-08-07T16:11:22.398Z"
   },
   {
    "duration": 178,
    "start_time": "2023-08-07T16:11:22.609Z"
   },
   {
    "duration": 113,
    "start_time": "2023-08-07T16:11:22.789Z"
   },
   {
    "duration": 7,
    "start_time": "2023-08-07T16:11:22.904Z"
   },
   {
    "duration": 60,
    "start_time": "2023-08-07T16:11:22.912Z"
   },
   {
    "duration": 98,
    "start_time": "2023-08-07T16:11:22.974Z"
   },
   {
    "duration": 9,
    "start_time": "2023-08-07T16:38:21.075Z"
   }
  ],
  "kernelspec": {
   "display_name": "Python 3 (ipykernel)",
   "language": "python",
   "name": "python3"
  },
  "language_info": {
   "codemirror_mode": {
    "name": "ipython",
    "version": 3
   },
   "file_extension": ".py",
   "mimetype": "text/x-python",
   "name": "python",
   "nbconvert_exporter": "python",
   "pygments_lexer": "ipython3",
   "version": "3.9.12"
  },
  "toc": {
   "base_numbering": 1,
   "nav_menu": {},
   "number_sections": true,
   "sideBar": true,
   "skip_h1_title": true,
   "title_cell": "Table of Contents",
   "title_sidebar": "Contents",
   "toc_cell": false,
   "toc_position": {
    "height": "calc(100% - 180px)",
    "left": "10px",
    "top": "150px",
    "width": "347.246px"
   },
   "toc_section_display": true,
   "toc_window_display": false
  }
 },
 "nbformat": 4,
 "nbformat_minor": 2
}
