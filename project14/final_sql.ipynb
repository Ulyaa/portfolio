{
 "cells": [
  {
   "cell_type": "markdown",
   "metadata": {},
   "source": [
    "## Проект по SQL"
   ]
  },
  {
   "cell_type": "markdown",
   "metadata": {},
   "source": [
    "**Описание проекта**\n",
    "\n",
    "\n",
    "Коронавирус застал мир врасплох, изменив привычный порядок вещей. В свободное время жители городов больше не выходят на улицу, не посещают кафе и торговые центры. Зато стало больше времени для книг. Это заметили стартаперы — и бросились создавать приложения для тех, кто любит читать.\n",
    "\n",
    "\n",
    "Ваша компания решила быть на волне и купила крупный сервис для чтения книг по подписке. Ваша первая задача как аналитика — проанализировать базу данных.\n",
    "В ней — информация о книгах, издательствах, авторах, а также пользовательские обзоры книг. Эти данные помогут сформулировать ценностное предложение для нового продукта.\n"
   ]
  },
  {
   "cell_type": "markdown",
   "metadata": {},
   "source": [
    "Таблица `books` - Содержит данные о книгах:\n",
    "- book_id — идентификатор книги;\n",
    "- author_id — идентификатор автора;\n",
    "- title — название книги;\n",
    "- num_pages — количество страниц;\n",
    "- publication_date — дата публикации книги;\n",
    "- publisher_id — идентификатор издателя.\n",
    "\n",
    "\n",
    "Таблица `authors` - Содержит данные об авторах:\n",
    "- author_id — идентификатор автора;\n",
    "- author — имя автора.\n",
    "\n",
    "Таблица `publishers` - Содержит данные об издательствах:\n",
    "- publisher_id — идентификатор издательства;\n",
    "- publisher — название издательства;\n",
    "\n",
    "Таблица `ratings` - Содержит данные о пользовательских оценках книг:\n",
    "- rating_id — идентификатор оценки;\n",
    "- book_id — идентификатор книги;\n",
    "- username — имя пользователя, оставившего оценку;\n",
    "- rating — оценка книги.\n",
    "\n",
    "Таблица `reviews` - Содержит данные о пользовательских обзорах на книги:\n",
    "- review_id — идентификатор обзора;\n",
    "- book_id — идентификатор книги;\n",
    "- username — имя пользователя, написавшего обзор;\n",
    "- text — текст обзора.\n"
   ]
  },
  {
   "cell_type": "code",
   "execution_count": 1,
   "metadata": {},
   "outputs": [],
   "source": [
    "# импортируем библиотеки\n",
    "import pandas as pd\n",
    "from sqlalchemy import text, create_engine"
   ]
  },
  {
   "cell_type": "code",
   "execution_count": 2,
   "metadata": {},
   "outputs": [],
   "source": [
    "# устанавливаем параметры\n",
    "\n",
    "db_config = {'user': 'praktikum_student', # имя пользователя\n",
    "'pwd': 'Sdf4$2;d-d30pp', # пароль\n",
    "'host': 'rc1b-wcoijxj3yxfsf3fs.mdb.yandexcloud.net',\n",
    "'port': 6432, # порт подключения\n",
    "'db': 'data-analyst-final-project-db'} # название базы данных\n",
    "connection_string = 'postgresql://{user}:{pwd}@{host}:{port}/{db}'.format(**db_config)\n",
    "# сохраняем коннектор\n",
    "engine = create_engine(connection_string, connect_args={'sslmode':'require'})\n",
    "# чтобы выполнить SQL-запрос, используем Pandas"
   ]
  },
  {
   "cell_type": "code",
   "execution_count": 3,
   "metadata": {},
   "outputs": [
    {
     "data": {
      "text/html": [
       "<div>\n",
       "<style scoped>\n",
       "    .dataframe tbody tr th:only-of-type {\n",
       "        vertical-align: middle;\n",
       "    }\n",
       "\n",
       "    .dataframe tbody tr th {\n",
       "        vertical-align: top;\n",
       "    }\n",
       "\n",
       "    .dataframe thead th {\n",
       "        text-align: right;\n",
       "    }\n",
       "</style>\n",
       "<table border=\"1\" class=\"dataframe\">\n",
       "  <thead>\n",
       "    <tr style=\"text-align: right;\">\n",
       "      <th></th>\n",
       "      <th>book_id</th>\n",
       "      <th>author_id</th>\n",
       "      <th>title</th>\n",
       "      <th>num_pages</th>\n",
       "      <th>publication_date</th>\n",
       "      <th>publisher_id</th>\n",
       "    </tr>\n",
       "  </thead>\n",
       "  <tbody>\n",
       "    <tr>\n",
       "      <th>0</th>\n",
       "      <td>1</td>\n",
       "      <td>546</td>\n",
       "      <td>'Salem's Lot</td>\n",
       "      <td>594</td>\n",
       "      <td>2005-11-01</td>\n",
       "      <td>93</td>\n",
       "    </tr>\n",
       "    <tr>\n",
       "      <th>1</th>\n",
       "      <td>2</td>\n",
       "      <td>465</td>\n",
       "      <td>1 000 Places to See Before You Die</td>\n",
       "      <td>992</td>\n",
       "      <td>2003-05-22</td>\n",
       "      <td>336</td>\n",
       "    </tr>\n",
       "    <tr>\n",
       "      <th>2</th>\n",
       "      <td>3</td>\n",
       "      <td>407</td>\n",
       "      <td>13 Little Blue Envelopes (Little Blue Envelope...</td>\n",
       "      <td>322</td>\n",
       "      <td>2010-12-21</td>\n",
       "      <td>135</td>\n",
       "    </tr>\n",
       "    <tr>\n",
       "      <th>3</th>\n",
       "      <td>4</td>\n",
       "      <td>82</td>\n",
       "      <td>1491: New Revelations of the Americas Before C...</td>\n",
       "      <td>541</td>\n",
       "      <td>2006-10-10</td>\n",
       "      <td>309</td>\n",
       "    </tr>\n",
       "    <tr>\n",
       "      <th>4</th>\n",
       "      <td>5</td>\n",
       "      <td>125</td>\n",
       "      <td>1776</td>\n",
       "      <td>386</td>\n",
       "      <td>2006-07-04</td>\n",
       "      <td>268</td>\n",
       "    </tr>\n",
       "  </tbody>\n",
       "</table>\n",
       "</div>"
      ],
      "text/plain": [
       "   book_id  author_id                                              title  \\\n",
       "0        1        546                                       'Salem's Lot   \n",
       "1        2        465                 1 000 Places to See Before You Die   \n",
       "2        3        407  13 Little Blue Envelopes (Little Blue Envelope...   \n",
       "3        4         82  1491: New Revelations of the Americas Before C...   \n",
       "4        5        125                                               1776   \n",
       "\n",
       "   num_pages publication_date  publisher_id  \n",
       "0        594       2005-11-01            93  \n",
       "1        992       2003-05-22           336  \n",
       "2        322       2010-12-21           135  \n",
       "3        541       2006-10-10           309  \n",
       "4        386       2006-07-04           268  "
      ]
     },
     "metadata": {},
     "output_type": "display_data"
    },
    {
     "data": {
      "text/html": [
       "<div>\n",
       "<style scoped>\n",
       "    .dataframe tbody tr th:only-of-type {\n",
       "        vertical-align: middle;\n",
       "    }\n",
       "\n",
       "    .dataframe tbody tr th {\n",
       "        vertical-align: top;\n",
       "    }\n",
       "\n",
       "    .dataframe thead th {\n",
       "        text-align: right;\n",
       "    }\n",
       "</style>\n",
       "<table border=\"1\" class=\"dataframe\">\n",
       "  <thead>\n",
       "    <tr style=\"text-align: right;\">\n",
       "      <th></th>\n",
       "      <th>author_id</th>\n",
       "      <th>author</th>\n",
       "    </tr>\n",
       "  </thead>\n",
       "  <tbody>\n",
       "    <tr>\n",
       "      <th>0</th>\n",
       "      <td>1</td>\n",
       "      <td>A.S. Byatt</td>\n",
       "    </tr>\n",
       "    <tr>\n",
       "      <th>1</th>\n",
       "      <td>2</td>\n",
       "      <td>Aesop/Laura Harris/Laura Gibbs</td>\n",
       "    </tr>\n",
       "    <tr>\n",
       "      <th>2</th>\n",
       "      <td>3</td>\n",
       "      <td>Agatha Christie</td>\n",
       "    </tr>\n",
       "    <tr>\n",
       "      <th>3</th>\n",
       "      <td>4</td>\n",
       "      <td>Alan Brennert</td>\n",
       "    </tr>\n",
       "    <tr>\n",
       "      <th>4</th>\n",
       "      <td>5</td>\n",
       "      <td>Alan Moore/David   Lloyd</td>\n",
       "    </tr>\n",
       "  </tbody>\n",
       "</table>\n",
       "</div>"
      ],
      "text/plain": [
       "   author_id                          author\n",
       "0          1                      A.S. Byatt\n",
       "1          2  Aesop/Laura Harris/Laura Gibbs\n",
       "2          3                 Agatha Christie\n",
       "3          4                   Alan Brennert\n",
       "4          5        Alan Moore/David   Lloyd"
      ]
     },
     "metadata": {},
     "output_type": "display_data"
    },
    {
     "data": {
      "text/html": [
       "<div>\n",
       "<style scoped>\n",
       "    .dataframe tbody tr th:only-of-type {\n",
       "        vertical-align: middle;\n",
       "    }\n",
       "\n",
       "    .dataframe tbody tr th {\n",
       "        vertical-align: top;\n",
       "    }\n",
       "\n",
       "    .dataframe thead th {\n",
       "        text-align: right;\n",
       "    }\n",
       "</style>\n",
       "<table border=\"1\" class=\"dataframe\">\n",
       "  <thead>\n",
       "    <tr style=\"text-align: right;\">\n",
       "      <th></th>\n",
       "      <th>publisher_id</th>\n",
       "      <th>publisher</th>\n",
       "    </tr>\n",
       "  </thead>\n",
       "  <tbody>\n",
       "    <tr>\n",
       "      <th>0</th>\n",
       "      <td>1</td>\n",
       "      <td>Ace</td>\n",
       "    </tr>\n",
       "    <tr>\n",
       "      <th>1</th>\n",
       "      <td>2</td>\n",
       "      <td>Ace Book</td>\n",
       "    </tr>\n",
       "    <tr>\n",
       "      <th>2</th>\n",
       "      <td>3</td>\n",
       "      <td>Ace Books</td>\n",
       "    </tr>\n",
       "    <tr>\n",
       "      <th>3</th>\n",
       "      <td>4</td>\n",
       "      <td>Ace Hardcover</td>\n",
       "    </tr>\n",
       "    <tr>\n",
       "      <th>4</th>\n",
       "      <td>5</td>\n",
       "      <td>Addison Wesley Publishing Company</td>\n",
       "    </tr>\n",
       "  </tbody>\n",
       "</table>\n",
       "</div>"
      ],
      "text/plain": [
       "   publisher_id                          publisher\n",
       "0             1                                Ace\n",
       "1             2                           Ace Book\n",
       "2             3                          Ace Books\n",
       "3             4                      Ace Hardcover\n",
       "4             5  Addison Wesley Publishing Company"
      ]
     },
     "metadata": {},
     "output_type": "display_data"
    },
    {
     "data": {
      "text/html": [
       "<div>\n",
       "<style scoped>\n",
       "    .dataframe tbody tr th:only-of-type {\n",
       "        vertical-align: middle;\n",
       "    }\n",
       "\n",
       "    .dataframe tbody tr th {\n",
       "        vertical-align: top;\n",
       "    }\n",
       "\n",
       "    .dataframe thead th {\n",
       "        text-align: right;\n",
       "    }\n",
       "</style>\n",
       "<table border=\"1\" class=\"dataframe\">\n",
       "  <thead>\n",
       "    <tr style=\"text-align: right;\">\n",
       "      <th></th>\n",
       "      <th>rating_id</th>\n",
       "      <th>book_id</th>\n",
       "      <th>username</th>\n",
       "      <th>rating</th>\n",
       "    </tr>\n",
       "  </thead>\n",
       "  <tbody>\n",
       "    <tr>\n",
       "      <th>0</th>\n",
       "      <td>1</td>\n",
       "      <td>1</td>\n",
       "      <td>ryanfranco</td>\n",
       "      <td>4</td>\n",
       "    </tr>\n",
       "    <tr>\n",
       "      <th>1</th>\n",
       "      <td>2</td>\n",
       "      <td>1</td>\n",
       "      <td>grantpatricia</td>\n",
       "      <td>2</td>\n",
       "    </tr>\n",
       "    <tr>\n",
       "      <th>2</th>\n",
       "      <td>3</td>\n",
       "      <td>1</td>\n",
       "      <td>brandtandrea</td>\n",
       "      <td>5</td>\n",
       "    </tr>\n",
       "    <tr>\n",
       "      <th>3</th>\n",
       "      <td>4</td>\n",
       "      <td>2</td>\n",
       "      <td>lorichen</td>\n",
       "      <td>3</td>\n",
       "    </tr>\n",
       "    <tr>\n",
       "      <th>4</th>\n",
       "      <td>5</td>\n",
       "      <td>2</td>\n",
       "      <td>mariokeller</td>\n",
       "      <td>2</td>\n",
       "    </tr>\n",
       "  </tbody>\n",
       "</table>\n",
       "</div>"
      ],
      "text/plain": [
       "   rating_id  book_id       username  rating\n",
       "0          1        1     ryanfranco       4\n",
       "1          2        1  grantpatricia       2\n",
       "2          3        1   brandtandrea       5\n",
       "3          4        2       lorichen       3\n",
       "4          5        2    mariokeller       2"
      ]
     },
     "metadata": {},
     "output_type": "display_data"
    },
    {
     "data": {
      "text/html": [
       "<div>\n",
       "<style scoped>\n",
       "    .dataframe tbody tr th:only-of-type {\n",
       "        vertical-align: middle;\n",
       "    }\n",
       "\n",
       "    .dataframe tbody tr th {\n",
       "        vertical-align: top;\n",
       "    }\n",
       "\n",
       "    .dataframe thead th {\n",
       "        text-align: right;\n",
       "    }\n",
       "</style>\n",
       "<table border=\"1\" class=\"dataframe\">\n",
       "  <thead>\n",
       "    <tr style=\"text-align: right;\">\n",
       "      <th></th>\n",
       "      <th>review_id</th>\n",
       "      <th>book_id</th>\n",
       "      <th>username</th>\n",
       "      <th>text</th>\n",
       "    </tr>\n",
       "  </thead>\n",
       "  <tbody>\n",
       "    <tr>\n",
       "      <th>0</th>\n",
       "      <td>1</td>\n",
       "      <td>1</td>\n",
       "      <td>brandtandrea</td>\n",
       "      <td>Mention society tell send professor analysis. ...</td>\n",
       "    </tr>\n",
       "    <tr>\n",
       "      <th>1</th>\n",
       "      <td>2</td>\n",
       "      <td>1</td>\n",
       "      <td>ryanfranco</td>\n",
       "      <td>Foot glass pretty audience hit themselves. Amo...</td>\n",
       "    </tr>\n",
       "    <tr>\n",
       "      <th>2</th>\n",
       "      <td>3</td>\n",
       "      <td>2</td>\n",
       "      <td>lorichen</td>\n",
       "      <td>Listen treat keep worry. Miss husband tax but ...</td>\n",
       "    </tr>\n",
       "    <tr>\n",
       "      <th>3</th>\n",
       "      <td>4</td>\n",
       "      <td>3</td>\n",
       "      <td>johnsonamanda</td>\n",
       "      <td>Finally month interesting blue could nature cu...</td>\n",
       "    </tr>\n",
       "    <tr>\n",
       "      <th>4</th>\n",
       "      <td>5</td>\n",
       "      <td>3</td>\n",
       "      <td>scotttamara</td>\n",
       "      <td>Nation purpose heavy give wait song will. List...</td>\n",
       "    </tr>\n",
       "  </tbody>\n",
       "</table>\n",
       "</div>"
      ],
      "text/plain": [
       "   review_id  book_id       username  \\\n",
       "0          1        1   brandtandrea   \n",
       "1          2        1     ryanfranco   \n",
       "2          3        2       lorichen   \n",
       "3          4        3  johnsonamanda   \n",
       "4          5        3    scotttamara   \n",
       "\n",
       "                                                text  \n",
       "0  Mention society tell send professor analysis. ...  \n",
       "1  Foot glass pretty audience hit themselves. Amo...  \n",
       "2  Listen treat keep worry. Miss husband tax but ...  \n",
       "3  Finally month interesting blue could nature cu...  \n",
       "4  Nation purpose heavy give wait song will. List...  "
      ]
     },
     "metadata": {},
     "output_type": "display_data"
    }
   ],
   "source": [
    "def disp(value):\n",
    "    query = ('''SELECT * FROM {} LIMIT 5'''.format(value))\n",
    "    con=engine.connect()\n",
    "    display(pd.io.sql.read_sql(sql=text(query), con = con))\n",
    "    return pd.io.sql.read_sql(sql=text(query), con = con)\n",
    "\n",
    "books = disp('books')\n",
    "authors = disp('authors')\n",
    "publishers = disp('publishers')\n",
    "ratings = disp('ratings')\n",
    "reviews = disp('reviews')"
   ]
  },
  {
   "cell_type": "markdown",
   "metadata": {},
   "source": [
    "\n",
    "### Задание 1. Посчитайте, сколько книг вышло после 1 января 2000 года;"
   ]
  },
  {
   "cell_type": "code",
   "execution_count": 4,
   "metadata": {},
   "outputs": [
    {
     "data": {
      "text/html": [
       "<div>\n",
       "<style scoped>\n",
       "    .dataframe tbody tr th:only-of-type {\n",
       "        vertical-align: middle;\n",
       "    }\n",
       "\n",
       "    .dataframe tbody tr th {\n",
       "        vertical-align: top;\n",
       "    }\n",
       "\n",
       "    .dataframe thead th {\n",
       "        text-align: right;\n",
       "    }\n",
       "</style>\n",
       "<table border=\"1\" class=\"dataframe\">\n",
       "  <thead>\n",
       "    <tr style=\"text-align: right;\">\n",
       "      <th></th>\n",
       "      <th>count</th>\n",
       "    </tr>\n",
       "  </thead>\n",
       "  <tbody>\n",
       "    <tr>\n",
       "      <th>0</th>\n",
       "      <td>819</td>\n",
       "    </tr>\n",
       "  </tbody>\n",
       "</table>\n",
       "</div>"
      ],
      "text/plain": [
       "   count\n",
       "0    819"
      ]
     },
     "execution_count": 4,
     "metadata": {},
     "output_type": "execute_result"
    }
   ],
   "source": [
    "query = '''\n",
    "\n",
    "SELECT COUNT( book_id )\n",
    "\n",
    "FROM books\n",
    "WHERE publication_date > '2000-01-01'\n",
    "\n",
    "'''\n",
    "\n",
    "post_view_sum = pd.read_sql_query(query, con=engine) \n",
    "post_view_sum"
   ]
  },
  {
   "cell_type": "markdown",
   "metadata": {},
   "source": [
    "### Задание 2. Для каждой книги посчитайте количество обзоров и среднюю оценку;"
   ]
  },
  {
   "cell_type": "code",
   "execution_count": 5,
   "metadata": {
    "scrolled": false
   },
   "outputs": [
    {
     "data": {
      "text/html": [
       "<div>\n",
       "<style scoped>\n",
       "    .dataframe tbody tr th:only-of-type {\n",
       "        vertical-align: middle;\n",
       "    }\n",
       "\n",
       "    .dataframe tbody tr th {\n",
       "        vertical-align: top;\n",
       "    }\n",
       "\n",
       "    .dataframe thead th {\n",
       "        text-align: right;\n",
       "    }\n",
       "</style>\n",
       "<table border=\"1\" class=\"dataframe\">\n",
       "  <thead>\n",
       "    <tr style=\"text-align: right;\">\n",
       "      <th></th>\n",
       "      <th>title</th>\n",
       "      <th>average_rating</th>\n",
       "      <th>review_count</th>\n",
       "    </tr>\n",
       "  </thead>\n",
       "  <tbody>\n",
       "    <tr>\n",
       "      <th>0</th>\n",
       "      <td>Twilight (Twilight  #1)</td>\n",
       "      <td>3.662500</td>\n",
       "      <td>7.0</td>\n",
       "    </tr>\n",
       "    <tr>\n",
       "      <th>1</th>\n",
       "      <td>Water for Elephants</td>\n",
       "      <td>3.977273</td>\n",
       "      <td>6.0</td>\n",
       "    </tr>\n",
       "    <tr>\n",
       "      <th>2</th>\n",
       "      <td>The Glass Castle</td>\n",
       "      <td>4.206897</td>\n",
       "      <td>6.0</td>\n",
       "    </tr>\n",
       "    <tr>\n",
       "      <th>3</th>\n",
       "      <td>Harry Potter and the Prisoner of Azkaban (Harr...</td>\n",
       "      <td>4.414634</td>\n",
       "      <td>6.0</td>\n",
       "    </tr>\n",
       "    <tr>\n",
       "      <th>4</th>\n",
       "      <td>The Curious Incident of the Dog in the Night-Time</td>\n",
       "      <td>4.081081</td>\n",
       "      <td>6.0</td>\n",
       "    </tr>\n",
       "    <tr>\n",
       "      <th>...</th>\n",
       "      <td>...</td>\n",
       "      <td>...</td>\n",
       "      <td>...</td>\n",
       "    </tr>\n",
       "    <tr>\n",
       "      <th>995</th>\n",
       "      <td>Anne Rice's The Vampire Lestat: A Graphic Novel</td>\n",
       "      <td>3.666667</td>\n",
       "      <td>NaN</td>\n",
       "    </tr>\n",
       "    <tr>\n",
       "      <th>996</th>\n",
       "      <td>The Natural Way to Draw</td>\n",
       "      <td>3.000000</td>\n",
       "      <td>NaN</td>\n",
       "    </tr>\n",
       "    <tr>\n",
       "      <th>997</th>\n",
       "      <td>The Cat in the Hat and Other Dr. Seuss Favorites</td>\n",
       "      <td>5.000000</td>\n",
       "      <td>NaN</td>\n",
       "    </tr>\n",
       "    <tr>\n",
       "      <th>998</th>\n",
       "      <td>Essential Tales and Poems</td>\n",
       "      <td>4.000000</td>\n",
       "      <td>NaN</td>\n",
       "    </tr>\n",
       "    <tr>\n",
       "      <th>999</th>\n",
       "      <td>Disney's Beauty and the Beast (A Little Golden...</td>\n",
       "      <td>4.000000</td>\n",
       "      <td>NaN</td>\n",
       "    </tr>\n",
       "  </tbody>\n",
       "</table>\n",
       "<p>1000 rows × 3 columns</p>\n",
       "</div>"
      ],
      "text/plain": [
       "                                                 title  average_rating  \\\n",
       "0                              Twilight (Twilight  #1)        3.662500   \n",
       "1                                  Water for Elephants        3.977273   \n",
       "2                                     The Glass Castle        4.206897   \n",
       "3    Harry Potter and the Prisoner of Azkaban (Harr...        4.414634   \n",
       "4    The Curious Incident of the Dog in the Night-Time        4.081081   \n",
       "..                                                 ...             ...   \n",
       "995    Anne Rice's The Vampire Lestat: A Graphic Novel        3.666667   \n",
       "996                            The Natural Way to Draw        3.000000   \n",
       "997   The Cat in the Hat and Other Dr. Seuss Favorites        5.000000   \n",
       "998                          Essential Tales and Poems        4.000000   \n",
       "999  Disney's Beauty and the Beast (A Little Golden...        4.000000   \n",
       "\n",
       "     review_count  \n",
       "0             7.0  \n",
       "1             6.0  \n",
       "2             6.0  \n",
       "3             6.0  \n",
       "4             6.0  \n",
       "..            ...  \n",
       "995           NaN  \n",
       "996           NaN  \n",
       "997           NaN  \n",
       "998           NaN  \n",
       "999           NaN  \n",
       "\n",
       "[1000 rows x 3 columns]"
      ]
     },
     "execution_count": 5,
     "metadata": {},
     "output_type": "execute_result"
    }
   ],
   "source": [
    "\"\"\"\n",
    "query = '''\n",
    "    SELECT b.book_id,\n",
    "           COUNT(r.review_id) AS review_count,\n",
    "           AVG(rat.rating) AS average_rating\n",
    "\n",
    "    FROM books AS b JOIN\n",
    "         reviews AS r ON b.book_id = r.book_id JOIN\n",
    "         ratings AS rat ON b.book_id = rat.book_id\n",
    "    GROUP BY 1\n",
    "    ORDER BY 2 DESC\n",
    "\n",
    "'''\n",
    "\n",
    "post_view_sum = pd.read_sql_query(query, con=engine) \n",
    "post_view_sum\n",
    "\"\"\"\n",
    "\n",
    "#Предыдущий код закомментировала\n",
    "\n",
    "query = '''\n",
    "WITH tab1 AS(\n",
    "\n",
    "    SELECT book_id,\n",
    "           AVG(rating) AS average_rating\n",
    "    FROM ratings\n",
    "    GROUP BY 1\n",
    "    ),\n",
    "tab2 AS\n",
    "(\n",
    "    SELECT book_id,\n",
    "           COUNT(review_id) AS review_count\n",
    "    FROM reviews\n",
    "    GROUP BY 1\n",
    "    ORDER BY 2 DESC\n",
    ")\n",
    "\n",
    "SELECT b.title,\n",
    "       tab1.average_rating,\n",
    "       tab2.review_count\n",
    "FROM tab1 LEFT JOIN tab2 ON tab1.book_id = tab2.book_id JOIN\n",
    "books AS b ON b.book_id = tab1.book_id\n",
    "ORDER BY 3 DESC NULLS LAST \n",
    "'''\n",
    "\n",
    "post_view_sum = pd.read_sql_query(query, con=engine) \n",
    "post_view_sum"
   ]
  },
  {
   "cell_type": "markdown",
   "metadata": {},
   "source": [
    "### 3. Определите издательство, которое выпустило наибольшее число книг толще 50 страниц — так вы исключите из анализа брошюры;"
   ]
  },
  {
   "cell_type": "code",
   "execution_count": 6,
   "metadata": {},
   "outputs": [
    {
     "data": {
      "text/html": [
       "<div>\n",
       "<style scoped>\n",
       "    .dataframe tbody tr th:only-of-type {\n",
       "        vertical-align: middle;\n",
       "    }\n",
       "\n",
       "    .dataframe tbody tr th {\n",
       "        vertical-align: top;\n",
       "    }\n",
       "\n",
       "    .dataframe thead th {\n",
       "        text-align: right;\n",
       "    }\n",
       "</style>\n",
       "<table border=\"1\" class=\"dataframe\">\n",
       "  <thead>\n",
       "    <tr style=\"text-align: right;\">\n",
       "      <th></th>\n",
       "      <th>publisher</th>\n",
       "      <th>book_count</th>\n",
       "    </tr>\n",
       "  </thead>\n",
       "  <tbody>\n",
       "    <tr>\n",
       "      <th>0</th>\n",
       "      <td>Penguin Books</td>\n",
       "      <td>42</td>\n",
       "    </tr>\n",
       "  </tbody>\n",
       "</table>\n",
       "</div>"
      ],
      "text/plain": [
       "       publisher  book_count\n",
       "0  Penguin Books          42"
      ]
     },
     "execution_count": 6,
     "metadata": {},
     "output_type": "execute_result"
    }
   ],
   "source": [
    "query = '''\n",
    "WITH tab1 AS(\n",
    "                WITH tab AS(  \n",
    "                            SELECT *\n",
    "                            FROM books \n",
    "                            WHERE num_pages > 50\n",
    "                            )\n",
    "                SELECT publisher_id,\n",
    "                       COUNT(book_id) as book_count\n",
    "                FROM tab\n",
    "                GROUP BY publisher_id\n",
    "                ORDER BY 2 DESC\n",
    "                LIMIT 1\n",
    "    )       \n",
    "SELECT publisher,\n",
    "       book_count\n",
    "FROM tab1 INNER JOIN publishers ON tab1.publisher_id = publishers.publisher_id\n",
    "\n",
    "'''\n",
    "\n",
    "post_view_sum = pd.read_sql_query(query, con=engine) \n",
    "post_view_sum"
   ]
  },
  {
   "cell_type": "markdown",
   "metadata": {},
   "source": [
    "### 4. Определите автора с самой высокой средней оценкой книг — учитывайте только книги с 50 и более оценками;"
   ]
  },
  {
   "cell_type": "code",
   "execution_count": 7,
   "metadata": {},
   "outputs": [
    {
     "data": {
      "text/html": [
       "<div>\n",
       "<style scoped>\n",
       "    .dataframe tbody tr th:only-of-type {\n",
       "        vertical-align: middle;\n",
       "    }\n",
       "\n",
       "    .dataframe tbody tr th {\n",
       "        vertical-align: top;\n",
       "    }\n",
       "\n",
       "    .dataframe thead th {\n",
       "        text-align: right;\n",
       "    }\n",
       "</style>\n",
       "<table border=\"1\" class=\"dataframe\">\n",
       "  <thead>\n",
       "    <tr style=\"text-align: right;\">\n",
       "      <th></th>\n",
       "      <th>author_id</th>\n",
       "      <th>author</th>\n",
       "      <th>author_average_rating</th>\n",
       "    </tr>\n",
       "  </thead>\n",
       "  <tbody>\n",
       "    <tr>\n",
       "      <th>0</th>\n",
       "      <td>236</td>\n",
       "      <td>J.K. Rowling/Mary GrandPré</td>\n",
       "      <td>4.283844</td>\n",
       "    </tr>\n",
       "  </tbody>\n",
       "</table>\n",
       "</div>"
      ],
      "text/plain": [
       "   author_id                      author  author_average_rating\n",
       "0        236  J.K. Rowling/Mary GrandPré               4.283844"
      ]
     },
     "execution_count": 7,
     "metadata": {},
     "output_type": "execute_result"
    }
   ],
   "source": [
    "query = '''\n",
    "WITH tab1 AS(\n",
    "WITH tab AS(\n",
    "SELECT book_id,\n",
    "       AVG(rating) AS average_rating\n",
    "FROM ratings\n",
    "GROUP BY 1\n",
    "HAVING COUNT(rating) >= 50\n",
    ")\n",
    "SELECT b.author_id,\n",
    "       AVG(tab.average_rating) AS author_average_rating\n",
    "FROM tab JOIN books AS b ON b.book_id = tab.book_id\n",
    "GROUP BY 1\n",
    "ORDER BY 2 DESC\n",
    "LIMIT 1)\n",
    "SELECT tab1.author_id,\n",
    "       authors.author,\n",
    "       tab1.author_average_rating\n",
    "FROM tab1 INNER JOIN authors ON tab1.author_id = authors.author_id\n",
    "        \n",
    "'''\n",
    "\n",
    "post_view_sum = pd.read_sql_query(query, con=engine) \n",
    "post_view_sum"
   ]
  },
  {
   "cell_type": "markdown",
   "metadata": {},
   "source": [
    "### 5. Посчитайте среднее количество обзоров от пользователей, которые поставили больше 48 оценок.\n"
   ]
  },
  {
   "cell_type": "code",
   "execution_count": 8,
   "metadata": {},
   "outputs": [
    {
     "data": {
      "text/html": [
       "<div>\n",
       "<style scoped>\n",
       "    .dataframe tbody tr th:only-of-type {\n",
       "        vertical-align: middle;\n",
       "    }\n",
       "\n",
       "    .dataframe tbody tr th {\n",
       "        vertical-align: top;\n",
       "    }\n",
       "\n",
       "    .dataframe thead th {\n",
       "        text-align: right;\n",
       "    }\n",
       "</style>\n",
       "<table border=\"1\" class=\"dataframe\">\n",
       "  <thead>\n",
       "    <tr style=\"text-align: right;\">\n",
       "      <th></th>\n",
       "      <th>users_average_reviews_count</th>\n",
       "    </tr>\n",
       "  </thead>\n",
       "  <tbody>\n",
       "    <tr>\n",
       "      <th>0</th>\n",
       "      <td>24.0</td>\n",
       "    </tr>\n",
       "  </tbody>\n",
       "</table>\n",
       "</div>"
      ],
      "text/plain": [
       "   users_average_reviews_count\n",
       "0                         24.0"
      ]
     },
     "execution_count": 8,
     "metadata": {},
     "output_type": "execute_result"
    }
   ],
   "source": [
    "query = '''\n",
    "WITH tab1 AS\n",
    "        (WITH tab AS ( \n",
    "                SELECT username \n",
    "                FROM ratings\n",
    "                GROUP BY 1\n",
    "                HAVING COUNT(rating) > 48\n",
    "                )\n",
    "          SELECT tab.username,\n",
    "          COUNT(review_id) AS count_review\n",
    "FROM tab INNER JOIN reviews ON tab.username = reviews.username\n",
    "GROUP BY 1\n",
    ") \n",
    "SELECT AVG(count_review) AS users_average_reviews_count\n",
    "FROM tab1\n",
    "\n",
    "'''\n",
    "post_view_sum = pd.read_sql_query(query, con=engine) \n",
    "post_view_sum"
   ]
  }
 ],
 "metadata": {
  "ExecuteTimeLog": [
   {
    "duration": 59,
    "start_time": "2023-07-30T08:31:06.861Z"
   },
   {
    "duration": 13,
    "start_time": "2023-07-30T08:31:12.983Z"
   },
   {
    "duration": 460,
    "start_time": "2023-07-30T08:52:32.204Z"
   },
   {
    "duration": 29,
    "start_time": "2023-07-30T08:52:44.452Z"
   },
   {
    "duration": 3,
    "start_time": "2023-07-30T08:52:48.977Z"
   },
   {
    "duration": 61,
    "start_time": "2023-07-30T08:52:54.978Z"
   },
   {
    "duration": 420,
    "start_time": "2023-08-13T23:29:08.270Z"
   },
   {
    "duration": 7046,
    "start_time": "2023-08-13T23:29:09.130Z"
   },
   {
    "duration": 561,
    "start_time": "2023-08-13T23:29:16.178Z"
   },
   {
    "duration": 3,
    "start_time": "2023-08-13T23:31:41.006Z"
   },
   {
    "duration": 69,
    "start_time": "2023-08-13T23:33:58.448Z"
   },
   {
    "duration": 249,
    "start_time": "2023-08-13T23:34:20.260Z"
   },
   {
    "duration": 4,
    "start_time": "2023-08-13T23:34:40.490Z"
   },
   {
    "duration": 220,
    "start_time": "2023-08-13T23:34:46.914Z"
   },
   {
    "duration": 54,
    "start_time": "2023-08-13T23:35:03.515Z"
   },
   {
    "duration": 81,
    "start_time": "2023-08-13T23:35:51.256Z"
   },
   {
    "duration": 376,
    "start_time": "2023-08-13T23:39:14.851Z"
   },
   {
    "duration": 2,
    "start_time": "2023-08-13T23:50:47.198Z"
   },
   {
    "duration": 13,
    "start_time": "2023-08-13T23:50:47.202Z"
   },
   {
    "duration": 558,
    "start_time": "2023-08-13T23:50:47.217Z"
   },
   {
    "duration": 67,
    "start_time": "2023-08-13T23:50:47.777Z"
   },
   {
    "duration": 0,
    "start_time": "2023-08-13T23:50:47.846Z"
   },
   {
    "duration": 0,
    "start_time": "2023-08-13T23:50:47.846Z"
   },
   {
    "duration": 0,
    "start_time": "2023-08-13T23:50:47.847Z"
   },
   {
    "duration": 0,
    "start_time": "2023-08-13T23:50:47.848Z"
   },
   {
    "duration": 0,
    "start_time": "2023-08-13T23:50:47.849Z"
   },
   {
    "duration": 4,
    "start_time": "2023-08-13T23:51:17.805Z"
   },
   {
    "duration": 375,
    "start_time": "2023-08-13T23:53:08.313Z"
   },
   {
    "duration": 384,
    "start_time": "2023-08-13T23:53:30.362Z"
   },
   {
    "duration": 2,
    "start_time": "2023-08-13T23:53:40.438Z"
   },
   {
    "duration": 25,
    "start_time": "2023-08-13T23:53:40.442Z"
   },
   {
    "duration": 563,
    "start_time": "2023-08-13T23:53:40.551Z"
   },
   {
    "duration": 40,
    "start_time": "2023-08-13T23:53:41.116Z"
   },
   {
    "duration": 78,
    "start_time": "2023-08-13T23:53:41.158Z"
   },
   {
    "duration": 43,
    "start_time": "2023-08-13T23:53:41.238Z"
   },
   {
    "duration": 43,
    "start_time": "2023-08-13T23:53:41.284Z"
   },
   {
    "duration": 44,
    "start_time": "2023-08-13T23:53:41.329Z"
   },
   {
    "duration": 40,
    "start_time": "2023-08-14T00:05:20.748Z"
   },
   {
    "duration": 127,
    "start_time": "2023-08-14T00:07:25.439Z"
   },
   {
    "duration": 53,
    "start_time": "2023-08-14T00:07:46.991Z"
   },
   {
    "duration": 54,
    "start_time": "2023-08-14T00:08:01.278Z"
   },
   {
    "duration": 56,
    "start_time": "2023-08-14T00:08:41.653Z"
   },
   {
    "duration": 58,
    "start_time": "2023-08-14T00:08:45.925Z"
   },
   {
    "duration": 53,
    "start_time": "2023-08-14T00:09:48.368Z"
   },
   {
    "duration": 66,
    "start_time": "2023-08-14T00:10:49.039Z"
   },
   {
    "duration": 65,
    "start_time": "2023-08-14T00:13:19.847Z"
   },
   {
    "duration": 68,
    "start_time": "2023-08-14T00:13:32.634Z"
   },
   {
    "duration": 299,
    "start_time": "2023-08-14T00:18:46.946Z"
   },
   {
    "duration": 76,
    "start_time": "2023-08-14T00:18:56.653Z"
   },
   {
    "duration": 76,
    "start_time": "2023-08-14T00:19:07.640Z"
   },
   {
    "duration": 70,
    "start_time": "2023-08-14T00:20:04.288Z"
   },
   {
    "duration": 70,
    "start_time": "2023-08-14T00:20:27.438Z"
   },
   {
    "duration": 65,
    "start_time": "2023-08-14T00:21:44.541Z"
   },
   {
    "duration": 64,
    "start_time": "2023-08-14T00:21:57.016Z"
   },
   {
    "duration": 63,
    "start_time": "2023-08-14T00:22:05.462Z"
   },
   {
    "duration": 124,
    "start_time": "2023-08-14T00:22:36.564Z"
   },
   {
    "duration": 64,
    "start_time": "2023-08-14T00:22:47.429Z"
   },
   {
    "duration": 129,
    "start_time": "2023-08-14T00:23:49.597Z"
   },
   {
    "duration": 153,
    "start_time": "2023-08-14T00:24:16.704Z"
   },
   {
    "duration": 58,
    "start_time": "2023-08-14T00:25:03.830Z"
   },
   {
    "duration": 122,
    "start_time": "2023-08-14T00:30:04.686Z"
   },
   {
    "duration": 55,
    "start_time": "2023-08-14T00:41:35.413Z"
   },
   {
    "duration": 407,
    "start_time": "2023-08-14T00:43:02.566Z"
   },
   {
    "duration": 118,
    "start_time": "2023-08-14T00:43:10.414Z"
   },
   {
    "duration": 107,
    "start_time": "2023-08-14T00:43:20.842Z"
   },
   {
    "duration": 54,
    "start_time": "2023-08-14T00:43:29.298Z"
   },
   {
    "duration": 53,
    "start_time": "2023-08-14T00:43:41.203Z"
   },
   {
    "duration": 122,
    "start_time": "2023-08-14T00:47:42.431Z"
   },
   {
    "duration": 729,
    "start_time": "2023-08-14T00:48:05.612Z"
   },
   {
    "duration": 113,
    "start_time": "2023-08-14T00:48:53.848Z"
   },
   {
    "duration": 4206,
    "start_time": "2023-08-14T00:49:07.530Z"
   },
   {
    "duration": 142,
    "start_time": "2023-08-14T00:49:50.258Z"
   },
   {
    "duration": 123,
    "start_time": "2023-08-14T00:50:00.223Z"
   },
   {
    "duration": 3932,
    "start_time": "2023-08-14T00:50:06.968Z"
   },
   {
    "duration": 3521,
    "start_time": "2023-08-14T00:50:20.639Z"
   },
   {
    "duration": 56,
    "start_time": "2023-08-14T00:52:25.040Z"
   },
   {
    "duration": 54,
    "start_time": "2023-08-14T00:52:29.785Z"
   },
   {
    "duration": 3259,
    "start_time": "2023-08-14T00:53:21.795Z"
   },
   {
    "duration": 1136,
    "start_time": "2023-08-14T00:53:43.735Z"
   },
   {
    "duration": 3410,
    "start_time": "2023-08-14T00:54:14.891Z"
   },
   {
    "duration": 3648,
    "start_time": "2023-08-14T00:54:37.975Z"
   },
   {
    "duration": 59,
    "start_time": "2023-08-14T00:58:23.669Z"
   },
   {
    "duration": 60,
    "start_time": "2023-08-14T00:58:34.820Z"
   },
   {
    "duration": 59,
    "start_time": "2023-08-14T00:58:49.053Z"
   },
   {
    "duration": 59,
    "start_time": "2023-08-14T00:59:12.322Z"
   },
   {
    "duration": 63,
    "start_time": "2023-08-14T00:59:23.914Z"
   },
   {
    "duration": 113,
    "start_time": "2023-08-14T01:08:02.488Z"
   },
   {
    "duration": 61,
    "start_time": "2023-08-14T01:09:46.279Z"
   },
   {
    "duration": 62,
    "start_time": "2023-08-14T01:10:58.762Z"
   },
   {
    "duration": 73,
    "start_time": "2023-08-14T01:12:18.670Z"
   },
   {
    "duration": 111,
    "start_time": "2023-08-14T01:12:56.600Z"
   },
   {
    "duration": 73,
    "start_time": "2023-08-14T01:13:00.395Z"
   },
   {
    "duration": 73,
    "start_time": "2023-08-14T01:13:06.286Z"
   },
   {
    "duration": 124,
    "start_time": "2023-08-14T01:13:52.384Z"
   },
   {
    "duration": 120,
    "start_time": "2023-08-14T01:13:59.381Z"
   },
   {
    "duration": 73,
    "start_time": "2023-08-14T01:14:09.237Z"
   },
   {
    "duration": 72,
    "start_time": "2023-08-14T01:14:25.532Z"
   },
   {
    "duration": 73,
    "start_time": "2023-08-14T01:14:33.103Z"
   },
   {
    "duration": 72,
    "start_time": "2023-08-14T01:15:28.876Z"
   },
   {
    "duration": 41,
    "start_time": "2023-08-14T01:17:20.512Z"
   },
   {
    "duration": 73,
    "start_time": "2023-08-14T01:19:41.200Z"
   },
   {
    "duration": 468,
    "start_time": "2023-08-14T01:20:31.417Z"
   },
   {
    "duration": 6495,
    "start_time": "2023-08-14T01:20:31.886Z"
   },
   {
    "duration": 574,
    "start_time": "2023-08-14T01:20:38.383Z"
   },
   {
    "duration": 42,
    "start_time": "2023-08-14T01:20:38.959Z"
   },
   {
    "duration": 74,
    "start_time": "2023-08-14T01:20:39.003Z"
   },
   {
    "duration": 42,
    "start_time": "2023-08-14T01:20:39.078Z"
   },
   {
    "duration": 44,
    "start_time": "2023-08-14T01:20:39.122Z"
   },
   {
    "duration": 43,
    "start_time": "2023-08-14T01:20:39.167Z"
   }
  ],
  "kernelspec": {
   "display_name": "Python 3 (ipykernel)",
   "language": "python",
   "name": "python3"
  },
  "language_info": {
   "codemirror_mode": {
    "name": "ipython",
    "version": 3
   },
   "file_extension": ".py",
   "mimetype": "text/x-python",
   "name": "python",
   "nbconvert_exporter": "python",
   "pygments_lexer": "ipython3",
   "version": "3.9.12"
  },
  "toc": {
   "base_numbering": 1,
   "nav_menu": {},
   "number_sections": true,
   "sideBar": true,
   "skip_h1_title": true,
   "title_cell": "Table of Contents",
   "title_sidebar": "Contents",
   "toc_cell": false,
   "toc_position": {},
   "toc_section_display": true,
   "toc_window_display": true
  }
 },
 "nbformat": 4,
 "nbformat_minor": 2
}
