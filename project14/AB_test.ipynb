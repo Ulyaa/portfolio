{
 "cells": [
  {
   "cell_type": "markdown",
   "id": "969e88a6",
   "metadata": {},
   "source": [
    "# A/B-тестирование"
   ]
  },
  {
   "cell_type": "markdown",
   "id": "c61913ec",
   "metadata": {},
   "source": [
    "## Описание цели и постановка задачи\n",
    "\n",
    "Оценить корректность проведения теста и проанализировать его результаты.\n",
    "\n",
    "Чтобы оценить корректность проведения теста:\n",
    "- Нужно удостовериться, что нет пересечений с конкурирующим тестом и нет пользователей, участвующих в двух группах теста одновременно;\n",
    "- Проверить равномерность распределения пользователей по тестовым группам и правильность их формирования.\n",
    "\n",
    "\n",
    "**Техническое задание**\n",
    "\n",
    "- Название теста: `recommender_system_test` ;\n",
    "- группы: А — контрольная, B — новая платёжная воронка;\n",
    "- дата запуска: `2020-12-07`;\n",
    "- дата остановки набора новых пользователей: `2020-12-21`;\n",
    "- дата остановки: `2021-01-04`;\n",
    "- аудитория: в тест должно быть отобрано `15%` новых пользователей из региона `EU`;\n",
    "- назначение теста: тестирование изменений, связанных с внедрением улучшенной рекомендательной системы;\n",
    "- ожидаемое количество участников теста: 6000.\n",
    "- ожидаемый эффект: за 14 дней с момента регистрации пользователи покажут улучшение каждой метрики не менее, чем на 10%:\n",
    "    - конверсии в просмотр карточек товаров — событие `product_page` ,\n",
    "    - просмотры корзины — `product_cart` ,\n",
    "    - покупки — `purchase` .\n",
    "    \n",
    "    \n",
    "**Данные**\n",
    "\n",
    "Датасет с действиями пользователей, техническое задание и несколько вспомогательных датасетов.\n",
    "\n",
    "- `final_ab_events.csv`\n",
    "- `ab_project_marketing_events.csv`\n",
    "- `final_ab_new_users.csv`\n",
    "- `final_ab_participants.csv`\n",
    "\n",
    "**Описание данных**\n",
    "`ab_project_marketing_events.csv` — календарь маркетинговых событий на 2020 год.\n",
    "Структура файла:\n",
    "- `name` — название маркетингового события;\n",
    "- `regions` — регионы, в которых будет проводиться рекламная кампания;\n",
    "- `start_dt` — дата начала кампании;\n",
    "- `finish_dt` — дата завершения кампании.\n",
    "\n",
    "\n",
    "`final_ab_new_users.csv` — пользователи, зарегистрировавшиеся с 7 до 21 декабря 2020 года.\n",
    "Структура файла:\n",
    "- `user_id` — идентификатор пользователя;\n",
    "- `first_date` — дата регистрации;\n",
    "- `region` — регион пользователя;\n",
    "- `device` — устройство, с которого происходила регистрация.\n",
    "\n",
    "\n",
    "`final_ab_events.csv` — действия новых пользователей в период с 7 декабря 2020 по 4 января 2021 года.\n",
    "Структура файла:\n",
    "- `user_id` — идентификатор пользователя;\n",
    "- `event_dt` — дата и время события;\n",
    "- `event_name` — тип события;\n",
    "- `details` — дополнительные данные о событии. Например, для покупок,`purchase`, в этом поле хранится стоимость покупки в долларах.\n",
    "\n",
    "`final_ab_participants.csv` — таблица участников тестов.\n",
    "Структура файла:\n",
    "- `user_id` — идентификатор пользователя;\n",
    "- `ab_test` — название теста;\n",
    "- `group` — группа пользователя.\n",
    "\n"
   ]
  },
  {
   "cell_type": "markdown",
   "id": "0358d7e5",
   "metadata": {},
   "source": [
    "**Декомпозиция:**\n",
    "1. Описание цели и постановка задачи\n",
    "2. Исследование данных\n",
    "      - 2.1 Обзор основной информации о датафреймах, преобразование типов, описание природы пропусков и дубликатов\n",
    "3. Оценка корректности проведения теста\n",
    "      - 3.1 Соответствуют ли данные требованиям ТЗ. Проверка корректности всех пунктов технического задания.\n",
    "      - 3.2 Время проведения теста. Убедиться, что оно не совпадает с маркетинговыми и другими активностями.¶\n",
    "      - 3.3 Аудиторию теста. Удостовериться, что нет пересечений с конкурирующим тестом и нет пользователей, участвующих в двух группах теста одновременно. Проверьте равномерность распределения по тестовым группам и правильность их формирования.\n",
    "4. Исследовательский анализ данных\n",
    "      - 4.1 Количество событий на пользователя одинаково распределены в выборках?\n",
    "      - 4.2 Как число событий в выборках распределено по дням?\n",
    "      - 4.3 Как меняется конверсия в воронке в выборках на разных этапах?\n",
    "5. Оценка результатов А/В - тестирования\n",
    "      - 5.1 Проверка статистической разницы долей z-критерием\n",
    "6. Выводы по этапу исследовательского анализа данных и по проведённой оценке результатов A/B-тестирования. Сделайте общее заключение о корректности проведения теста. "
   ]
  },
  {
   "cell_type": "markdown",
   "id": "00f9eccc",
   "metadata": {},
   "source": [
    "\n",
    "## Исследование данных\n",
    "### Обзор основной информации о датафреймах, преобразование типов, описание природы пропусков и дубликатов\n"
   ]
  },
  {
   "cell_type": "code",
   "execution_count": 95,
   "id": "cb8142a3",
   "metadata": {},
   "outputs": [],
   "source": [
    "import pandas as pd\n",
    "import math as mth\n",
    "import matplotlib.pyplot as plt \n",
    "from plotly import graph_objects as go\n",
    "from scipy import stats as st\n",
    "import numpy as np"
   ]
  },
  {
   "cell_type": "code",
   "execution_count": 96,
   "id": "2399d0fa",
   "metadata": {},
   "outputs": [],
   "source": [
    "try:\n",
    "    final_ab_events = pd.read_csv('final_ab_events.csv', parse_dates=['event_dt'])\n",
    "    ab_project_marketing_events = pd.read_csv('ab_project_marketing_events.csv', parse_dates=['start_dt','finish_dt'])\n",
    "    final_ab_new_users = pd.read_csv('final_ab_new_users.csv', parse_dates=['first_date'])\n",
    "    final_ab_participants = pd.read_csv('final_ab_participants.csv')\n",
    "except:\n",
    "    final_ab_events = pd.read_csv('/datasets/final_ab_events.csv', parse_dates=['event_dt'])\n",
    "    ab_project_marketing_events = pd.read_csv('/datasets/ab_project_marketing_events.csv', parse_dates=['start_dt','finish_dt'])\n",
    "    final_ab_new_users = pd.read_csv('/datasets/final_ab_new_users.csv', parse_dates=['first_date'])\n",
    "    final_ab_participants = pd.read_csv('/datasets/final_ab_participants.csv')"
   ]
  },
  {
   "cell_type": "code",
   "execution_count": 97,
   "id": "348b92f4",
   "metadata": {},
   "outputs": [],
   "source": [
    "def information(data):\n",
    "    display(data.head())\n",
    "    data.info()\n",
    "    print('количество явных дубликатов')\n",
    "    print(data.duplicated().sum())\n",
    "    print('доля пропусков по всем столбцам')\n",
    "    display(pd.DataFrame(round(data.isna().mean()*100, 1)).style.background_gradient('coolwarm'))"
   ]
  },
  {
   "cell_type": "code",
   "execution_count": 98,
   "id": "ce9a08d5",
   "metadata": {
    "scrolled": false
   },
   "outputs": [
    {
     "data": {
      "text/html": [
       "<div>\n",
       "<style scoped>\n",
       "    .dataframe tbody tr th:only-of-type {\n",
       "        vertical-align: middle;\n",
       "    }\n",
       "\n",
       "    .dataframe tbody tr th {\n",
       "        vertical-align: top;\n",
       "    }\n",
       "\n",
       "    .dataframe thead th {\n",
       "        text-align: right;\n",
       "    }\n",
       "</style>\n",
       "<table border=\"1\" class=\"dataframe\">\n",
       "  <thead>\n",
       "    <tr style=\"text-align: right;\">\n",
       "      <th></th>\n",
       "      <th>user_id</th>\n",
       "      <th>event_dt</th>\n",
       "      <th>event_name</th>\n",
       "      <th>details</th>\n",
       "    </tr>\n",
       "  </thead>\n",
       "  <tbody>\n",
       "    <tr>\n",
       "      <th>0</th>\n",
       "      <td>E1BDDCE0DAFA2679</td>\n",
       "      <td>2020-12-07 20:22:03</td>\n",
       "      <td>purchase</td>\n",
       "      <td>99.99</td>\n",
       "    </tr>\n",
       "    <tr>\n",
       "      <th>1</th>\n",
       "      <td>7B6452F081F49504</td>\n",
       "      <td>2020-12-07 09:22:53</td>\n",
       "      <td>purchase</td>\n",
       "      <td>9.99</td>\n",
       "    </tr>\n",
       "    <tr>\n",
       "      <th>2</th>\n",
       "      <td>9CD9F34546DF254C</td>\n",
       "      <td>2020-12-07 12:59:29</td>\n",
       "      <td>purchase</td>\n",
       "      <td>4.99</td>\n",
       "    </tr>\n",
       "    <tr>\n",
       "      <th>3</th>\n",
       "      <td>96F27A054B191457</td>\n",
       "      <td>2020-12-07 04:02:40</td>\n",
       "      <td>purchase</td>\n",
       "      <td>4.99</td>\n",
       "    </tr>\n",
       "    <tr>\n",
       "      <th>4</th>\n",
       "      <td>1FD7660FDF94CA1F</td>\n",
       "      <td>2020-12-07 10:15:09</td>\n",
       "      <td>purchase</td>\n",
       "      <td>4.99</td>\n",
       "    </tr>\n",
       "  </tbody>\n",
       "</table>\n",
       "</div>"
      ],
      "text/plain": [
       "            user_id            event_dt event_name  details\n",
       "0  E1BDDCE0DAFA2679 2020-12-07 20:22:03   purchase    99.99\n",
       "1  7B6452F081F49504 2020-12-07 09:22:53   purchase     9.99\n",
       "2  9CD9F34546DF254C 2020-12-07 12:59:29   purchase     4.99\n",
       "3  96F27A054B191457 2020-12-07 04:02:40   purchase     4.99\n",
       "4  1FD7660FDF94CA1F 2020-12-07 10:15:09   purchase     4.99"
      ]
     },
     "metadata": {},
     "output_type": "display_data"
    },
    {
     "name": "stdout",
     "output_type": "stream",
     "text": [
      "<class 'pandas.core.frame.DataFrame'>\n",
      "RangeIndex: 440317 entries, 0 to 440316\n",
      "Data columns (total 4 columns):\n",
      " #   Column      Non-Null Count   Dtype         \n",
      "---  ------      --------------   -----         \n",
      " 0   user_id     440317 non-null  object        \n",
      " 1   event_dt    440317 non-null  datetime64[ns]\n",
      " 2   event_name  440317 non-null  object        \n",
      " 3   details     62740 non-null   float64       \n",
      "dtypes: datetime64[ns](1), float64(1), object(2)\n",
      "memory usage: 13.4+ MB\n",
      "количество явных дубликатов\n",
      "0\n",
      "доля пропусков по всем столбцам\n"
     ]
    },
    {
     "data": {
      "text/html": [
       "<style type=\"text/css\">\n",
       "#T_aceef_row0_col0, #T_aceef_row1_col0, #T_aceef_row2_col0 {\n",
       "  background-color: #3b4cc0;\n",
       "  color: #f1f1f1;\n",
       "}\n",
       "#T_aceef_row3_col0 {\n",
       "  background-color: #b40426;\n",
       "  color: #f1f1f1;\n",
       "}\n",
       "</style>\n",
       "<table id=\"T_aceef\">\n",
       "  <thead>\n",
       "    <tr>\n",
       "      <th class=\"blank level0\" >&nbsp;</th>\n",
       "      <th id=\"T_aceef_level0_col0\" class=\"col_heading level0 col0\" >0</th>\n",
       "    </tr>\n",
       "  </thead>\n",
       "  <tbody>\n",
       "    <tr>\n",
       "      <th id=\"T_aceef_level0_row0\" class=\"row_heading level0 row0\" >user_id</th>\n",
       "      <td id=\"T_aceef_row0_col0\" class=\"data row0 col0\" >0.000000</td>\n",
       "    </tr>\n",
       "    <tr>\n",
       "      <th id=\"T_aceef_level0_row1\" class=\"row_heading level0 row1\" >event_dt</th>\n",
       "      <td id=\"T_aceef_row1_col0\" class=\"data row1 col0\" >0.000000</td>\n",
       "    </tr>\n",
       "    <tr>\n",
       "      <th id=\"T_aceef_level0_row2\" class=\"row_heading level0 row2\" >event_name</th>\n",
       "      <td id=\"T_aceef_row2_col0\" class=\"data row2 col0\" >0.000000</td>\n",
       "    </tr>\n",
       "    <tr>\n",
       "      <th id=\"T_aceef_level0_row3\" class=\"row_heading level0 row3\" >details</th>\n",
       "      <td id=\"T_aceef_row3_col0\" class=\"data row3 col0\" >85.800000</td>\n",
       "    </tr>\n",
       "  </tbody>\n",
       "</table>\n"
      ],
      "text/plain": [
       "<pandas.io.formats.style.Styler at 0x1f1d4f666a0>"
      ]
     },
     "metadata": {},
     "output_type": "display_data"
    },
    {
     "data": {
      "text/html": [
       "<div>\n",
       "<style scoped>\n",
       "    .dataframe tbody tr th:only-of-type {\n",
       "        vertical-align: middle;\n",
       "    }\n",
       "\n",
       "    .dataframe tbody tr th {\n",
       "        vertical-align: top;\n",
       "    }\n",
       "\n",
       "    .dataframe thead th {\n",
       "        text-align: right;\n",
       "    }\n",
       "</style>\n",
       "<table border=\"1\" class=\"dataframe\">\n",
       "  <thead>\n",
       "    <tr style=\"text-align: right;\">\n",
       "      <th></th>\n",
       "      <th>details</th>\n",
       "    </tr>\n",
       "  </thead>\n",
       "  <tbody>\n",
       "    <tr>\n",
       "      <th>count</th>\n",
       "      <td>62740.000000</td>\n",
       "    </tr>\n",
       "    <tr>\n",
       "      <th>mean</th>\n",
       "      <td>23.877631</td>\n",
       "    </tr>\n",
       "    <tr>\n",
       "      <th>std</th>\n",
       "      <td>72.180465</td>\n",
       "    </tr>\n",
       "    <tr>\n",
       "      <th>min</th>\n",
       "      <td>4.990000</td>\n",
       "    </tr>\n",
       "    <tr>\n",
       "      <th>25%</th>\n",
       "      <td>4.990000</td>\n",
       "    </tr>\n",
       "    <tr>\n",
       "      <th>50%</th>\n",
       "      <td>4.990000</td>\n",
       "    </tr>\n",
       "    <tr>\n",
       "      <th>75%</th>\n",
       "      <td>9.990000</td>\n",
       "    </tr>\n",
       "    <tr>\n",
       "      <th>max</th>\n",
       "      <td>499.990000</td>\n",
       "    </tr>\n",
       "  </tbody>\n",
       "</table>\n",
       "</div>"
      ],
      "text/plain": [
       "            details\n",
       "count  62740.000000\n",
       "mean      23.877631\n",
       "std       72.180465\n",
       "min        4.990000\n",
       "25%        4.990000\n",
       "50%        4.990000\n",
       "75%        9.990000\n",
       "max      499.990000"
      ]
     },
     "execution_count": 98,
     "metadata": {},
     "output_type": "execute_result"
    }
   ],
   "source": [
    "information(final_ab_events)\n",
    "final_ab_events.describe()\n"
   ]
  },
  {
   "cell_type": "code",
   "execution_count": 99,
   "id": "056c2b9e",
   "metadata": {
    "scrolled": true
   },
   "outputs": [
    {
     "name": "stdout",
     "output_type": "stream",
     "text": [
      "Все уникальные значения столбца event_name\n",
      "\n",
      "['purchase' 'product_cart' 'product_page' 'login']\n",
      "\n",
      "\n",
      "Количество строк с значением purchase в столбце event_name\n",
      "\n",
      " 62740\n",
      "\n",
      "\n",
      "Доля пропусков в выборке с значением purchase в столбце event_name\n"
     ]
    },
    {
     "data": {
      "text/html": [
       "<style type=\"text/css\">\n",
       "#T_57b0c_row0_col0, #T_57b0c_row1_col0, #T_57b0c_row2_col0, #T_57b0c_row3_col0 {\n",
       "  background-color: #3b4cc0;\n",
       "  color: #f1f1f1;\n",
       "}\n",
       "</style>\n",
       "<table id=\"T_57b0c\">\n",
       "  <thead>\n",
       "    <tr>\n",
       "      <th class=\"blank level0\" >&nbsp;</th>\n",
       "      <th id=\"T_57b0c_level0_col0\" class=\"col_heading level0 col0\" >0</th>\n",
       "    </tr>\n",
       "  </thead>\n",
       "  <tbody>\n",
       "    <tr>\n",
       "      <th id=\"T_57b0c_level0_row0\" class=\"row_heading level0 row0\" >user_id</th>\n",
       "      <td id=\"T_57b0c_row0_col0\" class=\"data row0 col0\" >0.000000</td>\n",
       "    </tr>\n",
       "    <tr>\n",
       "      <th id=\"T_57b0c_level0_row1\" class=\"row_heading level0 row1\" >event_dt</th>\n",
       "      <td id=\"T_57b0c_row1_col0\" class=\"data row1 col0\" >0.000000</td>\n",
       "    </tr>\n",
       "    <tr>\n",
       "      <th id=\"T_57b0c_level0_row2\" class=\"row_heading level0 row2\" >event_name</th>\n",
       "      <td id=\"T_57b0c_row2_col0\" class=\"data row2 col0\" >0.000000</td>\n",
       "    </tr>\n",
       "    <tr>\n",
       "      <th id=\"T_57b0c_level0_row3\" class=\"row_heading level0 row3\" >details</th>\n",
       "      <td id=\"T_57b0c_row3_col0\" class=\"data row3 col0\" >0.000000</td>\n",
       "    </tr>\n",
       "  </tbody>\n",
       "</table>\n"
      ],
      "text/plain": [
       "<pandas.io.formats.style.Styler at 0x1f1d4db7910>"
      ]
     },
     "execution_count": 99,
     "metadata": {},
     "output_type": "execute_result"
    }
   ],
   "source": [
    "print('Все уникальные значения столбца event_name\\n')\n",
    "print(final_ab_events['event_name'].unique())\n",
    "print('\\n\\nКоличество строк с значением purchase в столбце event_name')\n",
    "print(\"\\n\",len(final_ab_events.query('event_name == \"purchase\"')))\n",
    "print('\\n\\nДоля пропусков в выборке с значением purchase в столбце event_name')\n",
    "pd.DataFrame(round((final_ab_events.query('event_name == \"purchase\"')).isna().mean()*100, 1)).style.background_gradient('coolwarm')"
   ]
  },
  {
   "cell_type": "markdown",
   "id": "a25995b3",
   "metadata": {},
   "source": [
    "В `final_ab_events` всего 440317 строк,отсутствуют явные дубликаты, имеются пропуски в столбце `details` - 85.8%, это обусловлено тем, что данный столбец заполнен только в строках c значением `purchase` в столбце `event_name`"
   ]
  },
  {
   "cell_type": "code",
   "execution_count": 100,
   "id": "159bf78d",
   "metadata": {},
   "outputs": [
    {
     "data": {
      "text/html": [
       "<div>\n",
       "<style scoped>\n",
       "    .dataframe tbody tr th:only-of-type {\n",
       "        vertical-align: middle;\n",
       "    }\n",
       "\n",
       "    .dataframe tbody tr th {\n",
       "        vertical-align: top;\n",
       "    }\n",
       "\n",
       "    .dataframe thead th {\n",
       "        text-align: right;\n",
       "    }\n",
       "</style>\n",
       "<table border=\"1\" class=\"dataframe\">\n",
       "  <thead>\n",
       "    <tr style=\"text-align: right;\">\n",
       "      <th></th>\n",
       "      <th>name</th>\n",
       "      <th>regions</th>\n",
       "      <th>start_dt</th>\n",
       "      <th>finish_dt</th>\n",
       "    </tr>\n",
       "  </thead>\n",
       "  <tbody>\n",
       "    <tr>\n",
       "      <th>0</th>\n",
       "      <td>Christmas&amp;New Year Promo</td>\n",
       "      <td>EU, N.America</td>\n",
       "      <td>2020-12-25</td>\n",
       "      <td>2021-01-03</td>\n",
       "    </tr>\n",
       "    <tr>\n",
       "      <th>1</th>\n",
       "      <td>St. Valentine's Day Giveaway</td>\n",
       "      <td>EU, CIS, APAC, N.America</td>\n",
       "      <td>2020-02-14</td>\n",
       "      <td>2020-02-16</td>\n",
       "    </tr>\n",
       "    <tr>\n",
       "      <th>2</th>\n",
       "      <td>St. Patric's Day Promo</td>\n",
       "      <td>EU, N.America</td>\n",
       "      <td>2020-03-17</td>\n",
       "      <td>2020-03-19</td>\n",
       "    </tr>\n",
       "    <tr>\n",
       "      <th>3</th>\n",
       "      <td>Easter Promo</td>\n",
       "      <td>EU, CIS, APAC, N.America</td>\n",
       "      <td>2020-04-12</td>\n",
       "      <td>2020-04-19</td>\n",
       "    </tr>\n",
       "    <tr>\n",
       "      <th>4</th>\n",
       "      <td>4th of July Promo</td>\n",
       "      <td>N.America</td>\n",
       "      <td>2020-07-04</td>\n",
       "      <td>2020-07-11</td>\n",
       "    </tr>\n",
       "  </tbody>\n",
       "</table>\n",
       "</div>"
      ],
      "text/plain": [
       "                           name                   regions   start_dt  \\\n",
       "0      Christmas&New Year Promo             EU, N.America 2020-12-25   \n",
       "1  St. Valentine's Day Giveaway  EU, CIS, APAC, N.America 2020-02-14   \n",
       "2        St. Patric's Day Promo             EU, N.America 2020-03-17   \n",
       "3                  Easter Promo  EU, CIS, APAC, N.America 2020-04-12   \n",
       "4             4th of July Promo                 N.America 2020-07-04   \n",
       "\n",
       "   finish_dt  \n",
       "0 2021-01-03  \n",
       "1 2020-02-16  \n",
       "2 2020-03-19  \n",
       "3 2020-04-19  \n",
       "4 2020-07-11  "
      ]
     },
     "metadata": {},
     "output_type": "display_data"
    },
    {
     "name": "stdout",
     "output_type": "stream",
     "text": [
      "<class 'pandas.core.frame.DataFrame'>\n",
      "RangeIndex: 14 entries, 0 to 13\n",
      "Data columns (total 4 columns):\n",
      " #   Column     Non-Null Count  Dtype         \n",
      "---  ------     --------------  -----         \n",
      " 0   name       14 non-null     object        \n",
      " 1   regions    14 non-null     object        \n",
      " 2   start_dt   14 non-null     datetime64[ns]\n",
      " 3   finish_dt  14 non-null     datetime64[ns]\n",
      "dtypes: datetime64[ns](2), object(2)\n",
      "memory usage: 576.0+ bytes\n",
      "количество явных дубликатов\n",
      "0\n",
      "доля пропусков по всем столбцам\n"
     ]
    },
    {
     "data": {
      "text/html": [
       "<style type=\"text/css\">\n",
       "#T_4dc7f_row0_col0, #T_4dc7f_row1_col0, #T_4dc7f_row2_col0, #T_4dc7f_row3_col0 {\n",
       "  background-color: #3b4cc0;\n",
       "  color: #f1f1f1;\n",
       "}\n",
       "</style>\n",
       "<table id=\"T_4dc7f\">\n",
       "  <thead>\n",
       "    <tr>\n",
       "      <th class=\"blank level0\" >&nbsp;</th>\n",
       "      <th id=\"T_4dc7f_level0_col0\" class=\"col_heading level0 col0\" >0</th>\n",
       "    </tr>\n",
       "  </thead>\n",
       "  <tbody>\n",
       "    <tr>\n",
       "      <th id=\"T_4dc7f_level0_row0\" class=\"row_heading level0 row0\" >name</th>\n",
       "      <td id=\"T_4dc7f_row0_col0\" class=\"data row0 col0\" >0.000000</td>\n",
       "    </tr>\n",
       "    <tr>\n",
       "      <th id=\"T_4dc7f_level0_row1\" class=\"row_heading level0 row1\" >regions</th>\n",
       "      <td id=\"T_4dc7f_row1_col0\" class=\"data row1 col0\" >0.000000</td>\n",
       "    </tr>\n",
       "    <tr>\n",
       "      <th id=\"T_4dc7f_level0_row2\" class=\"row_heading level0 row2\" >start_dt</th>\n",
       "      <td id=\"T_4dc7f_row2_col0\" class=\"data row2 col0\" >0.000000</td>\n",
       "    </tr>\n",
       "    <tr>\n",
       "      <th id=\"T_4dc7f_level0_row3\" class=\"row_heading level0 row3\" >finish_dt</th>\n",
       "      <td id=\"T_4dc7f_row3_col0\" class=\"data row3 col0\" >0.000000</td>\n",
       "    </tr>\n",
       "  </tbody>\n",
       "</table>\n"
      ],
      "text/plain": [
       "<pandas.io.formats.style.Styler at 0x1f1d62ff2e0>"
      ]
     },
     "metadata": {},
     "output_type": "display_data"
    }
   ],
   "source": [
    "information(ab_project_marketing_events)"
   ]
  },
  {
   "cell_type": "markdown",
   "id": "e10f37aa",
   "metadata": {},
   "source": [
    "В `ab_project_marketing_events` всего 14 строк, отсутствуют явные дубликаты, отсутствуют пропуски"
   ]
  },
  {
   "cell_type": "code",
   "execution_count": 101,
   "id": "16c374f1",
   "metadata": {},
   "outputs": [
    {
     "data": {
      "text/html": [
       "<div>\n",
       "<style scoped>\n",
       "    .dataframe tbody tr th:only-of-type {\n",
       "        vertical-align: middle;\n",
       "    }\n",
       "\n",
       "    .dataframe tbody tr th {\n",
       "        vertical-align: top;\n",
       "    }\n",
       "\n",
       "    .dataframe thead th {\n",
       "        text-align: right;\n",
       "    }\n",
       "</style>\n",
       "<table border=\"1\" class=\"dataframe\">\n",
       "  <thead>\n",
       "    <tr style=\"text-align: right;\">\n",
       "      <th></th>\n",
       "      <th>user_id</th>\n",
       "      <th>first_date</th>\n",
       "      <th>region</th>\n",
       "      <th>device</th>\n",
       "    </tr>\n",
       "  </thead>\n",
       "  <tbody>\n",
       "    <tr>\n",
       "      <th>0</th>\n",
       "      <td>D72A72121175D8BE</td>\n",
       "      <td>2020-12-07</td>\n",
       "      <td>EU</td>\n",
       "      <td>PC</td>\n",
       "    </tr>\n",
       "    <tr>\n",
       "      <th>1</th>\n",
       "      <td>F1C668619DFE6E65</td>\n",
       "      <td>2020-12-07</td>\n",
       "      <td>N.America</td>\n",
       "      <td>Android</td>\n",
       "    </tr>\n",
       "    <tr>\n",
       "      <th>2</th>\n",
       "      <td>2E1BF1D4C37EA01F</td>\n",
       "      <td>2020-12-07</td>\n",
       "      <td>EU</td>\n",
       "      <td>PC</td>\n",
       "    </tr>\n",
       "    <tr>\n",
       "      <th>3</th>\n",
       "      <td>50734A22C0C63768</td>\n",
       "      <td>2020-12-07</td>\n",
       "      <td>EU</td>\n",
       "      <td>iPhone</td>\n",
       "    </tr>\n",
       "    <tr>\n",
       "      <th>4</th>\n",
       "      <td>E1BDDCE0DAFA2679</td>\n",
       "      <td>2020-12-07</td>\n",
       "      <td>N.America</td>\n",
       "      <td>iPhone</td>\n",
       "    </tr>\n",
       "  </tbody>\n",
       "</table>\n",
       "</div>"
      ],
      "text/plain": [
       "            user_id first_date     region   device\n",
       "0  D72A72121175D8BE 2020-12-07         EU       PC\n",
       "1  F1C668619DFE6E65 2020-12-07  N.America  Android\n",
       "2  2E1BF1D4C37EA01F 2020-12-07         EU       PC\n",
       "3  50734A22C0C63768 2020-12-07         EU   iPhone\n",
       "4  E1BDDCE0DAFA2679 2020-12-07  N.America   iPhone"
      ]
     },
     "metadata": {},
     "output_type": "display_data"
    },
    {
     "name": "stdout",
     "output_type": "stream",
     "text": [
      "<class 'pandas.core.frame.DataFrame'>\n",
      "RangeIndex: 61733 entries, 0 to 61732\n",
      "Data columns (total 4 columns):\n",
      " #   Column      Non-Null Count  Dtype         \n",
      "---  ------      --------------  -----         \n",
      " 0   user_id     61733 non-null  object        \n",
      " 1   first_date  61733 non-null  datetime64[ns]\n",
      " 2   region      61733 non-null  object        \n",
      " 3   device      61733 non-null  object        \n",
      "dtypes: datetime64[ns](1), object(3)\n",
      "memory usage: 1.9+ MB\n",
      "количество явных дубликатов\n",
      "0\n",
      "доля пропусков по всем столбцам\n"
     ]
    },
    {
     "data": {
      "text/html": [
       "<style type=\"text/css\">\n",
       "#T_65282_row0_col0, #T_65282_row1_col0, #T_65282_row2_col0, #T_65282_row3_col0 {\n",
       "  background-color: #3b4cc0;\n",
       "  color: #f1f1f1;\n",
       "}\n",
       "</style>\n",
       "<table id=\"T_65282\">\n",
       "  <thead>\n",
       "    <tr>\n",
       "      <th class=\"blank level0\" >&nbsp;</th>\n",
       "      <th id=\"T_65282_level0_col0\" class=\"col_heading level0 col0\" >0</th>\n",
       "    </tr>\n",
       "  </thead>\n",
       "  <tbody>\n",
       "    <tr>\n",
       "      <th id=\"T_65282_level0_row0\" class=\"row_heading level0 row0\" >user_id</th>\n",
       "      <td id=\"T_65282_row0_col0\" class=\"data row0 col0\" >0.000000</td>\n",
       "    </tr>\n",
       "    <tr>\n",
       "      <th id=\"T_65282_level0_row1\" class=\"row_heading level0 row1\" >first_date</th>\n",
       "      <td id=\"T_65282_row1_col0\" class=\"data row1 col0\" >0.000000</td>\n",
       "    </tr>\n",
       "    <tr>\n",
       "      <th id=\"T_65282_level0_row2\" class=\"row_heading level0 row2\" >region</th>\n",
       "      <td id=\"T_65282_row2_col0\" class=\"data row2 col0\" >0.000000</td>\n",
       "    </tr>\n",
       "    <tr>\n",
       "      <th id=\"T_65282_level0_row3\" class=\"row_heading level0 row3\" >device</th>\n",
       "      <td id=\"T_65282_row3_col0\" class=\"data row3 col0\" >0.000000</td>\n",
       "    </tr>\n",
       "  </tbody>\n",
       "</table>\n"
      ],
      "text/plain": [
       "<pandas.io.formats.style.Styler at 0x1f1d51fcf10>"
      ]
     },
     "metadata": {},
     "output_type": "display_data"
    }
   ],
   "source": [
    "information(final_ab_new_users)"
   ]
  },
  {
   "cell_type": "markdown",
   "id": "02f915ad",
   "metadata": {},
   "source": [
    "В `final_ab_new_users` всего 61733  строк, отсутствуют явные дубликаты, отсутствуют пропуски"
   ]
  },
  {
   "cell_type": "code",
   "execution_count": 102,
   "id": "49a5e064",
   "metadata": {},
   "outputs": [
    {
     "data": {
      "text/html": [
       "<div>\n",
       "<style scoped>\n",
       "    .dataframe tbody tr th:only-of-type {\n",
       "        vertical-align: middle;\n",
       "    }\n",
       "\n",
       "    .dataframe tbody tr th {\n",
       "        vertical-align: top;\n",
       "    }\n",
       "\n",
       "    .dataframe thead th {\n",
       "        text-align: right;\n",
       "    }\n",
       "</style>\n",
       "<table border=\"1\" class=\"dataframe\">\n",
       "  <thead>\n",
       "    <tr style=\"text-align: right;\">\n",
       "      <th></th>\n",
       "      <th>user_id</th>\n",
       "      <th>group</th>\n",
       "      <th>ab_test</th>\n",
       "    </tr>\n",
       "  </thead>\n",
       "  <tbody>\n",
       "    <tr>\n",
       "      <th>0</th>\n",
       "      <td>D1ABA3E2887B6A73</td>\n",
       "      <td>A</td>\n",
       "      <td>recommender_system_test</td>\n",
       "    </tr>\n",
       "    <tr>\n",
       "      <th>1</th>\n",
       "      <td>A7A3664BD6242119</td>\n",
       "      <td>A</td>\n",
       "      <td>recommender_system_test</td>\n",
       "    </tr>\n",
       "    <tr>\n",
       "      <th>2</th>\n",
       "      <td>DABC14FDDFADD29E</td>\n",
       "      <td>A</td>\n",
       "      <td>recommender_system_test</td>\n",
       "    </tr>\n",
       "    <tr>\n",
       "      <th>3</th>\n",
       "      <td>04988C5DF189632E</td>\n",
       "      <td>A</td>\n",
       "      <td>recommender_system_test</td>\n",
       "    </tr>\n",
       "    <tr>\n",
       "      <th>4</th>\n",
       "      <td>482F14783456D21B</td>\n",
       "      <td>B</td>\n",
       "      <td>recommender_system_test</td>\n",
       "    </tr>\n",
       "  </tbody>\n",
       "</table>\n",
       "</div>"
      ],
      "text/plain": [
       "            user_id group                  ab_test\n",
       "0  D1ABA3E2887B6A73     A  recommender_system_test\n",
       "1  A7A3664BD6242119     A  recommender_system_test\n",
       "2  DABC14FDDFADD29E     A  recommender_system_test\n",
       "3  04988C5DF189632E     A  recommender_system_test\n",
       "4  482F14783456D21B     B  recommender_system_test"
      ]
     },
     "metadata": {},
     "output_type": "display_data"
    },
    {
     "name": "stdout",
     "output_type": "stream",
     "text": [
      "<class 'pandas.core.frame.DataFrame'>\n",
      "RangeIndex: 18268 entries, 0 to 18267\n",
      "Data columns (total 3 columns):\n",
      " #   Column   Non-Null Count  Dtype \n",
      "---  ------   --------------  ----- \n",
      " 0   user_id  18268 non-null  object\n",
      " 1   group    18268 non-null  object\n",
      " 2   ab_test  18268 non-null  object\n",
      "dtypes: object(3)\n",
      "memory usage: 428.3+ KB\n",
      "количество явных дубликатов\n",
      "0\n",
      "доля пропусков по всем столбцам\n"
     ]
    },
    {
     "data": {
      "text/html": [
       "<style type=\"text/css\">\n",
       "#T_19fa1_row0_col0, #T_19fa1_row1_col0, #T_19fa1_row2_col0 {\n",
       "  background-color: #3b4cc0;\n",
       "  color: #f1f1f1;\n",
       "}\n",
       "</style>\n",
       "<table id=\"T_19fa1\">\n",
       "  <thead>\n",
       "    <tr>\n",
       "      <th class=\"blank level0\" >&nbsp;</th>\n",
       "      <th id=\"T_19fa1_level0_col0\" class=\"col_heading level0 col0\" >0</th>\n",
       "    </tr>\n",
       "  </thead>\n",
       "  <tbody>\n",
       "    <tr>\n",
       "      <th id=\"T_19fa1_level0_row0\" class=\"row_heading level0 row0\" >user_id</th>\n",
       "      <td id=\"T_19fa1_row0_col0\" class=\"data row0 col0\" >0.000000</td>\n",
       "    </tr>\n",
       "    <tr>\n",
       "      <th id=\"T_19fa1_level0_row1\" class=\"row_heading level0 row1\" >group</th>\n",
       "      <td id=\"T_19fa1_row1_col0\" class=\"data row1 col0\" >0.000000</td>\n",
       "    </tr>\n",
       "    <tr>\n",
       "      <th id=\"T_19fa1_level0_row2\" class=\"row_heading level0 row2\" >ab_test</th>\n",
       "      <td id=\"T_19fa1_row2_col0\" class=\"data row2 col0\" >0.000000</td>\n",
       "    </tr>\n",
       "  </tbody>\n",
       "</table>\n"
      ],
      "text/plain": [
       "<pandas.io.formats.style.Styler at 0x1f1d6de1ac0>"
      ]
     },
     "metadata": {},
     "output_type": "display_data"
    }
   ],
   "source": [
    "information(final_ab_participants)"
   ]
  },
  {
   "cell_type": "markdown",
   "id": "52b25f4a",
   "metadata": {},
   "source": [
    "В `final_ab_participants` всего 18268 строк, отсутствуют явные дубликаты, отсутствуют пропуски"
   ]
  },
  {
   "cell_type": "markdown",
   "id": "405de54a",
   "metadata": {},
   "source": [
    "## Оценка корректности проведения теста\n",
    "### Соответствуют ли данные требованиям ТЗ. Проверка корректности всех пунктов технического задания.\n"
   ]
  },
  {
   "cell_type": "markdown",
   "id": "cbbd3755",
   "metadata": {},
   "source": [
    "- Проверим название теста, должно быть `recommender_system_test`"
   ]
  },
  {
   "cell_type": "code",
   "execution_count": 103,
   "id": "1787e61d",
   "metadata": {},
   "outputs": [
    {
     "data": {
      "text/plain": [
       "['recommender_system_test', 'interface_eu_test']"
      ]
     },
     "execution_count": 103,
     "metadata": {},
     "output_type": "execute_result"
    }
   ],
   "source": [
    "final_ab_participants['ab_test'].unique().tolist()"
   ]
  },
  {
   "cell_type": "markdown",
   "id": "7128c123",
   "metadata": {},
   "source": [
    "всего было проведерно 2  теста:\n",
    "- `recommender_system_test`\n",
    "- `interface_eu_test`\n"
   ]
  },
  {
   "cell_type": "markdown",
   "id": "d15ec276",
   "metadata": {},
   "source": [
    "Посмотрим дату остановки набора именно данного теста `recommender_system_test`. Для этого объединим таблицы `final_ab_participants` с `final_ab_new_users` и нужным тестом. И посмотрим на окончание теста, соответствует ли оно заданию?"
   ]
  },
  {
   "cell_type": "code",
   "execution_count": 104,
   "id": "c83fc6eb",
   "metadata": {},
   "outputs": [],
   "source": [
    "datafr = final_ab_participants.merge(final_ab_new_users)\n",
    "datafr = datafr.query('ab_test == \"recommender_system_test\"')"
   ]
  },
  {
   "cell_type": "code",
   "execution_count": 105,
   "id": "a131755b",
   "metadata": {},
   "outputs": [
    {
     "data": {
      "text/html": [
       "<div>\n",
       "<style scoped>\n",
       "    .dataframe tbody tr th:only-of-type {\n",
       "        vertical-align: middle;\n",
       "    }\n",
       "\n",
       "    .dataframe tbody tr th {\n",
       "        vertical-align: top;\n",
       "    }\n",
       "\n",
       "    .dataframe thead th {\n",
       "        text-align: right;\n",
       "    }\n",
       "</style>\n",
       "<table border=\"1\" class=\"dataframe\">\n",
       "  <thead>\n",
       "    <tr style=\"text-align: right;\">\n",
       "      <th></th>\n",
       "      <th>user_id</th>\n",
       "      <th>group</th>\n",
       "      <th>ab_test</th>\n",
       "      <th>first_date</th>\n",
       "      <th>region</th>\n",
       "      <th>device</th>\n",
       "    </tr>\n",
       "  </thead>\n",
       "  <tbody>\n",
       "    <tr>\n",
       "      <th>0</th>\n",
       "      <td>D1ABA3E2887B6A73</td>\n",
       "      <td>A</td>\n",
       "      <td>recommender_system_test</td>\n",
       "      <td>2020-12-07</td>\n",
       "      <td>EU</td>\n",
       "      <td>PC</td>\n",
       "    </tr>\n",
       "    <tr>\n",
       "      <th>1</th>\n",
       "      <td>A7A3664BD6242119</td>\n",
       "      <td>A</td>\n",
       "      <td>recommender_system_test</td>\n",
       "      <td>2020-12-20</td>\n",
       "      <td>EU</td>\n",
       "      <td>iPhone</td>\n",
       "    </tr>\n",
       "    <tr>\n",
       "      <th>2</th>\n",
       "      <td>DABC14FDDFADD29E</td>\n",
       "      <td>A</td>\n",
       "      <td>recommender_system_test</td>\n",
       "      <td>2020-12-08</td>\n",
       "      <td>EU</td>\n",
       "      <td>Mac</td>\n",
       "    </tr>\n",
       "    <tr>\n",
       "      <th>4</th>\n",
       "      <td>04988C5DF189632E</td>\n",
       "      <td>A</td>\n",
       "      <td>recommender_system_test</td>\n",
       "      <td>2020-12-14</td>\n",
       "      <td>EU</td>\n",
       "      <td>iPhone</td>\n",
       "    </tr>\n",
       "    <tr>\n",
       "      <th>6</th>\n",
       "      <td>482F14783456D21B</td>\n",
       "      <td>B</td>\n",
       "      <td>recommender_system_test</td>\n",
       "      <td>2020-12-14</td>\n",
       "      <td>EU</td>\n",
       "      <td>PC</td>\n",
       "    </tr>\n",
       "  </tbody>\n",
       "</table>\n",
       "</div>"
      ],
      "text/plain": [
       "            user_id group                  ab_test first_date region  device\n",
       "0  D1ABA3E2887B6A73     A  recommender_system_test 2020-12-07     EU      PC\n",
       "1  A7A3664BD6242119     A  recommender_system_test 2020-12-20     EU  iPhone\n",
       "2  DABC14FDDFADD29E     A  recommender_system_test 2020-12-08     EU     Mac\n",
       "4  04988C5DF189632E     A  recommender_system_test 2020-12-14     EU  iPhone\n",
       "6  482F14783456D21B     B  recommender_system_test 2020-12-14     EU      PC"
      ]
     },
     "execution_count": 105,
     "metadata": {},
     "output_type": "execute_result"
    }
   ],
   "source": [
    "datafr.head()"
   ]
  },
  {
   "cell_type": "code",
   "execution_count": 106,
   "id": "5208ab7f",
   "metadata": {},
   "outputs": [
    {
     "name": "stdout",
     "output_type": "stream",
     "text": [
      "дата запуска -  2020-12-07 00:00:00\n",
      "дата остановки набора новых пользователей -  2020-12-21 00:00:00\n"
     ]
    }
   ],
   "source": [
    "print('дата запуска - ', datafr['first_date'].min())\n",
    "print('дата остановки набора новых пользователей - ', datafr['first_date'].max())"
   ]
  },
  {
   "cell_type": "markdown",
   "id": "8c6fc69f",
   "metadata": {},
   "source": [
    "- дата запуска: `2020-12-07`;\n",
    "- дата остановки набора новых пользователей: `2020-12-21`;\n",
    "\n",
    "Соответствует ТЗ"
   ]
  },
  {
   "cell_type": "markdown",
   "id": "b9aa56fe",
   "metadata": {},
   "source": [
    "так как нас интересуют данные только c `recommender_system_test`, создадим отдельный датафрейм `final_recommender_system_test` с таким названием теста"
   ]
  },
  {
   "cell_type": "markdown",
   "id": "dc8fdfab",
   "metadata": {},
   "source": []
  },
  {
   "cell_type": "code",
   "execution_count": 107,
   "id": "7a9c21b5",
   "metadata": {
    "scrolled": true
   },
   "outputs": [
    {
     "name": "stdout",
     "output_type": "stream",
     "text": [
      "<class 'pandas.core.frame.DataFrame'>\n",
      "Int64Index: 6701 entries, 0 to 6700\n",
      "Data columns (total 3 columns):\n",
      " #   Column   Non-Null Count  Dtype \n",
      "---  ------   --------------  ----- \n",
      " 0   user_id  6701 non-null   object\n",
      " 1   group    6701 non-null   object\n",
      " 2   ab_test  6701 non-null   object\n",
      "dtypes: object(3)\n",
      "memory usage: 209.4+ KB\n"
     ]
    }
   ],
   "source": [
    "final_recommender_system_test = final_ab_participants.query(' ab_test == \"recommender_system_test\"')\n",
    "final_recommender_system_test.info()"
   ]
  },
  {
   "cell_type": "markdown",
   "id": "0f45eede",
   "metadata": {},
   "source": [
    "- группы: А — контрольная, B — новая платёжная воронка;"
   ]
  },
  {
   "cell_type": "code",
   "execution_count": 108,
   "id": "dd9e01b6",
   "metadata": {
    "scrolled": true
   },
   "outputs": [
    {
     "data": {
      "text/plain": [
       "['A', 'B']"
      ]
     },
     "execution_count": 108,
     "metadata": {},
     "output_type": "execute_result"
    }
   ],
   "source": [
    "final_recommender_system_test['group'].unique().tolist()"
   ]
  },
  {
   "cell_type": "markdown",
   "id": "27f7a0b2",
   "metadata": {},
   "source": [
    "- дата запуска: `2020-12-07`;\n",
    "- дата остановки набора новых пользователей: `2020-12-21`;"
   ]
  },
  {
   "cell_type": "code",
   "execution_count": 109,
   "id": "af1cd629",
   "metadata": {},
   "outputs": [
    {
     "name": "stdout",
     "output_type": "stream",
     "text": [
      "дата запуска -  2020-12-07 00:00:00\n",
      "дата остановки набора новых пользователей -  2020-12-23 00:00:00\n"
     ]
    }
   ],
   "source": [
    "print('дата запуска - ', final_ab_new_users['first_date'].min())\n",
    "print('дата остановки набора новых пользователей - ', final_ab_new_users['first_date'].max())"
   ]
  },
  {
   "cell_type": "markdown",
   "id": "bd256901",
   "metadata": {},
   "source": [
    "Не стыкуется, нужно избавиться от пользователей, зарегистрировавшихся после `2020-12-21`"
   ]
  },
  {
   "cell_type": "code",
   "execution_count": 110,
   "id": "563f820c",
   "metadata": {},
   "outputs": [
    {
     "name": "stdout",
     "output_type": "stream",
     "text": [
      "дата остановки набора новых пользователей -  2020-12-21 00:00:00\n"
     ]
    }
   ],
   "source": [
    "final_ab_new_users = final_ab_new_users.query('first_date < = \"2020-12-21\"')\n",
    "\n",
    "print('дата остановки набора новых пользователей - ', final_ab_new_users['first_date'].max())"
   ]
  },
  {
   "cell_type": "markdown",
   "id": "de068c9d",
   "metadata": {},
   "source": [
    "- Действия новых пользователей в период с `7 декабря 2020 по 4 января 2021 года`"
   ]
  },
  {
   "cell_type": "code",
   "execution_count": 111,
   "id": "e537acb5",
   "metadata": {},
   "outputs": [
    {
     "name": "stdout",
     "output_type": "stream",
     "text": [
      "2020-12-07 00:00:33\n",
      "2020-12-30 23:36:33\n"
     ]
    }
   ],
   "source": [
    "print(final_ab_events['event_dt'].min())\n",
    "print(final_ab_events['event_dt'].max())"
   ]
  },
  {
   "cell_type": "markdown",
   "id": "ff7a5632",
   "metadata": {},
   "source": [
    "Оказались данные за период с 7го декабря по 30е число декабря, хотя по ТЗ должен быть диапазон с 7 декабря 2020 по 4 января 2021 года. Тест остановлен на 5 дней раньше, возможно были выгружены не все данные."
   ]
  },
  {
   "cell_type": "markdown",
   "id": "e81598bb",
   "metadata": {},
   "source": [
    "- аудитория: в тест должно быть отобрано `15%` новых пользователей из региона `EU`;\n",
    "- ожидаемое количество участников теста: `6000`.\n",
    "\n",
    "Рассмотрим количество "
   ]
  },
  {
   "cell_type": "code",
   "execution_count": 112,
   "id": "715d0de2",
   "metadata": {
    "scrolled": true
   },
   "outputs": [
    {
     "data": {
      "text/plain": [
       "EU           42340\n",
       "N.America     8347\n",
       "CIS           2900\n",
       "APAC          2883\n",
       "Name: region, dtype: int64"
      ]
     },
     "execution_count": 112,
     "metadata": {},
     "output_type": "execute_result"
    }
   ],
   "source": [
    "final_ab_new_users['region'].value_counts()"
   ]
  },
  {
   "cell_type": "markdown",
   "id": "8e3156a1",
   "metadata": {},
   "source": [
    "Создадим новый датафрейм `europe_region`, где соединим данные `final_recommender_system_test` с `final_ab_new_users` выбрав пользователей из EU"
   ]
  },
  {
   "cell_type": "code",
   "execution_count": 113,
   "id": "4c94b8ca",
   "metadata": {},
   "outputs": [
    {
     "data": {
      "text/html": [
       "<div>\n",
       "<style scoped>\n",
       "    .dataframe tbody tr th:only-of-type {\n",
       "        vertical-align: middle;\n",
       "    }\n",
       "\n",
       "    .dataframe tbody tr th {\n",
       "        vertical-align: top;\n",
       "    }\n",
       "\n",
       "    .dataframe thead th {\n",
       "        text-align: right;\n",
       "    }\n",
       "</style>\n",
       "<table border=\"1\" class=\"dataframe\">\n",
       "  <thead>\n",
       "    <tr style=\"text-align: right;\">\n",
       "      <th></th>\n",
       "      <th>user_id</th>\n",
       "      <th>group</th>\n",
       "      <th>ab_test</th>\n",
       "    </tr>\n",
       "  </thead>\n",
       "  <tbody>\n",
       "    <tr>\n",
       "      <th>0</th>\n",
       "      <td>D1ABA3E2887B6A73</td>\n",
       "      <td>A</td>\n",
       "      <td>recommender_system_test</td>\n",
       "    </tr>\n",
       "    <tr>\n",
       "      <th>1</th>\n",
       "      <td>A7A3664BD6242119</td>\n",
       "      <td>A</td>\n",
       "      <td>recommender_system_test</td>\n",
       "    </tr>\n",
       "    <tr>\n",
       "      <th>2</th>\n",
       "      <td>DABC14FDDFADD29E</td>\n",
       "      <td>A</td>\n",
       "      <td>recommender_system_test</td>\n",
       "    </tr>\n",
       "    <tr>\n",
       "      <th>3</th>\n",
       "      <td>04988C5DF189632E</td>\n",
       "      <td>A</td>\n",
       "      <td>recommender_system_test</td>\n",
       "    </tr>\n",
       "    <tr>\n",
       "      <th>4</th>\n",
       "      <td>482F14783456D21B</td>\n",
       "      <td>B</td>\n",
       "      <td>recommender_system_test</td>\n",
       "    </tr>\n",
       "  </tbody>\n",
       "</table>\n",
       "</div>"
      ],
      "text/plain": [
       "            user_id group                  ab_test\n",
       "0  D1ABA3E2887B6A73     A  recommender_system_test\n",
       "1  A7A3664BD6242119     A  recommender_system_test\n",
       "2  DABC14FDDFADD29E     A  recommender_system_test\n",
       "3  04988C5DF189632E     A  recommender_system_test\n",
       "4  482F14783456D21B     B  recommender_system_test"
      ]
     },
     "execution_count": 113,
     "metadata": {},
     "output_type": "execute_result"
    }
   ],
   "source": [
    "final_recommender_system_test.head()"
   ]
  },
  {
   "cell_type": "code",
   "execution_count": 114,
   "id": "86e44646",
   "metadata": {},
   "outputs": [
    {
     "data": {
      "text/html": [
       "<div>\n",
       "<style scoped>\n",
       "    .dataframe tbody tr th:only-of-type {\n",
       "        vertical-align: middle;\n",
       "    }\n",
       "\n",
       "    .dataframe tbody tr th {\n",
       "        vertical-align: top;\n",
       "    }\n",
       "\n",
       "    .dataframe thead th {\n",
       "        text-align: right;\n",
       "    }\n",
       "</style>\n",
       "<table border=\"1\" class=\"dataframe\">\n",
       "  <thead>\n",
       "    <tr style=\"text-align: right;\">\n",
       "      <th></th>\n",
       "      <th>user_id</th>\n",
       "      <th>group</th>\n",
       "      <th>ab_test</th>\n",
       "      <th>region</th>\n",
       "    </tr>\n",
       "  </thead>\n",
       "  <tbody>\n",
       "    <tr>\n",
       "      <th>3801</th>\n",
       "      <td>45914643E919B1BD</td>\n",
       "      <td>B</td>\n",
       "      <td>recommender_system_test</td>\n",
       "      <td>EU</td>\n",
       "    </tr>\n",
       "    <tr>\n",
       "      <th>1518</th>\n",
       "      <td>999E3FF7F8E5B295</td>\n",
       "      <td>B</td>\n",
       "      <td>recommender_system_test</td>\n",
       "      <td>EU</td>\n",
       "    </tr>\n",
       "    <tr>\n",
       "      <th>1382</th>\n",
       "      <td>757203C72510A549</td>\n",
       "      <td>A</td>\n",
       "      <td>recommender_system_test</td>\n",
       "      <td>EU</td>\n",
       "    </tr>\n",
       "    <tr>\n",
       "      <th>3042</th>\n",
       "      <td>4438A8DB1591E2FD</td>\n",
       "      <td>B</td>\n",
       "      <td>recommender_system_test</td>\n",
       "      <td>EU</td>\n",
       "    </tr>\n",
       "    <tr>\n",
       "      <th>2150</th>\n",
       "      <td>CC51FB594EA7240F</td>\n",
       "      <td>A</td>\n",
       "      <td>recommender_system_test</td>\n",
       "      <td>EU</td>\n",
       "    </tr>\n",
       "  </tbody>\n",
       "</table>\n",
       "</div>"
      ],
      "text/plain": [
       "               user_id group                  ab_test region\n",
       "3801  45914643E919B1BD     B  recommender_system_test     EU\n",
       "1518  999E3FF7F8E5B295     B  recommender_system_test     EU\n",
       "1382  757203C72510A549     A  recommender_system_test     EU\n",
       "3042  4438A8DB1591E2FD     B  recommender_system_test     EU\n",
       "2150  CC51FB594EA7240F     A  recommender_system_test     EU"
      ]
     },
     "execution_count": 114,
     "metadata": {},
     "output_type": "execute_result"
    }
   ],
   "source": [
    "europe_region = (final_recommender_system_test.merge(final_ab_new_users.query('region == \"EU\"')[['user_id', 'region']].drop_duplicates(), how='left', on='user_id'))\n",
    "europe_region.sample(n = 5)"
   ]
  },
  {
   "cell_type": "code",
   "execution_count": 115,
   "id": "6d0b3338",
   "metadata": {
    "scrolled": true
   },
   "outputs": [
    {
     "data": {
      "text/plain": [
       "array(['EU', nan], dtype=object)"
      ]
     },
     "execution_count": 115,
     "metadata": {},
     "output_type": "execute_result"
    }
   ],
   "source": [
    "europe_region['region'].unique()"
   ]
  },
  {
   "cell_type": "code",
   "execution_count": 116,
   "id": "aa235abe",
   "metadata": {},
   "outputs": [],
   "source": [
    "europe_region = europe_region.dropna()"
   ]
  },
  {
   "cell_type": "code",
   "execution_count": 117,
   "id": "51e6d457",
   "metadata": {
    "scrolled": true
   },
   "outputs": [
    {
     "name": "stdout",
     "output_type": "stream",
     "text": [
      "Количество участников -  6351\n"
     ]
    }
   ],
   "source": [
    "print('Количество участников - ', len(europe_region))"
   ]
  },
  {
   "cell_type": "markdown",
   "id": "d95efa8e",
   "metadata": {},
   "source": [
    "Посчитаем долю новых пользователей отфильтрованных по дате и региону `EU`"
   ]
  },
  {
   "cell_type": "code",
   "execution_count": 118,
   "id": "d1c63a62",
   "metadata": {
    "scrolled": false
   },
   "outputs": [
    {
     "data": {
      "text/plain": [
       "15"
      ]
     },
     "execution_count": 118,
     "metadata": {},
     "output_type": "execute_result"
    }
   ],
   "source": [
    "mth.trunc(len(europe_region) / final_ab_new_users.query('region == \"EU\"')['user_id'].nunique() *100)"
   ]
  },
  {
   "cell_type": "markdown",
   "id": "163c39ae",
   "metadata": {},
   "source": [
    "в тесте отобрано 15% новых пользователей из региона EU, и количество участников 6351, что немного больше 6000. Оставим так. Далее, проверим время проведения теста и аудиторию"
   ]
  },
  {
   "cell_type": "markdown",
   "id": "35ad3fd0",
   "metadata": {},
   "source": [
    "### Время проведения теста. Убедитесь, что оно не совпадает с маркетинговыми и другими активностями."
   ]
  },
  {
   "cell_type": "markdown",
   "id": "8021fed8",
   "metadata": {},
   "source": [
    "Тест проводится с 7-го декабря 2020-го года до 4-го января 2021года, то есть мы должны сейчас найти маркетинговые активности, которые проводятся в это время"
   ]
  },
  {
   "cell_type": "code",
   "execution_count": 119,
   "id": "553386b2",
   "metadata": {
    "scrolled": true
   },
   "outputs": [
    {
     "data": {
      "text/html": [
       "<div>\n",
       "<style scoped>\n",
       "    .dataframe tbody tr th:only-of-type {\n",
       "        vertical-align: middle;\n",
       "    }\n",
       "\n",
       "    .dataframe tbody tr th {\n",
       "        vertical-align: top;\n",
       "    }\n",
       "\n",
       "    .dataframe thead th {\n",
       "        text-align: right;\n",
       "    }\n",
       "</style>\n",
       "<table border=\"1\" class=\"dataframe\">\n",
       "  <thead>\n",
       "    <tr style=\"text-align: right;\">\n",
       "      <th></th>\n",
       "      <th>name</th>\n",
       "      <th>regions</th>\n",
       "      <th>start_dt</th>\n",
       "      <th>finish_dt</th>\n",
       "    </tr>\n",
       "  </thead>\n",
       "  <tbody>\n",
       "    <tr>\n",
       "      <th>0</th>\n",
       "      <td>Christmas&amp;New Year Promo</td>\n",
       "      <td>EU, N.America</td>\n",
       "      <td>2020-12-25</td>\n",
       "      <td>2021-01-03</td>\n",
       "    </tr>\n",
       "  </tbody>\n",
       "</table>\n",
       "</div>"
      ],
      "text/plain": [
       "                       name        regions   start_dt  finish_dt\n",
       "0  Christmas&New Year Promo  EU, N.America 2020-12-25 2021-01-03"
      ]
     },
     "execution_count": 119,
     "metadata": {},
     "output_type": "execute_result"
    }
   ],
   "source": [
    "ab_project_marketing_events.query('start_dt >= \"2020-12-07\" & finish_dt <= \"2021-01-04\"')"
   ]
  },
  {
   "cell_type": "markdown",
   "id": "7505cdeb",
   "metadata": {},
   "source": [
    "В это время проводилось маркетинговое промо `Christmas&New Year Promo`, которое довольно сильно исказит результаты теста."
   ]
  },
  {
   "cell_type": "markdown",
   "id": "219248f9",
   "metadata": {},
   "source": [
    "### Аудиторию теста. Удостоверьтесь, что нет пересечений с конкурирующим тестом и нет пользователей, участвующих в двух группах теста одновременно. Проверьте равномерность распределения по тестовым группам и правильность их формирования."
   ]
  },
  {
   "cell_type": "markdown",
   "id": "e0b529f9",
   "metadata": {},
   "source": [
    "Сначала проверим наличие пользователей, которые учавствовали в конкурирующем тесте, а также рассмотрим пользователей учавствовавших в двух группах теста одновременно."
   ]
  },
  {
   "cell_type": "code",
   "execution_count": 120,
   "id": "59f91433",
   "metadata": {},
   "outputs": [
    {
     "data": {
      "text/plain": [
       "1602"
      ]
     },
     "execution_count": 120,
     "metadata": {},
     "output_type": "execute_result"
    }
   ],
   "source": [
    "len(europe_region.merge( final_ab_participants.query('ab_test == \"interface_eu_test\"'), how = 'inner', on = 'user_id'))"
   ]
  },
  {
   "cell_type": "markdown",
   "id": "a52fa945",
   "metadata": {},
   "source": [
    "1602 пользователей учавствовали в двух разных тестах, рассмотрим долю от участников `recommender_system_test`"
   ]
  },
  {
   "cell_type": "code",
   "execution_count": 121,
   "id": "fca4eb05",
   "metadata": {},
   "outputs": [
    {
     "data": {
      "text/plain": [
       "25.22"
      ]
     },
     "execution_count": 121,
     "metadata": {},
     "output_type": "execute_result"
    }
   ],
   "source": [
    "round(len(final_ab_participants.query('ab_test == \"recommender_system_test\"').merge( final_ab_participants.query('ab_test == \"interface_eu_test\"'), how = 'inner', on = 'user_id'))/len(europe_region) * 100, 2)"
   ]
  },
  {
   "cell_type": "markdown",
   "id": "097b9403",
   "metadata": {},
   "source": [
    "25.22% - доля пользователей учавствовавших в двух разных тестах."
   ]
  },
  {
   "cell_type": "markdown",
   "id": "41daed8b",
   "metadata": {},
   "source": [
    "Рассмотрим долю данных пользователей в разрезе групп тестирования"
   ]
  },
  {
   "cell_type": "code",
   "execution_count": 122,
   "id": "0e4fe546",
   "metadata": {},
   "outputs": [
    {
     "data": {
      "text/plain": [
       "group_x\n",
       "A    25.34\n",
       "B    25.06\n",
       "Name: user_id, dtype: float64"
      ]
     },
     "execution_count": 122,
     "metadata": {},
     "output_type": "execute_result"
    }
   ],
   "source": [
    "round((final_ab_participants.query('ab_test == \"recommender_system_test\"').merge( final_ab_participants.query('ab_test == \"interface_eu_test\"'), how = 'inner', on = 'user_id').groupby('group_x')['user_id'].count()/europe_region.groupby('group')['user_id'].count())*100, 2)"
   ]
  },
  {
   "cell_type": "markdown",
   "id": "acfe8e55",
   "metadata": {},
   "source": [
    "Распределение пользователей по тестовым группам почти одинаковая - 25.34% и 25.06%, поэтому будем считать что распределено равномерно."
   ]
  },
  {
   "cell_type": "markdown",
   "id": "e287da07",
   "metadata": {},
   "source": [
    "Рассмотрим количество пользователей учавствовавших в двух группах теста одновременно"
   ]
  },
  {
   "cell_type": "code",
   "execution_count": 123,
   "id": "2e40992c",
   "metadata": {
    "scrolled": true
   },
   "outputs": [
    {
     "data": {
      "text/plain": [
       "0"
      ]
     },
     "execution_count": 123,
     "metadata": {},
     "output_type": "execute_result"
    }
   ],
   "source": [
    "len(europe_region.query('group == \"A\"').merge( europe_region.query('group == \"B\"'), how = 'inner', on = 'user_id'))"
   ]
  },
  {
   "cell_type": "markdown",
   "id": "6ea51f1d",
   "metadata": {},
   "source": [
    "Как оказалось, таких участников нет"
   ]
  },
  {
   "cell_type": "markdown",
   "id": "a65362f0",
   "metadata": {},
   "source": [
    "- ожидаемый эффект: за 14 дней с момента регистрации пользователи покажут улучшение каждой метрики не менее, чем на 10%:\n",
    "     - конверсии в просмотр карточек товаров — событие product_page ,\n",
    "     - просмотры корзины — product_cart ,\n",
    "     - покупки — purchase .\n",
    "     \n",
    "То есть нужно чтобы данные были не больше 14-ти дней"
   ]
  },
  {
   "cell_type": "markdown",
   "id": "fc22b34f",
   "metadata": {},
   "source": [
    "Для этого соединим датафрейм участников тестирования с датафреймом действия пользователей"
   ]
  },
  {
   "cell_type": "code",
   "execution_count": 124,
   "id": "39d6f154",
   "metadata": {
    "scrolled": true
   },
   "outputs": [
    {
     "data": {
      "text/html": [
       "<div>\n",
       "<style scoped>\n",
       "    .dataframe tbody tr th:only-of-type {\n",
       "        vertical-align: middle;\n",
       "    }\n",
       "\n",
       "    .dataframe tbody tr th {\n",
       "        vertical-align: top;\n",
       "    }\n",
       "\n",
       "    .dataframe thead th {\n",
       "        text-align: right;\n",
       "    }\n",
       "</style>\n",
       "<table border=\"1\" class=\"dataframe\">\n",
       "  <thead>\n",
       "    <tr style=\"text-align: right;\">\n",
       "      <th></th>\n",
       "      <th>user_id</th>\n",
       "      <th>group</th>\n",
       "      <th>ab_test</th>\n",
       "      <th>region</th>\n",
       "      <th>event_dt</th>\n",
       "      <th>event_name</th>\n",
       "      <th>details</th>\n",
       "    </tr>\n",
       "  </thead>\n",
       "  <tbody>\n",
       "    <tr>\n",
       "      <th>0</th>\n",
       "      <td>D1ABA3E2887B6A73</td>\n",
       "      <td>A</td>\n",
       "      <td>recommender_system_test</td>\n",
       "      <td>EU</td>\n",
       "      <td>2020-12-07 14:43:27</td>\n",
       "      <td>purchase</td>\n",
       "      <td>99.99</td>\n",
       "    </tr>\n",
       "    <tr>\n",
       "      <th>1</th>\n",
       "      <td>D1ABA3E2887B6A73</td>\n",
       "      <td>A</td>\n",
       "      <td>recommender_system_test</td>\n",
       "      <td>EU</td>\n",
       "      <td>2020-12-25 00:04:56</td>\n",
       "      <td>purchase</td>\n",
       "      <td>4.99</td>\n",
       "    </tr>\n",
       "    <tr>\n",
       "      <th>2</th>\n",
       "      <td>D1ABA3E2887B6A73</td>\n",
       "      <td>A</td>\n",
       "      <td>recommender_system_test</td>\n",
       "      <td>EU</td>\n",
       "      <td>2020-12-07 14:43:29</td>\n",
       "      <td>product_cart</td>\n",
       "      <td>NaN</td>\n",
       "    </tr>\n",
       "    <tr>\n",
       "      <th>3</th>\n",
       "      <td>D1ABA3E2887B6A73</td>\n",
       "      <td>A</td>\n",
       "      <td>recommender_system_test</td>\n",
       "      <td>EU</td>\n",
       "      <td>2020-12-25 00:04:57</td>\n",
       "      <td>product_cart</td>\n",
       "      <td>NaN</td>\n",
       "    </tr>\n",
       "    <tr>\n",
       "      <th>4</th>\n",
       "      <td>D1ABA3E2887B6A73</td>\n",
       "      <td>A</td>\n",
       "      <td>recommender_system_test</td>\n",
       "      <td>EU</td>\n",
       "      <td>2020-12-07 14:43:27</td>\n",
       "      <td>product_page</td>\n",
       "      <td>NaN</td>\n",
       "    </tr>\n",
       "  </tbody>\n",
       "</table>\n",
       "</div>"
      ],
      "text/plain": [
       "            user_id group                  ab_test region            event_dt  \\\n",
       "0  D1ABA3E2887B6A73     A  recommender_system_test     EU 2020-12-07 14:43:27   \n",
       "1  D1ABA3E2887B6A73     A  recommender_system_test     EU 2020-12-25 00:04:56   \n",
       "2  D1ABA3E2887B6A73     A  recommender_system_test     EU 2020-12-07 14:43:29   \n",
       "3  D1ABA3E2887B6A73     A  recommender_system_test     EU 2020-12-25 00:04:57   \n",
       "4  D1ABA3E2887B6A73     A  recommender_system_test     EU 2020-12-07 14:43:27   \n",
       "\n",
       "     event_name  details  \n",
       "0      purchase    99.99  \n",
       "1      purchase     4.99  \n",
       "2  product_cart      NaN  \n",
       "3  product_cart      NaN  \n",
       "4  product_page      NaN  "
      ]
     },
     "execution_count": 124,
     "metadata": {},
     "output_type": "execute_result"
    }
   ],
   "source": [
    "event_users = europe_region.merge(final_ab_events, how='left', on='user_id')\n",
    "event_users.head()"
   ]
  },
  {
   "cell_type": "markdown",
   "id": "ff222176",
   "metadata": {},
   "source": [
    "Добавим столбец с датой регстрации"
   ]
  },
  {
   "cell_type": "code",
   "execution_count": 125,
   "id": "bd44a49d",
   "metadata": {
    "scrolled": true
   },
   "outputs": [
    {
     "data": {
      "text/html": [
       "<div>\n",
       "<style scoped>\n",
       "    .dataframe tbody tr th:only-of-type {\n",
       "        vertical-align: middle;\n",
       "    }\n",
       "\n",
       "    .dataframe tbody tr th {\n",
       "        vertical-align: top;\n",
       "    }\n",
       "\n",
       "    .dataframe thead th {\n",
       "        text-align: right;\n",
       "    }\n",
       "</style>\n",
       "<table border=\"1\" class=\"dataframe\">\n",
       "  <thead>\n",
       "    <tr style=\"text-align: right;\">\n",
       "      <th></th>\n",
       "      <th>user_id</th>\n",
       "      <th>group</th>\n",
       "      <th>ab_test</th>\n",
       "      <th>region</th>\n",
       "      <th>event_dt</th>\n",
       "      <th>event_name</th>\n",
       "      <th>details</th>\n",
       "      <th>first_date</th>\n",
       "    </tr>\n",
       "  </thead>\n",
       "  <tbody>\n",
       "    <tr>\n",
       "      <th>0</th>\n",
       "      <td>D1ABA3E2887B6A73</td>\n",
       "      <td>A</td>\n",
       "      <td>recommender_system_test</td>\n",
       "      <td>EU</td>\n",
       "      <td>2020-12-07 14:43:27</td>\n",
       "      <td>purchase</td>\n",
       "      <td>99.99</td>\n",
       "      <td>2020-12-07</td>\n",
       "    </tr>\n",
       "    <tr>\n",
       "      <th>1</th>\n",
       "      <td>D1ABA3E2887B6A73</td>\n",
       "      <td>A</td>\n",
       "      <td>recommender_system_test</td>\n",
       "      <td>EU</td>\n",
       "      <td>2020-12-25 00:04:56</td>\n",
       "      <td>purchase</td>\n",
       "      <td>4.99</td>\n",
       "      <td>2020-12-07</td>\n",
       "    </tr>\n",
       "    <tr>\n",
       "      <th>2</th>\n",
       "      <td>D1ABA3E2887B6A73</td>\n",
       "      <td>A</td>\n",
       "      <td>recommender_system_test</td>\n",
       "      <td>EU</td>\n",
       "      <td>2020-12-07 14:43:29</td>\n",
       "      <td>product_cart</td>\n",
       "      <td>NaN</td>\n",
       "      <td>2020-12-07</td>\n",
       "    </tr>\n",
       "    <tr>\n",
       "      <th>3</th>\n",
       "      <td>D1ABA3E2887B6A73</td>\n",
       "      <td>A</td>\n",
       "      <td>recommender_system_test</td>\n",
       "      <td>EU</td>\n",
       "      <td>2020-12-25 00:04:57</td>\n",
       "      <td>product_cart</td>\n",
       "      <td>NaN</td>\n",
       "      <td>2020-12-07</td>\n",
       "    </tr>\n",
       "    <tr>\n",
       "      <th>4</th>\n",
       "      <td>D1ABA3E2887B6A73</td>\n",
       "      <td>A</td>\n",
       "      <td>recommender_system_test</td>\n",
       "      <td>EU</td>\n",
       "      <td>2020-12-07 14:43:27</td>\n",
       "      <td>product_page</td>\n",
       "      <td>NaN</td>\n",
       "      <td>2020-12-07</td>\n",
       "    </tr>\n",
       "  </tbody>\n",
       "</table>\n",
       "</div>"
      ],
      "text/plain": [
       "            user_id group                  ab_test region            event_dt  \\\n",
       "0  D1ABA3E2887B6A73     A  recommender_system_test     EU 2020-12-07 14:43:27   \n",
       "1  D1ABA3E2887B6A73     A  recommender_system_test     EU 2020-12-25 00:04:56   \n",
       "2  D1ABA3E2887B6A73     A  recommender_system_test     EU 2020-12-07 14:43:29   \n",
       "3  D1ABA3E2887B6A73     A  recommender_system_test     EU 2020-12-25 00:04:57   \n",
       "4  D1ABA3E2887B6A73     A  recommender_system_test     EU 2020-12-07 14:43:27   \n",
       "\n",
       "     event_name  details first_date  \n",
       "0      purchase    99.99 2020-12-07  \n",
       "1      purchase     4.99 2020-12-07  \n",
       "2  product_cart      NaN 2020-12-07  \n",
       "3  product_cart      NaN 2020-12-07  \n",
       "4  product_page      NaN 2020-12-07  "
      ]
     },
     "execution_count": 125,
     "metadata": {},
     "output_type": "execute_result"
    }
   ],
   "source": [
    "event_users = event_users.merge(final_ab_new_users[['user_id', 'first_date']], how = 'left', on = 'user_id')\n",
    "event_users.head()"
   ]
  },
  {
   "cell_type": "markdown",
   "id": "07b8d7d4",
   "metadata": {},
   "source": [
    "Добавим столбец высчитывающий день со дня регистрации и посчитаем количество строк не удовлетворяющих условию в рамках 14 дней."
   ]
  },
  {
   "cell_type": "code",
   "execution_count": 126,
   "id": "94ae0ac8",
   "metadata": {},
   "outputs": [
    {
     "data": {
      "text/plain": [
       "3670"
      ]
     },
     "execution_count": 126,
     "metadata": {},
     "output_type": "execute_result"
    }
   ],
   "source": [
    "event_users['days'] = event_users['event_dt'].dt.date - event_users['first_date'].dt.date \n",
    "event_users['days'] = event_users['days'].dt.days\n",
    "event14 = event_users.query('days < 14')\n",
    "len(event_users) - len(event14)"
   ]
  },
  {
   "cell_type": "markdown",
   "id": "b205f9da",
   "metadata": {},
   "source": [
    "Получилось что 3670 строк не входят "
   ]
  },
  {
   "cell_type": "markdown",
   "id": "7b09aae8",
   "metadata": {},
   "source": [
    "## Исследовательский анализ данных\n",
    "### Количество событий на пользователя одинаково распределены в выборках?"
   ]
  },
  {
   "cell_type": "markdown",
   "id": "561cb570",
   "metadata": {},
   "source": [
    "Рассчитаем среднее количество событий на одного пользователя"
   ]
  },
  {
   "cell_type": "code",
   "execution_count": 127,
   "id": "973b26ae",
   "metadata": {},
   "outputs": [
    {
     "data": {
      "text/plain": [
       "6.0"
      ]
     },
     "execution_count": 127,
     "metadata": {},
     "output_type": "execute_result"
    }
   ],
   "source": [
    "round(event14['event_name'].count()/event14['user_id'].nunique(), 0)"
   ]
  },
  {
   "cell_type": "markdown",
   "id": "dd82b82b",
   "metadata": {},
   "source": [
    "В среднем на одного пользователя приходитя 6 событий. Рассмотрим в разрезе групп тестирования"
   ]
  },
  {
   "cell_type": "code",
   "execution_count": 128,
   "id": "ee7acad4",
   "metadata": {},
   "outputs": [
    {
     "name": "stdout",
     "output_type": "stream",
     "text": [
      "Среднее количество событий на пользователя в группе А\n"
     ]
    },
    {
     "data": {
      "text/plain": [
       "7.0"
      ]
     },
     "execution_count": 128,
     "metadata": {},
     "output_type": "execute_result"
    }
   ],
   "source": [
    "print('Среднее количество событий на пользователя в группе А')\n",
    "round(event14.query('group == \"A\"')['event_name'].count()/event14.query('group == \"A\"')['user_id'].nunique(), 0)"
   ]
  },
  {
   "cell_type": "code",
   "execution_count": 129,
   "id": "c4dcf0bd",
   "metadata": {
    "scrolled": true
   },
   "outputs": [
    {
     "name": "stdout",
     "output_type": "stream",
     "text": [
      "Среднее количество событий на пользователя в группе В\n"
     ]
    },
    {
     "data": {
      "text/plain": [
       "5.0"
      ]
     },
     "execution_count": 129,
     "metadata": {},
     "output_type": "execute_result"
    }
   ],
   "source": [
    "print('Среднее количество событий на пользователя в группе В')\n",
    "round(event14.query('group == \"B\"')['event_name'].count()/event14.query('group == \"B\"')['user_id'].nunique(), 0)"
   ]
  },
  {
   "cell_type": "markdown",
   "id": "a6ac07fd",
   "metadata": {},
   "source": [
    "среднее количество событий на пользователя распределено : \n",
    "- для группы А - 7 событий\n",
    "- для группы В - 5 событий\n",
    "\n",
    "а по всем группам выходит - 6 событий"
   ]
  },
  {
   "cell_type": "markdown",
   "id": "c07cbb93",
   "metadata": {},
   "source": [
    "### Как число событий в выборках распределено по дням?"
   ]
  },
  {
   "cell_type": "code",
   "execution_count": 130,
   "id": "2795e85b",
   "metadata": {},
   "outputs": [
    {
     "name": "stderr",
     "output_type": "stream",
     "text": [
      "C:\\Users\\yum19\\AppData\\Local\\Temp\\ipykernel_14616\\4055529133.py:1: SettingWithCopyWarning:\n",
      "\n",
      "\n",
      "A value is trying to be set on a copy of a slice from a DataFrame.\n",
      "Try using .loc[row_indexer,col_indexer] = value instead\n",
      "\n",
      "See the caveats in the documentation: https://pandas.pydata.org/pandas-docs/stable/user_guide/indexing.html#returning-a-view-versus-a-copy\n",
      "\n"
     ]
    }
   ],
   "source": [
    "event14['event_dt'] = event14['event_dt'].dt.date\n",
    "final_ab_new_users['first_date'] = final_ab_new_users['first_date'].dt.date"
   ]
  },
  {
   "cell_type": "code",
   "execution_count": 131,
   "id": "c30fa2da",
   "metadata": {
    "scrolled": false
   },
   "outputs": [
    {
     "data": {
      "image/png": "[encoded data removed]",
      "text/plain": [
       "<Figure size 1296x432 with 1 Axes>"
      ]
     },
     "metadata": {
      "needs_background": "light"
     },
     "output_type": "display_data"
    }
   ],
   "source": [
    "\n",
    "event14.groupby(['event_dt']).size().plot(kind='bar',  figsize=(18,6), alpha=0.5)\n",
    "plt.xticks(rotation = 45)\n",
    "plt.title('Распределение числа событий распределенный по дням')\n",
    "plt.xlabel('Дни')\n",
    "plt.ylabel('Количество событий')\n",
    "plt.grid()\n",
    "plt.show()\n",
    "plt.show()"
   ]
  },
  {
   "cell_type": "markdown",
   "id": "db56ac53",
   "metadata": {},
   "source": [
    "По результатам графика видим, что начиная с 14-го числа идет рост количества событий, доходит до 21-го числа и идет на спад. Скорее всего, это связано с покупками на рождественские праздники"
   ]
  },
  {
   "cell_type": "code",
   "execution_count": 132,
   "id": "e97b589e",
   "metadata": {},
   "outputs": [
    {
     "data": {
      "image/png": "[encoded data removed]",
      "text/plain": [
       "<Figure size 1080x432 with 1 Axes>"
      ]
     },
     "metadata": {
      "needs_background": "light"
     },
     "output_type": "display_data"
    }
   ],
   "source": [
    "event14.groupby(['event_dt', 'group']).size().unstack().plot(kind='bar', stacked=True, figsize=(15,6), alpha = 0.5)\n",
    "plt.xticks(rotation = 45)\n",
    "plt.title('Распределение количества событий по дням в разрезе по группам тестирования')\n",
    "plt.xlabel('Дата')\n",
    "plt.ylabel('Количество')\n",
    "plt.grid()\n",
    "\n",
    "plt.show()"
   ]
  },
  {
   "cell_type": "markdown",
   "id": "74a15ba8",
   "metadata": {},
   "source": [
    "Доля количества событий до 14-го числа идет более-менее равномерно что в группе А, что в В. Далее видим резкий скачок 14-го числа, количество увеличивается и доходит до пика 21-го числа и далее идет на спад. Можно предположить, что доли групп А и В распределены по датам одинаково.\n",
    "\n",
    "Рассмотрим динамику набора пользователей "
   ]
  },
  {
   "cell_type": "code",
   "execution_count": 133,
   "id": "dc2c7797",
   "metadata": {},
   "outputs": [
    {
     "data": {
      "image/png": "[encoded data removed]",
      "text/plain": [
       "<Figure size 1296x432 with 1 Axes>"
      ]
     },
     "metadata": {
      "needs_background": "light"
     },
     "output_type": "display_data"
    }
   ],
   "source": [
    "final_ab_new_users.groupby(['first_date']).size().plot(kind='bar',  figsize=(18,6), alpha=0.5)\n",
    "plt.xticks(rotation = 45)\n",
    "plt.title('Динамика распределения количества зарегистрировавшихся пользователей')\n",
    "plt.xlabel('Дни')\n",
    "plt.ylabel('Количество пользователей')\n",
    "plt.grid()\n",
    "plt.show()\n",
    "plt.show()"
   ]
  },
  {
   "cell_type": "markdown",
   "id": "04ec6801",
   "metadata": {},
   "source": [
    "в данном графике мы видим что на 14-е число приходится резкое увлечение набора пользователей\n",
    " "
   ]
  },
  {
   "cell_type": "markdown",
   "id": "d0127c98",
   "metadata": {},
   "source": [
    "### Как меняется конверсия в воронке в выборках на разных этапах?"
   ]
  },
  {
   "cell_type": "markdown",
   "id": "a9ec1569",
   "metadata": {},
   "source": [
    "Рассмотрим количество событий по названиям событий:\n",
    "- `login`        - входить в систему,\n",
    "- `product_page` - просматривать карточки товаров,\n",
    "- `product_cart` - просмотр корзины,\n",
    "- `purchase`     - покупка "
   ]
  },
  {
   "cell_type": "markdown",
   "id": "34e63cf9",
   "metadata": {},
   "source": [
    "Построим график воронки уникальных пользователей по двум группам вместе"
   ]
  },
  {
   "cell_type": "code",
   "execution_count": 134,
   "id": "01a35908",
   "metadata": {
    "scrolled": false
   },
   "outputs": [
    {
     "data": {
      "application/vnd.plotly.v1+json": {
       "config": {
        "plotlyServerURL": "https://plot.ly"
       },
       "data": [
        {
         "type": "funnel",
         "x": [
          3480,
          2178,
          1026,
          1082
         ],
         "y": [
          "login",
          "product_page",
          "product_cart",
          "purchase"
         ]
        }
       ],
       "layout": {
        "template": {
         "data": {
          "bar": [
           {
            "error_x": {
             "color": "#2a3f5f"
            },
            "error_y": {
             "color": "#2a3f5f"
            },
            "marker": {
             "line": {
              "color": "#E5ECF6",
              "width": 0.5
             },
             "pattern": {
              "fillmode": "overlay",
              "size": 10,
              "solidity": 0.2
             }
            },
            "type": "bar"
           }
          ],
          "barpolar": [
           {
            "marker": {
             "line": {
              "color": "#E5ECF6",
              "width": 0.5
             },
             "pattern": {
              "fillmode": "overlay",
              "size": 10,
              "solidity": 0.2
             }
            },
            "type": "barpolar"
           }
          ],
          "carpet": [
           {
            "aaxis": {
             "endlinecolor": "#2a3f5f",
             "gridcolor": "white",
             "linecolor": "white",
             "minorgridcolor": "white",
             "startlinecolor": "#2a3f5f"
            },
            "baxis": {
             "endlinecolor": "#2a3f5f",
             "gridcolor": "white",
             "linecolor": "white",
             "minorgridcolor": "white",
             "startlinecolor": "#2a3f5f"
            },
            "type": "carpet"
           }
          ],
          "choropleth": [
           {
            "colorbar": {
             "outlinewidth": 0,
             "ticks": ""
            },
            "type": "choropleth"
           }
          ],
          "contour": [
           {
            "colorbar": {
             "outlinewidth": 0,
             "ticks": ""
            },
            "colorscale": [
             [
              0,
              "#0d0887"
             ],
             [
              0.1111111111111111,
              "#46039f"
             ],
             [
              0.2222222222222222,
              "#7201a8"
             ],
             [
              0.3333333333333333,
              "#9c179e"
             ],
             [
              0.4444444444444444,
              "#bd3786"
             ],
             [
              0.5555555555555556,
              "#d8576b"
             ],
             [
              0.6666666666666666,
              "#ed7953"
             ],
             [
              0.7777777777777778,
              "#fb9f3a"
             ],
             [
              0.8888888888888888,
              "#fdca26"
             ],
             [
              1,
              "#f0f921"
             ]
            ],
            "type": "contour"
           }
          ],
          "contourcarpet": [
           {
            "colorbar": {
             "outlinewidth": 0,
             "ticks": ""
            },
            "type": "contourcarpet"
           }
          ],
          "heatmap": [
           {
            "colorbar": {
             "outlinewidth": 0,
             "ticks": ""
            },
            "colorscale": [
             [
              0,
              "#0d0887"
             ],
             [
              0.1111111111111111,
              "#46039f"
             ],
             [
              0.2222222222222222,
              "#7201a8"
             ],
             [
              0.3333333333333333,
              "#9c179e"
             ],
             [
              0.4444444444444444,
              "#bd3786"
             ],
             [
              0.5555555555555556,
              "#d8576b"
             ],
             [
              0.6666666666666666,
              "#ed7953"
             ],
             [
              0.7777777777777778,
              "#fb9f3a"
             ],
             [
              0.8888888888888888,
              "#fdca26"
             ],
             [
              1,
              "#f0f921"
             ]
            ],
            "type": "heatmap"
           }
          ],
          "heatmapgl": [
           {
            "colorbar": {
             "outlinewidth": 0,
             "ticks": ""
            },
            "colorscale": [
             [
              0,
              "#0d0887"
             ],
             [
              0.1111111111111111,
              "#46039f"
             ],
             [
              0.2222222222222222,
              "#7201a8"
             ],
             [
              0.3333333333333333,
              "#9c179e"
             ],
             [
              0.4444444444444444,
              "#bd3786"
             ],
             [
              0.5555555555555556,
              "#d8576b"
             ],
             [
              0.6666666666666666,
              "#ed7953"
             ],
             [
              0.7777777777777778,
              "#fb9f3a"
             ],
             [
              0.8888888888888888,
              "#fdca26"
             ],
             [
              1,
              "#f0f921"
             ]
            ],
            "type": "heatmapgl"
           }
          ],
          "histogram": [
           {
            "marker": {
             "pattern": {
              "fillmode": "overlay",
              "size": 10,
              "solidity": 0.2
             }
            },
            "type": "histogram"
           }
          ],
          "histogram2d": [
           {
            "colorbar": {
             "outlinewidth": 0,
             "ticks": ""
            },
            "colorscale": [
             [
              0,
              "#0d0887"
             ],
             [
              0.1111111111111111,
              "#46039f"
             ],
             [
              0.2222222222222222,
              "#7201a8"
             ],
             [
              0.3333333333333333,
              "#9c179e"
             ],
             [
              0.4444444444444444,
              "#bd3786"
             ],
             [
              0.5555555555555556,
              "#d8576b"
             ],
             [
              0.6666666666666666,
              "#ed7953"
             ],
             [
              0.7777777777777778,
              "#fb9f3a"
             ],
             [
              0.8888888888888888,
              "#fdca26"
             ],
             [
              1,
              "#f0f921"
             ]
            ],
            "type": "histogram2d"
           }
          ],
          "histogram2dcontour": [
           {
            "colorbar": {
             "outlinewidth": 0,
             "ticks": ""
            },
            "colorscale": [
             [
              0,
              "#0d0887"
             ],
             [
              0.1111111111111111,
              "#46039f"
             ],
             [
              0.2222222222222222,
              "#7201a8"
             ],
             [
              0.3333333333333333,
              "#9c179e"
             ],
             [
              0.4444444444444444,
              "#bd3786"
             ],
             [
              0.5555555555555556,
              "#d8576b"
             ],
             [
              0.6666666666666666,
              "#ed7953"
             ],
             [
              0.7777777777777778,
              "#fb9f3a"
             ],
             [
              0.8888888888888888,
              "#fdca26"
             ],
             [
              1,
              "#f0f921"
             ]
            ],
            "type": "histogram2dcontour"
           }
          ],
          "mesh3d": [
           {
            "colorbar": {
             "outlinewidth": 0,
             "ticks": ""
            },
            "type": "mesh3d"
           }
          ],
          "parcoords": [
           {
            "line": {
             "colorbar": {
              "outlinewidth": 0,
              "ticks": ""
             }
            },
            "type": "parcoords"
           }
          ],
          "pie": [
           {
            "automargin": true,
            "type": "pie"
           }
          ],
          "scatter": [
           {
            "fillpattern": {
             "fillmode": "overlay",
             "size": 10,
             "solidity": 0.2
            },
            "type": "scatter"
           }
          ],
          "scatter3d": [
           {
            "line": {
             "colorbar": {
              "outlinewidth": 0,
              "ticks": ""
             }
            },
            "marker": {
             "colorbar": {
              "outlinewidth": 0,
              "ticks": ""
             }
            },
            "type": "scatter3d"
           }
          ],
          "scattercarpet": [
           {
            "marker": {
             "colorbar": {
              "outlinewidth": 0,
              "ticks": ""
             }
            },
            "type": "scattercarpet"
           }
          ],
          "scattergeo": [
           {
            "marker": {
             "colorbar": {
              "outlinewidth": 0,
              "ticks": ""
             }
            },
            "type": "scattergeo"
           }
          ],
          "scattergl": [
           {
            "marker": {
             "colorbar": {
              "outlinewidth": 0,
              "ticks": ""
             }
            },
            "type": "scattergl"
           }
          ],
          "scattermapbox": [
           {
            "marker": {
             "colorbar": {
              "outlinewidth": 0,
              "ticks": ""
             }
            },
            "type": "scattermapbox"
           }
          ],
          "scatterpolar": [
           {
            "marker": {
             "colorbar": {
              "outlinewidth": 0,
              "ticks": ""
             }
            },
            "type": "scatterpolar"
           }
          ],
          "scatterpolargl": [
           {
            "marker": {
             "colorbar": {
              "outlinewidth": 0,
              "ticks": ""
             }
            },
            "type": "scatterpolargl"
           }
          ],
          "scatterternary": [
           {
            "marker": {
             "colorbar": {
              "outlinewidth": 0,
              "ticks": ""
             }
            },
            "type": "scatterternary"
           }
          ],
          "surface": [
           {
            "colorbar": {
             "outlinewidth": 0,
             "ticks": ""
            },
            "colorscale": [
             [
              0,
              "#0d0887"
             ],
             [
              0.1111111111111111,
              "#46039f"
             ],
             [
              0.2222222222222222,
              "#7201a8"
             ],
             [
              0.3333333333333333,
              "#9c179e"
             ],
             [
              0.4444444444444444,
              "#bd3786"
             ],
             [
              0.5555555555555556,
              "#d8576b"
             ],
             [
              0.6666666666666666,
              "#ed7953"
             ],
             [
              0.7777777777777778,
              "#fb9f3a"
             ],
             [
              0.8888888888888888,
              "#fdca26"
             ],
             [
              1,
              "#f0f921"
             ]
            ],
            "type": "surface"
           }
          ],
          "table": [
           {
            "cells": {
             "fill": {
              "color": "#EBF0F8"
             },
             "line": {
              "color": "white"
             }
            },
            "header": {
             "fill": {
              "color": "#C8D4E3"
             },
             "line": {
              "color": "white"
             }
            },
            "type": "table"
           }
          ]
         },
         "layout": {
          "annotationdefaults": {
           "arrowcolor": "#2a3f5f",
           "arrowhead": 0,
           "arrowwidth": 1
          },
          "autotypenumbers": "strict",
          "coloraxis": {
           "colorbar": {
            "outlinewidth": 0,
            "ticks": ""
           }
          },
          "colorscale": {
           "diverging": [
            [
             0,
             "#8e0152"
            ],
            [
             0.1,
             "#c51b7d"
            ],
            [
             0.2,
             "#de77ae"
            ],
            [
             0.3,
             "#f1b6da"
            ],
            [
             0.4,
             "#fde0ef"
            ],
            [
             0.5,
             "#f7f7f7"
            ],
            [
             0.6,
             "#e6f5d0"
            ],
            [
             0.7,
             "#b8e186"
            ],
            [
             0.8,
             "#7fbc41"
            ],
            [
             0.9,
             "#4d9221"
            ],
            [
             1,
             "#276419"
            ]
           ],
           "sequential": [
            [
             0,
             "#0d0887"
            ],
            [
             0.1111111111111111,
             "#46039f"
            ],
            [
             0.2222222222222222,
             "#7201a8"
            ],
            [
             0.3333333333333333,
             "#9c179e"
            ],
            [
             0.4444444444444444,
             "#bd3786"
            ],
            [
             0.5555555555555556,
             "#d8576b"
            ],
            [
             0.6666666666666666,
             "#ed7953"
            ],
            [
             0.7777777777777778,
             "#fb9f3a"
            ],
            [
             0.8888888888888888,
             "#fdca26"
            ],
            [
             1,
             "#f0f921"
            ]
           ],
           "sequentialminus": [
            [
             0,
             "#0d0887"
            ],
            [
             0.1111111111111111,
             "#46039f"
            ],
            [
             0.2222222222222222,
             "#7201a8"
            ],
            [
             0.3333333333333333,
             "#9c179e"
            ],
            [
             0.4444444444444444,
             "#bd3786"
            ],
            [
             0.5555555555555556,
             "#d8576b"
            ],
            [
             0.6666666666666666,
             "#ed7953"
            ],
            [
             0.7777777777777778,
             "#fb9f3a"
            ],
            [
             0.8888888888888888,
             "#fdca26"
            ],
            [
             1,
             "#f0f921"
            ]
           ]
          },
          "colorway": [
           "#636efa",
           "#EF553B",
           "#00cc96",
           "#ab63fa",
           "#FFA15A",
           "#19d3f3",
           "#FF6692",
           "#B6E880",
           "#FF97FF",
           "#FECB52"
          ],
          "font": {
           "color": "#2a3f5f"
          },
          "geo": {
           "bgcolor": "white",
           "lakecolor": "white",
           "landcolor": "#E5ECF6",
           "showlakes": true,
           "showland": true,
           "subunitcolor": "white"
          },
          "hoverlabel": {
           "align": "left"
          },
          "hovermode": "closest",
          "mapbox": {
           "style": "light"
          },
          "paper_bgcolor": "white",
          "plot_bgcolor": "#E5ECF6",
          "polar": {
           "angularaxis": {
            "gridcolor": "white",
            "linecolor": "white",
            "ticks": ""
           },
           "bgcolor": "#E5ECF6",
           "radialaxis": {
            "gridcolor": "white",
            "linecolor": "white",
            "ticks": ""
           }
          },
          "scene": {
           "xaxis": {
            "backgroundcolor": "#E5ECF6",
            "gridcolor": "white",
            "gridwidth": 2,
            "linecolor": "white",
            "showbackground": true,
            "ticks": "",
            "zerolinecolor": "white"
           },
           "yaxis": {
            "backgroundcolor": "#E5ECF6",
            "gridcolor": "white",
            "gridwidth": 2,
            "linecolor": "white",
            "showbackground": true,
            "ticks": "",
            "zerolinecolor": "white"
           },
           "zaxis": {
            "backgroundcolor": "#E5ECF6",
            "gridcolor": "white",
            "gridwidth": 2,
            "linecolor": "white",
            "showbackground": true,
            "ticks": "",
            "zerolinecolor": "white"
           }
          },
          "shapedefaults": {
           "line": {
            "color": "#2a3f5f"
           }
          },
          "ternary": {
           "aaxis": {
            "gridcolor": "white",
            "linecolor": "white",
            "ticks": ""
           },
           "baxis": {
            "gridcolor": "white",
            "linecolor": "white",
            "ticks": ""
           },
           "bgcolor": "#E5ECF6",
           "caxis": {
            "gridcolor": "white",
            "linecolor": "white",
            "ticks": ""
           }
          },
          "title": {
           "x": 0.05
          },
          "xaxis": {
           "automargin": true,
           "gridcolor": "white",
           "linecolor": "white",
           "ticks": "",
           "title": {
            "standoff": 15
           },
           "zerolinecolor": "white",
           "zerolinewidth": 2
          },
          "yaxis": {
           "automargin": true,
           "gridcolor": "white",
           "linecolor": "white",
           "ticks": "",
           "title": {
            "standoff": 15
           },
           "zerolinecolor": "white",
           "zerolinewidth": 2
          }
         }
        },
        "title": {
         "text": "Воронка количества уникальных пользователей двух групп А и В"
        }
       }
      },
      "text/html": [
       "<div>                            <div id=\"dad4517b-40d3-4805-9eed-fa9918cb262e\" class=\"plotly-graph-div\" style=\"height:525px; width:100%;\"></div>            <script type=\"text/javascript\">                require([\"plotly\"], function(Plotly) {                    window.PLOTLYENV=window.PLOTLYENV || {};                                    if (document.getElementById(\"dad4517b-40d3-4805-9eed-fa9918cb262e\")) {                    Plotly.newPlot(                        \"dad4517b-40d3-4805-9eed-fa9918cb262e\",                        [{\"x\":[3480,2178,1026,1082],\"y\":[\"login\",\"product_page\",\"product_cart\",\"purchase\"],\"type\":\"funnel\"}],                        {\"template\":{\"data\":{\"histogram2dcontour\":[{\"type\":\"histogram2dcontour\",\"colorbar\":{\"outlinewidth\":0,\"ticks\":\"\"},\"colorscale\":[[0.0,\"#0d0887\"],[0.1111111111111111,\"#46039f\"],[0.2222222222222222,\"#7201a8\"],[0.3333333333333333,\"#9c179e\"],[0.4444444444444444,\"#bd3786\"],[0.5555555555555556,\"#d8576b\"],[0.6666666666666666,\"#ed7953\"],[0.7777777777777778,\"#fb9f3a\"],[0.8888888888888888,\"#fdca26\"],[1.0,\"#f0f921\"]]}],\"choropleth\":[{\"type\":\"choropleth\",\"colorbar\":{\"outlinewidth\":0,\"ticks\":\"\"}}],\"histogram2d\":[{\"type\":\"histogram2d\",\"colorbar\":{\"outlinewidth\":0,\"ticks\":\"\"},\"colorscale\":[[0.0,\"#0d0887\"],[0.1111111111111111,\"#46039f\"],[0.2222222222222222,\"#7201a8\"],[0.3333333333333333,\"#9c179e\"],[0.4444444444444444,\"#bd3786\"],[0.5555555555555556,\"#d8576b\"],[0.6666666666666666,\"#ed7953\"],[0.7777777777777778,\"#fb9f3a\"],[0.8888888888888888,\"#fdca26\"],[1.0,\"#f0f921\"]]}],\"heatmap\":[{\"type\":\"heatmap\",\"colorbar\":{\"outlinewidth\":0,\"ticks\":\"\"},\"colorscale\":[[0.0,\"#0d0887\"],[0.1111111111111111,\"#46039f\"],[0.2222222222222222,\"#7201a8\"],[0.3333333333333333,\"#9c179e\"],[0.4444444444444444,\"#bd3786\"],[0.5555555555555556,\"#d8576b\"],[0.6666666666666666,\"#ed7953\"],[0.7777777777777778,\"#fb9f3a\"],[0.8888888888888888,\"#fdca26\"],[1.0,\"#f0f921\"]]}],\"heatmapgl\":[{\"type\":\"heatmapgl\",\"colorbar\":{\"outlinewidth\":0,\"ticks\":\"\"},\"colorscale\":[[0.0,\"#0d0887\"],[0.1111111111111111,\"#46039f\"],[0.2222222222222222,\"#7201a8\"],[0.3333333333333333,\"#9c179e\"],[0.4444444444444444,\"#bd3786\"],[0.5555555555555556,\"#d8576b\"],[0.6666666666666666,\"#ed7953\"],[0.7777777777777778,\"#fb9f3a\"],[0.8888888888888888,\"#fdca26\"],[1.0,\"#f0f921\"]]}],\"contourcarpet\":[{\"type\":\"contourcarpet\",\"colorbar\":{\"outlinewidth\":0,\"ticks\":\"\"}}],\"contour\":[{\"type\":\"contour\",\"colorbar\":{\"outlinewidth\":0,\"ticks\":\"\"},\"colorscale\":[[0.0,\"#0d0887\"],[0.1111111111111111,\"#46039f\"],[0.2222222222222222,\"#7201a8\"],[0.3333333333333333,\"#9c179e\"],[0.4444444444444444,\"#bd3786\"],[0.5555555555555556,\"#d8576b\"],[0.6666666666666666,\"#ed7953\"],[0.7777777777777778,\"#fb9f3a\"],[0.8888888888888888,\"#fdca26\"],[1.0,\"#f0f921\"]]}],\"surface\":[{\"type\":\"surface\",\"colorbar\":{\"outlinewidth\":0,\"ticks\":\"\"},\"colorscale\":[[0.0,\"#0d0887\"],[0.1111111111111111,\"#46039f\"],[0.2222222222222222,\"#7201a8\"],[0.3333333333333333,\"#9c179e\"],[0.4444444444444444,\"#bd3786\"],[0.5555555555555556,\"#d8576b\"],[0.6666666666666666,\"#ed7953\"],[0.7777777777777778,\"#fb9f3a\"],[0.8888888888888888,\"#fdca26\"],[1.0,\"#f0f921\"]]}],\"mesh3d\":[{\"type\":\"mesh3d\",\"colorbar\":{\"outlinewidth\":0,\"ticks\":\"\"}}],\"scatter\":[{\"fillpattern\":{\"fillmode\":\"overlay\",\"size\":10,\"solidity\":0.2},\"type\":\"scatter\"}],\"parcoords\":[{\"type\":\"parcoords\",\"line\":{\"colorbar\":{\"outlinewidth\":0,\"ticks\":\"\"}}}],\"scatterpolargl\":[{\"type\":\"scatterpolargl\",\"marker\":{\"colorbar\":{\"outlinewidth\":0,\"ticks\":\"\"}}}],\"bar\":[{\"error_x\":{\"color\":\"#2a3f5f\"},\"error_y\":{\"color\":\"#2a3f5f\"},\"marker\":{\"line\":{\"color\":\"#E5ECF6\",\"width\":0.5},\"pattern\":{\"fillmode\":\"overlay\",\"size\":10,\"solidity\":0.2}},\"type\":\"bar\"}],\"scattergeo\":[{\"type\":\"scattergeo\",\"marker\":{\"colorbar\":{\"outlinewidth\":0,\"ticks\":\"\"}}}],\"scatterpolar\":[{\"type\":\"scatterpolar\",\"marker\":{\"colorbar\":{\"outlinewidth\":0,\"ticks\":\"\"}}}],\"histogram\":[{\"marker\":{\"pattern\":{\"fillmode\":\"overlay\",\"size\":10,\"solidity\":0.2}},\"type\":\"histogram\"}],\"scattergl\":[{\"type\":\"scattergl\",\"marker\":{\"colorbar\":{\"outlinewidth\":0,\"ticks\":\"\"}}}],\"scatter3d\":[{\"type\":\"scatter3d\",\"line\":{\"colorbar\":{\"outlinewidth\":0,\"ticks\":\"\"}},\"marker\":{\"colorbar\":{\"outlinewidth\":0,\"ticks\":\"\"}}}],\"scattermapbox\":[{\"type\":\"scattermapbox\",\"marker\":{\"colorbar\":{\"outlinewidth\":0,\"ticks\":\"\"}}}],\"scatterternary\":[{\"type\":\"scatterternary\",\"marker\":{\"colorbar\":{\"outlinewidth\":0,\"ticks\":\"\"}}}],\"scattercarpet\":[{\"type\":\"scattercarpet\",\"marker\":{\"colorbar\":{\"outlinewidth\":0,\"ticks\":\"\"}}}],\"carpet\":[{\"aaxis\":{\"endlinecolor\":\"#2a3f5f\",\"gridcolor\":\"white\",\"linecolor\":\"white\",\"minorgridcolor\":\"white\",\"startlinecolor\":\"#2a3f5f\"},\"baxis\":{\"endlinecolor\":\"#2a3f5f\",\"gridcolor\":\"white\",\"linecolor\":\"white\",\"minorgridcolor\":\"white\",\"startlinecolor\":\"#2a3f5f\"},\"type\":\"carpet\"}],\"table\":[{\"cells\":{\"fill\":{\"color\":\"#EBF0F8\"},\"line\":{\"color\":\"white\"}},\"header\":{\"fill\":{\"color\":\"#C8D4E3\"},\"line\":{\"color\":\"white\"}},\"type\":\"table\"}],\"barpolar\":[{\"marker\":{\"line\":{\"color\":\"#E5ECF6\",\"width\":0.5},\"pattern\":{\"fillmode\":\"overlay\",\"size\":10,\"solidity\":0.2}},\"type\":\"barpolar\"}],\"pie\":[{\"automargin\":true,\"type\":\"pie\"}]},\"layout\":{\"autotypenumbers\":\"strict\",\"colorway\":[\"#636efa\",\"#EF553B\",\"#00cc96\",\"#ab63fa\",\"#FFA15A\",\"#19d3f3\",\"#FF6692\",\"#B6E880\",\"#FF97FF\",\"#FECB52\"],\"font\":{\"color\":\"#2a3f5f\"},\"hovermode\":\"closest\",\"hoverlabel\":{\"align\":\"left\"},\"paper_bgcolor\":\"white\",\"plot_bgcolor\":\"#E5ECF6\",\"polar\":{\"bgcolor\":\"#E5ECF6\",\"angularaxis\":{\"gridcolor\":\"white\",\"linecolor\":\"white\",\"ticks\":\"\"},\"radialaxis\":{\"gridcolor\":\"white\",\"linecolor\":\"white\",\"ticks\":\"\"}},\"ternary\":{\"bgcolor\":\"#E5ECF6\",\"aaxis\":{\"gridcolor\":\"white\",\"linecolor\":\"white\",\"ticks\":\"\"},\"baxis\":{\"gridcolor\":\"white\",\"linecolor\":\"white\",\"ticks\":\"\"},\"caxis\":{\"gridcolor\":\"white\",\"linecolor\":\"white\",\"ticks\":\"\"}},\"coloraxis\":{\"colorbar\":{\"outlinewidth\":0,\"ticks\":\"\"}},\"colorscale\":{\"sequential\":[[0.0,\"#0d0887\"],[0.1111111111111111,\"#46039f\"],[0.2222222222222222,\"#7201a8\"],[0.3333333333333333,\"#9c179e\"],[0.4444444444444444,\"#bd3786\"],[0.5555555555555556,\"#d8576b\"],[0.6666666666666666,\"#ed7953\"],[0.7777777777777778,\"#fb9f3a\"],[0.8888888888888888,\"#fdca26\"],[1.0,\"#f0f921\"]],\"sequentialminus\":[[0.0,\"#0d0887\"],[0.1111111111111111,\"#46039f\"],[0.2222222222222222,\"#7201a8\"],[0.3333333333333333,\"#9c179e\"],[0.4444444444444444,\"#bd3786\"],[0.5555555555555556,\"#d8576b\"],[0.6666666666666666,\"#ed7953\"],[0.7777777777777778,\"#fb9f3a\"],[0.8888888888888888,\"#fdca26\"],[1.0,\"#f0f921\"]],\"diverging\":[[0,\"#8e0152\"],[0.1,\"#c51b7d\"],[0.2,\"#de77ae\"],[0.3,\"#f1b6da\"],[0.4,\"#fde0ef\"],[0.5,\"#f7f7f7\"],[0.6,\"#e6f5d0\"],[0.7,\"#b8e186\"],[0.8,\"#7fbc41\"],[0.9,\"#4d9221\"],[1,\"#276419\"]]},\"xaxis\":{\"gridcolor\":\"white\",\"linecolor\":\"white\",\"ticks\":\"\",\"title\":{\"standoff\":15},\"zerolinecolor\":\"white\",\"automargin\":true,\"zerolinewidth\":2},\"yaxis\":{\"gridcolor\":\"white\",\"linecolor\":\"white\",\"ticks\":\"\",\"title\":{\"standoff\":15},\"zerolinecolor\":\"white\",\"automargin\":true,\"zerolinewidth\":2},\"scene\":{\"xaxis\":{\"backgroundcolor\":\"#E5ECF6\",\"gridcolor\":\"white\",\"linecolor\":\"white\",\"showbackground\":true,\"ticks\":\"\",\"zerolinecolor\":\"white\",\"gridwidth\":2},\"yaxis\":{\"backgroundcolor\":\"#E5ECF6\",\"gridcolor\":\"white\",\"linecolor\":\"white\",\"showbackground\":true,\"ticks\":\"\",\"zerolinecolor\":\"white\",\"gridwidth\":2},\"zaxis\":{\"backgroundcolor\":\"#E5ECF6\",\"gridcolor\":\"white\",\"linecolor\":\"white\",\"showbackground\":true,\"ticks\":\"\",\"zerolinecolor\":\"white\",\"gridwidth\":2}},\"shapedefaults\":{\"line\":{\"color\":\"#2a3f5f\"}},\"annotationdefaults\":{\"arrowcolor\":\"#2a3f5f\",\"arrowhead\":0,\"arrowwidth\":1},\"geo\":{\"bgcolor\":\"white\",\"landcolor\":\"#E5ECF6\",\"subunitcolor\":\"white\",\"showland\":true,\"showlakes\":true,\"lakecolor\":\"white\"},\"title\":{\"x\":0.05},\"mapbox\":{\"style\":\"light\"}}},\"title\":{\"text\":\"\\u0412\\u043e\\u0440\\u043e\\u043d\\u043a\\u0430 \\u043a\\u043e\\u043b\\u0438\\u0447\\u0435\\u0441\\u0442\\u0432\\u0430 \\u0443\\u043d\\u0438\\u043a\\u0430\\u043b\\u044c\\u043d\\u044b\\u0445 \\u043f\\u043e\\u043b\\u044c\\u0437\\u043e\\u0432\\u0430\\u0442\\u0435\\u043b\\u0435\\u0439 \\u0434\\u0432\\u0443\\u0445 \\u0433\\u0440\\u0443\\u043f\\u043f \\u0410 \\u0438 \\u0412\"}},                        {\"responsive\": true}                    ).then(function(){\n",
       "                            \n",
       "var gd = document.getElementById('dad4517b-40d3-4805-9eed-fa9918cb262e');\n",
       "var x = new MutationObserver(function (mutations, observer) {{\n",
       "        var display = window.getComputedStyle(gd).display;\n",
       "        if (!display || display === 'none') {{\n",
       "            console.log([gd, 'removed!']);\n",
       "            Plotly.purge(gd);\n",
       "            observer.disconnect();\n",
       "        }}\n",
       "}});\n",
       "\n",
       "// Listen for the removal of the full notebook cells\n",
       "var notebookContainer = gd.closest('#notebook-container');\n",
       "if (notebookContainer) {{\n",
       "    x.observe(notebookContainer, {childList: true});\n",
       "}}\n",
       "\n",
       "// Listen for the clearing of the current output cell\n",
       "var outputEl = gd.closest('.output');\n",
       "if (outputEl) {{\n",
       "    x.observe(outputEl, {childList: true});\n",
       "}}\n",
       "\n",
       "                        })                };                });            </script>        </div>"
      ]
     },
     "metadata": {},
     "output_type": "display_data"
    }
   ],
   "source": [
    "fig = go.Figure(\n",
    "    go.Funnel(\n",
    "       y=[\n",
    "            'login',\n",
    "            'product_page',\n",
    "            'product_cart',\n",
    "            'purchase'\n",
    "        ],\n",
    "        x=[event14.query('event_name == \"login\"')['user_id'].nunique(), event14.query('event_name == \"product_page\"')['user_id'].nunique(), event14.query('event_name == \"product_cart\"')['user_id'].nunique(), event14.query('event_name == \"purchase\"')['user_id'].nunique()]\n",
    "    ))\n",
    "fig.update_layout(title='Воронка количества уникальных пользователей двух групп А и В')\n",
    "fig.show() "
   ]
  },
  {
   "cell_type": "markdown",
   "id": "522d01fb",
   "metadata": {},
   "source": [
    "Видим, что `purchase` немного меньше, чем `product_cart`, возможно, скорее всего это связано с тем что некоторые товары покупают сразу не входя в корзину. Дальше рассмотрим такие же воронки для групп А и В отдельно\n"
   ]
  },
  {
   "cell_type": "code",
   "execution_count": 135,
   "id": "43c93352",
   "metadata": {
    "scrolled": true
   },
   "outputs": [],
   "source": [
    "event14a = event14.query('group == \"A\"')\n",
    "event14b = event14.query('group == \"B\"')"
   ]
  },
  {
   "cell_type": "code",
   "execution_count": 136,
   "id": "ecd878dd",
   "metadata": {
    "scrolled": false
   },
   "outputs": [
    {
     "data": {
      "application/vnd.plotly.v1+json": {
       "config": {
        "plotlyServerURL": "https://plot.ly"
       },
       "data": [
        {
         "type": "funnel",
         "x": [
          2604,
          1685,
          782,
          833
         ],
         "y": [
          "login",
          "product_page",
          "product_cart",
          "purchase"
         ]
        }
       ],
       "layout": {
        "template": {
         "data": {
          "bar": [
           {
            "error_x": {
             "color": "#2a3f5f"
            },
            "error_y": {
             "color": "#2a3f5f"
            },
            "marker": {
             "line": {
              "color": "#E5ECF6",
              "width": 0.5
             },
             "pattern": {
              "fillmode": "overlay",
              "size": 10,
              "solidity": 0.2
             }
            },
            "type": "bar"
           }
          ],
          "barpolar": [
           {
            "marker": {
             "line": {
              "color": "#E5ECF6",
              "width": 0.5
             },
             "pattern": {
              "fillmode": "overlay",
              "size": 10,
              "solidity": 0.2
             }
            },
            "type": "barpolar"
           }
          ],
          "carpet": [
           {
            "aaxis": {
             "endlinecolor": "#2a3f5f",
             "gridcolor": "white",
             "linecolor": "white",
             "minorgridcolor": "white",
             "startlinecolor": "#2a3f5f"
            },
            "baxis": {
             "endlinecolor": "#2a3f5f",
             "gridcolor": "white",
             "linecolor": "white",
             "minorgridcolor": "white",
             "startlinecolor": "#2a3f5f"
            },
            "type": "carpet"
           }
          ],
          "choropleth": [
           {
            "colorbar": {
             "outlinewidth": 0,
             "ticks": ""
            },
            "type": "choropleth"
           }
          ],
          "contour": [
           {
            "colorbar": {
             "outlinewidth": 0,
             "ticks": ""
            },
            "colorscale": [
             [
              0,
              "#0d0887"
             ],
             [
              0.1111111111111111,
              "#46039f"
             ],
             [
              0.2222222222222222,
              "#7201a8"
             ],
             [
              0.3333333333333333,
              "#9c179e"
             ],
             [
              0.4444444444444444,
              "#bd3786"
             ],
             [
              0.5555555555555556,
              "#d8576b"
             ],
             [
              0.6666666666666666,
              "#ed7953"
             ],
             [
              0.7777777777777778,
              "#fb9f3a"
             ],
             [
              0.8888888888888888,
              "#fdca26"
             ],
             [
              1,
              "#f0f921"
             ]
            ],
            "type": "contour"
           }
          ],
          "contourcarpet": [
           {
            "colorbar": {
             "outlinewidth": 0,
             "ticks": ""
            },
            "type": "contourcarpet"
           }
          ],
          "heatmap": [
           {
            "colorbar": {
             "outlinewidth": 0,
             "ticks": ""
            },
            "colorscale": [
             [
              0,
              "#0d0887"
             ],
             [
              0.1111111111111111,
              "#46039f"
             ],
             [
              0.2222222222222222,
              "#7201a8"
             ],
             [
              0.3333333333333333,
              "#9c179e"
             ],
             [
              0.4444444444444444,
              "#bd3786"
             ],
             [
              0.5555555555555556,
              "#d8576b"
             ],
             [
              0.6666666666666666,
              "#ed7953"
             ],
             [
              0.7777777777777778,
              "#fb9f3a"
             ],
             [
              0.8888888888888888,
              "#fdca26"
             ],
             [
              1,
              "#f0f921"
             ]
            ],
            "type": "heatmap"
           }
          ],
          "heatmapgl": [
           {
            "colorbar": {
             "outlinewidth": 0,
             "ticks": ""
            },
            "colorscale": [
             [
              0,
              "#0d0887"
             ],
             [
              0.1111111111111111,
              "#46039f"
             ],
             [
              0.2222222222222222,
              "#7201a8"
             ],
             [
              0.3333333333333333,
              "#9c179e"
             ],
             [
              0.4444444444444444,
              "#bd3786"
             ],
             [
              0.5555555555555556,
              "#d8576b"
             ],
             [
              0.6666666666666666,
              "#ed7953"
             ],
             [
              0.7777777777777778,
              "#fb9f3a"
             ],
             [
              0.8888888888888888,
              "#fdca26"
             ],
             [
              1,
              "#f0f921"
             ]
            ],
            "type": "heatmapgl"
           }
          ],
          "histogram": [
           {
            "marker": {
             "pattern": {
              "fillmode": "overlay",
              "size": 10,
              "solidity": 0.2
             }
            },
            "type": "histogram"
           }
          ],
          "histogram2d": [
           {
            "colorbar": {
             "outlinewidth": 0,
             "ticks": ""
            },
            "colorscale": [
             [
              0,
              "#0d0887"
             ],
             [
              0.1111111111111111,
              "#46039f"
             ],
             [
              0.2222222222222222,
              "#7201a8"
             ],
             [
              0.3333333333333333,
              "#9c179e"
             ],
             [
              0.4444444444444444,
              "#bd3786"
             ],
             [
              0.5555555555555556,
              "#d8576b"
             ],
             [
              0.6666666666666666,
              "#ed7953"
             ],
             [
              0.7777777777777778,
              "#fb9f3a"
             ],
             [
              0.8888888888888888,
              "#fdca26"
             ],
             [
              1,
              "#f0f921"
             ]
            ],
            "type": "histogram2d"
           }
          ],
          "histogram2dcontour": [
           {
            "colorbar": {
             "outlinewidth": 0,
             "ticks": ""
            },
            "colorscale": [
             [
              0,
              "#0d0887"
             ],
             [
              0.1111111111111111,
              "#46039f"
             ],
             [
              0.2222222222222222,
              "#7201a8"
             ],
             [
              0.3333333333333333,
              "#9c179e"
             ],
             [
              0.4444444444444444,
              "#bd3786"
             ],
             [
              0.5555555555555556,
              "#d8576b"
             ],
             [
              0.6666666666666666,
              "#ed7953"
             ],
             [
              0.7777777777777778,
              "#fb9f3a"
             ],
             [
              0.8888888888888888,
              "#fdca26"
             ],
             [
              1,
              "#f0f921"
             ]
            ],
            "type": "histogram2dcontour"
           }
          ],
          "mesh3d": [
           {
            "colorbar": {
             "outlinewidth": 0,
             "ticks": ""
            },
            "type": "mesh3d"
           }
          ],
          "parcoords": [
           {
            "line": {
             "colorbar": {
              "outlinewidth": 0,
              "ticks": ""
             }
            },
            "type": "parcoords"
           }
          ],
          "pie": [
           {
            "automargin": true,
            "type": "pie"
           }
          ],
          "scatter": [
           {
            "fillpattern": {
             "fillmode": "overlay",
             "size": 10,
             "solidity": 0.2
            },
            "type": "scatter"
           }
          ],
          "scatter3d": [
           {
            "line": {
             "colorbar": {
              "outlinewidth": 0,
              "ticks": ""
             }
            },
            "marker": {
             "colorbar": {
              "outlinewidth": 0,
              "ticks": ""
             }
            },
            "type": "scatter3d"
           }
          ],
          "scattercarpet": [
           {
            "marker": {
             "colorbar": {
              "outlinewidth": 0,
              "ticks": ""
             }
            },
            "type": "scattercarpet"
           }
          ],
          "scattergeo": [
           {
            "marker": {
             "colorbar": {
              "outlinewidth": 0,
              "ticks": ""
             }
            },
            "type": "scattergeo"
           }
          ],
          "scattergl": [
           {
            "marker": {
             "colorbar": {
              "outlinewidth": 0,
              "ticks": ""
             }
            },
            "type": "scattergl"
           }
          ],
          "scattermapbox": [
           {
            "marker": {
             "colorbar": {
              "outlinewidth": 0,
              "ticks": ""
             }
            },
            "type": "scattermapbox"
           }
          ],
          "scatterpolar": [
           {
            "marker": {
             "colorbar": {
              "outlinewidth": 0,
              "ticks": ""
             }
            },
            "type": "scatterpolar"
           }
          ],
          "scatterpolargl": [
           {
            "marker": {
             "colorbar": {
              "outlinewidth": 0,
              "ticks": ""
             }
            },
            "type": "scatterpolargl"
           }
          ],
          "scatterternary": [
           {
            "marker": {
             "colorbar": {
              "outlinewidth": 0,
              "ticks": ""
             }
            },
            "type": "scatterternary"
           }
          ],
          "surface": [
           {
            "colorbar": {
             "outlinewidth": 0,
             "ticks": ""
            },
            "colorscale": [
             [
              0,
              "#0d0887"
             ],
             [
              0.1111111111111111,
              "#46039f"
             ],
             [
              0.2222222222222222,
              "#7201a8"
             ],
             [
              0.3333333333333333,
              "#9c179e"
             ],
             [
              0.4444444444444444,
              "#bd3786"
             ],
             [
              0.5555555555555556,
              "#d8576b"
             ],
             [
              0.6666666666666666,
              "#ed7953"
             ],
             [
              0.7777777777777778,
              "#fb9f3a"
             ],
             [
              0.8888888888888888,
              "#fdca26"
             ],
             [
              1,
              "#f0f921"
             ]
            ],
            "type": "surface"
           }
          ],
          "table": [
           {
            "cells": {
             "fill": {
              "color": "#EBF0F8"
             },
             "line": {
              "color": "white"
             }
            },
            "header": {
             "fill": {
              "color": "#C8D4E3"
             },
             "line": {
              "color": "white"
             }
            },
            "type": "table"
           }
          ]
         },
         "layout": {
          "annotationdefaults": {
           "arrowcolor": "#2a3f5f",
           "arrowhead": 0,
           "arrowwidth": 1
          },
          "autotypenumbers": "strict",
          "coloraxis": {
           "colorbar": {
            "outlinewidth": 0,
            "ticks": ""
           }
          },
          "colorscale": {
           "diverging": [
            [
             0,
             "#8e0152"
            ],
            [
             0.1,
             "#c51b7d"
            ],
            [
             0.2,
             "#de77ae"
            ],
            [
             0.3,
             "#f1b6da"
            ],
            [
             0.4,
             "#fde0ef"
            ],
            [
             0.5,
             "#f7f7f7"
            ],
            [
             0.6,
             "#e6f5d0"
            ],
            [
             0.7,
             "#b8e186"
            ],
            [
             0.8,
             "#7fbc41"
            ],
            [
             0.9,
             "#4d9221"
            ],
            [
             1,
             "#276419"
            ]
           ],
           "sequential": [
            [
             0,
             "#0d0887"
            ],
            [
             0.1111111111111111,
             "#46039f"
            ],
            [
             0.2222222222222222,
             "#7201a8"
            ],
            [
             0.3333333333333333,
             "#9c179e"
            ],
            [
             0.4444444444444444,
             "#bd3786"
            ],
            [
             0.5555555555555556,
             "#d8576b"
            ],
            [
             0.6666666666666666,
             "#ed7953"
            ],
            [
             0.7777777777777778,
             "#fb9f3a"
            ],
            [
             0.8888888888888888,
             "#fdca26"
            ],
            [
             1,
             "#f0f921"
            ]
           ],
           "sequentialminus": [
            [
             0,
             "#0d0887"
            ],
            [
             0.1111111111111111,
             "#46039f"
            ],
            [
             0.2222222222222222,
             "#7201a8"
            ],
            [
             0.3333333333333333,
             "#9c179e"
            ],
            [
             0.4444444444444444,
             "#bd3786"
            ],
            [
             0.5555555555555556,
             "#d8576b"
            ],
            [
             0.6666666666666666,
             "#ed7953"
            ],
            [
             0.7777777777777778,
             "#fb9f3a"
            ],
            [
             0.8888888888888888,
             "#fdca26"
            ],
            [
             1,
             "#f0f921"
            ]
           ]
          },
          "colorway": [
           "#636efa",
           "#EF553B",
           "#00cc96",
           "#ab63fa",
           "#FFA15A",
           "#19d3f3",
           "#FF6692",
           "#B6E880",
           "#FF97FF",
           "#FECB52"
          ],
          "font": {
           "color": "#2a3f5f"
          },
          "geo": {
           "bgcolor": "white",
           "lakecolor": "white",
           "landcolor": "#E5ECF6",
           "showlakes": true,
           "showland": true,
           "subunitcolor": "white"
          },
          "hoverlabel": {
           "align": "left"
          },
          "hovermode": "closest",
          "mapbox": {
           "style": "light"
          },
          "paper_bgcolor": "white",
          "plot_bgcolor": "#E5ECF6",
          "polar": {
           "angularaxis": {
            "gridcolor": "white",
            "linecolor": "white",
            "ticks": ""
           },
           "bgcolor": "#E5ECF6",
           "radialaxis": {
            "gridcolor": "white",
            "linecolor": "white",
            "ticks": ""
           }
          },
          "scene": {
           "xaxis": {
            "backgroundcolor": "#E5ECF6",
            "gridcolor": "white",
            "gridwidth": 2,
            "linecolor": "white",
            "showbackground": true,
            "ticks": "",
            "zerolinecolor": "white"
           },
           "yaxis": {
            "backgroundcolor": "#E5ECF6",
            "gridcolor": "white",
            "gridwidth": 2,
            "linecolor": "white",
            "showbackground": true,
            "ticks": "",
            "zerolinecolor": "white"
           },
           "zaxis": {
            "backgroundcolor": "#E5ECF6",
            "gridcolor": "white",
            "gridwidth": 2,
            "linecolor": "white",
            "showbackground": true,
            "ticks": "",
            "zerolinecolor": "white"
           }
          },
          "shapedefaults": {
           "line": {
            "color": "#2a3f5f"
           }
          },
          "ternary": {
           "aaxis": {
            "gridcolor": "white",
            "linecolor": "white",
            "ticks": ""
           },
           "baxis": {
            "gridcolor": "white",
            "linecolor": "white",
            "ticks": ""
           },
           "bgcolor": "#E5ECF6",
           "caxis": {
            "gridcolor": "white",
            "linecolor": "white",
            "ticks": ""
           }
          },
          "title": {
           "x": 0.05
          },
          "xaxis": {
           "automargin": true,
           "gridcolor": "white",
           "linecolor": "white",
           "ticks": "",
           "title": {
            "standoff": 15
           },
           "zerolinecolor": "white",
           "zerolinewidth": 2
          },
          "yaxis": {
           "automargin": true,
           "gridcolor": "white",
           "linecolor": "white",
           "ticks": "",
           "title": {
            "standoff": 15
           },
           "zerolinecolor": "white",
           "zerolinewidth": 2
          }
         }
        },
        "title": {
         "text": "Воронка количества событий группы А "
        }
       }
      },
      "text/html": [
       "<div>                            <div id=\"f61a8cc8-0e40-4d7b-a5d2-d15b45a92b0f\" class=\"plotly-graph-div\" style=\"height:525px; width:100%;\"></div>            <script type=\"text/javascript\">                require([\"plotly\"], function(Plotly) {                    window.PLOTLYENV=window.PLOTLYENV || {};                                    if (document.getElementById(\"f61a8cc8-0e40-4d7b-a5d2-d15b45a92b0f\")) {                    Plotly.newPlot(                        \"f61a8cc8-0e40-4d7b-a5d2-d15b45a92b0f\",                        [{\"x\":[2604,1685,782,833],\"y\":[\"login\",\"product_page\",\"product_cart\",\"purchase\"],\"type\":\"funnel\"}],                        {\"template\":{\"data\":{\"histogram2dcontour\":[{\"type\":\"histogram2dcontour\",\"colorbar\":{\"outlinewidth\":0,\"ticks\":\"\"},\"colorscale\":[[0.0,\"#0d0887\"],[0.1111111111111111,\"#46039f\"],[0.2222222222222222,\"#7201a8\"],[0.3333333333333333,\"#9c179e\"],[0.4444444444444444,\"#bd3786\"],[0.5555555555555556,\"#d8576b\"],[0.6666666666666666,\"#ed7953\"],[0.7777777777777778,\"#fb9f3a\"],[0.8888888888888888,\"#fdca26\"],[1.0,\"#f0f921\"]]}],\"choropleth\":[{\"type\":\"choropleth\",\"colorbar\":{\"outlinewidth\":0,\"ticks\":\"\"}}],\"histogram2d\":[{\"type\":\"histogram2d\",\"colorbar\":{\"outlinewidth\":0,\"ticks\":\"\"},\"colorscale\":[[0.0,\"#0d0887\"],[0.1111111111111111,\"#46039f\"],[0.2222222222222222,\"#7201a8\"],[0.3333333333333333,\"#9c179e\"],[0.4444444444444444,\"#bd3786\"],[0.5555555555555556,\"#d8576b\"],[0.6666666666666666,\"#ed7953\"],[0.7777777777777778,\"#fb9f3a\"],[0.8888888888888888,\"#fdca26\"],[1.0,\"#f0f921\"]]}],\"heatmap\":[{\"type\":\"heatmap\",\"colorbar\":{\"outlinewidth\":0,\"ticks\":\"\"},\"colorscale\":[[0.0,\"#0d0887\"],[0.1111111111111111,\"#46039f\"],[0.2222222222222222,\"#7201a8\"],[0.3333333333333333,\"#9c179e\"],[0.4444444444444444,\"#bd3786\"],[0.5555555555555556,\"#d8576b\"],[0.6666666666666666,\"#ed7953\"],[0.7777777777777778,\"#fb9f3a\"],[0.8888888888888888,\"#fdca26\"],[1.0,\"#f0f921\"]]}],\"heatmapgl\":[{\"type\":\"heatmapgl\",\"colorbar\":{\"outlinewidth\":0,\"ticks\":\"\"},\"colorscale\":[[0.0,\"#0d0887\"],[0.1111111111111111,\"#46039f\"],[0.2222222222222222,\"#7201a8\"],[0.3333333333333333,\"#9c179e\"],[0.4444444444444444,\"#bd3786\"],[0.5555555555555556,\"#d8576b\"],[0.6666666666666666,\"#ed7953\"],[0.7777777777777778,\"#fb9f3a\"],[0.8888888888888888,\"#fdca26\"],[1.0,\"#f0f921\"]]}],\"contourcarpet\":[{\"type\":\"contourcarpet\",\"colorbar\":{\"outlinewidth\":0,\"ticks\":\"\"}}],\"contour\":[{\"type\":\"contour\",\"colorbar\":{\"outlinewidth\":0,\"ticks\":\"\"},\"colorscale\":[[0.0,\"#0d0887\"],[0.1111111111111111,\"#46039f\"],[0.2222222222222222,\"#7201a8\"],[0.3333333333333333,\"#9c179e\"],[0.4444444444444444,\"#bd3786\"],[0.5555555555555556,\"#d8576b\"],[0.6666666666666666,\"#ed7953\"],[0.7777777777777778,\"#fb9f3a\"],[0.8888888888888888,\"#fdca26\"],[1.0,\"#f0f921\"]]}],\"surface\":[{\"type\":\"surface\",\"colorbar\":{\"outlinewidth\":0,\"ticks\":\"\"},\"colorscale\":[[0.0,\"#0d0887\"],[0.1111111111111111,\"#46039f\"],[0.2222222222222222,\"#7201a8\"],[0.3333333333333333,\"#9c179e\"],[0.4444444444444444,\"#bd3786\"],[0.5555555555555556,\"#d8576b\"],[0.6666666666666666,\"#ed7953\"],[0.7777777777777778,\"#fb9f3a\"],[0.8888888888888888,\"#fdca26\"],[1.0,\"#f0f921\"]]}],\"mesh3d\":[{\"type\":\"mesh3d\",\"colorbar\":{\"outlinewidth\":0,\"ticks\":\"\"}}],\"scatter\":[{\"fillpattern\":{\"fillmode\":\"overlay\",\"size\":10,\"solidity\":0.2},\"type\":\"scatter\"}],\"parcoords\":[{\"type\":\"parcoords\",\"line\":{\"colorbar\":{\"outlinewidth\":0,\"ticks\":\"\"}}}],\"scatterpolargl\":[{\"type\":\"scatterpolargl\",\"marker\":{\"colorbar\":{\"outlinewidth\":0,\"ticks\":\"\"}}}],\"bar\":[{\"error_x\":{\"color\":\"#2a3f5f\"},\"error_y\":{\"color\":\"#2a3f5f\"},\"marker\":{\"line\":{\"color\":\"#E5ECF6\",\"width\":0.5},\"pattern\":{\"fillmode\":\"overlay\",\"size\":10,\"solidity\":0.2}},\"type\":\"bar\"}],\"scattergeo\":[{\"type\":\"scattergeo\",\"marker\":{\"colorbar\":{\"outlinewidth\":0,\"ticks\":\"\"}}}],\"scatterpolar\":[{\"type\":\"scatterpolar\",\"marker\":{\"colorbar\":{\"outlinewidth\":0,\"ticks\":\"\"}}}],\"histogram\":[{\"marker\":{\"pattern\":{\"fillmode\":\"overlay\",\"size\":10,\"solidity\":0.2}},\"type\":\"histogram\"}],\"scattergl\":[{\"type\":\"scattergl\",\"marker\":{\"colorbar\":{\"outlinewidth\":0,\"ticks\":\"\"}}}],\"scatter3d\":[{\"type\":\"scatter3d\",\"line\":{\"colorbar\":{\"outlinewidth\":0,\"ticks\":\"\"}},\"marker\":{\"colorbar\":{\"outlinewidth\":0,\"ticks\":\"\"}}}],\"scattermapbox\":[{\"type\":\"scattermapbox\",\"marker\":{\"colorbar\":{\"outlinewidth\":0,\"ticks\":\"\"}}}],\"scatterternary\":[{\"type\":\"scatterternary\",\"marker\":{\"colorbar\":{\"outlinewidth\":0,\"ticks\":\"\"}}}],\"scattercarpet\":[{\"type\":\"scattercarpet\",\"marker\":{\"colorbar\":{\"outlinewidth\":0,\"ticks\":\"\"}}}],\"carpet\":[{\"aaxis\":{\"endlinecolor\":\"#2a3f5f\",\"gridcolor\":\"white\",\"linecolor\":\"white\",\"minorgridcolor\":\"white\",\"startlinecolor\":\"#2a3f5f\"},\"baxis\":{\"endlinecolor\":\"#2a3f5f\",\"gridcolor\":\"white\",\"linecolor\":\"white\",\"minorgridcolor\":\"white\",\"startlinecolor\":\"#2a3f5f\"},\"type\":\"carpet\"}],\"table\":[{\"cells\":{\"fill\":{\"color\":\"#EBF0F8\"},\"line\":{\"color\":\"white\"}},\"header\":{\"fill\":{\"color\":\"#C8D4E3\"},\"line\":{\"color\":\"white\"}},\"type\":\"table\"}],\"barpolar\":[{\"marker\":{\"line\":{\"color\":\"#E5ECF6\",\"width\":0.5},\"pattern\":{\"fillmode\":\"overlay\",\"size\":10,\"solidity\":0.2}},\"type\":\"barpolar\"}],\"pie\":[{\"automargin\":true,\"type\":\"pie\"}]},\"layout\":{\"autotypenumbers\":\"strict\",\"colorway\":[\"#636efa\",\"#EF553B\",\"#00cc96\",\"#ab63fa\",\"#FFA15A\",\"#19d3f3\",\"#FF6692\",\"#B6E880\",\"#FF97FF\",\"#FECB52\"],\"font\":{\"color\":\"#2a3f5f\"},\"hovermode\":\"closest\",\"hoverlabel\":{\"align\":\"left\"},\"paper_bgcolor\":\"white\",\"plot_bgcolor\":\"#E5ECF6\",\"polar\":{\"bgcolor\":\"#E5ECF6\",\"angularaxis\":{\"gridcolor\":\"white\",\"linecolor\":\"white\",\"ticks\":\"\"},\"radialaxis\":{\"gridcolor\":\"white\",\"linecolor\":\"white\",\"ticks\":\"\"}},\"ternary\":{\"bgcolor\":\"#E5ECF6\",\"aaxis\":{\"gridcolor\":\"white\",\"linecolor\":\"white\",\"ticks\":\"\"},\"baxis\":{\"gridcolor\":\"white\",\"linecolor\":\"white\",\"ticks\":\"\"},\"caxis\":{\"gridcolor\":\"white\",\"linecolor\":\"white\",\"ticks\":\"\"}},\"coloraxis\":{\"colorbar\":{\"outlinewidth\":0,\"ticks\":\"\"}},\"colorscale\":{\"sequential\":[[0.0,\"#0d0887\"],[0.1111111111111111,\"#46039f\"],[0.2222222222222222,\"#7201a8\"],[0.3333333333333333,\"#9c179e\"],[0.4444444444444444,\"#bd3786\"],[0.5555555555555556,\"#d8576b\"],[0.6666666666666666,\"#ed7953\"],[0.7777777777777778,\"#fb9f3a\"],[0.8888888888888888,\"#fdca26\"],[1.0,\"#f0f921\"]],\"sequentialminus\":[[0.0,\"#0d0887\"],[0.1111111111111111,\"#46039f\"],[0.2222222222222222,\"#7201a8\"],[0.3333333333333333,\"#9c179e\"],[0.4444444444444444,\"#bd3786\"],[0.5555555555555556,\"#d8576b\"],[0.6666666666666666,\"#ed7953\"],[0.7777777777777778,\"#fb9f3a\"],[0.8888888888888888,\"#fdca26\"],[1.0,\"#f0f921\"]],\"diverging\":[[0,\"#8e0152\"],[0.1,\"#c51b7d\"],[0.2,\"#de77ae\"],[0.3,\"#f1b6da\"],[0.4,\"#fde0ef\"],[0.5,\"#f7f7f7\"],[0.6,\"#e6f5d0\"],[0.7,\"#b8e186\"],[0.8,\"#7fbc41\"],[0.9,\"#4d9221\"],[1,\"#276419\"]]},\"xaxis\":{\"gridcolor\":\"white\",\"linecolor\":\"white\",\"ticks\":\"\",\"title\":{\"standoff\":15},\"zerolinecolor\":\"white\",\"automargin\":true,\"zerolinewidth\":2},\"yaxis\":{\"gridcolor\":\"white\",\"linecolor\":\"white\",\"ticks\":\"\",\"title\":{\"standoff\":15},\"zerolinecolor\":\"white\",\"automargin\":true,\"zerolinewidth\":2},\"scene\":{\"xaxis\":{\"backgroundcolor\":\"#E5ECF6\",\"gridcolor\":\"white\",\"linecolor\":\"white\",\"showbackground\":true,\"ticks\":\"\",\"zerolinecolor\":\"white\",\"gridwidth\":2},\"yaxis\":{\"backgroundcolor\":\"#E5ECF6\",\"gridcolor\":\"white\",\"linecolor\":\"white\",\"showbackground\":true,\"ticks\":\"\",\"zerolinecolor\":\"white\",\"gridwidth\":2},\"zaxis\":{\"backgroundcolor\":\"#E5ECF6\",\"gridcolor\":\"white\",\"linecolor\":\"white\",\"showbackground\":true,\"ticks\":\"\",\"zerolinecolor\":\"white\",\"gridwidth\":2}},\"shapedefaults\":{\"line\":{\"color\":\"#2a3f5f\"}},\"annotationdefaults\":{\"arrowcolor\":\"#2a3f5f\",\"arrowhead\":0,\"arrowwidth\":1},\"geo\":{\"bgcolor\":\"white\",\"landcolor\":\"#E5ECF6\",\"subunitcolor\":\"white\",\"showland\":true,\"showlakes\":true,\"lakecolor\":\"white\"},\"title\":{\"x\":0.05},\"mapbox\":{\"style\":\"light\"}}},\"title\":{\"text\":\"\\u0412\\u043e\\u0440\\u043e\\u043d\\u043a\\u0430 \\u043a\\u043e\\u043b\\u0438\\u0447\\u0435\\u0441\\u0442\\u0432\\u0430 \\u0441\\u043e\\u0431\\u044b\\u0442\\u0438\\u0439 \\u0433\\u0440\\u0443\\u043f\\u043f\\u044b \\u0410 \"}},                        {\"responsive\": true}                    ).then(function(){\n",
       "                            \n",
       "var gd = document.getElementById('f61a8cc8-0e40-4d7b-a5d2-d15b45a92b0f');\n",
       "var x = new MutationObserver(function (mutations, observer) {{\n",
       "        var display = window.getComputedStyle(gd).display;\n",
       "        if (!display || display === 'none') {{\n",
       "            console.log([gd, 'removed!']);\n",
       "            Plotly.purge(gd);\n",
       "            observer.disconnect();\n",
       "        }}\n",
       "}});\n",
       "\n",
       "// Listen for the removal of the full notebook cells\n",
       "var notebookContainer = gd.closest('#notebook-container');\n",
       "if (notebookContainer) {{\n",
       "    x.observe(notebookContainer, {childList: true});\n",
       "}}\n",
       "\n",
       "// Listen for the clearing of the current output cell\n",
       "var outputEl = gd.closest('.output');\n",
       "if (outputEl) {{\n",
       "    x.observe(outputEl, {childList: true});\n",
       "}}\n",
       "\n",
       "                        })                };                });            </script>        </div>"
      ]
     },
     "metadata": {},
     "output_type": "display_data"
    }
   ],
   "source": [
    "fig = go.Figure(\n",
    "    go.Funnel(\n",
    "       y=[\n",
    "            'login',\n",
    "            'product_page',\n",
    "            'product_cart',\n",
    "            'purchase'\n",
    "        ],\n",
    "        x=[event14a.query('event_name == \"login\"')['user_id'].nunique(), event14a.query('event_name == \"product_page\"')['user_id'].nunique(), event14a.query('event_name == \"product_cart\"')['user_id'].nunique(), event14a.query('event_name == \"purchase\"')['user_id'].nunique()]\n",
    "    ))\n",
    "fig.update_layout(title='Воронка количества событий группы А ')\n",
    "fig.show() "
   ]
  },
  {
   "cell_type": "code",
   "execution_count": 137,
   "id": "74c02d5e",
   "metadata": {},
   "outputs": [
    {
     "data": {
      "application/vnd.plotly.v1+json": {
       "config": {
        "plotlyServerURL": "https://plot.ly"
       },
       "data": [
        {
         "type": "funnel",
         "x": [
          876,
          493,
          244,
          249
         ],
         "y": [
          "login",
          "product_page",
          "product_cart",
          "purchase"
         ]
        }
       ],
       "layout": {
        "template": {
         "data": {
          "bar": [
           {
            "error_x": {
             "color": "#2a3f5f"
            },
            "error_y": {
             "color": "#2a3f5f"
            },
            "marker": {
             "line": {
              "color": "#E5ECF6",
              "width": 0.5
             },
             "pattern": {
              "fillmode": "overlay",
              "size": 10,
              "solidity": 0.2
             }
            },
            "type": "bar"
           }
          ],
          "barpolar": [
           {
            "marker": {
             "line": {
              "color": "#E5ECF6",
              "width": 0.5
             },
             "pattern": {
              "fillmode": "overlay",
              "size": 10,
              "solidity": 0.2
             }
            },
            "type": "barpolar"
           }
          ],
          "carpet": [
           {
            "aaxis": {
             "endlinecolor": "#2a3f5f",
             "gridcolor": "white",
             "linecolor": "white",
             "minorgridcolor": "white",
             "startlinecolor": "#2a3f5f"
            },
            "baxis": {
             "endlinecolor": "#2a3f5f",
             "gridcolor": "white",
             "linecolor": "white",
             "minorgridcolor": "white",
             "startlinecolor": "#2a3f5f"
            },
            "type": "carpet"
           }
          ],
          "choropleth": [
           {
            "colorbar": {
             "outlinewidth": 0,
             "ticks": ""
            },
            "type": "choropleth"
           }
          ],
          "contour": [
           {
            "colorbar": {
             "outlinewidth": 0,
             "ticks": ""
            },
            "colorscale": [
             [
              0,
              "#0d0887"
             ],
             [
              0.1111111111111111,
              "#46039f"
             ],
             [
              0.2222222222222222,
              "#7201a8"
             ],
             [
              0.3333333333333333,
              "#9c179e"
             ],
             [
              0.4444444444444444,
              "#bd3786"
             ],
             [
              0.5555555555555556,
              "#d8576b"
             ],
             [
              0.6666666666666666,
              "#ed7953"
             ],
             [
              0.7777777777777778,
              "#fb9f3a"
             ],
             [
              0.8888888888888888,
              "#fdca26"
             ],
             [
              1,
              "#f0f921"
             ]
            ],
            "type": "contour"
           }
          ],
          "contourcarpet": [
           {
            "colorbar": {
             "outlinewidth": 0,
             "ticks": ""
            },
            "type": "contourcarpet"
           }
          ],
          "heatmap": [
           {
            "colorbar": {
             "outlinewidth": 0,
             "ticks": ""
            },
            "colorscale": [
             [
              0,
              "#0d0887"
             ],
             [
              0.1111111111111111,
              "#46039f"
             ],
             [
              0.2222222222222222,
              "#7201a8"
             ],
             [
              0.3333333333333333,
              "#9c179e"
             ],
             [
              0.4444444444444444,
              "#bd3786"
             ],
             [
              0.5555555555555556,
              "#d8576b"
             ],
             [
              0.6666666666666666,
              "#ed7953"
             ],
             [
              0.7777777777777778,
              "#fb9f3a"
             ],
             [
              0.8888888888888888,
              "#fdca26"
             ],
             [
              1,
              "#f0f921"
             ]
            ],
            "type": "heatmap"
           }
          ],
          "heatmapgl": [
           {
            "colorbar": {
             "outlinewidth": 0,
             "ticks": ""
            },
            "colorscale": [
             [
              0,
              "#0d0887"
             ],
             [
              0.1111111111111111,
              "#46039f"
             ],
             [
              0.2222222222222222,
              "#7201a8"
             ],
             [
              0.3333333333333333,
              "#9c179e"
             ],
             [
              0.4444444444444444,
              "#bd3786"
             ],
             [
              0.5555555555555556,
              "#d8576b"
             ],
             [
              0.6666666666666666,
              "#ed7953"
             ],
             [
              0.7777777777777778,
              "#fb9f3a"
             ],
             [
              0.8888888888888888,
              "#fdca26"
             ],
             [
              1,
              "#f0f921"
             ]
            ],
            "type": "heatmapgl"
           }
          ],
          "histogram": [
           {
            "marker": {
             "pattern": {
              "fillmode": "overlay",
              "size": 10,
              "solidity": 0.2
             }
            },
            "type": "histogram"
           }
          ],
          "histogram2d": [
           {
            "colorbar": {
             "outlinewidth": 0,
             "ticks": ""
            },
            "colorscale": [
             [
              0,
              "#0d0887"
             ],
             [
              0.1111111111111111,
              "#46039f"
             ],
             [
              0.2222222222222222,
              "#7201a8"
             ],
             [
              0.3333333333333333,
              "#9c179e"
             ],
             [
              0.4444444444444444,
              "#bd3786"
             ],
             [
              0.5555555555555556,
              "#d8576b"
             ],
             [
              0.6666666666666666,
              "#ed7953"
             ],
             [
              0.7777777777777778,
              "#fb9f3a"
             ],
             [
              0.8888888888888888,
              "#fdca26"
             ],
             [
              1,
              "#f0f921"
             ]
            ],
            "type": "histogram2d"
           }
          ],
          "histogram2dcontour": [
           {
            "colorbar": {
             "outlinewidth": 0,
             "ticks": ""
            },
            "colorscale": [
             [
              0,
              "#0d0887"
             ],
             [
              0.1111111111111111,
              "#46039f"
             ],
             [
              0.2222222222222222,
              "#7201a8"
             ],
             [
              0.3333333333333333,
              "#9c179e"
             ],
             [
              0.4444444444444444,
              "#bd3786"
             ],
             [
              0.5555555555555556,
              "#d8576b"
             ],
             [
              0.6666666666666666,
              "#ed7953"
             ],
             [
              0.7777777777777778,
              "#fb9f3a"
             ],
             [
              0.8888888888888888,
              "#fdca26"
             ],
             [
              1,
              "#f0f921"
             ]
            ],
            "type": "histogram2dcontour"
           }
          ],
          "mesh3d": [
           {
            "colorbar": {
             "outlinewidth": 0,
             "ticks": ""
            },
            "type": "mesh3d"
           }
          ],
          "parcoords": [
           {
            "line": {
             "colorbar": {
              "outlinewidth": 0,
              "ticks": ""
             }
            },
            "type": "parcoords"
           }
          ],
          "pie": [
           {
            "automargin": true,
            "type": "pie"
           }
          ],
          "scatter": [
           {
            "fillpattern": {
             "fillmode": "overlay",
             "size": 10,
             "solidity": 0.2
            },
            "type": "scatter"
           }
          ],
          "scatter3d": [
           {
            "line": {
             "colorbar": {
              "outlinewidth": 0,
              "ticks": ""
             }
            },
            "marker": {
             "colorbar": {
              "outlinewidth": 0,
              "ticks": ""
             }
            },
            "type": "scatter3d"
           }
          ],
          "scattercarpet": [
           {
            "marker": {
             "colorbar": {
              "outlinewidth": 0,
              "ticks": ""
             }
            },
            "type": "scattercarpet"
           }
          ],
          "scattergeo": [
           {
            "marker": {
             "colorbar": {
              "outlinewidth": 0,
              "ticks": ""
             }
            },
            "type": "scattergeo"
           }
          ],
          "scattergl": [
           {
            "marker": {
             "colorbar": {
              "outlinewidth": 0,
              "ticks": ""
             }
            },
            "type": "scattergl"
           }
          ],
          "scattermapbox": [
           {
            "marker": {
             "colorbar": {
              "outlinewidth": 0,
              "ticks": ""
             }
            },
            "type": "scattermapbox"
           }
          ],
          "scatterpolar": [
           {
            "marker": {
             "colorbar": {
              "outlinewidth": 0,
              "ticks": ""
             }
            },
            "type": "scatterpolar"
           }
          ],
          "scatterpolargl": [
           {
            "marker": {
             "colorbar": {
              "outlinewidth": 0,
              "ticks": ""
             }
            },
            "type": "scatterpolargl"
           }
          ],
          "scatterternary": [
           {
            "marker": {
             "colorbar": {
              "outlinewidth": 0,
              "ticks": ""
             }
            },
            "type": "scatterternary"
           }
          ],
          "surface": [
           {
            "colorbar": {
             "outlinewidth": 0,
             "ticks": ""
            },
            "colorscale": [
             [
              0,
              "#0d0887"
             ],
             [
              0.1111111111111111,
              "#46039f"
             ],
             [
              0.2222222222222222,
              "#7201a8"
             ],
             [
              0.3333333333333333,
              "#9c179e"
             ],
             [
              0.4444444444444444,
              "#bd3786"
             ],
             [
              0.5555555555555556,
              "#d8576b"
             ],
             [
              0.6666666666666666,
              "#ed7953"
             ],
             [
              0.7777777777777778,
              "#fb9f3a"
             ],
             [
              0.8888888888888888,
              "#fdca26"
             ],
             [
              1,
              "#f0f921"
             ]
            ],
            "type": "surface"
           }
          ],
          "table": [
           {
            "cells": {
             "fill": {
              "color": "#EBF0F8"
             },
             "line": {
              "color": "white"
             }
            },
            "header": {
             "fill": {
              "color": "#C8D4E3"
             },
             "line": {
              "color": "white"
             }
            },
            "type": "table"
           }
          ]
         },
         "layout": {
          "annotationdefaults": {
           "arrowcolor": "#2a3f5f",
           "arrowhead": 0,
           "arrowwidth": 1
          },
          "autotypenumbers": "strict",
          "coloraxis": {
           "colorbar": {
            "outlinewidth": 0,
            "ticks": ""
           }
          },
          "colorscale": {
           "diverging": [
            [
             0,
             "#8e0152"
            ],
            [
             0.1,
             "#c51b7d"
            ],
            [
             0.2,
             "#de77ae"
            ],
            [
             0.3,
             "#f1b6da"
            ],
            [
             0.4,
             "#fde0ef"
            ],
            [
             0.5,
             "#f7f7f7"
            ],
            [
             0.6,
             "#e6f5d0"
            ],
            [
             0.7,
             "#b8e186"
            ],
            [
             0.8,
             "#7fbc41"
            ],
            [
             0.9,
             "#4d9221"
            ],
            [
             1,
             "#276419"
            ]
           ],
           "sequential": [
            [
             0,
             "#0d0887"
            ],
            [
             0.1111111111111111,
             "#46039f"
            ],
            [
             0.2222222222222222,
             "#7201a8"
            ],
            [
             0.3333333333333333,
             "#9c179e"
            ],
            [
             0.4444444444444444,
             "#bd3786"
            ],
            [
             0.5555555555555556,
             "#d8576b"
            ],
            [
             0.6666666666666666,
             "#ed7953"
            ],
            [
             0.7777777777777778,
             "#fb9f3a"
            ],
            [
             0.8888888888888888,
             "#fdca26"
            ],
            [
             1,
             "#f0f921"
            ]
           ],
           "sequentialminus": [
            [
             0,
             "#0d0887"
            ],
            [
             0.1111111111111111,
             "#46039f"
            ],
            [
             0.2222222222222222,
             "#7201a8"
            ],
            [
             0.3333333333333333,
             "#9c179e"
            ],
            [
             0.4444444444444444,
             "#bd3786"
            ],
            [
             0.5555555555555556,
             "#d8576b"
            ],
            [
             0.6666666666666666,
             "#ed7953"
            ],
            [
             0.7777777777777778,
             "#fb9f3a"
            ],
            [
             0.8888888888888888,
             "#fdca26"
            ],
            [
             1,
             "#f0f921"
            ]
           ]
          },
          "colorway": [
           "#636efa",
           "#EF553B",
           "#00cc96",
           "#ab63fa",
           "#FFA15A",
           "#19d3f3",
           "#FF6692",
           "#B6E880",
           "#FF97FF",
           "#FECB52"
          ],
          "font": {
           "color": "#2a3f5f"
          },
          "geo": {
           "bgcolor": "white",
           "lakecolor": "white",
           "landcolor": "#E5ECF6",
           "showlakes": true,
           "showland": true,
           "subunitcolor": "white"
          },
          "hoverlabel": {
           "align": "left"
          },
          "hovermode": "closest",
          "mapbox": {
           "style": "light"
          },
          "paper_bgcolor": "white",
          "plot_bgcolor": "#E5ECF6",
          "polar": {
           "angularaxis": {
            "gridcolor": "white",
            "linecolor": "white",
            "ticks": ""
           },
           "bgcolor": "#E5ECF6",
           "radialaxis": {
            "gridcolor": "white",
            "linecolor": "white",
            "ticks": ""
           }
          },
          "scene": {
           "xaxis": {
            "backgroundcolor": "#E5ECF6",
            "gridcolor": "white",
            "gridwidth": 2,
            "linecolor": "white",
            "showbackground": true,
            "ticks": "",
            "zerolinecolor": "white"
           },
           "yaxis": {
            "backgroundcolor": "#E5ECF6",
            "gridcolor": "white",
            "gridwidth": 2,
            "linecolor": "white",
            "showbackground": true,
            "ticks": "",
            "zerolinecolor": "white"
           },
           "zaxis": {
            "backgroundcolor": "#E5ECF6",
            "gridcolor": "white",
            "gridwidth": 2,
            "linecolor": "white",
            "showbackground": true,
            "ticks": "",
            "zerolinecolor": "white"
           }
          },
          "shapedefaults": {
           "line": {
            "color": "#2a3f5f"
           }
          },
          "ternary": {
           "aaxis": {
            "gridcolor": "white",
            "linecolor": "white",
            "ticks": ""
           },
           "baxis": {
            "gridcolor": "white",
            "linecolor": "white",
            "ticks": ""
           },
           "bgcolor": "#E5ECF6",
           "caxis": {
            "gridcolor": "white",
            "linecolor": "white",
            "ticks": ""
           }
          },
          "title": {
           "x": 0.05
          },
          "xaxis": {
           "automargin": true,
           "gridcolor": "white",
           "linecolor": "white",
           "ticks": "",
           "title": {
            "standoff": 15
           },
           "zerolinecolor": "white",
           "zerolinewidth": 2
          },
          "yaxis": {
           "automargin": true,
           "gridcolor": "white",
           "linecolor": "white",
           "ticks": "",
           "title": {
            "standoff": 15
           },
           "zerolinecolor": "white",
           "zerolinewidth": 2
          }
         }
        },
        "title": {
         "text": "Воронка количества событий группы В "
        }
       }
      },
      "text/html": [
       "<div>                            <div id=\"f94304f3-dc71-4cc4-aa04-6336020fab64\" class=\"plotly-graph-div\" style=\"height:525px; width:100%;\"></div>            <script type=\"text/javascript\">                require([\"plotly\"], function(Plotly) {                    window.PLOTLYENV=window.PLOTLYENV || {};                                    if (document.getElementById(\"f94304f3-dc71-4cc4-aa04-6336020fab64\")) {                    Plotly.newPlot(                        \"f94304f3-dc71-4cc4-aa04-6336020fab64\",                        [{\"x\":[876,493,244,249],\"y\":[\"login\",\"product_page\",\"product_cart\",\"purchase\"],\"type\":\"funnel\"}],                        {\"template\":{\"data\":{\"histogram2dcontour\":[{\"type\":\"histogram2dcontour\",\"colorbar\":{\"outlinewidth\":0,\"ticks\":\"\"},\"colorscale\":[[0.0,\"#0d0887\"],[0.1111111111111111,\"#46039f\"],[0.2222222222222222,\"#7201a8\"],[0.3333333333333333,\"#9c179e\"],[0.4444444444444444,\"#bd3786\"],[0.5555555555555556,\"#d8576b\"],[0.6666666666666666,\"#ed7953\"],[0.7777777777777778,\"#fb9f3a\"],[0.8888888888888888,\"#fdca26\"],[1.0,\"#f0f921\"]]}],\"choropleth\":[{\"type\":\"choropleth\",\"colorbar\":{\"outlinewidth\":0,\"ticks\":\"\"}}],\"histogram2d\":[{\"type\":\"histogram2d\",\"colorbar\":{\"outlinewidth\":0,\"ticks\":\"\"},\"colorscale\":[[0.0,\"#0d0887\"],[0.1111111111111111,\"#46039f\"],[0.2222222222222222,\"#7201a8\"],[0.3333333333333333,\"#9c179e\"],[0.4444444444444444,\"#bd3786\"],[0.5555555555555556,\"#d8576b\"],[0.6666666666666666,\"#ed7953\"],[0.7777777777777778,\"#fb9f3a\"],[0.8888888888888888,\"#fdca26\"],[1.0,\"#f0f921\"]]}],\"heatmap\":[{\"type\":\"heatmap\",\"colorbar\":{\"outlinewidth\":0,\"ticks\":\"\"},\"colorscale\":[[0.0,\"#0d0887\"],[0.1111111111111111,\"#46039f\"],[0.2222222222222222,\"#7201a8\"],[0.3333333333333333,\"#9c179e\"],[0.4444444444444444,\"#bd3786\"],[0.5555555555555556,\"#d8576b\"],[0.6666666666666666,\"#ed7953\"],[0.7777777777777778,\"#fb9f3a\"],[0.8888888888888888,\"#fdca26\"],[1.0,\"#f0f921\"]]}],\"heatmapgl\":[{\"type\":\"heatmapgl\",\"colorbar\":{\"outlinewidth\":0,\"ticks\":\"\"},\"colorscale\":[[0.0,\"#0d0887\"],[0.1111111111111111,\"#46039f\"],[0.2222222222222222,\"#7201a8\"],[0.3333333333333333,\"#9c179e\"],[0.4444444444444444,\"#bd3786\"],[0.5555555555555556,\"#d8576b\"],[0.6666666666666666,\"#ed7953\"],[0.7777777777777778,\"#fb9f3a\"],[0.8888888888888888,\"#fdca26\"],[1.0,\"#f0f921\"]]}],\"contourcarpet\":[{\"type\":\"contourcarpet\",\"colorbar\":{\"outlinewidth\":0,\"ticks\":\"\"}}],\"contour\":[{\"type\":\"contour\",\"colorbar\":{\"outlinewidth\":0,\"ticks\":\"\"},\"colorscale\":[[0.0,\"#0d0887\"],[0.1111111111111111,\"#46039f\"],[0.2222222222222222,\"#7201a8\"],[0.3333333333333333,\"#9c179e\"],[0.4444444444444444,\"#bd3786\"],[0.5555555555555556,\"#d8576b\"],[0.6666666666666666,\"#ed7953\"],[0.7777777777777778,\"#fb9f3a\"],[0.8888888888888888,\"#fdca26\"],[1.0,\"#f0f921\"]]}],\"surface\":[{\"type\":\"surface\",\"colorbar\":{\"outlinewidth\":0,\"ticks\":\"\"},\"colorscale\":[[0.0,\"#0d0887\"],[0.1111111111111111,\"#46039f\"],[0.2222222222222222,\"#7201a8\"],[0.3333333333333333,\"#9c179e\"],[0.4444444444444444,\"#bd3786\"],[0.5555555555555556,\"#d8576b\"],[0.6666666666666666,\"#ed7953\"],[0.7777777777777778,\"#fb9f3a\"],[0.8888888888888888,\"#fdca26\"],[1.0,\"#f0f921\"]]}],\"mesh3d\":[{\"type\":\"mesh3d\",\"colorbar\":{\"outlinewidth\":0,\"ticks\":\"\"}}],\"scatter\":[{\"fillpattern\":{\"fillmode\":\"overlay\",\"size\":10,\"solidity\":0.2},\"type\":\"scatter\"}],\"parcoords\":[{\"type\":\"parcoords\",\"line\":{\"colorbar\":{\"outlinewidth\":0,\"ticks\":\"\"}}}],\"scatterpolargl\":[{\"type\":\"scatterpolargl\",\"marker\":{\"colorbar\":{\"outlinewidth\":0,\"ticks\":\"\"}}}],\"bar\":[{\"error_x\":{\"color\":\"#2a3f5f\"},\"error_y\":{\"color\":\"#2a3f5f\"},\"marker\":{\"line\":{\"color\":\"#E5ECF6\",\"width\":0.5},\"pattern\":{\"fillmode\":\"overlay\",\"size\":10,\"solidity\":0.2}},\"type\":\"bar\"}],\"scattergeo\":[{\"type\":\"scattergeo\",\"marker\":{\"colorbar\":{\"outlinewidth\":0,\"ticks\":\"\"}}}],\"scatterpolar\":[{\"type\":\"scatterpolar\",\"marker\":{\"colorbar\":{\"outlinewidth\":0,\"ticks\":\"\"}}}],\"histogram\":[{\"marker\":{\"pattern\":{\"fillmode\":\"overlay\",\"size\":10,\"solidity\":0.2}},\"type\":\"histogram\"}],\"scattergl\":[{\"type\":\"scattergl\",\"marker\":{\"colorbar\":{\"outlinewidth\":0,\"ticks\":\"\"}}}],\"scatter3d\":[{\"type\":\"scatter3d\",\"line\":{\"colorbar\":{\"outlinewidth\":0,\"ticks\":\"\"}},\"marker\":{\"colorbar\":{\"outlinewidth\":0,\"ticks\":\"\"}}}],\"scattermapbox\":[{\"type\":\"scattermapbox\",\"marker\":{\"colorbar\":{\"outlinewidth\":0,\"ticks\":\"\"}}}],\"scatterternary\":[{\"type\":\"scatterternary\",\"marker\":{\"colorbar\":{\"outlinewidth\":0,\"ticks\":\"\"}}}],\"scattercarpet\":[{\"type\":\"scattercarpet\",\"marker\":{\"colorbar\":{\"outlinewidth\":0,\"ticks\":\"\"}}}],\"carpet\":[{\"aaxis\":{\"endlinecolor\":\"#2a3f5f\",\"gridcolor\":\"white\",\"linecolor\":\"white\",\"minorgridcolor\":\"white\",\"startlinecolor\":\"#2a3f5f\"},\"baxis\":{\"endlinecolor\":\"#2a3f5f\",\"gridcolor\":\"white\",\"linecolor\":\"white\",\"minorgridcolor\":\"white\",\"startlinecolor\":\"#2a3f5f\"},\"type\":\"carpet\"}],\"table\":[{\"cells\":{\"fill\":{\"color\":\"#EBF0F8\"},\"line\":{\"color\":\"white\"}},\"header\":{\"fill\":{\"color\":\"#C8D4E3\"},\"line\":{\"color\":\"white\"}},\"type\":\"table\"}],\"barpolar\":[{\"marker\":{\"line\":{\"color\":\"#E5ECF6\",\"width\":0.5},\"pattern\":{\"fillmode\":\"overlay\",\"size\":10,\"solidity\":0.2}},\"type\":\"barpolar\"}],\"pie\":[{\"automargin\":true,\"type\":\"pie\"}]},\"layout\":{\"autotypenumbers\":\"strict\",\"colorway\":[\"#636efa\",\"#EF553B\",\"#00cc96\",\"#ab63fa\",\"#FFA15A\",\"#19d3f3\",\"#FF6692\",\"#B6E880\",\"#FF97FF\",\"#FECB52\"],\"font\":{\"color\":\"#2a3f5f\"},\"hovermode\":\"closest\",\"hoverlabel\":{\"align\":\"left\"},\"paper_bgcolor\":\"white\",\"plot_bgcolor\":\"#E5ECF6\",\"polar\":{\"bgcolor\":\"#E5ECF6\",\"angularaxis\":{\"gridcolor\":\"white\",\"linecolor\":\"white\",\"ticks\":\"\"},\"radialaxis\":{\"gridcolor\":\"white\",\"linecolor\":\"white\",\"ticks\":\"\"}},\"ternary\":{\"bgcolor\":\"#E5ECF6\",\"aaxis\":{\"gridcolor\":\"white\",\"linecolor\":\"white\",\"ticks\":\"\"},\"baxis\":{\"gridcolor\":\"white\",\"linecolor\":\"white\",\"ticks\":\"\"},\"caxis\":{\"gridcolor\":\"white\",\"linecolor\":\"white\",\"ticks\":\"\"}},\"coloraxis\":{\"colorbar\":{\"outlinewidth\":0,\"ticks\":\"\"}},\"colorscale\":{\"sequential\":[[0.0,\"#0d0887\"],[0.1111111111111111,\"#46039f\"],[0.2222222222222222,\"#7201a8\"],[0.3333333333333333,\"#9c179e\"],[0.4444444444444444,\"#bd3786\"],[0.5555555555555556,\"#d8576b\"],[0.6666666666666666,\"#ed7953\"],[0.7777777777777778,\"#fb9f3a\"],[0.8888888888888888,\"#fdca26\"],[1.0,\"#f0f921\"]],\"sequentialminus\":[[0.0,\"#0d0887\"],[0.1111111111111111,\"#46039f\"],[0.2222222222222222,\"#7201a8\"],[0.3333333333333333,\"#9c179e\"],[0.4444444444444444,\"#bd3786\"],[0.5555555555555556,\"#d8576b\"],[0.6666666666666666,\"#ed7953\"],[0.7777777777777778,\"#fb9f3a\"],[0.8888888888888888,\"#fdca26\"],[1.0,\"#f0f921\"]],\"diverging\":[[0,\"#8e0152\"],[0.1,\"#c51b7d\"],[0.2,\"#de77ae\"],[0.3,\"#f1b6da\"],[0.4,\"#fde0ef\"],[0.5,\"#f7f7f7\"],[0.6,\"#e6f5d0\"],[0.7,\"#b8e186\"],[0.8,\"#7fbc41\"],[0.9,\"#4d9221\"],[1,\"#276419\"]]},\"xaxis\":{\"gridcolor\":\"white\",\"linecolor\":\"white\",\"ticks\":\"\",\"title\":{\"standoff\":15},\"zerolinecolor\":\"white\",\"automargin\":true,\"zerolinewidth\":2},\"yaxis\":{\"gridcolor\":\"white\",\"linecolor\":\"white\",\"ticks\":\"\",\"title\":{\"standoff\":15},\"zerolinecolor\":\"white\",\"automargin\":true,\"zerolinewidth\":2},\"scene\":{\"xaxis\":{\"backgroundcolor\":\"#E5ECF6\",\"gridcolor\":\"white\",\"linecolor\":\"white\",\"showbackground\":true,\"ticks\":\"\",\"zerolinecolor\":\"white\",\"gridwidth\":2},\"yaxis\":{\"backgroundcolor\":\"#E5ECF6\",\"gridcolor\":\"white\",\"linecolor\":\"white\",\"showbackground\":true,\"ticks\":\"\",\"zerolinecolor\":\"white\",\"gridwidth\":2},\"zaxis\":{\"backgroundcolor\":\"#E5ECF6\",\"gridcolor\":\"white\",\"linecolor\":\"white\",\"showbackground\":true,\"ticks\":\"\",\"zerolinecolor\":\"white\",\"gridwidth\":2}},\"shapedefaults\":{\"line\":{\"color\":\"#2a3f5f\"}},\"annotationdefaults\":{\"arrowcolor\":\"#2a3f5f\",\"arrowhead\":0,\"arrowwidth\":1},\"geo\":{\"bgcolor\":\"white\",\"landcolor\":\"#E5ECF6\",\"subunitcolor\":\"white\",\"showland\":true,\"showlakes\":true,\"lakecolor\":\"white\"},\"title\":{\"x\":0.05},\"mapbox\":{\"style\":\"light\"}}},\"title\":{\"text\":\"\\u0412\\u043e\\u0440\\u043e\\u043d\\u043a\\u0430 \\u043a\\u043e\\u043b\\u0438\\u0447\\u0435\\u0441\\u0442\\u0432\\u0430 \\u0441\\u043e\\u0431\\u044b\\u0442\\u0438\\u0439 \\u0433\\u0440\\u0443\\u043f\\u043f\\u044b \\u0412 \"}},                        {\"responsive\": true}                    ).then(function(){\n",
       "                            \n",
       "var gd = document.getElementById('f94304f3-dc71-4cc4-aa04-6336020fab64');\n",
       "var x = new MutationObserver(function (mutations, observer) {{\n",
       "        var display = window.getComputedStyle(gd).display;\n",
       "        if (!display || display === 'none') {{\n",
       "            console.log([gd, 'removed!']);\n",
       "            Plotly.purge(gd);\n",
       "            observer.disconnect();\n",
       "        }}\n",
       "}});\n",
       "\n",
       "// Listen for the removal of the full notebook cells\n",
       "var notebookContainer = gd.closest('#notebook-container');\n",
       "if (notebookContainer) {{\n",
       "    x.observe(notebookContainer, {childList: true});\n",
       "}}\n",
       "\n",
       "// Listen for the clearing of the current output cell\n",
       "var outputEl = gd.closest('.output');\n",
       "if (outputEl) {{\n",
       "    x.observe(outputEl, {childList: true});\n",
       "}}\n",
       "\n",
       "                        })                };                });            </script>        </div>"
      ]
     },
     "metadata": {},
     "output_type": "display_data"
    }
   ],
   "source": [
    "fig = go.Figure(\n",
    "    go.Funnel(\n",
    "       y=[\n",
    "            'login',\n",
    "            'product_page',\n",
    "            'product_cart',\n",
    "            'purchase'\n",
    "        ],\n",
    "        x=[event14b.query('event_name == \"login\"')['user_id'].nunique(), event14b.query('event_name == \"product_page\"')['user_id'].nunique(), event14b.query('event_name == \"product_cart\"')['user_id'].nunique(), event14b.query('event_name == \"purchase\"')['user_id'].nunique()]\n",
    "    ))\n",
    "fig.update_layout(title='Воронка количества событий группы В ')\n",
    "\n",
    "\n",
    "fig.show() "
   ]
  },
  {
   "cell_type": "markdown",
   "id": "7c99ff09",
   "metadata": {},
   "source": [
    "По результатам можем сказать, что в группе А, доля совершивших покупку из общего - `14.1%`, чуть-чуть больше чем в группе В - `13.4%`"
   ]
  },
  {
   "cell_type": "markdown",
   "id": "d633c75c",
   "metadata": {},
   "source": [
    "Нужно помнить о том, что во время тестирования проводилось маркетинговое промо `Christmas&New Year Promo`"
   ]
  },
  {
   "cell_type": "markdown",
   "id": "03087989",
   "metadata": {},
   "source": [
    "\n",
    "## Оценка результатов A/B-тестирования\n"
   ]
  },
  {
   "cell_type": "markdown",
   "id": "3a724c4b",
   "metadata": {},
   "source": [
    "### Проверка статистической разницы долей z-критерием."
   ]
  },
  {
   "cell_type": "markdown",
   "id": "6ef76bce",
   "metadata": {},
   "source": [
    "Проверим статистическую разницу долей конверсии событий в тестируемых группах А и B\n",
    "\n",
    "H0: Доли одинаковы\n",
    "\n",
    "H1: Доли различаются"
   ]
  },
  {
   "cell_type": "code",
   "execution_count": 138,
   "id": "ec18c1b7",
   "metadata": {},
   "outputs": [],
   "source": [
    "def hypot(value1, value2, event, alpha):\n",
    "    \n",
    "     # число пользователей в группе 1 и группе 2:\n",
    "    n_users = np.array([value1['user_id'].nunique(), \n",
    "                        value2['user_id'].nunique()])\n",
    "\n",
    "    # число пользователей, совершивших событие в группе 1 и группе 2\n",
    "    success = np.array([value1[value1['event_name'] == event]['user_id'].nunique(), \n",
    "                        value2[value2['event_name'] == event]['user_id'].nunique()])\n",
    "\n",
    "    df2_all_count = len(value2)\n",
    "\n",
    "    # пропорция успехов в первой группе:\n",
    "    p1 = success[0]/n_users[0]\n",
    "    # пропорция успехов во второй группе    \n",
    "    p2 = success[1]/n_users[1]\n",
    "    \n",
    "    print(success[0], success[1], n_users[0], n_users[1])\n",
    "\n",
    "    # пропорция успехов в комбинированном датасете:\n",
    "    p_combined = (success[0] + success[1]) / (n_users[0] + n_users[1])\n",
    "\n",
    "    # разница пропорций в датасетах\n",
    "    difference = p1 - p2 \n",
    "\n",
    "    # считаем статистику в ст.отклонениях стандартного нормального распределения\n",
    "    z_value = difference / mth.sqrt(p_combined * (1 - p_combined) * (1/n_users[0] + 1/n_users[1]))\n",
    "\n",
    "    # задаем стандартное нормальное распределение (среднее 0, ст.отклонение 1)\n",
    "    distr = st.norm(0, 1)  \n",
    "\n",
    "    p_value = (1 - distr.cdf(abs(z_value))) * 2\n",
    "\n",
    "    print('Событие:', event)\n",
    "    print('p-значение: ', p_value)\n",
    "\n",
    "    if p_value < alpha:\n",
    "        print('Отвергаем нулевую гипотезу: между долями есть значимая разница')\n",
    "    else:\n",
    "        print(\n",
    "            'Не получилось отвергнуть нулевую гипотезу, нет оснований считать доли разными'\n",
    "        ) "
   ]
  },
  {
   "cell_type": "code",
   "execution_count": 139,
   "id": "e4d54751",
   "metadata": {},
   "outputs": [
    {
     "name": "stdout",
     "output_type": "stream",
     "text": [
      "2604 876 2604 877\n",
      "Событие: login\n",
      "p-значение:  0.08481837035887363\n",
      "Не получилось отвергнуть нулевую гипотезу, нет оснований считать доли разными\n",
      "\n",
      "1685 493 2604 877\n",
      "Событие: product_page\n",
      "p-значение:  6.942739359416805e-06\n",
      "Отвергаем нулевую гипотезу: между долями есть значимая разница\n",
      "\n",
      "782 244 2604 877\n",
      "Событие: product_cart\n",
      "p-значение:  0.21469192029582396\n",
      "Не получилось отвергнуть нулевую гипотезу, нет оснований считать доли разными\n",
      "\n",
      "833 249 2604 877\n",
      "Событие: purchase\n",
      "p-значение:  0.04652482738393027\n",
      "Отвергаем нулевую гипотезу: между долями есть значимая разница\n",
      "\n"
     ]
    }
   ],
   "source": [
    "for event in ['login', 'product_page', 'product_cart', 'purchase']:\n",
    "    hypot(event14.query('group == \"A\"'), event14.query('group == \"B\"'), event,.05)\n",
    "    print()"
   ]
  },
  {
   "cell_type": "markdown",
   "id": "d354d1fe",
   "metadata": {},
   "source": [
    "Конверсия событий в тестируемых группах А и B, доли событий `login`, `product_cart`, `purchase` - одинаковы, конверсии. Событие `product_page` в группах А и Б не равны."
   ]
  },
  {
   "cell_type": "markdown",
   "id": "fbf1f2bc",
   "metadata": {},
   "source": [
    "## Выводы по этапу исследовательского анализа данных и по проведённой оценке результатов A/B-тестирования. Сделайте общее заключение о корректности проведения теста."
   ]
  },
  {
   "cell_type": "markdown",
   "id": "452497a2",
   "metadata": {},
   "source": [
    "В результате, исходя из обнаруженных фактов, можно сказать что тест был проведен с нарушениями по ключевым параметрам, а именно:\n",
    "- данные с 30-го декабря до 4 января 2021года, отсутствуют. Нарушение ТЗ\n",
    "- одновременное проведение двух разных тестов, что привело к пользователям учавствовавших в двух тестах одновременно\n",
    "- пересечение с маркетинговым промо во время тестирования\n",
    "- данные набора новых пользователей идут до 21-го числа, как по ТЗ\n",
    "- размер группы А больше чем В\n",
    "- По результатам можем сказать, что в группе А, доля совершивших покупку из общего - `14.1%`, чуть-чуть больше чем в группе В - `13.4%`\n",
    "\n",
    "Дальнейшие рекомендации:\n",
    "Повтоное проведение теста, с строгим учетом пунктов ТЗ"
   ]
  },
  {
   "cell_type": "code",
   "execution_count": null,
   "id": "e07decae",
   "metadata": {},
   "outputs": [],
   "source": []
  }
 ],
 "metadata": {
  "ExecuteTimeLog": [
   {
    "duration": 6542,
    "start_time": "2022-12-29T05:18:08.073Z"
   },
   {
    "duration": 554,
    "start_time": "2022-12-29T05:18:14.617Z"
   },
   {
    "duration": 884,
    "start_time": "2022-12-29T05:18:15.173Z"
   },
   {
    "duration": 6354,
    "start_time": "2022-12-29T05:18:16.060Z"
   },
   {
    "duration": 5,
    "start_time": "2022-12-29T05:43:03.026Z"
   },
   {
    "duration": 1282,
    "start_time": "2023-08-12T22:49:21.979Z"
   },
   {
    "duration": 1020,
    "start_time": "2023-08-12T22:49:23.263Z"
   },
   {
    "duration": 5,
    "start_time": "2023-08-12T22:49:24.285Z"
   },
   {
    "duration": 372,
    "start_time": "2023-08-12T22:49:24.292Z"
   },
   {
    "duration": 65,
    "start_time": "2023-08-12T22:49:24.666Z"
   },
   {
    "duration": 24,
    "start_time": "2023-08-12T22:49:24.734Z"
   },
   {
    "duration": 85,
    "start_time": "2023-08-12T22:49:24.760Z"
   },
   {
    "duration": 30,
    "start_time": "2023-08-12T22:49:24.847Z"
   },
   {
    "duration": 5,
    "start_time": "2023-08-12T22:49:24.895Z"
   },
   {
    "duration": 15,
    "start_time": "2023-08-12T22:49:24.903Z"
   },
   {
    "duration": 5,
    "start_time": "2023-08-12T22:49:24.919Z"
   },
   {
    "duration": 6,
    "start_time": "2023-08-12T22:49:24.925Z"
   },
   {
    "duration": 30,
    "start_time": "2023-08-12T22:49:24.932Z"
   },
   {
    "duration": 9,
    "start_time": "2023-08-12T22:49:24.965Z"
   },
   {
    "duration": 20,
    "start_time": "2023-08-12T22:49:24.976Z"
   },
   {
    "duration": 17,
    "start_time": "2023-08-12T22:49:24.997Z"
   },
   {
    "duration": 55,
    "start_time": "2023-08-12T22:49:25.015Z"
   },
   {
    "duration": 5,
    "start_time": "2023-08-12T22:49:25.071Z"
   },
   {
    "duration": 17,
    "start_time": "2023-08-12T22:49:25.078Z"
   },
   {
    "duration": 4,
    "start_time": "2023-08-12T22:49:25.096Z"
   },
   {
    "duration": 21,
    "start_time": "2023-08-12T22:49:25.102Z"
   },
   {
    "duration": 11,
    "start_time": "2023-08-12T22:49:25.125Z"
   },
   {
    "duration": 16,
    "start_time": "2023-08-12T22:49:25.138Z"
   },
   {
    "duration": 41,
    "start_time": "2023-08-12T22:49:25.156Z"
   },
   {
    "duration": 20,
    "start_time": "2023-08-12T22:49:25.198Z"
   },
   {
    "duration": 13,
    "start_time": "2023-08-12T22:49:25.219Z"
   },
   {
    "duration": 153,
    "start_time": "2023-08-12T22:49:25.233Z"
   },
   {
    "duration": 40,
    "start_time": "2023-08-12T22:49:25.396Z"
   },
   {
    "duration": 93,
    "start_time": "2023-08-12T22:49:25.437Z"
   },
   {
    "duration": 9,
    "start_time": "2023-08-12T22:49:25.532Z"
   },
   {
    "duration": 21,
    "start_time": "2023-08-12T22:49:25.543Z"
   },
   {
    "duration": 30,
    "start_time": "2023-08-12T22:49:25.565Z"
   },
   {
    "duration": 12,
    "start_time": "2023-08-12T22:49:25.596Z"
   },
   {
    "duration": 311,
    "start_time": "2023-08-12T22:49:25.609Z"
   },
   {
    "duration": 351,
    "start_time": "2023-08-12T22:49:25.922Z"
   },
   {
    "duration": 20,
    "start_time": "2023-08-12T22:49:26.275Z"
   },
   {
    "duration": 1101,
    "start_time": "2023-08-12T22:49:26.297Z"
   },
   {
    "duration": 13,
    "start_time": "2023-08-12T22:49:27.399Z"
   },
   {
    "duration": 17,
    "start_time": "2023-08-12T22:49:27.414Z"
   },
   {
    "duration": 75,
    "start_time": "2023-08-12T22:49:27.433Z"
   },
   {
    "duration": 22,
    "start_time": "2023-08-12T22:49:27.509Z"
   },
   {
    "duration": 6,
    "start_time": "2023-08-12T22:49:27.533Z"
   },
   {
    "duration": 112,
    "start_time": "2023-08-12T22:49:27.541Z"
   },
   {
    "duration": 17,
    "start_time": "2023-08-12T22:54:10.209Z"
   },
   {
    "duration": 83,
    "start_time": "2023-08-12T22:55:38.922Z"
   },
   {
    "duration": 70,
    "start_time": "2023-08-12T22:55:40.266Z"
   },
   {
    "duration": 84,
    "start_time": "2023-08-12T22:55:44.486Z"
   },
   {
    "duration": 7,
    "start_time": "2023-08-12T22:55:46.967Z"
   },
   {
    "duration": 63,
    "start_time": "2023-08-12T22:55:48.599Z"
   },
   {
    "duration": 1138,
    "start_time": "2023-08-13T03:49:44.981Z"
   },
   {
    "duration": 885,
    "start_time": "2023-08-13T03:49:46.717Z"
   },
   {
    "duration": 447,
    "start_time": "2023-08-13T03:49:47.603Z"
   },
   {
    "duration": 203,
    "start_time": "2023-08-13T05:52:30.801Z"
   },
   {
    "duration": 88,
    "start_time": "2023-08-13T05:52:41.338Z"
   },
   {
    "duration": 90,
    "start_time": "2023-08-13T05:53:50.507Z"
   },
   {
    "duration": 83,
    "start_time": "2023-08-13T05:54:07.552Z"
   },
   {
    "duration": 594,
    "start_time": "2023-08-13T05:55:51.195Z"
   },
   {
    "duration": 77,
    "start_time": "2023-08-13T05:56:32.066Z"
   },
   {
    "duration": 61,
    "start_time": "2023-08-13T05:57:23.979Z"
   },
   {
    "duration": 59,
    "start_time": "2023-08-13T05:58:00.565Z"
   },
   {
    "duration": 52,
    "start_time": "2023-08-13T05:59:38.063Z"
   },
   {
    "duration": 69,
    "start_time": "2023-08-13T05:59:55.099Z"
   },
   {
    "duration": 40,
    "start_time": "2023-08-13T06:00:40.937Z"
   },
   {
    "duration": 41,
    "start_time": "2023-08-13T06:01:37.113Z"
   },
   {
    "duration": 27,
    "start_time": "2023-08-13T06:01:52.051Z"
   },
   {
    "duration": 2,
    "start_time": "2023-08-13T06:01:59.190Z"
   },
   {
    "duration": 593,
    "start_time": "2023-08-13T06:01:59.198Z"
   },
   {
    "duration": 49,
    "start_time": "2023-08-13T06:01:59.792Z"
   },
   {
    "duration": 4,
    "start_time": "2023-08-13T06:01:59.842Z"
   },
   {
    "duration": 279,
    "start_time": "2023-08-13T06:01:59.847Z"
   },
   {
    "duration": 56,
    "start_time": "2023-08-13T06:02:00.128Z"
   },
   {
    "duration": 47,
    "start_time": "2023-08-13T06:02:00.186Z"
   },
   {
    "duration": 79,
    "start_time": "2023-08-13T06:02:00.235Z"
   },
   {
    "duration": 28,
    "start_time": "2023-08-13T06:02:00.316Z"
   },
   {
    "duration": 4,
    "start_time": "2023-08-13T06:02:00.346Z"
   },
   {
    "duration": 32,
    "start_time": "2023-08-13T06:02:00.352Z"
   },
   {
    "duration": 48,
    "start_time": "2023-08-13T06:02:00.385Z"
   },
   {
    "duration": 34,
    "start_time": "2023-08-13T06:02:00.434Z"
   },
   {
    "duration": 55,
    "start_time": "2023-08-13T06:02:00.469Z"
   },
   {
    "duration": 18,
    "start_time": "2023-08-13T06:02:00.527Z"
   },
   {
    "duration": 38,
    "start_time": "2023-08-13T06:02:00.546Z"
   },
   {
    "duration": 54,
    "start_time": "2023-08-13T06:02:00.585Z"
   },
   {
    "duration": 70,
    "start_time": "2023-08-13T06:02:00.641Z"
   },
   {
    "duration": 7,
    "start_time": "2023-08-13T06:02:00.712Z"
   },
   {
    "duration": 35,
    "start_time": "2023-08-13T06:02:00.721Z"
   },
   {
    "duration": 17,
    "start_time": "2023-08-13T06:02:00.758Z"
   },
   {
    "duration": 66,
    "start_time": "2023-08-13T06:02:00.776Z"
   },
   {
    "duration": 33,
    "start_time": "2023-08-13T06:02:00.844Z"
   },
   {
    "duration": 49,
    "start_time": "2023-08-13T06:02:00.879Z"
   },
   {
    "duration": 41,
    "start_time": "2023-08-13T06:02:00.930Z"
   },
   {
    "duration": 57,
    "start_time": "2023-08-13T06:02:00.973Z"
   },
   {
    "duration": 35,
    "start_time": "2023-08-13T06:02:01.031Z"
   },
   {
    "duration": 176,
    "start_time": "2023-08-13T06:02:01.067Z"
   },
   {
    "duration": 29,
    "start_time": "2023-08-13T06:02:01.244Z"
   },
   {
    "duration": 75,
    "start_time": "2023-08-13T06:02:01.275Z"
   },
   {
    "duration": 7,
    "start_time": "2023-08-13T06:02:01.352Z"
   },
   {
    "duration": 56,
    "start_time": "2023-08-13T06:02:01.361Z"
   },
   {
    "duration": 23,
    "start_time": "2023-08-13T06:02:01.418Z"
   },
   {
    "duration": 42,
    "start_time": "2023-08-13T06:02:01.443Z"
   },
   {
    "duration": 310,
    "start_time": "2023-08-13T06:02:01.487Z"
   },
   {
    "duration": 329,
    "start_time": "2023-08-13T06:02:01.799Z"
   },
   {
    "duration": 12,
    "start_time": "2023-08-13T06:02:02.130Z"
   },
   {
    "duration": 296,
    "start_time": "2023-08-13T06:02:02.144Z"
   },
   {
    "duration": 14,
    "start_time": "2023-08-13T06:02:02.442Z"
   },
   {
    "duration": 54,
    "start_time": "2023-08-13T06:02:02.458Z"
   },
   {
    "duration": 78,
    "start_time": "2023-08-13T06:02:02.513Z"
   },
   {
    "duration": 78,
    "start_time": "2023-08-13T06:02:02.595Z"
   },
   {
    "duration": 47,
    "start_time": "2023-08-13T06:02:02.675Z"
   },
   {
    "duration": 130,
    "start_time": "2023-08-13T06:02:02.724Z"
   },
   {
    "duration": 253,
    "start_time": "2023-08-13T06:08:24.895Z"
   },
   {
    "duration": 32,
    "start_time": "2023-08-13T06:08:40.939Z"
   },
   {
    "duration": 230,
    "start_time": "2023-08-13T06:08:47.748Z"
   },
   {
    "duration": 1112,
    "start_time": "2023-08-13T06:09:55.732Z"
   },
   {
    "duration": 653,
    "start_time": "2023-08-13T06:09:56.846Z"
   },
   {
    "duration": 643,
    "start_time": "2023-08-13T06:09:57.512Z"
   },
   {
    "duration": 4,
    "start_time": "2023-08-13T06:09:58.157Z"
   },
   {
    "duration": 305,
    "start_time": "2023-08-13T06:09:58.163Z"
   },
   {
    "duration": 79,
    "start_time": "2023-08-13T06:09:58.470Z"
   },
   {
    "duration": 21,
    "start_time": "2023-08-13T06:09:58.551Z"
   },
   {
    "duration": 131,
    "start_time": "2023-08-13T06:09:58.574Z"
   },
   {
    "duration": 32,
    "start_time": "2023-08-13T06:09:58.718Z"
   },
   {
    "duration": 5,
    "start_time": "2023-08-13T06:09:58.752Z"
   },
   {
    "duration": 23,
    "start_time": "2023-08-13T06:09:58.759Z"
   },
   {
    "duration": 4,
    "start_time": "2023-08-13T06:09:58.783Z"
   },
   {
    "duration": 19,
    "start_time": "2023-08-13T06:09:58.805Z"
   },
   {
    "duration": 10,
    "start_time": "2023-08-13T06:09:58.826Z"
   },
   {
    "duration": 6,
    "start_time": "2023-08-13T06:09:58.838Z"
   },
   {
    "duration": 12,
    "start_time": "2023-08-13T06:09:58.846Z"
   },
   {
    "duration": 23,
    "start_time": "2023-08-13T06:09:58.860Z"
   },
   {
    "duration": 54,
    "start_time": "2023-08-13T06:09:58.886Z"
   },
   {
    "duration": 4,
    "start_time": "2023-08-13T06:09:58.942Z"
   },
   {
    "duration": 10,
    "start_time": "2023-08-13T06:09:58.947Z"
   },
   {
    "duration": 4,
    "start_time": "2023-08-13T06:09:58.958Z"
   },
   {
    "duration": 18,
    "start_time": "2023-08-13T06:09:58.964Z"
   },
   {
    "duration": 35,
    "start_time": "2023-08-13T06:09:58.984Z"
   },
   {
    "duration": 28,
    "start_time": "2023-08-13T06:09:59.020Z"
   },
   {
    "duration": 18,
    "start_time": "2023-08-13T06:09:59.050Z"
   },
   {
    "duration": 19,
    "start_time": "2023-08-13T06:09:59.070Z"
   },
   {
    "duration": 26,
    "start_time": "2023-08-13T06:09:59.091Z"
   },
   {
    "duration": 122,
    "start_time": "2023-08-13T06:09:59.122Z"
   },
   {
    "duration": 32,
    "start_time": "2023-08-13T06:09:59.246Z"
   },
   {
    "duration": 84,
    "start_time": "2023-08-13T06:09:59.280Z"
   },
   {
    "duration": 9,
    "start_time": "2023-08-13T06:09:59.365Z"
   },
   {
    "duration": 43,
    "start_time": "2023-08-13T06:09:59.376Z"
   },
   {
    "duration": 12,
    "start_time": "2023-08-13T06:09:59.421Z"
   },
   {
    "duration": 12,
    "start_time": "2023-08-13T06:09:59.435Z"
   },
   {
    "duration": 334,
    "start_time": "2023-08-13T06:09:59.449Z"
   },
   {
    "duration": 365,
    "start_time": "2023-08-13T06:09:59.787Z"
   },
   {
    "duration": 13,
    "start_time": "2023-08-13T06:10:00.154Z"
   },
   {
    "duration": 236,
    "start_time": "2023-08-13T06:10:00.169Z"
   },
   {
    "duration": 24,
    "start_time": "2023-08-13T06:10:00.407Z"
   },
   {
    "duration": 185,
    "start_time": "2023-08-13T06:10:00.432Z"
   },
   {
    "duration": 44,
    "start_time": "2023-08-13T06:10:00.619Z"
   },
   {
    "duration": 86,
    "start_time": "2023-08-13T06:10:00.665Z"
   },
   {
    "duration": 66,
    "start_time": "2023-08-13T06:10:00.753Z"
   },
   {
    "duration": 105,
    "start_time": "2023-08-13T06:10:00.821Z"
   },
   {
    "duration": 121,
    "start_time": "2023-08-13T06:20:06.147Z"
   },
   {
    "duration": 8,
    "start_time": "2023-08-13T06:20:27.870Z"
   },
   {
    "duration": 37,
    "start_time": "2023-08-13T06:20:38.934Z"
   },
   {
    "duration": 35,
    "start_time": "2023-08-13T06:22:08.482Z"
   },
   {
    "duration": 13,
    "start_time": "2023-08-13T06:22:18.255Z"
   },
   {
    "duration": 11,
    "start_time": "2023-08-13T06:24:52.514Z"
   },
   {
    "duration": 4,
    "start_time": "2023-08-13T06:25:44.329Z"
   },
   {
    "duration": 5,
    "start_time": "2023-08-13T06:26:40.987Z"
   },
   {
    "duration": 17,
    "start_time": "2023-08-13T07:23:11.479Z"
   },
   {
    "duration": 11,
    "start_time": "2023-08-13T07:25:06.919Z"
   },
   {
    "duration": 15,
    "start_time": "2023-08-13T07:31:56.639Z"
   },
   {
    "duration": 256,
    "start_time": "2023-08-13T07:32:14.200Z"
   },
   {
    "duration": 11,
    "start_time": "2023-08-13T07:32:50.355Z"
   },
   {
    "duration": 3,
    "start_time": "2023-08-13T07:32:54.817Z"
   },
   {
    "duration": 569,
    "start_time": "2023-08-13T07:32:54.822Z"
   },
   {
    "duration": 608,
    "start_time": "2023-08-13T07:32:55.393Z"
   },
   {
    "duration": 5,
    "start_time": "2023-08-13T07:32:56.002Z"
   },
   {
    "duration": 294,
    "start_time": "2023-08-13T07:32:56.010Z"
   },
   {
    "duration": 55,
    "start_time": "2023-08-13T07:32:56.306Z"
   },
   {
    "duration": 39,
    "start_time": "2023-08-13T07:32:56.363Z"
   },
   {
    "duration": 54,
    "start_time": "2023-08-13T07:32:56.403Z"
   },
   {
    "duration": 50,
    "start_time": "2023-08-13T07:32:56.459Z"
   },
   {
    "duration": 5,
    "start_time": "2023-08-13T07:32:56.510Z"
   },
   {
    "duration": 50,
    "start_time": "2023-08-13T07:32:56.516Z"
   },
   {
    "duration": 20,
    "start_time": "2023-08-13T07:32:56.567Z"
   },
   {
    "duration": 15,
    "start_time": "2023-08-13T07:32:56.588Z"
   },
   {
    "duration": 14,
    "start_time": "2023-08-13T07:32:56.606Z"
   },
   {
    "duration": 13,
    "start_time": "2023-08-13T07:32:56.622Z"
   },
   {
    "duration": 13,
    "start_time": "2023-08-13T07:32:56.637Z"
   },
   {
    "duration": 40,
    "start_time": "2023-08-13T07:32:56.651Z"
   },
   {
    "duration": 84,
    "start_time": "2023-08-13T07:32:56.693Z"
   },
   {
    "duration": 66,
    "start_time": "2023-08-13T07:32:56.778Z"
   },
   {
    "duration": 32,
    "start_time": "2023-08-13T07:32:56.845Z"
   },
   {
    "duration": 38,
    "start_time": "2023-08-13T07:32:56.879Z"
   },
   {
    "duration": 4,
    "start_time": "2023-08-13T07:32:56.919Z"
   },
   {
    "duration": 10,
    "start_time": "2023-08-13T07:32:56.924Z"
   },
   {
    "duration": 17,
    "start_time": "2023-08-13T07:32:56.936Z"
   },
   {
    "duration": 38,
    "start_time": "2023-08-13T07:32:56.954Z"
   },
   {
    "duration": 13,
    "start_time": "2023-08-13T07:32:56.993Z"
   },
   {
    "duration": 23,
    "start_time": "2023-08-13T07:32:57.007Z"
   },
   {
    "duration": 20,
    "start_time": "2023-08-13T07:32:57.031Z"
   },
   {
    "duration": 28,
    "start_time": "2023-08-13T07:32:57.053Z"
   },
   {
    "duration": 17,
    "start_time": "2023-08-13T07:32:57.082Z"
   },
   {
    "duration": 98,
    "start_time": "2023-08-13T07:32:57.101Z"
   },
   {
    "duration": 30,
    "start_time": "2023-08-13T07:32:57.200Z"
   },
   {
    "duration": 74,
    "start_time": "2023-08-13T07:32:57.232Z"
   },
   {
    "duration": 7,
    "start_time": "2023-08-13T07:32:57.307Z"
   },
   {
    "duration": 25,
    "start_time": "2023-08-13T07:32:57.315Z"
   },
   {
    "duration": 10,
    "start_time": "2023-08-13T07:32:57.342Z"
   },
   {
    "duration": 18,
    "start_time": "2023-08-13T07:32:59.613Z"
   },
   {
    "duration": 315,
    "start_time": "2023-08-13T07:33:02.574Z"
   },
   {
    "duration": 305,
    "start_time": "2023-08-13T07:33:06.117Z"
   },
   {
    "duration": 244,
    "start_time": "2023-08-13T07:33:11.450Z"
   },
   {
    "duration": 239,
    "start_time": "2023-08-13T07:33:43.954Z"
   },
   {
    "duration": 306,
    "start_time": "2023-08-13T07:36:38.093Z"
   },
   {
    "duration": 11,
    "start_time": "2023-08-13T07:38:33.351Z"
   },
   {
    "duration": 7,
    "start_time": "2023-08-13T07:42:11.950Z"
   },
   {
    "duration": 15,
    "start_time": "2023-08-13T07:42:21.192Z"
   },
   {
    "duration": 11,
    "start_time": "2023-08-13T07:46:27.153Z"
   },
   {
    "duration": 17,
    "start_time": "2023-08-13T07:46:55.590Z"
   },
   {
    "duration": 22,
    "start_time": "2023-08-13T07:51:36.080Z"
   },
   {
    "duration": 14,
    "start_time": "2023-08-13T07:52:00.798Z"
   },
   {
    "duration": 15,
    "start_time": "2023-08-13T07:52:12.213Z"
   },
   {
    "duration": 13,
    "start_time": "2023-08-13T07:52:29.016Z"
   },
   {
    "duration": 250,
    "start_time": "2023-08-13T07:53:06.953Z"
   },
   {
    "duration": 14,
    "start_time": "2023-08-13T07:53:16.172Z"
   },
   {
    "duration": 233,
    "start_time": "2023-08-13T07:53:22.838Z"
   },
   {
    "duration": 15,
    "start_time": "2023-08-13T07:53:37.028Z"
   },
   {
    "duration": 271,
    "start_time": "2023-08-13T07:53:40.965Z"
   },
   {
    "duration": 3,
    "start_time": "2023-08-13T07:53:48.625Z"
   },
   {
    "duration": 604,
    "start_time": "2023-08-13T07:53:48.629Z"
   },
   {
    "duration": 610,
    "start_time": "2023-08-13T07:53:49.235Z"
   },
   {
    "duration": 4,
    "start_time": "2023-08-13T07:53:49.846Z"
   },
   {
    "duration": 281,
    "start_time": "2023-08-13T07:53:49.853Z"
   },
   {
    "duration": 54,
    "start_time": "2023-08-13T07:53:50.136Z"
   },
   {
    "duration": 30,
    "start_time": "2023-08-13T07:53:50.199Z"
   },
   {
    "duration": 53,
    "start_time": "2023-08-13T07:53:50.231Z"
   },
   {
    "duration": 43,
    "start_time": "2023-08-13T07:53:50.286Z"
   },
   {
    "duration": 4,
    "start_time": "2023-08-13T07:53:50.331Z"
   },
   {
    "duration": 37,
    "start_time": "2023-08-13T07:53:50.337Z"
   },
   {
    "duration": 38,
    "start_time": "2023-08-13T07:53:50.376Z"
   },
   {
    "duration": 12,
    "start_time": "2023-08-13T07:53:50.416Z"
   },
   {
    "duration": 13,
    "start_time": "2023-08-13T07:53:50.432Z"
   },
   {
    "duration": 4,
    "start_time": "2023-08-13T07:53:50.446Z"
   },
   {
    "duration": 8,
    "start_time": "2023-08-13T07:53:50.452Z"
   },
   {
    "duration": 55,
    "start_time": "2023-08-13T07:53:50.462Z"
   },
   {
    "duration": 12,
    "start_time": "2023-08-13T07:53:50.525Z"
   },
   {
    "duration": 30,
    "start_time": "2023-08-13T07:53:50.539Z"
   },
   {
    "duration": 10,
    "start_time": "2023-08-13T07:53:50.571Z"
   },
   {
    "duration": 60,
    "start_time": "2023-08-13T07:53:50.583Z"
   },
   {
    "duration": 5,
    "start_time": "2023-08-13T07:53:50.646Z"
   },
   {
    "duration": 16,
    "start_time": "2023-08-13T07:53:50.652Z"
   },
   {
    "duration": 6,
    "start_time": "2023-08-13T07:53:50.669Z"
   },
   {
    "duration": 20,
    "start_time": "2023-08-13T07:53:50.676Z"
   },
   {
    "duration": 25,
    "start_time": "2023-08-13T07:53:50.698Z"
   },
   {
    "duration": 15,
    "start_time": "2023-08-13T07:53:50.724Z"
   },
   {
    "duration": 24,
    "start_time": "2023-08-13T07:53:50.740Z"
   },
   {
    "duration": 17,
    "start_time": "2023-08-13T07:53:50.765Z"
   },
   {
    "duration": 32,
    "start_time": "2023-08-13T07:53:50.785Z"
   },
   {
    "duration": 112,
    "start_time": "2023-08-13T07:53:50.820Z"
   },
   {
    "duration": 34,
    "start_time": "2023-08-13T07:53:50.933Z"
   },
   {
    "duration": 94,
    "start_time": "2023-08-13T07:53:50.969Z"
   },
   {
    "duration": 8,
    "start_time": "2023-08-13T07:53:51.064Z"
   },
   {
    "duration": 41,
    "start_time": "2023-08-13T07:53:51.073Z"
   },
   {
    "duration": 11,
    "start_time": "2023-08-13T07:53:51.116Z"
   },
   {
    "duration": 25,
    "start_time": "2023-08-13T07:53:51.129Z"
   },
   {
    "duration": 264,
    "start_time": "2023-08-13T07:53:51.155Z"
   },
   {
    "duration": 307,
    "start_time": "2023-08-13T07:53:58.725Z"
   },
   {
    "duration": 12,
    "start_time": "2023-08-13T07:54:41.654Z"
   },
   {
    "duration": 19,
    "start_time": "2023-08-13T07:54:44.812Z"
   },
   {
    "duration": 234,
    "start_time": "2023-08-13T07:57:09.070Z"
   },
   {
    "duration": 1033,
    "start_time": "2023-08-13T08:00:34.091Z"
   },
   {
    "duration": 621,
    "start_time": "2023-08-13T08:00:35.126Z"
   },
   {
    "duration": 712,
    "start_time": "2023-08-13T08:00:35.748Z"
   },
   {
    "duration": 3,
    "start_time": "2023-08-13T08:00:36.462Z"
   },
   {
    "duration": 258,
    "start_time": "2023-08-13T08:00:36.467Z"
   },
   {
    "duration": 52,
    "start_time": "2023-08-13T08:00:36.726Z"
   },
   {
    "duration": 33,
    "start_time": "2023-08-13T08:00:36.780Z"
   },
   {
    "duration": 56,
    "start_time": "2023-08-13T08:00:36.814Z"
   },
   {
    "duration": 47,
    "start_time": "2023-08-13T08:00:36.871Z"
   },
   {
    "duration": 12,
    "start_time": "2023-08-13T08:00:36.920Z"
   },
   {
    "duration": 38,
    "start_time": "2023-08-13T08:00:36.933Z"
   },
   {
    "duration": 26,
    "start_time": "2023-08-13T08:00:36.973Z"
   },
   {
    "duration": 7,
    "start_time": "2023-08-13T08:00:37.001Z"
   },
   {
    "duration": 16,
    "start_time": "2023-08-13T08:00:37.010Z"
   },
   {
    "duration": 7,
    "start_time": "2023-08-13T08:00:37.027Z"
   },
   {
    "duration": 8,
    "start_time": "2023-08-13T08:00:37.036Z"
   },
   {
    "duration": 13,
    "start_time": "2023-08-13T08:00:37.046Z"
   },
   {
    "duration": 13,
    "start_time": "2023-08-13T08:00:37.061Z"
   },
   {
    "duration": 28,
    "start_time": "2023-08-13T08:00:37.076Z"
   },
   {
    "duration": 18,
    "start_time": "2023-08-13T08:00:37.106Z"
   },
   {
    "duration": 56,
    "start_time": "2023-08-13T08:00:37.126Z"
   },
   {
    "duration": 4,
    "start_time": "2023-08-13T08:00:37.184Z"
   },
   {
    "duration": 12,
    "start_time": "2023-08-13T08:00:37.189Z"
   },
   {
    "duration": 13,
    "start_time": "2023-08-13T08:00:37.202Z"
   },
   {
    "duration": 27,
    "start_time": "2023-08-13T08:00:37.217Z"
   },
   {
    "duration": 12,
    "start_time": "2023-08-13T08:00:37.246Z"
   },
   {
    "duration": 25,
    "start_time": "2023-08-13T08:00:37.261Z"
   },
   {
    "duration": 19,
    "start_time": "2023-08-13T08:00:37.290Z"
   },
   {
    "duration": 16,
    "start_time": "2023-08-13T08:00:37.311Z"
   },
   {
    "duration": 10,
    "start_time": "2023-08-13T08:00:37.328Z"
   },
   {
    "duration": 123,
    "start_time": "2023-08-13T08:00:37.339Z"
   },
   {
    "duration": 35,
    "start_time": "2023-08-13T08:00:37.464Z"
   },
   {
    "duration": 78,
    "start_time": "2023-08-13T08:00:37.501Z"
   },
   {
    "duration": 8,
    "start_time": "2023-08-13T08:00:37.580Z"
   },
   {
    "duration": 14,
    "start_time": "2023-08-13T08:00:37.600Z"
   },
   {
    "duration": 25,
    "start_time": "2023-08-13T08:00:37.615Z"
   },
   {
    "duration": 20,
    "start_time": "2023-08-13T08:00:37.642Z"
   },
   {
    "duration": 265,
    "start_time": "2023-08-13T08:00:37.664Z"
   },
   {
    "duration": 298,
    "start_time": "2023-08-13T08:00:37.930Z"
   },
   {
    "duration": 218,
    "start_time": "2023-08-13T08:00:38.230Z"
   },
   {
    "duration": 9,
    "start_time": "2023-08-13T08:00:38.450Z"
   },
   {
    "duration": 201,
    "start_time": "2023-08-13T08:00:38.460Z"
   },
   {
    "duration": 13,
    "start_time": "2023-08-13T08:00:38.663Z"
   },
   {
    "duration": 9,
    "start_time": "2023-08-13T08:00:38.678Z"
   },
   {
    "duration": 22,
    "start_time": "2023-08-13T08:00:38.689Z"
   },
   {
    "duration": 17,
    "start_time": "2023-08-13T08:00:38.712Z"
   },
   {
    "duration": 5,
    "start_time": "2023-08-13T08:00:38.731Z"
   },
   {
    "duration": 112,
    "start_time": "2023-08-13T08:00:38.738Z"
   },
   {
    "duration": 21,
    "start_time": "2023-08-13T08:24:30.971Z"
   },
   {
    "duration": 23,
    "start_time": "2023-08-13T08:27:34.300Z"
   },
   {
    "duration": 23,
    "start_time": "2023-08-13T08:29:06.866Z"
   },
   {
    "duration": 6,
    "start_time": "2023-08-13T08:31:19.310Z"
   },
   {
    "duration": 11,
    "start_time": "2023-08-13T08:31:26.346Z"
   },
   {
    "duration": 12,
    "start_time": "2023-08-13T08:33:17.228Z"
   },
   {
    "duration": 7,
    "start_time": "2023-08-13T08:33:22.941Z"
   },
   {
    "duration": 9,
    "start_time": "2023-08-13T08:33:31.935Z"
   },
   {
    "duration": 23,
    "start_time": "2023-08-13T08:34:32.849Z"
   },
   {
    "duration": 13,
    "start_time": "2023-08-13T08:35:58.506Z"
   },
   {
    "duration": 23,
    "start_time": "2023-08-13T08:36:53.012Z"
   },
   {
    "duration": 19,
    "start_time": "2023-08-13T08:37:32.251Z"
   },
   {
    "duration": 1193,
    "start_time": "2023-08-13T11:18:13.367Z"
   },
   {
    "duration": 682,
    "start_time": "2023-08-13T11:18:14.562Z"
   },
   {
    "duration": 1393,
    "start_time": "2023-08-13T11:18:15.246Z"
   },
   {
    "duration": 3,
    "start_time": "2023-08-13T11:18:16.641Z"
   },
   {
    "duration": 329,
    "start_time": "2023-08-13T11:18:16.646Z"
   },
   {
    "duration": 60,
    "start_time": "2023-08-13T11:18:16.977Z"
   },
   {
    "duration": 43,
    "start_time": "2023-08-13T11:18:17.039Z"
   },
   {
    "duration": 73,
    "start_time": "2023-08-13T11:18:17.084Z"
   },
   {
    "duration": 28,
    "start_time": "2023-08-13T11:18:17.159Z"
   },
   {
    "duration": 5,
    "start_time": "2023-08-13T11:18:17.189Z"
   },
   {
    "duration": 78,
    "start_time": "2023-08-13T11:18:17.196Z"
   },
   {
    "duration": 14,
    "start_time": "2023-08-13T11:18:17.276Z"
   },
   {
    "duration": 30,
    "start_time": "2023-08-13T11:18:17.291Z"
   },
   {
    "duration": 28,
    "start_time": "2023-08-13T11:18:17.324Z"
   },
   {
    "duration": 10,
    "start_time": "2023-08-13T11:18:17.354Z"
   },
   {
    "duration": 34,
    "start_time": "2023-08-13T11:18:17.366Z"
   },
   {
    "duration": 19,
    "start_time": "2023-08-13T11:18:17.401Z"
   },
   {
    "duration": 6,
    "start_time": "2023-08-13T11:18:17.422Z"
   },
   {
    "duration": 9,
    "start_time": "2023-08-13T11:18:17.430Z"
   },
   {
    "duration": 10,
    "start_time": "2023-08-13T11:18:17.441Z"
   },
   {
    "duration": 40,
    "start_time": "2023-08-13T11:18:17.453Z"
   },
   {
    "duration": 4,
    "start_time": "2023-08-13T11:18:17.495Z"
   },
   {
    "duration": 19,
    "start_time": "2023-08-13T11:18:17.501Z"
   },
   {
    "duration": 8,
    "start_time": "2023-08-13T11:18:17.522Z"
   },
   {
    "duration": 32,
    "start_time": "2023-08-13T11:18:17.531Z"
   },
   {
    "duration": 10,
    "start_time": "2023-08-13T11:18:17.565Z"
   },
   {
    "duration": 30,
    "start_time": "2023-08-13T11:18:17.576Z"
   },
   {
    "duration": 16,
    "start_time": "2023-08-13T11:18:17.608Z"
   },
   {
    "duration": 38,
    "start_time": "2023-08-13T11:18:17.626Z"
   },
   {
    "duration": 13,
    "start_time": "2023-08-13T11:18:17.666Z"
   },
   {
    "duration": 136,
    "start_time": "2023-08-13T11:18:17.681Z"
   },
   {
    "duration": 47,
    "start_time": "2023-08-13T11:18:17.818Z"
   },
   {
    "duration": 65,
    "start_time": "2023-08-13T11:18:17.867Z"
   },
   {
    "duration": 8,
    "start_time": "2023-08-13T11:18:17.933Z"
   },
   {
    "duration": 15,
    "start_time": "2023-08-13T11:18:17.957Z"
   },
   {
    "duration": 10,
    "start_time": "2023-08-13T11:18:17.974Z"
   },
   {
    "duration": 30,
    "start_time": "2023-08-13T11:18:17.986Z"
   },
   {
    "duration": 304,
    "start_time": "2023-08-13T11:18:18.018Z"
   },
   {
    "duration": 376,
    "start_time": "2023-08-13T11:18:18.324Z"
   },
   {
    "duration": 288,
    "start_time": "2023-08-13T11:18:18.702Z"
   },
   {
    "duration": 1052,
    "start_time": "2023-08-13T11:18:18.994Z"
   },
   {
    "duration": 10,
    "start_time": "2023-08-13T11:18:20.048Z"
   },
   {
    "duration": 97,
    "start_time": "2023-08-13T11:18:20.059Z"
   },
   {
    "duration": 25,
    "start_time": "2023-08-13T11:18:20.159Z"
   },
   {
    "duration": 7,
    "start_time": "2023-08-13T11:18:20.185Z"
   },
   {
    "duration": 92,
    "start_time": "2023-08-13T11:18:20.194Z"
   }
  ],
  "kernelspec": {
   "display_name": "Python 3 (ipykernel)",
   "language": "python",
   "name": "python3"
  },
  "language_info": {
   "codemirror_mode": {
    "name": "ipython",
    "version": 3
   },
   "file_extension": ".py",
   "mimetype": "text/x-python",
   "name": "python",
   "nbconvert_exporter": "python",
   "pygments_lexer": "ipython3",
   "version": "3.9.12"
  },
  "toc": {
   "base_numbering": 1,
   "nav_menu": {},
   "number_sections": true,
   "sideBar": true,
   "skip_h1_title": true,
   "title_cell": "Table of Contents",
   "title_sidebar": "Contents",
   "toc_cell": false,
   "toc_position": {
    "height": "calc(100% - 180px)",
    "left": "10px",
    "top": "150px",
    "width": "332.969px"
   },
   "toc_section_display": true,
   "toc_window_display": true
  }
 },
 "nbformat": 4,
 "nbformat_minor": 5
}
