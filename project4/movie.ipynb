{
 "cells": [
  {
   "cell_type": "markdown",
   "metadata": {
    "id": "sIfNaMOxgFyK"
   },
   "source": [
    "## Исследование данных о российском кинопрокате\n",
    "\n"
   ]
  },
  {
   "cell_type": "markdown",
   "metadata": {},
   "source": [
    "Заказчик этого исследования — Министерство культуры Российской Федерации.\n",
    "\n",
    "Работа с данными, опубликованными на [портале открытых данных Министерства культуры](https://opendata.mkrf.ru/). Набор данных содержит информацию о прокатных удостоверениях, сборах и государственной поддержке фильмов, а также информацию с сайта КиноПоиск.\n",
    "\n",
    "Цель проекта: \n",
    "- Изучить рынок российского кинопроката и выявить текущие тренды. \n",
    "- Уделить внимание фильмам, которые получили государственную поддержку. \n",
    "- Попробовать ответить на вопрос, насколько такие фильмы интересны зрителю.\n",
    "\n",
    "\n",
    " **Описание данных**  \n",
    " \n",
    " \n",
    "Таблица `mkrf_moves` содержит информацию из реестра прокатных удостоверений. У одного фильма может быть несколько прокатных удостоверений.\n",
    "- `title` - название фильма\n",
    "- `puNumber` - номер прокатного удостоверения\n",
    "- `show_start_date` - дата премьеры фильма\n",
    "- `type` - тип фильма\n",
    "- `film_studio` - студия-производитель\n",
    "- `production_country` - страна-производитель\n",
    "- `director` - режиссер\n",
    "- `producer` - продюсер\n",
    "- `age_restriction` - возрастная категория\n",
    "- `refundable_support` - объем возвратных средств государственной поддержки\n",
    "- `nonrefundable_support` - объем невозвратных средств государственной поддержки\n",
    "- `financing_source` - источник государственного финансирования\n",
    "- `budget` - общий бюджет фильма\n",
    "- `ratings` - рейтинг фильма на КиноПоиске\n",
    "- `genres` - жанр фильма\n",
    "\n",
    "Обратите внимание, что столбец `budget` уже включает в себя полный объем государственной поддержки. Данные в этом столбце указаны только для тех фильмов, которые получили государственную поддержку\n",
    "\n",
    "Таблица `mkrf_shows` содержит сведения о показах фильмов в российских кинотеатрах\n",
    "- `puNumber` - номер прокатного удостоверения\n",
    "- `box_office` - сборы в рублях"
   ]
  },
  {
   "cell_type": "markdown",
   "metadata": {
    "id": "3bSlkCsbgFyL"
   },
   "source": [
    "### Шаг 1. Откройте файлы с данными и объедините их в один датафрейм. \n",
    "\n",
    "Объедините данные таким образом, чтобы все объекты из датасета `mkrf_movies` обязательно вошли в получившийся датафрейм. \n",
    "\n",
    "<div id=\"accordion\">\n",
    "    <div class=\"card\">\n",
    "        <div class=\"card-header\" id=\"headingThree\">\n",
    "            <button class=\"btn btn-link collapsed\" data-toggle=\"collapse\" data-target=\"#collapseHint_0\" aria-expanded=\"false\" aria-controls=\"collapseHint_0\">Подсказка</button>\n",
    "        </div>\n",
    "        <div id=\"collapseHint_0\" class=\"collapse\" aria-labelledby=\"headingThree\" data-parent=\"#accordion\">\n",
    "            <div class=\"card-body\">\n",
    "Обратите внимание на тип данных столбца, по которому будете соединять датафреймы. Тип данных этих столбцов должен быть одинаковым в обоих датафреймах.\n",
    "            </div>\n",
    "        </div>\n",
    "    </div>\n",
    "</div>\n",
    "\n",
    "Пути к файлам:\n",
    "\n",
    "`/datasets/mkrf_movies.csv` - данные о прокатных удостоверениях\n",
    "\n",
    "`/datasets/mkrf_shows.csv` - данные о прокате в российских кинотеатрах"
   ]
  },
  {
   "cell_type": "code",
   "execution_count": 17,
   "metadata": {},
   "outputs": [],
   "source": [
    "#Импорт библиотеки pandas\n",
    "import pandas as pd\n",
    "import matplotlib.pyplot as plt\n",
    "import numpy as np\n",
    "pd.options.display.float_format = '{:,.2f}'.format \n",
    "import os"
   ]
  },
  {
   "cell_type": "code",
   "execution_count": 18,
   "metadata": {
    "id": "dw87FlzMgFyM"
   },
   "outputs": [
    {
     "name": "stdout",
     "output_type": "stream",
     "text": [
      "<class 'pandas.core.frame.DataFrame'>\n",
      "RangeIndex: 7486 entries, 0 to 7485\n",
      "Data columns (total 15 columns):\n",
      " #   Column                 Non-Null Count  Dtype  \n",
      "---  ------                 --------------  -----  \n",
      " 0   title                  7486 non-null   object \n",
      " 1   puNumber               7486 non-null   object \n",
      " 2   show_start_date        7486 non-null   object \n",
      " 3   type                   7486 non-null   object \n",
      " 4   film_studio            7468 non-null   object \n",
      " 5   production_country     7484 non-null   object \n",
      " 6   director               7477 non-null   object \n",
      " 7   producer               6918 non-null   object \n",
      " 8   age_restriction        7486 non-null   object \n",
      " 9   refundable_support     332 non-null    float64\n",
      " 10  nonrefundable_support  332 non-null    float64\n",
      " 11  budget                 332 non-null    float64\n",
      " 12  financing_source       332 non-null    object \n",
      " 13  ratings                6519 non-null   object \n",
      " 14  genres                 6510 non-null   object \n",
      "dtypes: float64(3), object(12)\n",
      "memory usage: 877.4+ KB\n",
      "<class 'pandas.core.frame.DataFrame'>\n",
      "RangeIndex: 3158 entries, 0 to 3157\n",
      "Data columns (total 2 columns):\n",
      " #   Column      Non-Null Count  Dtype  \n",
      "---  ------      --------------  -----  \n",
      " 0   puNumber    3158 non-null   int64  \n",
      " 1   box_office  3158 non-null   float64\n",
      "dtypes: float64(1), int64(1)\n",
      "memory usage: 49.5 KB\n"
     ]
    }
   ],
   "source": [
    "pth1 = '/datasets/mkrf_movies.csv'\n",
    "pth2 = 'mkrf_movies.csv'\n",
    "pth3 = '/datasets/mkrf_shows.csv'\n",
    "pth4 = 'mkrf_shows.csv'\n",
    "    \n",
    "if os.path.exists(pth1):\n",
    "    data1 = pd.read_csv(pth1)\n",
    "elif os.path.exists(pth2):\n",
    "    data1 = pd.read_csv(pth2)\n",
    "else:\n",
    "    print('Something is wrong')\n",
    "\n",
    "if os.path.exists(pth3):\n",
    "    data2 = pd.read_csv(pth3)\n",
    "elif os.path.exists(pth4):\n",
    "    data2 = pd.read_csv(pth4)\n",
    "else:\n",
    "    print('Something is wrong')\n",
    "    \n",
    "data1.info()\n",
    "data2.info()"
   ]
  },
  {
   "cell_type": "markdown",
   "metadata": {},
   "source": [
    "Для объединения таблиц необходимо, чтобы столбцы по которым объединяем, были одинакового типа. Попробуем столбец `puNumber` датафрейма `data1` перевести типа с `object` на `int`"
   ]
  },
  {
   "cell_type": "code",
   "execution_count": 19,
   "metadata": {},
   "outputs": [
    {
     "name": "stdout",
     "output_type": "stream",
     "text": [
      "0\n",
      "0\n"
     ]
    },
    {
     "data": {
      "text/html": [
       "<div>\n",
       "<style scoped>\n",
       "    .dataframe tbody tr th:only-of-type {\n",
       "        vertical-align: middle;\n",
       "    }\n",
       "\n",
       "    .dataframe tbody tr th {\n",
       "        vertical-align: top;\n",
       "    }\n",
       "\n",
       "    .dataframe thead th {\n",
       "        text-align: right;\n",
       "    }\n",
       "</style>\n",
       "<table border=\"1\" class=\"dataframe\">\n",
       "  <thead>\n",
       "    <tr style=\"text-align: right;\">\n",
       "      <th></th>\n",
       "      <th>title</th>\n",
       "      <th>puNumber</th>\n",
       "      <th>show_start_date</th>\n",
       "      <th>type</th>\n",
       "      <th>film_studio</th>\n",
       "      <th>production_country</th>\n",
       "      <th>director</th>\n",
       "      <th>producer</th>\n",
       "      <th>age_restriction</th>\n",
       "      <th>refundable_support</th>\n",
       "      <th>nonrefundable_support</th>\n",
       "      <th>budget</th>\n",
       "      <th>financing_source</th>\n",
       "      <th>ratings</th>\n",
       "      <th>genres</th>\n",
       "    </tr>\n",
       "  </thead>\n",
       "  <tbody>\n",
       "    <tr>\n",
       "      <th>1797</th>\n",
       "      <td>Курбан-роман. (История с жертвой)</td>\n",
       "      <td>нет</td>\n",
       "      <td>2014-05-15T12:00:00.000Z</td>\n",
       "      <td>Художественный</td>\n",
       "      <td>ФОНД \"ИННОВАЦИЯ\"</td>\n",
       "      <td>Россия</td>\n",
       "      <td>С.Юзеев</td>\n",
       "      <td>М.Галицкая</td>\n",
       "      <td>«12+» - для детей старше 12 лет</td>\n",
       "      <td>NaN</td>\n",
       "      <td>NaN</td>\n",
       "      <td>NaN</td>\n",
       "      <td>NaN</td>\n",
       "      <td>NaN</td>\n",
       "      <td>NaN</td>\n",
       "    </tr>\n",
       "  </tbody>\n",
       "</table>\n",
       "</div>"
      ],
      "text/plain": [
       "                                  title puNumber           show_start_date  \\\n",
       "1797  Курбан-роман. (История с жертвой)      нет  2014-05-15T12:00:00.000Z   \n",
       "\n",
       "                type       film_studio production_country director  \\\n",
       "1797  Художественный  ФОНД \"ИННОВАЦИЯ\"             Россия  С.Юзеев   \n",
       "\n",
       "        producer                  age_restriction  refundable_support  \\\n",
       "1797  М.Галицкая  «12+» - для детей старше 12 лет                 NaN   \n",
       "\n",
       "      nonrefundable_support  budget financing_source ratings genres  \n",
       "1797                    NaN     NaN              NaN     NaN    NaN  "
      ]
     },
     "execution_count": 19,
     "metadata": {},
     "output_type": "execute_result"
    }
   ],
   "source": [
    "#data1['puNumber'] = data1['puNumber'].astype('int')\n",
    "print(data1[data1['puNumber']== 0]['puNumber'].count())\n",
    "print(data2[data2['puNumber']== 0]['puNumber'].count())\n",
    "data1.query('puNumber == \"нет\"')"
   ]
  },
  {
   "cell_type": "markdown",
   "metadata": {},
   "source": [
    "Выдает ошибку, компилятор пишет что есть значение `нет`, выведем все строки с значением `нет`, а также проверим количество строк с значением 0 в `data1` и `data2`. Перезапишем `нет` на 0."
   ]
  },
  {
   "cell_type": "code",
   "execution_count": 20,
   "metadata": {},
   "outputs": [
    {
     "data": {
      "text/html": [
       "<div>\n",
       "<style scoped>\n",
       "    .dataframe tbody tr th:only-of-type {\n",
       "        vertical-align: middle;\n",
       "    }\n",
       "\n",
       "    .dataframe tbody tr th {\n",
       "        vertical-align: top;\n",
       "    }\n",
       "\n",
       "    .dataframe thead th {\n",
       "        text-align: right;\n",
       "    }\n",
       "</style>\n",
       "<table border=\"1\" class=\"dataframe\">\n",
       "  <thead>\n",
       "    <tr style=\"text-align: right;\">\n",
       "      <th></th>\n",
       "      <th>title</th>\n",
       "      <th>puNumber</th>\n",
       "      <th>show_start_date</th>\n",
       "      <th>type</th>\n",
       "      <th>film_studio</th>\n",
       "      <th>production_country</th>\n",
       "      <th>director</th>\n",
       "      <th>producer</th>\n",
       "      <th>age_restriction</th>\n",
       "      <th>refundable_support</th>\n",
       "      <th>nonrefundable_support</th>\n",
       "      <th>budget</th>\n",
       "      <th>financing_source</th>\n",
       "      <th>ratings</th>\n",
       "      <th>genres</th>\n",
       "    </tr>\n",
       "  </thead>\n",
       "  <tbody>\n",
       "    <tr>\n",
       "      <th>1797</th>\n",
       "      <td>Курбан-роман. (История с жертвой)</td>\n",
       "      <td>0</td>\n",
       "      <td>2014-05-15T12:00:00.000Z</td>\n",
       "      <td>Художественный</td>\n",
       "      <td>ФОНД \"ИННОВАЦИЯ\"</td>\n",
       "      <td>Россия</td>\n",
       "      <td>С.Юзеев</td>\n",
       "      <td>М.Галицкая</td>\n",
       "      <td>«12+» - для детей старше 12 лет</td>\n",
       "      <td>NaN</td>\n",
       "      <td>NaN</td>\n",
       "      <td>NaN</td>\n",
       "      <td>NaN</td>\n",
       "      <td>NaN</td>\n",
       "      <td>NaN</td>\n",
       "    </tr>\n",
       "  </tbody>\n",
       "</table>\n",
       "</div>"
      ],
      "text/plain": [
       "                                  title puNumber           show_start_date  \\\n",
       "1797  Курбан-роман. (История с жертвой)        0  2014-05-15T12:00:00.000Z   \n",
       "\n",
       "                type       film_studio production_country director  \\\n",
       "1797  Художественный  ФОНД \"ИННОВАЦИЯ\"             Россия  С.Юзеев   \n",
       "\n",
       "        producer                  age_restriction  refundable_support  \\\n",
       "1797  М.Галицкая  «12+» - для детей старше 12 лет                 NaN   \n",
       "\n",
       "      nonrefundable_support  budget financing_source ratings genres  \n",
       "1797                    NaN     NaN              NaN     NaN    NaN  "
      ]
     },
     "execution_count": 20,
     "metadata": {},
     "output_type": "execute_result"
    }
   ],
   "source": [
    "data1['puNumber'] = data1['puNumber'].replace('нет', 0, regex=True)\n",
    "#Проверим \n",
    "data1.query('puNumber == 0')"
   ]
  },
  {
   "cell_type": "code",
   "execution_count": 21,
   "metadata": {
    "scrolled": false
   },
   "outputs": [
    {
     "name": "stdout",
     "output_type": "stream",
     "text": [
      "<class 'pandas.core.frame.DataFrame'>\n",
      "RangeIndex: 7486 entries, 0 to 7485\n",
      "Data columns (total 15 columns):\n",
      " #   Column                 Non-Null Count  Dtype  \n",
      "---  ------                 --------------  -----  \n",
      " 0   title                  7486 non-null   object \n",
      " 1   puNumber               7486 non-null   int32  \n",
      " 2   show_start_date        7486 non-null   object \n",
      " 3   type                   7486 non-null   object \n",
      " 4   film_studio            7468 non-null   object \n",
      " 5   production_country     7484 non-null   object \n",
      " 6   director               7477 non-null   object \n",
      " 7   producer               6918 non-null   object \n",
      " 8   age_restriction        7486 non-null   object \n",
      " 9   refundable_support     332 non-null    float64\n",
      " 10  nonrefundable_support  332 non-null    float64\n",
      " 11  budget                 332 non-null    float64\n",
      " 12  financing_source       332 non-null    object \n",
      " 13  ratings                6519 non-null   object \n",
      " 14  genres                 6510 non-null   object \n",
      "dtypes: float64(3), int32(1), object(11)\n",
      "memory usage: 848.1+ KB\n"
     ]
    }
   ],
   "source": [
    "data1['puNumber'] = data1['puNumber'].astype('int')\n",
    "data1.info()"
   ]
  },
  {
   "cell_type": "code",
   "execution_count": 22,
   "metadata": {},
   "outputs": [
    {
     "name": "stdout",
     "output_type": "stream",
     "text": [
      "Количество строк и столбцов data1 до объединения -  (7486, 15)\n"
     ]
    }
   ],
   "source": [
    "print('Количество строк и столбцов data1 до объединения - ', data1.shape)"
   ]
  },
  {
   "cell_type": "code",
   "execution_count": 23,
   "metadata": {},
   "outputs": [
    {
     "name": "stdout",
     "output_type": "stream",
     "text": [
      "Количество строк и столбцов после объединения -  (7486, 16) \n",
      "\n",
      "<class 'pandas.core.frame.DataFrame'>\n",
      "RangeIndex: 7486 entries, 0 to 7485\n",
      "Data columns (total 16 columns):\n",
      " #   Column                 Non-Null Count  Dtype  \n",
      "---  ------                 --------------  -----  \n",
      " 0   title                  7486 non-null   object \n",
      " 1   puNumber               7486 non-null   int32  \n",
      " 2   show_start_date        7486 non-null   object \n",
      " 3   type                   7486 non-null   object \n",
      " 4   film_studio            7468 non-null   object \n",
      " 5   production_country     7484 non-null   object \n",
      " 6   director               7477 non-null   object \n",
      " 7   producer               6918 non-null   object \n",
      " 8   age_restriction        7486 non-null   object \n",
      " 9   refundable_support     332 non-null    float64\n",
      " 10  nonrefundable_support  332 non-null    float64\n",
      " 11  budget                 332 non-null    float64\n",
      " 12  financing_source       332 non-null    object \n",
      " 13  ratings                6519 non-null   object \n",
      " 14  genres                 6510 non-null   object \n",
      " 15  box_office             3158 non-null   float64\n",
      "dtypes: float64(4), int32(1), object(11)\n",
      "memory usage: 906.6+ KB\n"
     ]
    }
   ],
   "source": [
    "data = data1.merge(data2, on = 'puNumber', how = 'left')\n",
    "data = data.reset_index(drop = True)\n",
    "print('Количество строк и столбцов после объединения - ', data.shape,'\\n')\n",
    "data.info()\n"
   ]
  },
  {
   "cell_type": "markdown",
   "metadata": {},
   "source": [
    "`(7486, 15)` - Количество строк и столбцов `data1` до объединения\n",
    "\n",
    "`(7486, 16) ` - После объединения двух таблиц\n",
    "\n",
    "Соответственно, все объекты из датасета `mkrf_movies` вошли в получившийся датафрейм"
   ]
  },
  {
   "cell_type": "markdown",
   "metadata": {
    "id": "KLDGpPG0gFyM"
   },
   "source": [
    "### Шаг 2. Предобработка данных"
   ]
  },
  {
   "cell_type": "markdown",
   "metadata": {
    "id": "ssWwKXsxgFyO"
   },
   "source": [
    "#### Шаг 2.1. Проверьте типы данных\n",
    "\n",
    "- Проверьте типы данных в датафрейме и преобразуйте их там, где это необходимо."
   ]
  },
  {
   "cell_type": "code",
   "execution_count": 24,
   "metadata": {
    "id": "kVGSplJOgFyO",
    "scrolled": false
   },
   "outputs": [
    {
     "data": {
      "text/html": [
       "<div>\n",
       "<style scoped>\n",
       "    .dataframe tbody tr th:only-of-type {\n",
       "        vertical-align: middle;\n",
       "    }\n",
       "\n",
       "    .dataframe tbody tr th {\n",
       "        vertical-align: top;\n",
       "    }\n",
       "\n",
       "    .dataframe thead th {\n",
       "        text-align: right;\n",
       "    }\n",
       "</style>\n",
       "<table border=\"1\" class=\"dataframe\">\n",
       "  <thead>\n",
       "    <tr style=\"text-align: right;\">\n",
       "      <th></th>\n",
       "      <th>title</th>\n",
       "      <th>puNumber</th>\n",
       "      <th>show_start_date</th>\n",
       "      <th>type</th>\n",
       "      <th>film_studio</th>\n",
       "      <th>production_country</th>\n",
       "      <th>director</th>\n",
       "      <th>producer</th>\n",
       "      <th>age_restriction</th>\n",
       "      <th>refundable_support</th>\n",
       "      <th>nonrefundable_support</th>\n",
       "      <th>budget</th>\n",
       "      <th>financing_source</th>\n",
       "      <th>ratings</th>\n",
       "      <th>genres</th>\n",
       "      <th>box_office</th>\n",
       "    </tr>\n",
       "  </thead>\n",
       "  <tbody>\n",
       "    <tr>\n",
       "      <th>7302</th>\n",
       "      <td>Побег из Шоушенка</td>\n",
       "      <td>121029519</td>\n",
       "      <td>2019-10-18T12:00:00.000Z</td>\n",
       "      <td>Художественный</td>\n",
       "      <td>Уорнер Броз. Пикчерз, Кастл Рок Интертейнмент</td>\n",
       "      <td>США</td>\n",
       "      <td>Фрэнк Дарабонт</td>\n",
       "      <td>Лиз Глоцер, Дэвид В.Лестер, Ники Марвин</td>\n",
       "      <td>«16+» - для детей старше 16 лет</td>\n",
       "      <td>NaN</td>\n",
       "      <td>NaN</td>\n",
       "      <td>NaN</td>\n",
       "      <td>NaN</td>\n",
       "      <td>9.1</td>\n",
       "      <td>драма</td>\n",
       "      <td>NaN</td>\n",
       "    </tr>\n",
       "    <tr>\n",
       "      <th>1185</th>\n",
       "      <td>Шарль Гуно. Фауст /По первой части одноименног...</td>\n",
       "      <td>126000413</td>\n",
       "      <td>2013-02-21T12:00:00.000Z</td>\n",
       "      <td>Прочие</td>\n",
       "      <td>Опус Арт</td>\n",
       "      <td>Великобритания</td>\n",
       "      <td>Дэвид МакВикар</td>\n",
       "      <td>NaN</td>\n",
       "      <td>«0+» - для любой зрительской аудитории</td>\n",
       "      <td>NaN</td>\n",
       "      <td>NaN</td>\n",
       "      <td>NaN</td>\n",
       "      <td>NaN</td>\n",
       "      <td>NaN</td>\n",
       "      <td>NaN</td>\n",
       "      <td>NaN</td>\n",
       "    </tr>\n",
       "    <tr>\n",
       "      <th>6466</th>\n",
       "      <td>А.Адан. Жизель. Хореография Матса Эка</td>\n",
       "      <td>126002718</td>\n",
       "      <td>2018-11-27T12:00:00.000Z</td>\n",
       "      <td>Прочие</td>\n",
       "      <td>Сверижес Телевижн А Бэ, Эр Эм Артс</td>\n",
       "      <td>Швеция</td>\n",
       "      <td>хореограф Матс Эк</td>\n",
       "      <td>Манс Ретерсвард</td>\n",
       "      <td>«18+» - запрещено для детей</td>\n",
       "      <td>NaN</td>\n",
       "      <td>NaN</td>\n",
       "      <td>NaN</td>\n",
       "      <td>NaN</td>\n",
       "      <td>NaN</td>\n",
       "      <td>NaN</td>\n",
       "      <td>NaN</td>\n",
       "    </tr>\n",
       "    <tr>\n",
       "      <th>7291</th>\n",
       "      <td>Курьезы</td>\n",
       "      <td>111017619</td>\n",
       "      <td>2019-10-18T12:00:00.000Z</td>\n",
       "      <td>Художественный</td>\n",
       "      <td>АНО \"Кинофорум\"</td>\n",
       "      <td>Россия</td>\n",
       "      <td>А.Мышкин</td>\n",
       "      <td>С.Новожилов</td>\n",
       "      <td>«16+» - для детей старше 16 лет</td>\n",
       "      <td>NaN</td>\n",
       "      <td>NaN</td>\n",
       "      <td>NaN</td>\n",
       "      <td>NaN</td>\n",
       "      <td>5.0</td>\n",
       "      <td>NaN</td>\n",
       "      <td>NaN</td>\n",
       "    </tr>\n",
       "    <tr>\n",
       "      <th>6481</th>\n",
       "      <td>Де фак-то</td>\n",
       "      <td>112014318</td>\n",
       "      <td>2018-12-04T12:00:00.000Z</td>\n",
       "      <td>Документальный</td>\n",
       "      <td>Обермаер Е.В.</td>\n",
       "      <td>Россия, Австрия</td>\n",
       "      <td>Е.Обермаер (псевдоним Е.Шапиро-Обермаер)</td>\n",
       "      <td>Е.Обермаер (псевдоним Е.Шапиро-Обермаер)</td>\n",
       "      <td>«12+» - для детей старше 12 лет</td>\n",
       "      <td>NaN</td>\n",
       "      <td>NaN</td>\n",
       "      <td>NaN</td>\n",
       "      <td>NaN</td>\n",
       "      <td>6.4</td>\n",
       "      <td>документальный</td>\n",
       "      <td>NaN</td>\n",
       "    </tr>\n",
       "  </tbody>\n",
       "</table>\n",
       "</div>"
      ],
      "text/plain": [
       "                                                  title   puNumber  \\\n",
       "7302                                  Побег из Шоушенка  121029519   \n",
       "1185  Шарль Гуно. Фауст /По первой части одноименног...  126000413   \n",
       "6466              А.Адан. Жизель. Хореография Матса Эка  126002718   \n",
       "7291                                            Курьезы  111017619   \n",
       "6481                                          Де фак-то  112014318   \n",
       "\n",
       "               show_start_date             type  \\\n",
       "7302  2019-10-18T12:00:00.000Z   Художественный   \n",
       "1185  2013-02-21T12:00:00.000Z           Прочие   \n",
       "6466  2018-11-27T12:00:00.000Z           Прочие   \n",
       "7291  2019-10-18T12:00:00.000Z   Художественный   \n",
       "6481  2018-12-04T12:00:00.000Z   Документальный   \n",
       "\n",
       "                                        film_studio production_country  \\\n",
       "7302  Уорнер Броз. Пикчерз, Кастл Рок Интертейнмент                США   \n",
       "1185                                       Опус Арт     Великобритания   \n",
       "6466             Сверижес Телевижн А Бэ, Эр Эм Артс             Швеция   \n",
       "7291                                АНО \"Кинофорум\"             Россия   \n",
       "6481                                  Обермаер Е.В.    Россия, Австрия   \n",
       "\n",
       "                                      director  \\\n",
       "7302                            Фрэнк Дарабонт   \n",
       "1185                            Дэвид МакВикар   \n",
       "6466                         хореограф Матс Эк   \n",
       "7291                                  А.Мышкин   \n",
       "6481  Е.Обермаер (псевдоним Е.Шапиро-Обермаер)   \n",
       "\n",
       "                                      producer  \\\n",
       "7302   Лиз Глоцер, Дэвид В.Лестер, Ники Марвин   \n",
       "1185                                       NaN   \n",
       "6466                           Манс Ретерсвард   \n",
       "7291                               С.Новожилов   \n",
       "6481  Е.Обермаер (псевдоним Е.Шапиро-Обермаер)   \n",
       "\n",
       "                             age_restriction  refundable_support  \\\n",
       "7302         «16+» - для детей старше 16 лет                 NaN   \n",
       "1185  «0+» - для любой зрительской аудитории                 NaN   \n",
       "6466             «18+» - запрещено для детей                 NaN   \n",
       "7291         «16+» - для детей старше 16 лет                 NaN   \n",
       "6481         «12+» - для детей старше 12 лет                 NaN   \n",
       "\n",
       "      nonrefundable_support  budget financing_source ratings          genres  \\\n",
       "7302                    NaN     NaN              NaN     9.1           драма   \n",
       "1185                    NaN     NaN              NaN     NaN             NaN   \n",
       "6466                    NaN     NaN              NaN     NaN             NaN   \n",
       "7291                    NaN     NaN              NaN     5.0             NaN   \n",
       "6481                    NaN     NaN              NaN     6.4  документальный   \n",
       "\n",
       "      box_office  \n",
       "7302         NaN  \n",
       "1185         NaN  \n",
       "6466         NaN  \n",
       "7291         NaN  \n",
       "6481         NaN  "
      ]
     },
     "metadata": {},
     "output_type": "display_data"
    },
    {
     "data": {
      "text/html": [
       "<div>\n",
       "<style scoped>\n",
       "    .dataframe tbody tr th:only-of-type {\n",
       "        vertical-align: middle;\n",
       "    }\n",
       "\n",
       "    .dataframe tbody tr th {\n",
       "        vertical-align: top;\n",
       "    }\n",
       "\n",
       "    .dataframe thead th {\n",
       "        text-align: right;\n",
       "    }\n",
       "</style>\n",
       "<table border=\"1\" class=\"dataframe\">\n",
       "  <thead>\n",
       "    <tr style=\"text-align: right;\">\n",
       "      <th></th>\n",
       "      <th>puNumber</th>\n",
       "      <th>refundable_support</th>\n",
       "      <th>nonrefundable_support</th>\n",
       "      <th>budget</th>\n",
       "      <th>box_office</th>\n",
       "    </tr>\n",
       "  </thead>\n",
       "  <tbody>\n",
       "    <tr>\n",
       "      <th>count</th>\n",
       "      <td>7,486.00</td>\n",
       "      <td>332.00</td>\n",
       "      <td>332.00</td>\n",
       "      <td>332.00</td>\n",
       "      <td>3,158.00</td>\n",
       "    </tr>\n",
       "    <tr>\n",
       "      <th>mean</th>\n",
       "      <td>135,178,527.64</td>\n",
       "      <td>11,864,457.83</td>\n",
       "      <td>48,980,988.89</td>\n",
       "      <td>127,229,716.68</td>\n",
       "      <td>76,478,696.16</td>\n",
       "    </tr>\n",
       "    <tr>\n",
       "      <th>std</th>\n",
       "      <td>38,382,177.41</td>\n",
       "      <td>24,916,555.26</td>\n",
       "      <td>59,980,117.92</td>\n",
       "      <td>188,588,333.12</td>\n",
       "      <td>240,353,122.82</td>\n",
       "    </tr>\n",
       "    <tr>\n",
       "      <th>min</th>\n",
       "      <td>0.00</td>\n",
       "      <td>0.00</td>\n",
       "      <td>0.00</td>\n",
       "      <td>0.00</td>\n",
       "      <td>0.00</td>\n",
       "    </tr>\n",
       "    <tr>\n",
       "      <th>25%</th>\n",
       "      <td>112,025,043.00</td>\n",
       "      <td>0.00</td>\n",
       "      <td>25,000,000.00</td>\n",
       "      <td>42,000,000.00</td>\n",
       "      <td>86,239.00</td>\n",
       "    </tr>\n",
       "    <tr>\n",
       "      <th>50%</th>\n",
       "      <td>121,015,464.50</td>\n",
       "      <td>0.00</td>\n",
       "      <td>30,000,000.00</td>\n",
       "      <td>68,649,916.00</td>\n",
       "      <td>2,327,987.55</td>\n",
       "    </tr>\n",
       "    <tr>\n",
       "      <th>75%</th>\n",
       "      <td>124,003,313.75</td>\n",
       "      <td>15,000,000.00</td>\n",
       "      <td>40,375,000.00</td>\n",
       "      <td>141,985,319.50</td>\n",
       "      <td>23,979,671.02</td>\n",
       "    </tr>\n",
       "    <tr>\n",
       "      <th>max</th>\n",
       "      <td>231,001,111.00</td>\n",
       "      <td>180,000,000.00</td>\n",
       "      <td>400,000,000.00</td>\n",
       "      <td>2,305,074,303.00</td>\n",
       "      <td>3,073,568,690.79</td>\n",
       "    </tr>\n",
       "  </tbody>\n",
       "</table>\n",
       "</div>"
      ],
      "text/plain": [
       "            puNumber  refundable_support  nonrefundable_support  \\\n",
       "count       7,486.00              332.00                 332.00   \n",
       "mean  135,178,527.64       11,864,457.83          48,980,988.89   \n",
       "std    38,382,177.41       24,916,555.26          59,980,117.92   \n",
       "min             0.00                0.00                   0.00   \n",
       "25%   112,025,043.00                0.00          25,000,000.00   \n",
       "50%   121,015,464.50                0.00          30,000,000.00   \n",
       "75%   124,003,313.75       15,000,000.00          40,375,000.00   \n",
       "max   231,001,111.00      180,000,000.00         400,000,000.00   \n",
       "\n",
       "                budget       box_office  \n",
       "count           332.00         3,158.00  \n",
       "mean    127,229,716.68    76,478,696.16  \n",
       "std     188,588,333.12   240,353,122.82  \n",
       "min               0.00             0.00  \n",
       "25%      42,000,000.00        86,239.00  \n",
       "50%      68,649,916.00     2,327,987.55  \n",
       "75%     141,985,319.50    23,979,671.02  \n",
       "max   2,305,074,303.00 3,073,568,690.79  "
      ]
     },
     "metadata": {},
     "output_type": "display_data"
    },
    {
     "name": "stdout",
     "output_type": "stream",
     "text": [
      "<class 'pandas.core.frame.DataFrame'>\n",
      "RangeIndex: 7486 entries, 0 to 7485\n",
      "Data columns (total 16 columns):\n",
      " #   Column                 Non-Null Count  Dtype  \n",
      "---  ------                 --------------  -----  \n",
      " 0   title                  7486 non-null   object \n",
      " 1   puNumber               7486 non-null   int32  \n",
      " 2   show_start_date        7486 non-null   object \n",
      " 3   type                   7486 non-null   object \n",
      " 4   film_studio            7468 non-null   object \n",
      " 5   production_country     7484 non-null   object \n",
      " 6   director               7477 non-null   object \n",
      " 7   producer               6918 non-null   object \n",
      " 8   age_restriction        7486 non-null   object \n",
      " 9   refundable_support     332 non-null    float64\n",
      " 10  nonrefundable_support  332 non-null    float64\n",
      " 11  budget                 332 non-null    float64\n",
      " 12  financing_source       332 non-null    object \n",
      " 13  ratings                6519 non-null   object \n",
      " 14  genres                 6510 non-null   object \n",
      " 15  box_office             3158 non-null   float64\n",
      "dtypes: float64(4), int32(1), object(11)\n",
      "memory usage: 906.6+ KB\n"
     ]
    }
   ],
   "source": [
    "display(data.sample(5))\n",
    "display(data.describe())\n",
    "data.info()"
   ]
  },
  {
   "cell_type": "markdown",
   "metadata": {},
   "source": [
    "**По выведенным данным, видим :**\n",
    "- Что нужно `puNumber` переименовать в \"удобный\" вид, то есть в `pu_number`, убрав верхний регистр и добавив нижнее подчеркивание\n",
    "- `show_start_date` должен иметь тип данных `DateTime` так как имеет данные по дате и времени;\n",
    "- Объем возвратных средств государственной поддержки `refundable_support` изменить на `float32`\n",
    "- Объем невозвратных средств государственной поддержки `nonrefundable_support` изменить на `float32`\n",
    "- Общий бюджет фильма `budget` изменить на `float32`\n",
    "- Рейтинг фильма на КиноПоиске `ratings` должен иметь тип `float16`\n",
    "\n",
    "\n",
    "Для начала, переименуем столбец `puNumber` на `pu_number`, убрав верхний регистр и добавив нижнее подчеркивание"
   ]
  },
  {
   "cell_type": "code",
   "execution_count": 25,
   "metadata": {
    "scrolled": true
   },
   "outputs": [
    {
     "data": {
      "text/plain": [
       "['title',\n",
       " 'pu_number',\n",
       " 'show_start_date',\n",
       " 'type',\n",
       " 'film_studio',\n",
       " 'production_country',\n",
       " 'director',\n",
       " 'producer',\n",
       " 'age_restriction',\n",
       " 'refundable_support',\n",
       " 'nonrefundable_support',\n",
       " 'budget',\n",
       " 'financing_source',\n",
       " 'ratings',\n",
       " 'genres',\n",
       " 'box_office']"
      ]
     },
     "execution_count": 25,
     "metadata": {},
     "output_type": "execute_result"
    }
   ],
   "source": [
    "#Переименуем\n",
    "data = data.rename(columns = {'puNumber': 'pu_number'})\n",
    "#Проверим\n",
    "data.columns.tolist()"
   ]
  },
  {
   "cell_type": "markdown",
   "metadata": {},
   "source": [
    "Далее изменим типы данных столбцов `show_start_date`, `refundable_support`, `nonrefundable_support`,  `budget` как было описано выше"
   ]
  },
  {
   "cell_type": "code",
   "execution_count": 26,
   "metadata": {
    "scrolled": false
   },
   "outputs": [
    {
     "name": "stdout",
     "output_type": "stream",
     "text": [
      "<class 'pandas.core.frame.DataFrame'>\n",
      "RangeIndex: 7486 entries, 0 to 7485\n",
      "Data columns (total 16 columns):\n",
      " #   Column                 Non-Null Count  Dtype         \n",
      "---  ------                 --------------  -----         \n",
      " 0   title                  7486 non-null   object        \n",
      " 1   pu_number              7486 non-null   int32         \n",
      " 2   show_start_date        7486 non-null   datetime64[ns]\n",
      " 3   type                   7486 non-null   object        \n",
      " 4   film_studio            7468 non-null   object        \n",
      " 5   production_country     7484 non-null   object        \n",
      " 6   director               7477 non-null   object        \n",
      " 7   producer               6918 non-null   object        \n",
      " 8   age_restriction        7486 non-null   object        \n",
      " 9   refundable_support     332 non-null    float32       \n",
      " 10  nonrefundable_support  332 non-null    float32       \n",
      " 11  budget                 332 non-null    float32       \n",
      " 12  financing_source       332 non-null    object        \n",
      " 13  ratings                6519 non-null   object        \n",
      " 14  genres                 6510 non-null   object        \n",
      " 15  box_office             3158 non-null   float64       \n",
      "dtypes: datetime64[ns](1), float32(3), float64(1), int32(1), object(10)\n",
      "memory usage: 818.9+ KB\n"
     ]
    }
   ],
   "source": [
    "data['show_start_date'] = pd.to_datetime(data['show_start_date'], format = \"%Y-%m-%dT%H:%M:%S.%fZ\")\n",
    "data['refundable_support'] = data['refundable_support'].astype('float32')\n",
    "data['nonrefundable_support'] = data['nonrefundable_support'].astype('float32')\n",
    "data['budget'] = data['budget'].astype('float32')\n",
    "data.info()"
   ]
  },
  {
   "cell_type": "markdown",
   "metadata": {},
   "source": [
    "Далее для изменения типа данных о рейтинге фильма на КиноПоиске `ratings`, выведем все уникальные значения этого столбца"
   ]
  },
  {
   "cell_type": "code",
   "execution_count": 27,
   "metadata": {
    "scrolled": true
   },
   "outputs": [
    {
     "data": {
      "text/plain": [
       "array(['7.2', '6.6', '6.8', '7.7', '8.3', '8.0', '7.8', '8.1', '7.1',\n",
       "       '6.0', '7.4', '5.8', '8.7', '6.3', '6.9', '5.0', '4.3', '7.3',\n",
       "       '7.0', '6.4', nan, '8.2', '7.5', '6.7', '7.9', '5.9', '6.2', '5.6',\n",
       "       '6.5', '2.4', '7.6', '6.1', '8.6', '8.5', '8.8', '5.5', '5.1',\n",
       "       '5.7', '5.4', '99%', '4.4', '4.5', '5.3', '4.1', '8.4', '2.6',\n",
       "       '3.8', '4.6', '4.8', '4.0', '3.0', '1.6', '4.2', '5.2', '4.7',\n",
       "       '4.9', '3.9', '2.7', '3.3', '2.9', '28%', '3.7', '1.4', '3.1',\n",
       "       '97%', '3.5', '3.2', '2.8', '1.5', '2.1', '2.5', '9.2', '3.4',\n",
       "       '1.1', '3.6', '83%', '64%', '91%', '94%', '62%', '79%', '90%',\n",
       "       '19%', '88%', '1.0', '89%', '1.3', '1.9', '1.8', '1.2', '1.7',\n",
       "       '9.0', '98%', '8.9', '9.1'], dtype=object)"
      ]
     },
     "execution_count": 27,
     "metadata": {},
     "output_type": "execute_result"
    }
   ],
   "source": [
    "data['ratings'].unique()"
   ]
  },
  {
   "cell_type": "markdown",
   "metadata": {},
   "source": [
    "Видим, что есть процентные значения, которые нужно переобразовать в тип с плавающей точкой, для этого удалим знак \"%\" и переведем в тип данных с плавающей точкой"
   ]
  },
  {
   "cell_type": "code",
   "execution_count": 28,
   "metadata": {
    "scrolled": false
   },
   "outputs": [
    {
     "name": "stdout",
     "output_type": "stream",
     "text": [
      "<class 'pandas.core.frame.DataFrame'>\n",
      "RangeIndex: 7486 entries, 0 to 7485\n",
      "Data columns (total 16 columns):\n",
      " #   Column                 Non-Null Count  Dtype         \n",
      "---  ------                 --------------  -----         \n",
      " 0   title                  7486 non-null   object        \n",
      " 1   pu_number              7486 non-null   int32         \n",
      " 2   show_start_date        7486 non-null   datetime64[ns]\n",
      " 3   type                   7486 non-null   object        \n",
      " 4   film_studio            7468 non-null   object        \n",
      " 5   production_country     7484 non-null   object        \n",
      " 6   director               7477 non-null   object        \n",
      " 7   producer               6918 non-null   object        \n",
      " 8   age_restriction        7486 non-null   object        \n",
      " 9   refundable_support     332 non-null    float32       \n",
      " 10  nonrefundable_support  332 non-null    float32       \n",
      " 11  budget                 332 non-null    float32       \n",
      " 12  financing_source       332 non-null    object        \n",
      " 13  ratings                6519 non-null   float16       \n",
      " 14  genres                 6510 non-null   object        \n",
      " 15  box_office             3158 non-null   float64       \n",
      "dtypes: datetime64[ns](1), float16(1), float32(3), float64(1), int32(1), object(9)\n",
      "memory usage: 775.0+ KB\n"
     ]
    }
   ],
   "source": [
    "data['ratings'] = data['ratings'].str.replace(\"%\", \"\")\n",
    "data['ratings'] = data['ratings'].astype('float16')\n",
    "data.info()\n",
    "#data['ratings'].info()"
   ]
  },
  {
   "cell_type": "markdown",
   "metadata": {},
   "source": [
    "Далее значения которые больше 10 умножим на 0.1, округлив значение до десятых"
   ]
  },
  {
   "cell_type": "code",
   "execution_count": 29,
   "metadata": {
    "scrolled": false
   },
   "outputs": [
    {
     "data": {
      "text/plain": [
       "array([7.2, 6.6, 6.8, 7.7, 8.3, 8. , 7.8, 8.1, 7.1, 6. , 7.4, 5.8, 8.7,\n",
       "       6.3, 6.9, 5. , 4.3, 7.3, 7. , 6.4, nan, 8.2, 7.5, 6.7, 7.9, 5.9,\n",
       "       6.2, 5.6, 6.5, 2.4, 7.6, 6.1, 8.6, 8.5, 8.8, 5.5, 5.1, 5.7, 5.4,\n",
       "       9.9, 4.4, 4.5, 5.3, 4.1, 8.4, 2.6, 3.8, 4.6, 4.8, 4. , 3. , 1.6,\n",
       "       4.2, 5.2, 4.7, 4.9, 3.9, 2.7, 3.3, 2.9, 2.8, 3.7, 1.4, 3.1, 9.7,\n",
       "       3.5, 3.2, 1.5, 2.1, 2.5, 9.2, 3.4, 1.1, 3.6, 9.1, 9.4, 9. , 1.9,\n",
       "       1. , 8.9, 1.3, 1.8, 1.2, 1.7, 9.8], dtype=float16)"
      ]
     },
     "execution_count": 29,
     "metadata": {},
     "output_type": "execute_result"
    }
   ],
   "source": [
    "data.loc[data['ratings'] > 10, 'ratings'] = round(data['ratings'] * 0.1, 1)\n",
    "data['ratings'].unique()"
   ]
  },
  {
   "cell_type": "markdown",
   "metadata": {
    "id": "i0MOLbF-gFyP"
   },
   "source": [
    "#### Шаг 2.2. Изучите пропуски в датафрейме\n",
    "\n",
    "- Объясните, почему заполнили пропуски определённым образом или почему не стали этого делать."
   ]
  },
  {
   "cell_type": "markdown",
   "metadata": {},
   "source": [
    "Выведем количество всех пропусков по столбцам датафрейма `data`"
   ]
  },
  {
   "cell_type": "code",
   "execution_count": 30,
   "metadata": {
    "id": "8MJD_lkngFyP",
    "scrolled": false
   },
   "outputs": [
    {
     "data": {
      "text/plain": [
       "title                       0\n",
       "pu_number                   0\n",
       "show_start_date             0\n",
       "type                        0\n",
       "film_studio                18\n",
       "production_country          2\n",
       "director                    9\n",
       "producer                  568\n",
       "age_restriction             0\n",
       "refundable_support       7154\n",
       "nonrefundable_support    7154\n",
       "budget                   7154\n",
       "financing_source         7154\n",
       "ratings                   967\n",
       "genres                    976\n",
       "box_office               4328\n",
       "dtype: int64"
      ]
     },
     "execution_count": 30,
     "metadata": {},
     "output_type": "execute_result"
    }
   ],
   "source": [
    "data.isna().sum()"
   ]
  },
  {
   "cell_type": "markdown",
   "metadata": {},
   "source": [
    "Построим столбчатую диаграмму, чтобы лучше рассмотреть количество пропусков по столбцам"
   ]
  },
  {
   "cell_type": "code",
   "execution_count": 31,
   "metadata": {},
   "outputs": [
    {
     "data": {
      "image/png": "[encoded data removed]",
      "text/plain": [
       "<Figure size 720x360 with 1 Axes>"
      ]
     },
     "metadata": {
      "needs_background": "light"
     },
     "output_type": "display_data"
    }
   ],
   "source": [
    "(data.isna().sum()).plot(y = 'title', kind= 'bar', figsize = (10,5));"
   ]
  },
  {
   "cell_type": "markdown",
   "metadata": {},
   "source": [
    "Выведем долю пропусков,для наглядности, закрасив градиентом."
   ]
  },
  {
   "cell_type": "code",
   "execution_count": 32,
   "metadata": {},
   "outputs": [
    {
     "data": {
      "text/html": [
       "<style type=\"text/css\">\n",
       "#T_3ae09_row0_col0, #T_3ae09_row1_col0, #T_3ae09_row2_col0, #T_3ae09_row3_col0, #T_3ae09_row4_col0, #T_3ae09_row5_col0, #T_3ae09_row6_col0, #T_3ae09_row8_col0 {\n",
       "  background-color: #3b4cc0;\n",
       "  color: #f1f1f1;\n",
       "}\n",
       "#T_3ae09_row7_col0 {\n",
       "  background-color: #536edd;\n",
       "  color: #f1f1f1;\n",
       "}\n",
       "#T_3ae09_row9_col0, #T_3ae09_row10_col0, #T_3ae09_row11_col0, #T_3ae09_row12_col0 {\n",
       "  background-color: #b40426;\n",
       "  color: #f1f1f1;\n",
       "}\n",
       "#T_3ae09_row13_col0, #T_3ae09_row14_col0 {\n",
       "  background-color: #6485ec;\n",
       "  color: #f1f1f1;\n",
       "}\n",
       "#T_3ae09_row15_col0 {\n",
       "  background-color: #f2cab5;\n",
       "  color: #000000;\n",
       "}\n",
       "</style>\n",
       "<table id=\"T_3ae09\">\n",
       "  <thead>\n",
       "    <tr>\n",
       "      <th class=\"blank level0\" >&nbsp;</th>\n",
       "      <th id=\"T_3ae09_level0_col0\" class=\"col_heading level0 col0\" >0</th>\n",
       "    </tr>\n",
       "  </thead>\n",
       "  <tbody>\n",
       "    <tr>\n",
       "      <th id=\"T_3ae09_level0_row0\" class=\"row_heading level0 row0\" >title</th>\n",
       "      <td id=\"T_3ae09_row0_col0\" class=\"data row0 col0\" >0.000000</td>\n",
       "    </tr>\n",
       "    <tr>\n",
       "      <th id=\"T_3ae09_level0_row1\" class=\"row_heading level0 row1\" >pu_number</th>\n",
       "      <td id=\"T_3ae09_row1_col0\" class=\"data row1 col0\" >0.000000</td>\n",
       "    </tr>\n",
       "    <tr>\n",
       "      <th id=\"T_3ae09_level0_row2\" class=\"row_heading level0 row2\" >show_start_date</th>\n",
       "      <td id=\"T_3ae09_row2_col0\" class=\"data row2 col0\" >0.000000</td>\n",
       "    </tr>\n",
       "    <tr>\n",
       "      <th id=\"T_3ae09_level0_row3\" class=\"row_heading level0 row3\" >type</th>\n",
       "      <td id=\"T_3ae09_row3_col0\" class=\"data row3 col0\" >0.000000</td>\n",
       "    </tr>\n",
       "    <tr>\n",
       "      <th id=\"T_3ae09_level0_row4\" class=\"row_heading level0 row4\" >film_studio</th>\n",
       "      <td id=\"T_3ae09_row4_col0\" class=\"data row4 col0\" >0.200000</td>\n",
       "    </tr>\n",
       "    <tr>\n",
       "      <th id=\"T_3ae09_level0_row5\" class=\"row_heading level0 row5\" >production_country</th>\n",
       "      <td id=\"T_3ae09_row5_col0\" class=\"data row5 col0\" >0.000000</td>\n",
       "    </tr>\n",
       "    <tr>\n",
       "      <th id=\"T_3ae09_level0_row6\" class=\"row_heading level0 row6\" >director</th>\n",
       "      <td id=\"T_3ae09_row6_col0\" class=\"data row6 col0\" >0.100000</td>\n",
       "    </tr>\n",
       "    <tr>\n",
       "      <th id=\"T_3ae09_level0_row7\" class=\"row_heading level0 row7\" >producer</th>\n",
       "      <td id=\"T_3ae09_row7_col0\" class=\"data row7 col0\" >7.600000</td>\n",
       "    </tr>\n",
       "    <tr>\n",
       "      <th id=\"T_3ae09_level0_row8\" class=\"row_heading level0 row8\" >age_restriction</th>\n",
       "      <td id=\"T_3ae09_row8_col0\" class=\"data row8 col0\" >0.000000</td>\n",
       "    </tr>\n",
       "    <tr>\n",
       "      <th id=\"T_3ae09_level0_row9\" class=\"row_heading level0 row9\" >refundable_support</th>\n",
       "      <td id=\"T_3ae09_row9_col0\" class=\"data row9 col0\" >95.600000</td>\n",
       "    </tr>\n",
       "    <tr>\n",
       "      <th id=\"T_3ae09_level0_row10\" class=\"row_heading level0 row10\" >nonrefundable_support</th>\n",
       "      <td id=\"T_3ae09_row10_col0\" class=\"data row10 col0\" >95.600000</td>\n",
       "    </tr>\n",
       "    <tr>\n",
       "      <th id=\"T_3ae09_level0_row11\" class=\"row_heading level0 row11\" >budget</th>\n",
       "      <td id=\"T_3ae09_row11_col0\" class=\"data row11 col0\" >95.600000</td>\n",
       "    </tr>\n",
       "    <tr>\n",
       "      <th id=\"T_3ae09_level0_row12\" class=\"row_heading level0 row12\" >financing_source</th>\n",
       "      <td id=\"T_3ae09_row12_col0\" class=\"data row12 col0\" >95.600000</td>\n",
       "    </tr>\n",
       "    <tr>\n",
       "      <th id=\"T_3ae09_level0_row13\" class=\"row_heading level0 row13\" >ratings</th>\n",
       "      <td id=\"T_3ae09_row13_col0\" class=\"data row13 col0\" >12.900000</td>\n",
       "    </tr>\n",
       "    <tr>\n",
       "      <th id=\"T_3ae09_level0_row14\" class=\"row_heading level0 row14\" >genres</th>\n",
       "      <td id=\"T_3ae09_row14_col0\" class=\"data row14 col0\" >13.000000</td>\n",
       "    </tr>\n",
       "    <tr>\n",
       "      <th id=\"T_3ae09_level0_row15\" class=\"row_heading level0 row15\" >box_office</th>\n",
       "      <td id=\"T_3ae09_row15_col0\" class=\"data row15 col0\" >57.800000</td>\n",
       "    </tr>\n",
       "  </tbody>\n",
       "</table>\n"
      ],
      "text/plain": [
       "<pandas.io.formats.style.Styler at 0x1e2b6407850>"
      ]
     },
     "execution_count": 32,
     "metadata": {},
     "output_type": "execute_result"
    }
   ],
   "source": [
    "pd.DataFrame(round(data.isna().mean()*100, 1)).style.background_gradient('coolwarm')"
   ]
  },
  {
   "cell_type": "markdown",
   "metadata": {},
   "source": [
    "Пропуски имеются в 11ти столбцах:\n",
    "- `film_studio`\n",
    "- `production_country`\n",
    "- `director`\n",
    "- `producer`\n",
    "- `refundable_support`\n",
    "- `nonrefundable_support`\n",
    "- `budget`\n",
    "- `financing_source`\n",
    "- `ratings`\n",
    "- `genres`\n",
    "- `box_office`"
   ]
  },
  {
   "cell_type": "markdown",
   "metadata": {},
   "source": [
    "По результатам вывода, видно что пропуски в столбцах `refundable_support`, `nonrefundable_support`, `budget`, `financing_source` имеют одинаковое количество. Проверим находятся ли они в одних и тех же строках, посчитаем количество строк у которых есть пропуски во всех данных столбцах"
   ]
  },
  {
   "cell_type": "code",
   "execution_count": 33,
   "metadata": {},
   "outputs": [
    {
     "data": {
      "text/plain": [
       "7154"
      ]
     },
     "execution_count": 33,
     "metadata": {},
     "output_type": "execute_result"
    }
   ],
   "source": [
    "data.loc[(data['refundable_support'].isna() == True) & \\\n",
    "         (data['nonrefundable_support'].isna() == True) & \\\n",
    "         (data['budget'].isna() == True)& (data['financing_source'].isna() == True)]['title'].count()"
   ]
  },
  {
   "cell_type": "code",
   "execution_count": 34,
   "metadata": {},
   "outputs": [
    {
     "data": {
      "text/html": [
       "<div>\n",
       "<style scoped>\n",
       "    .dataframe tbody tr th:only-of-type {\n",
       "        vertical-align: middle;\n",
       "    }\n",
       "\n",
       "    .dataframe tbody tr th {\n",
       "        vertical-align: top;\n",
       "    }\n",
       "\n",
       "    .dataframe thead th {\n",
       "        text-align: right;\n",
       "    }\n",
       "</style>\n",
       "<table border=\"1\" class=\"dataframe\">\n",
       "  <thead>\n",
       "    <tr style=\"text-align: right;\">\n",
       "      <th></th>\n",
       "      <th>title</th>\n",
       "      <th>pu_number</th>\n",
       "      <th>show_start_date</th>\n",
       "      <th>type</th>\n",
       "      <th>film_studio</th>\n",
       "      <th>production_country</th>\n",
       "      <th>director</th>\n",
       "      <th>producer</th>\n",
       "      <th>age_restriction</th>\n",
       "      <th>refundable_support</th>\n",
       "      <th>nonrefundable_support</th>\n",
       "      <th>budget</th>\n",
       "      <th>financing_source</th>\n",
       "      <th>ratings</th>\n",
       "      <th>genres</th>\n",
       "      <th>box_office</th>\n",
       "    </tr>\n",
       "  </thead>\n",
       "  <tbody>\n",
       "    <tr>\n",
       "      <th>3186</th>\n",
       "      <td>Детский юмористический киножурнал \"Ералаш. Ну ...</td>\n",
       "      <td>111001216</td>\n",
       "      <td>2016-02-09 12:00:00</td>\n",
       "      <td>Художественный</td>\n",
       "      <td>ООО \"Продюсерский центр ЕРАЛАШ\"</td>\n",
       "      <td>NaN</td>\n",
       "      <td>Р.Светлов, И.Магитон, А.Арутюнян, Л.Мирский, А...</td>\n",
       "      <td>ООО \"Продюсерский центр ЕРАЛАШ\"</td>\n",
       "      <td>«0+» - для любой зрительской аудитории</td>\n",
       "      <td>NaN</td>\n",
       "      <td>NaN</td>\n",
       "      <td>NaN</td>\n",
       "      <td>NaN</td>\n",
       "      <td>7.20</td>\n",
       "      <td>детский,комедия</td>\n",
       "      <td>194,527.00</td>\n",
       "    </tr>\n",
       "    <tr>\n",
       "      <th>4441</th>\n",
       "      <td>Мульт личности. Выпуск 5</td>\n",
       "      <td>214000410</td>\n",
       "      <td>2010-01-25 12:00:00</td>\n",
       "      <td>Художественный</td>\n",
       "      <td>NaN</td>\n",
       "      <td>NaN</td>\n",
       "      <td>NaN</td>\n",
       "      <td>NaN</td>\n",
       "      <td>«0+» - для любой зрительской аудитории</td>\n",
       "      <td>NaN</td>\n",
       "      <td>NaN</td>\n",
       "      <td>NaN</td>\n",
       "      <td>NaN</td>\n",
       "      <td>4.00</td>\n",
       "      <td>мультфильм,комедия</td>\n",
       "      <td>NaN</td>\n",
       "    </tr>\n",
       "  </tbody>\n",
       "</table>\n",
       "</div>"
      ],
      "text/plain": [
       "                                                  title  pu_number  \\\n",
       "3186  Детский юмористический киножурнал \"Ералаш. Ну ...  111001216   \n",
       "4441                           Мульт личности. Выпуск 5  214000410   \n",
       "\n",
       "         show_start_date            type                      film_studio  \\\n",
       "3186 2016-02-09 12:00:00  Художественный  ООО \"Продюсерский центр ЕРАЛАШ\"   \n",
       "4441 2010-01-25 12:00:00  Художественный                              NaN   \n",
       "\n",
       "     production_country                                           director  \\\n",
       "3186                NaN  Р.Светлов, И.Магитон, А.Арутюнян, Л.Мирский, А...   \n",
       "4441                NaN                                                NaN   \n",
       "\n",
       "                             producer                         age_restriction  \\\n",
       "3186  ООО \"Продюсерский центр ЕРАЛАШ\"  «0+» - для любой зрительской аудитории   \n",
       "4441                              NaN  «0+» - для любой зрительской аудитории   \n",
       "\n",
       "      refundable_support  nonrefundable_support  budget financing_source  \\\n",
       "3186                 NaN                    NaN     NaN              NaN   \n",
       "4441                 NaN                    NaN     NaN              NaN   \n",
       "\n",
       "      ratings              genres  box_office  \n",
       "3186     7.20     детский,комедия  194,527.00  \n",
       "4441     4.00  мультфильм,комедия         NaN  "
      ]
     },
     "execution_count": 34,
     "metadata": {},
     "output_type": "execute_result"
    }
   ],
   "source": [
    "data.query('production_country.isna() == True')"
   ]
  },
  {
   "cell_type": "markdown",
   "metadata": {},
   "source": [
    "Страна-производитель Ералаша и Мульта личности - Россия, заполним это вместо пропуска"
   ]
  },
  {
   "cell_type": "code",
   "execution_count": 35,
   "metadata": {},
   "outputs": [
    {
     "data": {
      "text/plain": [
       "0"
      ]
     },
     "execution_count": 35,
     "metadata": {},
     "output_type": "execute_result"
    }
   ],
   "source": [
    "data['production_country'] = data['production_country'].fillna('россия') \n",
    "data['production_country'].isna().sum()"
   ]
  },
  {
   "cell_type": "markdown",
   "metadata": {},
   "source": [
    "Для пропусков в столбце жанров `geners`, заполним некоторые исходя из типа фильма. То есть\n",
    "- фильмы с типом \"Анимационный\" запишем жанр - \"мультфильм\"\n",
    "- фильмы с типом \"Документальный\" запишем жанр - \"документальный\"\n",
    "\n",
    "Но для начала, рассмотрим все уникальные значения столбца `type`"
   ]
  },
  {
   "cell_type": "code",
   "execution_count": 36,
   "metadata": {},
   "outputs": [
    {
     "data": {
      "text/plain": [
       "array(['Художественный', 'Анимационный', 'Прочие', 'Документальный',\n",
       "       'Научно-популярный', ' Художественный', ' Анимационный',\n",
       "       'Музыкально-развлекательный'], dtype=object)"
      ]
     },
     "execution_count": 36,
     "metadata": {},
     "output_type": "execute_result"
    }
   ],
   "source": [
    "data['type'].unique()"
   ]
  },
  {
   "cell_type": "markdown",
   "metadata": {},
   "source": [
    "В результате вывода всех уникальных значений столбца, видим что значение `Художественный` и `Анимационный` встречается 2 раза из за лишнего пробела в начале значения\n",
    "\n",
    "Также рассмотрим 10 рандомных значений столбца `title`"
   ]
  },
  {
   "cell_type": "code",
   "execution_count": 37,
   "metadata": {},
   "outputs": [
    {
     "data": {
      "text/plain": [
       "3115                      Крид: Наследие Рокки\n",
       "5891                   Сарыал. Дорога к солнцу\n",
       "534     Мартовские иды /По пьесе Бо Уиллимона/\n",
       "5113                                  Будущее.\n",
       "312                 Хроники Хуаду: лезвие розы\n",
       "852     Вспомнить все /По произведению Ф.Дика/\n",
       "65                             Бархатный сезон\n",
       "3625                           Я, Дэниел Блэйк\n",
       "171                     Звонят, откройте дверь\n",
       "293                         Стертая реальность\n",
       "Name: title, dtype: object"
      ]
     },
     "execution_count": 37,
     "metadata": {},
     "output_type": "execute_result"
    }
   ],
   "source": [
    "data['title'].sample(10)"
   ]
  },
  {
   "cell_type": "markdown",
   "metadata": {},
   "source": [
    "В результате нескольких выводов, можно определить, что в значениях `title` встречаются ячейки с лишними знаками в конце или в начале названия фильма, такие как ` `,`!`,`_`,`.`,`-`"
   ]
  },
  {
   "cell_type": "markdown",
   "metadata": {},
   "source": [
    "Для того чтобы избавиться от лишних пробелов в начале или в конце ячейки, запишем функцию которая удаляет пробелы и следующие знаки ` `,`!`,`_`,`.`, `-` находящиеся в начале или в конце яйчеки, а также приводит к нижнему регистру"
   ]
  },
  {
   "cell_type": "code",
   "execution_count": 38,
   "metadata": {},
   "outputs": [],
   "source": [
    "def correct(data):\n",
    "    return data.str.lower().str.strip(' !_.-')"
   ]
  },
  {
   "cell_type": "markdown",
   "metadata": {},
   "source": [
    "Рассмотрим уникальные значения столбца `type` после использования функции `correct`"
   ]
  },
  {
   "cell_type": "code",
   "execution_count": 39,
   "metadata": {},
   "outputs": [],
   "source": [
    "data['type'] = correct(data['type'])"
   ]
  },
  {
   "cell_type": "code",
   "execution_count": 40,
   "metadata": {},
   "outputs": [
    {
     "data": {
      "text/plain": [
       "array(['художественный', 'анимационный', 'прочие', 'документальный',\n",
       "       'научно-популярный', 'музыкально-развлекательный'], dtype=object)"
      ]
     },
     "execution_count": 40,
     "metadata": {},
     "output_type": "execute_result"
    }
   ],
   "source": [
    "data['type'].unique()"
   ]
  },
  {
   "cell_type": "markdown",
   "metadata": {},
   "source": [
    "Далее уберем все верхние регистры с столбцов, удалим лишние пробелы и значки в начале и в конце строки, используя функцию `correct`"
   ]
  },
  {
   "cell_type": "code",
   "execution_count": 41,
   "metadata": {
    "scrolled": false
   },
   "outputs": [
    {
     "data": {
      "text/html": [
       "<div>\n",
       "<style scoped>\n",
       "    .dataframe tbody tr th:only-of-type {\n",
       "        vertical-align: middle;\n",
       "    }\n",
       "\n",
       "    .dataframe tbody tr th {\n",
       "        vertical-align: top;\n",
       "    }\n",
       "\n",
       "    .dataframe thead th {\n",
       "        text-align: right;\n",
       "    }\n",
       "</style>\n",
       "<table border=\"1\" class=\"dataframe\">\n",
       "  <thead>\n",
       "    <tr style=\"text-align: right;\">\n",
       "      <th></th>\n",
       "      <th>title</th>\n",
       "      <th>pu_number</th>\n",
       "      <th>show_start_date</th>\n",
       "      <th>type</th>\n",
       "      <th>film_studio</th>\n",
       "      <th>production_country</th>\n",
       "      <th>director</th>\n",
       "      <th>producer</th>\n",
       "      <th>age_restriction</th>\n",
       "      <th>refundable_support</th>\n",
       "      <th>nonrefundable_support</th>\n",
       "      <th>budget</th>\n",
       "      <th>financing_source</th>\n",
       "      <th>ratings</th>\n",
       "      <th>genres</th>\n",
       "      <th>box_office</th>\n",
       "    </tr>\n",
       "  </thead>\n",
       "  <tbody>\n",
       "    <tr>\n",
       "      <th>0</th>\n",
       "      <td>открытый простор</td>\n",
       "      <td>221048915</td>\n",
       "      <td>2015-11-27 12:00:00</td>\n",
       "      <td>художественный</td>\n",
       "      <td>тачстоун пикчерз, кобальт пикчерз, бикон пикче...</td>\n",
       "      <td>сша</td>\n",
       "      <td>кевин костнер</td>\n",
       "      <td>дэвид валдес, кевин костнер, джейк эбертс</td>\n",
       "      <td>«18+» - запрещено для детей</td>\n",
       "      <td>NaN</td>\n",
       "      <td>NaN</td>\n",
       "      <td>NaN</td>\n",
       "      <td>NaN</td>\n",
       "      <td>7.20</td>\n",
       "      <td>боевик,драма,мелодрама</td>\n",
       "      <td>NaN</td>\n",
       "    </tr>\n",
       "    <tr>\n",
       "      <th>1</th>\n",
       "      <td>особо важное задание</td>\n",
       "      <td>111013716</td>\n",
       "      <td>2016-09-13 12:00:00</td>\n",
       "      <td>художественный</td>\n",
       "      <td>киностудия \"мосфильм\"</td>\n",
       "      <td>ссср</td>\n",
       "      <td>е.матвеев</td>\n",
       "      <td>NaN</td>\n",
       "      <td>«6+» - для детей старше 6 лет</td>\n",
       "      <td>NaN</td>\n",
       "      <td>NaN</td>\n",
       "      <td>NaN</td>\n",
       "      <td>NaN</td>\n",
       "      <td>6.60</td>\n",
       "      <td>драма,военный</td>\n",
       "      <td>NaN</td>\n",
       "    </tr>\n",
       "    <tr>\n",
       "      <th>2</th>\n",
       "      <td>особо опасен</td>\n",
       "      <td>221038416</td>\n",
       "      <td>2016-10-10 12:00:00</td>\n",
       "      <td>художественный</td>\n",
       "      <td>юниверсал пикчерз, кикстарт продакшнз, марк пл...</td>\n",
       "      <td>сша</td>\n",
       "      <td>тимур бекмамбетов</td>\n",
       "      <td>джим лемли, джейсон нетер, марк е.платт, яйн смит</td>\n",
       "      <td>«18+» - запрещено для детей</td>\n",
       "      <td>NaN</td>\n",
       "      <td>NaN</td>\n",
       "      <td>NaN</td>\n",
       "      <td>NaN</td>\n",
       "      <td>6.80</td>\n",
       "      <td>фантастика,боевик,триллер</td>\n",
       "      <td>NaN</td>\n",
       "    </tr>\n",
       "    <tr>\n",
       "      <th>3</th>\n",
       "      <td>особо опасен</td>\n",
       "      <td>221026916</td>\n",
       "      <td>2016-06-10 12:00:00</td>\n",
       "      <td>художественный</td>\n",
       "      <td>юниверсал пикчерз, кикстарт продакшнз, марк пл...</td>\n",
       "      <td>сша</td>\n",
       "      <td>тимур бекмамбетов</td>\n",
       "      <td>джим лемли, джейсон нетер, марк е.платт, яйн смит</td>\n",
       "      <td>«18+» - запрещено для детей</td>\n",
       "      <td>NaN</td>\n",
       "      <td>NaN</td>\n",
       "      <td>NaN</td>\n",
       "      <td>NaN</td>\n",
       "      <td>6.80</td>\n",
       "      <td>фантастика,боевик,триллер</td>\n",
       "      <td>NaN</td>\n",
       "    </tr>\n",
       "    <tr>\n",
       "      <th>4</th>\n",
       "      <td>особо опасен</td>\n",
       "      <td>221030815</td>\n",
       "      <td>2015-07-29 12:00:00</td>\n",
       "      <td>художественный</td>\n",
       "      <td>юниверсал пикчерз, кикстарт продакшнз, марк пл...</td>\n",
       "      <td>сша</td>\n",
       "      <td>тимур бекмамбетов</td>\n",
       "      <td>джим лемли, джейсон нетер, марк е.платт, яйн смит</td>\n",
       "      <td>«18+» - запрещено для детей</td>\n",
       "      <td>NaN</td>\n",
       "      <td>NaN</td>\n",
       "      <td>NaN</td>\n",
       "      <td>NaN</td>\n",
       "      <td>6.80</td>\n",
       "      <td>фантастика,боевик,триллер</td>\n",
       "      <td>NaN</td>\n",
       "    </tr>\n",
       "  </tbody>\n",
       "</table>\n",
       "</div>"
      ],
      "text/plain": [
       "                  title  pu_number     show_start_date            type  \\\n",
       "0      открытый простор  221048915 2015-11-27 12:00:00  художественный   \n",
       "1  особо важное задание  111013716 2016-09-13 12:00:00  художественный   \n",
       "2          особо опасен  221038416 2016-10-10 12:00:00  художественный   \n",
       "3          особо опасен  221026916 2016-06-10 12:00:00  художественный   \n",
       "4          особо опасен  221030815 2015-07-29 12:00:00  художественный   \n",
       "\n",
       "                                         film_studio production_country  \\\n",
       "0  тачстоун пикчерз, кобальт пикчерз, бикон пикче...                сша   \n",
       "1                              киностудия \"мосфильм\"               ссср   \n",
       "2  юниверсал пикчерз, кикстарт продакшнз, марк пл...                сша   \n",
       "3  юниверсал пикчерз, кикстарт продакшнз, марк пл...                сша   \n",
       "4  юниверсал пикчерз, кикстарт продакшнз, марк пл...                сша   \n",
       "\n",
       "            director                                           producer  \\\n",
       "0      кевин костнер          дэвид валдес, кевин костнер, джейк эбертс   \n",
       "1          е.матвеев                                                NaN   \n",
       "2  тимур бекмамбетов  джим лемли, джейсон нетер, марк е.платт, яйн смит   \n",
       "3  тимур бекмамбетов  джим лемли, джейсон нетер, марк е.платт, яйн смит   \n",
       "4  тимур бекмамбетов  джим лемли, джейсон нетер, марк е.платт, яйн смит   \n",
       "\n",
       "                 age_restriction  refundable_support  nonrefundable_support  \\\n",
       "0    «18+» - запрещено для детей                 NaN                    NaN   \n",
       "1  «6+» - для детей старше 6 лет                 NaN                    NaN   \n",
       "2    «18+» - запрещено для детей                 NaN                    NaN   \n",
       "3    «18+» - запрещено для детей                 NaN                    NaN   \n",
       "4    «18+» - запрещено для детей                 NaN                    NaN   \n",
       "\n",
       "   budget financing_source  ratings                     genres  box_office  \n",
       "0     NaN              NaN     7.20     боевик,драма,мелодрама         NaN  \n",
       "1     NaN              NaN     6.60              драма,военный         NaN  \n",
       "2     NaN              NaN     6.80  фантастика,боевик,триллер         NaN  \n",
       "3     NaN              NaN     6.80  фантастика,боевик,триллер         NaN  \n",
       "4     NaN              NaN     6.80  фантастика,боевик,триллер         NaN  "
      ]
     },
     "execution_count": 41,
     "metadata": {},
     "output_type": "execute_result"
    }
   ],
   "source": [
    "data['title'] = correct(data['title'])\n",
    "data['film_studio'] = correct(data['film_studio'])\n",
    "data['production_country'] = correct(data['production_country'])\n",
    "data['director'] = correct(data['director'])\n",
    "data['producer'] = correct(data['producer'])\n",
    "data['genres'] = correct(data['genres'])\n",
    "data.head()"
   ]
  },
  {
   "cell_type": "markdown",
   "metadata": {},
   "source": [
    "Заполним некоторые пропуски в столбце жанра `geners`, \n",
    "- Фильмы у которых в наименовании фильма есть слово \"концерт\", жанром `\"концерт\"`\n",
    "- Все фильмы с типом \"анимационный\" запишем как жанр \"мультфильм\"\n",
    "- Фильмы с типом \"документальный\" запишем жанр \"документальный\""
   ]
  },
  {
   "cell_type": "code",
   "execution_count": 42,
   "metadata": {},
   "outputs": [
    {
     "name": "stdout",
     "output_type": "stream",
     "text": [
      "976\n",
      "583\n"
     ]
    }
   ],
   "source": [
    "print(data.genres.isna().sum())\n",
    "data.loc[(data['title'].str.contains(\"концерт\") == True) & (data['genres'].isna() == True), 'genres'] = \"концерт\"\n",
    "data.loc[(data['type'] == \"анимационный\") & (data['genres'].isna() == True), 'genres'] = 'мультфильм'\n",
    "data.loc[(data['genres'].isna() == True) & (data['type'] == \"документальный\"), 'genres'] = 'документальный' \n",
    "print(data.genres.isna().sum())"
   ]
  },
  {
   "cell_type": "markdown",
   "metadata": {},
   "source": [
    "Итого, заполнили 393 пропуска в столбце `geners`, остальные пропуски этого столбца оставим. Выведем количество всех пропусков по столбцам датафрейма `data`, после обработки."
   ]
  },
  {
   "cell_type": "code",
   "execution_count": 43,
   "metadata": {
    "scrolled": false
   },
   "outputs": [
    {
     "data": {
      "text/plain": [
       "title                       0\n",
       "pu_number                   0\n",
       "show_start_date             0\n",
       "type                        0\n",
       "film_studio                18\n",
       "production_country          0\n",
       "director                    9\n",
       "producer                  568\n",
       "age_restriction             0\n",
       "refundable_support       7154\n",
       "nonrefundable_support    7154\n",
       "budget                   7154\n",
       "financing_source         7154\n",
       "ratings                   967\n",
       "genres                    583\n",
       "box_office               4328\n",
       "dtype: int64"
      ]
     },
     "execution_count": 43,
     "metadata": {},
     "output_type": "execute_result"
    }
   ],
   "source": [
    "data.isna().sum()"
   ]
  },
  {
   "cell_type": "code",
   "execution_count": 44,
   "metadata": {},
   "outputs": [
    {
     "data": {
      "text/html": [
       "<div>\n",
       "<style scoped>\n",
       "    .dataframe tbody tr th:only-of-type {\n",
       "        vertical-align: middle;\n",
       "    }\n",
       "\n",
       "    .dataframe tbody tr th {\n",
       "        vertical-align: top;\n",
       "    }\n",
       "\n",
       "    .dataframe thead th {\n",
       "        text-align: right;\n",
       "    }\n",
       "</style>\n",
       "<table border=\"1\" class=\"dataframe\">\n",
       "  <thead>\n",
       "    <tr style=\"text-align: right;\">\n",
       "      <th></th>\n",
       "      <th>title</th>\n",
       "      <th>pu_number</th>\n",
       "      <th>show_start_date</th>\n",
       "      <th>type</th>\n",
       "      <th>film_studio</th>\n",
       "      <th>production_country</th>\n",
       "      <th>director</th>\n",
       "      <th>producer</th>\n",
       "      <th>age_restriction</th>\n",
       "      <th>refundable_support</th>\n",
       "      <th>nonrefundable_support</th>\n",
       "      <th>budget</th>\n",
       "      <th>financing_source</th>\n",
       "      <th>ratings</th>\n",
       "      <th>genres</th>\n",
       "      <th>box_office</th>\n",
       "    </tr>\n",
       "  </thead>\n",
       "  <tbody>\n",
       "    <tr>\n",
       "      <th>764</th>\n",
       "      <td>три звезды. концерт в waldbuhne theater, берли...</td>\n",
       "      <td>126003512</td>\n",
       "      <td>2012-12-04 12:00:00</td>\n",
       "      <td>прочие</td>\n",
       "      <td>райзинг алтернатив</td>\n",
       "      <td>великобритания</td>\n",
       "      <td>NaN</td>\n",
       "      <td>вальдбюне театр</td>\n",
       "      <td>«0+» - для любой зрительской аудитории</td>\n",
       "      <td>NaN</td>\n",
       "      <td>NaN</td>\n",
       "      <td>NaN</td>\n",
       "      <td>NaN</td>\n",
       "      <td>NaN</td>\n",
       "      <td>концерт</td>\n",
       "      <td>44,350.00</td>\n",
       "    </tr>\n",
       "    <tr>\n",
       "      <th>1735</th>\n",
       "      <td>помпеи. британский музей</td>\n",
       "      <td>126003413</td>\n",
       "      <td>2013-09-11 12:00:00</td>\n",
       "      <td>прочие</td>\n",
       "      <td>мортускрин, британский музей</td>\n",
       "      <td>великобритания</td>\n",
       "      <td>NaN</td>\n",
       "      <td>британский музей</td>\n",
       "      <td>«0+» - для любой зрительской аудитории</td>\n",
       "      <td>NaN</td>\n",
       "      <td>NaN</td>\n",
       "      <td>NaN</td>\n",
       "      <td>NaN</td>\n",
       "      <td>NaN</td>\n",
       "      <td>NaN</td>\n",
       "      <td>NaN</td>\n",
       "    </tr>\n",
       "    <tr>\n",
       "      <th>3840</th>\n",
       "      <td>зур концерт (большой концерт)</td>\n",
       "      <td>217027010</td>\n",
       "      <td>2010-06-24 12:00:00</td>\n",
       "      <td>художественный</td>\n",
       "      <td>ооо \"барс рекордс\"</td>\n",
       "      <td>россия</td>\n",
       "      <td>NaN</td>\n",
       "      <td>NaN</td>\n",
       "      <td>«12+» - для детей старше 12 лет</td>\n",
       "      <td>NaN</td>\n",
       "      <td>NaN</td>\n",
       "      <td>NaN</td>\n",
       "      <td>NaN</td>\n",
       "      <td>NaN</td>\n",
       "      <td>концерт</td>\n",
       "      <td>NaN</td>\n",
       "    </tr>\n",
       "    <tr>\n",
       "      <th>4052</th>\n",
       "      <td>ганс сэйфуллин \"авылым чишмэлэре. ганс сэйфулл...</td>\n",
       "      <td>217017310</td>\n",
       "      <td>2010-04-22 12:00:00</td>\n",
       "      <td>художественный</td>\n",
       "      <td>ооо \"барс-рекордс\"</td>\n",
       "      <td>россия</td>\n",
       "      <td>NaN</td>\n",
       "      <td>NaN</td>\n",
       "      <td>«0+» - для любой зрительской аудитории</td>\n",
       "      <td>NaN</td>\n",
       "      <td>NaN</td>\n",
       "      <td>NaN</td>\n",
       "      <td>NaN</td>\n",
       "      <td>NaN</td>\n",
       "      <td>концерт</td>\n",
       "      <td>NaN</td>\n",
       "    </tr>\n",
       "    <tr>\n",
       "      <th>4298</th>\n",
       "      <td>изге вэли (святой валентин)</td>\n",
       "      <td>217020610</td>\n",
       "      <td>2010-05-20 12:00:00</td>\n",
       "      <td>художественный</td>\n",
       "      <td>ооо \"барс рекордс\"</td>\n",
       "      <td>россия</td>\n",
       "      <td>NaN</td>\n",
       "      <td>NaN</td>\n",
       "      <td>«12+» - для детей старше 12 лет</td>\n",
       "      <td>NaN</td>\n",
       "      <td>NaN</td>\n",
       "      <td>NaN</td>\n",
       "      <td>NaN</td>\n",
       "      <td>NaN</td>\n",
       "      <td>NaN</td>\n",
       "      <td>NaN</td>\n",
       "    </tr>\n",
       "    <tr>\n",
       "      <th>4415</th>\n",
       "      <td>bon jovi. the circle tour</td>\n",
       "      <td>126001710</td>\n",
       "      <td>2010-11-11 12:00:00</td>\n",
       "      <td>прочие</td>\n",
       "      <td>эншутц интертейнмент груп</td>\n",
       "      <td>сша</td>\n",
       "      <td>NaN</td>\n",
       "      <td>эншутц интертейнмент груп</td>\n",
       "      <td>«0+» - для любой зрительской аудитории</td>\n",
       "      <td>NaN</td>\n",
       "      <td>NaN</td>\n",
       "      <td>NaN</td>\n",
       "      <td>NaN</td>\n",
       "      <td>7.90</td>\n",
       "      <td>концерт,музыка</td>\n",
       "      <td>NaN</td>\n",
       "    </tr>\n",
       "    <tr>\n",
       "      <th>4441</th>\n",
       "      <td>мульт личности. выпуск 5</td>\n",
       "      <td>214000410</td>\n",
       "      <td>2010-01-25 12:00:00</td>\n",
       "      <td>художественный</td>\n",
       "      <td>NaN</td>\n",
       "      <td>россия</td>\n",
       "      <td>NaN</td>\n",
       "      <td>NaN</td>\n",
       "      <td>«0+» - для любой зрительской аудитории</td>\n",
       "      <td>NaN</td>\n",
       "      <td>NaN</td>\n",
       "      <td>NaN</td>\n",
       "      <td>NaN</td>\n",
       "      <td>4.00</td>\n",
       "      <td>мультфильм,комедия</td>\n",
       "      <td>NaN</td>\n",
       "    </tr>\n",
       "    <tr>\n",
       "      <th>4923</th>\n",
       "      <td>георг фридрих гендель. мессия. оратория. корол...</td>\n",
       "      <td>126001111</td>\n",
       "      <td>2011-04-25 12:00:00</td>\n",
       "      <td>прочие</td>\n",
       "      <td>опус арт</td>\n",
       "      <td>великобритания</td>\n",
       "      <td>NaN</td>\n",
       "      <td>короевский колледж кембриджа</td>\n",
       "      <td>«0+» - для любой зрительской аудитории</td>\n",
       "      <td>NaN</td>\n",
       "      <td>NaN</td>\n",
       "      <td>NaN</td>\n",
       "      <td>NaN</td>\n",
       "      <td>NaN</td>\n",
       "      <td>NaN</td>\n",
       "      <td>NaN</td>\n",
       "    </tr>\n",
       "    <tr>\n",
       "      <th>4942</th>\n",
       "      <td>питер гэбриэл и new blood orchestra 3d</td>\n",
       "      <td>126002711</td>\n",
       "      <td>2011-11-11 12:00:00</td>\n",
       "      <td>прочие</td>\n",
       "      <td>омниверс визион</td>\n",
       "      <td>великобритания</td>\n",
       "      <td>NaN</td>\n",
       "      <td>омниверс визион</td>\n",
       "      <td>«0+» - для любой зрительской аудитории</td>\n",
       "      <td>NaN</td>\n",
       "      <td>NaN</td>\n",
       "      <td>NaN</td>\n",
       "      <td>NaN</td>\n",
       "      <td>6.70</td>\n",
       "      <td>концерт,музыка</td>\n",
       "      <td>NaN</td>\n",
       "    </tr>\n",
       "  </tbody>\n",
       "</table>\n",
       "</div>"
      ],
      "text/plain": [
       "                                                  title  pu_number  \\\n",
       "764   три звезды. концерт в waldbuhne theater, берли...  126003512   \n",
       "1735                           помпеи. британский музей  126003413   \n",
       "3840                      зур концерт (большой концерт)  217027010   \n",
       "4052  ганс сэйфуллин \"авылым чишмэлэре. ганс сэйфулл...  217017310   \n",
       "4298                        изге вэли (святой валентин)  217020610   \n",
       "4415                          bon jovi. the circle tour  126001710   \n",
       "4441                           мульт личности. выпуск 5  214000410   \n",
       "4923  георг фридрих гендель. мессия. оратория. корол...  126001111   \n",
       "4942             питер гэбриэл и new blood orchestra 3d  126002711   \n",
       "\n",
       "         show_start_date            type                   film_studio  \\\n",
       "764  2012-12-04 12:00:00          прочие            райзинг алтернатив   \n",
       "1735 2013-09-11 12:00:00          прочие  мортускрин, британский музей   \n",
       "3840 2010-06-24 12:00:00  художественный            ооо \"барс рекордс\"   \n",
       "4052 2010-04-22 12:00:00  художественный            ооо \"барс-рекордс\"   \n",
       "4298 2010-05-20 12:00:00  художественный            ооо \"барс рекордс\"   \n",
       "4415 2010-11-11 12:00:00          прочие     эншутц интертейнмент груп   \n",
       "4441 2010-01-25 12:00:00  художественный                           NaN   \n",
       "4923 2011-04-25 12:00:00          прочие                      опус арт   \n",
       "4942 2011-11-11 12:00:00          прочие               омниверс визион   \n",
       "\n",
       "     production_country director                      producer  \\\n",
       "764      великобритания      NaN               вальдбюне театр   \n",
       "1735     великобритания      NaN              британский музей   \n",
       "3840             россия      NaN                           NaN   \n",
       "4052             россия      NaN                           NaN   \n",
       "4298             россия      NaN                           NaN   \n",
       "4415                сша      NaN     эншутц интертейнмент груп   \n",
       "4441             россия      NaN                           NaN   \n",
       "4923     великобритания      NaN  короевский колледж кембриджа   \n",
       "4942     великобритания      NaN               омниверс визион   \n",
       "\n",
       "                             age_restriction  refundable_support  \\\n",
       "764   «0+» - для любой зрительской аудитории                 NaN   \n",
       "1735  «0+» - для любой зрительской аудитории                 NaN   \n",
       "3840         «12+» - для детей старше 12 лет                 NaN   \n",
       "4052  «0+» - для любой зрительской аудитории                 NaN   \n",
       "4298         «12+» - для детей старше 12 лет                 NaN   \n",
       "4415  «0+» - для любой зрительской аудитории                 NaN   \n",
       "4441  «0+» - для любой зрительской аудитории                 NaN   \n",
       "4923  «0+» - для любой зрительской аудитории                 NaN   \n",
       "4942  «0+» - для любой зрительской аудитории                 NaN   \n",
       "\n",
       "      nonrefundable_support  budget financing_source  ratings  \\\n",
       "764                     NaN     NaN              NaN      NaN   \n",
       "1735                    NaN     NaN              NaN      NaN   \n",
       "3840                    NaN     NaN              NaN      NaN   \n",
       "4052                    NaN     NaN              NaN      NaN   \n",
       "4298                    NaN     NaN              NaN      NaN   \n",
       "4415                    NaN     NaN              NaN     7.90   \n",
       "4441                    NaN     NaN              NaN     4.00   \n",
       "4923                    NaN     NaN              NaN      NaN   \n",
       "4942                    NaN     NaN              NaN     6.70   \n",
       "\n",
       "                  genres  box_office  \n",
       "764              концерт   44,350.00  \n",
       "1735                 NaN         NaN  \n",
       "3840             концерт         NaN  \n",
       "4052             концерт         NaN  \n",
       "4298                 NaN         NaN  \n",
       "4415      концерт,музыка         NaN  \n",
       "4441  мультфильм,комедия         NaN  \n",
       "4923                 NaN         NaN  \n",
       "4942      концерт,музыка         NaN  "
      ]
     },
     "execution_count": 44,
     "metadata": {},
     "output_type": "execute_result"
    }
   ],
   "source": [
    "data.query('director.isna()== True')"
   ]
  },
  {
   "cell_type": "markdown",
   "metadata": {},
   "source": [
    "Рассматривая результат вывода всех строк с пустым значением в `director`, можно определить что почти все фильмы - концерты. Их можно удалить"
   ]
  },
  {
   "cell_type": "code",
   "execution_count": 45,
   "metadata": {},
   "outputs": [
    {
     "name": "stdout",
     "output_type": "stream",
     "text": [
      "(7486, 16)\n"
     ]
    },
    {
     "data": {
      "text/plain": [
       "(7477, 16)"
      ]
     },
     "execution_count": 45,
     "metadata": {},
     "output_type": "execute_result"
    }
   ],
   "source": [
    "#Выведем количество строк и столбцов до удаления строк\n",
    "print(data.shape)\n",
    "data = data.query('director.isna() == False')\n",
    "data = data.reset_index(drop = True)\n",
    "#Проверим, и выведем количество строк и столбцов после удаления\n",
    "data.shape"
   ]
  },
  {
   "cell_type": "markdown",
   "metadata": {},
   "source": [
    "К сожалению, остальные пропуски не можем заполнить, так как не известно какими данными их можно заполнить."
   ]
  },
  {
   "cell_type": "markdown",
   "metadata": {
    "id": "4c6k1t9ygFyQ"
   },
   "source": [
    "#### Шаг 2.3. Изучите дубликаты в датафрейме\n",
    "- Проверьте, есть ли в данных дубликаты. Опишите причины, которые могли повлиять на появление дублей."
   ]
  },
  {
   "cell_type": "markdown",
   "metadata": {},
   "source": [
    "Для начала можно проверить на наличие явных дубликатов"
   ]
  },
  {
   "cell_type": "code",
   "execution_count": 46,
   "metadata": {},
   "outputs": [
    {
     "data": {
      "text/plain": [
       "0"
      ]
     },
     "execution_count": 46,
     "metadata": {},
     "output_type": "execute_result"
    }
   ],
   "source": [
    "data.duplicated().sum()"
   ]
  },
  {
   "cell_type": "markdown",
   "metadata": {},
   "source": [
    "Рассмотрим дубликаты по номеру прокатного удостоверения `pu_number`"
   ]
  },
  {
   "cell_type": "code",
   "execution_count": 47,
   "metadata": {
    "scrolled": true
   },
   "outputs": [
    {
     "data": {
      "text/html": [
       "<div>\n",
       "<style scoped>\n",
       "    .dataframe tbody tr th:only-of-type {\n",
       "        vertical-align: middle;\n",
       "    }\n",
       "\n",
       "    .dataframe tbody tr th {\n",
       "        vertical-align: top;\n",
       "    }\n",
       "\n",
       "    .dataframe thead th {\n",
       "        text-align: right;\n",
       "    }\n",
       "</style>\n",
       "<table border=\"1\" class=\"dataframe\">\n",
       "  <thead>\n",
       "    <tr style=\"text-align: right;\">\n",
       "      <th></th>\n",
       "      <th>title</th>\n",
       "      <th>pu_number</th>\n",
       "      <th>show_start_date</th>\n",
       "      <th>type</th>\n",
       "      <th>film_studio</th>\n",
       "      <th>production_country</th>\n",
       "      <th>director</th>\n",
       "      <th>producer</th>\n",
       "      <th>age_restriction</th>\n",
       "      <th>refundable_support</th>\n",
       "      <th>nonrefundable_support</th>\n",
       "      <th>budget</th>\n",
       "      <th>financing_source</th>\n",
       "      <th>ratings</th>\n",
       "      <th>genres</th>\n",
       "      <th>box_office</th>\n",
       "    </tr>\n",
       "  </thead>\n",
       "  <tbody>\n",
       "    <tr>\n",
       "      <th>4632</th>\n",
       "      <td>иоанна - женщина на папском престоле /по роман...</td>\n",
       "      <td>221154310</td>\n",
       "      <td>2010-12-17 12:00:00</td>\n",
       "      <td>художественный</td>\n",
       "      <td>константин фильм, а эр ди дегето фильм, дюне ф...</td>\n",
       "      <td>германия - великобритания - италия - испания</td>\n",
       "      <td>зенке вортманн</td>\n",
       "      <td>оливер бербен, дорис д.хайнце, фарук элтан</td>\n",
       "      <td>«16+» - для детей старше 16 лет</td>\n",
       "      <td>NaN</td>\n",
       "      <td>NaN</td>\n",
       "      <td>NaN</td>\n",
       "      <td>NaN</td>\n",
       "      <td>7.60</td>\n",
       "      <td>драма,мелодрама,история</td>\n",
       "      <td>NaN</td>\n",
       "    </tr>\n",
       "    <tr>\n",
       "      <th>5059</th>\n",
       "      <td>анализируй то</td>\n",
       "      <td>221054410</td>\n",
       "      <td>2010-05-25 12:00:00</td>\n",
       "      <td>художественный</td>\n",
       "      <td>уорнер бразерс, виллидж роадшоу пикчерз, эн-пи...</td>\n",
       "      <td>сша</td>\n",
       "      <td>гарольд реймис</td>\n",
       "      <td>джейн розенталь, паул уэйнстейн</td>\n",
       "      <td>«12+» - для детей старше 12 лет</td>\n",
       "      <td>NaN</td>\n",
       "      <td>NaN</td>\n",
       "      <td>NaN</td>\n",
       "      <td>NaN</td>\n",
       "      <td>6.80</td>\n",
       "      <td>комедия,криминал</td>\n",
       "      <td>NaN</td>\n",
       "    </tr>\n",
       "  </tbody>\n",
       "</table>\n",
       "</div>"
      ],
      "text/plain": [
       "                                                  title  pu_number  \\\n",
       "4632  иоанна - женщина на папском престоле /по роман...  221154310   \n",
       "5059                                      анализируй то  221054410   \n",
       "\n",
       "         show_start_date            type  \\\n",
       "4632 2010-12-17 12:00:00  художественный   \n",
       "5059 2010-05-25 12:00:00  художественный   \n",
       "\n",
       "                                            film_studio  \\\n",
       "4632  константин фильм, а эр ди дегето фильм, дюне ф...   \n",
       "5059  уорнер бразерс, виллидж роадшоу пикчерз, эн-пи...   \n",
       "\n",
       "                                production_country        director  \\\n",
       "4632  германия - великобритания - италия - испания  зенке вортманн   \n",
       "5059                                           сша  гарольд реймис   \n",
       "\n",
       "                                        producer  \\\n",
       "4632  оливер бербен, дорис д.хайнце, фарук элтан   \n",
       "5059             джейн розенталь, паул уэйнстейн   \n",
       "\n",
       "                      age_restriction  refundable_support  \\\n",
       "4632  «16+» - для детей старше 16 лет                 NaN   \n",
       "5059  «12+» - для детей старше 12 лет                 NaN   \n",
       "\n",
       "      nonrefundable_support  budget financing_source  ratings  \\\n",
       "4632                    NaN     NaN              NaN     7.60   \n",
       "5059                    NaN     NaN              NaN     6.80   \n",
       "\n",
       "                       genres  box_office  \n",
       "4632  драма,мелодрама,история         NaN  \n",
       "5059         комедия,криминал         NaN  "
      ]
     },
     "execution_count": 47,
     "metadata": {},
     "output_type": "execute_result"
    }
   ],
   "source": [
    "data.loc[data['pu_number'].duplicated() == True]"
   ]
  },
  {
   "cell_type": "markdown",
   "metadata": {},
   "source": [
    "Проверим, сходятся ли номера с названием фильма и его характеристикой?"
   ]
  },
  {
   "cell_type": "code",
   "execution_count": 48,
   "metadata": {},
   "outputs": [
    {
     "data": {
      "text/html": [
       "<div>\n",
       "<style scoped>\n",
       "    .dataframe tbody tr th:only-of-type {\n",
       "        vertical-align: middle;\n",
       "    }\n",
       "\n",
       "    .dataframe tbody tr th {\n",
       "        vertical-align: top;\n",
       "    }\n",
       "\n",
       "    .dataframe thead th {\n",
       "        text-align: right;\n",
       "    }\n",
       "</style>\n",
       "<table border=\"1\" class=\"dataframe\">\n",
       "  <thead>\n",
       "    <tr style=\"text-align: right;\">\n",
       "      <th></th>\n",
       "      <th>title</th>\n",
       "      <th>pu_number</th>\n",
       "      <th>show_start_date</th>\n",
       "      <th>type</th>\n",
       "      <th>film_studio</th>\n",
       "      <th>production_country</th>\n",
       "      <th>director</th>\n",
       "      <th>producer</th>\n",
       "      <th>age_restriction</th>\n",
       "      <th>refundable_support</th>\n",
       "      <th>nonrefundable_support</th>\n",
       "      <th>budget</th>\n",
       "      <th>financing_source</th>\n",
       "      <th>ratings</th>\n",
       "      <th>genres</th>\n",
       "      <th>box_office</th>\n",
       "    </tr>\n",
       "  </thead>\n",
       "  <tbody>\n",
       "    <tr>\n",
       "      <th>4631</th>\n",
       "      <td>как жениться и остаться холостым</td>\n",
       "      <td>221154310</td>\n",
       "      <td>2010-12-17 12:00:00</td>\n",
       "      <td>художественный</td>\n",
       "      <td>ше вам, скрипт ассосье, тэ фэ 1 фильм продюксь...</td>\n",
       "      <td>франция</td>\n",
       "      <td>эрик лартиго</td>\n",
       "      <td>амандин било, алан шаба</td>\n",
       "      <td>«16+» - для детей старше 16 лет</td>\n",
       "      <td>NaN</td>\n",
       "      <td>NaN</td>\n",
       "      <td>NaN</td>\n",
       "      <td>NaN</td>\n",
       "      <td>7.00</td>\n",
       "      <td>мелодрама,комедия</td>\n",
       "      <td>NaN</td>\n",
       "    </tr>\n",
       "    <tr>\n",
       "      <th>4632</th>\n",
       "      <td>иоанна - женщина на папском престоле /по роман...</td>\n",
       "      <td>221154310</td>\n",
       "      <td>2010-12-17 12:00:00</td>\n",
       "      <td>художественный</td>\n",
       "      <td>константин фильм, а эр ди дегето фильм, дюне ф...</td>\n",
       "      <td>германия - великобритания - италия - испания</td>\n",
       "      <td>зенке вортманн</td>\n",
       "      <td>оливер бербен, дорис д.хайнце, фарук элтан</td>\n",
       "      <td>«16+» - для детей старше 16 лет</td>\n",
       "      <td>NaN</td>\n",
       "      <td>NaN</td>\n",
       "      <td>NaN</td>\n",
       "      <td>NaN</td>\n",
       "      <td>7.60</td>\n",
       "      <td>драма,мелодрама,история</td>\n",
       "      <td>NaN</td>\n",
       "    </tr>\n",
       "    <tr>\n",
       "      <th>5058</th>\n",
       "      <td>анализируй это</td>\n",
       "      <td>221054410</td>\n",
       "      <td>2010-05-25 12:00:00</td>\n",
       "      <td>художественный</td>\n",
       "      <td>уорнер бразерс, вилладж роудшоу филмз лтд</td>\n",
       "      <td>сша-австралия</td>\n",
       "      <td>хэрольд рэмис</td>\n",
       "      <td>джейн розенталь, пола уейнстейн</td>\n",
       "      <td>«16+» - для детей старше 16 лет</td>\n",
       "      <td>NaN</td>\n",
       "      <td>NaN</td>\n",
       "      <td>NaN</td>\n",
       "      <td>NaN</td>\n",
       "      <td>7.40</td>\n",
       "      <td>комедия,криминал</td>\n",
       "      <td>NaN</td>\n",
       "    </tr>\n",
       "    <tr>\n",
       "      <th>5059</th>\n",
       "      <td>анализируй то</td>\n",
       "      <td>221054410</td>\n",
       "      <td>2010-05-25 12:00:00</td>\n",
       "      <td>художественный</td>\n",
       "      <td>уорнер бразерс, виллидж роадшоу пикчерз, эн-пи...</td>\n",
       "      <td>сша</td>\n",
       "      <td>гарольд реймис</td>\n",
       "      <td>джейн розенталь, паул уэйнстейн</td>\n",
       "      <td>«12+» - для детей старше 12 лет</td>\n",
       "      <td>NaN</td>\n",
       "      <td>NaN</td>\n",
       "      <td>NaN</td>\n",
       "      <td>NaN</td>\n",
       "      <td>6.80</td>\n",
       "      <td>комедия,криминал</td>\n",
       "      <td>NaN</td>\n",
       "    </tr>\n",
       "  </tbody>\n",
       "</table>\n",
       "</div>"
      ],
      "text/plain": [
       "                                                  title  pu_number  \\\n",
       "4631                   как жениться и остаться холостым  221154310   \n",
       "4632  иоанна - женщина на папском престоле /по роман...  221154310   \n",
       "5058                                     анализируй это  221054410   \n",
       "5059                                      анализируй то  221054410   \n",
       "\n",
       "         show_start_date            type  \\\n",
       "4631 2010-12-17 12:00:00  художественный   \n",
       "4632 2010-12-17 12:00:00  художественный   \n",
       "5058 2010-05-25 12:00:00  художественный   \n",
       "5059 2010-05-25 12:00:00  художественный   \n",
       "\n",
       "                                            film_studio  \\\n",
       "4631  ше вам, скрипт ассосье, тэ фэ 1 фильм продюксь...   \n",
       "4632  константин фильм, а эр ди дегето фильм, дюне ф...   \n",
       "5058          уорнер бразерс, вилладж роудшоу филмз лтд   \n",
       "5059  уорнер бразерс, виллидж роадшоу пикчерз, эн-пи...   \n",
       "\n",
       "                                production_country        director  \\\n",
       "4631                                       франция    эрик лартиго   \n",
       "4632  германия - великобритания - италия - испания  зенке вортманн   \n",
       "5058                                 сша-австралия   хэрольд рэмис   \n",
       "5059                                           сша  гарольд реймис   \n",
       "\n",
       "                                        producer  \\\n",
       "4631                     амандин било, алан шаба   \n",
       "4632  оливер бербен, дорис д.хайнце, фарук элтан   \n",
       "5058             джейн розенталь, пола уейнстейн   \n",
       "5059             джейн розенталь, паул уэйнстейн   \n",
       "\n",
       "                      age_restriction  refundable_support  \\\n",
       "4631  «16+» - для детей старше 16 лет                 NaN   \n",
       "4632  «16+» - для детей старше 16 лет                 NaN   \n",
       "5058  «16+» - для детей старше 16 лет                 NaN   \n",
       "5059  «12+» - для детей старше 12 лет                 NaN   \n",
       "\n",
       "      nonrefundable_support  budget financing_source  ratings  \\\n",
       "4631                    NaN     NaN              NaN     7.00   \n",
       "4632                    NaN     NaN              NaN     7.60   \n",
       "5058                    NaN     NaN              NaN     7.40   \n",
       "5059                    NaN     NaN              NaN     6.80   \n",
       "\n",
       "                       genres  box_office  \n",
       "4631        мелодрама,комедия         NaN  \n",
       "4632  драма,мелодрама,история         NaN  \n",
       "5058         комедия,криминал         NaN  \n",
       "5059         комедия,криминал         NaN  "
      ]
     },
     "execution_count": 48,
     "metadata": {},
     "output_type": "execute_result"
    }
   ],
   "source": [
    "data.loc[(data['pu_number'] == 221154310) | (data['pu_number'] == 221054410)]"
   ]
  },
  {
   "cell_type": "markdown",
   "metadata": {},
   "source": [
    "Фильмы с одинаковыми номерами прокатного удостоверения оказались совершенно разными фильмами.\n",
    "\n",
    "По отношению к первыми двум фильмам, скорее всего просто перепутали номера. \n",
    "\n",
    "А по отношению к последним двум фильмам, скорее всего решили что это один и тот же фильм. Но это не так, так как наименования, имя режиссера, продюссера итд отличаются друг от друга."
   ]
  },
  {
   "cell_type": "markdown",
   "metadata": {},
   "source": [
    "Так что, это не дубликаты и их удалять не будем"
   ]
  },
  {
   "cell_type": "markdown",
   "metadata": {
    "id": "aKck8RIdgFyQ"
   },
   "source": [
    "Далее необходимо рассмотреть дубликаты по названию фильма и режиссеру"
   ]
  },
  {
   "cell_type": "code",
   "execution_count": 49,
   "metadata": {
    "scrolled": false
   },
   "outputs": [
    {
     "data": {
      "text/html": [
       "<div>\n",
       "<style scoped>\n",
       "    .dataframe tbody tr th:only-of-type {\n",
       "        vertical-align: middle;\n",
       "    }\n",
       "\n",
       "    .dataframe tbody tr th {\n",
       "        vertical-align: top;\n",
       "    }\n",
       "\n",
       "    .dataframe thead th {\n",
       "        text-align: right;\n",
       "    }\n",
       "</style>\n",
       "<table border=\"1\" class=\"dataframe\">\n",
       "  <thead>\n",
       "    <tr style=\"text-align: right;\">\n",
       "      <th></th>\n",
       "      <th>title</th>\n",
       "      <th>pu_number</th>\n",
       "      <th>show_start_date</th>\n",
       "      <th>type</th>\n",
       "      <th>film_studio</th>\n",
       "      <th>production_country</th>\n",
       "      <th>director</th>\n",
       "      <th>producer</th>\n",
       "      <th>age_restriction</th>\n",
       "      <th>refundable_support</th>\n",
       "      <th>nonrefundable_support</th>\n",
       "      <th>budget</th>\n",
       "      <th>financing_source</th>\n",
       "      <th>ratings</th>\n",
       "      <th>genres</th>\n",
       "      <th>box_office</th>\n",
       "    </tr>\n",
       "  </thead>\n",
       "  <tbody>\n",
       "    <tr>\n",
       "      <th>3</th>\n",
       "      <td>особо опасен</td>\n",
       "      <td>221026916</td>\n",
       "      <td>2016-06-10 12:00:00</td>\n",
       "      <td>художественный</td>\n",
       "      <td>юниверсал пикчерз, кикстарт продакшнз, марк пл...</td>\n",
       "      <td>сша</td>\n",
       "      <td>тимур бекмамбетов</td>\n",
       "      <td>джим лемли, джейсон нетер, марк е.платт, яйн смит</td>\n",
       "      <td>«18+» - запрещено для детей</td>\n",
       "      <td>NaN</td>\n",
       "      <td>NaN</td>\n",
       "      <td>NaN</td>\n",
       "      <td>NaN</td>\n",
       "      <td>6.80</td>\n",
       "      <td>фантастика,боевик,триллер</td>\n",
       "      <td>NaN</td>\n",
       "    </tr>\n",
       "    <tr>\n",
       "      <th>4</th>\n",
       "      <td>особо опасен</td>\n",
       "      <td>221030815</td>\n",
       "      <td>2015-07-29 12:00:00</td>\n",
       "      <td>художественный</td>\n",
       "      <td>юниверсал пикчерз, кикстарт продакшнз, марк пл...</td>\n",
       "      <td>сша</td>\n",
       "      <td>тимур бекмамбетов</td>\n",
       "      <td>джим лемли, джейсон нетер, марк е.платт, яйн смит</td>\n",
       "      <td>«18+» - запрещено для детей</td>\n",
       "      <td>NaN</td>\n",
       "      <td>NaN</td>\n",
       "      <td>NaN</td>\n",
       "      <td>NaN</td>\n",
       "      <td>6.80</td>\n",
       "      <td>фантастика,боевик,триллер</td>\n",
       "      <td>NaN</td>\n",
       "    </tr>\n",
       "    <tr>\n",
       "      <th>41</th>\n",
       "      <td>алекс и эмма</td>\n",
       "      <td>221004616</td>\n",
       "      <td>2016-02-09 12:00:00</td>\n",
       "      <td>художественный</td>\n",
       "      <td>эскейп артистс, франчайз пикчерз, рейнер-грэйс...</td>\n",
       "      <td>сша</td>\n",
       "      <td>роб райнер</td>\n",
       "      <td>тодд блэк, элан грейсман, джереми левен, роб р...</td>\n",
       "      <td>«16+» - для детей старше 16 лет</td>\n",
       "      <td>NaN</td>\n",
       "      <td>NaN</td>\n",
       "      <td>NaN</td>\n",
       "      <td>NaN</td>\n",
       "      <td>6.40</td>\n",
       "      <td>мелодрама,комедия</td>\n",
       "      <td>NaN</td>\n",
       "    </tr>\n",
       "    <tr>\n",
       "      <th>110</th>\n",
       "      <td>гарри поттер и орден феникса /по роману дж.к.р...</td>\n",
       "      <td>121026316</td>\n",
       "      <td>2016-09-23 12:00:00</td>\n",
       "      <td>художественный</td>\n",
       "      <td>уорнер бразерс, хэйдей филмз</td>\n",
       "      <td>сша - великобритания</td>\n",
       "      <td>дэвид йетс</td>\n",
       "      <td>дэйвид баррон, дэйвид хейман</td>\n",
       "      <td>«16+» - для детей старше 16 лет</td>\n",
       "      <td>NaN</td>\n",
       "      <td>NaN</td>\n",
       "      <td>NaN</td>\n",
       "      <td>NaN</td>\n",
       "      <td>7.70</td>\n",
       "      <td>фэнтези,приключения,семейный</td>\n",
       "      <td>759,526.00</td>\n",
       "    </tr>\n",
       "    <tr>\n",
       "      <th>113</th>\n",
       "      <td>гарри поттер и узник азкабана /по роману дж.к....</td>\n",
       "      <td>121026116</td>\n",
       "      <td>2016-09-23 12:00:00</td>\n",
       "      <td>художественный</td>\n",
       "      <td>хэйдей филмз, 1492 пикчерз, уорнер бразерс</td>\n",
       "      <td>сша</td>\n",
       "      <td>альфонсо куарон</td>\n",
       "      <td>майкл барната</td>\n",
       "      <td>«12+» - для детей старше 12 лет</td>\n",
       "      <td>NaN</td>\n",
       "      <td>NaN</td>\n",
       "      <td>NaN</td>\n",
       "      <td>NaN</td>\n",
       "      <td>8.20</td>\n",
       "      <td>фэнтези,приключения,семейный</td>\n",
       "      <td>1,125,302.00</td>\n",
       "    </tr>\n",
       "    <tr>\n",
       "      <th>...</th>\n",
       "      <td>...</td>\n",
       "      <td>...</td>\n",
       "      <td>...</td>\n",
       "      <td>...</td>\n",
       "      <td>...</td>\n",
       "      <td>...</td>\n",
       "      <td>...</td>\n",
       "      <td>...</td>\n",
       "      <td>...</td>\n",
       "      <td>...</td>\n",
       "      <td>...</td>\n",
       "      <td>...</td>\n",
       "      <td>...</td>\n",
       "      <td>...</td>\n",
       "      <td>...</td>\n",
       "      <td>...</td>\n",
       "    </tr>\n",
       "    <tr>\n",
       "      <th>7256</th>\n",
       "      <td>альдабра: путешествие по таинственному острову</td>\n",
       "      <td>126003719</td>\n",
       "      <td>2019-09-30 12:00:00</td>\n",
       "      <td>прочие</td>\n",
       "      <td>старлайт пикчерз</td>\n",
       "      <td>чехия</td>\n",
       "      <td>стив лихтаг</td>\n",
       "      <td>петр келлер, роберт шнайдер, леопольдо гоут</td>\n",
       "      <td>«6+» - для детей старше 6 лет</td>\n",
       "      <td>NaN</td>\n",
       "      <td>NaN</td>\n",
       "      <td>NaN</td>\n",
       "      <td>NaN</td>\n",
       "      <td>6.80</td>\n",
       "      <td>семейный,приключения,документальный</td>\n",
       "      <td>NaN</td>\n",
       "    </tr>\n",
       "    <tr>\n",
       "      <th>7271</th>\n",
       "      <td>матрица</td>\n",
       "      <td>121028619</td>\n",
       "      <td>2019-10-05 12:00:00</td>\n",
       "      <td>художественный</td>\n",
       "      <td>уорнер бразерс, вилладж роадшоу пикчерз, грушо...</td>\n",
       "      <td>сша</td>\n",
       "      <td>ларри вачовски, энди вачовски</td>\n",
       "      <td>джоэл сильвер</td>\n",
       "      <td>«16+» - для детей старше 16 лет</td>\n",
       "      <td>NaN</td>\n",
       "      <td>NaN</td>\n",
       "      <td>NaN</td>\n",
       "      <td>NaN</td>\n",
       "      <td>8.50</td>\n",
       "      <td>фантастика,боевик</td>\n",
       "      <td>NaN</td>\n",
       "    </tr>\n",
       "    <tr>\n",
       "      <th>7292</th>\n",
       "      <td>ночь живых мертвецов</td>\n",
       "      <td>121029119</td>\n",
       "      <td>2019-10-30 12:00:00</td>\n",
       "      <td>художественный</td>\n",
       "      <td>имейдж тен, лаурель групп, маркет скьяр продакшнз</td>\n",
       "      <td>сша</td>\n",
       "      <td>джордж а.ромеро</td>\n",
       "      <td>расселл страйнер, карл хардмен</td>\n",
       "      <td>«18+» - запрещено для детей</td>\n",
       "      <td>NaN</td>\n",
       "      <td>NaN</td>\n",
       "      <td>NaN</td>\n",
       "      <td>NaN</td>\n",
       "      <td>7.30</td>\n",
       "      <td>ужасы,триллер</td>\n",
       "      <td>NaN</td>\n",
       "    </tr>\n",
       "    <tr>\n",
       "      <th>7304</th>\n",
       "      <td>безумный макс: дорога ярости</td>\n",
       "      <td>121030019</td>\n",
       "      <td>2019-12-06 12:00:00</td>\n",
       "      <td>художественный</td>\n",
       "      <td>уорнер бразерс пикчерс</td>\n",
       "      <td>австралия, сша</td>\n",
       "      <td>джордж миллер</td>\n",
       "      <td>джордж миллер, даг митчелл, брюс берман</td>\n",
       "      <td>«18+» - запрещено для детей</td>\n",
       "      <td>NaN</td>\n",
       "      <td>NaN</td>\n",
       "      <td>NaN</td>\n",
       "      <td>NaN</td>\n",
       "      <td>7.80</td>\n",
       "      <td>боевик,фантастика,приключения</td>\n",
       "      <td>NaN</td>\n",
       "    </tr>\n",
       "    <tr>\n",
       "      <th>7360</th>\n",
       "      <td>невиновен</td>\n",
       "      <td>111019319</td>\n",
       "      <td>2019-11-07 12:00:00</td>\n",
       "      <td>художественный</td>\n",
       "      <td>ооо \"кавказфильм\"</td>\n",
       "      <td>россия</td>\n",
       "      <td>а.емкужев</td>\n",
       "      <td>а.емкужев, а.хуажева, ооо \"корпорация русская ...</td>\n",
       "      <td>«16+» - для детей старше 16 лет</td>\n",
       "      <td>NaN</td>\n",
       "      <td>NaN</td>\n",
       "      <td>NaN</td>\n",
       "      <td>NaN</td>\n",
       "      <td>7.50</td>\n",
       "      <td>триллер,детектив,криминал</td>\n",
       "      <td>NaN</td>\n",
       "    </tr>\n",
       "  </tbody>\n",
       "</table>\n",
       "<p>718 rows × 16 columns</p>\n",
       "</div>"
      ],
      "text/plain": [
       "                                                  title  pu_number  \\\n",
       "3                                          особо опасен  221026916   \n",
       "4                                          особо опасен  221030815   \n",
       "41                                         алекс и эмма  221004616   \n",
       "110   гарри поттер и орден феникса /по роману дж.к.р...  121026316   \n",
       "113   гарри поттер и узник азкабана /по роману дж.к....  121026116   \n",
       "...                                                 ...        ...   \n",
       "7256     альдабра: путешествие по таинственному острову  126003719   \n",
       "7271                                            матрица  121028619   \n",
       "7292                               ночь живых мертвецов  121029119   \n",
       "7304                       безумный макс: дорога ярости  121030019   \n",
       "7360                                          невиновен  111019319   \n",
       "\n",
       "         show_start_date            type  \\\n",
       "3    2016-06-10 12:00:00  художественный   \n",
       "4    2015-07-29 12:00:00  художественный   \n",
       "41   2016-02-09 12:00:00  художественный   \n",
       "110  2016-09-23 12:00:00  художественный   \n",
       "113  2016-09-23 12:00:00  художественный   \n",
       "...                  ...             ...   \n",
       "7256 2019-09-30 12:00:00          прочие   \n",
       "7271 2019-10-05 12:00:00  художественный   \n",
       "7292 2019-10-30 12:00:00  художественный   \n",
       "7304 2019-12-06 12:00:00  художественный   \n",
       "7360 2019-11-07 12:00:00  художественный   \n",
       "\n",
       "                                            film_studio    production_country  \\\n",
       "3     юниверсал пикчерз, кикстарт продакшнз, марк пл...                   сша   \n",
       "4     юниверсал пикчерз, кикстарт продакшнз, марк пл...                   сша   \n",
       "41    эскейп артистс, франчайз пикчерз, рейнер-грэйс...                   сша   \n",
       "110                        уорнер бразерс, хэйдей филмз  сша - великобритания   \n",
       "113          хэйдей филмз, 1492 пикчерз, уорнер бразерс                   сша   \n",
       "...                                                 ...                   ...   \n",
       "7256                                   старлайт пикчерз                 чехия   \n",
       "7271  уорнер бразерс, вилладж роадшоу пикчерз, грушо...                   сша   \n",
       "7292  имейдж тен, лаурель групп, маркет скьяр продакшнз                   сша   \n",
       "7304                             уорнер бразерс пикчерс        австралия, сша   \n",
       "7360                                  ооо \"кавказфильм\"                россия   \n",
       "\n",
       "                           director  \\\n",
       "3                 тимур бекмамбетов   \n",
       "4                 тимур бекмамбетов   \n",
       "41                       роб райнер   \n",
       "110                      дэвид йетс   \n",
       "113                 альфонсо куарон   \n",
       "...                             ...   \n",
       "7256                    стив лихтаг   \n",
       "7271  ларри вачовски, энди вачовски   \n",
       "7292                джордж а.ромеро   \n",
       "7304                  джордж миллер   \n",
       "7360                      а.емкужев   \n",
       "\n",
       "                                               producer  \\\n",
       "3     джим лемли, джейсон нетер, марк е.платт, яйн смит   \n",
       "4     джим лемли, джейсон нетер, марк е.платт, яйн смит   \n",
       "41    тодд блэк, элан грейсман, джереми левен, роб р...   \n",
       "110                        дэйвид баррон, дэйвид хейман   \n",
       "113                                       майкл барната   \n",
       "...                                                 ...   \n",
       "7256        петр келлер, роберт шнайдер, леопольдо гоут   \n",
       "7271                                      джоэл сильвер   \n",
       "7292                     расселл страйнер, карл хардмен   \n",
       "7304            джордж миллер, даг митчелл, брюс берман   \n",
       "7360  а.емкужев, а.хуажева, ооо \"корпорация русская ...   \n",
       "\n",
       "                      age_restriction  refundable_support  \\\n",
       "3         «18+» - запрещено для детей                 NaN   \n",
       "4         «18+» - запрещено для детей                 NaN   \n",
       "41    «16+» - для детей старше 16 лет                 NaN   \n",
       "110   «16+» - для детей старше 16 лет                 NaN   \n",
       "113   «12+» - для детей старше 12 лет                 NaN   \n",
       "...                               ...                 ...   \n",
       "7256    «6+» - для детей старше 6 лет                 NaN   \n",
       "7271  «16+» - для детей старше 16 лет                 NaN   \n",
       "7292      «18+» - запрещено для детей                 NaN   \n",
       "7304      «18+» - запрещено для детей                 NaN   \n",
       "7360  «16+» - для детей старше 16 лет                 NaN   \n",
       "\n",
       "      nonrefundable_support  budget financing_source  ratings  \\\n",
       "3                       NaN     NaN              NaN     6.80   \n",
       "4                       NaN     NaN              NaN     6.80   \n",
       "41                      NaN     NaN              NaN     6.40   \n",
       "110                     NaN     NaN              NaN     7.70   \n",
       "113                     NaN     NaN              NaN     8.20   \n",
       "...                     ...     ...              ...      ...   \n",
       "7256                    NaN     NaN              NaN     6.80   \n",
       "7271                    NaN     NaN              NaN     8.50   \n",
       "7292                    NaN     NaN              NaN     7.30   \n",
       "7304                    NaN     NaN              NaN     7.80   \n",
       "7360                    NaN     NaN              NaN     7.50   \n",
       "\n",
       "                                   genres   box_office  \n",
       "3               фантастика,боевик,триллер          NaN  \n",
       "4               фантастика,боевик,триллер          NaN  \n",
       "41                      мелодрама,комедия          NaN  \n",
       "110          фэнтези,приключения,семейный   759,526.00  \n",
       "113          фэнтези,приключения,семейный 1,125,302.00  \n",
       "...                                   ...          ...  \n",
       "7256  семейный,приключения,документальный          NaN  \n",
       "7271                    фантастика,боевик          NaN  \n",
       "7292                        ужасы,триллер          NaN  \n",
       "7304        боевик,фантастика,приключения          NaN  \n",
       "7360            триллер,детектив,криминал          NaN  \n",
       "\n",
       "[718 rows x 16 columns]"
      ]
     },
     "execution_count": 49,
     "metadata": {},
     "output_type": "execute_result"
    }
   ],
   "source": [
    "data.loc[data.duplicated(subset = ['title', 'director']) == True]"
   ]
  },
  {
   "cell_type": "markdown",
   "metadata": {},
   "source": [
    "717 rows × 16 "
   ]
  },
  {
   "cell_type": "markdown",
   "metadata": {},
   "source": [
    "Всего вышло 717 дубликатов притом все они оказались с разными номерами прокатного удостоверения. Возможно, это связано с тем, что забывали что этот фильм уже внесен в таблицу данных или были допущены ошибки при написании номера прокатного удостоверения. Или же, вследствии получения нескольких прокатных удостоверений на один и тот же фильм.\n",
    "\n",
    "Удалим все неявные дубликаты и сбросим индексы"
   ]
  },
  {
   "cell_type": "code",
   "execution_count": 50,
   "metadata": {},
   "outputs": [
    {
     "name": "stdout",
     "output_type": "stream",
     "text": [
      "(7477, 16)\n"
     ]
    },
    {
     "data": {
      "text/plain": [
       "(6759, 16)"
      ]
     },
     "execution_count": 50,
     "metadata": {},
     "output_type": "execute_result"
    }
   ],
   "source": [
    "print(data.shape)\n",
    "data = data.loc[data.duplicated(subset = ['title', 'director']) == False]\n",
    "data = data.reset_index(drop = True)\n",
    "data.shape"
   ]
  },
  {
   "cell_type": "markdown",
   "metadata": {},
   "source": [
    "Выведем информацию о данных после очистки от дубликатов"
   ]
  },
  {
   "cell_type": "code",
   "execution_count": 51,
   "metadata": {
    "scrolled": false
   },
   "outputs": [
    {
     "name": "stdout",
     "output_type": "stream",
     "text": [
      "<class 'pandas.core.frame.DataFrame'>\n",
      "RangeIndex: 6759 entries, 0 to 6758\n",
      "Data columns (total 16 columns):\n",
      " #   Column                 Non-Null Count  Dtype         \n",
      "---  ------                 --------------  -----         \n",
      " 0   title                  6759 non-null   object        \n",
      " 1   pu_number              6759 non-null   int32         \n",
      " 2   show_start_date        6759 non-null   datetime64[ns]\n",
      " 3   type                   6759 non-null   object        \n",
      " 4   film_studio            6743 non-null   object        \n",
      " 5   production_country     6759 non-null   object        \n",
      " 6   director               6759 non-null   object        \n",
      " 7   producer               6206 non-null   object        \n",
      " 8   age_restriction        6759 non-null   object        \n",
      " 9   refundable_support     330 non-null    float32       \n",
      " 10  nonrefundable_support  330 non-null    float32       \n",
      " 11  budget                 330 non-null    float32       \n",
      " 12  financing_source       330 non-null    object        \n",
      " 13  ratings                5808 non-null   float16       \n",
      " 14  genres                 6185 non-null   object        \n",
      " 15  box_office             3013 non-null   float64       \n",
      "dtypes: datetime64[ns](1), float16(1), float32(3), float64(1), int32(1), object(9)\n",
      "memory usage: 699.8+ KB\n"
     ]
    }
   ],
   "source": [
    "data.info()"
   ]
  },
  {
   "cell_type": "markdown",
   "metadata": {
    "id": "52fOPrEBgFyQ"
   },
   "source": [
    "#### Шаг 2.4. Изучите столбцы которые содержат категориальные значения\n",
    "\n",
    "- Посмотрите, какая общая проблема встречается почти во всех категориальных столбцах;\n",
    "- Исправьте проблемные значения в поле `type`.\n",
    "\n",
    "<div id=\"accordion\">\n",
    "    <div class=\"card\">\n",
    "        <div class=\"card-header\" id=\"headingThree\">\n",
    "            <button class=\"btn btn-link collapsed\" data-toggle=\"collapse\" data-target=\"#collapseHint_1\" aria-expanded=\"false\" aria-controls=\"collapseHint_1\">Подсказка</button>\n",
    "        </div>\n",
    "        <div id=\"collapseHint_1\" class=\"collapse\" aria-labelledby=\"headingThree\" data-parent=\"#accordion\">\n",
    "            <div class=\"card-body\">\n",
    "В поле <code>type</code> есть несколько значений, у которых появился пробел в начале строки. Самый простой способ их «починить» -- использовать метод <a href=\"https://pandas.pydata.org/docs/reference/api/pandas.Series.str.strip.html#pandas.Series.str.strip\">.str.strip</a>. Этот метод удаляет все пробелы, которые встречаются в начале и в конце строки. Применяют его таким образом:<br>\n",
    "<code>df['type'].str.strip()</code>\n",
    "            </div>\n",
    "        </div>\n",
    "    </div>\n",
    "</div>"
   ]
  },
  {
   "cell_type": "markdown",
   "metadata": {},
   "source": [
    "В категориальных столбцах встречались такие проблемы как лишний пробел в начале или в конце строки, от которых мы ранее избавлялись используя функцию `correct`. Для проверки можем вывести все уникальные значения столбца `type` после использования функции `correct`"
   ]
  },
  {
   "cell_type": "code",
   "execution_count": 52,
   "metadata": {},
   "outputs": [
    {
     "data": {
      "text/plain": [
       "array(['художественный', 'анимационный', 'прочие', 'документальный',\n",
       "       'научно-популярный', 'музыкально-развлекательный'], dtype=object)"
      ]
     },
     "execution_count": 52,
     "metadata": {},
     "output_type": "execute_result"
    }
   ],
   "source": [
    "data['type'].unique()"
   ]
  },
  {
   "cell_type": "markdown",
   "metadata": {},
   "source": [
    "Рассмотрим все уникальные значения других категориальных столбцов"
   ]
  },
  {
   "cell_type": "code",
   "execution_count": 53,
   "metadata": {},
   "outputs": [
    {
     "data": {
      "text/plain": [
       "array(['тачстоун пикчерз, кобальт пикчерз, бикон пикчерз, тиг продакшнз',\n",
       "       'киностудия \"мосфильм\"',\n",
       "       'юниверсал пикчерз, кикстарт продакшнз, марк платт продакшнз, рилейтивити медиа, спайгласс интертейнмент, стилкин филмз, топ кау продакшнз',\n",
       "       ...,\n",
       "       'дэниел гродник продакшнз, вандерфилм медиа корпорэйшн, импринт интертейнмент, вор хорс интертейнмент, пимиента',\n",
       "       'никелодеон анимейшн студиос, спин мастер',\n",
       "       'анимаккорд лтд., ооо студия \"анимаккорд\"'], dtype=object)"
      ]
     },
     "execution_count": 53,
     "metadata": {},
     "output_type": "execute_result"
    }
   ],
   "source": [
    "data['film_studio'].unique()"
   ]
  },
  {
   "cell_type": "code",
   "execution_count": 54,
   "metadata": {},
   "outputs": [
    {
     "data": {
      "text/plain": [
       "array(['сша', 'ссср', 'франция', 'ссср, венгрия',\n",
       "       'германия-великобритания', 'великобритания - италия',\n",
       "       'чехословакия', 'сша - франция - турция', 'новая зеландия',\n",
       "       'канада - франция - испания', 'сша-германия',\n",
       "       'сша - великобритания', 'великобритания', 'сша - германия',\n",
       "       'франция - мексика - сша', 'россия, казахстан, сша',\n",
       "       'ссср, швеция', 'ссср, франция, англия, куба, гдр', 'германия',\n",
       "       'великобритания-сша-германия-кнр',\n",
       "       'ссср, чсср, западный берлин, пнр', 'ссср, италия', 'гонконг, кнр',\n",
       "       'сша - франция', 'сша - япония - франция - великобритания',\n",
       "       'гонконг - сингапур - таиланд - великобритания', 'сша-канада',\n",
       "       'франция - италия - великобритания - сша', 'франция - сша',\n",
       "       'ирландия-великобритания-германия', 'чехия', 'сша-австралия',\n",
       "       'ссср, финляндия', 'сша-франция-великобритания-австрия',\n",
       "       'сша - бельгия', 'сша - ирландия - великобритания',\n",
       "       'великобритания - сша',\n",
       "       'люксембург - нидерланды - испания - великобритания - сша - италия',\n",
       "       'великобритания - франция - сша', 'новая зеландия - сша',\n",
       "       'сша - великобритания - чехия',\n",
       "       'канада - франция - великобритания', 'ирландия',\n",
       "       'великобритания - германия - сша',\n",
       "       'сша - франция - великобритания', 'япония', 'ссср, польша',\n",
       "       'франция - испания', 'канада-франция', 'германия - италия - сша',\n",
       "       'аргентина - бразилия', 'дания - швейцария - бельгия - франция',\n",
       "       'сша - испания', 'германия - сша',\n",
       "       'франция - австрия - германия - италия - сша', 'австрия',\n",
       "       'сша - канада - германия', 'сша - канада',\n",
       "       'ссср - швейцария - франция', 'россия - казахстан', 'гонконг',\n",
       "       'италия', 'сша - оаэ', 'россия',\n",
       "       'сша - франция - испания - великобритания',\n",
       "       'великобритания - франция', 'сша-италия-испания-аргентина',\n",
       "       'франция-великобритания', 'кнр - гонконг',\n",
       "       'франция - италия - швейцария', 'сша - новая зеландия',\n",
       "       'франция - бельгия', 'кнр', 'германия - великобритания - австрия',\n",
       "       'великобритания - израиль - франция - япония - сша', 'швеция',\n",
       "       'испания', 'дания', 'франция - бельгия - люксембург',\n",
       "       'сша - индия - оаэ',\n",
       "       'германия-канада-великобритания-швейцария-франция',\n",
       "       'мексика - чили', 'аргентина', 'бразилия', 'чили', 'австралия',\n",
       "       'португалия - франция', 'сша - юар', 'исландия-ирландия-германия',\n",
       "       'сша-индонезия', 'южная корея', 'мексика - испания - дания - сша',\n",
       "       'великобритания-сша', 'франция - италия', 'сша-франция',\n",
       "       'сша - венгрия - великобритания', 'бельгия-франция-италия',\n",
       "       'чехия - германия', 'германия - франция', 'сша-нидерланды',\n",
       "       'украина', 'великобритания - германия', 'франция-бельгия',\n",
       "       'сша-франция-испания', 'италия - франция', 'канада',\n",
       "       'швеция-франция-дания', 'германия-франция-польша',\n",
       "       'франция-великобритания - германия',\n",
       "       'сша - бразилия - франция - австралия - великобритания - германия',\n",
       "       'германия-австрия', 'германия-италия- шри-ланка',\n",
       "       'великобритания - испания',\n",
       "       'сша - великобритания - канада - швеция',\n",
       "       'босния и герцеговина - франция - великобритания - германия - словения - бельгия - сербия',\n",
       "       'великобритания - франция - италия - сша', 'сша-оаэ',\n",
       "       'испания - франция', 'сша-великобритания', 'сша-юар',\n",
       "       'великобритания-австралия - сша',\n",
       "       'норвегия - швеция - дания - германия', 'норвегия', 'швейцария',\n",
       "       'греция - германия - франция', 'норвения', 'южная корея - сша',\n",
       "       'чили - франция - сша', 'австрия - германия - франция',\n",
       "       'швеция - дания', 'великобритания - франция - бельгия - италия',\n",
       "       'франция - германия', 'грузия - франция - люксембург',\n",
       "       'сша - франция - великобритания - бразилия', 'сша - кнр',\n",
       "       'мексика - франция', 'сша - германия - гонконг - сингапур',\n",
       "       'финляндия - австрия - россия', 'испания - куба',\n",
       "       'великобритания - юар', 'великобритания - ирландия', 'израиль',\n",
       "       'бразилия - германия - порртугалия - франция',\n",
       "       'франция - канада - бельгия', 'франция-испания',\n",
       "       'испания - канада - япония', 'иран', 'швеция-куба',\n",
       "       'сша-великобритания-ирландия', 'гонконг - кнр', 'нидерланды',\n",
       "       'испания - канада', 'япония-великобритания',\n",
       "       'великобритания - норвегия - дания - германия',\n",
       "       'финляндия - франция - германия',\n",
       "       'мексика - франция - нидерланды - германия', 'сша - индия',\n",
       "       'сша-великобритания-индия', 'сша-канада-бельгия',\n",
       "       'республика узбекистан', 'турция',\n",
       "       'сербия - словения - хорватия - черногория - македония',\n",
       "       'киргизия', 'германия - нидерланды - беларусь - россия - латвия',\n",
       "       'индия', 'нидерланды - россия - германия',\n",
       "       'великобритания - нидерланды - франция - хорватия',\n",
       "       'канада - южная корея',\n",
       "       'великобритания - польша - кнр - индия - норвегия',\n",
       "       'япония - франция - сша - южная корея - турция',\n",
       "       'мексика - аргентина - великобритания', 'израиль - франция',\n",
       "       'польша - португалия - франция - великобритания',\n",
       "       'австралия - сша', 'франция - люксембург - бельгия', 'армения',\n",
       "       'бельгия - люксембург - франция - швейцария',\n",
       "       'сша - великобритания - канада', 'норвегия - швеция',\n",
       "       'канада - франция', 'кнр - гонконг - сша',\n",
       "       'сша - сингапур - малайзия - индонезия', 'германия - россия',\n",
       "       'япония - канада', 'финляндия - дания - германия - ирландия',\n",
       "       'франция - люксембург - германия - бельгия - швейцария - великобритания',\n",
       "       'канада - сша', 'сша-италия-испания', 'сша-испания',\n",
       "       'сша - швейцария - франция', 'испания - сша - колумбия',\n",
       "       'канада-юар', 'франция - россия',\n",
       "       'германия - финляндия - австралия', 'дания - швеция', 'бельгия',\n",
       "       'германия - франция - австрия', 'франция-индия', 'юар',\n",
       "       'франция-перу', 'франция - канада', 'республика беларусь',\n",
       "       'великобритания - австрия - франция - сша',\n",
       "       'австрия-германия-франция', 'сша-россия', 'германия-сша',\n",
       "       'сша - южная корея', 'канада - кнр',\n",
       "       'дания - швеция - италия - франция - германия',\n",
       "       'франция-италия-испания-венгрия', 'франция - германия - бельгия',\n",
       "       'франция-великобритания-чехия', 'румыния - франция - бельгия',\n",
       "       'болгария - франция - изриль',\n",
       "       'израиль - германия - польша - бельгия - франция - люксембург',\n",
       "       'россия, германия, франция, бельгия', 'индонезия',\n",
       "       'франция - португалия', 'великобритания - пуэрто-рико',\n",
       "       'ссср, фрг, западный берлин', 'россия, республика беларусь',\n",
       "       'сша, великобритания', 'франция - австрия', 'бельгия-нидерланды',\n",
       "       'великобритания - сша - индия', 'сша - великобритания - австралия',\n",
       "       'канада - франция - сша - оаэ - великобритания',\n",
       "       'сша - австралия - франция',\n",
       "       'дания-франция-бельгия-германия-великобритания',\n",
       "       'испания - аргентина', 'исландия - финляндия',\n",
       "       'россия-польша-голландия-словакия', 'дания - германия - швеция',\n",
       "       'южная корея - сша - канада', 'таиланд', 'сша-мальта',\n",
       "       'сша -германия',\n",
       "       'великобритания - германия - франция - кипр - сша', 'мексика',\n",
       "       'сша - великобритания - ирландия', 'сша - украина',\n",
       "       'сша - финляндия - испания - великобритания - франция',\n",
       "       'австралия-великобритания',\n",
       "       'сша - канада - афганистан - бельгия - франция',\n",
       "       'сша - великобритания - германия - новая зеландия - бельгия - франция',\n",
       "       'франция-канада',\n",
       "       'ирландия - финляндия - бельгия - великобритания - сша - швейцария',\n",
       "       'малайзия - сша', 'германия - италия',\n",
       "       'сша - франция - бельгия - италия', 'франция - ирландия - швеция',\n",
       "       'азербайджан-россия', 'великобритания - италия - швейцария',\n",
       "       'сша - германия - великобритания',\n",
       "       'германия - бельгия - сша -франция', 'сша-китай', 'чили - испания',\n",
       "       'франция - швейцария', 'канада - испания',\n",
       "       'сша - румыния - великобритания', 'сша - япония',\n",
       "       'сша - россия - франция', 'франция-сша', 'парагвай',\n",
       "       'германия - канада', 'сша - канада - великобритания',\n",
       "       'финляндия - канада', 'уругвай-мексика-германия', 'сша - чили',\n",
       "       'германия - аргентина - нидерланды - чили',\n",
       "       'сша - канада - индонезия', 'армения - казахстан', 'финляндия',\n",
       "       'испания - италия - франция',\n",
       "       'бельгия - испания - канада - нидерланды',\n",
       "       'великобритания - франция - швеция - бельгия',\n",
       "       'мексика - эквадор - канада - сша - франция - малайзия - италия - аргентина - германия - индия',\n",
       "       'франция - бенльгия', 'индия - великобритания',\n",
       "       'япония - великобритания - франция',\n",
       "       'испания - уругвай - аргентина',\n",
       "       'франция - италия - бельгия - люксембург',\n",
       "       'франция - украина - грузия - армения',\n",
       "       'сербия - германия - венгрия', 'франция-польша', 'румыния-сша',\n",
       "       'россия-азербайджан',\n",
       "       'сша - нидерланды - бельгия - венгрия - греция - канада',\n",
       "       'германия - франция - люксембург', 'сша - россия',\n",
       "       'великобритания - сша - франция', 'сша - австралия - дания',\n",
       "       'бельгия-франция', 'сша-мексика',\n",
       "       'норвегия - азербайджан - россия - колумбия - великобритания - венгрия - румыния - франция - грузия',\n",
       "       'сща', 'бразилия - испания', 'россия, франция, латвия',\n",
       "       'нидерланды - сша - германия - канада - франция - ирландия - великобритания',\n",
       "       'уругвай - колумбия', 'сша - испания - болгария',\n",
       "       'армения - германия', 'сша - великобритания- франция - швеция',\n",
       "       'сша - мексика', 'австралия-турция-сша', 'швеция - германия',\n",
       "       'польша - италия - россия', 'франция - бразилия',\n",
       "       'сша - канада - кнр', 'ссср, венгрия, чсср, гдр',\n",
       "       'бельгия - германия - люксембург', 'сша - австралия',\n",
       "       'бразилия - сша', 'сша - великобритания - канада - кнр',\n",
       "       'франция - чили',\n",
       "       'франция - сша - великобритания - колумбия - бельгия - россия',\n",
       "       'дания - великобритания - юар', 'россия-сша-канада-люксембург',\n",
       "       'россия - республика кипр', 'германия - сша - швеция - франция',\n",
       "       'великобритания-германия-канада-юар', 'ирландия, канада',\n",
       "       'япония - великобритания - швейцария - ирландия - дания - франция - польша - австралия - канада',\n",
       "       'великобритания, канада', 'бельгия - сша',\n",
       "       'великобритания - сша - россия', 'россия-украина',\n",
       "       'германия - сша - великобритания - израиль', 'канада - германия',\n",
       "       'сша- ю.корея', 'индия - мексика',\n",
       "       'великобритания - франция - республика кипр - швейцария - сша - сербия',\n",
       "       'испания - аргентина - индия - сша',\n",
       "       'норвегия - исландия - сша - великобритания',\n",
       "       'турция - германя - франция', 'германия - великобритания',\n",
       "       'австралия - германия', 'мексика - испания',\n",
       "       'великобритания - сша - германия - бельгия',\n",
       "       'сша - чехия - франция', 'россия - италия', 'франция-россия',\n",
       "       'норвегия - дания - швеция', 'франция - швейцария - германия',\n",
       "       'грузия - украина', 'россия - эстония - финляндия - беларусь',\n",
       "       'сша - франция - юар', 'великобритания - сша - швейцария',\n",
       "       'канада-сша', 'мексика - нидерланды - германия - франция',\n",
       "       'сша - испания - франция', 'сша - великобритания - кнр',\n",
       "       'сша-франция-канада',\n",
       "       'япония, великобритания, австрия, германия, ю.корея',\n",
       "       'великобритания - ирландия - сша', 'бельгия - италия - франция',\n",
       "       'швейцария-германия-юар', 'великобритания - сша - германия',\n",
       "       'германия - исландия', 'испания - сша', 'хорватия',\n",
       "       'финляндия - исландия - швеция',\n",
       "       'канада - сша - германия - франция',\n",
       "       'сша - великобритания - испания', 'ирландия-великобритания',\n",
       "       'аргентина - испания', 'австрия - германия',\n",
       "       'германия - швейцария - франция - южная корея - сша',\n",
       "       'украина - нидерланды', 'венгрия - германия - швеция',\n",
       "       'германия - франция -  польша - турция - канада - италия - россия',\n",
       "       'ссср, афганистан', 'ссср, монголия', 'россия-кипр',\n",
       "       'россия, грузия, испания',\n",
       "       'великобритания - нидерланды - германия - франция - бельгия - австрия',\n",
       "       'испания - великобритания - франция',\n",
       "       'дания - норвегия - великобритания',\n",
       "       'бельгия - франция - люксембург',\n",
       "       'италия - франция - швейцария - великобритания',\n",
       "       'франция - бельгия - великобритания - испания - германия - сша',\n",
       "       'швейцария - израиль - франция - великобритания',\n",
       "       'великобритания - сша - канада - нидерланды - франция',\n",
       "       'россия, италия', 'ссср, албания',\n",
       "       'россия, украина, республика беларусь, литва',\n",
       "       'финляндия - великобритания - германия', 'россия, украина, польша',\n",
       "       'франция - италия - бельгия - кнр',\n",
       "       'германия - бельгия - люксембург - ирландия', 'кнр - сингапур',\n",
       "       'франция - бельгия - великобритания - сша - нидерланды - канада',\n",
       "       'сша - россия - польша - германия - пуэрто рико',\n",
       "       'франция - бельгия - канада', 'мексика - сша',\n",
       "       'сша - гонконг - кнр', 'греция - россия',\n",
       "       'ирландия - дания - бельгия - люксембург - франция',\n",
       "       'эстония - россия',\n",
       "       'великобритания - исландия - испания - швейцария - сша',\n",
       "       'австралия - великобритания - бельгия - индия',\n",
       "       'швеция - германия - франция - норвегия',\n",
       "       'нидерланды - бельгия - германия - ирландия',\n",
       "       'нидерланды - великобритания - бельгия',\n",
       "       'сша - колумбия - испания', 'франция-испания-бельгия-панама',\n",
       "       'сша-великобритания-чехия-румыния',\n",
       "       'аргентина - уругвай - россия - германия - франция - нидерланды',\n",
       "       'швеция - франция - норвегия - дания',\n",
       "       'италия-франция-великобритания', 'великобритания, франция',\n",
       "       'австралия, сша', 'венесуэла',\n",
       "       'великобритания - сша - австралия - ирландия - германия - куба - канада',\n",
       "       'южная корея - кнр',\n",
       "       'аргентина - мексика - бразилия - франция - сша', 'швеция - сша',\n",
       "       'франция - германия - турция - катар', 'франция-китай',\n",
       "       'россия, германия, великобритания',\n",
       "       'великобритания - италия - испания', 'италия - россия',\n",
       "       'япония - кнр - южная корея', 'россия, германия',\n",
       "       'россия-ирландия', 'македония - франция - великобритания',\n",
       "       'франция - бразилия - италия', 'россия-сша', 'армения-россия',\n",
       "       'россия, румыния', 'франция -  бельгия', 'грузия-франция',\n",
       "       'юар - сша', 'великобритания-сша-франция',\n",
       "       'великобритания - сша - германия - канада - австралия',\n",
       "       'сша-ирландия', 'россия, республика кипр',\n",
       "       'германия - люксембург - франция', 'россия-франция',\n",
       "       'сша - нидерланды - финляндия - великобритания - италия',\n",
       "       'республика кипр', 'венгрия', 'франция - сша - норвегия - дания',\n",
       "       'германия - австрия - ирландия', 'сша - финляндия',\n",
       "       'италия-великобритания', 'россия, испания',\n",
       "       'сша - великобритания - болгария', 'великобритания - люксембург',\n",
       "       'индия - сша', 'сша - канада - россия - франция - чили - ирландия',\n",
       "       'грузия-россия',\n",
       "       'дания - австрия - ирландия - финляндия - норвегия - швеция - нидерланды',\n",
       "       'сша-кнр', 'грузия', 'австралия - ирландия',\n",
       "       'великобритания - канада', 'италия - аргентина - словения',\n",
       "       'испания - франция - нидерланды - германия - бельгия - великобритания - канада',\n",
       "       'франция - чехия - бельгия',\n",
       "       'великобритания - франция - германия - сша',\n",
       "       'ирландия - великобритания - франция - сша - германия - нидерланды',\n",
       "       'сша - канада - япония - кнр', 'италия-франция',\n",
       "       'сша - великобритания - исландия', 'великобритания-франция',\n",
       "       'франция - германия - нидерланды',\n",
       "       'франция - германия - швеция - сша - чехия - словакия - великобритания - нидерланды',\n",
       "       'франция - канада - н.зеландия - сша - нидерланды - германия - швеция - россия',\n",
       "       'турция - сша',\n",
       "       'великобритания - сша - канада - бельгия - нидерланды - австрия - германия',\n",
       "       'израиль - франция - германия - палестина - сша - австрия - великобритания',\n",
       "       'аргентина - франция - испания', 'ссср, россия',\n",
       "       'великобритания - франция - италия - индия - дания - кнр - бангладеш - камбоджа - гаити - уганда',\n",
       "       'италия - франция - швейцария',\n",
       "       'ирландия - великобритания - канада', 'перу', 'сша - норвегия',\n",
       "       'испания-канада', 'китай-гонконг', 'сша - германия - кнр',\n",
       "       'великобритания - новая зеландия',\n",
       "       'франция - дания - швеция - кнр',\n",
       "       'сша - великобритания - германия - бельгия - дания',\n",
       "       'сша - франция - канада - германия - австралия - индия',\n",
       "       'ссср, румыния, франция', 'ссср, гдр', 'австралия-ирландия',\n",
       "       'сша - китай', 'великобритания - франция - австрия - швеция',\n",
       "       'россия, таджикистан', 'нидерланды - бельгия - болгария',\n",
       "       'великобритания - канада - сша', 'франция - бельгия - испания',\n",
       "       'китай-гонконг-сша', 'франция - великобритания', 'сша - вьетнам',\n",
       "       'сша - германия - франция', 'германия - франция - бельгия',\n",
       "       'сша - италия',\n",
       "       'германия - дания - испания - швеция - канада - эстония - франция',\n",
       "       'княжество андорра - украина', 'германия - люксембург - бельгия',\n",
       "       'великобритания - россия - украина - сша',\n",
       "       'германия - бельгия - люксембург - норвегия',\n",
       "       'сша - австралия - новая зеландия - великобритания',\n",
       "       'сша - франция - канада - великобритания', 'испания-колумбия',\n",
       "       'великобритания - чехия - франция', 'россия, украина', 'исландия',\n",
       "       'великобритания - франция - венгрия',\n",
       "       'россия, франция, германия, бельгия', 'франция - македония',\n",
       "       'нидерланды - франция - германия - бельгия - швеция - великобритания',\n",
       "       'испания - сша - великобритания - канада', 'германия - австрия',\n",
       "       'республика казахстан',\n",
       "       'франция - испания - дания - венгрия - швейцария', 'франция-кнр',\n",
       "       'сша - пуэрто-рико - франция', 'мексика - тайвань - сша',\n",
       "       'великобритания - испания - непал - индия - венгрия - гонконг - германия - дания - бахрейн',\n",
       "       'великобритания - аргентина - сша - франция - россия - испания',\n",
       "       'кнр - сша', 'италия - сша', 'финляндия - швеция - германия',\n",
       "       'канада- испания', 'франция - бельгия - чехия',\n",
       "       'франция-бельгия-канада', 'франция - германия - сша',\n",
       "       'сша - дания', 'индия - кнр', 'чехия-великобритания-сша',\n",
       "       'сша-фрг-россия', 'ирландия-нидерланды-франция-сша-великобритания',\n",
       "       'россия, грузия, хорватия, испания',\n",
       "       'финляндия - швеция - норвегия', 'сербия - великобритания - сша',\n",
       "       'сша - великобритания - франция - гонконг', 'швейцария - франция',\n",
       "       'швейцария - великобритания', 'оаэ - сша',\n",
       "       'сша - франция - германия - канада - австралия',\n",
       "       'германия - австралия', 'иран, франция',\n",
       "       'сша - великобритания - новая зеландия', 'сша-колумбия',\n",
       "       'сша-франция-ирландия', 'великобритания - франция - бельгия',\n",
       "       'сша - великобритания - япония', 'сша - франция - германия',\n",
       "       'польша - ирландия', 'ирландия - великобритания - франция - сша',\n",
       "       'сша - бельгия - великобритания', 'ссср, внр',\n",
       "       'испания - франция - сша - великобритания - бельгия',\n",
       "       'франция - дания - сша', 'сша - гонконг', 'бразилия - к;анада',\n",
       "       'франция-германия', 'сша - колумбия',\n",
       "       'сша - ирландия - великобритания - франция',\n",
       "       'великобритания - сша - канада', 'польша - франция',\n",
       "       'канада - сша - нидерланды - великобритания - аргентина',\n",
       "       'великобритания - дания', 'франция - бельгия - япония',\n",
       "       'россия,  испания', 'франция -бельгия',\n",
       "       'сша - канада - германия - франция', 'сша-канада-франция',\n",
       "       'россия - германия', 'россия-италия', 'китай - гонконг',\n",
       "       'германия-австрия-франция-италия', 'сша-япония',\n",
       "       'сша - германия - канада', 'испания-мексика',\n",
       "       'сша - япония - канада - великобритания - германия - франция',\n",
       "       'сша -великобритания - австралия', 'россия-украина-германия',\n",
       "       'израиль - франция - великобритания - германия', 'корея',\n",
       "       'россия - болгария', 'сша-индия',\n",
       "       'германия-канада-франция-бельгия', 'германия-кения',\n",
       "       'франция - монако', 'франция-испания-швейцария',\n",
       "       'австрия-франция-германия', 'румыния',\n",
       "       'сша-великобритания-франция', 'канада-великобритания',\n",
       "       'канада-бразилия-япония', 'германия - дания - норвегия',\n",
       "       'дания - германия', 'ссср - италия',\n",
       "       'ссср - гдр - польша - италия',\n",
       "       'сша - испания - франция - великобритания', 'китай',\n",
       "       'мексика-аргентина',\n",
       "       'германия - великобритания - италия - испания',\n",
       "       'франция-германия-великобритания', 'россия - германия - швейцария',\n",
       "       'франция-австралия', 'голландия', 'швейцария-франция',\n",
       "       'россия-белоруссия', 'франция - испания - тайвань',\n",
       "       'сша-южная корея-новая зеландия', 'великобритания-венгрия',\n",
       "       'россия-германия', 'великобритания-франция-германия',\n",
       "       'франция-германия-италия', 'швеция-финляндия-франция-норвегия',\n",
       "       'франция-италия', 'германия-израиль',\n",
       "       'швеция - германия - дания - норвегия', 'сша-бельгия',\n",
       "       'франция-гонконг-ирландия', 'эстония', 'литва-россия-украина',\n",
       "       'германия - италия - франция',\n",
       "       'великобритания - австрия - германия', 'бельгия - франция',\n",
       "       'россия-казахстан', 'испания - мальта',\n",
       "       'франция-россия-румыния-италия-бельгия', 'россия - польша',\n",
       "       'испания - мексика', 'сша-аргентина', 'израиль-сша-франция',\n",
       "       'сша - новая зеландия - япония',\n",
       "       'франция - чехия - великобритания', 'россия-польша',\n",
       "       'германия-франция-великобритания', 'сша-германия-канада',\n",
       "       'сша-гонконг-китай', 'сша - великобритания - германия',\n",
       "       'сша-канада-австралия', 'япония-сша-франция',\n",
       "       'франция-испания-германия', 'сша - хорватия - босния-герцеговина',\n",
       "       'великобритания - чехия - франция - италия',\n",
       "       'сша - германия - нидерланды', 'германия - франция - канада',\n",
       "       'франция-грузия-германия-россия-украина-бельгия',\n",
       "       'великобритания - франция - италия', 'россия - сша',\n",
       "       'франция - италия - иран', 'россия - азербайджан', 'греция',\n",
       "       'дания - сша', 'сша-великобритания-новая зеландия',\n",
       "       'сша-германия-австралия', 'сша-канада-италия',\n",
       "       'сша - япония - германия', 'австралия-сша',\n",
       "       'франция - великобритания - багамские острова - сша',\n",
       "       'швейцария - люксембург', 'швейцария - австрия',\n",
       "       'германия - швейцария', 'дания-швеция-франция-германия', 'польша',\n",
       "       'швейцария-австрия', 'бразилия - канада - сша',\n",
       "       'нидерланды - россия', 'португалия', 'франция-аргентина',\n",
       "       'швеция-франция', 'франция-украина', 'германия-украина-нидерланды',\n",
       "       'италия-швейцария', 'сша-германия-великобритания',\n",
       "       'латвия - россия', 'германия-франция-великобритания-сша',\n",
       "       'канада - италия', 'сша - объединенные арабские эмираты',\n",
       "       'сша-венгрия', 'малайзия', 'россия - германия - украина',\n",
       "       'сша - австралия - мексика', 'литва - венгрия', 'германия - китай',\n",
       "       'казахстан', 'республика корея',\n",
       "       'сша - германия - франция - великобритания - канада',\n",
       "       'бельгия - германия - люксембург - франция', 'франция - греция',\n",
       "       'италия - канада', 'сша - великобритания - франция',\n",
       "       'сша-италия-греция', 'германия - сша - великобритания - ирландия',\n",
       "       'великобритания - франция - германия',\n",
       "       'германия - нидерланды - юар',\n",
       "       'сша-япония-германия-великобритания-нидерланды',\n",
       "       'сша-япония-германия-великобритания',\n",
       "       'германия - франция - польша',\n",
       "       'таиланд-великобритания-франция-германия-испания-нидерланды',\n",
       "       'германия-италия-швейцария',\n",
       "       'дания - швеция - великобритания - франция - германия - нидерланды - норвегия - финляндия',\n",
       "       'франция - великобритания - нидерланды - люксембург',\n",
       "       'нидерланды-великобритания-франция-италия-япония',\n",
       "       'финляндия-дания-германия-ирландия', 'испания-аргентина',\n",
       "       'великобритания - нидерланды - франция - сша', 'канада - мексика',\n",
       "       'сша, франция', 'канада-южная корея-сша',\n",
       "       'великобритания - франция - бельгия - сша', 'кнр - канада - сша',\n",
       "       'италия - франция - германия',\n",
       "       'швеция - германия - франция - дания', 'франция - сша - бельгия',\n",
       "       'украина - германия - латвия - эстония', 'австрия - люксембург',\n",
       "       'великобритания - кнр', 'монголия', 'франция - дания',\n",
       "       'швеция - дания - финляндия',\n",
       "       'сингапур - великобритания - индонезия - канада - сша',\n",
       "       'сша - германия - япония', 'таиланд - сша', 'франция - нидерланды',\n",
       "       'великобритания - румыния', 'сша - мальта',\n",
       "       'великобритания - германия - нидерланды - дания',\n",
       "       'франция - германия - литва - нидерланды - россия',\n",
       "       'сша - юар - гонконг', 'австралия - колумбия',\n",
       "       'великобритания - польша', 'сша - великобритания - швеция',\n",
       "       'франция - швеция - дания - норвегия', 'болгария - сша',\n",
       "       'ссср, фрг', 'бельгия - нидерланды - франция',\n",
       "       'финляндия - германия', 'болгария',\n",
       "       'грузия - россия - украина - хорватия - германия',\n",
       "       'франция - люксембург', 'франция - германия - австрия',\n",
       "       'норвегия - сша', 'германия-швеция', 'франция - германия - италия',\n",
       "       'франция-германия-австрия', 'кнр-сша',\n",
       "       'дания - латвия - россия - сша', 'финляндия - польша',\n",
       "       'германия - бельгия', 'германия - сша - франция - испания',\n",
       "       'нидерланды - бельгия - люксембург', 'канада-германия',\n",
       "       'люксембург - бельгия - франция', 'сша-великобритания-австралия',\n",
       "       'великобритания, новая зеландия', 'бельгия, великобритания, сша',\n",
       "       'великобритания, австралия', 'исландия, бельгия',\n",
       "       'испания - швейцария - великобритания - германия - новая зеландия - нидерланды - канада',\n",
       "       'франция, бельгия', 'великобритания, сша', 'киргизия-россия',\n",
       "       'германия, сша', 'великобритания, сша, испания',\n",
       "       'италия - швейцария - германия', 'россия, армения',\n",
       "       'франция, германия', 'китай, канада, сша', 'германия, австралия',\n",
       "       'кнр, сша', 'сша, великобритания, люксембург',\n",
       "       'испания, ирландия, бельгия, франция',\n",
       "       'великобритания - гонконг - венгрия - сша - ирландия',\n",
       "       'сша - пуэрто рико', 'аргентина - испания - уругвай',\n",
       "       'израиль - германия - франция - швейцария',\n",
       "       'великобритания - мексика - сша', 'испания - болгария - сша',\n",
       "       'россия-словакия-чехия',\n",
       "       'швейцария - кнр - сша - россия - республика корея - великобритания',\n",
       "       'россия, нидерланды, финляндия',\n",
       "       'испания - бельгия - франция - португалия - великобритания',\n",
       "       'бразилия - португалия - франция', 'швеция - норвегия',\n",
       "       'франция - польша - бельгия', 'cша', 'китай, сша',\n",
       "       'италия, франция, германия', 'германия - австрия - франция',\n",
       "       'чехия - словакия - хорватия', 'россия, польша, финляндия',\n",
       "       'россия, латвия, чешская республика',\n",
       "       'франция - великобритания - камбоджа - сша - кнр',\n",
       "       'чехия - испания - сша', 'германия - люксембург - дания',\n",
       "       'великобритания - испания - германия', 'дания - исландия',\n",
       "       'великобритания - испания - италия - латвия - франция - эстония',\n",
       "       'польша - франция - великобритания',\n",
       "       'дания, норвегия, венгрия, чехия',\n",
       "       'дания - франция - германия - швеция',\n",
       "       'великобритания, швеция, сша',\n",
       "       'канада, франция, италия, швейцария, сша', 'сша, индия',\n",
       "       'сша - великобритания - германия - - швеция - канада',\n",
       "       'италия, франция', 'республика беларусь, германия, сша, россия',\n",
       "       'италия-швейцария-франция-германия',\n",
       "       'россия - франция - великобритания - латвия', 'россия-беларусь',\n",
       "       'франция - испания - румыния - сша - бельгия', 'италия-сша',\n",
       "       'россия, австрия', 'ирландия - великобритания - сша',\n",
       "       'швейцария, великобритания, франция, сша, ирландия',\n",
       "       'мексика, франция, германия, дания, швеция', 'нидерланды, бельгия',\n",
       "       'швеция, норвегия, финляндия, франция', 'испания, франция, италия',\n",
       "       'испания-франция-греция-индия-сша-россия-великобритания',\n",
       "       'великобритания - япония - сша',\n",
       "       'дания, канада, норвегия, австралия, сша', 'аргентина, испания',\n",
       "       'россия, германия, казахстан, польша, китай',\n",
       "       'португалия, франция, польша, сша', 'сша - канада - аргентина',\n",
       "       'ливан-сша', 'япония - сша', 'сша, гонконг',\n",
       "       'франция - россия - швейцария - румыния - венгрия',\n",
       "       'аргентина-испания', 'россия, сербия', 'сша - болгария - мексика',\n",
       "       'сша - великобритания - швейцария - франция',\n",
       "       'таиланд - кнр - сша',\n",
       "       'великобритания, нидерланды, польша, швейцария, франция',\n",
       "       'ирландия - сша',\n",
       "       'германия - франция - великобритания - польша - сша',\n",
       "       'сша - австралия - индия', 'франция - кнр',\n",
       "       'великобритания - израиль',\n",
       "       'великобритания - норвегия - кения - хорватия',\n",
       "       'сша - бразилия - великобритания - канада', 'германия, бельгия',\n",
       "       'австралия, канада', 'сша, великобритания, франция',\n",
       "       'кения, германия', 'нидерланды, бельгия, люксембург', 'колумбия',\n",
       "       'латвия - франция', 'ирландия, великобритания',\n",
       "       'франция - израиль - германия', 'швеция, франция, великобритания',\n",
       "       'бельгия - люксембург', 'германия - бельгия - великобритания',\n",
       "       'испания, франция, великобритания, дания, бельгия, германия',\n",
       "       'румыния, юар, иран, франция, канада, великобритания',\n",
       "       'германия, франция', 'сша, япония',\n",
       "       'сша, великобритания, ирландия, люксембург', 'республика армения',\n",
       "       'сша, франция, япония', 'япония, сша', 'канада, сша',\n",
       "       'республика кипр - россия',\n",
       "       'дания - франция - италия - бельгия - нидерланды',\n",
       "       'россия - грузия', 'италия, германия', 'норвегия, швеция, дания',\n",
       "       'республика кипр, россия', 'кнр, индия, гонконг, сша',\n",
       "       'израиль, украина', 'сша, россия', 'сша - кнр - индия - ю.корея',\n",
       "       'сша - швеция', 'россия-китай', 'канада, великобритания',\n",
       "       'канада, сша, каймановы острова',\n",
       "       'бразилия, уругвай, дания, норвегия, чили, швеция',\n",
       "       'пуэрто-рико, великобритания, сша',\n",
       "       'уругвай - аргентина - испания',\n",
       "       'сша - великобритания - италия - израиль - сербия - индия',\n",
       "       'сша - канада - франция - индия', 'великобритания - россия - кнр',\n",
       "       'франция, новая зеландия', 'франция, люксембург, бельгия',\n",
       "       'канада, сша, норвегия', 'италия, испания',\n",
       "       'испания - германия - нидерланды', 'бразилия - сша - кнр',\n",
       "       'великобритания, германия, дания, сша', '2019',\n",
       "       'италия - фрация - бразилия - германия',\n",
       "       'норвегия - швеция - россия', 'великобритания, япония, сша',\n",
       "       'сша, канада', 'бельгия, канада',\n",
       "       'великобритания - австралия - сша', 'франция - финляндия',\n",
       "       'колумбия - сша', 'великобритания, франция, бельгия',\n",
       "       'норвегия - нидерланды', 'великобритания, канада, сша',\n",
       "       'япония, великобритания', 'италия - бельгия - франция',\n",
       "       'россия, бельгия, финляндия', 'сша, украина', 'франция, норвегия',\n",
       "       'великобритания, южная корея, канада, сша, индия, китай, япония',\n",
       "       'канада - норвегия', 'республика кипр-россия', 'германия, россия',\n",
       "       'польша - франция - испания - бразилия - швеция',\n",
       "       'австрия, великобритания, германия', 'франция - сенегал - бельгия',\n",
       "       'франция, бельгия, люксембург', 'финляндия, латвия', 'пакистан',\n",
       "       'германия, франция, сша', 'германия - великобритания - сша',\n",
       "       'кнр - франция', 'дания, норвегия, швеция, исландия',\n",
       "       'республика кипр, сша, россия', 'новая зеландия - кнр',\n",
       "       'дания - канада - швеция - франция - германия - великобритания - сша'],\n",
       "      dtype=object)"
      ]
     },
     "execution_count": 54,
     "metadata": {},
     "output_type": "execute_result"
    }
   ],
   "source": [
    "data['production_country'].unique()"
   ]
  },
  {
   "cell_type": "code",
   "execution_count": 55,
   "metadata": {},
   "outputs": [
    {
     "data": {
      "text/plain": [
       "array(['«18+» - запрещено для детей', '«6+» - для детей старше 6 лет',\n",
       "       '«12+» - для детей старше 12 лет',\n",
       "       '«16+» - для детей старше 16 лет',\n",
       "       '«0+» - для любой зрительской аудитории'], dtype=object)"
      ]
     },
     "execution_count": 55,
     "metadata": {},
     "output_type": "execute_result"
    }
   ],
   "source": [
    "data['age_restriction'].unique()"
   ]
  },
  {
   "cell_type": "code",
   "execution_count": 56,
   "metadata": {},
   "outputs": [
    {
     "data": {
      "text/plain": [
       "array([nan, 'Министерство культуры', 'Фонд кино',\n",
       "       'Министерство культуры, Фонд кино'], dtype=object)"
      ]
     },
     "execution_count": 56,
     "metadata": {},
     "output_type": "execute_result"
    }
   ],
   "source": [
    "data['financing_source'].unique()"
   ]
  },
  {
   "cell_type": "code",
   "execution_count": 57,
   "metadata": {
    "scrolled": true
   },
   "outputs": [
    {
     "data": {
      "text/plain": [
       "array(['боевик,драма,мелодрама', 'драма,военный',\n",
       "       'фантастика,боевик,триллер', 'драма', 'мелодрама,комедия',\n",
       "       'мюзикл,мелодрама,комедия', 'комедия,криминал',\n",
       "       'боевик,триллер,детектив', 'боевик,драма,приключения',\n",
       "       'драма,спорт', 'триллер,драма,мелодрама', 'комедия,мелодрама',\n",
       "       'драма,мелодрама,комедия', 'драма,мелодрама', 'драма,история',\n",
       "       'драма,мелодрама,семейный', 'комедия,мелодрама,криминал',\n",
       "       'комедия', 'боевик,драма,криминал', 'драма,комедия',\n",
       "       'ужасы,фантастика,комедия', 'мультфильм,короткометражка,мелодрама',\n",
       "       'драма,криминал', 'мультфильм,фантастика,фэнтези',\n",
       "       'триллер,драма,криминал', 'драма,мелодрама,биография',\n",
       "       'драма,комедия,военный', 'фантастика,драма,детектив',\n",
       "       'мюзикл,семейный', nan, 'военный,приключения,драма',\n",
       "       'документальный,драма', 'драма,биография,история',\n",
       "       'боевик,триллер,драма', 'фэнтези,боевик',\n",
       "       'боевик,комедия,криминал', 'мюзикл,комедия,детский',\n",
       "       'комедия,мелодрама,драма', 'мультфильм,фэнтези,комедия',\n",
       "       'комедия,история', 'мелодрама', 'драма,биография,музыка',\n",
       "       'фэнтези,драма,мелодрама', 'триллер,военный',\n",
       "       'драма,мелодрама,военный', 'мюзикл,драма,мелодрама',\n",
       "       'мюзикл,комедия', 'мультфильм,приключения,семейный',\n",
       "       'ужасы,триллер', 'боевик,драма,военный', 'драма,боевик',\n",
       "       'мультфильм,драма,комедия', 'триллер,криминал',\n",
       "       'военный,биография,драма', 'комедия,семейный', 'военный',\n",
       "       'драма,семейный,биография', 'фэнтези,приключения,семейный',\n",
       "       'драма,криминал,биография', 'ужасы,триллер,детектив',\n",
       "       'боевик,история,драма', 'ужасы,триллер,драма',\n",
       "       'драма,криминал,спорт', 'документальный,короткометражка',\n",
       "       'триллер,драма', 'криминал,детектив,приключения',\n",
       "       'драма,комедия,криминал', 'драма,комедия,вестерн',\n",
       "       'драма,мелодрама,детектив', 'мелодрама,биография',\n",
       "       'фэнтези,мелодрама,драма', 'драма,мелодрама,история',\n",
       "       'комедия,приключения,история', 'приключения', 'драма,семейный',\n",
       "       'криминал,детектив', 'мультфильм,короткометражка,ужасы',\n",
       "       'фантастика,триллер,драма', 'фэнтези,мелодрама,комедия',\n",
       "       'драма,биография', 'комедия,криминал,история',\n",
       "       'триллер,драма,детектив', 'фантастика,комедия,приключения',\n",
       "       'фэнтези,семейный', 'ужасы,фантастика,боевик',\n",
       "       'мелодрама,криминал', 'комедия,приключения,мелодрама',\n",
       "       'боевик,триллер,приключения', 'боевик,приключения',\n",
       "       'боевик,триллер,криминал', 'документальный,военный,история',\n",
       "       'драма,музыка', 'боевик,драма', 'приключения,боевик',\n",
       "       'драма,военный,биография', 'триллер,драма,приключения',\n",
       "       'аниме,мультфильм,фэнтези', 'триллер,детектив,драма',\n",
       "       'боевик,триллер,мелодрама', 'боевик,история',\n",
       "       'приключения,история', 'драма,комедия,приключения',\n",
       "       'фэнтези,комедия,приключения', 'драма,вестерн',\n",
       "       'документальный,музыка', 'мелодрама,драма',\n",
       "       'триллер,криминал,детектив', 'ужасы', 'боевик,комедия,приключения',\n",
       "       'мультфильм,фэнтези,боевик', 'боевик,фэнтези,драма',\n",
       "       'фэнтези,драма', 'фэнтези,боевик,комедия',\n",
       "       'приключения,детский,комедия', 'документальный',\n",
       "       'боевик,триллер,комедия', 'мелодрама,комедия,криминал',\n",
       "       'драма,детектив', 'мюзикл,ужасы,триллер', 'детектив,триллер,ужасы',\n",
       "       'ужасы,фэнтези', 'ужасы,фэнтези,триллер', 'мультфильм,драма',\n",
       "       'ужасы,боевик,фантастика', 'боевик', 'фантастика,боевик',\n",
       "       'мелодрама,комедия,приключения', 'триллер,детектив',\n",
       "       'мюзикл,мелодрама,фэнтези', 'криминал', 'триллер,комедия,криминал',\n",
       "       'боевик,приключения,триллер', 'триллер,драма,военный',\n",
       "       'комедия,семейный,музыка', 'комедия,фантастика,мелодрама',\n",
       "       'фантастика,триллер,криминал', 'комедия,драма', 'боевик,военный',\n",
       "       'ужасы,фантастика,триллер', 'фантастика,драма,мелодрама',\n",
       "       'фэнтези,драма,детектив', 'боевик,триллер', 'боевик,драма,история',\n",
       "       'мультфильм,мюзикл,фэнтези', 'для взрослых,драма,мелодрама',\n",
       "       'мультфильм,боевик,детектив', 'фантастика,мелодрама,боевик',\n",
       "       'ужасы,фантастика,детектив', 'фантастика,боевик,приключения',\n",
       "       'мелодрама,комедия,спорт', 'комедия,боевик,приключения',\n",
       "       'документальный,приключения', 'мультфильм,короткометражка,детский',\n",
       "       'комедия,приключения', 'ужасы,драма', 'ужасы,фэнтези,боевик',\n",
       "       'мультфильм,фэнтези,детский', 'мюзикл,боевик,драма',\n",
       "       'семейный,комедия,драма', 'концерт,музыка', 'фэнтези,боевик,драма',\n",
       "       'драма,комедия,музыка', 'фантастика,фэнтези,боевик',\n",
       "       'фэнтези,комедия,семейный', 'фэнтези,драма,комедия',\n",
       "       'мультфильм,мюзикл,драма', 'триллер', 'боевик,криминал,триллер',\n",
       "       'мультфильм,приключения,драма', 'мелодрама,музыка',\n",
       "       'документальный,музыка,концерт', 'мультфильм,семейный',\n",
       "       'мультфильм,комедия,приключения', 'мультфильм,комедия,семейный',\n",
       "       'фантастика,драма', 'фэнтези,боевик,приключения',\n",
       "       'мультфильм,приключения', 'драма,военный,история', 'история',\n",
       "       'драма,приключения,военный',\n",
       "       'документальный,короткометражка,семейный',\n",
       "       'мелодрама,история,триллер', 'ужасы,детектив',\n",
       "       'мюзикл,комедия,приключения', 'драма,спорт,биография',\n",
       "       'фантастика,боевик,комедия', 'фантастика,приключения,детектив',\n",
       "       'короткометражка,драма,военный', 'драма,мультфильм',\n",
       "       'приключения,семейный', 'детектив', 'триллер,приключения',\n",
       "       'аниме,мультфильм,боевик', 'драма,комедия,биография',\n",
       "       'драма,комедия,спорт', 'боевик,мелодрама,комедия',\n",
       "       'семейный,комедия', 'фэнтези,боевик,триллер',\n",
       "       'документальный,фэнтези,семейный', 'фантастика,фэнтези,драма',\n",
       "       'ужасы,комедия,фэнтези', 'документальный,биография,музыка',\n",
       "       'фантастика,боевик,фэнтези', 'ужасы,боевик,триллер',\n",
       "       'комедия,криминал,семейный', 'приключения,драма',\n",
       "       'криминал,драма,триллер', 'драма,детектив,криминал',\n",
       "       'фэнтези,приключения,комедия', 'комедия,спорт',\n",
       "       'мюзикл,фэнтези,мелодрама', 'мультфильм,фэнтези,приключения',\n",
       "       'фантастика,фэнтези,приключения', 'фэнтези',\n",
       "       'фэнтези,приключения,боевик', 'фантастика,боевик,драма',\n",
       "       'криминал,драма', 'криминал,триллер,драма',\n",
       "       'драма,мелодрама,приключения', 'детский,комедия',\n",
       "       'фантастика,драма,боевик', 'мультфильм,семейный,фэнтези',\n",
       "       'концерт,музыка,документальный', 'ужасы,комедия,приключения',\n",
       "       'драма,мелодрама,криминал', 'ужасы,фантастика,фэнтези',\n",
       "       'боевик,комедия', 'мультфильм,фантастика,комедия', 'триллер,ужасы',\n",
       "       'мультфильм,мюзикл,комедия', 'мелодрама,фэнтези,триллер',\n",
       "       'детский,приключения,комедия', 'комедия,детектив',\n",
       "       'аниме,мультфильм,мелодрама', 'документальный,драма,семейный',\n",
       "       'документальный,биография,история', 'военный,боевик,драма',\n",
       "       'ужасы,комедия', 'комедия,приключения,семейный',\n",
       "       'приключения,биография,история', 'детский,приключения,семейный',\n",
       "       'спорт,драма,биография', 'аниме,мультфильм,ужасы',\n",
       "       'фантастика,боевик,криминал', 'мюзикл,драма',\n",
       "       'драма,криминал,детектив', 'аниме,мультфильм,драма',\n",
       "       'драма,триллер,приключения', 'триллер,криминал,драма',\n",
       "       'фэнтези,комедия,драма', 'мультфильм,комедия',\n",
       "       'драма,комедия,история', 'комедия,биография,история',\n",
       "       'мультфильм,фантастика,приключения', 'аниме,мультфильм,фантастика',\n",
       "       'мультфильм,фэнтези,семейный', 'мультфильм,боевик,комедия',\n",
       "       'комедия,криминал,спорт', 'документальный,мюзикл',\n",
       "       'мелодрама,комедия,музыка', 'биография',\n",
       "       'триллер,криминал,комедия', 'фантастика,драма,комедия',\n",
       "       'комедия,драма,мелодрама', 'фантастика,приключения,боевик',\n",
       "       'мультфильм,фэнтези,драма', 'триллер,комедия',\n",
       "       'драма,приключения,биография', 'фантастика,комедия',\n",
       "       'мелодрама,драма,комедия', 'боевик,криминал',\n",
       "       'драма,криминал,боевик', 'мультфильм,мюзикл,детский',\n",
       "       'драма,фэнтези', 'документальный,семейный',\n",
       "       'фэнтези,драма,приключения', 'ужасы,комедия,фантастика',\n",
       "       'драма,мелодрама,музыка', 'фэнтези,драма,семейный',\n",
       "       'триллер,мелодрама,драма', 'вестерн,боевик,драма',\n",
       "       'мультфильм,короткометражка,комедия', 'триллер,драма,история',\n",
       "       'ужасы,фантастика', 'ужасы,мелодрама,комедия',\n",
       "       'фэнтези,приключения', 'фантастика,триллер',\n",
       "       'ужасы,боевик,фэнтези', 'мультфильм,комедия,детский',\n",
       "       'триллер,драма,биография', 'мультфильм,ужасы,фэнтези',\n",
       "       'мультфильм,ужасы,фантастика', 'ужасы,боевик,комедия',\n",
       "       'драма,биография,спорт', 'мультфильм', 'мелодрама,комедия,драма',\n",
       "       'приключения,фантастика,семейный', 'комедия,криминал,детектив',\n",
       "       'ужасы,триллер,комедия', 'криминал,комедия,триллер',\n",
       "       'семейный,приключения,комедия', 'мультфильм,драма,приключения',\n",
       "       'ужасы,драма,детектив', 'драма,приключения,фэнтези',\n",
       "       'фантастика,мультфильм,драма', 'концерт', 'драма,триллер,детектив',\n",
       "       'драма,история,музыка', 'детский', 'триллер,боевик,криминал',\n",
       "       'драма,фантастика', 'комедия,драма,семейный',\n",
       "       'боевик,драма,комедия', 'комедия,ужасы',\n",
       "       'драма,фантастика,триллер', 'фантастика,драма,триллер',\n",
       "       'история,спорт,драма', 'документальный,биография',\n",
       "       'биография,история', 'спорт,драма', 'боевик,фэнтези',\n",
       "       'мультфильм,фэнтези', 'документальный,комедия,история',\n",
       "       'криминал,комедия,боевик', 'фэнтези,приключения,драма',\n",
       "       'музыка,концерт', 'триллер,драма,боевик',\n",
       "       'комедия,криминал,боевик', 'комедия,фантастика,боевик',\n",
       "       'вестерн,приключения,боевик', 'аниме,мультфильм,комедия',\n",
       "       'детектив,криминал,триллер', 'мультфильм,комедия,криминал',\n",
       "       'комедия,приключения,детектив', 'мелодрама,фантастика,драма',\n",
       "       'драма,комедия,семейный', 'приключения,фантастика',\n",
       "       'триллер,детектив,ужасы', 'комедия,приключения,фэнтези',\n",
       "       'фэнтези,триллер,драма', 'мелодрама,приключения,боевик',\n",
       "       'детектив,триллер,криминал', 'фэнтези,семейный,мелодрама',\n",
       "       'военный,драма', 'документальный,приключения,семейный',\n",
       "       'криминал,комедия,драма', 'комедия,фантастика',\n",
       "       'история,биография,драма', 'мелодрама,драма,музыка',\n",
       "       'боевик,мелодрама', 'комедия,криминал,триллер',\n",
       "       'детектив,триллер,боевик', 'комедия,боевик,криминал',\n",
       "       'комедия,вестерн', 'детский,мелодрама,семейный',\n",
       "       'короткометражка,мультфильм', 'комедия,фэнтези',\n",
       "       'фантастика,драма,ужасы', 'триллер,драма,ужасы',\n",
       "       'драма,фэнтези,история', 'комедия,драма,короткометражка',\n",
       "       'фэнтези,триллер,приключения', 'семейный',\n",
       "       'комедия,криминал,драма', 'комедия,фэнтези,ужасы',\n",
       "       'короткометражка,комедия,криминал', 'фантастика',\n",
       "       'триллер,ужасы,драма', 'мелодрама,драма,фэнтези',\n",
       "       'фантастика,приключения,драма', 'боевик,детектив',\n",
       "       'военный,драма,боевик', 'комедия,мелодрама,фэнтези',\n",
       "       'вестерн,криминал,триллер', 'драма,история,триллер',\n",
       "       'мультфильм,фантастика,боевик', 'детектив,драма,криминал',\n",
       "       'приключения,история,драма', 'мультфильм,семейный,детский',\n",
       "       'биография,драма,история', 'триллер,криминал,боевик',\n",
       "       'история,мелодрама', 'приключения,детский',\n",
       "       'музыка,приключения,концерт', 'военный,драма,комедия',\n",
       "       'фэнтези,боевик,военный', 'фантастика,детектив,боевик',\n",
       "       'мультфильм,фэнтези,история', 'биография,мелодрама,драма',\n",
       "       'документальный,биография,спорт', 'фантастика,комедия,детектив',\n",
       "       'музыка,концерт,документальный', 'триллер,боевик,приключения',\n",
       "       'триллер,драма,комедия', 'детектив,криминал',\n",
       "       'мультфильм,приключения,фэнтези', 'мелодрама,приключения',\n",
       "       'комедия,музыка', 'мелодрама,комедия,ужасы',\n",
       "       'драма,криминал,приключения', 'приключения,детектив,мелодрама',\n",
       "       'драма,криминал,фантастика', 'фэнтези,драма,биография',\n",
       "       'детектив,фантастика,криминал', 'триллер,драма,фантастика',\n",
       "       'ужасы,комедия,боевик', 'мелодрама,история', 'триллер,боевик',\n",
       "       'фильм-нуар,триллер,детектив', 'комедия,криминал,приключения',\n",
       "       'ужасы,триллер,мелодрама', 'военный,драма,история',\n",
       "       'драма,спорт,история', 'документальный,драма,история',\n",
       "       'триллер,мелодрама,детектив', 'детский,семейный',\n",
       "       'мюзикл,семейный,драма', 'биография,военный,драма',\n",
       "       'мультфильм,детский', 'боевик,криминал,драма',\n",
       "       'детектив,фэнтези,триллер', 'драма,боевик,приключения',\n",
       "       'драма,мелодрама,фэнтези', 'детектив,история,драма',\n",
       "       'фэнтези,боевик,ужасы', 'ужасы,фэнтези,мелодрама',\n",
       "       'ужасы,приключения', 'боевик,фантастика',\n",
       "       'ужасы,мелодрама,детектив', 'фантастика,триллер,приключения',\n",
       "       'боевик,приключения,история', 'приключения,боевик,триллер',\n",
       "       'детектив,ужасы,криминал', 'семейный,фэнтези', 'мюзикл,мелодрама',\n",
       "       'драма,военный,приключения', 'фантастика,драма,приключения',\n",
       "       'приключения,семейный,драма', 'история,драма,боевик',\n",
       "       'мультфильм,приключения,комедия', 'криминал,драма,комедия',\n",
       "       'ужасы,комедия,драма', 'комедия,семейный,приключения',\n",
       "       'мюзикл,фэнтези,драма', 'драма,вестерн,боевик',\n",
       "       'фантастика,триллер,детектив', 'драма,история,детектив',\n",
       "       'короткометражка,биография', 'мультфильм,приключения,фантастика',\n",
       "       'комедия,триллер', 'мультфильм,приключения,детектив',\n",
       "       'драма,триллер', 'ужасы,триллер,криминал',\n",
       "       'документальный,криминал,военный', 'ужасы,фэнтези,драма',\n",
       "       'фэнтези,комедия', 'ужасы,фэнтези,комедия', 'комедия,музыка,драма',\n",
       "       'мультфильм,приключения,военный', 'мюзикл,фэнтези,комедия',\n",
       "       'боевик,фантастика,приключения', 'триллер,ужасы,криминал',\n",
       "       'ужасы,фантастика,драма', 'фантастика,приключения,семейный',\n",
       "       'короткометражка,музыка', 'мелодрама,детектив,комедия',\n",
       "       'документальный,триллер,биография', 'боевик,фантастика,триллер',\n",
       "       'спорт,драма,комедия', 'фэнтези,мелодрама,приключения',\n",
       "       'триллер,детектив,криминал', 'короткометражка,мелодрама',\n",
       "       'мультфильм,семейный,спорт', 'комедия,фэнтези,мелодрама',\n",
       "       'драма,спорт,комедия', 'история,драма,мелодрама',\n",
       "       'драма,боевик,криминал', 'драма,комедия,триллер',\n",
       "       'аниме,мультфильм', 'документальный,ужасы',\n",
       "       'мультфильм,короткометражка', 'драма,история,военный',\n",
       "       'мультфильм,короткометражка,фэнтези', 'комедия,военный,музыка',\n",
       "       'биография,история,драма', 'ужасы,драма,мелодрама',\n",
       "       'драма,комедия,детектив', 'комедия,семейный,фантастика',\n",
       "       'мультфильм,семейный,комедия', 'история,детектив',\n",
       "       'приключения,мелодрама,детектив', 'мюзикл,комедия,мелодрама',\n",
       "       'драма,фантастика,ужасы', 'мультфильм,ужасы,комедия',\n",
       "       'для взрослых,драма,комедия', 'ужасы,комедия,музыка',\n",
       "       'комедия,история,драма', 'семейный,детектив,детский',\n",
       "       'короткометражка,драма', 'документальный,новости,драма',\n",
       "       'триллер,мелодрама', 'ужасы,драма,вестерн',\n",
       "       'мюзикл,фэнтези,семейный', 'вестерн,драма,триллер',\n",
       "       'приключения,вестерн,боевик', 'семейный,комедия,музыка',\n",
       "       'боевик,драма,вестерн', 'ужасы,драма,триллер',\n",
       "       'фантастика,мелодрама', 'комедия,криминал,биография',\n",
       "       'семейный,мультфильм,комедия', 'комедия,драма,криминал',\n",
       "       'фантастика,боевик,военный', 'приключения,биография,драма',\n",
       "       'приключения,триллер,биография', 'криминал,боевик,триллер',\n",
       "       'боевик,вестерн,приключения', 'история,драма',\n",
       "       'фантастика,фэнтези,комедия', 'мультфильм,детский,комедия',\n",
       "       'мелодрама,комедия,триллер', 'документальный,боевик,приключения',\n",
       "       'драма,приключения', 'мелодрама,военный,драма', 'триллер,фэнтези',\n",
       "       'драма,триллер,биография', 'фэнтези,боевик,семейный',\n",
       "       'фантастика,триллер,комедия', 'документальный,фэнтези',\n",
       "       'комедия,мультфильм,фантастика', 'криминал,биография,комедия',\n",
       "       'биография,спорт,драма', 'приключения,военный',\n",
       "       'мультфильм,семейный,драма', 'документальный,фэнтези,драма',\n",
       "       'комедия,боевик,фантастика', 'семейный,приключения,военный',\n",
       "       'триллер,ужасы,детектив', 'короткометражка',\n",
       "       'мелодрама,триллер,история', 'документальный,история',\n",
       "       'мультфильм,приключения,детский', 'драма,комедия,мультфильм',\n",
       "       'военный,детектив', 'семейный,приключения,документальный',\n",
       "       'детский,фэнтези', 'документальный,комедия', 'комедия,биография',\n",
       "       'криминал,комедия', 'спорт,мелодрама,криминал',\n",
       "       'фантастика,комедия,боевик', 'боевик,приключения,детектив',\n",
       "       'детектив,триллер,драма', 'документальный,фантастика',\n",
       "       'мелодрама,комедия,семейный', 'мультфильм,мелодрама,комедия',\n",
       "       'драма,спорт,семейный', 'фантастика,мелодрама,фэнтези',\n",
       "       'мюзикл,комедия,музыка', 'фантастика,триллер,мелодрама',\n",
       "       'приключения,комедия,фэнтези', 'фэнтези,боевик,детектив',\n",
       "       'фэнтези,боевик,мелодрама', 'комедия,военный',\n",
       "       'драма,спорт,боевик', 'мультфильм,боевик,триллер',\n",
       "       'мелодрама,семейный', 'фантастика,боевик,детектив',\n",
       "       'драма,приключения,история', 'документальный,драма,музыка',\n",
       "       'фантастика,триллер,боевик', 'фэнтези,боевик,вестерн',\n",
       "       'драма,комедия,мелодрама', 'ужасы,фэнтези,приключения',\n",
       "       'триллер,фэнтези,драма', 'мультфильм,мюзикл,мелодрама',\n",
       "       'ужасы,триллер,фантастика', 'триллер,мелодрама,комедия',\n",
       "       'ужасы,комедия,семейный', 'комедия,приключения,музыка',\n",
       "       'документальный,комедия,криминал', 'мелодрама,детектив',\n",
       "       'детский,приключения,фантастика', 'короткометражка,боевик,драма',\n",
       "       'боевик,комедия,семейный', 'фантастика,боевик,мелодрама',\n",
       "       'фэнтези,триллер,мелодрама', 'драма,детектив,история',\n",
       "       'боевик,криминал,детектив', 'мультфильм,фэнтези,мелодрама',\n",
       "       'мелодрама,драма,боевик', 'драма,вестерн,приключения',\n",
       "       'драма,приключения,мелодрама', 'фэнтези,боевик,криминал',\n",
       "       'фантастика,комедия,семейный', 'детский,фэнтези,приключения',\n",
       "       'ужасы,боевик', 'фантастика,мелодрама,комедия',\n",
       "       'семейный,спорт,боевик', 'триллер,биография,драма',\n",
       "       'ужасы,драма,комедия', 'мультфильм,фэнтези,триллер', 'мюзикл',\n",
       "       'боевик,спорт,драма', 'комедия,приключения,вестерн',\n",
       "       'документальный,ужасы,боевик', 'фантастика,боевик,семейный',\n",
       "       'военный,история', 'ужасы,боевик,криминал', 'детектив,триллер',\n",
       "       'драма,семейный,комедия', 'драма,детектив,приключения',\n",
       "       'драма,криминал,история', 'приключения,триллер',\n",
       "       'боевик,драма,биография', 'драма,приключения,триллер',\n",
       "       'комедия,фэнтези,приключения', 'фантастика,боевик,ужасы',\n",
       "       'драма,комедия,фантастика', 'детектив,криминал,драма',\n",
       "       'боевик,триллер,фэнтези', 'приключения,детектив,семейный',\n",
       "       'ужасы,комедия,криминал', 'мультфильм,биография,драма',\n",
       "       'история,боевик,фэнтези', 'детектив,криминал,боевик',\n",
       "       'приключения,фэнтези', 'комедия,приключения,спорт',\n",
       "       'драма,биография,мюзикл', 'комедия,семейный,фэнтези',\n",
       "       'детектив,драма,триллер', 'боевик,приключения,семейный',\n",
       "       'биография,спорт,комедия', 'фантастика,приключения,военный',\n",
       "       'документальный,драма,биография', 'детектив,приключения,драма',\n",
       "       'аниме,мультфильм,приключения', 'семейный,приключения',\n",
       "       'ужасы,фэнтези,детектив', 'семейный,документальный',\n",
       "       'драма,приключения,семейный', 'приключения,история,военный',\n",
       "       'фэнтези,мелодрама', 'фэнтези,триллер,детектив',\n",
       "       'документальный,спорт,биография', 'комедия,триллер,драма',\n",
       "       'драма,ужасы', 'биография,музыка,драма', 'фэнтези,ужасы',\n",
       "       'детектив,мелодрама,фэнтези', 'боевик,военный,история',\n",
       "       'биография,драма,криминал', 'триллер,мелодрама,криминал',\n",
       "       'семейный,мелодрама', 'биография,драма', 'военный,история,драма',\n",
       "       'фантастика,детектив,фэнтези', 'детектив,приключения,триллер',\n",
       "       'фантастика,приключения', 'мультфильм,короткометражка,мюзикл',\n",
       "       'мультфильм,детский,семейный', 'документальный,драма,комедия',\n",
       "       'комедия,приключения,криминал', 'документальный,семейный,музыка',\n",
       "       'мелодрама,музыка,драма', 'детектив,фантастика,триллер',\n",
       "       'драма,мелодрама,триллер', 'биография,драма,военный',\n",
       "       'приключения,фантастика,драма', 'детектив,фильм-нуар,комедия',\n",
       "       'документальный,спорт', 'триллер,фантастика,драма',\n",
       "       'биография,документальный', 'ужасы,фантастика,мелодрама',\n",
       "       'детектив,комедия', 'история,биография,военный',\n",
       "       'криминал,мелодрама', 'драма,криминал,вестерн',\n",
       "       'мелодрама,семейный,приключения', 'триллер,ужасы,мелодрама',\n",
       "       'фэнтези,драма,фильм-нуар', 'детектив,мелодрама',\n",
       "       'комедия,драма,биография', 'драма,военный,боевик',\n",
       "       'драма,комедия,ужасы', 'фантастика,драма,криминал',\n",
       "       'документальный,музыка,биография', 'мультфильм,боевик,приключения',\n",
       "       'короткометражка,фантастика', 'мультфильм,мелодрама,драма',\n",
       "       'боевик,военный,драма', 'фэнтези,семейный,приключения',\n",
       "       'детский,мультфильм,приключения', 'семейный,фэнтези,комедия',\n",
       "       'фэнтези,ужасы,триллер', 'ужасы,триллер,приключения',\n",
       "       'драма,боевик,история', 'фэнтези,комедия,детектив',\n",
       "       'история,приключения', 'аниме,мультфильм,короткометражка',\n",
       "       'драма,военный,триллер', 'биография,криминал,триллер',\n",
       "       'фантастика,фэнтези,детектив', 'вестерн,биография,драма',\n",
       "       'биография,музыка,мюзикл', 'драма,история,биография',\n",
       "       'приключения,драма,фантастика', 'комедия,фэнтези,криминал',\n",
       "       'биография,спорт,история', 'драма,криминал,семейный',\n",
       "       'детектив,боевик,история', 'ужасы,комедия,детектив',\n",
       "       'триллер,приключения,драма', 'фэнтези,комедия,криминал',\n",
       "       'триллер,криминал,приключения', 'комедия,детектив,приключения',\n",
       "       'фэнтези,драма,ужасы', 'ужасы,драма,военный', 'реальное тв',\n",
       "       'аниме,мультфильм,детектив', 'приключения,фэнтези,семейный',\n",
       "       'драма,биография,комедия', 'триллер,комедия,ужасы',\n",
       "       'музыка,мелодрама,фэнтези', 'мультфильм,история',\n",
       "       'мультфильм,комедия,фантастика', 'биография,криминал,драма',\n",
       "       'комедия,мелодрама,фантастика', 'криминал,боевик,комедия',\n",
       "       'история,криминал', 'детектив,комедия,драма',\n",
       "       'триллер,фантастика,боевик', 'криминал,боевик',\n",
       "       'комедия,драма,военный', 'драма,триллер,криминал',\n",
       "       'мультфильм,мелодрама,приключения', 'фантастика,фэнтези,триллер',\n",
       "       'короткометражка,драма,триллер', 'военный,боевик,история',\n",
       "       'боевик,драма,триллер', 'документальный,военный,драма',\n",
       "       'драма,криминал,фильм-нуар', 'мультфильм,детский,приключения',\n",
       "       'мелодрама,история,драма'], dtype=object)"
      ]
     },
     "execution_count": 57,
     "metadata": {},
     "output_type": "execute_result"
    }
   ],
   "source": [
    "data['genres'].unique()"
   ]
  },
  {
   "cell_type": "markdown",
   "metadata": {},
   "source": [
    "Общая проблема почти всех категориальных столбцов - в перечислении значений в одной ячейке либо через запятую, либо через тире"
   ]
  },
  {
   "cell_type": "markdown",
   "metadata": {
    "id": "XFSN5lrEgFyR"
   },
   "source": [
    "#### Шаг 2.5. Изучить столбцы, которые хранят количественные значения\n",
    "\n",
    "- Проверьте, обнаружились ли в таких столбцах подозрительные данные. Как с такими данными лучше поступить?\n",
    "\n",
    "<div id=\"accordion\">\n",
    "    <div class=\"card\">\n",
    "        <div class=\"card-header\" id=\"headingThree\">\n",
    "            <button class=\"btn btn-link collapsed\" data-toggle=\"collapse\" data-target=\"#collapseHint_budget\" aria-expanded=\"false\" aria-controls=\"collapseHint_budget\">Подсказка</button>\n",
    "        </div>\n",
    "        <div id=\"collapseHint_budget\" class=\"collapse\" aria-labelledby=\"headingThree\" data-parent=\"#accordion\">\n",
    "            <div class=\"card-body\">\n",
    "Обратите внимание на описание столбца <code>budget</code>. Как этот столбец соотносится с двумя другими: <code>refundable_support</code> и <code>nonrefundable_support</code>?\n",
    "            </div>\n",
    "        </div>\n",
    "    </div>\n",
    "</div>"
   ]
  },
  {
   "cell_type": "markdown",
   "metadata": {},
   "source": [
    "Для начала выведем список характерных значений количественных значений датафрейма - count, mean, std(стандартное отклонение), min, первый, второй, третий квартили, max"
   ]
  },
  {
   "cell_type": "code",
   "execution_count": 58,
   "metadata": {
    "id": "YbzClBxagFyS",
    "scrolled": true
   },
   "outputs": [
    {
     "data": {
      "text/html": [
       "<div>\n",
       "<style scoped>\n",
       "    .dataframe tbody tr th:only-of-type {\n",
       "        vertical-align: middle;\n",
       "    }\n",
       "\n",
       "    .dataframe tbody tr th {\n",
       "        vertical-align: top;\n",
       "    }\n",
       "\n",
       "    .dataframe thead th {\n",
       "        text-align: right;\n",
       "    }\n",
       "</style>\n",
       "<table border=\"1\" class=\"dataframe\">\n",
       "  <thead>\n",
       "    <tr style=\"text-align: right;\">\n",
       "      <th></th>\n",
       "      <th>refundable_support</th>\n",
       "      <th>nonrefundable_support</th>\n",
       "      <th>budget</th>\n",
       "      <th>box_office</th>\n",
       "    </tr>\n",
       "  </thead>\n",
       "  <tbody>\n",
       "    <tr>\n",
       "      <th>count</th>\n",
       "      <td>330.00</td>\n",
       "      <td>330.00</td>\n",
       "      <td>330.00</td>\n",
       "      <td>3,013.00</td>\n",
       "    </tr>\n",
       "    <tr>\n",
       "      <th>mean</th>\n",
       "      <td>11,936,363.00</td>\n",
       "      <td>48,914,224.00</td>\n",
       "      <td>127,045,400.00</td>\n",
       "      <td>75,665,756.65</td>\n",
       "    </tr>\n",
       "    <tr>\n",
       "      <th>std</th>\n",
       "      <td>24,974,918.00</td>\n",
       "      <td>60,110,464.00</td>\n",
       "      <td>188,952,416.00</td>\n",
       "      <td>237,844,548.74</td>\n",
       "    </tr>\n",
       "    <tr>\n",
       "      <th>min</th>\n",
       "      <td>0.00</td>\n",
       "      <td>0.00</td>\n",
       "      <td>0.00</td>\n",
       "      <td>0.00</td>\n",
       "    </tr>\n",
       "    <tr>\n",
       "      <th>25%</th>\n",
       "      <td>0.00</td>\n",
       "      <td>25,000,000.00</td>\n",
       "      <td>42,000,000.00</td>\n",
       "      <td>128,650.00</td>\n",
       "    </tr>\n",
       "    <tr>\n",
       "      <th>50%</th>\n",
       "      <td>0.00</td>\n",
       "      <td>30,000,000.00</td>\n",
       "      <td>68,649,920.00</td>\n",
       "      <td>2,446,886.00</td>\n",
       "    </tr>\n",
       "    <tr>\n",
       "      <th>75%</th>\n",
       "      <td>15,000,000.00</td>\n",
       "      <td>40,000,000.00</td>\n",
       "      <td>140,020,048.00</td>\n",
       "      <td>23,720,901.47</td>\n",
       "    </tr>\n",
       "    <tr>\n",
       "      <th>max</th>\n",
       "      <td>180,000,000.00</td>\n",
       "      <td>400,000,000.00</td>\n",
       "      <td>2,305,074,176.00</td>\n",
       "      <td>3,073,568,690.79</td>\n",
       "    </tr>\n",
       "  </tbody>\n",
       "</table>\n",
       "</div>"
      ],
      "text/plain": [
       "       refundable_support  nonrefundable_support           budget  \\\n",
       "count              330.00                 330.00           330.00   \n",
       "mean        11,936,363.00          48,914,224.00   127,045,400.00   \n",
       "std         24,974,918.00          60,110,464.00   188,952,416.00   \n",
       "min                  0.00                   0.00             0.00   \n",
       "25%                  0.00          25,000,000.00    42,000,000.00   \n",
       "50%                  0.00          30,000,000.00    68,649,920.00   \n",
       "75%         15,000,000.00          40,000,000.00   140,020,048.00   \n",
       "max        180,000,000.00         400,000,000.00 2,305,074,176.00   \n",
       "\n",
       "            box_office  \n",
       "count         3,013.00  \n",
       "mean     75,665,756.65  \n",
       "std     237,844,548.74  \n",
       "min               0.00  \n",
       "25%         128,650.00  \n",
       "50%       2,446,886.00  \n",
       "75%      23,720,901.47  \n",
       "max   3,073,568,690.79  "
      ]
     },
     "execution_count": 58,
     "metadata": {},
     "output_type": "execute_result"
    }
   ],
   "source": [
    "data[['refundable_support','nonrefundable_support', 'budget', 'box_office']].describe()"
   ]
  },
  {
   "cell_type": "markdown",
   "metadata": {},
   "source": [
    "В результате вывода характерных значений можно определить, что стандартное отклонение у столбцов очень большое, это вызвано за счет того что данные сильно разнятся\n",
    "\n",
    "Построим гистограммы для столбцов `refundable_support`, `nonrefundable_support`, `budget`, `box_office`"
   ]
  },
  {
   "cell_type": "code",
   "execution_count": 59,
   "metadata": {
    "scrolled": false
   },
   "outputs": [
    {
     "data": {
      "image/png": "[encoded data removed]",
      "text/plain": [
       "<Figure size 648x648 with 4 Axes>"
      ]
     },
     "metadata": {
      "needs_background": "light"
     },
     "output_type": "display_data"
    }
   ],
   "source": [
    "data[['refundable_support','nonrefundable_support', 'budget', 'box_office']].hist(bins = 30, figsize=(9, 9))\n",
    "plt.suptitle('Гистограммы для столбцов \"refundable_support\", \"nonrefundable_support\", \\\n",
    "\"budget\", \"box_office\"', fontsize=15)\n",
    "plt.show()"
   ]
  },
  {
   "cell_type": "markdown",
   "metadata": {},
   "source": [
    "Построим межквартильный размахи для столбцов `refundable_support`, `nonrefundable_support`, `budget`, `box_office`"
   ]
  },
  {
   "cell_type": "code",
   "execution_count": 60,
   "metadata": {},
   "outputs": [
    {
     "data": {
      "image/png": "[encoded data removed]",
      "text/plain": [
       "<Figure size 432x288 with 1 Axes>"
      ]
     },
     "metadata": {
      "needs_background": "light"
     },
     "output_type": "display_data"
    }
   ],
   "source": [
    "data.boxplot('refundable_support')\n",
    "plt.title('Диаграмма размаха для refundable_support\\n')\n",
    "plt.show()"
   ]
  },
  {
   "cell_type": "code",
   "execution_count": 61,
   "metadata": {},
   "outputs": [
    {
     "data": {
      "image/png": "[encoded data removed]",
      "text/plain": [
       "<Figure size 432x288 with 1 Axes>"
      ]
     },
     "metadata": {
      "needs_background": "light"
     },
     "output_type": "display_data"
    }
   ],
   "source": [
    "data.boxplot('nonrefundable_support')\n",
    "plt.title('Диаграмма размаха для nonrefundable_support\\n')\n",
    "plt.show()"
   ]
  },
  {
   "cell_type": "code",
   "execution_count": 62,
   "metadata": {},
   "outputs": [
    {
     "data": {
      "image/png": "[encoded data removed]",
      "text/plain": [
       "<Figure size 432x288 with 1 Axes>"
      ]
     },
     "metadata": {
      "needs_background": "light"
     },
     "output_type": "display_data"
    }
   ],
   "source": [
    "data.boxplot('budget')\n",
    "plt.title('Диаграмма размаха для budget\\n')\n",
    "plt.show()"
   ]
  },
  {
   "cell_type": "code",
   "execution_count": 63,
   "metadata": {},
   "outputs": [
    {
     "data": {
      "image/png": "[encoded data removed]",
      "text/plain": [
       "<Figure size 432x288 with 1 Axes>"
      ]
     },
     "metadata": {
      "needs_background": "light"
     },
     "output_type": "display_data"
    }
   ],
   "source": [
    "data.boxplot('box_office')\n",
    "plt.title('Диаграмма размаха для box_office\\n')\n",
    "plt.show()"
   ]
  },
  {
   "cell_type": "markdown",
   "metadata": {},
   "source": [
    "По отображенным результатам можно определить какие значения сильно отдалены от остальных, посчитаем количество этих значений"
   ]
  },
  {
   "cell_type": "code",
   "execution_count": 64,
   "metadata": {},
   "outputs": [
    {
     "name": "stdout",
     "output_type": "stream",
     "text": [
      "5\n",
      "7\n",
      "2\n"
     ]
    },
    {
     "data": {
      "text/plain": [
       "3"
      ]
     },
     "execution_count": 64,
     "metadata": {},
     "output_type": "execute_result"
    }
   ],
   "source": [
    "print(data[(data['refundable_support'] > 100000000)]['title'].count())\n",
    "print(data[data['nonrefundable_support'] > 250000000]['title'].count())\n",
    "print(data[data['budget'] > 1000000000]['title'].count())\n",
    "data[data['box_office'] > 2500000000]['title'].count()"
   ]
  },
  {
   "cell_type": "markdown",
   "metadata": {},
   "source": [
    "В сумме выходит 17, что не превышает 10% от общего количества данных"
   ]
  },
  {
   "cell_type": "code",
   "execution_count": 65,
   "metadata": {
    "scrolled": false
   },
   "outputs": [
    {
     "name": "stdout",
     "output_type": "stream",
     "text": [
      "6759\n",
      "6743\n"
     ]
    }
   ],
   "source": [
    "print(data.title.count())\n",
    "data = data.query('(refundable_support < 100000000 & nonrefundable_support < 250000000 & budget < 1000000000 & box_office < 2500000000) | (refundable_support.isna() == True) | (nonrefundable_support.isna() == True) | (budget.isna() == True) | (box_office.isna() == True)')\n",
    "print(data.title.count())\n",
    "data = data.reset_index(drop = True)"
   ]
  },
  {
   "cell_type": "markdown",
   "metadata": {},
   "source": [
    "Удалилось 16 строк, скорее всего так как некоторые значения совпадают  \n",
    "\n",
    "Выведем гистограмму по обновленным данным"
   ]
  },
  {
   "cell_type": "code",
   "execution_count": 66,
   "metadata": {},
   "outputs": [
    {
     "data": {
      "image/png": "[encoded data removed]",
      "text/plain": [
       "<Figure size 648x648 with 4 Axes>"
      ]
     },
     "metadata": {
      "needs_background": "light"
     },
     "output_type": "display_data"
    }
   ],
   "source": [
    "data[['refundable_support','nonrefundable_support', 'budget', 'box_office']].hist(bins = 30, figsize=(9, 9))\n",
    "plt.suptitle('Гистограммы для столбцов \"refundable_support\", \"nonrefundable_support\", \"budget\", \"box_office\"', fontsize=15)\n",
    "plt.show()"
   ]
  },
  {
   "cell_type": "markdown",
   "metadata": {},
   "source": [
    "А также выведем матрицу рассеяния"
   ]
  },
  {
   "cell_type": "code",
   "execution_count": 67,
   "metadata": {},
   "outputs": [
    {
     "data": {
      "image/png": "[encoded data removed]",
      "text/plain": [
       "<Figure size 1296x1296 with 16 Axes>"
      ]
     },
     "metadata": {
      "needs_background": "light"
     },
     "output_type": "display_data"
    }
   ],
   "source": [
    "pd.plotting.scatter_matrix(data[['refundable_support','nonrefundable_support', 'budget',\\\n",
    "                                 'box_office']], figsize = (18, 18))\n",
    "plt.suptitle('Матрица рассеяния', fontsize = 20)\n",
    "plt.show()"
   ]
  },
  {
   "cell_type": "code",
   "execution_count": 68,
   "metadata": {},
   "outputs": [
    {
     "name": "stdout",
     "output_type": "stream",
     "text": [
      "Коэффициент корелляции между общим бюджетом и \n",
      "объемом возвратных средств поддержки \t 0.46657882944059176\n",
      "объемом невозвратных средств поддержки\t 0.6567224442266867\n",
      "сборов в рублях\t\t\t\t 0.451628322878901\n"
     ]
    }
   ],
   "source": [
    "print('Коэффициент корелляции между общим бюджетом и \\nобъемом возвратных средств поддержки \\t', \\\n",
    "      data['budget'].corr(data['refundable_support']))\n",
    "print('объемом невозвратных средств поддержки\\t', data['budget'].corr(data['nonrefundable_support']))\n",
    "print('сборов в рублях\\t\\t\\t\\t', data['budget'].corr(data['box_office']))"
   ]
  },
  {
   "cell_type": "code",
   "execution_count": 69,
   "metadata": {},
   "outputs": [
    {
     "name": "stdout",
     "output_type": "stream",
     "text": [
      "<class 'pandas.core.frame.DataFrame'>\n",
      "RangeIndex: 6743 entries, 0 to 6742\n",
      "Data columns (total 16 columns):\n",
      " #   Column                 Non-Null Count  Dtype         \n",
      "---  ------                 --------------  -----         \n",
      " 0   title                  6743 non-null   object        \n",
      " 1   pu_number              6743 non-null   int32         \n",
      " 2   show_start_date        6743 non-null   datetime64[ns]\n",
      " 3   type                   6743 non-null   object        \n",
      " 4   film_studio            6727 non-null   object        \n",
      " 5   production_country     6743 non-null   object        \n",
      " 6   director               6743 non-null   object        \n",
      " 7   producer               6190 non-null   object        \n",
      " 8   age_restriction        6743 non-null   object        \n",
      " 9   refundable_support     314 non-null    float32       \n",
      " 10  nonrefundable_support  314 non-null    float32       \n",
      " 11  budget                 314 non-null    float32       \n",
      " 12  financing_source       314 non-null    object        \n",
      " 13  ratings                5792 non-null   float16       \n",
      " 14  genres                 6169 non-null   object        \n",
      " 15  box_office             2997 non-null   float64       \n",
      "dtypes: datetime64[ns](1), float16(1), float32(3), float64(1), int32(1), object(9)\n",
      "memory usage: 698.1+ KB\n"
     ]
    }
   ],
   "source": [
    "data.info()"
   ]
  },
  {
   "cell_type": "markdown",
   "metadata": {},
   "source": [
    "Также проверим столбцы `pu_number` на наличие аномальных значений, для этого выведем отсортированный по возрастанию список всех значений\n"
   ]
  },
  {
   "cell_type": "code",
   "execution_count": 70,
   "metadata": {},
   "outputs": [
    {
     "data": {
      "text/plain": [
       "1628            0\n",
       "4206      1811096\n",
       "3632    111000110\n",
       "4247    111000111\n",
       "668     111000112\n",
       "          ...    \n",
       "265     226008615\n",
       "1710    226014714\n",
       "3961    226017410\n",
       "3658    226019110\n",
       "920     231001012\n",
       "Name: pu_number, Length: 6743, dtype: int32"
      ]
     },
     "execution_count": 70,
     "metadata": {},
     "output_type": "execute_result"
    }
   ],
   "source": [
    "data.sort_values(by = 'pu_number')['pu_number']"
   ]
  },
  {
   "cell_type": "markdown",
   "metadata": {},
   "source": [
    "Аномальным значением считается `pu_number` = `1811096`, возможно некоторые цифры не записали, удалим этот столбец"
   ]
  },
  {
   "cell_type": "code",
   "execution_count": 71,
   "metadata": {},
   "outputs": [
    {
     "name": "stdout",
     "output_type": "stream",
     "text": [
      "6743\n",
      "6742\n"
     ]
    }
   ],
   "source": [
    "print(data.title.count())\n",
    "data = data.loc[data['pu_number'] != 1811096]\n",
    "print(data.title.count())\n",
    "data = data.reset_index(drop = True)"
   ]
  },
  {
   "cell_type": "markdown",
   "metadata": {},
   "source": [
    "А также проверим `show_start_date` на наличие даты из будущего, для этого рассмотрим его минимальное и маскимальные значения"
   ]
  },
  {
   "cell_type": "code",
   "execution_count": 72,
   "metadata": {},
   "outputs": [
    {
     "data": {
      "text/plain": [
       "Timestamp('2010-01-11 12:00:00')"
      ]
     },
     "metadata": {},
     "output_type": "display_data"
    },
    {
     "data": {
      "text/plain": [
       "Timestamp('2019-12-30 12:00:00')"
      ]
     },
     "execution_count": 72,
     "metadata": {},
     "output_type": "execute_result"
    }
   ],
   "source": [
    "display(data['show_start_date'].min())\n",
    "data['show_start_date'].max()"
   ]
  },
  {
   "cell_type": "markdown",
   "metadata": {},
   "source": [
    "А также проверим, не превышает ли сумма государственной поддержки бюджет фильма."
   ]
  },
  {
   "cell_type": "code",
   "execution_count": 73,
   "metadata": {
    "scrolled": true
   },
   "outputs": [
    {
     "name": "stdout",
     "output_type": "stream",
     "text": [
      "16\n"
     ]
    },
    {
     "data": {
      "text/html": [
       "<div>\n",
       "<style scoped>\n",
       "    .dataframe tbody tr th:only-of-type {\n",
       "        vertical-align: middle;\n",
       "    }\n",
       "\n",
       "    .dataframe tbody tr th {\n",
       "        vertical-align: top;\n",
       "    }\n",
       "\n",
       "    .dataframe thead th {\n",
       "        text-align: right;\n",
       "    }\n",
       "</style>\n",
       "<table border=\"1\" class=\"dataframe\">\n",
       "  <thead>\n",
       "    <tr style=\"text-align: right;\">\n",
       "      <th></th>\n",
       "      <th>title</th>\n",
       "      <th>pu_number</th>\n",
       "      <th>show_start_date</th>\n",
       "      <th>type</th>\n",
       "      <th>film_studio</th>\n",
       "      <th>production_country</th>\n",
       "      <th>director</th>\n",
       "      <th>producer</th>\n",
       "      <th>age_restriction</th>\n",
       "      <th>refundable_support</th>\n",
       "      <th>nonrefundable_support</th>\n",
       "      <th>budget</th>\n",
       "      <th>financing_source</th>\n",
       "      <th>ratings</th>\n",
       "      <th>genres</th>\n",
       "      <th>box_office</th>\n",
       "    </tr>\n",
       "  </thead>\n",
       "  <tbody>\n",
       "    <tr>\n",
       "      <th>1863</th>\n",
       "      <td>14+</td>\n",
       "      <td>111023614</td>\n",
       "      <td>2014-12-19 12:00:00</td>\n",
       "      <td>художественный</td>\n",
       "      <td>ооо киностудия  \"сентябрь\"</td>\n",
       "      <td>россия</td>\n",
       "      <td>а.зайцев</td>\n",
       "      <td>о.гранина, а.зайцев</td>\n",
       "      <td>«16+» - для детей старше 16 лет</td>\n",
       "      <td>0.00</td>\n",
       "      <td>23,000,000.00</td>\n",
       "      <td>0.00</td>\n",
       "      <td>Министерство культуры, Фонд кино</td>\n",
       "      <td>6.60</td>\n",
       "      <td>мелодрама</td>\n",
       "      <td>10,234,016.10</td>\n",
       "    </tr>\n",
       "    <tr>\n",
       "      <th>1868</th>\n",
       "      <td>дуxless 2</td>\n",
       "      <td>111000415</td>\n",
       "      <td>2015-01-26 12:00:00</td>\n",
       "      <td>художественный</td>\n",
       "      <td>ооо \"киностудия \"слово\", ооо \"арт пикчерс студия\"</td>\n",
       "      <td>россия</td>\n",
       "      <td>р.прыгунов</td>\n",
       "      <td>п.ануров, ф.бондарчук, д.рудовский</td>\n",
       "      <td>«16+» - для детей старше 16 лет</td>\n",
       "      <td>0.00</td>\n",
       "      <td>75,000,000.00</td>\n",
       "      <td>0.00</td>\n",
       "      <td>Фонд кино</td>\n",
       "      <td>6.60</td>\n",
       "      <td>драма</td>\n",
       "      <td>446,163,511.00</td>\n",
       "    </tr>\n",
       "    <tr>\n",
       "      <th>2236</th>\n",
       "      <td>воин (2015)</td>\n",
       "      <td>111017315</td>\n",
       "      <td>2015-09-28 12:00:00</td>\n",
       "      <td>художественный</td>\n",
       "      <td>ооо \"форпост продакшн\", ооо \"арт пикчерс студия\"</td>\n",
       "      <td>россия</td>\n",
       "      <td>а.андрианов</td>\n",
       "      <td>ооо \"арт пикчерс студия\"</td>\n",
       "      <td>«12+» - для детей старше 12 лет</td>\n",
       "      <td>10,000,000.00</td>\n",
       "      <td>70,000,000.00</td>\n",
       "      <td>0.00</td>\n",
       "      <td>Фонд кино</td>\n",
       "      <td>7.80</td>\n",
       "      <td>боевик,драма,криминал</td>\n",
       "      <td>196,572,438.40</td>\n",
       "    </tr>\n",
       "    <tr>\n",
       "      <th>2294</th>\n",
       "      <td>бармен</td>\n",
       "      <td>111009615</td>\n",
       "      <td>2015-05-26 12:00:00</td>\n",
       "      <td>художественный</td>\n",
       "      <td>ао \"вайт медиа\", ооо \"арт пикчерс студия\"</td>\n",
       "      <td>россия</td>\n",
       "      <td>д.штурманова</td>\n",
       "      <td>т.вайнштейн</td>\n",
       "      <td>«16+» - для детей старше 16 лет</td>\n",
       "      <td>20,000,000.00</td>\n",
       "      <td>0.00</td>\n",
       "      <td>0.00</td>\n",
       "      <td>Фонд кино</td>\n",
       "      <td>6.20</td>\n",
       "      <td>комедия,фэнтези</td>\n",
       "      <td>67,418,974.80</td>\n",
       "    </tr>\n",
       "    <tr>\n",
       "      <th>2368</th>\n",
       "      <td>савва. сердце воина</td>\n",
       "      <td>114001715</td>\n",
       "      <td>2015-07-21 12:00:00</td>\n",
       "      <td>анимационный</td>\n",
       "      <td>ооо \"глюкоза продакшн\", ооо \"арт пикчерс студия\"</td>\n",
       "      <td>россия</td>\n",
       "      <td>м.фадеев</td>\n",
       "      <td>а.чистяков</td>\n",
       "      <td>«6+» - для детей старше 6 лет</td>\n",
       "      <td>60,000,000.00</td>\n",
       "      <td>100,000,000.00</td>\n",
       "      <td>0.00</td>\n",
       "      <td>Фонд кино</td>\n",
       "      <td>4.60</td>\n",
       "      <td>мультфильм,приключения,фэнтези</td>\n",
       "      <td>184,487,551.40</td>\n",
       "    </tr>\n",
       "    <tr>\n",
       "      <th>2430</th>\n",
       "      <td>тряпичный союз</td>\n",
       "      <td>111010215</td>\n",
       "      <td>2015-06-08 12:00:00</td>\n",
       "      <td>художественный</td>\n",
       "      <td>ооо \"кинокомпания \"коктебель\"</td>\n",
       "      <td>россия</td>\n",
       "      <td>м.местецкий</td>\n",
       "      <td>р.борисевич, а.кушаев</td>\n",
       "      <td>«18+» - запрещено для детей</td>\n",
       "      <td>0.00</td>\n",
       "      <td>59,000,000.00</td>\n",
       "      <td>0.00</td>\n",
       "      <td>Фонд кино</td>\n",
       "      <td>6.30</td>\n",
       "      <td>комедия,драма</td>\n",
       "      <td>1,957,738.51</td>\n",
       "    </tr>\n",
       "    <tr>\n",
       "      <th>2525</th>\n",
       "      <td>срочно выйду замуж</td>\n",
       "      <td>111017115</td>\n",
       "      <td>2015-09-30 12:00:00</td>\n",
       "      <td>художественный</td>\n",
       "      <td>ао \"вайт медиа\", ооо \"арт пикчерс студия\"</td>\n",
       "      <td>россия</td>\n",
       "      <td>с чекалов</td>\n",
       "      <td>ф.бондарчук, т.вайнштейн, д.рудовский</td>\n",
       "      <td>«16+» - для детей старше 16 лет</td>\n",
       "      <td>0.00</td>\n",
       "      <td>35,000,000.00</td>\n",
       "      <td>0.00</td>\n",
       "      <td>Фонд кино</td>\n",
       "      <td>5.10</td>\n",
       "      <td>комедия,мелодрама</td>\n",
       "      <td>72,937,783.20</td>\n",
       "    </tr>\n",
       "    <tr>\n",
       "      <th>2605</th>\n",
       "      <td>помню - не помню</td>\n",
       "      <td>111004916</td>\n",
       "      <td>2016-03-01 12:00:00</td>\n",
       "      <td>художественный</td>\n",
       "      <td>ооо \"кинофирма\"</td>\n",
       "      <td>россия</td>\n",
       "      <td>в.ровенский</td>\n",
       "      <td>ооо \"кинофирма\"</td>\n",
       "      <td>«12+» - для детей старше 12 лет</td>\n",
       "      <td>0.00</td>\n",
       "      <td>6,000,000.00</td>\n",
       "      <td>0.00</td>\n",
       "      <td>Министерство культуры</td>\n",
       "      <td>4.30</td>\n",
       "      <td>комедия</td>\n",
       "      <td>15,362,931.43</td>\n",
       "    </tr>\n",
       "    <tr>\n",
       "      <th>2769</th>\n",
       "      <td>любовь с ограничениями</td>\n",
       "      <td>111008216</td>\n",
       "      <td>2016-04-29 12:00:00</td>\n",
       "      <td>художественный</td>\n",
       "      <td>ао \"вайт медиа\", ооо \"арт пикчерс студия\"</td>\n",
       "      <td>россия</td>\n",
       "      <td>д.тюрин</td>\n",
       "      <td>ф.бондарчук, т.вайнштейн, д.рудовский</td>\n",
       "      <td>«16+» - для детей старше 16 лет</td>\n",
       "      <td>19,000,000.00</td>\n",
       "      <td>51,000,000.00</td>\n",
       "      <td>0.00</td>\n",
       "      <td>Фонд кино</td>\n",
       "      <td>6.30</td>\n",
       "      <td>комедия,мелодрама</td>\n",
       "      <td>70,299,052.00</td>\n",
       "    </tr>\n",
       "    <tr>\n",
       "      <th>3359</th>\n",
       "      <td>чудо-юдо</td>\n",
       "      <td>114001817</td>\n",
       "      <td>2017-06-27 12:00:00</td>\n",
       "      <td>анимационный</td>\n",
       "      <td>ооо \"кинофирма\"</td>\n",
       "      <td>россия</td>\n",
       "      <td>а.лукичев</td>\n",
       "      <td>ооо \"кинофирма\"</td>\n",
       "      <td>«6+» - для детей старше 6 лет</td>\n",
       "      <td>20,000,000.00</td>\n",
       "      <td>20,000,000.00</td>\n",
       "      <td>0.00</td>\n",
       "      <td>Фонд кино</td>\n",
       "      <td>5.20</td>\n",
       "      <td>мультфильм,фэнтези,семейный</td>\n",
       "      <td>55,108,014.76</td>\n",
       "    </tr>\n",
       "    <tr>\n",
       "      <th>3422</th>\n",
       "      <td>мифы</td>\n",
       "      <td>111004317</td>\n",
       "      <td>2017-06-07 12:00:00</td>\n",
       "      <td>художественный</td>\n",
       "      <td>ооо \"хайпфилм\", ооо \"арт пикчерс студия\"</td>\n",
       "      <td>россия</td>\n",
       "      <td>а.молочников</td>\n",
       "      <td>ф.бондарчук, д.рудовский, и.стюарт, м.османн, ...</td>\n",
       "      <td>«16+» - для детей старше 16 лет</td>\n",
       "      <td>25,000,000.00</td>\n",
       "      <td>20,000,000.00</td>\n",
       "      <td>0.00</td>\n",
       "      <td>Фонд кино</td>\n",
       "      <td>4.80</td>\n",
       "      <td>комедия</td>\n",
       "      <td>50,451,949.00</td>\n",
       "    </tr>\n",
       "    <tr>\n",
       "      <th>4963</th>\n",
       "      <td>селфи</td>\n",
       "      <td>111012117</td>\n",
       "      <td>2018-02-01 12:00:00</td>\n",
       "      <td>художественный</td>\n",
       "      <td>ооо \"киностудия \"слово\", ооо \"арт пикчерс студия\"</td>\n",
       "      <td>россия</td>\n",
       "      <td>н.хомерики</td>\n",
       "      <td>п.ануров, ф.бондарчук, д.рудовский</td>\n",
       "      <td>«16+» - для детей старше 16 лет</td>\n",
       "      <td>20,000,000.00</td>\n",
       "      <td>40,000,000.00</td>\n",
       "      <td>0.00</td>\n",
       "      <td>Фонд кино</td>\n",
       "      <td>5.80</td>\n",
       "      <td>триллер,драма</td>\n",
       "      <td>225,196,400.03</td>\n",
       "    </tr>\n",
       "    <tr>\n",
       "      <th>5095</th>\n",
       "      <td>два хвоста</td>\n",
       "      <td>114001018</td>\n",
       "      <td>2018-05-31 12:00:00</td>\n",
       "      <td>анимационный</td>\n",
       "      <td>ооо \"лицензионные бренды\"</td>\n",
       "      <td>россия</td>\n",
       "      <td>в.ровенский, н.лопато, в.азеев</td>\n",
       "      <td>ооо \"лицензионные бренды\"</td>\n",
       "      <td>«6+» - для детей старше 6 лет</td>\n",
       "      <td>10,000,000.00</td>\n",
       "      <td>60,000,000.00</td>\n",
       "      <td>0.00</td>\n",
       "      <td>Фонд кино</td>\n",
       "      <td>5.00</td>\n",
       "      <td>мультфильм,детский</td>\n",
       "      <td>106,514,301.03</td>\n",
       "    </tr>\n",
       "    <tr>\n",
       "      <th>5296</th>\n",
       "      <td>принцесса и дракон</td>\n",
       "      <td>114003018</td>\n",
       "      <td>2018-08-23 12:00:00</td>\n",
       "      <td>анимационный</td>\n",
       "      <td>ооо \"лицензионные бренды\"</td>\n",
       "      <td>россия</td>\n",
       "      <td>м.нефедова</td>\n",
       "      <td>ооо \"лицензионные бренды\"</td>\n",
       "      <td>«6+» - для детей старше 6 лет</td>\n",
       "      <td>40,000,000.00</td>\n",
       "      <td>40,000,000.00</td>\n",
       "      <td>0.00</td>\n",
       "      <td>Фонд кино</td>\n",
       "      <td>5.20</td>\n",
       "      <td>мультфильм,фэнтези,детский</td>\n",
       "      <td>83,366,328.66</td>\n",
       "    </tr>\n",
       "    <tr>\n",
       "      <th>5608</th>\n",
       "      <td>баба яга</td>\n",
       "      <td>114006518</td>\n",
       "      <td>2018-11-08 12:00:00</td>\n",
       "      <td>анимационный</td>\n",
       "      <td>ооо \"арт пикчерс студия\"</td>\n",
       "      <td>россия</td>\n",
       "      <td>в.саков</td>\n",
       "      <td>ооо \"арт пикчерс студия\", ооо \"криэйтив анимэй...</td>\n",
       "      <td>«6+» - для детей старше 6 лет</td>\n",
       "      <td>0.00</td>\n",
       "      <td>138,969,472.00</td>\n",
       "      <td>0.00</td>\n",
       "      <td>Фонд кино</td>\n",
       "      <td>NaN</td>\n",
       "      <td>мультфильм</td>\n",
       "      <td>1,334,699.40</td>\n",
       "    </tr>\n",
       "    <tr>\n",
       "      <th>6100</th>\n",
       "      <td>большое путешествие</td>\n",
       "      <td>114002419</td>\n",
       "      <td>2019-04-20 12:00:00</td>\n",
       "      <td>анимационный</td>\n",
       "      <td>ооо \"лицензионные бренды\"</td>\n",
       "      <td>россия</td>\n",
       "      <td>н.лопато, в.ровенский</td>\n",
       "      <td>ооо \"лицензионные бренды\"</td>\n",
       "      <td>«6+» - для детей старше 6 лет</td>\n",
       "      <td>60,000,000.00</td>\n",
       "      <td>120,000,000.00</td>\n",
       "      <td>0.00</td>\n",
       "      <td>Фонд кино</td>\n",
       "      <td>6.20</td>\n",
       "      <td>мультфильм,комедия,приключения</td>\n",
       "      <td>147,606,826.51</td>\n",
       "    </tr>\n",
       "  </tbody>\n",
       "</table>\n",
       "</div>"
      ],
      "text/plain": [
       "                       title  pu_number     show_start_date            type  \\\n",
       "1863                     14+  111023614 2014-12-19 12:00:00  художественный   \n",
       "1868               дуxless 2  111000415 2015-01-26 12:00:00  художественный   \n",
       "2236             воин (2015)  111017315 2015-09-28 12:00:00  художественный   \n",
       "2294                  бармен  111009615 2015-05-26 12:00:00  художественный   \n",
       "2368     савва. сердце воина  114001715 2015-07-21 12:00:00    анимационный   \n",
       "2430          тряпичный союз  111010215 2015-06-08 12:00:00  художественный   \n",
       "2525      срочно выйду замуж  111017115 2015-09-30 12:00:00  художественный   \n",
       "2605        помню - не помню  111004916 2016-03-01 12:00:00  художественный   \n",
       "2769  любовь с ограничениями  111008216 2016-04-29 12:00:00  художественный   \n",
       "3359                чудо-юдо  114001817 2017-06-27 12:00:00    анимационный   \n",
       "3422                    мифы  111004317 2017-06-07 12:00:00  художественный   \n",
       "4963                   селфи  111012117 2018-02-01 12:00:00  художественный   \n",
       "5095              два хвоста  114001018 2018-05-31 12:00:00    анимационный   \n",
       "5296      принцесса и дракон  114003018 2018-08-23 12:00:00    анимационный   \n",
       "5608                баба яга  114006518 2018-11-08 12:00:00    анимационный   \n",
       "6100     большое путешествие  114002419 2019-04-20 12:00:00    анимационный   \n",
       "\n",
       "                                            film_studio production_country  \\\n",
       "1863                         ооо киностудия  \"сентябрь\"             россия   \n",
       "1868  ооо \"киностудия \"слово\", ооо \"арт пикчерс студия\"             россия   \n",
       "2236   ооо \"форпост продакшн\", ооо \"арт пикчерс студия\"             россия   \n",
       "2294          ао \"вайт медиа\", ооо \"арт пикчерс студия\"             россия   \n",
       "2368   ооо \"глюкоза продакшн\", ооо \"арт пикчерс студия\"             россия   \n",
       "2430                      ооо \"кинокомпания \"коктебель\"             россия   \n",
       "2525          ао \"вайт медиа\", ооо \"арт пикчерс студия\"             россия   \n",
       "2605                                    ооо \"кинофирма\"             россия   \n",
       "2769          ао \"вайт медиа\", ооо \"арт пикчерс студия\"             россия   \n",
       "3359                                    ооо \"кинофирма\"             россия   \n",
       "3422           ооо \"хайпфилм\", ооо \"арт пикчерс студия\"             россия   \n",
       "4963  ооо \"киностудия \"слово\", ооо \"арт пикчерс студия\"             россия   \n",
       "5095                          ооо \"лицензионные бренды\"             россия   \n",
       "5296                          ооо \"лицензионные бренды\"             россия   \n",
       "5608                           ооо \"арт пикчерс студия\"             россия   \n",
       "6100                          ооо \"лицензионные бренды\"             россия   \n",
       "\n",
       "                            director  \\\n",
       "1863                        а.зайцев   \n",
       "1868                      р.прыгунов   \n",
       "2236                     а.андрианов   \n",
       "2294                    д.штурманова   \n",
       "2368                        м.фадеев   \n",
       "2430                     м.местецкий   \n",
       "2525                       с чекалов   \n",
       "2605                     в.ровенский   \n",
       "2769                         д.тюрин   \n",
       "3359                       а.лукичев   \n",
       "3422                    а.молочников   \n",
       "4963                      н.хомерики   \n",
       "5095  в.ровенский, н.лопато, в.азеев   \n",
       "5296                      м.нефедова   \n",
       "5608                         в.саков   \n",
       "6100           н.лопато, в.ровенский   \n",
       "\n",
       "                                               producer  \\\n",
       "1863                                о.гранина, а.зайцев   \n",
       "1868                 п.ануров, ф.бондарчук, д.рудовский   \n",
       "2236                           ооо \"арт пикчерс студия\"   \n",
       "2294                                        т.вайнштейн   \n",
       "2368                                         а.чистяков   \n",
       "2430                              р.борисевич, а.кушаев   \n",
       "2525              ф.бондарчук, т.вайнштейн, д.рудовский   \n",
       "2605                                    ооо \"кинофирма\"   \n",
       "2769              ф.бондарчук, т.вайнштейн, д.рудовский   \n",
       "3359                                    ооо \"кинофирма\"   \n",
       "3422  ф.бондарчук, д.рудовский, и.стюарт, м.османн, ...   \n",
       "4963                 п.ануров, ф.бондарчук, д.рудовский   \n",
       "5095                          ооо \"лицензионные бренды\"   \n",
       "5296                          ооо \"лицензионные бренды\"   \n",
       "5608  ооо \"арт пикчерс студия\", ооо \"криэйтив анимэй...   \n",
       "6100                          ооо \"лицензионные бренды\"   \n",
       "\n",
       "                      age_restriction  refundable_support  \\\n",
       "1863  «16+» - для детей старше 16 лет                0.00   \n",
       "1868  «16+» - для детей старше 16 лет                0.00   \n",
       "2236  «12+» - для детей старше 12 лет       10,000,000.00   \n",
       "2294  «16+» - для детей старше 16 лет       20,000,000.00   \n",
       "2368    «6+» - для детей старше 6 лет       60,000,000.00   \n",
       "2430      «18+» - запрещено для детей                0.00   \n",
       "2525  «16+» - для детей старше 16 лет                0.00   \n",
       "2605  «12+» - для детей старше 12 лет                0.00   \n",
       "2769  «16+» - для детей старше 16 лет       19,000,000.00   \n",
       "3359    «6+» - для детей старше 6 лет       20,000,000.00   \n",
       "3422  «16+» - для детей старше 16 лет       25,000,000.00   \n",
       "4963  «16+» - для детей старше 16 лет       20,000,000.00   \n",
       "5095    «6+» - для детей старше 6 лет       10,000,000.00   \n",
       "5296    «6+» - для детей старше 6 лет       40,000,000.00   \n",
       "5608    «6+» - для детей старше 6 лет                0.00   \n",
       "6100    «6+» - для детей старше 6 лет       60,000,000.00   \n",
       "\n",
       "      nonrefundable_support  budget                  financing_source  \\\n",
       "1863          23,000,000.00    0.00  Министерство культуры, Фонд кино   \n",
       "1868          75,000,000.00    0.00                         Фонд кино   \n",
       "2236          70,000,000.00    0.00                         Фонд кино   \n",
       "2294                   0.00    0.00                         Фонд кино   \n",
       "2368         100,000,000.00    0.00                         Фонд кино   \n",
       "2430          59,000,000.00    0.00                         Фонд кино   \n",
       "2525          35,000,000.00    0.00                         Фонд кино   \n",
       "2605           6,000,000.00    0.00             Министерство культуры   \n",
       "2769          51,000,000.00    0.00                         Фонд кино   \n",
       "3359          20,000,000.00    0.00                         Фонд кино   \n",
       "3422          20,000,000.00    0.00                         Фонд кино   \n",
       "4963          40,000,000.00    0.00                         Фонд кино   \n",
       "5095          60,000,000.00    0.00                         Фонд кино   \n",
       "5296          40,000,000.00    0.00                         Фонд кино   \n",
       "5608         138,969,472.00    0.00                         Фонд кино   \n",
       "6100         120,000,000.00    0.00                         Фонд кино   \n",
       "\n",
       "      ratings                          genres     box_office  \n",
       "1863     6.60                       мелодрама  10,234,016.10  \n",
       "1868     6.60                           драма 446,163,511.00  \n",
       "2236     7.80           боевик,драма,криминал 196,572,438.40  \n",
       "2294     6.20                 комедия,фэнтези  67,418,974.80  \n",
       "2368     4.60  мультфильм,приключения,фэнтези 184,487,551.40  \n",
       "2430     6.30                   комедия,драма   1,957,738.51  \n",
       "2525     5.10               комедия,мелодрама  72,937,783.20  \n",
       "2605     4.30                         комедия  15,362,931.43  \n",
       "2769     6.30               комедия,мелодрама  70,299,052.00  \n",
       "3359     5.20     мультфильм,фэнтези,семейный  55,108,014.76  \n",
       "3422     4.80                         комедия  50,451,949.00  \n",
       "4963     5.80                   триллер,драма 225,196,400.03  \n",
       "5095     5.00              мультфильм,детский 106,514,301.03  \n",
       "5296     5.20      мультфильм,фэнтези,детский  83,366,328.66  \n",
       "5608      NaN                      мультфильм   1,334,699.40  \n",
       "6100     6.20  мультфильм,комедия,приключения 147,606,826.51  "
      ]
     },
     "execution_count": 73,
     "metadata": {},
     "output_type": "execute_result"
    }
   ],
   "source": [
    "print(len(data.loc[(data['refundable_support'] + data['nonrefundable_support']) > data['budget']]))\n",
    "data.loc[(data['refundable_support'] + data['nonrefundable_support']) > data['budget']]"
   ]
  },
  {
   "cell_type": "markdown",
   "metadata": {},
   "source": [
    "Таких строк оказалось 16, на всех строках в столбце `budget` стоит `0`. Данные по этому столбцу заполнены `0`, возможно из за того что сам бюджет не известен"
   ]
  },
  {
   "cell_type": "markdown",
   "metadata": {},
   "source": [
    "По полученным выше результатам, видно, что :\n",
    "- Коэффициент корелляции связи общего бюджета от объема возвратных средств поддержки и сборов в рублях 0.46, 0.45, то есть нет слишком сильной связи между ними.\n",
    "- Коэффициент корелляции связи общего бюджета от объема невозвратных средств поддержки равна 0.65, что означает, что связь есть но она чуть выше предыдущих, а также оно означает что с ростом первой величины, будет расти и вторая величина\n",
    "- Также это наглядно видно на матрице рассеяния - чем больше объем невозвратных средств государственной поддержки фильма, тем больше общий бюджет фильма\n",
    "- В остальных случаях связь слабая, но так же можно разглядеть что с ростом одной величины, растет и вторая\n",
    "- Аномальным значением столбца `pu_number` считается - 1811096, возможно некоторые цифры случайно пропустили\n"
   ]
  },
  {
   "cell_type": "markdown",
   "metadata": {
    "id": "Eu6oWp2CgFyS"
   },
   "source": [
    "#### Шаг 2.6. Добавьте новые столбцы\n",
    "\n",
    "\n",
    "\n"
   ]
  },
  {
   "cell_type": "markdown",
   "metadata": {
    "id": "7GgW-UpAgFyS"
   },
   "source": [
    "- Создайте столбец с информацией о годе проката. Выделите год из даты премьеры фильма."
   ]
  },
  {
   "cell_type": "code",
   "execution_count": 74,
   "metadata": {
    "id": "I-yd1DkWgFyT"
   },
   "outputs": [
    {
     "data": {
      "text/html": [
       "<div>\n",
       "<style scoped>\n",
       "    .dataframe tbody tr th:only-of-type {\n",
       "        vertical-align: middle;\n",
       "    }\n",
       "\n",
       "    .dataframe tbody tr th {\n",
       "        vertical-align: top;\n",
       "    }\n",
       "\n",
       "    .dataframe thead th {\n",
       "        text-align: right;\n",
       "    }\n",
       "</style>\n",
       "<table border=\"1\" class=\"dataframe\">\n",
       "  <thead>\n",
       "    <tr style=\"text-align: right;\">\n",
       "      <th></th>\n",
       "      <th>title</th>\n",
       "      <th>pu_number</th>\n",
       "      <th>show_start_date</th>\n",
       "      <th>type</th>\n",
       "      <th>film_studio</th>\n",
       "      <th>production_country</th>\n",
       "      <th>director</th>\n",
       "      <th>producer</th>\n",
       "      <th>age_restriction</th>\n",
       "      <th>refundable_support</th>\n",
       "      <th>nonrefundable_support</th>\n",
       "      <th>budget</th>\n",
       "      <th>financing_source</th>\n",
       "      <th>ratings</th>\n",
       "      <th>genres</th>\n",
       "      <th>box_office</th>\n",
       "      <th>year</th>\n",
       "    </tr>\n",
       "  </thead>\n",
       "  <tbody>\n",
       "    <tr>\n",
       "      <th>0</th>\n",
       "      <td>открытый простор</td>\n",
       "      <td>221048915</td>\n",
       "      <td>2015-11-27 12:00:00</td>\n",
       "      <td>художественный</td>\n",
       "      <td>тачстоун пикчерз, кобальт пикчерз, бикон пикче...</td>\n",
       "      <td>сша</td>\n",
       "      <td>кевин костнер</td>\n",
       "      <td>дэвид валдес, кевин костнер, джейк эбертс</td>\n",
       "      <td>«18+» - запрещено для детей</td>\n",
       "      <td>NaN</td>\n",
       "      <td>NaN</td>\n",
       "      <td>NaN</td>\n",
       "      <td>NaN</td>\n",
       "      <td>7.20</td>\n",
       "      <td>боевик,драма,мелодрама</td>\n",
       "      <td>NaN</td>\n",
       "      <td>2015</td>\n",
       "    </tr>\n",
       "    <tr>\n",
       "      <th>1</th>\n",
       "      <td>особо важное задание</td>\n",
       "      <td>111013716</td>\n",
       "      <td>2016-09-13 12:00:00</td>\n",
       "      <td>художественный</td>\n",
       "      <td>киностудия \"мосфильм\"</td>\n",
       "      <td>ссср</td>\n",
       "      <td>е.матвеев</td>\n",
       "      <td>NaN</td>\n",
       "      <td>«6+» - для детей старше 6 лет</td>\n",
       "      <td>NaN</td>\n",
       "      <td>NaN</td>\n",
       "      <td>NaN</td>\n",
       "      <td>NaN</td>\n",
       "      <td>6.60</td>\n",
       "      <td>драма,военный</td>\n",
       "      <td>NaN</td>\n",
       "      <td>2016</td>\n",
       "    </tr>\n",
       "    <tr>\n",
       "      <th>2</th>\n",
       "      <td>особо опасен</td>\n",
       "      <td>221038416</td>\n",
       "      <td>2016-10-10 12:00:00</td>\n",
       "      <td>художественный</td>\n",
       "      <td>юниверсал пикчерз, кикстарт продакшнз, марк пл...</td>\n",
       "      <td>сша</td>\n",
       "      <td>тимур бекмамбетов</td>\n",
       "      <td>джим лемли, джейсон нетер, марк е.платт, яйн смит</td>\n",
       "      <td>«18+» - запрещено для детей</td>\n",
       "      <td>NaN</td>\n",
       "      <td>NaN</td>\n",
       "      <td>NaN</td>\n",
       "      <td>NaN</td>\n",
       "      <td>6.80</td>\n",
       "      <td>фантастика,боевик,триллер</td>\n",
       "      <td>NaN</td>\n",
       "      <td>2016</td>\n",
       "    </tr>\n",
       "    <tr>\n",
       "      <th>3</th>\n",
       "      <td>остановился поезд</td>\n",
       "      <td>111013816</td>\n",
       "      <td>2016-09-13 12:00:00</td>\n",
       "      <td>художественный</td>\n",
       "      <td>киностудия \"мосфильм\"</td>\n",
       "      <td>ссср</td>\n",
       "      <td>в.абдрашитов</td>\n",
       "      <td>NaN</td>\n",
       "      <td>«6+» - для детей старше 6 лет</td>\n",
       "      <td>NaN</td>\n",
       "      <td>NaN</td>\n",
       "      <td>NaN</td>\n",
       "      <td>NaN</td>\n",
       "      <td>7.70</td>\n",
       "      <td>драма</td>\n",
       "      <td>NaN</td>\n",
       "      <td>2016</td>\n",
       "    </tr>\n",
       "    <tr>\n",
       "      <th>4</th>\n",
       "      <td>любовь и голуби</td>\n",
       "      <td>111007013</td>\n",
       "      <td>2013-10-18 12:00:00</td>\n",
       "      <td>художественный</td>\n",
       "      <td>киностудия \"мосфильм\"</td>\n",
       "      <td>ссср</td>\n",
       "      <td>в.меньшов</td>\n",
       "      <td>NaN</td>\n",
       "      <td>«12+» - для детей старше 12 лет</td>\n",
       "      <td>NaN</td>\n",
       "      <td>NaN</td>\n",
       "      <td>NaN</td>\n",
       "      <td>NaN</td>\n",
       "      <td>8.30</td>\n",
       "      <td>мелодрама,комедия</td>\n",
       "      <td>2,700.00</td>\n",
       "      <td>2013</td>\n",
       "    </tr>\n",
       "  </tbody>\n",
       "</table>\n",
       "</div>"
      ],
      "text/plain": [
       "                  title  pu_number     show_start_date            type  \\\n",
       "0      открытый простор  221048915 2015-11-27 12:00:00  художественный   \n",
       "1  особо важное задание  111013716 2016-09-13 12:00:00  художественный   \n",
       "2          особо опасен  221038416 2016-10-10 12:00:00  художественный   \n",
       "3     остановился поезд  111013816 2016-09-13 12:00:00  художественный   \n",
       "4       любовь и голуби  111007013 2013-10-18 12:00:00  художественный   \n",
       "\n",
       "                                         film_studio production_country  \\\n",
       "0  тачстоун пикчерз, кобальт пикчерз, бикон пикче...                сша   \n",
       "1                              киностудия \"мосфильм\"               ссср   \n",
       "2  юниверсал пикчерз, кикстарт продакшнз, марк пл...                сша   \n",
       "3                              киностудия \"мосфильм\"               ссср   \n",
       "4                              киностудия \"мосфильм\"               ссср   \n",
       "\n",
       "            director                                           producer  \\\n",
       "0      кевин костнер          дэвид валдес, кевин костнер, джейк эбертс   \n",
       "1          е.матвеев                                                NaN   \n",
       "2  тимур бекмамбетов  джим лемли, джейсон нетер, марк е.платт, яйн смит   \n",
       "3       в.абдрашитов                                                NaN   \n",
       "4          в.меньшов                                                NaN   \n",
       "\n",
       "                   age_restriction  refundable_support  nonrefundable_support  \\\n",
       "0      «18+» - запрещено для детей                 NaN                    NaN   \n",
       "1    «6+» - для детей старше 6 лет                 NaN                    NaN   \n",
       "2      «18+» - запрещено для детей                 NaN                    NaN   \n",
       "3    «6+» - для детей старше 6 лет                 NaN                    NaN   \n",
       "4  «12+» - для детей старше 12 лет                 NaN                    NaN   \n",
       "\n",
       "   budget financing_source  ratings                     genres  box_office  \\\n",
       "0     NaN              NaN     7.20     боевик,драма,мелодрама         NaN   \n",
       "1     NaN              NaN     6.60              драма,военный         NaN   \n",
       "2     NaN              NaN     6.80  фантастика,боевик,триллер         NaN   \n",
       "3     NaN              NaN     7.70                      драма         NaN   \n",
       "4     NaN              NaN     8.30          мелодрама,комедия    2,700.00   \n",
       "\n",
       "   year  \n",
       "0  2015  \n",
       "1  2016  \n",
       "2  2016  \n",
       "3  2016  \n",
       "4  2013  "
      ]
     },
     "execution_count": 74,
     "metadata": {},
     "output_type": "execute_result"
    }
   ],
   "source": [
    "data['year'] = data['show_start_date'].dt.year\n",
    "#Проверим\n",
    "data.head()"
   ]
  },
  {
   "cell_type": "markdown",
   "metadata": {
    "id": "nFTDLDYOgFyT"
   },
   "source": [
    "- Создайте два столбца: с именем и фамилией главного режиссёра и основным жанром фильма. В столбцы войдут первые значения из списка режиссёров и жанров соответственно.\n",
    "\n",
    "<div id=\"accordion\">\n",
    "    <div class=\"card\">\n",
    "        <div class=\"card-header\" id=\"headingThree\">\n",
    "            <button class=\"btn btn-link collapsed\" data-toggle=\"collapse\" data-target=\"#collapseHint_2\" aria-expanded=\"false\" aria-controls=\"collapseHint_2\">Подсказка</button>\n",
    "        </div>\n",
    "        <div id=\"collapseHint_2\" class=\"collapse\" aria-labelledby=\"headingThree\" data-parent=\"#accordion\">\n",
    "            <div class=\"card-body\">\n",
    "Чтобы создать такие столбцы, лучше всего использовать собственную функцию. Эту функцию можно применить к двум столбцам сразу. \n",
    "            </div>\n",
    "        </div>\n",
    "    </div>\n",
    "</div>"
   ]
  },
  {
   "cell_type": "code",
   "execution_count": 75,
   "metadata": {
    "id": "LSbRZKbMgFyU"
   },
   "outputs": [
    {
     "data": {
      "text/html": [
       "<div>\n",
       "<style scoped>\n",
       "    .dataframe tbody tr th:only-of-type {\n",
       "        vertical-align: middle;\n",
       "    }\n",
       "\n",
       "    .dataframe tbody tr th {\n",
       "        vertical-align: top;\n",
       "    }\n",
       "\n",
       "    .dataframe thead th {\n",
       "        text-align: right;\n",
       "    }\n",
       "</style>\n",
       "<table border=\"1\" class=\"dataframe\">\n",
       "  <thead>\n",
       "    <tr style=\"text-align: right;\">\n",
       "      <th></th>\n",
       "      <th>title</th>\n",
       "      <th>pu_number</th>\n",
       "      <th>show_start_date</th>\n",
       "      <th>type</th>\n",
       "      <th>film_studio</th>\n",
       "      <th>production_country</th>\n",
       "      <th>director</th>\n",
       "      <th>producer</th>\n",
       "      <th>age_restriction</th>\n",
       "      <th>refundable_support</th>\n",
       "      <th>nonrefundable_support</th>\n",
       "      <th>budget</th>\n",
       "      <th>financing_source</th>\n",
       "      <th>ratings</th>\n",
       "      <th>genres</th>\n",
       "      <th>box_office</th>\n",
       "      <th>year</th>\n",
       "      <th>main_genre</th>\n",
       "      <th>main_director</th>\n",
       "    </tr>\n",
       "  </thead>\n",
       "  <tbody>\n",
       "    <tr>\n",
       "      <th>0</th>\n",
       "      <td>открытый простор</td>\n",
       "      <td>221048915</td>\n",
       "      <td>2015-11-27 12:00:00</td>\n",
       "      <td>художественный</td>\n",
       "      <td>тачстоун пикчерз, кобальт пикчерз, бикон пикче...</td>\n",
       "      <td>сша</td>\n",
       "      <td>кевин костнер</td>\n",
       "      <td>дэвид валдес, кевин костнер, джейк эбертс</td>\n",
       "      <td>«18+» - запрещено для детей</td>\n",
       "      <td>NaN</td>\n",
       "      <td>NaN</td>\n",
       "      <td>NaN</td>\n",
       "      <td>NaN</td>\n",
       "      <td>7.20</td>\n",
       "      <td>боевик,драма,мелодрама</td>\n",
       "      <td>NaN</td>\n",
       "      <td>2015</td>\n",
       "      <td>боевик</td>\n",
       "      <td>кевин костнер</td>\n",
       "    </tr>\n",
       "    <tr>\n",
       "      <th>1</th>\n",
       "      <td>особо важное задание</td>\n",
       "      <td>111013716</td>\n",
       "      <td>2016-09-13 12:00:00</td>\n",
       "      <td>художественный</td>\n",
       "      <td>киностудия \"мосфильм\"</td>\n",
       "      <td>ссср</td>\n",
       "      <td>е.матвеев</td>\n",
       "      <td>NaN</td>\n",
       "      <td>«6+» - для детей старше 6 лет</td>\n",
       "      <td>NaN</td>\n",
       "      <td>NaN</td>\n",
       "      <td>NaN</td>\n",
       "      <td>NaN</td>\n",
       "      <td>6.60</td>\n",
       "      <td>драма,военный</td>\n",
       "      <td>NaN</td>\n",
       "      <td>2016</td>\n",
       "      <td>драма</td>\n",
       "      <td>е.матвеев</td>\n",
       "    </tr>\n",
       "    <tr>\n",
       "      <th>2</th>\n",
       "      <td>особо опасен</td>\n",
       "      <td>221038416</td>\n",
       "      <td>2016-10-10 12:00:00</td>\n",
       "      <td>художественный</td>\n",
       "      <td>юниверсал пикчерз, кикстарт продакшнз, марк пл...</td>\n",
       "      <td>сша</td>\n",
       "      <td>тимур бекмамбетов</td>\n",
       "      <td>джим лемли, джейсон нетер, марк е.платт, яйн смит</td>\n",
       "      <td>«18+» - запрещено для детей</td>\n",
       "      <td>NaN</td>\n",
       "      <td>NaN</td>\n",
       "      <td>NaN</td>\n",
       "      <td>NaN</td>\n",
       "      <td>6.80</td>\n",
       "      <td>фантастика,боевик,триллер</td>\n",
       "      <td>NaN</td>\n",
       "      <td>2016</td>\n",
       "      <td>фантастика</td>\n",
       "      <td>тимур бекмамбетов</td>\n",
       "    </tr>\n",
       "    <tr>\n",
       "      <th>3</th>\n",
       "      <td>остановился поезд</td>\n",
       "      <td>111013816</td>\n",
       "      <td>2016-09-13 12:00:00</td>\n",
       "      <td>художественный</td>\n",
       "      <td>киностудия \"мосфильм\"</td>\n",
       "      <td>ссср</td>\n",
       "      <td>в.абдрашитов</td>\n",
       "      <td>NaN</td>\n",
       "      <td>«6+» - для детей старше 6 лет</td>\n",
       "      <td>NaN</td>\n",
       "      <td>NaN</td>\n",
       "      <td>NaN</td>\n",
       "      <td>NaN</td>\n",
       "      <td>7.70</td>\n",
       "      <td>драма</td>\n",
       "      <td>NaN</td>\n",
       "      <td>2016</td>\n",
       "      <td>драма</td>\n",
       "      <td>в.абдрашитов</td>\n",
       "    </tr>\n",
       "    <tr>\n",
       "      <th>4</th>\n",
       "      <td>любовь и голуби</td>\n",
       "      <td>111007013</td>\n",
       "      <td>2013-10-18 12:00:00</td>\n",
       "      <td>художественный</td>\n",
       "      <td>киностудия \"мосфильм\"</td>\n",
       "      <td>ссср</td>\n",
       "      <td>в.меньшов</td>\n",
       "      <td>NaN</td>\n",
       "      <td>«12+» - для детей старше 12 лет</td>\n",
       "      <td>NaN</td>\n",
       "      <td>NaN</td>\n",
       "      <td>NaN</td>\n",
       "      <td>NaN</td>\n",
       "      <td>8.30</td>\n",
       "      <td>мелодрама,комедия</td>\n",
       "      <td>2,700.00</td>\n",
       "      <td>2013</td>\n",
       "      <td>мелодрама</td>\n",
       "      <td>в.меньшов</td>\n",
       "    </tr>\n",
       "  </tbody>\n",
       "</table>\n",
       "</div>"
      ],
      "text/plain": [
       "                  title  pu_number     show_start_date            type  \\\n",
       "0      открытый простор  221048915 2015-11-27 12:00:00  художественный   \n",
       "1  особо важное задание  111013716 2016-09-13 12:00:00  художественный   \n",
       "2          особо опасен  221038416 2016-10-10 12:00:00  художественный   \n",
       "3     остановился поезд  111013816 2016-09-13 12:00:00  художественный   \n",
       "4       любовь и голуби  111007013 2013-10-18 12:00:00  художественный   \n",
       "\n",
       "                                         film_studio production_country  \\\n",
       "0  тачстоун пикчерз, кобальт пикчерз, бикон пикче...                сша   \n",
       "1                              киностудия \"мосфильм\"               ссср   \n",
       "2  юниверсал пикчерз, кикстарт продакшнз, марк пл...                сша   \n",
       "3                              киностудия \"мосфильм\"               ссср   \n",
       "4                              киностудия \"мосфильм\"               ссср   \n",
       "\n",
       "            director                                           producer  \\\n",
       "0      кевин костнер          дэвид валдес, кевин костнер, джейк эбертс   \n",
       "1          е.матвеев                                                NaN   \n",
       "2  тимур бекмамбетов  джим лемли, джейсон нетер, марк е.платт, яйн смит   \n",
       "3       в.абдрашитов                                                NaN   \n",
       "4          в.меньшов                                                NaN   \n",
       "\n",
       "                   age_restriction  refundable_support  nonrefundable_support  \\\n",
       "0      «18+» - запрещено для детей                 NaN                    NaN   \n",
       "1    «6+» - для детей старше 6 лет                 NaN                    NaN   \n",
       "2      «18+» - запрещено для детей                 NaN                    NaN   \n",
       "3    «6+» - для детей старше 6 лет                 NaN                    NaN   \n",
       "4  «12+» - для детей старше 12 лет                 NaN                    NaN   \n",
       "\n",
       "   budget financing_source  ratings                     genres  box_office  \\\n",
       "0     NaN              NaN     7.20     боевик,драма,мелодрама         NaN   \n",
       "1     NaN              NaN     6.60              драма,военный         NaN   \n",
       "2     NaN              NaN     6.80  фантастика,боевик,триллер         NaN   \n",
       "3     NaN              NaN     7.70                      драма         NaN   \n",
       "4     NaN              NaN     8.30          мелодрама,комедия    2,700.00   \n",
       "\n",
       "   year  main_genre      main_director  \n",
       "0  2015      боевик      кевин костнер  \n",
       "1  2016       драма          е.матвеев  \n",
       "2  2016  фантастика  тимур бекмамбетов  \n",
       "3  2016       драма       в.абдрашитов  \n",
       "4  2013   мелодрама          в.меньшов  "
      ]
     },
     "execution_count": 75,
     "metadata": {},
     "output_type": "execute_result"
    }
   ],
   "source": [
    "def splited(value):\n",
    "    return value.str.split(',', expand=True)[0]\n",
    "\n",
    "data['main_genre'] = splited(data['genres'])\n",
    "data['main_director'] = splited(data['director'])\n",
    "data.head()"
   ]
  },
  {
   "cell_type": "markdown",
   "metadata": {
    "id": "1FsCXHwdgFyU"
   },
   "source": [
    "- Посчитайте, какую долю от общего бюджета фильма составляет государственная поддержка."
   ]
  },
  {
   "cell_type": "code",
   "execution_count": 76,
   "metadata": {
    "id": "LV6qFuZLgFyV"
   },
   "outputs": [],
   "source": [
    "data['support_share'] = (data['refundable_support'] + data['nonrefundable_support'])/data['budget'] * 100"
   ]
  },
  {
   "cell_type": "markdown",
   "metadata": {},
   "source": [
    "Выведем информацию о датафрейме для проверки выполненного действия "
   ]
  },
  {
   "cell_type": "code",
   "execution_count": 77,
   "metadata": {
    "scrolled": true
   },
   "outputs": [
    {
     "name": "stdout",
     "output_type": "stream",
     "text": [
      "<class 'pandas.core.frame.DataFrame'>\n",
      "RangeIndex: 6742 entries, 0 to 6741\n",
      "Data columns (total 20 columns):\n",
      " #   Column                 Non-Null Count  Dtype         \n",
      "---  ------                 --------------  -----         \n",
      " 0   title                  6742 non-null   object        \n",
      " 1   pu_number              6742 non-null   int32         \n",
      " 2   show_start_date        6742 non-null   datetime64[ns]\n",
      " 3   type                   6742 non-null   object        \n",
      " 4   film_studio            6726 non-null   object        \n",
      " 5   production_country     6742 non-null   object        \n",
      " 6   director               6742 non-null   object        \n",
      " 7   producer               6190 non-null   object        \n",
      " 8   age_restriction        6742 non-null   object        \n",
      " 9   refundable_support     314 non-null    float32       \n",
      " 10  nonrefundable_support  314 non-null    float32       \n",
      " 11  budget                 314 non-null    float32       \n",
      " 12  financing_source       314 non-null    object        \n",
      " 13  ratings                5791 non-null   float16       \n",
      " 14  genres                 6168 non-null   object        \n",
      " 15  box_office             2997 non-null   float64       \n",
      " 16  year                   6742 non-null   int64         \n",
      " 17  main_genre             6168 non-null   object        \n",
      " 18  main_director          6742 non-null   object        \n",
      " 19  support_share          314 non-null    float32       \n",
      "dtypes: datetime64[ns](1), float16(1), float32(4), float64(1), int32(1), int64(1), object(11)\n",
      "memory usage: 882.4+ KB\n"
     ]
    }
   ],
   "source": [
    "data.info()"
   ]
  },
  {
   "cell_type": "markdown",
   "metadata": {
    "id": "6t4EukPLgFyV"
   },
   "source": [
    "### Шаг 3. Проведите исследовательский анализ данных\n"
   ]
  },
  {
   "cell_type": "markdown",
   "metadata": {
    "id": "vAH8WCzugFyV"
   },
   "source": [
    "- Посмотрите, сколько фильмов выходило в прокат каждый год. Обратите внимание, что данные о прокате в кинотеатрах известны не для всех фильмов. Посчитайте, какую долю составляют фильмы с указанной информацией о прокате в кинотеатрах. Проанализировать, как эта доля менялась по годам. Сделать вывод о том, какой период полнее всего представлен в данных.\n",
    "- Изучите, как менялась динамика проката по годам. В каком году сумма сборов была минимальной? А максимальной?"
   ]
  },
  {
   "cell_type": "markdown",
   "metadata": {},
   "source": [
    "Для начала выведем таблицу количества всех фильмов выходивших в прокат в кинотеатрах, сгруппированных по годам. Для наглядности, закрасим градиентом."
   ]
  },
  {
   "cell_type": "code",
   "execution_count": 78,
   "metadata": {
    "id": "ABeV47y7gFyW",
    "scrolled": true
   },
   "outputs": [
    {
     "data": {
      "text/html": [
       "<style type=\"text/css\">\n",
       "#T_a6845_row0_col0 {\n",
       "  background-color: #3b4cc0;\n",
       "  color: #f1f1f1;\n",
       "}\n",
       "#T_a6845_row1_col0 {\n",
       "  background-color: #4055c8;\n",
       "  color: #f1f1f1;\n",
       "}\n",
       "#T_a6845_row2_col0 {\n",
       "  background-color: #4e68d8;\n",
       "  color: #f1f1f1;\n",
       "}\n",
       "#T_a6845_row3_col0 {\n",
       "  background-color: #7da0f9;\n",
       "  color: #f1f1f1;\n",
       "}\n",
       "#T_a6845_row4_col0 {\n",
       "  background-color: #b9d0f9;\n",
       "  color: #000000;\n",
       "}\n",
       "#T_a6845_row5_col0 {\n",
       "  background-color: #f08b6e;\n",
       "  color: #f1f1f1;\n",
       "}\n",
       "#T_a6845_row6_col0 {\n",
       "  background-color: #cd423b;\n",
       "  color: #f1f1f1;\n",
       "}\n",
       "#T_a6845_row7_col0 {\n",
       "  background-color: #f3c8b2;\n",
       "  color: #000000;\n",
       "}\n",
       "#T_a6845_row8_col0 {\n",
       "  background-color: #dc5d4a;\n",
       "  color: #f1f1f1;\n",
       "}\n",
       "#T_a6845_row9_col0 {\n",
       "  background-color: #b40426;\n",
       "  color: #f1f1f1;\n",
       "}\n",
       "</style>\n",
       "<table id=\"T_a6845\">\n",
       "  <thead>\n",
       "    <tr>\n",
       "      <th class=\"blank level0\" >&nbsp;</th>\n",
       "      <th id=\"T_a6845_level0_col0\" class=\"col_heading level0 col0\" >Количество фильмов</th>\n",
       "    </tr>\n",
       "    <tr>\n",
       "      <th class=\"index_name level0\" >year</th>\n",
       "      <th class=\"blank col0\" >&nbsp;</th>\n",
       "    </tr>\n",
       "  </thead>\n",
       "  <tbody>\n",
       "    <tr>\n",
       "      <th id=\"T_a6845_level0_row0\" class=\"row_heading level0 row0\" >2010</th>\n",
       "      <td id=\"T_a6845_row0_col0\" class=\"data row0 col0\" >87.00</td>\n",
       "    </tr>\n",
       "    <tr>\n",
       "      <th id=\"T_a6845_level0_row1\" class=\"row_heading level0 row1\" >2011</th>\n",
       "      <td id=\"T_a6845_row1_col0\" class=\"data row1 col0\" >97.00</td>\n",
       "    </tr>\n",
       "    <tr>\n",
       "      <th id=\"T_a6845_level0_row2\" class=\"row_heading level0 row2\" >2012</th>\n",
       "      <td id=\"T_a6845_row2_col0\" class=\"data row2 col0\" >115.00</td>\n",
       "    </tr>\n",
       "    <tr>\n",
       "      <th id=\"T_a6845_level0_row3\" class=\"row_heading level0 row3\" >2013</th>\n",
       "      <td id=\"T_a6845_row3_col0\" class=\"data row3 col0\" >176.00</td>\n",
       "    </tr>\n",
       "    <tr>\n",
       "      <th id=\"T_a6845_level0_row4\" class=\"row_heading level0 row4\" >2014</th>\n",
       "      <td id=\"T_a6845_row4_col0\" class=\"data row4 col0\" >251.00</td>\n",
       "    </tr>\n",
       "    <tr>\n",
       "      <th id=\"T_a6845_level0_row5\" class=\"row_heading level0 row5\" >2015</th>\n",
       "      <td id=\"T_a6845_row5_col0\" class=\"data row5 col0\" >429.00</td>\n",
       "    </tr>\n",
       "    <tr>\n",
       "      <th id=\"T_a6845_level0_row6\" class=\"row_heading level0 row6\" >2016</th>\n",
       "      <td id=\"T_a6845_row6_col0\" class=\"data row6 col0\" >492.00</td>\n",
       "    </tr>\n",
       "    <tr>\n",
       "      <th id=\"T_a6845_level0_row7\" class=\"row_heading level0 row7\" >2017</th>\n",
       "      <td id=\"T_a6845_row7_col0\" class=\"data row7 col0\" >354.00</td>\n",
       "    </tr>\n",
       "    <tr>\n",
       "      <th id=\"T_a6845_level0_row8\" class=\"row_heading level0 row8\" >2018</th>\n",
       "      <td id=\"T_a6845_row8_col0\" class=\"data row8 col0\" >472.00</td>\n",
       "    </tr>\n",
       "    <tr>\n",
       "      <th id=\"T_a6845_level0_row9\" class=\"row_heading level0 row9\" >2019</th>\n",
       "      <td id=\"T_a6845_row9_col0\" class=\"data row9 col0\" >524.00</td>\n",
       "    </tr>\n",
       "  </tbody>\n",
       "</table>\n"
      ],
      "text/plain": [
       "<pandas.io.formats.style.Styler at 0x1e2b6eb9d00>"
      ]
     },
     "metadata": {},
     "output_type": "display_data"
    }
   ],
   "source": [
    "data_year = data.groupby('year').agg({'box_office':'count'})\n",
    "display(pd.DataFrame({'Количество фильмов':data_year['box_office'] })\\\n",
    "        .style.format('{:.2f}').background_gradient('coolwarm'))"
   ]
  },
  {
   "cell_type": "markdown",
   "metadata": {},
   "source": [
    "В результате закрашивания градиентом, сразу можно увидеть что:\n",
    "- Максимальное количество фильмов выходило в 2019-м году\n",
    "- Минимальное количество фильмов выходило в 2010-м году\n"
   ]
  },
  {
   "cell_type": "markdown",
   "metadata": {},
   "source": [
    "Построим столбчатую диаграмму, чтобы лучше рассмотреть изменение количества фильмов с каждым годом"
   ]
  },
  {
   "cell_type": "code",
   "execution_count": 79,
   "metadata": {},
   "outputs": [
    {
     "data": {
      "image/png": "[encoded data removed]",
      "text/plain": [
       "<Figure size 432x288 with 1 Axes>"
      ]
     },
     "metadata": {
      "needs_background": "light"
     },
     "output_type": "display_data"
    }
   ],
   "source": [
    "data_year['box_office'].plot(kind= 'bar')\n",
    "plt.title('Столбчатая диаграмма количества всех фильмов, сгруппированных по годам\\n')\n",
    "plt.show()"
   ]
  },
  {
   "cell_type": "markdown",
   "metadata": {},
   "source": [
    "- Самое больше количество фильмов выпало на 2016 и 2019-й год.\n",
    "- В 2017-м году были резкие падения количества фильмов. Возможно это связано с потерей данных \n",
    "- В остальных годах количество умеренно росло "
   ]
  },
  {
   "cell_type": "markdown",
   "metadata": {},
   "source": [
    "Далее выведем долю, которую составляют фильмы с указанной информацией о прокате в кинотеатрах. Для наглядности, также закрасим градиентом и построим столбчатую диаграмму"
   ]
  },
  {
   "cell_type": "code",
   "execution_count": 80,
   "metadata": {
    "scrolled": false
   },
   "outputs": [
    {
     "data": {
      "text/html": [
       "<style type=\"text/css\">\n",
       "#T_507c3_row0_col0 {\n",
       "  background-color: #3b4cc0;\n",
       "  color: #f1f1f1;\n",
       "}\n",
       "#T_507c3_row1_col0 {\n",
       "  background-color: #6b8df0;\n",
       "  color: #f1f1f1;\n",
       "}\n",
       "#T_507c3_row2_col0 {\n",
       "  background-color: #7396f5;\n",
       "  color: #f1f1f1;\n",
       "}\n",
       "#T_507c3_row3_col0 {\n",
       "  background-color: #a2c1ff;\n",
       "  color: #000000;\n",
       "}\n",
       "#T_507c3_row4_col0 {\n",
       "  background-color: #bed2f6;\n",
       "  color: #000000;\n",
       "}\n",
       "#T_507c3_row5_col0 {\n",
       "  background-color: #d65244;\n",
       "  color: #f1f1f1;\n",
       "}\n",
       "#T_507c3_row6_col0 {\n",
       "  background-color: #d95847;\n",
       "  color: #f1f1f1;\n",
       "}\n",
       "#T_507c3_row7_col0 {\n",
       "  background-color: #b40426;\n",
       "  color: #f1f1f1;\n",
       "}\n",
       "#T_507c3_row8_col0 {\n",
       "  background-color: #f7aa8c;\n",
       "  color: #000000;\n",
       "}\n",
       "#T_507c3_row9_col0 {\n",
       "  background-color: #f29072;\n",
       "  color: #f1f1f1;\n",
       "}\n",
       "</style>\n",
       "<table id=\"T_507c3\">\n",
       "  <thead>\n",
       "    <tr>\n",
       "      <th class=\"blank level0\" >&nbsp;</th>\n",
       "      <th id=\"T_507c3_level0_col0\" class=\"col_heading level0 col0\" >Доля проката %</th>\n",
       "    </tr>\n",
       "    <tr>\n",
       "      <th class=\"index_name level0\" >year</th>\n",
       "      <th class=\"blank col0\" >&nbsp;</th>\n",
       "    </tr>\n",
       "  </thead>\n",
       "  <tbody>\n",
       "    <tr>\n",
       "      <th id=\"T_507c3_level0_row0\" class=\"row_heading level0 row0\" >2010</th>\n",
       "      <td id=\"T_507c3_row0_col0\" class=\"data row0 col0\" >11.60</td>\n",
       "    </tr>\n",
       "    <tr>\n",
       "      <th id=\"T_507c3_level0_row1\" class=\"row_heading level0 row1\" >2011</th>\n",
       "      <td id=\"T_507c3_row1_col0\" class=\"data row1 col0\" >20.73</td>\n",
       "    </tr>\n",
       "    <tr>\n",
       "      <th id=\"T_507c3_level0_row2\" class=\"row_heading level0 row2\" >2012</th>\n",
       "      <td id=\"T_507c3_row2_col0\" class=\"data row2 col0\" >22.29</td>\n",
       "    </tr>\n",
       "    <tr>\n",
       "      <th id=\"T_507c3_level0_row3\" class=\"row_heading level0 row3\" >2013</th>\n",
       "      <td id=\"T_507c3_row3_col0\" class=\"data row3 col0\" >30.03</td>\n",
       "    </tr>\n",
       "    <tr>\n",
       "      <th id=\"T_507c3_level0_row4\" class=\"row_heading level0 row4\" >2014</th>\n",
       "      <td id=\"T_507c3_row4_col0\" class=\"data row4 col0\" >34.91</td>\n",
       "    </tr>\n",
       "    <tr>\n",
       "      <th id=\"T_507c3_level0_row5\" class=\"row_heading level0 row5\" >2015</th>\n",
       "      <td id=\"T_507c3_row5_col0\" class=\"data row5 col0\" >65.20</td>\n",
       "    </tr>\n",
       "    <tr>\n",
       "      <th id=\"T_507c3_level0_row6\" class=\"row_heading level0 row6\" >2016</th>\n",
       "      <td id=\"T_507c3_row6_col0\" class=\"data row6 col0\" >64.65</td>\n",
       "    </tr>\n",
       "    <tr>\n",
       "      <th id=\"T_507c3_level0_row7\" class=\"row_heading level0 row7\" >2017</th>\n",
       "      <td id=\"T_507c3_row7_col0\" class=\"data row7 col0\" >71.23</td>\n",
       "    </tr>\n",
       "    <tr>\n",
       "      <th id=\"T_507c3_level0_row8\" class=\"row_heading level0 row8\" >2018</th>\n",
       "      <td id=\"T_507c3_row8_col0\" class=\"data row8 col0\" >53.70</td>\n",
       "    </tr>\n",
       "    <tr>\n",
       "      <th id=\"T_507c3_level0_row9\" class=\"row_heading level0 row9\" >2019</th>\n",
       "      <td id=\"T_507c3_row9_col0\" class=\"data row9 col0\" >57.71</td>\n",
       "    </tr>\n",
       "  </tbody>\n",
       "</table>\n"
      ],
      "text/plain": [
       "<pandas.io.formats.style.Styler at 0x1e2b6fe7520>"
      ]
     },
     "metadata": {},
     "output_type": "display_data"
    }
   ],
   "source": [
    "data_year['all'] = data.groupby('year').agg({'title':'count'})\n",
    "data_year['share'] = data_year['box_office']/data_year['all']*100\n",
    "display(pd.DataFrame({'Доля проката %':data_year['share'] })\\\n",
    "        .style.format('{:.2f}').background_gradient('coolwarm'))"
   ]
  },
  {
   "cell_type": "code",
   "execution_count": 81,
   "metadata": {},
   "outputs": [
    {
     "data": {
      "image/png": "[encoded data removed]",
      "text/plain": [
       "<Figure size 432x288 with 1 Axes>"
      ]
     },
     "metadata": {
      "needs_background": "light"
     },
     "output_type": "display_data"
    }
   ],
   "source": [
    "data_year['share'].plot(kind= 'bar')\n",
    "plt.title('Столбчатая диаграмма доли фильмов с указанной информацией\\n')\n",
    "plt.show()"
   ]
  },
  {
   "cell_type": "markdown",
   "metadata": {},
   "source": [
    "Исходя из данных выведенных выше, можно определить что доля фильмов с указанной информацией о прокате кинотеатрах:\n",
    "- Самая минимальная доля фильмов с указанной информацией была в 2010 году\n",
    "- Полнее всего представлена информация о прокате в кинотеатрах в 2017 году\n",
    "- В течении с 2010 по 2017 год доля указанной информация о прокате фильмов в кинотеатрах с каждым годом росла\n",
    "- В 2017 году доля резко упала, возможно это из за потери данных"
   ]
  },
  {
   "cell_type": "markdown",
   "metadata": {},
   "source": [
    "Далее изучим, как менялась динамика проката по годам. В каком году сумма сборов была минимальной, а в каком году максимальной"
   ]
  },
  {
   "cell_type": "code",
   "execution_count": 82,
   "metadata": {},
   "outputs": [
    {
     "data": {
      "text/html": [
       "<style type=\"text/css\">\n",
       "#T_1c983_row0_col0, #T_1c983_row1_col0, #T_1c983_row2_col0, #T_1c983_row3_col0 {\n",
       "  background-color: #3b4cc0;\n",
       "  color: #f1f1f1;\n",
       "}\n",
       "#T_1c983_row4_col0 {\n",
       "  background-color: #6c8ff1;\n",
       "  color: #f1f1f1;\n",
       "}\n",
       "#T_1c983_row5_col0 {\n",
       "  background-color: #f7b396;\n",
       "  color: #000000;\n",
       "}\n",
       "#T_1c983_row6_col0 {\n",
       "  background-color: #df634e;\n",
       "  color: #f1f1f1;\n",
       "}\n",
       "#T_1c983_row7_col0 {\n",
       "  background-color: #c32e31;\n",
       "  color: #f1f1f1;\n",
       "}\n",
       "#T_1c983_row8_col0 {\n",
       "  background-color: #b40426;\n",
       "  color: #f1f1f1;\n",
       "}\n",
       "#T_1c983_row9_col0 {\n",
       "  background-color: #ca3b37;\n",
       "  color: #f1f1f1;\n",
       "}\n",
       "</style>\n",
       "<table id=\"T_1c983\">\n",
       "  <thead>\n",
       "    <tr>\n",
       "      <th class=\"blank level0\" >&nbsp;</th>\n",
       "      <th id=\"T_1c983_level0_col0\" class=\"col_heading level0 col0\" >Сумма сборов</th>\n",
       "    </tr>\n",
       "    <tr>\n",
       "      <th class=\"index_name level0\" >year</th>\n",
       "      <th class=\"blank col0\" >&nbsp;</th>\n",
       "    </tr>\n",
       "  </thead>\n",
       "  <tbody>\n",
       "    <tr>\n",
       "      <th id=\"T_1c983_level0_row0\" class=\"row_heading level0 row0\" >2010</th>\n",
       "      <td id=\"T_1c983_row0_col0\" class=\"data row0 col0\" >2128710.00</td>\n",
       "    </tr>\n",
       "    <tr>\n",
       "      <th id=\"T_1c983_level0_row1\" class=\"row_heading level0 row1\" >2011</th>\n",
       "      <td id=\"T_1c983_row1_col0\" class=\"data row1 col0\" >13849875.00</td>\n",
       "    </tr>\n",
       "    <tr>\n",
       "      <th id=\"T_1c983_level0_row2\" class=\"row_heading level0 row2\" >2012</th>\n",
       "      <td id=\"T_1c983_row2_col0\" class=\"data row2 col0\" >6420761.00</td>\n",
       "    </tr>\n",
       "    <tr>\n",
       "      <th id=\"T_1c983_level0_row3\" class=\"row_heading level0 row3\" >2013</th>\n",
       "      <td id=\"T_1c983_row3_col0\" class=\"data row3 col0\" >29768531.20</td>\n",
       "    </tr>\n",
       "    <tr>\n",
       "      <th id=\"T_1c983_level0_row4\" class=\"row_heading level0 row4\" >2014</th>\n",
       "      <td id=\"T_1c983_row4_col0\" class=\"data row4 col0\" >7284432741.50</td>\n",
       "    </tr>\n",
       "    <tr>\n",
       "      <th id=\"T_1c983_level0_row5\" class=\"row_heading level0 row5\" >2015</th>\n",
       "      <td id=\"T_1c983_row5_col0\" class=\"data row5 col0\" >31830717954.67</td>\n",
       "    </tr>\n",
       "    <tr>\n",
       "      <th id=\"T_1c983_level0_row6\" class=\"row_heading level0 row6\" >2016</th>\n",
       "      <td id=\"T_1c983_row6_col0\" class=\"data row6 col0\" >40507191754.12</td>\n",
       "    </tr>\n",
       "    <tr>\n",
       "      <th id=\"T_1c983_level0_row7\" class=\"row_heading level0 row7\" >2017</th>\n",
       "      <td id=\"T_1c983_row7_col0\" class=\"data row7 col0\" >44681840460.51</td>\n",
       "    </tr>\n",
       "    <tr>\n",
       "      <th id=\"T_1c983_level0_row8\" class=\"row_heading level0 row8\" >2018</th>\n",
       "      <td id=\"T_1c983_row8_col0\" class=\"data row8 col0\" >46587826236.83</td>\n",
       "    </tr>\n",
       "    <tr>\n",
       "      <th id=\"T_1c983_level0_row9\" class=\"row_heading level0 row9\" >2019</th>\n",
       "      <td id=\"T_1c983_row9_col0\" class=\"data row9 col0\" >43741635337.28</td>\n",
       "    </tr>\n",
       "  </tbody>\n",
       "</table>\n"
      ],
      "text/plain": [
       "<pandas.io.formats.style.Styler at 0x1e2b75505e0>"
      ]
     },
     "metadata": {},
     "output_type": "display_data"
    }
   ],
   "source": [
    "data_year['box_office_sum'] = data.groupby('year').agg({'box_office':'sum'})\n",
    "display(pd.DataFrame({'Сумма сборов':data_year['box_office_sum'] })\\\n",
    "        .style.format('{:.2f}').background_gradient('coolwarm'))"
   ]
  },
  {
   "cell_type": "code",
   "execution_count": 83,
   "metadata": {},
   "outputs": [
    {
     "data": {
      "image/png": "[encoded data removed]",
      "text/plain": [
       "<Figure size 432x288 with 1 Axes>"
      ]
     },
     "metadata": {
      "needs_background": "light"
     },
     "output_type": "display_data"
    }
   ],
   "source": [
    "data_year['box_office_sum'].plot(kind= 'bar')\n",
    "plt.title('Столбчатая диаграмма суммы сборов\\n')\n",
    "plt.show()"
   ]
  },
  {
   "cell_type": "markdown",
   "metadata": {},
   "source": [
    "По полученным данным таблицы и графика видно, что:\n",
    "- Максимальную сумму общего сбора получили в 2018 году\n",
    "- Минимальную сумму общего сбора получили в 2010 году, вполне возможно это из за низкого значения количества фильмов этого года, а также и низкой доли фильмов с указанной информацией о прокате фильма"
   ]
  },
  {
   "cell_type": "markdown",
   "metadata": {
    "id": "G-7qS-N-gFyY"
   },
   "source": [
    "- С помощью сводной таблицы посчитайте среднюю и медианную сумму сборов для каждого года. Сравнить значения и сделать выводы."
   ]
  },
  {
   "cell_type": "markdown",
   "metadata": {},
   "source": [
    "Выведем сводную таблицу с средним и медианным значением общего сбора для каждого года, для наглядности также закрасим градиентом.\n"
   ]
  },
  {
   "cell_type": "code",
   "execution_count": 84,
   "metadata": {
    "id": "jmp-rgg9gFyY",
    "scrolled": false
   },
   "outputs": [
    {
     "data": {
      "text/html": [
       "<style type=\"text/css\">\n",
       "#T_9706e_row0_col0, #T_9706e_row0_col1, #T_9706e_row1_col0, #T_9706e_row1_col1, #T_9706e_row2_col0, #T_9706e_row2_col1, #T_9706e_row3_col0, #T_9706e_row3_col1, #T_9706e_row4_col1 {\n",
       "  background-color: #3b4cc0;\n",
       "  color: #f1f1f1;\n",
       "}\n",
       "#T_9706e_row4_col0 {\n",
       "  background-color: #85a8fc;\n",
       "  color: #f1f1f1;\n",
       "}\n",
       "#T_9706e_row5_col0 {\n",
       "  background-color: #f0cdbb;\n",
       "  color: #000000;\n",
       "}\n",
       "#T_9706e_row5_col1 {\n",
       "  background-color: #cbd8ee;\n",
       "  color: #000000;\n",
       "}\n",
       "#T_9706e_row6_col0 {\n",
       "  background-color: #f6bda2;\n",
       "  color: #000000;\n",
       "}\n",
       "#T_9706e_row6_col1 {\n",
       "  background-color: #b5cdfa;\n",
       "  color: #000000;\n",
       "}\n",
       "#T_9706e_row7_col0, #T_9706e_row7_col1 {\n",
       "  background-color: #b40426;\n",
       "  color: #f1f1f1;\n",
       "}\n",
       "#T_9706e_row8_col0 {\n",
       "  background-color: #f08b6e;\n",
       "  color: #f1f1f1;\n",
       "}\n",
       "#T_9706e_row8_col1 {\n",
       "  background-color: #dc5d4a;\n",
       "  color: #f1f1f1;\n",
       "}\n",
       "#T_9706e_row9_col0 {\n",
       "  background-color: #f7b99e;\n",
       "  color: #000000;\n",
       "}\n",
       "#T_9706e_row9_col1 {\n",
       "  background-color: #d2dbe8;\n",
       "  color: #000000;\n",
       "}\n",
       "</style>\n",
       "<table id=\"T_9706e\">\n",
       "  <thead>\n",
       "    <tr>\n",
       "      <th class=\"blank level0\" >&nbsp;</th>\n",
       "      <th id=\"T_9706e_level0_col0\" class=\"col_heading level0 col0\" >Среднее значение</th>\n",
       "      <th id=\"T_9706e_level0_col1\" class=\"col_heading level0 col1\" >Медиана </th>\n",
       "    </tr>\n",
       "    <tr>\n",
       "      <th class=\"index_name level0\" >year</th>\n",
       "      <th class=\"blank col0\" >&nbsp;</th>\n",
       "      <th class=\"blank col1\" >&nbsp;</th>\n",
       "    </tr>\n",
       "  </thead>\n",
       "  <tbody>\n",
       "    <tr>\n",
       "      <th id=\"T_9706e_level0_row0\" class=\"row_heading level0 row0\" >2010</th>\n",
       "      <td id=\"T_9706e_row0_col0\" class=\"data row0 col0\" >24467.93</td>\n",
       "      <td id=\"T_9706e_row0_col1\" class=\"data row0 col1\" >1820.00</td>\n",
       "    </tr>\n",
       "    <tr>\n",
       "      <th id=\"T_9706e_level0_row1\" class=\"row_heading level0 row1\" >2011</th>\n",
       "      <td id=\"T_9706e_row1_col0\" class=\"data row1 col0\" >142782.22</td>\n",
       "      <td id=\"T_9706e_row1_col1\" class=\"data row1 col1\" >3000.00</td>\n",
       "    </tr>\n",
       "    <tr>\n",
       "      <th id=\"T_9706e_level0_row2\" class=\"row_heading level0 row2\" >2012</th>\n",
       "      <td id=\"T_9706e_row2_col0\" class=\"data row2 col0\" >55832.70</td>\n",
       "      <td id=\"T_9706e_row2_col1\" class=\"data row2 col1\" >6655.00</td>\n",
       "    </tr>\n",
       "    <tr>\n",
       "      <th id=\"T_9706e_level0_row3\" class=\"row_heading level0 row3\" >2013</th>\n",
       "      <td id=\"T_9706e_row3_col0\" class=\"data row3 col0\" >169139.38</td>\n",
       "      <td id=\"T_9706e_row3_col1\" class=\"data row3 col1\" >3565.00</td>\n",
       "    </tr>\n",
       "    <tr>\n",
       "      <th id=\"T_9706e_level0_row4\" class=\"row_heading level0 row4\" >2014</th>\n",
       "      <td id=\"T_9706e_row4_col0\" class=\"data row4 col0\" >29021644.39</td>\n",
       "      <td id=\"T_9706e_row4_col1\" class=\"data row4 col1\" >22660.00</td>\n",
       "    </tr>\n",
       "    <tr>\n",
       "      <th id=\"T_9706e_level0_row5\" class=\"row_heading level0 row5\" >2015</th>\n",
       "      <td id=\"T_9706e_row5_col0\" class=\"data row5 col0\" >74197477.75</td>\n",
       "      <td id=\"T_9706e_row5_col1\" class=\"data row5 col1\" >4321194.60</td>\n",
       "    </tr>\n",
       "    <tr>\n",
       "      <th id=\"T_9706e_level0_row6\" class=\"row_heading level0 row6\" >2016</th>\n",
       "      <td id=\"T_9706e_row6_col0\" class=\"data row6 col0\" >82331690.56</td>\n",
       "      <td id=\"T_9706e_row6_col1\" class=\"data row6 col1\" >3597517.70</td>\n",
       "    </tr>\n",
       "    <tr>\n",
       "      <th id=\"T_9706e_level0_row7\" class=\"row_heading level0 row7\" >2017</th>\n",
       "      <td id=\"T_9706e_row7_col0\" class=\"data row7 col0\" >126219888.31</td>\n",
       "      <td id=\"T_9706e_row7_col1\" class=\"data row7 col1\" >9898090.00</td>\n",
       "    </tr>\n",
       "    <tr>\n",
       "      <th id=\"T_9706e_level0_row8\" class=\"row_heading level0 row8\" >2018</th>\n",
       "      <td id=\"T_9706e_row8_col0\" class=\"data row8 col0\" >98703021.69</td>\n",
       "      <td id=\"T_9706e_row8_col1\" class=\"data row8 col1\" >8730277.53</td>\n",
       "    </tr>\n",
       "    <tr>\n",
       "      <th id=\"T_9706e_level0_row9\" class=\"row_heading level0 row9\" >2019</th>\n",
       "      <td id=\"T_9706e_row9_col0\" class=\"data row9 col0\" >83476403.32</td>\n",
       "      <td id=\"T_9706e_row9_col1\" class=\"data row9 col1\" >4547560.37</td>\n",
       "    </tr>\n",
       "  </tbody>\n",
       "</table>\n"
      ],
      "text/plain": [
       "<pandas.io.formats.style.Styler at 0x1e2b6f45a00>"
      ]
     },
     "execution_count": 84,
     "metadata": {},
     "output_type": "execute_result"
    }
   ],
   "source": [
    "pd.DataFrame({'Среднее значение':data.pivot_table(index = 'year', \\\n",
    "values = 'box_office', aggfunc = ('mean', 'median'))['mean'] , \\\n",
    "'Медиана ':data.pivot_table(index = 'year', values = 'box_office', \\\n",
    "aggfunc = ('mean', 'median'))['median'] }).style.format('{:.2f}').background_gradient('coolwarm')"
   ]
  },
  {
   "cell_type": "markdown",
   "metadata": {},
   "source": [
    "Дополнительно для наглядности и примера, рассмотрим диаграмму размаха для величины `box_office` по 2019 году"
   ]
  },
  {
   "cell_type": "code",
   "execution_count": 85,
   "metadata": {},
   "outputs": [
    {
     "data": {
      "image/png": "[encoded data removed]",
      "text/plain": [
       "<Figure size 432x288 with 1 Axes>"
      ]
     },
     "metadata": {
      "needs_background": "light"
     },
     "output_type": "display_data"
    }
   ],
   "source": [
    "data.loc[data['year'] == 2019].boxplot('box_office')\n",
    "plt.show()"
   ]
  },
  {
   "cell_type": "markdown",
   "metadata": {},
   "source": [
    "В результате можно определить, что значения столбца `box_office` имеют сильный разброс данных, в итоге среднее арифметическое значительно больше медиианного значения"
   ]
  },
  {
   "cell_type": "markdown",
   "metadata": {},
   "source": [
    "- Самый высокий общий сбор выпадает на 2017й год\n",
    "- С 2010 по 2014 год самые минимальные значения, возможно это связано с отсутствием данных в столбце общего сбора\n",
    "- У фильмов 2018 года хороший общий сбор\n",
    "- В 2019-м году медианное значение общего сбора упала, что означает что значения общего сбора упали по сравнению с 2018 годом\n",
    "- Медианное значение по всем годам значительно меньше среднего значения. Это обусловлено тем, что среднее арифметическое было смещено из за некоторого количества фильмов с большим значением общего сбора.\n",
    "- Это значит, что имеются фильмы с большим значеним общего сбора, которые превышает и выбиваются от  фильмов имеющих маленькое или среднее значения общего сбора"
   ]
  },
  {
   "cell_type": "markdown",
   "metadata": {
    "id": "Ok89WFwJgFyZ"
   },
   "source": [
    "- Определите, влияет ли возрастное ограничение аудитории («6+», «12+», «16+», «18+» и т. д.) на сборы фильма в прокате в период с 2015 по 2019 год? Фильмы с каким возрастным ограничением собрали больше всего денег в прокате? Меняется ли картина в зависимости от года? Если да, предположите, с чем это может быть связано."
   ]
  },
  {
   "cell_type": "markdown",
   "metadata": {},
   "source": [
    "Для определения влияния возрастных ограничений аудитории на сборы в период с 2015го по 2019й год, необходимо для начала создать новый датафрейм, в который входят только с 2015 по 2019 год. Используя этот датафрейм выведем диаграмму размаха по возрастным ограничениям аудитории и общего сбора"
   ]
  },
  {
   "cell_type": "code",
   "execution_count": 86,
   "metadata": {},
   "outputs": [],
   "source": [
    "data['age_restriction'] = data['age_restriction'].replace('«0+» - для любой зрительской аудитории', '0+')\n",
    "data['age_restriction'] = data['age_restriction'].replace('«12+» - для детей старше 12 лет', '12+')\n",
    "data['age_restriction'] = data['age_restriction'].replace('«16+» - для детей старше 16 лет', '16+')\n",
    "data['age_restriction'] = data['age_restriction'].replace('«18+» - запрещено для детей', '18+')\n",
    "data['age_restriction'] = data['age_restriction'].replace('«6+» - для детей старше 6 лет', '6+')\n"
   ]
  },
  {
   "cell_type": "code",
   "execution_count": 87,
   "metadata": {},
   "outputs": [],
   "source": [
    "data_15_until_19 = data.query('year <= 2019 & year >= 2015')"
   ]
  },
  {
   "cell_type": "code",
   "execution_count": 88,
   "metadata": {
    "id": "jsSbEqfjgFya",
    "scrolled": false
   },
   "outputs": [
    {
     "data": {
      "image/png": "[encoded data removed]",
      "text/plain": [
       "<Figure size 1440x720 with 1 Axes>"
      ]
     },
     "metadata": {
      "needs_background": "light"
     },
     "output_type": "display_data"
    }
   ],
   "source": [
    "data_15_until_19[data_15_until_19.age_restriction.isin(data_15_until_19.age_restriction.unique())].boxplot('box_office', by='age_restriction',figsize=(20,10));\n",
    "plt.suptitle('Диаграмма размаха по возрастным ограничениям аудитории\\n', fontsize=20)\n",
    "plt.show()"
   ]
  },
  {
   "cell_type": "markdown",
   "metadata": {},
   "source": [
    "Для удобства создадим переменные `data_15_19_count` и `data_15_19_sum`, в которых записаны сводные таблицы по годам с 2015 по 2019, высчитывающие количество и сумму общего сбора по возрастным ограничениям аудитории"
   ]
  },
  {
   "cell_type": "code",
   "execution_count": 89,
   "metadata": {
    "scrolled": false
   },
   "outputs": [
    {
     "data": {
      "text/html": [
       "<div>\n",
       "<style scoped>\n",
       "    .dataframe tbody tr th:only-of-type {\n",
       "        vertical-align: middle;\n",
       "    }\n",
       "\n",
       "    .dataframe tbody tr th {\n",
       "        vertical-align: top;\n",
       "    }\n",
       "\n",
       "    .dataframe thead th {\n",
       "        text-align: right;\n",
       "    }\n",
       "</style>\n",
       "<table border=\"1\" class=\"dataframe\">\n",
       "  <thead>\n",
       "    <tr style=\"text-align: right;\">\n",
       "      <th>age_restriction</th>\n",
       "      <th>0+</th>\n",
       "      <th>12+</th>\n",
       "      <th>16+</th>\n",
       "      <th>18+</th>\n",
       "      <th>6+</th>\n",
       "    </tr>\n",
       "    <tr>\n",
       "      <th>year</th>\n",
       "      <th></th>\n",
       "      <th></th>\n",
       "      <th></th>\n",
       "      <th></th>\n",
       "      <th></th>\n",
       "    </tr>\n",
       "  </thead>\n",
       "  <tbody>\n",
       "    <tr>\n",
       "      <th>2015</th>\n",
       "      <td>36</td>\n",
       "      <td>72</td>\n",
       "      <td>157</td>\n",
       "      <td>116</td>\n",
       "      <td>48</td>\n",
       "    </tr>\n",
       "    <tr>\n",
       "      <th>2016</th>\n",
       "      <td>36</td>\n",
       "      <td>77</td>\n",
       "      <td>166</td>\n",
       "      <td>146</td>\n",
       "      <td>67</td>\n",
       "    </tr>\n",
       "    <tr>\n",
       "      <th>2017</th>\n",
       "      <td>3</td>\n",
       "      <td>40</td>\n",
       "      <td>120</td>\n",
       "      <td>147</td>\n",
       "      <td>44</td>\n",
       "    </tr>\n",
       "    <tr>\n",
       "      <th>2018</th>\n",
       "      <td>5</td>\n",
       "      <td>66</td>\n",
       "      <td>155</td>\n",
       "      <td>179</td>\n",
       "      <td>67</td>\n",
       "    </tr>\n",
       "    <tr>\n",
       "      <th>2019</th>\n",
       "      <td>3</td>\n",
       "      <td>83</td>\n",
       "      <td>176</td>\n",
       "      <td>183</td>\n",
       "      <td>79</td>\n",
       "    </tr>\n",
       "  </tbody>\n",
       "</table>\n",
       "</div>"
      ],
      "text/plain": [
       "age_restriction  0+  12+  16+  18+  6+\n",
       "year                                  \n",
       "2015             36   72  157  116  48\n",
       "2016             36   77  166  146  67\n",
       "2017              3   40  120  147  44\n",
       "2018              5   66  155  179  67\n",
       "2019              3   83  176  183  79"
      ]
     },
     "metadata": {},
     "output_type": "display_data"
    },
    {
     "data": {
      "text/html": [
       "<div>\n",
       "<style scoped>\n",
       "    .dataframe tbody tr th:only-of-type {\n",
       "        vertical-align: middle;\n",
       "    }\n",
       "\n",
       "    .dataframe tbody tr th {\n",
       "        vertical-align: top;\n",
       "    }\n",
       "\n",
       "    .dataframe thead th {\n",
       "        text-align: right;\n",
       "    }\n",
       "</style>\n",
       "<table border=\"1\" class=\"dataframe\">\n",
       "  <thead>\n",
       "    <tr style=\"text-align: right;\">\n",
       "      <th>age_restriction</th>\n",
       "      <th>0+</th>\n",
       "      <th>12+</th>\n",
       "      <th>16+</th>\n",
       "      <th>18+</th>\n",
       "      <th>6+</th>\n",
       "    </tr>\n",
       "    <tr>\n",
       "      <th>year</th>\n",
       "      <th></th>\n",
       "      <th></th>\n",
       "      <th></th>\n",
       "      <th></th>\n",
       "      <th></th>\n",
       "    </tr>\n",
       "  </thead>\n",
       "  <tbody>\n",
       "    <tr>\n",
       "      <th>2015</th>\n",
       "      <td>273,367,767.78</td>\n",
       "      <td>11,957,220,583.41</td>\n",
       "      <td>8,130,492,733.69</td>\n",
       "      <td>3,184,097,942.98</td>\n",
       "      <td>8,285,538,926.81</td>\n",
       "    </tr>\n",
       "    <tr>\n",
       "      <th>2016</th>\n",
       "      <td>149,292,921.67</td>\n",
       "      <td>10,721,515,274.39</td>\n",
       "      <td>13,995,064,475.20</td>\n",
       "      <td>4,990,430,064.62</td>\n",
       "      <td>10,650,889,018.24</td>\n",
       "    </tr>\n",
       "    <tr>\n",
       "      <th>2017</th>\n",
       "      <td>229,598,930.00</td>\n",
       "      <td>7,261,022,595.67</td>\n",
       "      <td>18,233,267,352.06</td>\n",
       "      <td>9,651,495,581.02</td>\n",
       "      <td>9,306,456,001.76</td>\n",
       "    </tr>\n",
       "    <tr>\n",
       "      <th>2018</th>\n",
       "      <td>32,449,002.11</td>\n",
       "      <td>13,446,763,655.48</td>\n",
       "      <td>14,820,922,307.93</td>\n",
       "      <td>8,760,085,501.15</td>\n",
       "      <td>9,527,605,770.16</td>\n",
       "    </tr>\n",
       "    <tr>\n",
       "      <th>2019</th>\n",
       "      <td>17,746,066.82</td>\n",
       "      <td>8,888,926,897.35</td>\n",
       "      <td>12,695,283,713.20</td>\n",
       "      <td>10,121,796,303.64</td>\n",
       "      <td>12,017,882,356.27</td>\n",
       "    </tr>\n",
       "  </tbody>\n",
       "</table>\n",
       "</div>"
      ],
      "text/plain": [
       "age_restriction             0+               12+               16+  \\\n",
       "year                                                                 \n",
       "2015            273,367,767.78 11,957,220,583.41  8,130,492,733.69   \n",
       "2016            149,292,921.67 10,721,515,274.39 13,995,064,475.20   \n",
       "2017            229,598,930.00  7,261,022,595.67 18,233,267,352.06   \n",
       "2018             32,449,002.11 13,446,763,655.48 14,820,922,307.93   \n",
       "2019             17,746,066.82  8,888,926,897.35 12,695,283,713.20   \n",
       "\n",
       "age_restriction               18+                6+  \n",
       "year                                                 \n",
       "2015             3,184,097,942.98  8,285,538,926.81  \n",
       "2016             4,990,430,064.62 10,650,889,018.24  \n",
       "2017             9,651,495,581.02  9,306,456,001.76  \n",
       "2018             8,760,085,501.15  9,527,605,770.16  \n",
       "2019            10,121,796,303.64 12,017,882,356.27  "
      ]
     },
     "execution_count": 89,
     "metadata": {},
     "output_type": "execute_result"
    }
   ],
   "source": [
    "data_15_19_count = data_15_until_19.pivot_table(index = 'year', columns = 'age_restriction', values = 'box_office', aggfunc = ('count'))\n",
    "display(data_15_19_count)\n",
    "data_15_19_sum = data_15_until_19.pivot_table(index = 'year', columns = 'age_restriction', values = 'box_office', aggfunc = ('sum'))\n",
    "data_15_19_sum"
   ]
  },
  {
   "cell_type": "markdown",
   "metadata": {},
   "source": [
    "Построим столбчатую диаграммы по таблице с количеством фильмов"
   ]
  },
  {
   "cell_type": "code",
   "execution_count": 90,
   "metadata": {},
   "outputs": [
    {
     "data": {
      "image/png": "[encoded data removed]",
      "text/plain": [
       "<Figure size 1440x720 with 1 Axes>"
      ]
     },
     "metadata": {
      "needs_background": "light"
     },
     "output_type": "display_data"
    }
   ],
   "source": [
    "data_15_19_count.plot(kind= 'bar', figsize = (20,10))\n",
    "plt.show()"
   ]
  },
  {
   "cell_type": "markdown",
   "metadata": {},
   "source": [
    "По результатам диаграммы можно определить что:\n",
    "- Самое минимальное количество фильмов на каждый год приходится на аудиторию - `«0+» - для любой зрительской аудитории`\n",
    "- Самое большое количество фильмов на каждый год выходят для аудиторий `«16+» - для детей старше 16 лет` и `«18+» - запрещено для детей`\n",
    "- С каждым годом количество фильмов для аудитории `«18+» - запрещено для детей` становится все больше\n",
    "- С каждым годом количество фильмов для аудитории `«0+» - для любой зрительской аудитории` становится все меньше\n",
    "\n",
    "Далее построим столбчатую диаграмму для суммы общего сбора"
   ]
  },
  {
   "cell_type": "code",
   "execution_count": 91,
   "metadata": {},
   "outputs": [
    {
     "data": {
      "image/png": "[encoded data removed]",
      "text/plain": [
       "<Figure size 1440x720 with 1 Axes>"
      ]
     },
     "metadata": {
      "needs_background": "light"
     },
     "output_type": "display_data"
    }
   ],
   "source": [
    "data_15_19_sum.plot(kind= 'bar', figsize = (20,10))\n",
    "plt.show()"
   ]
  },
  {
   "cell_type": "markdown",
   "metadata": {},
   "source": [
    "По результатам диаграммы видим, что:\n",
    "- Фильмы для аудитории `«0+» - для любой зрительской аудитории` минимальный сбор\n",
    "- С 2016 по 2019 год наибольшую сумму общего сбора собирают фильмы для аудитории `«16+» - для детей старше 16 лет`\n"
   ]
  },
  {
   "cell_type": "markdown",
   "metadata": {
    "id": "l_Kg6Ku4gFya"
   },
   "source": [
    "### Шаг 4. Исследуйте фильмы, которые получили государственную поддержку\n",
    "\n",
    "На этом этапе нет конкретных инструкций и заданий — поищите интересные закономерности в данных. Посмотрите, сколько выделяют средств на поддержку кино. Проверьте, хорошо ли окупаются такие фильмы, какой у них рейтинг."
   ]
  },
  {
   "cell_type": "markdown",
   "metadata": {},
   "source": [
    "Для облегчения создадим новые столбцы `full_support` в который входят и возвратный и невозвратные средства поддержки, `payback` - в который входит разница возвратного средства поддержки от общего сбора"
   ]
  },
  {
   "cell_type": "code",
   "execution_count": 92,
   "metadata": {},
   "outputs": [],
   "source": [
    "data['full_support'] = data['refundable_support'] + data['nonrefundable_support']\n",
    "data['payback'] = data['box_office'] - data['refundable_support']"
   ]
  },
  {
   "cell_type": "markdown",
   "metadata": {},
   "source": [
    "Далее, сделаем срез по фильмам с господдержкой, для этого сначала  рассмотрим список характеристик"
   ]
  },
  {
   "cell_type": "code",
   "execution_count": 93,
   "metadata": {},
   "outputs": [
    {
     "data": {
      "text/plain": [
       "count           314.00\n",
       "mean     49,661,080.00\n",
       "std      46,796,580.00\n",
       "min       3,000,000.00\n",
       "25%      25,000,000.00\n",
       "50%      35,000,000.00\n",
       "75%      55,000,000.00\n",
       "max     500,000,000.00\n",
       "Name: full_support, dtype: float64"
      ]
     },
     "execution_count": 93,
     "metadata": {},
     "output_type": "execute_result"
    }
   ],
   "source": [
    "data['full_support'].describe()"
   ]
  },
  {
   "cell_type": "markdown",
   "metadata": {},
   "source": [
    "Делаем срез и проверяем"
   ]
  },
  {
   "cell_type": "code",
   "execution_count": 94,
   "metadata": {},
   "outputs": [
    {
     "data": {
      "text/html": [
       "<div>\n",
       "<style scoped>\n",
       "    .dataframe tbody tr th:only-of-type {\n",
       "        vertical-align: middle;\n",
       "    }\n",
       "\n",
       "    .dataframe tbody tr th {\n",
       "        vertical-align: top;\n",
       "    }\n",
       "\n",
       "    .dataframe thead th {\n",
       "        text-align: right;\n",
       "    }\n",
       "</style>\n",
       "<table border=\"1\" class=\"dataframe\">\n",
       "  <thead>\n",
       "    <tr style=\"text-align: right;\">\n",
       "      <th></th>\n",
       "      <th>title</th>\n",
       "      <th>pu_number</th>\n",
       "      <th>show_start_date</th>\n",
       "      <th>type</th>\n",
       "      <th>film_studio</th>\n",
       "      <th>production_country</th>\n",
       "      <th>director</th>\n",
       "      <th>producer</th>\n",
       "      <th>age_restriction</th>\n",
       "      <th>refundable_support</th>\n",
       "      <th>...</th>\n",
       "      <th>financing_source</th>\n",
       "      <th>ratings</th>\n",
       "      <th>genres</th>\n",
       "      <th>box_office</th>\n",
       "      <th>year</th>\n",
       "      <th>main_genre</th>\n",
       "      <th>main_director</th>\n",
       "      <th>support_share</th>\n",
       "      <th>full_support</th>\n",
       "      <th>payback</th>\n",
       "    </tr>\n",
       "  </thead>\n",
       "  <tbody>\n",
       "    <tr>\n",
       "      <th>1162</th>\n",
       "      <td>пока еще жива</td>\n",
       "      <td>111005313</td>\n",
       "      <td>2013-10-11 12:00:00</td>\n",
       "      <td>художественный</td>\n",
       "      <td>ано содействия развитию кинематографии \"ангел-...</td>\n",
       "      <td>россия</td>\n",
       "      <td>а.атанесян</td>\n",
       "      <td>а.атанесян, м.бабаханов, р.бутко</td>\n",
       "      <td>16+</td>\n",
       "      <td>0.00</td>\n",
       "      <td>...</td>\n",
       "      <td>Министерство культуры</td>\n",
       "      <td>8.10</td>\n",
       "      <td>драма,мелодрама</td>\n",
       "      <td>365,353.60</td>\n",
       "      <td>2013</td>\n",
       "      <td>драма</td>\n",
       "      <td>а.атанесян</td>\n",
       "      <td>33.37</td>\n",
       "      <td>26,500,000.00</td>\n",
       "      <td>365,353.60</td>\n",
       "    </tr>\n",
       "    <tr>\n",
       "      <th>1312</th>\n",
       "      <td>бесславные придурки</td>\n",
       "      <td>111003314</td>\n",
       "      <td>2014-03-28 12:00:00</td>\n",
       "      <td>художественный</td>\n",
       "      <td>ооо \"компания \"атк-студио\"</td>\n",
       "      <td>россия</td>\n",
       "      <td>а.якимчук</td>\n",
       "      <td>а.тютрюмов</td>\n",
       "      <td>12+</td>\n",
       "      <td>0.00</td>\n",
       "      <td>...</td>\n",
       "      <td>Министерство культуры</td>\n",
       "      <td>NaN</td>\n",
       "      <td>NaN</td>\n",
       "      <td>28,140.00</td>\n",
       "      <td>2014</td>\n",
       "      <td>NaN</td>\n",
       "      <td>а.якимчук</td>\n",
       "      <td>70.00</td>\n",
       "      <td>26,000,000.00</td>\n",
       "      <td>28,140.00</td>\n",
       "    </tr>\n",
       "    <tr>\n",
       "      <th>1356</th>\n",
       "      <td>невидимки</td>\n",
       "      <td>111004213</td>\n",
       "      <td>2013-09-10 12:00:00</td>\n",
       "      <td>художественный</td>\n",
       "      <td>ооо \"компания \"реал-дакота\"</td>\n",
       "      <td>россия</td>\n",
       "      <td>р.давлетьяров, с.комаров</td>\n",
       "      <td>р.давлетьяров, а.котелевский, а.олейников</td>\n",
       "      <td>12+</td>\n",
       "      <td>0.00</td>\n",
       "      <td>...</td>\n",
       "      <td>Фонд кино</td>\n",
       "      <td>5.30</td>\n",
       "      <td>комедия,фантастика</td>\n",
       "      <td>19,957,031.50</td>\n",
       "      <td>2013</td>\n",
       "      <td>комедия</td>\n",
       "      <td>р.давлетьяров</td>\n",
       "      <td>61.27</td>\n",
       "      <td>107,847,944.00</td>\n",
       "      <td>19,957,031.50</td>\n",
       "    </tr>\n",
       "    <tr>\n",
       "      <th>1379</th>\n",
       "      <td>берцы</td>\n",
       "      <td>111004314</td>\n",
       "      <td>2014-05-05 12:00:00</td>\n",
       "      <td>художественный</td>\n",
       "      <td>ооо \"студия \"пассажир\"</td>\n",
       "      <td>россия</td>\n",
       "      <td>е.миндадзе (псевдоним катя шагалова)</td>\n",
       "      <td>л.антонова</td>\n",
       "      <td>16+</td>\n",
       "      <td>0.00</td>\n",
       "      <td>...</td>\n",
       "      <td>Министерство культуры</td>\n",
       "      <td>4.20</td>\n",
       "      <td>драма</td>\n",
       "      <td>55,917.50</td>\n",
       "      <td>2014</td>\n",
       "      <td>драма</td>\n",
       "      <td>е.миндадзе (псевдоним катя шагалова)</td>\n",
       "      <td>69.01</td>\n",
       "      <td>28,000,000.00</td>\n",
       "      <td>55,917.50</td>\n",
       "    </tr>\n",
       "    <tr>\n",
       "      <th>1623</th>\n",
       "      <td>братья ч</td>\n",
       "      <td>111004414</td>\n",
       "      <td>2014-04-23 12:00:00</td>\n",
       "      <td>художественный</td>\n",
       "      <td>ооо \"студия \"пассажир\"</td>\n",
       "      <td>россия</td>\n",
       "      <td>м.угаров</td>\n",
       "      <td>а.миндадзе, л.антонова</td>\n",
       "      <td>16+</td>\n",
       "      <td>0.00</td>\n",
       "      <td>...</td>\n",
       "      <td>Министерство культуры</td>\n",
       "      <td>6.40</td>\n",
       "      <td>драма</td>\n",
       "      <td>232,100.00</td>\n",
       "      <td>2014</td>\n",
       "      <td>драма</td>\n",
       "      <td>м.угаров</td>\n",
       "      <td>62.48</td>\n",
       "      <td>25,000,000.00</td>\n",
       "      <td>232,100.00</td>\n",
       "    </tr>\n",
       "  </tbody>\n",
       "</table>\n",
       "<p>5 rows × 22 columns</p>\n",
       "</div>"
      ],
      "text/plain": [
       "                    title  pu_number     show_start_date            type  \\\n",
       "1162        пока еще жива  111005313 2013-10-11 12:00:00  художественный   \n",
       "1312  бесславные придурки  111003314 2014-03-28 12:00:00  художественный   \n",
       "1356            невидимки  111004213 2013-09-10 12:00:00  художественный   \n",
       "1379                берцы  111004314 2014-05-05 12:00:00  художественный   \n",
       "1623             братья ч  111004414 2014-04-23 12:00:00  художественный   \n",
       "\n",
       "                                            film_studio production_country  \\\n",
       "1162  ано содействия развитию кинематографии \"ангел-...             россия   \n",
       "1312                         ооо \"компания \"атк-студио\"             россия   \n",
       "1356                        ооо \"компания \"реал-дакота\"             россия   \n",
       "1379                             ооо \"студия \"пассажир\"             россия   \n",
       "1623                             ооо \"студия \"пассажир\"             россия   \n",
       "\n",
       "                                  director  \\\n",
       "1162                            а.атанесян   \n",
       "1312                             а.якимчук   \n",
       "1356              р.давлетьяров, с.комаров   \n",
       "1379  е.миндадзе (псевдоним катя шагалова)   \n",
       "1623                              м.угаров   \n",
       "\n",
       "                                       producer age_restriction  \\\n",
       "1162           а.атанесян, м.бабаханов, р.бутко             16+   \n",
       "1312                                 а.тютрюмов             12+   \n",
       "1356  р.давлетьяров, а.котелевский, а.олейников             12+   \n",
       "1379                                 л.антонова             16+   \n",
       "1623                     а.миндадзе, л.антонова             16+   \n",
       "\n",
       "      refundable_support  ...       financing_source  ratings  \\\n",
       "1162                0.00  ...  Министерство культуры     8.10   \n",
       "1312                0.00  ...  Министерство культуры      NaN   \n",
       "1356                0.00  ...              Фонд кино     5.30   \n",
       "1379                0.00  ...  Министерство культуры     4.20   \n",
       "1623                0.00  ...  Министерство культуры     6.40   \n",
       "\n",
       "                  genres    box_office  year  main_genre  \\\n",
       "1162     драма,мелодрама    365,353.60  2013       драма   \n",
       "1312                 NaN     28,140.00  2014         NaN   \n",
       "1356  комедия,фантастика 19,957,031.50  2013     комедия   \n",
       "1379               драма     55,917.50  2014       драма   \n",
       "1623               драма    232,100.00  2014       драма   \n",
       "\n",
       "                             main_director support_share   full_support  \\\n",
       "1162                            а.атанесян         33.37  26,500,000.00   \n",
       "1312                             а.якимчук         70.00  26,000,000.00   \n",
       "1356                         р.давлетьяров         61.27 107,847,944.00   \n",
       "1379  е.миндадзе (псевдоним катя шагалова)         69.01  28,000,000.00   \n",
       "1623                              м.угаров         62.48  25,000,000.00   \n",
       "\n",
       "           payback  \n",
       "1162    365,353.60  \n",
       "1312     28,140.00  \n",
       "1356 19,957,031.50  \n",
       "1379     55,917.50  \n",
       "1623    232,100.00  \n",
       "\n",
       "[5 rows x 22 columns]"
      ]
     },
     "execution_count": 94,
     "metadata": {},
     "output_type": "execute_result"
    }
   ],
   "source": [
    "data_support = data.loc[data['full_support'] >= 3000000]\n",
    "data_support.head()"
   ]
  },
  {
   "cell_type": "markdown",
   "metadata": {},
   "source": [
    "Далее рассмотрим сколько выдали средств для поддержки возвратным и невозвратным путем на каждый год"
   ]
  },
  {
   "cell_type": "code",
   "execution_count": 95,
   "metadata": {
    "id": "W9QKpjUdgFyb"
   },
   "outputs": [
    {
     "data": {
      "image/png": "[encoded data removed]",
      "text/plain": [
       "<Figure size 432x288 with 1 Axes>"
      ]
     },
     "metadata": {
      "needs_background": "light"
     },
     "output_type": "display_data"
    }
   ],
   "source": [
    "data_support.pivot_table(index = 'year', values = ['refundable_support'], aggfunc = (sum)).plot(kind= 'bar')\n",
    "plt.show()"
   ]
  },
  {
   "cell_type": "code",
   "execution_count": 96,
   "metadata": {},
   "outputs": [
    {
     "data": {
      "image/png": "[encoded data removed]",
      "text/plain": [
       "<Figure size 432x288 with 1 Axes>"
      ]
     },
     "metadata": {
      "needs_background": "light"
     },
     "output_type": "display_data"
    }
   ],
   "source": [
    "data_support.pivot_table(index = 'year', values = ['nonrefundable_support'], aggfunc = (sum)).plot(kind= 'bar')\n",
    "plt.show()"
   ]
  },
  {
   "cell_type": "markdown",
   "metadata": {},
   "source": [
    "По результатам видно, что \n",
    "- с 2010 по 2013 год нет возвратной и с 2010 по 2012 нет невозвратной поддержки, отсюда следует что в эти годы не внесены данные о государственных поддержках\n",
    "- в 2013 - 2014 годах минимальная поддержка, возможно это так же из за потери данных в эти годы как говорилось ранее\n",
    "- Максимальную возвратную поддержку получили в 2015 году\n",
    "- Максимальную невозвратную поддержку получили в 2019 году\n",
    "\n",
    "Рассмотрим какие типы фильмов получали поддержки\n"
   ]
  },
  {
   "cell_type": "code",
   "execution_count": 97,
   "metadata": {
    "scrolled": false
   },
   "outputs": [
    {
     "data": {
      "image/png": "[encoded data removed]",
      "text/plain": [
       "<Figure size 432x288 with 1 Axes>"
      ]
     },
     "metadata": {
      "needs_background": "light"
     },
     "output_type": "display_data"
    }
   ],
   "source": [
    "data_support.pivot_table(index = 'type', values = ['refundable_support'], aggfunc = (sum)).plot(kind= 'bar')\n",
    "plt.title('Возвратная государственная поддержка\\n')\n",
    "plt.show()"
   ]
  },
  {
   "cell_type": "code",
   "execution_count": 98,
   "metadata": {},
   "outputs": [
    {
     "data": {
      "image/png": "[encoded data removed]",
      "text/plain": [
       "<Figure size 432x288 with 1 Axes>"
      ]
     },
     "metadata": {
      "needs_background": "light"
     },
     "output_type": "display_data"
    }
   ],
   "source": [
    "data_support.pivot_table(index = 'type', values = ['nonrefundable_support'], aggfunc = (sum)).plot(kind= 'bar')\n",
    "plt.title('Невозвратная государственная поддержка\\n')\n",
    "plt.show()"
   ]
  },
  {
   "cell_type": "markdown",
   "metadata": {},
   "source": [
    "Возвратную и невозвратную поддержку получали только типы:\n",
    "- `Анимационный`\n",
    "- `Художественный`\n",
    "\n",
    "Притом больше получали фильмы типа `Художественный`\n",
    "\n",
    "Рассмотрим какие фильмы получали максимальную сумму поддержки"
   ]
  },
  {
   "cell_type": "code",
   "execution_count": 99,
   "metadata": {},
   "outputs": [
    {
     "data": {
      "text/plain": [
       "count           314.00\n",
       "mean     49,661,080.00\n",
       "std      46,796,580.00\n",
       "min       3,000,000.00\n",
       "25%      25,000,000.00\n",
       "50%      35,000,000.00\n",
       "75%      55,000,000.00\n",
       "max     500,000,000.00\n",
       "Name: full_support, dtype: float64"
      ]
     },
     "execution_count": 99,
     "metadata": {},
     "output_type": "execute_result"
    }
   ],
   "source": [
    "data_support['full_support'].describe()"
   ]
  },
  {
   "cell_type": "markdown",
   "metadata": {},
   "source": [
    "- Максимальная сумма поддержки - 500000000.0\n",
    "- Минимальная сумма поддержки - 3000000.0\n",
    "\n",
    "Выведем наименование, рейтинг фильма и сумму поддержки"
   ]
  },
  {
   "cell_type": "code",
   "execution_count": 100,
   "metadata": {},
   "outputs": [
    {
     "data": {
      "text/html": [
       "<div>\n",
       "<style scoped>\n",
       "    .dataframe tbody tr th:only-of-type {\n",
       "        vertical-align: middle;\n",
       "    }\n",
       "\n",
       "    .dataframe tbody tr th {\n",
       "        vertical-align: top;\n",
       "    }\n",
       "\n",
       "    .dataframe thead th {\n",
       "        text-align: right;\n",
       "    }\n",
       "</style>\n",
       "<table border=\"1\" class=\"dataframe\">\n",
       "  <thead>\n",
       "    <tr style=\"text-align: right;\">\n",
       "      <th></th>\n",
       "      <th>title</th>\n",
       "      <th>ratings</th>\n",
       "      <th>full_support</th>\n",
       "      <th>payback</th>\n",
       "    </tr>\n",
       "  </thead>\n",
       "  <tbody>\n",
       "    <tr>\n",
       "      <th>6730</th>\n",
       "      <td>вторжение</td>\n",
       "      <td>5.70</td>\n",
       "      <td>500,000,000.00</td>\n",
       "      <td>NaN</td>\n",
       "    </tr>\n",
       "    <tr>\n",
       "      <th>2951</th>\n",
       "      <td>время первых (2017)</td>\n",
       "      <td>7.50</td>\n",
       "      <td>250,000,000.00</td>\n",
       "      <td>469,332,260.00</td>\n",
       "    </tr>\n",
       "    <tr>\n",
       "      <th>4794</th>\n",
       "      <td>салют-7</td>\n",
       "      <td>7.40</td>\n",
       "      <td>225,000,000.00</td>\n",
       "      <td>752,679,777.00</td>\n",
       "    </tr>\n",
       "    <tr>\n",
       "      <th>3311</th>\n",
       "      <td>большой</td>\n",
       "      <td>8.50</td>\n",
       "      <td>210,000,000.00</td>\n",
       "      <td>218,578,204.00</td>\n",
       "    </tr>\n",
       "    <tr>\n",
       "      <th>6552</th>\n",
       "      <td>урфин джюс возвращается</td>\n",
       "      <td>6.20</td>\n",
       "      <td>200,000,000.00</td>\n",
       "      <td>68,549,523.47</td>\n",
       "    </tr>\n",
       "    <tr>\n",
       "      <th>3152</th>\n",
       "      <td>защитники</td>\n",
       "      <td>3.00</td>\n",
       "      <td>200,000,000.00</td>\n",
       "      <td>212,040,254.00</td>\n",
       "    </tr>\n",
       "    <tr>\n",
       "      <th>4980</th>\n",
       "      <td>рубеж</td>\n",
       "      <td>6.20</td>\n",
       "      <td>200,000,000.00</td>\n",
       "      <td>87,707,397.08</td>\n",
       "    </tr>\n",
       "    <tr>\n",
       "      <th>5828</th>\n",
       "      <td>т-34</td>\n",
       "      <td>6.50</td>\n",
       "      <td>180,000,000.00</td>\n",
       "      <td>2,211,754,004.52</td>\n",
       "    </tr>\n",
       "    <tr>\n",
       "      <th>6100</th>\n",
       "      <td>большое путешествие</td>\n",
       "      <td>6.20</td>\n",
       "      <td>180,000,000.00</td>\n",
       "      <td>87,606,826.51</td>\n",
       "    </tr>\n",
       "    <tr>\n",
       "      <th>2368</th>\n",
       "      <td>савва. сердце воина</td>\n",
       "      <td>4.60</td>\n",
       "      <td>160,000,000.00</td>\n",
       "      <td>124,487,551.40</td>\n",
       "    </tr>\n",
       "  </tbody>\n",
       "</table>\n",
       "</div>"
      ],
      "text/plain": [
       "                        title  ratings   full_support          payback\n",
       "6730                вторжение     5.70 500,000,000.00              NaN\n",
       "2951      время первых (2017)     7.50 250,000,000.00   469,332,260.00\n",
       "4794                  салют-7     7.40 225,000,000.00   752,679,777.00\n",
       "3311                  большой     8.50 210,000,000.00   218,578,204.00\n",
       "6552  урфин джюс возвращается     6.20 200,000,000.00    68,549,523.47\n",
       "3152                защитники     3.00 200,000,000.00   212,040,254.00\n",
       "4980                    рубеж     6.20 200,000,000.00    87,707,397.08\n",
       "5828                     т-34     6.50 180,000,000.00 2,211,754,004.52\n",
       "6100      большое путешествие     6.20 180,000,000.00    87,606,826.51\n",
       "2368      савва. сердце воина     4.60 160,000,000.00   124,487,551.40"
      ]
     },
     "execution_count": 100,
     "metadata": {},
     "output_type": "execute_result"
    }
   ],
   "source": [
    "data_support[['title', 'ratings', 'full_support', 'payback']].sort_values(by = 'full_support', ascending =False).head(10)"
   ]
  },
  {
   "cell_type": "markdown",
   "metadata": {},
   "source": [
    "- Фильм с максимальной суммой поддержки является - `\"Вторжение\"` с рейтингом `5.7`\n",
    "- Притом не известно окуплся ли фильм `\"Вторжение\"`\n",
    "- Из 10ти фильмов с максимальной суммой поддержки, наибольший рейтинг имеет фильм `\"Большой\"` с рейтингом `8.5`\n",
    "- Из 10ти фильмов с максимальной суммой поддержки, наибольшую величину по окупаемости имеет фильм `т-34`\n",
    "- Наименьший рейтинг из топ 10ти фильмов с максимальной суммой поддержки у фильма `\"Защитники\"` - `3`"
   ]
  },
  {
   "cell_type": "markdown",
   "metadata": {
    "id": "V2gYwMcPgFyd"
   },
   "source": [
    "### Шаг 5. Напишите общий вывод"
   ]
  },
  {
   "cell_type": "markdown",
   "metadata": {
    "id": "AYRg3dzXgFye"
   },
   "source": [
    "В ходе предобработки данных, оказалось много неявных дубликатов и пропусков, без возможности заполнить данными\n",
    "\n",
    "В результате исследования данных выяснилось:\n",
    "- Максимальное количество фильмов выходило в 2019-м году\n",
    "- Минимальное количество фильмов выходило в 2011-м году\n",
    "- Наибольшую долю занимают фильмы 2018 и 2019го года\n",
    "- Самое больше количество фильмов выпало на 2018 и 2019-й год. Данные периоды полнее всего представлены в данных, также сюда можно добавить и 2010-й год.\n",
    "- 2011 и 2017-м годах были резкие падения количества фильмов. Возможно это связано с потерей данных\n",
    "- Самый высокий общий сбор выпадает на 2017й год\n",
    "- С 2010 по 2014 год самые минимальные значения, возможно это связано с отсутствием данных в столбце общего сбора\n",
    "- У фильмов 2018 года хороший общий сбор\n",
    "- В 2019-м году медианное значение общего сбора упала, что означает что значения общего сбора упали по сравнению с 2018 годом\n",
    "- Самое минимальное количество фильмов на каждый год приходится на аудиторию - «0+» - для любой зрительской аудитории\n",
    "- Самое большое количество фильмов на каждый год выходят для аудиторий «16+» - для детей старше 16 лет и «18+» - запрещено для детей\n",
    "- С каждым годом количество фильмов для аудитории «18+» - запрещено для детей становится все больше\n",
    "- С каждым годом количество фильмов для аудитории «0+» - для любой зрительской аудитории становится все меньше\n",
    "- Фильмы для аудитории «0+» - для любой зрительской аудитории минимальный сбор\n",
    "- С 2016 по 2019 год наибольшую сумму общего сбора собирают фильмы для аудитории «16+» - для детей старше 16 лет\n",
    "- с 2010 по 2014 год минимальная поддержка, возможно это так же из за потери данных в эти годы как говорилось ранее\n",
    "- Максимальную возвратную поддержку получили в 2015 году\n",
    "- Максимальную невозвратную поддержку получили в 2019 году\n",
    "- Возвратную и невозвратную поддержку получали только типы: Анимационный и Художественный, притом больше получали фильмы типа Художественный\n",
    "- Максимальная сумма поддержки - 500000000.0\n",
    "- Минимальная сумма поддержки - 3000000.0\n",
    "- Фильм с максимальной суммой поддержки является - `\"Вторжение\"` с рейтингом `5.7`\n",
    "- Притом не известно окуплся ли фильм `\"Вторжение\"`\n",
    "- Из 10ти фильмов с максимальной суммой поддержки, наибольший рейтинг имеет фильм `\"Большой\"` с рейтингом `8.5`\n",
    "- Из 10ти фильмов с максимальной суммой поддержки, наибольшую величину по окупаемости имеет фильм `т-34`\n",
    "- Наименьший рейтинг из топ 10ти фильмов с максимальной суммой поддержки у фильма `\"Защитники\"` - `3`\n",
    "- Значения столбца `box_office` имеют сильный разброс данных, то есть имеются фильмы с большим значением общего сбора, которые сильно превышают и выбираются от остальных значений общего сбора\n",
    "- Самая минимальная доля фильмов с указанной информацией была в 2010 году\n",
    "- Полнее всего представлена информация о прокате в кинотеатрах в 2017 году\n",
    "- В течении с 2010 по 2017 год доля указанной информация о прокате фильмов в кинотеатрах с каждым годом росла\n",
    "- В 2017 году доля резко упала, возможно это из за потери данных\n",
    "- Максимальную сумму общего сбора получили в 2018 году\n",
    "- Минимальную сумму общего сбора получили в 2010 году, вполне возможно это из за низкого значения количества фильмов этого года, а также и низкой доли фильмов с указанной информацией о прокате фильма"
   ]
  }
 ],
 "metadata": {
  "ExecuteTimeLog": [
   {
    "duration": 537,
    "start_time": "2021-07-07T10:12:08.634Z"
   },
   {
    "duration": 206,
    "start_time": "2021-07-07T10:12:30.191Z"
   },
   {
    "duration": 227,
    "start_time": "2021-07-07T10:12:33.078Z"
   },
   {
    "duration": 153,
    "start_time": "2021-07-07T10:13:42.146Z"
   },
   {
    "duration": 233,
    "start_time": "2021-07-07T10:30:09.252Z"
   },
   {
    "duration": 19,
    "start_time": "2021-07-07T10:30:15.577Z"
   },
   {
    "duration": 18,
    "start_time": "2021-07-07T10:30:57.348Z"
   },
   {
    "duration": 19,
    "start_time": "2021-07-07T10:31:17.452Z"
   },
   {
    "duration": 21,
    "start_time": "2021-07-07T10:31:32.227Z"
   },
   {
    "duration": 27,
    "start_time": "2021-07-07T10:32:06.588Z"
   },
   {
    "duration": 23,
    "start_time": "2021-07-07T10:32:43.645Z"
   },
   {
    "duration": 24,
    "start_time": "2021-07-07T10:33:06.948Z"
   },
   {
    "duration": 7,
    "start_time": "2021-07-07T10:33:28.558Z"
   },
   {
    "duration": 23,
    "start_time": "2021-07-07T10:33:43.761Z"
   },
   {
    "duration": 28,
    "start_time": "2021-07-07T10:34:13.466Z"
   },
   {
    "duration": 23,
    "start_time": "2021-07-07T10:35:56.187Z"
   },
   {
    "duration": 6,
    "start_time": "2021-07-07T10:36:48.182Z"
   },
   {
    "duration": 14,
    "start_time": "2021-07-07T10:37:49.641Z"
   },
   {
    "duration": 6,
    "start_time": "2021-07-07T10:38:06.694Z"
   },
   {
    "duration": 6,
    "start_time": "2021-07-07T10:38:13.493Z"
   },
   {
    "duration": 19,
    "start_time": "2021-07-07T10:38:44.056Z"
   },
   {
    "duration": 186,
    "start_time": "2021-07-07T10:48:35.618Z"
   },
   {
    "duration": 24,
    "start_time": "2021-07-07T10:48:51.498Z"
   },
   {
    "duration": 20,
    "start_time": "2021-07-07T10:48:59.415Z"
   },
   {
    "duration": 20,
    "start_time": "2021-07-07T10:53:02.195Z"
   },
   {
    "duration": 188,
    "start_time": "2021-07-07T10:54:40.486Z"
   },
   {
    "duration": 115,
    "start_time": "2021-07-07T10:54:52.552Z"
   },
   {
    "duration": 214,
    "start_time": "2021-07-07T10:54:56.354Z"
   },
   {
    "duration": 47,
    "start_time": "2021-07-07T10:54:58.282Z"
   },
   {
    "duration": 217,
    "start_time": "2021-07-07T10:59:16.075Z"
   },
   {
    "duration": 51,
    "start_time": "2021-07-07T10:59:16.243Z"
   },
   {
    "duration": 578,
    "start_time": "2021-07-07T10:59:18.774Z"
   },
   {
    "duration": 161,
    "start_time": "2021-07-07T10:59:21.238Z"
   },
   {
    "duration": 59,
    "start_time": "2021-07-07T10:59:21.453Z"
   },
   {
    "duration": 3,
    "start_time": "2021-07-07T11:02:10.786Z"
   },
   {
    "duration": 13,
    "start_time": "2021-07-07T11:07:07.722Z"
   },
   {
    "duration": 26,
    "start_time": "2021-07-07T11:07:17.958Z"
   },
   {
    "duration": 22,
    "start_time": "2021-07-07T11:08:17.939Z"
   },
   {
    "duration": 212,
    "start_time": "2021-07-07T11:08:19.665Z"
   },
   {
    "duration": 21,
    "start_time": "2021-07-07T11:08:29.945Z"
   },
   {
    "duration": 31,
    "start_time": "2021-07-07T11:08:38.899Z"
   },
   {
    "duration": 23,
    "start_time": "2021-07-07T11:08:54.527Z"
   },
   {
    "duration": 8,
    "start_time": "2021-07-07T11:18:55.974Z"
   },
   {
    "duration": 7,
    "start_time": "2021-07-07T11:19:03.639Z"
   },
   {
    "duration": 7,
    "start_time": "2021-07-07T11:19:06.444Z"
   },
   {
    "duration": 578,
    "start_time": "2021-07-07T12:09:59.576Z"
   },
   {
    "duration": 195,
    "start_time": "2021-07-07T12:10:00.156Z"
   },
   {
    "duration": 115,
    "start_time": "2021-07-07T12:10:00.353Z"
   },
   {
    "duration": 3,
    "start_time": "2021-07-07T12:10:00.470Z"
   },
   {
    "duration": 32,
    "start_time": "2021-07-07T12:10:00.474Z"
   },
   {
    "duration": 23,
    "start_time": "2021-07-07T12:10:00.508Z"
   },
   {
    "duration": 19,
    "start_time": "2021-07-07T12:10:00.533Z"
   },
   {
    "duration": 44,
    "start_time": "2021-07-07T12:10:00.553Z"
   },
   {
    "duration": 7,
    "start_time": "2021-07-07T12:10:00.600Z"
   },
   {
    "duration": 7,
    "start_time": "2021-07-07T12:19:45.761Z"
   },
   {
    "duration": 21,
    "start_time": "2021-07-07T12:21:35.482Z"
   },
   {
    "duration": 21,
    "start_time": "2021-07-07T12:29:23.569Z"
   },
   {
    "duration": 525,
    "start_time": "2021-07-07T12:29:44.542Z"
   },
   {
    "duration": 214,
    "start_time": "2021-07-07T12:29:45.069Z"
   },
   {
    "duration": 92,
    "start_time": "2021-07-07T12:29:45.285Z"
   },
   {
    "duration": 3,
    "start_time": "2021-07-07T12:29:45.379Z"
   },
   {
    "duration": 28,
    "start_time": "2021-07-07T12:29:45.384Z"
   },
   {
    "duration": 23,
    "start_time": "2021-07-07T12:29:45.413Z"
   },
   {
    "duration": 21,
    "start_time": "2021-07-07T12:29:45.437Z"
   },
   {
    "duration": 41,
    "start_time": "2021-07-07T12:29:45.460Z"
   },
   {
    "duration": 7,
    "start_time": "2021-07-07T12:29:45.502Z"
   },
   {
    "duration": 20,
    "start_time": "2021-07-07T12:29:45.511Z"
   },
   {
    "duration": 12,
    "start_time": "2021-07-07T12:34:02.800Z"
   },
   {
    "duration": 7,
    "start_time": "2021-07-07T12:35:10.479Z"
   },
   {
    "duration": 8,
    "start_time": "2021-07-07T12:35:22.440Z"
   },
   {
    "duration": 6,
    "start_time": "2021-07-07T12:35:35.649Z"
   },
   {
    "duration": 6,
    "start_time": "2021-07-07T12:35:43.107Z"
   },
   {
    "duration": 22,
    "start_time": "2021-07-07T12:38:03.029Z"
   },
   {
    "duration": 10,
    "start_time": "2021-07-07T12:38:06.592Z"
   },
   {
    "duration": 563,
    "start_time": "2021-07-07T12:38:46.493Z"
   },
   {
    "duration": 265,
    "start_time": "2021-07-07T12:38:47.058Z"
   },
   {
    "duration": 94,
    "start_time": "2021-07-07T12:38:47.325Z"
   },
   {
    "duration": 3,
    "start_time": "2021-07-07T12:38:47.422Z"
   },
   {
    "duration": 30,
    "start_time": "2021-07-07T12:38:47.427Z"
   },
   {
    "duration": 16,
    "start_time": "2021-07-07T12:38:53.305Z"
   },
   {
    "duration": 10,
    "start_time": "2021-07-07T12:38:53.499Z"
   },
   {
    "duration": 8,
    "start_time": "2021-07-07T12:39:48.161Z"
   },
   {
    "duration": 27,
    "start_time": "2021-07-07T12:41:17.629Z"
   },
   {
    "duration": 17,
    "start_time": "2021-07-07T12:41:17.867Z"
   },
   {
    "duration": 21,
    "start_time": "2021-07-07T12:41:19.310Z"
   },
   {
    "duration": 7,
    "start_time": "2021-07-07T12:41:19.544Z"
   },
   {
    "duration": 20,
    "start_time": "2021-07-07T12:41:20.504Z"
   },
   {
    "duration": 554,
    "start_time": "2021-07-07T12:56:23.696Z"
   },
   {
    "duration": 200,
    "start_time": "2021-07-07T12:56:25.234Z"
   },
   {
    "duration": 119,
    "start_time": "2021-07-07T12:56:25.480Z"
   },
   {
    "duration": 4,
    "start_time": "2021-07-07T12:56:25.762Z"
   },
   {
    "duration": 26,
    "start_time": "2021-07-07T12:56:27.172Z"
   },
   {
    "duration": 12,
    "start_time": "2021-07-07T12:56:29.051Z"
   },
   {
    "duration": 10,
    "start_time": "2021-07-07T12:56:29.291Z"
   },
   {
    "duration": 8,
    "start_time": "2021-07-07T12:56:29.623Z"
   },
   {
    "duration": 28,
    "start_time": "2021-07-07T12:56:32.137Z"
   },
   {
    "duration": 19,
    "start_time": "2021-07-07T12:56:39.785Z"
   },
   {
    "duration": 20,
    "start_time": "2021-07-07T12:56:44.297Z"
   },
   {
    "duration": 7,
    "start_time": "2021-07-07T12:56:45.392Z"
   },
   {
    "duration": 23,
    "start_time": "2021-07-07T12:56:46.615Z"
   },
   {
    "duration": 4,
    "start_time": "2021-07-07T12:57:06.625Z"
   },
   {
    "duration": 32,
    "start_time": "2021-07-07T12:57:36.690Z"
   },
   {
    "duration": 18,
    "start_time": "2021-07-07T12:58:00.149Z"
   },
   {
    "duration": 15,
    "start_time": "2021-07-07T12:59:16.793Z"
   },
   {
    "duration": 7,
    "start_time": "2021-07-07T13:19:22.624Z"
   },
   {
    "duration": 6,
    "start_time": "2021-07-07T14:17:33.527Z"
   },
   {
    "duration": 9,
    "start_time": "2021-07-07T14:17:48.409Z"
   },
   {
    "duration": 8,
    "start_time": "2021-07-07T14:20:13.060Z"
   },
   {
    "duration": 8,
    "start_time": "2021-07-07T14:20:37.957Z"
   },
   {
    "duration": 8,
    "start_time": "2021-07-07T14:20:47.470Z"
   },
   {
    "duration": 9,
    "start_time": "2021-07-07T14:20:54.503Z"
   },
   {
    "duration": 10,
    "start_time": "2021-07-07T14:28:57.763Z"
   },
   {
    "duration": 3,
    "start_time": "2021-07-07T14:30:23.377Z"
   },
   {
    "duration": 3,
    "start_time": "2021-07-07T14:30:36.489Z"
   },
   {
    "duration": 103,
    "start_time": "2021-07-07T14:30:52.351Z"
   },
   {
    "duration": 8,
    "start_time": "2021-07-07T14:30:54.763Z"
   },
   {
    "duration": 8,
    "start_time": "2021-07-07T14:31:29.301Z"
   },
   {
    "duration": 13,
    "start_time": "2021-07-07T14:31:44.516Z"
   },
   {
    "duration": 7,
    "start_time": "2021-07-07T14:33:10.972Z"
   },
   {
    "duration": 11,
    "start_time": "2021-07-07T14:33:27.780Z"
   },
   {
    "duration": 8,
    "start_time": "2021-07-07T14:34:44.588Z"
   },
   {
    "duration": 57,
    "start_time": "2021-07-07T14:35:59.042Z"
   },
   {
    "duration": 3,
    "start_time": "2021-07-07T14:36:28.168Z"
   },
   {
    "duration": 5,
    "start_time": "2021-07-07T14:36:46.254Z"
   },
   {
    "duration": 4,
    "start_time": "2021-07-07T14:36:52.714Z"
   },
   {
    "duration": 3,
    "start_time": "2021-07-07T14:36:56.612Z"
   },
   {
    "duration": 4,
    "start_time": "2021-07-07T14:36:57.049Z"
   },
   {
    "duration": 3,
    "start_time": "2021-07-07T14:39:21.214Z"
   },
   {
    "duration": 7,
    "start_time": "2021-07-07T14:39:52.406Z"
   },
   {
    "duration": 11,
    "start_time": "2021-07-07T14:39:58.576Z"
   },
   {
    "duration": 9,
    "start_time": "2021-07-07T14:40:26.301Z"
   },
   {
    "duration": 10,
    "start_time": "2021-07-07T14:40:31.704Z"
   },
   {
    "duration": 11,
    "start_time": "2021-07-07T14:40:36.249Z"
   },
   {
    "duration": 10,
    "start_time": "2021-07-07T14:40:39.783Z"
   },
   {
    "duration": 9,
    "start_time": "2021-07-07T14:40:48.558Z"
   },
   {
    "duration": 10,
    "start_time": "2021-07-07T14:40:57.143Z"
   },
   {
    "duration": 9,
    "start_time": "2021-07-07T14:41:06.074Z"
   },
   {
    "duration": 4324,
    "start_time": "2021-07-07T14:41:22.004Z"
   },
   {
    "duration": 11,
    "start_time": "2021-07-07T14:41:33.392Z"
   },
   {
    "duration": 9,
    "start_time": "2021-07-07T14:41:39.288Z"
   },
   {
    "duration": 569,
    "start_time": "2021-07-07T14:42:14.387Z"
   },
   {
    "duration": 197,
    "start_time": "2021-07-07T14:42:14.959Z"
   },
   {
    "duration": 84,
    "start_time": "2021-07-07T14:42:16.052Z"
   },
   {
    "duration": 4,
    "start_time": "2021-07-07T14:42:16.900Z"
   },
   {
    "duration": 27,
    "start_time": "2021-07-07T14:42:19.898Z"
   },
   {
    "duration": 12,
    "start_time": "2021-07-07T14:42:21.577Z"
   },
   {
    "duration": 9,
    "start_time": "2021-07-07T14:42:21.813Z"
   },
   {
    "duration": 9,
    "start_time": "2021-07-07T14:42:22.569Z"
   },
   {
    "duration": 29,
    "start_time": "2021-07-07T14:42:25.837Z"
   },
   {
    "duration": 20,
    "start_time": "2021-07-07T14:42:27.003Z"
   },
   {
    "duration": 21,
    "start_time": "2021-07-07T14:42:28.767Z"
   },
   {
    "duration": 7,
    "start_time": "2021-07-07T14:42:29.838Z"
   },
   {
    "duration": 4,
    "start_time": "2021-07-07T14:43:25.493Z"
   },
   {
    "duration": 7,
    "start_time": "2021-07-07T14:43:26.573Z"
   },
   {
    "duration": 10,
    "start_time": "2021-07-07T14:43:31.639Z"
   },
   {
    "duration": 9,
    "start_time": "2021-07-07T14:43:32.046Z"
   },
   {
    "duration": 10,
    "start_time": "2021-07-07T14:43:33.301Z"
   },
   {
    "duration": 12,
    "start_time": "2021-07-07T14:43:33.658Z"
   },
   {
    "duration": 8,
    "start_time": "2021-07-07T14:43:34.552Z"
   },
   {
    "duration": 9,
    "start_time": "2021-07-07T14:43:35.058Z"
   },
   {
    "duration": 12,
    "start_time": "2021-07-07T14:43:35.914Z"
   },
   {
    "duration": 17,
    "start_time": "2021-07-07T14:45:34.368Z"
   },
   {
    "duration": 512,
    "start_time": "2021-07-07T14:51:58.236Z"
   },
   {
    "duration": 223,
    "start_time": "2021-07-07T14:51:58.750Z"
   },
   {
    "duration": 93,
    "start_time": "2021-07-07T14:51:58.977Z"
   },
   {
    "duration": 4,
    "start_time": "2021-07-07T14:51:59.071Z"
   },
   {
    "duration": 37,
    "start_time": "2021-07-07T14:51:59.077Z"
   },
   {
    "duration": 18,
    "start_time": "2021-07-07T14:51:59.116Z"
   },
   {
    "duration": 10,
    "start_time": "2021-07-07T14:51:59.137Z"
   },
   {
    "duration": 8,
    "start_time": "2021-07-07T14:51:59.149Z"
   },
   {
    "duration": 54,
    "start_time": "2021-07-07T14:51:59.158Z"
   },
   {
    "duration": 18,
    "start_time": "2021-07-07T14:51:59.213Z"
   },
   {
    "duration": 22,
    "start_time": "2021-07-07T14:51:59.232Z"
   },
   {
    "duration": 36,
    "start_time": "2021-07-07T14:51:59.255Z"
   },
   {
    "duration": 7,
    "start_time": "2021-07-07T14:51:59.293Z"
   },
   {
    "duration": 10,
    "start_time": "2021-07-07T14:51:59.302Z"
   },
   {
    "duration": 9,
    "start_time": "2021-07-07T14:51:59.313Z"
   },
   {
    "duration": 11,
    "start_time": "2021-07-07T14:51:59.324Z"
   },
   {
    "duration": 8,
    "start_time": "2021-07-07T14:51:59.337Z"
   },
   {
    "duration": 46,
    "start_time": "2021-07-07T14:51:59.347Z"
   },
   {
    "duration": 22,
    "start_time": "2021-07-07T14:51:59.395Z"
   },
   {
    "duration": 24,
    "start_time": "2021-07-07T14:57:32.911Z"
   },
   {
    "duration": 7,
    "start_time": "2021-07-07T14:58:22.070Z"
   },
   {
    "duration": 4,
    "start_time": "2021-07-07T14:59:11.239Z"
   },
   {
    "duration": 25,
    "start_time": "2021-07-07T15:07:22.208Z"
   },
   {
    "duration": 16,
    "start_time": "2021-07-07T15:08:25.560Z"
   },
   {
    "duration": 15,
    "start_time": "2021-07-07T15:08:40.647Z"
   },
   {
    "duration": 14,
    "start_time": "2021-07-07T15:08:46.669Z"
   },
   {
    "duration": 533,
    "start_time": "2021-07-07T15:18:07.440Z"
   },
   {
    "duration": 173,
    "start_time": "2021-07-07T15:18:07.974Z"
   },
   {
    "duration": 84,
    "start_time": "2021-07-07T15:18:08.149Z"
   },
   {
    "duration": 3,
    "start_time": "2021-07-07T15:18:08.235Z"
   },
   {
    "duration": 30,
    "start_time": "2021-07-07T15:18:08.240Z"
   },
   {
    "duration": 22,
    "start_time": "2021-07-07T15:18:08.272Z"
   },
   {
    "duration": 11,
    "start_time": "2021-07-07T15:18:08.295Z"
   },
   {
    "duration": 11,
    "start_time": "2021-07-07T15:18:08.309Z"
   },
   {
    "duration": 40,
    "start_time": "2021-07-07T15:18:08.322Z"
   },
   {
    "duration": 42,
    "start_time": "2021-07-07T15:18:08.364Z"
   },
   {
    "duration": 22,
    "start_time": "2021-07-07T15:18:08.408Z"
   },
   {
    "duration": 5,
    "start_time": "2021-07-07T15:18:08.432Z"
   },
   {
    "duration": 13,
    "start_time": "2021-07-07T15:18:08.439Z"
   },
   {
    "duration": 9,
    "start_time": "2021-07-07T15:18:08.454Z"
   },
   {
    "duration": 32,
    "start_time": "2021-07-07T15:18:08.465Z"
   },
   {
    "duration": 10,
    "start_time": "2021-07-07T15:18:08.501Z"
   },
   {
    "duration": 7,
    "start_time": "2021-07-07T15:18:08.513Z"
   },
   {
    "duration": 11,
    "start_time": "2021-07-07T15:18:08.521Z"
   },
   {
    "duration": 17,
    "start_time": "2021-07-07T15:18:08.534Z"
   },
   {
    "duration": 44,
    "start_time": "2021-07-07T15:18:08.553Z"
   },
   {
    "duration": 22,
    "start_time": "2021-07-07T15:18:08.599Z"
   },
   {
    "duration": 61,
    "start_time": "2021-07-07T15:18:08.622Z"
   },
   {
    "duration": 7,
    "start_time": "2021-07-07T15:18:39.457Z"
   },
   {
    "duration": 5,
    "start_time": "2021-07-07T16:05:17.020Z"
   },
   {
    "duration": 5,
    "start_time": "2021-07-07T16:51:28.794Z"
   },
   {
    "duration": 546,
    "start_time": "2021-07-07T16:52:26.306Z"
   },
   {
    "duration": 203,
    "start_time": "2021-07-07T16:52:27.523Z"
   },
   {
    "duration": 85,
    "start_time": "2021-07-07T16:52:27.736Z"
   },
   {
    "duration": 4,
    "start_time": "2021-07-07T16:52:27.899Z"
   },
   {
    "duration": 25,
    "start_time": "2021-07-07T16:52:28.674Z"
   },
   {
    "duration": 8,
    "start_time": "2021-07-07T16:52:32.956Z"
   },
   {
    "duration": 18,
    "start_time": "2021-07-07T16:52:35.616Z"
   },
   {
    "duration": 6,
    "start_time": "2021-07-07T16:52:36.913Z"
   },
   {
    "duration": 11,
    "start_time": "2021-07-07T16:52:40.258Z"
   },
   {
    "duration": 10,
    "start_time": "2021-07-07T16:52:46.251Z"
   },
   {
    "duration": 8,
    "start_time": "2021-07-07T16:52:47.182Z"
   },
   {
    "duration": 27,
    "start_time": "2021-07-07T16:53:20.391Z"
   },
   {
    "duration": 20,
    "start_time": "2021-07-07T16:53:22.022Z"
   },
   {
    "duration": 23,
    "start_time": "2021-07-07T16:53:23.690Z"
   },
   {
    "duration": 8,
    "start_time": "2021-07-07T16:53:24.261Z"
   },
   {
    "duration": 4,
    "start_time": "2021-07-07T16:53:38.733Z"
   },
   {
    "duration": 7,
    "start_time": "2021-07-07T16:53:40.445Z"
   },
   {
    "duration": 11,
    "start_time": "2021-07-07T16:53:41.348Z"
   },
   {
    "duration": 13,
    "start_time": "2021-07-07T16:53:45.250Z"
   },
   {
    "duration": 12,
    "start_time": "2021-07-07T16:53:45.467Z"
   },
   {
    "duration": 4,
    "start_time": "2021-07-07T16:55:32.704Z"
   },
   {
    "duration": 12,
    "start_time": "2021-07-07T16:55:49.012Z"
   },
   {
    "duration": 18,
    "start_time": "2021-07-07T16:55:49.547Z"
   },
   {
    "duration": 611,
    "start_time": "2021-07-07T16:58:35.156Z"
   },
   {
    "duration": 200,
    "start_time": "2021-07-07T16:58:35.770Z"
   },
   {
    "duration": 86,
    "start_time": "2021-07-07T16:58:35.972Z"
   },
   {
    "duration": 3,
    "start_time": "2021-07-07T16:58:36.060Z"
   },
   {
    "duration": 27,
    "start_time": "2021-07-07T16:58:36.065Z"
   },
   {
    "duration": 8,
    "start_time": "2021-07-07T16:58:36.094Z"
   },
   {
    "duration": 17,
    "start_time": "2021-07-07T16:58:36.103Z"
   },
   {
    "duration": 5,
    "start_time": "2021-07-07T16:58:36.123Z"
   },
   {
    "duration": 11,
    "start_time": "2021-07-07T16:58:36.130Z"
   },
   {
    "duration": 7,
    "start_time": "2021-07-07T16:58:36.143Z"
   },
   {
    "duration": 37,
    "start_time": "2021-07-07T16:58:36.152Z"
   },
   {
    "duration": 27,
    "start_time": "2021-07-07T16:58:36.191Z"
   },
   {
    "duration": 19,
    "start_time": "2021-07-07T16:58:36.219Z"
   },
   {
    "duration": 49,
    "start_time": "2021-07-07T16:58:36.240Z"
   },
   {
    "duration": 6,
    "start_time": "2021-07-07T16:58:36.291Z"
   },
   {
    "duration": 3,
    "start_time": "2021-07-07T16:58:36.299Z"
   },
   {
    "duration": 13,
    "start_time": "2021-07-07T16:58:36.304Z"
   },
   {
    "duration": 10,
    "start_time": "2021-07-07T16:58:36.319Z"
   },
   {
    "duration": 10,
    "start_time": "2021-07-07T16:58:36.331Z"
   },
   {
    "duration": 44,
    "start_time": "2021-07-07T16:58:36.343Z"
   },
   {
    "duration": 4,
    "start_time": "2021-07-07T16:58:36.388Z"
   },
   {
    "duration": 13,
    "start_time": "2021-07-07T16:58:36.394Z"
   },
   {
    "duration": 16,
    "start_time": "2021-07-07T16:58:36.410Z"
   },
   {
    "duration": 8,
    "start_time": "2021-07-07T17:02:31.629Z"
   },
   {
    "duration": 8,
    "start_time": "2021-07-07T17:02:34.308Z"
   },
   {
    "duration": 6,
    "start_time": "2021-07-07T17:05:13.483Z"
   },
   {
    "duration": 17,
    "start_time": "2021-07-07T17:05:20.606Z"
   },
   {
    "duration": 7,
    "start_time": "2021-07-07T17:05:34.638Z"
   },
   {
    "duration": 3,
    "start_time": "2021-07-07T17:06:31.883Z"
   },
   {
    "duration": 570,
    "start_time": "2021-07-07T17:06:37.165Z"
   },
   {
    "duration": 174,
    "start_time": "2021-07-07T17:06:37.737Z"
   },
   {
    "duration": 47,
    "start_time": "2021-07-07T17:06:37.913Z"
   },
   {
    "duration": 3,
    "start_time": "2021-07-07T17:06:37.962Z"
   },
   {
    "duration": 27,
    "start_time": "2021-07-07T17:06:37.967Z"
   },
   {
    "duration": 7,
    "start_time": "2021-07-07T17:06:37.996Z"
   },
   {
    "duration": 16,
    "start_time": "2021-07-07T17:06:38.005Z"
   },
   {
    "duration": 6,
    "start_time": "2021-07-07T17:06:38.024Z"
   },
   {
    "duration": 12,
    "start_time": "2021-07-07T17:06:38.031Z"
   },
   {
    "duration": 41,
    "start_time": "2021-07-07T17:06:38.045Z"
   },
   {
    "duration": 8,
    "start_time": "2021-07-07T17:06:38.088Z"
   },
   {
    "duration": 26,
    "start_time": "2021-07-07T17:06:38.098Z"
   },
   {
    "duration": 17,
    "start_time": "2021-07-07T17:06:38.126Z"
   },
   {
    "duration": 43,
    "start_time": "2021-07-07T17:06:38.144Z"
   },
   {
    "duration": 6,
    "start_time": "2021-07-07T17:06:38.188Z"
   },
   {
    "duration": 5,
    "start_time": "2021-07-07T17:06:38.195Z"
   },
   {
    "duration": 9,
    "start_time": "2021-07-07T17:06:38.201Z"
   },
   {
    "duration": 12,
    "start_time": "2021-07-07T17:06:38.212Z"
   },
   {
    "duration": 11,
    "start_time": "2021-07-07T17:06:38.226Z"
   },
   {
    "duration": 47,
    "start_time": "2021-07-07T17:06:38.239Z"
   },
   {
    "duration": 4,
    "start_time": "2021-07-07T17:06:38.288Z"
   },
   {
    "duration": 13,
    "start_time": "2021-07-07T17:06:38.293Z"
   },
   {
    "duration": 5,
    "start_time": "2021-07-07T17:06:38.309Z"
   },
   {
    "duration": 18,
    "start_time": "2021-07-07T17:06:38.325Z"
   },
   {
    "duration": 20,
    "start_time": "2021-07-07T17:07:02.805Z"
   },
   {
    "duration": 19,
    "start_time": "2021-07-07T17:07:08.527Z"
   },
   {
    "duration": 19,
    "start_time": "2021-07-07T17:07:12.758Z"
   },
   {
    "duration": 22,
    "start_time": "2021-07-07T17:07:17.497Z"
   },
   {
    "duration": 19,
    "start_time": "2021-07-07T17:07:19.645Z"
   },
   {
    "duration": 10,
    "start_time": "2021-07-07T17:07:34.239Z"
   },
   {
    "duration": 17,
    "start_time": "2021-07-07T17:07:54.144Z"
   },
   {
    "duration": 14,
    "start_time": "2021-07-07T17:08:14.357Z"
   },
   {
    "duration": 616,
    "start_time": "2021-07-07T17:08:45.254Z"
   },
   {
    "duration": 178,
    "start_time": "2021-07-07T17:08:45.872Z"
   },
   {
    "duration": 60,
    "start_time": "2021-07-07T17:08:46.054Z"
   },
   {
    "duration": 3,
    "start_time": "2021-07-07T17:08:46.116Z"
   },
   {
    "duration": 26,
    "start_time": "2021-07-07T17:08:46.121Z"
   },
   {
    "duration": 7,
    "start_time": "2021-07-07T17:08:46.149Z"
   },
   {
    "duration": 17,
    "start_time": "2021-07-07T17:08:46.158Z"
   },
   {
    "duration": 14,
    "start_time": "2021-07-07T17:08:46.176Z"
   },
   {
    "duration": 17,
    "start_time": "2021-07-07T17:08:46.193Z"
   },
   {
    "duration": 9,
    "start_time": "2021-07-07T17:08:46.211Z"
   },
   {
    "duration": 21,
    "start_time": "2021-07-07T17:08:46.221Z"
   },
   {
    "duration": 49,
    "start_time": "2021-07-07T17:08:46.244Z"
   },
   {
    "duration": 24,
    "start_time": "2021-07-07T17:08:46.295Z"
   },
   {
    "duration": 22,
    "start_time": "2021-07-07T17:08:46.321Z"
   },
   {
    "duration": 6,
    "start_time": "2021-07-07T17:08:46.345Z"
   },
   {
    "duration": 5,
    "start_time": "2021-07-07T17:08:46.353Z"
   },
   {
    "duration": 13,
    "start_time": "2021-07-07T17:08:46.386Z"
   },
   {
    "duration": 12,
    "start_time": "2021-07-07T17:08:46.402Z"
   },
   {
    "duration": 10,
    "start_time": "2021-07-07T17:08:46.415Z"
   },
   {
    "duration": 7,
    "start_time": "2021-07-07T17:08:46.427Z"
   },
   {
    "duration": 8,
    "start_time": "2021-07-07T17:08:46.435Z"
   },
   {
    "duration": 68,
    "start_time": "2021-07-07T17:08:46.446Z"
   },
   {
    "duration": 13,
    "start_time": "2021-07-07T17:08:46.516Z"
   },
   {
    "duration": 78,
    "start_time": "2021-07-07T17:08:46.530Z"
   },
   {
    "duration": 40,
    "start_time": "2021-07-07T17:09:08.185Z"
   },
   {
    "duration": 16,
    "start_time": "2021-07-07T17:09:19.324Z"
   },
   {
    "duration": 21,
    "start_time": "2021-07-07T17:09:23.290Z"
   },
   {
    "duration": 13,
    "start_time": "2021-07-07T17:09:54.812Z"
   },
   {
    "duration": 13,
    "start_time": "2021-07-07T17:10:02.039Z"
   },
   {
    "duration": 10,
    "start_time": "2021-07-07T17:10:29.632Z"
   },
   {
    "duration": 13,
    "start_time": "2021-07-07T17:10:52.372Z"
   },
   {
    "duration": 13,
    "start_time": "2021-07-07T17:11:17.270Z"
   },
   {
    "duration": 13,
    "start_time": "2021-07-07T17:14:59.284Z"
   },
   {
    "duration": 547,
    "start_time": "2021-07-07T17:18:52.403Z"
   },
   {
    "duration": 163,
    "start_time": "2021-07-07T17:18:52.952Z"
   },
   {
    "duration": 44,
    "start_time": "2021-07-07T17:18:53.117Z"
   },
   {
    "duration": 3,
    "start_time": "2021-07-07T17:18:53.162Z"
   },
   {
    "duration": 26,
    "start_time": "2021-07-07T17:18:53.167Z"
   },
   {
    "duration": 6,
    "start_time": "2021-07-07T17:18:53.195Z"
   },
   {
    "duration": 15,
    "start_time": "2021-07-07T17:18:53.203Z"
   },
   {
    "duration": 5,
    "start_time": "2021-07-07T17:18:53.220Z"
   },
   {
    "duration": 11,
    "start_time": "2021-07-07T17:18:53.228Z"
   },
   {
    "duration": 9,
    "start_time": "2021-07-07T17:18:53.241Z"
   },
   {
    "duration": 41,
    "start_time": "2021-07-07T17:18:53.252Z"
   },
   {
    "duration": 33,
    "start_time": "2021-07-07T17:18:53.295Z"
   },
   {
    "duration": 19,
    "start_time": "2021-07-07T17:18:53.330Z"
   },
   {
    "duration": 49,
    "start_time": "2021-07-07T17:18:53.350Z"
   },
   {
    "duration": 5,
    "start_time": "2021-07-07T17:18:53.401Z"
   },
   {
    "duration": 5,
    "start_time": "2021-07-07T17:18:53.408Z"
   },
   {
    "duration": 11,
    "start_time": "2021-07-07T17:18:53.414Z"
   },
   {
    "duration": 9,
    "start_time": "2021-07-07T17:18:53.427Z"
   },
   {
    "duration": 10,
    "start_time": "2021-07-07T17:18:53.437Z"
   },
   {
    "duration": 39,
    "start_time": "2021-07-07T17:18:53.448Z"
   },
   {
    "duration": 26,
    "start_time": "2021-07-07T17:18:55.799Z"
   },
   {
    "duration": 598,
    "start_time": "2021-07-07T17:20:17.862Z"
   },
   {
    "duration": 161,
    "start_time": "2021-07-07T17:20:18.462Z"
   },
   {
    "duration": 45,
    "start_time": "2021-07-07T17:20:18.626Z"
   },
   {
    "duration": 4,
    "start_time": "2021-07-07T17:20:18.673Z"
   },
   {
    "duration": 38,
    "start_time": "2021-07-07T17:20:26.877Z"
   },
   {
    "duration": 7,
    "start_time": "2021-07-07T17:20:37.405Z"
   },
   {
    "duration": 19,
    "start_time": "2021-07-07T17:20:51.534Z"
   },
   {
    "duration": 5,
    "start_time": "2021-07-07T17:20:57.228Z"
   },
   {
    "duration": 7,
    "start_time": "2021-07-07T17:21:08.235Z"
   },
   {
    "duration": 19,
    "start_time": "2021-07-07T17:21:42.158Z"
   },
   {
    "duration": 14,
    "start_time": "2021-07-07T17:21:50.225Z"
   },
   {
    "duration": 22,
    "start_time": "2021-07-07T17:22:54.104Z"
   },
   {
    "duration": 5,
    "start_time": "2021-07-07T17:22:56.371Z"
   },
   {
    "duration": 14,
    "start_time": "2021-07-07T17:22:58.316Z"
   },
   {
    "duration": 5,
    "start_time": "2021-07-07T17:22:58.493Z"
   },
   {
    "duration": 35,
    "start_time": "2021-07-07T17:22:59.666Z"
   },
   {
    "duration": 6,
    "start_time": "2021-07-07T17:23:02.410Z"
   },
   {
    "duration": 611,
    "start_time": "2021-07-07T17:24:59.664Z"
   },
   {
    "duration": 178,
    "start_time": "2021-07-07T17:25:01.945Z"
   },
   {
    "duration": 47,
    "start_time": "2021-07-07T17:25:02.125Z"
   },
   {
    "duration": 2,
    "start_time": "2021-07-07T17:25:07.903Z"
   },
   {
    "duration": 254,
    "start_time": "2021-07-07T17:25:08.232Z"
   },
   {
    "duration": 182,
    "start_time": "2021-07-07T17:25:08.671Z"
   },
   {
    "duration": 6,
    "start_time": "2021-07-07T17:25:13.104Z"
   },
   {
    "duration": 36,
    "start_time": "2021-07-07T17:25:13.662Z"
   },
   {
    "duration": 7,
    "start_time": "2021-07-07T17:25:14.528Z"
   },
   {
    "duration": 24,
    "start_time": "2021-07-07T17:25:27.982Z"
   },
   {
    "duration": 3,
    "start_time": "2021-07-07T17:25:48.982Z"
   },
   {
    "duration": 165,
    "start_time": "2021-07-07T17:25:48.987Z"
   },
   {
    "duration": 50,
    "start_time": "2021-07-07T17:25:49.154Z"
   },
   {
    "duration": 4,
    "start_time": "2021-07-07T17:25:49.206Z"
   },
   {
    "duration": 26,
    "start_time": "2021-07-07T17:25:49.212Z"
   },
   {
    "duration": 7,
    "start_time": "2021-07-07T17:25:49.240Z"
   },
   {
    "duration": 16,
    "start_time": "2021-07-07T17:25:49.249Z"
   },
   {
    "duration": 22,
    "start_time": "2021-07-07T17:25:49.266Z"
   },
   {
    "duration": 16,
    "start_time": "2021-07-07T17:25:49.291Z"
   },
   {
    "duration": 9,
    "start_time": "2021-07-07T17:25:49.309Z"
   },
   {
    "duration": 7,
    "start_time": "2021-07-07T17:25:49.319Z"
   },
   {
    "duration": 28,
    "start_time": "2021-07-07T17:25:49.328Z"
   },
   {
    "duration": 44,
    "start_time": "2021-07-07T17:25:49.357Z"
   },
   {
    "duration": 22,
    "start_time": "2021-07-07T17:25:49.403Z"
   },
   {
    "duration": 7,
    "start_time": "2021-07-07T17:25:49.427Z"
   },
   {
    "duration": 3,
    "start_time": "2021-07-07T17:25:49.436Z"
   },
   {
    "duration": 44,
    "start_time": "2021-07-07T17:25:49.441Z"
   },
   {
    "duration": 12,
    "start_time": "2021-07-07T17:25:49.488Z"
   },
   {
    "duration": 13,
    "start_time": "2021-07-07T17:25:49.502Z"
   },
   {
    "duration": 10,
    "start_time": "2021-07-07T17:25:49.516Z"
   },
   {
    "duration": 62,
    "start_time": "2021-07-07T17:25:49.527Z"
   },
   {
    "duration": 26,
    "start_time": "2021-07-07T17:26:51.809Z"
   },
   {
    "duration": 26,
    "start_time": "2021-07-07T17:26:55.759Z"
   },
   {
    "duration": 26,
    "start_time": "2021-07-07T17:27:04.501Z"
   },
   {
    "duration": 25,
    "start_time": "2021-07-07T17:28:24.859Z"
   },
   {
    "duration": 21,
    "start_time": "2021-07-07T17:28:55.250Z"
   },
   {
    "duration": 21,
    "start_time": "2021-07-07T17:28:58.885Z"
   },
   {
    "duration": 7,
    "start_time": "2021-07-07T17:45:40.972Z"
   },
   {
    "duration": 13,
    "start_time": "2021-07-07T17:45:42.529Z"
   },
   {
    "duration": 27,
    "start_time": "2021-07-07T17:45:51.026Z"
   },
   {
    "duration": 518,
    "start_time": "2021-07-07T17:46:15.532Z"
   },
   {
    "duration": 235,
    "start_time": "2021-07-07T17:46:16.053Z"
   },
   {
    "duration": 80,
    "start_time": "2021-07-07T17:46:16.292Z"
   },
   {
    "duration": 5,
    "start_time": "2021-07-07T17:46:16.373Z"
   },
   {
    "duration": 26,
    "start_time": "2021-07-07T17:46:16.380Z"
   },
   {
    "duration": 7,
    "start_time": "2021-07-07T17:46:16.408Z"
   },
   {
    "duration": 16,
    "start_time": "2021-07-07T17:46:16.418Z"
   },
   {
    "duration": 5,
    "start_time": "2021-07-07T17:46:16.436Z"
   },
   {
    "duration": 13,
    "start_time": "2021-07-07T17:46:16.442Z"
   },
   {
    "duration": 35,
    "start_time": "2021-07-07T17:46:16.456Z"
   },
   {
    "duration": 8,
    "start_time": "2021-07-07T17:46:16.493Z"
   },
   {
    "duration": 28,
    "start_time": "2021-07-07T17:46:16.502Z"
   },
   {
    "duration": 17,
    "start_time": "2021-07-07T17:46:16.532Z"
   },
   {
    "duration": 44,
    "start_time": "2021-07-07T17:46:16.551Z"
   },
   {
    "duration": 6,
    "start_time": "2021-07-07T17:46:16.597Z"
   },
   {
    "duration": 4,
    "start_time": "2021-07-07T17:46:16.605Z"
   },
   {
    "duration": 9,
    "start_time": "2021-07-07T17:46:16.610Z"
   },
   {
    "duration": 9,
    "start_time": "2021-07-07T17:46:16.621Z"
   },
   {
    "duration": 10,
    "start_time": "2021-07-07T17:46:16.632Z"
   },
   {
    "duration": 43,
    "start_time": "2021-07-07T17:46:16.644Z"
   },
   {
    "duration": 26,
    "start_time": "2021-07-07T17:46:16.689Z"
   },
   {
    "duration": 19,
    "start_time": "2021-07-07T17:46:16.718Z"
   },
   {
    "duration": 8,
    "start_time": "2021-07-07T17:46:16.738Z"
   },
   {
    "duration": 43,
    "start_time": "2021-07-07T17:46:16.747Z"
   },
   {
    "duration": 19,
    "start_time": "2021-07-07T17:46:16.791Z"
   },
   {
    "duration": 9,
    "start_time": "2021-07-07T17:46:16.812Z"
   },
   {
    "duration": 60,
    "start_time": "2021-07-07T17:46:16.822Z"
   },
   {
    "duration": -8,
    "start_time": "2021-07-07T17:46:16.892Z"
   },
   {
    "duration": 12,
    "start_time": "2021-07-07T17:48:47.707Z"
   },
   {
    "duration": 553,
    "start_time": "2021-07-07T18:10:09.350Z"
   },
   {
    "duration": 230,
    "start_time": "2021-07-07T18:10:09.905Z"
   },
   {
    "duration": 97,
    "start_time": "2021-07-07T18:10:10.137Z"
   },
   {
    "duration": 5,
    "start_time": "2021-07-07T18:10:10.236Z"
   },
   {
    "duration": 29,
    "start_time": "2021-07-07T18:10:10.242Z"
   },
   {
    "duration": 7,
    "start_time": "2021-07-07T18:10:10.272Z"
   },
   {
    "duration": 15,
    "start_time": "2021-07-07T18:10:10.281Z"
   },
   {
    "duration": 4,
    "start_time": "2021-07-07T18:10:10.299Z"
   },
   {
    "duration": 14,
    "start_time": "2021-07-07T18:10:10.305Z"
   },
   {
    "duration": 8,
    "start_time": "2021-07-07T18:10:10.321Z"
   },
   {
    "duration": 8,
    "start_time": "2021-07-07T18:10:10.331Z"
   },
   {
    "duration": 56,
    "start_time": "2021-07-07T18:10:10.341Z"
   },
   {
    "duration": 19,
    "start_time": "2021-07-07T18:10:10.399Z"
   },
   {
    "duration": 23,
    "start_time": "2021-07-07T18:10:10.419Z"
   },
   {
    "duration": 6,
    "start_time": "2021-07-07T18:10:10.444Z"
   },
   {
    "duration": 9,
    "start_time": "2021-07-07T18:10:10.451Z"
   },
   {
    "duration": 30,
    "start_time": "2021-07-07T18:10:10.462Z"
   },
   {
    "duration": 9,
    "start_time": "2021-07-07T18:10:10.494Z"
   },
   {
    "duration": 14,
    "start_time": "2021-07-07T18:10:10.505Z"
   },
   {
    "duration": 7,
    "start_time": "2021-07-07T18:10:10.521Z"
   },
   {
    "duration": 26,
    "start_time": "2021-07-07T18:10:10.530Z"
   },
   {
    "duration": 44,
    "start_time": "2021-07-07T18:10:10.558Z"
   },
   {
    "duration": 7,
    "start_time": "2021-07-07T18:10:10.605Z"
   },
   {
    "duration": 11,
    "start_time": "2021-07-07T18:10:10.614Z"
   },
   {
    "duration": 19,
    "start_time": "2021-07-07T18:10:10.626Z"
   },
   {
    "duration": 44,
    "start_time": "2021-07-07T18:10:10.646Z"
   },
   {
    "duration": 516,
    "start_time": "2021-07-07T18:14:00.826Z"
   },
   {
    "duration": 230,
    "start_time": "2021-07-07T18:14:01.344Z"
   },
   {
    "duration": 105,
    "start_time": "2021-07-07T18:14:01.576Z"
   },
   {
    "duration": 5,
    "start_time": "2021-07-07T18:14:01.683Z"
   },
   {
    "duration": 46,
    "start_time": "2021-07-07T18:14:01.690Z"
   },
   {
    "duration": 7,
    "start_time": "2021-07-07T18:14:01.738Z"
   },
   {
    "duration": 20,
    "start_time": "2021-07-07T18:14:01.747Z"
   },
   {
    "duration": 16,
    "start_time": "2021-07-07T18:14:01.769Z"
   },
   {
    "duration": 14,
    "start_time": "2021-07-07T18:14:01.787Z"
   },
   {
    "duration": 15,
    "start_time": "2021-07-07T18:14:01.803Z"
   },
   {
    "duration": 12,
    "start_time": "2021-07-07T18:14:01.820Z"
   },
   {
    "duration": 35,
    "start_time": "2021-07-07T18:14:01.833Z"
   },
   {
    "duration": 31,
    "start_time": "2021-07-07T18:14:01.869Z"
   },
   {
    "duration": 37,
    "start_time": "2021-07-07T18:14:01.902Z"
   },
   {
    "duration": 8,
    "start_time": "2021-07-07T18:14:01.942Z"
   },
   {
    "duration": 16,
    "start_time": "2021-07-07T18:14:01.952Z"
   },
   {
    "duration": 13,
    "start_time": "2021-07-07T18:14:01.970Z"
   },
   {
    "duration": 32,
    "start_time": "2021-07-07T18:14:01.985Z"
   },
   {
    "duration": 11,
    "start_time": "2021-07-07T18:14:02.019Z"
   },
   {
    "duration": 22,
    "start_time": "2021-07-07T18:14:02.031Z"
   },
   {
    "duration": 27,
    "start_time": "2021-07-07T18:14:02.055Z"
   },
   {
    "duration": 18,
    "start_time": "2021-07-07T18:14:02.084Z"
   },
   {
    "duration": 18,
    "start_time": "2021-07-07T18:14:02.106Z"
   },
   {
    "duration": 11,
    "start_time": "2021-07-07T18:14:02.126Z"
   },
   {
    "duration": 21,
    "start_time": "2021-07-07T18:14:02.138Z"
   },
   {
    "duration": 32,
    "start_time": "2021-07-07T18:14:02.161Z"
   },
   {
    "duration": 28,
    "start_time": "2021-07-07T18:14:44.295Z"
   },
   {
    "duration": 6,
    "start_time": "2021-07-07T18:15:05.834Z"
   },
   {
    "duration": 511,
    "start_time": "2021-07-07T18:15:41.541Z"
   },
   {
    "duration": 183,
    "start_time": "2021-07-07T18:15:42.054Z"
   },
   {
    "duration": 50,
    "start_time": "2021-07-07T18:15:42.239Z"
   },
   {
    "duration": 5,
    "start_time": "2021-07-07T18:15:42.291Z"
   },
   {
    "duration": 48,
    "start_time": "2021-07-07T18:15:42.297Z"
   },
   {
    "duration": 8,
    "start_time": "2021-07-07T18:15:42.346Z"
   },
   {
    "duration": 17,
    "start_time": "2021-07-07T18:15:42.356Z"
   },
   {
    "duration": 15,
    "start_time": "2021-07-07T18:15:42.375Z"
   },
   {
    "duration": 12,
    "start_time": "2021-07-07T18:15:42.392Z"
   },
   {
    "duration": 7,
    "start_time": "2021-07-07T18:15:42.406Z"
   },
   {
    "duration": 7,
    "start_time": "2021-07-07T18:15:42.415Z"
   },
   {
    "duration": 29,
    "start_time": "2021-07-07T18:15:42.423Z"
   },
   {
    "duration": 43,
    "start_time": "2021-07-07T18:15:42.453Z"
   },
   {
    "duration": 18,
    "start_time": "2021-07-07T18:15:42.497Z"
   },
   {
    "duration": 6,
    "start_time": "2021-07-07T18:15:42.516Z"
   },
   {
    "duration": 3,
    "start_time": "2021-07-07T18:15:42.523Z"
   },
   {
    "duration": 18,
    "start_time": "2021-07-07T18:15:42.528Z"
   },
   {
    "duration": 10,
    "start_time": "2021-07-07T18:15:42.547Z"
   },
   {
    "duration": 36,
    "start_time": "2021-07-07T18:15:42.559Z"
   },
   {
    "duration": 8,
    "start_time": "2021-07-07T18:15:42.597Z"
   },
   {
    "duration": 28,
    "start_time": "2021-07-07T18:15:42.606Z"
   },
   {
    "duration": 52,
    "start_time": "2021-07-07T18:15:42.635Z"
   },
   {
    "duration": 7,
    "start_time": "2021-07-07T18:15:42.690Z"
   },
   {
    "duration": 10,
    "start_time": "2021-07-07T18:15:42.699Z"
   },
   {
    "duration": 19,
    "start_time": "2021-07-07T18:15:42.711Z"
   },
   {
    "duration": 9,
    "start_time": "2021-07-07T18:15:42.732Z"
   },
   {
    "duration": 5,
    "start_time": "2021-07-07T18:15:42.743Z"
   },
   {
    "duration": 1450,
    "start_time": "2021-07-07T18:15:51.984Z"
   },
   {
    "duration": 161,
    "start_time": "2021-07-07T18:15:53.435Z"
   },
   {
    "duration": 124,
    "start_time": "2021-07-07T18:15:53.598Z"
   },
   {
    "duration": 5,
    "start_time": "2021-07-07T18:15:53.724Z"
   },
   {
    "duration": 34,
    "start_time": "2021-07-07T18:15:53.730Z"
   },
   {
    "duration": 7,
    "start_time": "2021-07-07T18:15:53.765Z"
   },
   {
    "duration": 15,
    "start_time": "2021-07-07T18:15:53.773Z"
   },
   {
    "duration": 5,
    "start_time": "2021-07-07T18:15:53.791Z"
   },
   {
    "duration": 19,
    "start_time": "2021-07-07T18:15:53.798Z"
   },
   {
    "duration": 9,
    "start_time": "2021-07-07T18:15:53.818Z"
   },
   {
    "duration": 19,
    "start_time": "2021-07-07T18:15:53.828Z"
   },
   {
    "duration": 27,
    "start_time": "2021-07-07T18:15:53.848Z"
   },
   {
    "duration": 16,
    "start_time": "2021-07-07T18:15:53.884Z"
   },
   {
    "duration": 29,
    "start_time": "2021-07-07T18:15:53.901Z"
   },
   {
    "duration": 5,
    "start_time": "2021-07-07T18:15:53.932Z"
   },
   {
    "duration": 15,
    "start_time": "2021-07-07T18:15:53.939Z"
   },
   {
    "duration": 13,
    "start_time": "2021-07-07T18:15:53.956Z"
   },
   {
    "duration": 20,
    "start_time": "2021-07-07T18:15:53.971Z"
   },
   {
    "duration": 14,
    "start_time": "2021-07-07T18:15:53.992Z"
   },
   {
    "duration": 9,
    "start_time": "2021-07-07T18:15:54.009Z"
   },
   {
    "duration": 28,
    "start_time": "2021-07-07T18:15:54.020Z"
   },
   {
    "duration": 50,
    "start_time": "2021-07-07T18:15:54.051Z"
   },
   {
    "duration": 8,
    "start_time": "2021-07-07T18:15:54.105Z"
   },
   {
    "duration": 11,
    "start_time": "2021-07-07T18:15:54.115Z"
   },
   {
    "duration": 20,
    "start_time": "2021-07-07T18:15:54.128Z"
   },
   {
    "duration": 13,
    "start_time": "2021-07-07T18:15:54.184Z"
   },
   {
    "duration": 7,
    "start_time": "2021-07-07T18:15:54.199Z"
   },
   {
    "duration": 7,
    "start_time": "2021-07-07T18:17:08.042Z"
   },
   {
    "duration": 8,
    "start_time": "2021-07-07T18:17:21.008Z"
   },
   {
    "duration": 7,
    "start_time": "2021-07-07T18:17:29.003Z"
   },
   {
    "duration": 8,
    "start_time": "2021-07-07T18:17:32.492Z"
   },
   {
    "duration": 9,
    "start_time": "2021-07-07T18:17:41.758Z"
   },
   {
    "duration": 255,
    "start_time": "2021-07-07T18:20:20.897Z"
   },
   {
    "duration": 173,
    "start_time": "2021-07-07T18:20:26.636Z"
   },
   {
    "duration": 7,
    "start_time": "2021-07-07T18:21:47.164Z"
   },
   {
    "duration": 254,
    "start_time": "2021-07-07T18:23:08.703Z"
   },
   {
    "duration": 21,
    "start_time": "2021-07-07T18:23:22.506Z"
   },
   {
    "duration": 315,
    "start_time": "2021-07-07T18:25:54.801Z"
   },
   {
    "duration": 34,
    "start_time": "2021-07-07T18:26:51.817Z"
   },
   {
    "duration": 327,
    "start_time": "2021-07-07T18:26:56.147Z"
   },
   {
    "duration": 342,
    "start_time": "2021-07-07T18:27:15.887Z"
   },
   {
    "duration": 302,
    "start_time": "2021-07-07T18:28:18.569Z"
   },
   {
    "duration": 226,
    "start_time": "2021-07-07T18:29:20.879Z"
   },
   {
    "duration": 207,
    "start_time": "2021-07-07T18:29:58.114Z"
   },
   {
    "duration": 140,
    "start_time": "2021-07-07T18:32:04.372Z"
   },
   {
    "duration": 158,
    "start_time": "2021-07-07T18:32:32.508Z"
   },
   {
    "duration": 145,
    "start_time": "2021-07-07T18:32:41.365Z"
   },
   {
    "duration": 132,
    "start_time": "2021-07-07T18:32:45.199Z"
   },
   {
    "duration": 11,
    "start_time": "2021-07-07T18:35:24.679Z"
   },
   {
    "duration": 268,
    "start_time": "2021-07-07T18:36:16.145Z"
   },
   {
    "duration": 227,
    "start_time": "2021-07-07T18:37:04.918Z"
   },
   {
    "duration": 3,
    "start_time": "2021-07-07T18:37:33.012Z"
   },
   {
    "duration": 671,
    "start_time": "2021-07-07T18:37:38.295Z"
   },
   {
    "duration": 54,
    "start_time": "2021-07-07T18:37:53.406Z"
   },
   {
    "duration": 631,
    "start_time": "2021-07-07T18:37:56.463Z"
   },
   {
    "duration": 19,
    "start_time": "2021-07-07T18:39:40.535Z"
   },
   {
    "duration": 20,
    "start_time": "2021-07-07T18:40:12.236Z"
   },
   {
    "duration": 633,
    "start_time": "2021-07-07T18:42:00.398Z"
   },
   {
    "duration": 218,
    "start_time": "2021-07-07T18:42:01.033Z"
   },
   {
    "duration": 49,
    "start_time": "2021-07-07T18:42:01.253Z"
   },
   {
    "duration": 5,
    "start_time": "2021-07-07T18:42:01.303Z"
   },
   {
    "duration": 27,
    "start_time": "2021-07-07T18:42:01.310Z"
   },
   {
    "duration": 8,
    "start_time": "2021-07-07T18:42:01.339Z"
   },
   {
    "duration": 20,
    "start_time": "2021-07-07T18:42:01.348Z"
   },
   {
    "duration": 6,
    "start_time": "2021-07-07T18:42:01.386Z"
   },
   {
    "duration": 16,
    "start_time": "2021-07-07T18:42:01.394Z"
   },
   {
    "duration": 9,
    "start_time": "2021-07-07T18:42:01.411Z"
   },
   {
    "duration": 11,
    "start_time": "2021-07-07T18:42:01.421Z"
   },
   {
    "duration": 31,
    "start_time": "2021-07-07T18:42:01.434Z"
   },
   {
    "duration": 18,
    "start_time": "2021-07-07T18:42:01.485Z"
   },
   {
    "duration": 23,
    "start_time": "2021-07-07T18:42:01.505Z"
   },
   {
    "duration": 6,
    "start_time": "2021-07-07T18:42:01.530Z"
   },
   {
    "duration": 10,
    "start_time": "2021-07-07T18:42:01.538Z"
   },
   {
    "duration": 13,
    "start_time": "2021-07-07T18:42:01.550Z"
   },
   {
    "duration": 24,
    "start_time": "2021-07-07T18:42:01.564Z"
   },
   {
    "duration": 20,
    "start_time": "2021-07-07T18:42:01.590Z"
   },
   {
    "duration": 8,
    "start_time": "2021-07-07T18:42:01.611Z"
   },
   {
    "duration": 31,
    "start_time": "2021-07-07T18:42:01.620Z"
   },
   {
    "duration": 39,
    "start_time": "2021-07-07T18:42:01.653Z"
   },
   {
    "duration": 8,
    "start_time": "2021-07-07T18:42:01.696Z"
   },
   {
    "duration": 13,
    "start_time": "2021-07-07T18:42:01.705Z"
   },
   {
    "duration": 20,
    "start_time": "2021-07-07T18:42:01.720Z"
   },
   {
    "duration": 12,
    "start_time": "2021-07-07T18:42:01.741Z"
   },
   {
    "duration": 35,
    "start_time": "2021-07-07T18:42:01.755Z"
   },
   {
    "duration": 14,
    "start_time": "2021-07-07T18:42:01.792Z"
   },
   {
    "duration": 188,
    "start_time": "2021-07-07T18:42:01.808Z"
   },
   {
    "duration": 19,
    "start_time": "2021-07-07T18:42:01.998Z"
   },
   {
    "duration": 175,
    "start_time": "2021-07-07T18:42:02.019Z"
   },
   {
    "duration": 134,
    "start_time": "2021-07-07T18:42:02.196Z"
   },
   {
    "duration": 10,
    "start_time": "2021-07-07T18:42:02.331Z"
   },
   {
    "duration": 19,
    "start_time": "2021-07-07T18:42:02.343Z"
   },
   {
    "duration": 628,
    "start_time": "2021-07-07T18:46:30.701Z"
   },
   {
    "duration": 183,
    "start_time": "2021-07-07T18:46:31.331Z"
   },
   {
    "duration": 48,
    "start_time": "2021-07-07T18:46:31.516Z"
   },
   {
    "duration": 5,
    "start_time": "2021-07-07T18:46:31.566Z"
   },
   {
    "duration": 28,
    "start_time": "2021-07-07T18:46:31.572Z"
   },
   {
    "duration": 8,
    "start_time": "2021-07-07T18:46:31.602Z"
   },
   {
    "duration": 19,
    "start_time": "2021-07-07T18:46:31.611Z"
   },
   {
    "duration": 6,
    "start_time": "2021-07-07T18:46:31.633Z"
   },
   {
    "duration": 17,
    "start_time": "2021-07-07T18:46:31.642Z"
   },
   {
    "duration": 10,
    "start_time": "2021-07-07T18:46:31.684Z"
   },
   {
    "duration": 9,
    "start_time": "2021-07-07T18:46:31.695Z"
   },
   {
    "duration": 28,
    "start_time": "2021-07-07T18:46:31.705Z"
   },
   {
    "duration": 18,
    "start_time": "2021-07-07T18:46:31.735Z"
   },
   {
    "duration": 48,
    "start_time": "2021-07-07T18:46:31.755Z"
   },
   {
    "duration": 6,
    "start_time": "2021-07-07T18:46:31.804Z"
   },
   {
    "duration": 4,
    "start_time": "2021-07-07T18:46:31.812Z"
   },
   {
    "duration": 9,
    "start_time": "2021-07-07T18:46:31.817Z"
   },
   {
    "duration": 10,
    "start_time": "2021-07-07T18:46:31.827Z"
   },
   {
    "duration": 12,
    "start_time": "2021-07-07T18:46:31.838Z"
   },
   {
    "duration": 39,
    "start_time": "2021-07-07T18:46:31.851Z"
   },
   {
    "duration": 24,
    "start_time": "2021-07-07T18:46:31.892Z"
   },
   {
    "duration": 15,
    "start_time": "2021-07-07T18:46:31.918Z"
   },
   {
    "duration": 7,
    "start_time": "2021-07-07T18:46:31.936Z"
   },
   {
    "duration": 8,
    "start_time": "2021-07-07T18:46:31.944Z"
   },
   {
    "duration": 19,
    "start_time": "2021-07-07T18:46:31.984Z"
   },
   {
    "duration": 10,
    "start_time": "2021-07-07T18:46:32.004Z"
   },
   {
    "duration": 5,
    "start_time": "2021-07-07T18:46:32.016Z"
   },
   {
    "duration": 9,
    "start_time": "2021-07-07T18:46:32.023Z"
   },
   {
    "duration": 199,
    "start_time": "2021-07-07T18:46:32.033Z"
   },
   {
    "duration": 19,
    "start_time": "2021-07-07T18:46:32.234Z"
   },
   {
    "duration": 159,
    "start_time": "2021-07-07T18:46:32.255Z"
   },
   {
    "duration": 134,
    "start_time": "2021-07-07T18:46:32.416Z"
   },
   {
    "duration": 10,
    "start_time": "2021-07-07T18:46:32.552Z"
   },
   {
    "duration": 34,
    "start_time": "2021-07-07T18:46:32.563Z"
   },
   {
    "duration": 1039,
    "start_time": "2021-07-08T08:41:09.419Z"
   },
   {
    "duration": 333,
    "start_time": "2021-07-08T08:41:10.459Z"
   },
   {
    "duration": 173,
    "start_time": "2021-07-08T08:41:10.794Z"
   },
   {
    "duration": 5,
    "start_time": "2021-07-08T08:41:10.968Z"
   },
   {
    "duration": 25,
    "start_time": "2021-07-08T08:41:10.975Z"
   },
   {
    "duration": 9,
    "start_time": "2021-07-08T08:41:11.002Z"
   },
   {
    "duration": 18,
    "start_time": "2021-07-08T08:41:11.013Z"
   },
   {
    "duration": 6,
    "start_time": "2021-07-08T08:41:11.033Z"
   },
   {
    "duration": 44,
    "start_time": "2021-07-08T08:41:11.042Z"
   },
   {
    "duration": 10,
    "start_time": "2021-07-08T08:41:11.088Z"
   },
   {
    "duration": 9,
    "start_time": "2021-07-08T08:41:11.100Z"
   },
   {
    "duration": 27,
    "start_time": "2021-07-08T08:41:11.111Z"
   },
   {
    "duration": 46,
    "start_time": "2021-07-08T08:41:11.140Z"
   },
   {
    "duration": 17,
    "start_time": "2021-07-08T08:41:11.187Z"
   },
   {
    "duration": 6,
    "start_time": "2021-07-08T08:41:11.206Z"
   },
   {
    "duration": 5,
    "start_time": "2021-07-08T08:41:11.213Z"
   },
   {
    "duration": 10,
    "start_time": "2021-07-08T08:41:11.219Z"
   },
   {
    "duration": 9,
    "start_time": "2021-07-08T08:41:11.230Z"
   },
   {
    "duration": 45,
    "start_time": "2021-07-08T08:41:11.241Z"
   },
   {
    "duration": 7,
    "start_time": "2021-07-08T08:41:11.287Z"
   },
   {
    "duration": 24,
    "start_time": "2021-07-08T08:41:11.296Z"
   },
   {
    "duration": 16,
    "start_time": "2021-07-08T08:41:11.322Z"
   },
   {
    "duration": 7,
    "start_time": "2021-07-08T08:41:11.341Z"
   },
   {
    "duration": 41,
    "start_time": "2021-07-08T08:41:11.349Z"
   },
   {
    "duration": 17,
    "start_time": "2021-07-08T08:41:11.391Z"
   },
   {
    "duration": 9,
    "start_time": "2021-07-08T08:41:11.410Z"
   },
   {
    "duration": 5,
    "start_time": "2021-07-08T08:41:11.421Z"
   },
   {
    "duration": 6,
    "start_time": "2021-07-08T08:41:11.428Z"
   },
   {
    "duration": 198,
    "start_time": "2021-07-08T08:41:11.435Z"
   },
   {
    "duration": 18,
    "start_time": "2021-07-08T08:41:11.635Z"
   },
   {
    "duration": 155,
    "start_time": "2021-07-08T08:41:11.655Z"
   },
   {
    "duration": 138,
    "start_time": "2021-07-08T08:41:11.811Z"
   },
   {
    "duration": 10,
    "start_time": "2021-07-08T08:41:11.950Z"
   },
   {
    "duration": 29,
    "start_time": "2021-07-08T08:41:11.961Z"
   },
   {
    "duration": 171,
    "start_time": "2021-07-08T08:47:44.522Z"
   },
   {
    "duration": 124,
    "start_time": "2021-07-08T08:47:46.872Z"
   },
   {
    "duration": 191,
    "start_time": "2021-07-08T08:47:58.148Z"
   },
   {
    "duration": 191,
    "start_time": "2021-07-08T08:48:07.412Z"
   },
   {
    "duration": 261,
    "start_time": "2021-07-08T08:48:10.385Z"
   },
   {
    "duration": 255,
    "start_time": "2021-07-08T08:48:14.494Z"
   },
   {
    "duration": 219,
    "start_time": "2021-07-08T08:48:22.752Z"
   },
   {
    "duration": 173,
    "start_time": "2021-07-08T08:49:06.395Z"
   },
   {
    "duration": 180,
    "start_time": "2021-07-08T08:49:21.011Z"
   },
   {
    "duration": 6,
    "start_time": "2021-07-08T08:50:31.697Z"
   },
   {
    "duration": 10,
    "start_time": "2021-07-08T08:50:47.394Z"
   },
   {
    "duration": 11,
    "start_time": "2021-07-08T08:53:49.332Z"
   },
   {
    "duration": 171,
    "start_time": "2021-07-08T08:54:28.408Z"
   },
   {
    "duration": 636,
    "start_time": "2021-07-08T09:02:48.385Z"
   },
   {
    "duration": 227,
    "start_time": "2021-07-08T09:02:49.023Z"
   },
   {
    "duration": 104,
    "start_time": "2021-07-08T09:02:49.252Z"
   },
   {
    "duration": 5,
    "start_time": "2021-07-08T09:02:49.358Z"
   },
   {
    "duration": 27,
    "start_time": "2021-07-08T09:02:49.365Z"
   },
   {
    "duration": 8,
    "start_time": "2021-07-08T09:02:49.394Z"
   },
   {
    "duration": 18,
    "start_time": "2021-07-08T09:02:49.404Z"
   },
   {
    "duration": 6,
    "start_time": "2021-07-08T09:02:49.424Z"
   },
   {
    "duration": 11,
    "start_time": "2021-07-08T09:02:49.433Z"
   },
   {
    "duration": 13,
    "start_time": "2021-07-08T09:02:49.485Z"
   },
   {
    "duration": 9,
    "start_time": "2021-07-08T09:02:49.500Z"
   },
   {
    "duration": 38,
    "start_time": "2021-07-08T09:02:49.511Z"
   },
   {
    "duration": 42,
    "start_time": "2021-07-08T09:02:49.551Z"
   },
   {
    "duration": 21,
    "start_time": "2021-07-08T09:02:49.594Z"
   },
   {
    "duration": 6,
    "start_time": "2021-07-08T09:02:49.616Z"
   },
   {
    "duration": 3,
    "start_time": "2021-07-08T09:02:49.623Z"
   },
   {
    "duration": 9,
    "start_time": "2021-07-08T09:02:49.628Z"
   },
   {
    "duration": 52,
    "start_time": "2021-07-08T09:02:49.638Z"
   },
   {
    "duration": 11,
    "start_time": "2021-07-08T09:02:49.692Z"
   },
   {
    "duration": 8,
    "start_time": "2021-07-08T09:02:49.704Z"
   },
   {
    "duration": 27,
    "start_time": "2021-07-08T09:02:49.713Z"
   },
   {
    "duration": 59,
    "start_time": "2021-07-08T09:02:49.741Z"
   },
   {
    "duration": 8,
    "start_time": "2021-07-08T09:02:49.803Z"
   },
   {
    "duration": 14,
    "start_time": "2021-07-08T09:02:49.813Z"
   },
   {
    "duration": 20,
    "start_time": "2021-07-08T09:02:49.829Z"
   },
   {
    "duration": 44,
    "start_time": "2021-07-08T09:02:49.851Z"
   },
   {
    "duration": 14,
    "start_time": "2021-07-08T09:02:49.896Z"
   },
   {
    "duration": 221,
    "start_time": "2021-07-08T09:02:49.912Z"
   },
   {
    "duration": 6,
    "start_time": "2021-07-08T09:02:50.134Z"
   },
   {
    "duration": 206,
    "start_time": "2021-07-08T09:02:50.142Z"
   },
   {
    "duration": 19,
    "start_time": "2021-07-08T09:02:50.350Z"
   },
   {
    "duration": 21,
    "start_time": "2021-07-08T09:02:50.370Z"
   },
   {
    "duration": 20,
    "start_time": "2021-07-08T09:02:50.393Z"
   },
   {
    "duration": 5,
    "start_time": "2021-07-08T09:02:50.414Z"
   },
   {
    "duration": 5,
    "start_time": "2021-07-08T09:03:34.173Z"
   },
   {
    "duration": 6,
    "start_time": "2021-07-08T09:04:49.062Z"
   },
   {
    "duration": 9,
    "start_time": "2021-07-08T09:04:50.118Z"
   },
   {
    "duration": 14,
    "start_time": "2021-07-08T09:04:58.512Z"
   },
   {
    "duration": 9,
    "start_time": "2021-07-08T09:05:10.988Z"
   },
   {
    "duration": 11,
    "start_time": "2021-07-08T09:05:11.743Z"
   },
   {
    "duration": 7,
    "start_time": "2021-07-08T09:05:25.677Z"
   },
   {
    "duration": 13,
    "start_time": "2021-07-08T09:05:47.189Z"
   },
   {
    "duration": 13,
    "start_time": "2021-07-08T09:05:54.755Z"
   },
   {
    "duration": 4,
    "start_time": "2021-07-08T09:06:29.189Z"
   },
   {
    "duration": 244,
    "start_time": "2021-07-08T09:06:29.195Z"
   },
   {
    "duration": 91,
    "start_time": "2021-07-08T09:06:29.441Z"
   },
   {
    "duration": 4,
    "start_time": "2021-07-08T09:06:29.534Z"
   },
   {
    "duration": 28,
    "start_time": "2021-07-08T09:06:29.540Z"
   },
   {
    "duration": 6,
    "start_time": "2021-07-08T09:06:29.570Z"
   },
   {
    "duration": 18,
    "start_time": "2021-07-08T09:06:29.578Z"
   },
   {
    "duration": 5,
    "start_time": "2021-07-08T09:06:29.597Z"
   },
   {
    "duration": 13,
    "start_time": "2021-07-08T09:06:29.605Z"
   },
   {
    "duration": 8,
    "start_time": "2021-07-08T09:06:29.620Z"
   },
   {
    "duration": 7,
    "start_time": "2021-07-08T09:06:29.630Z"
   },
   {
    "duration": 63,
    "start_time": "2021-07-08T09:06:29.639Z"
   },
   {
    "duration": 17,
    "start_time": "2021-07-08T09:06:29.704Z"
   },
   {
    "duration": 20,
    "start_time": "2021-07-08T09:06:29.723Z"
   },
   {
    "duration": 6,
    "start_time": "2021-07-08T09:06:29.745Z"
   },
   {
    "duration": 3,
    "start_time": "2021-07-08T09:06:29.752Z"
   },
   {
    "duration": 7,
    "start_time": "2021-07-08T09:06:29.785Z"
   },
   {
    "duration": 11,
    "start_time": "2021-07-08T09:06:29.794Z"
   },
   {
    "duration": 15,
    "start_time": "2021-07-08T09:06:29.807Z"
   },
   {
    "duration": 8,
    "start_time": "2021-07-08T09:06:29.823Z"
   },
   {
    "duration": 70,
    "start_time": "2021-07-08T09:06:29.832Z"
   },
   {
    "duration": 17,
    "start_time": "2021-07-08T09:06:29.903Z"
   },
   {
    "duration": 9,
    "start_time": "2021-07-08T09:06:29.921Z"
   },
   {
    "duration": 9,
    "start_time": "2021-07-08T09:06:29.932Z"
   },
   {
    "duration": 57,
    "start_time": "2021-07-08T09:06:29.942Z"
   },
   {
    "duration": 11,
    "start_time": "2021-07-08T09:06:30.001Z"
   },
   {
    "duration": 19,
    "start_time": "2021-07-08T09:06:30.016Z"
   },
   {
    "duration": 217,
    "start_time": "2021-07-08T09:06:30.037Z"
   },
   {
    "duration": 6,
    "start_time": "2021-07-08T09:06:30.255Z"
   },
   {
    "duration": 205,
    "start_time": "2021-07-08T09:06:30.263Z"
   },
   {
    "duration": 27,
    "start_time": "2021-07-08T09:06:30.470Z"
   },
   {
    "duration": 11,
    "start_time": "2021-07-08T09:06:30.500Z"
   },
   {
    "duration": 31,
    "start_time": "2021-07-08T09:06:30.513Z"
   },
   {
    "duration": 18,
    "start_time": "2021-07-08T09:06:30.546Z"
   },
   {
    "duration": 11,
    "start_time": "2021-07-08T09:06:30.566Z"
   },
   {
    "duration": 19,
    "start_time": "2021-07-08T09:06:30.579Z"
   },
   {
    "duration": 20,
    "start_time": "2021-07-08T09:06:49.466Z"
   },
   {
    "duration": 9,
    "start_time": "2021-07-08T09:06:51.994Z"
   },
   {
    "duration": 20,
    "start_time": "2021-07-08T09:06:52.273Z"
   },
   {
    "duration": 246,
    "start_time": "2021-07-08T09:10:21.272Z"
   },
   {
    "duration": 84,
    "start_time": "2021-07-08T09:10:21.436Z"
   },
   {
    "duration": 7,
    "start_time": "2021-07-08T09:10:37.608Z"
   },
   {
    "duration": 189,
    "start_time": "2021-07-08T09:10:38.573Z"
   },
   {
    "duration": 185,
    "start_time": "2021-07-08T09:10:53.181Z"
   },
   {
    "duration": 11,
    "start_time": "2021-07-08T09:10:59.549Z"
   },
   {
    "duration": 42,
    "start_time": "2021-07-08T09:10:59.709Z"
   },
   {
    "duration": 12,
    "start_time": "2021-07-08T09:11:02.857Z"
   },
   {
    "duration": 28,
    "start_time": "2021-07-08T09:11:10.062Z"
   },
   {
    "duration": 249,
    "start_time": "2021-07-08T09:11:37.388Z"
   },
   {
    "duration": 232,
    "start_time": "2021-07-08T09:11:49.485Z"
   },
   {
    "duration": 453,
    "start_time": "2021-07-08T09:12:01.546Z"
   },
   {
    "duration": 440,
    "start_time": "2021-07-08T09:12:12.347Z"
   },
   {
    "duration": 213,
    "start_time": "2021-07-08T09:13:32.196Z"
   },
   {
    "duration": 172,
    "start_time": "2021-07-08T09:14:07.400Z"
   },
   {
    "duration": 185,
    "start_time": "2021-07-08T09:14:14.905Z"
   },
   {
    "duration": 209,
    "start_time": "2021-07-08T09:14:40.109Z"
   },
   {
    "duration": 201,
    "start_time": "2021-07-08T09:14:54.506Z"
   },
   {
    "duration": 622,
    "start_time": "2021-07-08T09:18:14.497Z"
   },
   {
    "duration": 220,
    "start_time": "2021-07-08T09:18:15.121Z"
   },
   {
    "duration": 79,
    "start_time": "2021-07-08T09:18:15.343Z"
   },
   {
    "duration": 4,
    "start_time": "2021-07-08T09:18:15.425Z"
   },
   {
    "duration": 24,
    "start_time": "2021-07-08T09:18:15.431Z"
   },
   {
    "duration": 8,
    "start_time": "2021-07-08T09:18:15.457Z"
   },
   {
    "duration": 16,
    "start_time": "2021-07-08T09:18:15.466Z"
   },
   {
    "duration": 5,
    "start_time": "2021-07-08T09:18:15.484Z"
   },
   {
    "duration": 10,
    "start_time": "2021-07-08T09:18:15.493Z"
   },
   {
    "duration": 8,
    "start_time": "2021-07-08T09:18:15.504Z"
   },
   {
    "duration": 7,
    "start_time": "2021-07-08T09:18:15.513Z"
   },
   {
    "duration": 26,
    "start_time": "2021-07-08T09:18:15.522Z"
   },
   {
    "duration": 49,
    "start_time": "2021-07-08T09:18:15.550Z"
   },
   {
    "duration": 21,
    "start_time": "2021-07-08T09:18:15.601Z"
   },
   {
    "duration": 8,
    "start_time": "2021-07-08T09:18:15.624Z"
   },
   {
    "duration": 3,
    "start_time": "2021-07-08T09:18:15.634Z"
   },
   {
    "duration": 8,
    "start_time": "2021-07-08T09:18:15.639Z"
   },
   {
    "duration": 45,
    "start_time": "2021-07-08T09:18:15.649Z"
   },
   {
    "duration": 13,
    "start_time": "2021-07-08T09:18:15.696Z"
   },
   {
    "duration": 10,
    "start_time": "2021-07-08T09:18:15.711Z"
   },
   {
    "duration": 64,
    "start_time": "2021-07-08T09:18:15.722Z"
   },
   {
    "duration": 19,
    "start_time": "2021-07-08T09:18:15.788Z"
   },
   {
    "duration": 9,
    "start_time": "2021-07-08T09:18:15.809Z"
   },
   {
    "duration": 9,
    "start_time": "2021-07-08T09:18:15.820Z"
   },
   {
    "duration": 18,
    "start_time": "2021-07-08T09:18:15.831Z"
   },
   {
    "duration": 43,
    "start_time": "2021-07-08T09:18:15.851Z"
   },
   {
    "duration": 12,
    "start_time": "2021-07-08T09:18:15.897Z"
   },
   {
    "duration": 219,
    "start_time": "2021-07-08T09:18:15.911Z"
   },
   {
    "duration": 8,
    "start_time": "2021-07-08T09:18:16.132Z"
   },
   {
    "duration": 199,
    "start_time": "2021-07-08T09:18:16.141Z"
   },
   {
    "duration": 18,
    "start_time": "2021-07-08T09:18:16.341Z"
   },
   {
    "duration": 24,
    "start_time": "2021-07-08T09:18:16.361Z"
   },
   {
    "duration": 24,
    "start_time": "2021-07-08T09:18:16.387Z"
   },
   {
    "duration": 211,
    "start_time": "2021-07-08T09:18:16.413Z"
   },
   {
    "duration": 18,
    "start_time": "2021-07-08T09:18:16.626Z"
   },
   {
    "duration": 596,
    "start_time": "2021-07-08T10:06:33.623Z"
   },
   {
    "duration": 181,
    "start_time": "2021-07-08T10:06:34.221Z"
   },
   {
    "duration": 176,
    "start_time": "2021-07-08T10:06:34.635Z"
   },
   {
    "duration": 239,
    "start_time": "2021-07-08T10:06:55.572Z"
   },
   {
    "duration": 6,
    "start_time": "2021-07-08T10:06:57.687Z"
   },
   {
    "duration": 4,
    "start_time": "2021-07-08T10:07:03.956Z"
   },
   {
    "duration": 4,
    "start_time": "2021-07-08T10:07:10.376Z"
   },
   {
    "duration": 4,
    "start_time": "2021-07-08T10:17:19.889Z"
   },
   {
    "duration": 3,
    "start_time": "2021-07-08T10:19:19.407Z"
   },
   {
    "duration": 197,
    "start_time": "2021-07-08T10:19:19.412Z"
   },
   {
    "duration": 127,
    "start_time": "2021-07-08T10:19:19.611Z"
   },
   {
    "duration": 4,
    "start_time": "2021-07-08T10:19:19.740Z"
   },
   {
    "duration": 27,
    "start_time": "2021-07-08T10:19:19.746Z"
   },
   {
    "duration": 7,
    "start_time": "2021-07-08T10:19:19.775Z"
   },
   {
    "duration": 30,
    "start_time": "2021-07-08T10:19:19.784Z"
   },
   {
    "duration": 7,
    "start_time": "2021-07-08T10:19:19.817Z"
   },
   {
    "duration": 26,
    "start_time": "2021-07-08T10:19:19.826Z"
   },
   {
    "duration": 18,
    "start_time": "2021-07-08T10:19:19.854Z"
   },
   {
    "duration": 14,
    "start_time": "2021-07-08T10:19:19.874Z"
   },
   {
    "duration": 48,
    "start_time": "2021-07-08T10:19:19.890Z"
   },
   {
    "duration": 17,
    "start_time": "2021-07-08T10:19:19.940Z"
   },
   {
    "duration": 38,
    "start_time": "2021-07-08T10:19:19.959Z"
   },
   {
    "duration": 8,
    "start_time": "2021-07-08T10:19:19.999Z"
   },
   {
    "duration": 15,
    "start_time": "2021-07-08T10:19:20.009Z"
   },
   {
    "duration": 22,
    "start_time": "2021-07-08T10:19:20.026Z"
   },
   {
    "duration": 10,
    "start_time": "2021-07-08T10:19:20.050Z"
   },
   {
    "duration": 10,
    "start_time": "2021-07-08T10:19:20.062Z"
   },
   {
    "duration": 20,
    "start_time": "2021-07-08T10:19:20.073Z"
   },
   {
    "duration": 29,
    "start_time": "2021-07-08T10:19:20.095Z"
   },
   {
    "duration": 17,
    "start_time": "2021-07-08T10:19:20.126Z"
   },
   {
    "duration": 40,
    "start_time": "2021-07-08T10:19:20.146Z"
   },
   {
    "duration": 15,
    "start_time": "2021-07-08T10:19:20.189Z"
   },
   {
    "duration": 19,
    "start_time": "2021-07-08T10:19:20.206Z"
   },
   {
    "duration": 10,
    "start_time": "2021-07-08T10:19:20.226Z"
   },
   {
    "duration": 11,
    "start_time": "2021-07-08T10:19:20.238Z"
   },
   {
    "duration": 297,
    "start_time": "2021-07-08T10:19:20.250Z"
   },
   {
    "duration": 6,
    "start_time": "2021-07-08T10:19:20.549Z"
   },
   {
    "duration": 191,
    "start_time": "2021-07-08T10:19:20.557Z"
   },
   {
    "duration": 19,
    "start_time": "2021-07-08T10:19:20.750Z"
   },
   {
    "duration": 20,
    "start_time": "2021-07-08T10:19:20.771Z"
   },
   {
    "duration": 15,
    "start_time": "2021-07-08T10:19:20.793Z"
   },
   {
    "duration": 222,
    "start_time": "2021-07-08T10:19:20.809Z"
   },
   {
    "duration": 20,
    "start_time": "2021-07-08T10:19:21.033Z"
   },
   {
    "duration": 27,
    "start_time": "2021-07-08T10:45:04.055Z"
   },
   {
    "duration": 8,
    "start_time": "2021-07-08T10:45:08.478Z"
   },
   {
    "duration": 8,
    "start_time": "2021-07-08T10:45:31.982Z"
   },
   {
    "duration": 10,
    "start_time": "2021-07-08T10:46:01.221Z"
   },
   {
    "duration": 17,
    "start_time": "2021-07-08T10:46:40.011Z"
   },
   {
    "duration": 193,
    "start_time": "2021-07-08T10:48:19.471Z"
   },
   {
    "duration": 225,
    "start_time": "2021-07-08T10:49:26.480Z"
   },
   {
    "duration": 204,
    "start_time": "2021-07-08T10:49:59.992Z"
   },
   {
    "duration": 435,
    "start_time": "2021-07-08T10:50:06.779Z"
   },
   {
    "duration": 199,
    "start_time": "2021-07-08T10:50:14.891Z"
   },
   {
    "duration": 204,
    "start_time": "2021-07-08T10:50:18.501Z"
   },
   {
    "duration": 244,
    "start_time": "2021-07-08T10:50:23.359Z"
   },
   {
    "duration": 192,
    "start_time": "2021-07-08T10:50:29.135Z"
   },
   {
    "duration": 218,
    "start_time": "2021-07-08T10:50:33.092Z"
   },
   {
    "duration": 207,
    "start_time": "2021-07-08T10:52:45.381Z"
   },
   {
    "duration": 5,
    "start_time": "2021-07-08T10:53:34.641Z"
   },
   {
    "duration": 196,
    "start_time": "2021-07-08T10:53:41.478Z"
   },
   {
    "duration": 43,
    "start_time": "2021-07-08T10:53:50.335Z"
   },
   {
    "duration": 32,
    "start_time": "2021-07-08T10:53:55.294Z"
   },
   {
    "duration": 55,
    "start_time": "2021-07-08T10:54:09.675Z"
   },
   {
    "duration": 16,
    "start_time": "2021-07-08T10:54:12.260Z"
   },
   {
    "duration": 15,
    "start_time": "2021-07-08T10:54:49.150Z"
   },
   {
    "duration": 20,
    "start_time": "2021-07-08T10:56:07.596Z"
   },
   {
    "duration": 16,
    "start_time": "2021-07-08T10:58:26.276Z"
   },
   {
    "duration": 22,
    "start_time": "2021-07-08T10:59:00.486Z"
   },
   {
    "duration": 18,
    "start_time": "2021-07-08T11:02:09.653Z"
   },
   {
    "duration": 10,
    "start_time": "2021-07-08T11:03:44.331Z"
   },
   {
    "duration": 10,
    "start_time": "2021-07-08T11:03:54.055Z"
   },
   {
    "duration": 12,
    "start_time": "2021-07-08T11:04:41.967Z"
   },
   {
    "duration": 24,
    "start_time": "2021-07-08T11:07:30.732Z"
   },
   {
    "duration": 6,
    "start_time": "2021-07-08T11:07:37.364Z"
   },
   {
    "duration": 16,
    "start_time": "2021-07-08T11:08:01.819Z"
   },
   {
    "duration": 17,
    "start_time": "2021-07-08T11:09:47.488Z"
   },
   {
    "duration": 246,
    "start_time": "2021-07-08T11:10:00.830Z"
   },
   {
    "duration": 18,
    "start_time": "2021-07-08T11:13:55.195Z"
   },
   {
    "duration": 204,
    "start_time": "2021-07-08T11:14:04.951Z"
   },
   {
    "duration": 19,
    "start_time": "2021-07-08T11:15:10.613Z"
   },
   {
    "duration": 680,
    "start_time": "2021-07-08T11:16:25.793Z"
   },
   {
    "duration": 451,
    "start_time": "2021-07-08T11:16:40.313Z"
   },
   {
    "duration": 469,
    "start_time": "2021-07-08T11:17:21.286Z"
   },
   {
    "duration": 20,
    "start_time": "2021-07-08T11:19:12.554Z"
   },
   {
    "duration": 35,
    "start_time": "2021-07-08T11:20:05.484Z"
   },
   {
    "duration": 53,
    "start_time": "2021-07-08T11:21:40.050Z"
   },
   {
    "duration": 13,
    "start_time": "2021-07-08T11:22:26.059Z"
   },
   {
    "duration": 19,
    "start_time": "2021-07-08T11:22:47.419Z"
   },
   {
    "duration": 25,
    "start_time": "2021-07-08T11:23:19.958Z"
   },
   {
    "duration": 29,
    "start_time": "2021-07-08T11:23:25.415Z"
   },
   {
    "duration": 10,
    "start_time": "2021-07-08T11:24:45.138Z"
   },
   {
    "duration": 19,
    "start_time": "2021-07-08T11:24:54.498Z"
   },
   {
    "duration": 12,
    "start_time": "2021-07-08T11:25:32.225Z"
   },
   {
    "duration": 19,
    "start_time": "2021-07-08T11:25:37.092Z"
   },
   {
    "duration": 17,
    "start_time": "2021-07-08T11:25:58.116Z"
   },
   {
    "duration": 15,
    "start_time": "2021-07-08T11:26:02.258Z"
   },
   {
    "duration": 8,
    "start_time": "2021-07-08T11:26:59.682Z"
   },
   {
    "duration": 184,
    "start_time": "2021-07-08T11:27:21.894Z"
   },
   {
    "duration": 8,
    "start_time": "2021-07-08T11:27:23.824Z"
   },
   {
    "duration": 202,
    "start_time": "2021-07-08T11:27:23.962Z"
   },
   {
    "duration": 360,
    "start_time": "2021-07-08T11:28:33.215Z"
   },
   {
    "duration": 231,
    "start_time": "2021-07-08T11:32:05.542Z"
   },
   {
    "duration": 607,
    "start_time": "2021-07-08T11:36:27.854Z"
   },
   {
    "duration": 241,
    "start_time": "2021-07-08T11:36:28.463Z"
   },
   {
    "duration": 67,
    "start_time": "2021-07-08T11:36:28.709Z"
   },
   {
    "duration": 5,
    "start_time": "2021-07-08T11:36:28.778Z"
   },
   {
    "duration": 32,
    "start_time": "2021-07-08T11:36:28.784Z"
   },
   {
    "duration": 11,
    "start_time": "2021-07-08T11:36:28.819Z"
   },
   {
    "duration": 20,
    "start_time": "2021-07-08T11:36:28.834Z"
   },
   {
    "duration": 36,
    "start_time": "2021-07-08T11:36:28.857Z"
   },
   {
    "duration": 16,
    "start_time": "2021-07-08T11:36:28.895Z"
   },
   {
    "duration": 14,
    "start_time": "2021-07-08T11:36:28.913Z"
   },
   {
    "duration": 9,
    "start_time": "2021-07-08T11:36:28.930Z"
   },
   {
    "duration": 55,
    "start_time": "2021-07-08T11:36:28.941Z"
   },
   {
    "duration": 27,
    "start_time": "2021-07-08T11:36:28.999Z"
   },
   {
    "duration": 30,
    "start_time": "2021-07-08T11:36:29.028Z"
   },
   {
    "duration": 31,
    "start_time": "2021-07-08T11:36:29.060Z"
   },
   {
    "duration": 3,
    "start_time": "2021-07-08T11:36:29.093Z"
   },
   {
    "duration": 12,
    "start_time": "2021-07-08T11:36:29.099Z"
   },
   {
    "duration": 11,
    "start_time": "2021-07-08T11:36:29.112Z"
   },
   {
    "duration": 12,
    "start_time": "2021-07-08T11:36:29.125Z"
   },
   {
    "duration": 9,
    "start_time": "2021-07-08T11:36:29.139Z"
   },
   {
    "duration": 31,
    "start_time": "2021-07-08T11:36:29.191Z"
   },
   {
    "duration": 17,
    "start_time": "2021-07-08T11:36:29.226Z"
   },
   {
    "duration": 7,
    "start_time": "2021-07-08T11:36:29.245Z"
   },
   {
    "duration": 10,
    "start_time": "2021-07-08T11:36:29.254Z"
   },
   {
    "duration": 30,
    "start_time": "2021-07-08T11:36:29.292Z"
   },
   {
    "duration": 11,
    "start_time": "2021-07-08T11:36:29.324Z"
   },
   {
    "duration": 11,
    "start_time": "2021-07-08T11:36:29.337Z"
   },
   {
    "duration": 230,
    "start_time": "2021-07-08T11:36:29.349Z"
   },
   {
    "duration": 13,
    "start_time": "2021-07-08T11:36:29.588Z"
   },
   {
    "duration": 205,
    "start_time": "2021-07-08T11:36:29.603Z"
   },
   {
    "duration": 20,
    "start_time": "2021-07-08T11:36:29.810Z"
   },
   {
    "duration": 9,
    "start_time": "2021-07-08T11:36:29.832Z"
   },
   {
    "duration": 16,
    "start_time": "2021-07-08T11:36:29.843Z"
   },
   {
    "duration": 283,
    "start_time": "2021-07-08T11:36:29.861Z"
   },
   {
    "duration": 50,
    "start_time": "2021-07-08T11:36:30.146Z"
   },
   {
    "duration": 14,
    "start_time": "2021-07-08T11:36:30.198Z"
   },
   {
    "duration": 11,
    "start_time": "2021-07-08T11:36:30.214Z"
   },
   {
    "duration": 245,
    "start_time": "2021-07-08T11:36:30.227Z"
   },
   {
    "duration": 439,
    "start_time": "2021-07-08T11:36:30.474Z"
   },
   {
    "duration": 210,
    "start_time": "2021-07-08T11:36:30.915Z"
   },
   {
    "duration": 15,
    "start_time": "2021-07-08T11:36:31.127Z"
   },
   {
    "duration": 17,
    "start_time": "2021-07-08T11:38:20.451Z"
   },
   {
    "duration": 642,
    "start_time": "2021-07-08T11:46:17.881Z"
   },
   {
    "duration": 210,
    "start_time": "2021-07-08T11:46:18.525Z"
   },
   {
    "duration": 104,
    "start_time": "2021-07-08T11:46:18.741Z"
   },
   {
    "duration": 8,
    "start_time": "2021-07-08T11:46:18.847Z"
   },
   {
    "duration": 25,
    "start_time": "2021-07-08T11:46:18.857Z"
   },
   {
    "duration": 14,
    "start_time": "2021-07-08T11:46:18.884Z"
   },
   {
    "duration": 22,
    "start_time": "2021-07-08T11:46:18.900Z"
   },
   {
    "duration": 5,
    "start_time": "2021-07-08T11:46:18.924Z"
   },
   {
    "duration": 13,
    "start_time": "2021-07-08T11:46:18.931Z"
   },
   {
    "duration": 45,
    "start_time": "2021-07-08T11:46:18.946Z"
   },
   {
    "duration": 12,
    "start_time": "2021-07-08T11:46:18.993Z"
   },
   {
    "duration": 38,
    "start_time": "2021-07-08T11:46:19.006Z"
   },
   {
    "duration": 50,
    "start_time": "2021-07-08T11:46:19.046Z"
   },
   {
    "duration": 29,
    "start_time": "2021-07-08T11:46:19.099Z"
   },
   {
    "duration": 7,
    "start_time": "2021-07-08T11:46:19.130Z"
   },
   {
    "duration": 3,
    "start_time": "2021-07-08T11:46:19.139Z"
   },
   {
    "duration": 11,
    "start_time": "2021-07-08T11:46:19.144Z"
   },
   {
    "duration": 40,
    "start_time": "2021-07-08T11:46:19.157Z"
   },
   {
    "duration": 15,
    "start_time": "2021-07-08T11:46:19.199Z"
   },
   {
    "duration": 10,
    "start_time": "2021-07-08T11:46:19.217Z"
   },
   {
    "duration": 68,
    "start_time": "2021-07-08T11:46:19.230Z"
   },
   {
    "duration": 17,
    "start_time": "2021-07-08T11:46:19.301Z"
   },
   {
    "duration": 7,
    "start_time": "2021-07-08T11:46:19.321Z"
   },
   {
    "duration": 11,
    "start_time": "2021-07-08T11:46:19.330Z"
   },
   {
    "duration": 59,
    "start_time": "2021-07-08T11:46:19.343Z"
   },
   {
    "duration": 17,
    "start_time": "2021-07-08T11:46:19.405Z"
   },
   {
    "duration": 16,
    "start_time": "2021-07-08T11:46:19.424Z"
   },
   {
    "duration": 252,
    "start_time": "2021-07-08T11:46:19.443Z"
   },
   {
    "duration": 9,
    "start_time": "2021-07-08T11:46:19.697Z"
   },
   {
    "duration": 224,
    "start_time": "2021-07-08T11:46:19.708Z"
   },
   {
    "duration": 21,
    "start_time": "2021-07-08T11:46:19.934Z"
   },
   {
    "duration": 9,
    "start_time": "2021-07-08T11:46:19.956Z"
   },
   {
    "duration": 32,
    "start_time": "2021-07-08T11:46:19.967Z"
   },
   {
    "duration": 288,
    "start_time": "2021-07-08T11:46:20.004Z"
   },
   {
    "duration": 23,
    "start_time": "2021-07-08T11:46:20.300Z"
   },
   {
    "duration": 11,
    "start_time": "2021-07-08T11:46:20.325Z"
   },
   {
    "duration": 11,
    "start_time": "2021-07-08T11:46:20.339Z"
   },
   {
    "duration": 259,
    "start_time": "2021-07-08T11:46:20.352Z"
   },
   {
    "duration": 438,
    "start_time": "2021-07-08T11:46:20.613Z"
   },
   {
    "duration": 207,
    "start_time": "2021-07-08T11:46:21.054Z"
   },
   {
    "duration": 27,
    "start_time": "2021-07-08T11:46:21.262Z"
   },
   {
    "duration": 19,
    "start_time": "2021-07-08T11:46:21.291Z"
   },
   {
    "duration": 820,
    "start_time": "2021-07-08T11:49:01.655Z"
   },
   {
    "duration": 372,
    "start_time": "2021-07-08T11:49:02.478Z"
   },
   {
    "duration": 98,
    "start_time": "2021-07-08T11:49:02.853Z"
   },
   {
    "duration": 6,
    "start_time": "2021-07-08T11:49:02.953Z"
   },
   {
    "duration": 39,
    "start_time": "2021-07-08T11:49:02.960Z"
   },
   {
    "duration": 9,
    "start_time": "2021-07-08T11:49:03.003Z"
   },
   {
    "duration": 23,
    "start_time": "2021-07-08T11:49:03.014Z"
   },
   {
    "duration": 6,
    "start_time": "2021-07-08T11:49:03.041Z"
   },
   {
    "duration": 20,
    "start_time": "2021-07-08T11:49:03.049Z"
   },
   {
    "duration": 18,
    "start_time": "2021-07-08T11:49:03.084Z"
   },
   {
    "duration": 14,
    "start_time": "2021-07-08T11:49:03.104Z"
   },
   {
    "duration": 39,
    "start_time": "2021-07-08T11:49:03.119Z"
   },
   {
    "duration": 38,
    "start_time": "2021-07-08T11:49:03.160Z"
   },
   {
    "duration": 26,
    "start_time": "2021-07-08T11:49:03.200Z"
   },
   {
    "duration": 7,
    "start_time": "2021-07-08T11:49:03.227Z"
   },
   {
    "duration": 4,
    "start_time": "2021-07-08T11:49:03.236Z"
   },
   {
    "duration": 15,
    "start_time": "2021-07-08T11:49:03.243Z"
   },
   {
    "duration": 21,
    "start_time": "2021-07-08T11:49:03.285Z"
   },
   {
    "duration": 17,
    "start_time": "2021-07-08T11:49:03.309Z"
   },
   {
    "duration": 10,
    "start_time": "2021-07-08T11:49:03.328Z"
   },
   {
    "duration": 65,
    "start_time": "2021-07-08T11:49:03.340Z"
   },
   {
    "duration": 18,
    "start_time": "2021-07-08T11:49:03.407Z"
   },
   {
    "duration": 8,
    "start_time": "2021-07-08T11:49:03.428Z"
   },
   {
    "duration": 15,
    "start_time": "2021-07-08T11:49:03.438Z"
   },
   {
    "duration": 40,
    "start_time": "2021-07-08T11:49:03.455Z"
   },
   {
    "duration": 12,
    "start_time": "2021-07-08T11:49:03.497Z"
   },
   {
    "duration": 29,
    "start_time": "2021-07-08T11:49:03.511Z"
   },
   {
    "duration": 285,
    "start_time": "2021-07-08T11:49:03.542Z"
   },
   {
    "duration": 8,
    "start_time": "2021-07-08T11:49:03.829Z"
   },
   {
    "duration": 227,
    "start_time": "2021-07-08T11:49:03.838Z"
   },
   {
    "duration": 40,
    "start_time": "2021-07-08T11:49:04.066Z"
   },
   {
    "duration": 10,
    "start_time": "2021-07-08T11:49:04.108Z"
   },
   {
    "duration": 26,
    "start_time": "2021-07-08T11:49:04.121Z"
   },
   {
    "duration": 290,
    "start_time": "2021-07-08T11:49:04.149Z"
   },
   {
    "duration": 26,
    "start_time": "2021-07-08T11:49:04.441Z"
   },
   {
    "duration": 31,
    "start_time": "2021-07-08T11:49:04.470Z"
   },
   {
    "duration": 14,
    "start_time": "2021-07-08T11:49:04.503Z"
   },
   {
    "duration": 259,
    "start_time": "2021-07-08T11:49:04.521Z"
   },
   {
    "duration": 480,
    "start_time": "2021-07-08T11:49:04.782Z"
   },
   {
    "duration": 225,
    "start_time": "2021-07-08T11:49:05.264Z"
   },
   {
    "duration": 22,
    "start_time": "2021-07-08T11:49:05.491Z"
   },
   {
    "duration": 24,
    "start_time": "2021-07-08T11:49:05.515Z"
   },
   {
    "duration": 634,
    "start_time": "2021-07-08T11:52:24.960Z"
   },
   {
    "duration": 199,
    "start_time": "2021-07-08T11:52:25.599Z"
   },
   {
    "duration": 106,
    "start_time": "2021-07-08T11:52:25.803Z"
   },
   {
    "duration": 7,
    "start_time": "2021-07-08T11:52:25.911Z"
   },
   {
    "duration": 29,
    "start_time": "2021-07-08T11:52:25.920Z"
   },
   {
    "duration": 7,
    "start_time": "2021-07-08T11:52:25.951Z"
   },
   {
    "duration": 26,
    "start_time": "2021-07-08T11:52:25.961Z"
   },
   {
    "duration": 11,
    "start_time": "2021-07-08T11:52:25.990Z"
   },
   {
    "duration": 29,
    "start_time": "2021-07-08T11:52:26.005Z"
   },
   {
    "duration": 9,
    "start_time": "2021-07-08T11:52:26.036Z"
   },
   {
    "duration": 8,
    "start_time": "2021-07-08T11:52:26.047Z"
   },
   {
    "duration": 63,
    "start_time": "2021-07-08T11:52:26.057Z"
   },
   {
    "duration": 17,
    "start_time": "2021-07-08T11:52:26.122Z"
   },
   {
    "duration": 43,
    "start_time": "2021-07-08T11:52:26.142Z"
   },
   {
    "duration": 17,
    "start_time": "2021-07-08T11:52:26.187Z"
   },
   {
    "duration": 5,
    "start_time": "2021-07-08T11:52:26.206Z"
   },
   {
    "duration": 12,
    "start_time": "2021-07-08T11:52:26.212Z"
   },
   {
    "duration": 11,
    "start_time": "2021-07-08T11:52:26.226Z"
   },
   {
    "duration": 12,
    "start_time": "2021-07-08T11:52:26.238Z"
   },
   {
    "duration": 38,
    "start_time": "2021-07-08T11:52:26.252Z"
   },
   {
    "duration": 40,
    "start_time": "2021-07-08T11:52:26.292Z"
   },
   {
    "duration": 17,
    "start_time": "2021-07-08T11:52:26.336Z"
   },
   {
    "duration": 39,
    "start_time": "2021-07-08T11:52:26.355Z"
   },
   {
    "duration": 11,
    "start_time": "2021-07-08T11:52:26.395Z"
   },
   {
    "duration": 23,
    "start_time": "2021-07-08T11:52:26.408Z"
   },
   {
    "duration": 12,
    "start_time": "2021-07-08T11:52:26.432Z"
   },
   {
    "duration": 41,
    "start_time": "2021-07-08T11:52:26.446Z"
   },
   {
    "duration": 215,
    "start_time": "2021-07-08T11:52:26.493Z"
   },
   {
    "duration": 8,
    "start_time": "2021-07-08T11:52:26.710Z"
   },
   {
    "duration": 228,
    "start_time": "2021-07-08T11:52:26.720Z"
   },
   {
    "duration": 18,
    "start_time": "2021-07-08T11:52:26.950Z"
   },
   {
    "duration": 35,
    "start_time": "2021-07-08T11:52:26.969Z"
   },
   {
    "duration": 23,
    "start_time": "2021-07-08T11:52:27.006Z"
   },
   {
    "duration": 258,
    "start_time": "2021-07-08T11:52:27.030Z"
   },
   {
    "duration": 24,
    "start_time": "2021-07-08T11:52:27.290Z"
   },
   {
    "duration": 12,
    "start_time": "2021-07-08T11:52:27.316Z"
   },
   {
    "duration": 10,
    "start_time": "2021-07-08T11:52:27.329Z"
   },
   {
    "duration": 298,
    "start_time": "2021-07-08T11:52:27.341Z"
   },
   {
    "duration": 436,
    "start_time": "2021-07-08T11:52:27.641Z"
   },
   {
    "duration": 216,
    "start_time": "2021-07-08T11:52:28.079Z"
   },
   {
    "duration": 20,
    "start_time": "2021-07-08T11:52:28.297Z"
   },
   {
    "duration": 17,
    "start_time": "2021-07-08T11:52:28.319Z"
   },
   {
    "duration": 507,
    "start_time": "2022-09-19T03:31:42.474Z"
   },
   {
    "duration": 340,
    "start_time": "2022-09-19T03:32:14.984Z"
   },
   {
    "duration": 37,
    "start_time": "2022-09-19T03:32:51.349Z"
   },
   {
    "duration": 25,
    "start_time": "2022-09-19T03:33:23.650Z"
   },
   {
    "duration": 19,
    "start_time": "2022-09-19T03:33:32.939Z"
   },
   {
    "duration": 25,
    "start_time": "2022-09-19T03:33:44.993Z"
   },
   {
    "duration": 32,
    "start_time": "2022-09-19T03:34:09.409Z"
   },
   {
    "duration": 1085,
    "start_time": "2022-09-24T13:54:03.961Z"
   },
   {
    "duration": 28,
    "start_time": "2022-09-24T13:54:05.049Z"
   },
   {
    "duration": 35,
    "start_time": "2022-09-24T13:54:05.079Z"
   },
   {
    "duration": 27,
    "start_time": "2022-09-24T13:54:05.117Z"
   },
   {
    "duration": 51,
    "start_time": "2022-09-24T13:54:05.147Z"
   },
   {
    "duration": 59,
    "start_time": "2022-09-24T13:54:05.202Z"
   },
   {
    "duration": 7,
    "start_time": "2022-09-24T13:54:05.263Z"
   },
   {
    "duration": 56,
    "start_time": "2022-09-24T13:54:05.272Z"
   },
   {
    "duration": 7,
    "start_time": "2022-09-24T13:54:05.330Z"
   },
   {
    "duration": 96,
    "start_time": "2022-09-24T13:54:05.339Z"
   },
   {
    "duration": 0,
    "start_time": "2022-09-24T13:54:05.439Z"
   },
   {
    "duration": 0,
    "start_time": "2022-09-24T13:54:05.441Z"
   },
   {
    "duration": 0,
    "start_time": "2022-09-24T13:54:05.442Z"
   },
   {
    "duration": 0,
    "start_time": "2022-09-24T13:54:05.443Z"
   },
   {
    "duration": 0,
    "start_time": "2022-09-24T13:54:05.445Z"
   },
   {
    "duration": 0,
    "start_time": "2022-09-24T13:54:05.446Z"
   },
   {
    "duration": 0,
    "start_time": "2022-09-24T13:54:05.447Z"
   },
   {
    "duration": 0,
    "start_time": "2022-09-24T13:54:05.448Z"
   },
   {
    "duration": 0,
    "start_time": "2022-09-24T13:54:05.450Z"
   },
   {
    "duration": 0,
    "start_time": "2022-09-24T13:54:05.451Z"
   },
   {
    "duration": 0,
    "start_time": "2022-09-24T13:54:05.453Z"
   },
   {
    "duration": 0,
    "start_time": "2022-09-24T13:54:05.454Z"
   },
   {
    "duration": 0,
    "start_time": "2022-09-24T13:54:05.456Z"
   },
   {
    "duration": 0,
    "start_time": "2022-09-24T13:54:05.457Z"
   },
   {
    "duration": 0,
    "start_time": "2022-09-24T13:54:05.459Z"
   },
   {
    "duration": 0,
    "start_time": "2022-09-24T13:54:05.460Z"
   },
   {
    "duration": 0,
    "start_time": "2022-09-24T13:54:05.489Z"
   },
   {
    "duration": 0,
    "start_time": "2022-09-24T13:54:05.490Z"
   },
   {
    "duration": 0,
    "start_time": "2022-09-24T13:54:05.491Z"
   },
   {
    "duration": 0,
    "start_time": "2022-09-24T13:54:05.492Z"
   },
   {
    "duration": 0,
    "start_time": "2022-09-24T13:54:05.493Z"
   },
   {
    "duration": 0,
    "start_time": "2022-09-24T13:54:05.493Z"
   },
   {
    "duration": 0,
    "start_time": "2022-09-24T13:54:05.494Z"
   },
   {
    "duration": 0,
    "start_time": "2022-09-24T13:54:05.495Z"
   },
   {
    "duration": 0,
    "start_time": "2022-09-24T13:54:05.496Z"
   },
   {
    "duration": 0,
    "start_time": "2022-09-24T13:54:05.497Z"
   },
   {
    "duration": 0,
    "start_time": "2022-09-24T13:54:05.498Z"
   },
   {
    "duration": 0,
    "start_time": "2022-09-24T13:54:05.498Z"
   },
   {
    "duration": 0,
    "start_time": "2022-09-24T13:54:05.499Z"
   },
   {
    "duration": 0,
    "start_time": "2022-09-24T13:54:05.500Z"
   },
   {
    "duration": 0,
    "start_time": "2022-09-24T13:54:05.501Z"
   },
   {
    "duration": 0,
    "start_time": "2022-09-24T13:54:05.504Z"
   },
   {
    "duration": 0,
    "start_time": "2022-09-24T13:54:05.504Z"
   },
   {
    "duration": 0,
    "start_time": "2022-09-24T13:54:05.505Z"
   },
   {
    "duration": 0,
    "start_time": "2022-09-24T13:54:05.506Z"
   },
   {
    "duration": 0,
    "start_time": "2022-09-24T13:54:05.506Z"
   },
   {
    "duration": 0,
    "start_time": "2022-09-24T13:54:05.507Z"
   },
   {
    "duration": 0,
    "start_time": "2022-09-24T13:54:05.510Z"
   },
   {
    "duration": 0,
    "start_time": "2022-09-24T13:54:05.511Z"
   },
   {
    "duration": 0,
    "start_time": "2022-09-24T13:54:05.513Z"
   },
   {
    "duration": 0,
    "start_time": "2022-09-24T13:54:05.514Z"
   },
   {
    "duration": 0,
    "start_time": "2022-09-24T13:54:05.515Z"
   },
   {
    "duration": 0,
    "start_time": "2022-09-24T13:54:05.516Z"
   },
   {
    "duration": 0,
    "start_time": "2022-09-24T13:54:05.517Z"
   },
   {
    "duration": 550,
    "start_time": "2022-09-24T14:18:00.436Z"
   },
   {
    "duration": 26,
    "start_time": "2022-09-24T14:18:00.988Z"
   },
   {
    "duration": 65,
    "start_time": "2022-09-24T14:18:01.016Z"
   },
   {
    "duration": 69,
    "start_time": "2022-09-24T14:18:01.083Z"
   },
   {
    "duration": 83,
    "start_time": "2022-09-24T14:18:01.153Z"
   },
   {
    "duration": 52,
    "start_time": "2022-09-24T14:18:01.238Z"
   },
   {
    "duration": 7,
    "start_time": "2022-09-24T14:18:01.292Z"
   },
   {
    "duration": 40,
    "start_time": "2022-09-24T14:18:01.300Z"
   },
   {
    "duration": 15,
    "start_time": "2022-09-24T14:18:01.342Z"
   },
   {
    "duration": 20,
    "start_time": "2022-09-24T14:18:01.360Z"
   },
   {
    "duration": 31,
    "start_time": "2022-09-24T14:18:01.382Z"
   },
   {
    "duration": 25,
    "start_time": "2022-09-24T14:18:01.414Z"
   },
   {
    "duration": 18,
    "start_time": "2022-09-24T14:18:01.441Z"
   },
   {
    "duration": 28,
    "start_time": "2022-09-24T14:18:01.460Z"
   },
   {
    "duration": 21,
    "start_time": "2022-09-24T14:18:01.489Z"
   },
   {
    "duration": 95,
    "start_time": "2022-09-24T14:18:01.511Z"
   },
   {
    "duration": 16,
    "start_time": "2022-09-24T14:18:01.608Z"
   },
   {
    "duration": 33,
    "start_time": "2022-09-24T14:18:01.626Z"
   },
   {
    "duration": 43,
    "start_time": "2022-09-24T14:18:01.660Z"
   },
   {
    "duration": 33,
    "start_time": "2022-09-24T14:18:01.704Z"
   },
   {
    "duration": 31,
    "start_time": "2022-09-24T14:18:01.738Z"
   },
   {
    "duration": 26,
    "start_time": "2022-09-24T14:18:01.771Z"
   },
   {
    "duration": 56,
    "start_time": "2022-09-24T14:18:01.800Z"
   },
   {
    "duration": 28,
    "start_time": "2022-09-24T14:18:01.858Z"
   },
   {
    "duration": 69,
    "start_time": "2022-09-24T14:18:01.888Z"
   },
   {
    "duration": 1046,
    "start_time": "2022-09-24T14:18:01.959Z"
   },
   {
    "duration": 184,
    "start_time": "2022-09-24T14:18:03.007Z"
   },
   {
    "duration": 135,
    "start_time": "2022-09-24T14:18:03.194Z"
   },
   {
    "duration": 116,
    "start_time": "2022-09-24T14:18:03.331Z"
   },
   {
    "duration": 116,
    "start_time": "2022-09-24T14:18:03.449Z"
   },
   {
    "duration": 25,
    "start_time": "2022-09-24T14:18:03.566Z"
   },
   {
    "duration": 22,
    "start_time": "2022-09-24T14:18:03.593Z"
   },
   {
    "duration": 642,
    "start_time": "2022-09-24T14:18:03.617Z"
   },
   {
    "duration": 1448,
    "start_time": "2022-09-24T14:18:04.261Z"
   },
   {
    "duration": 8,
    "start_time": "2022-09-24T14:18:05.711Z"
   },
   {
    "duration": 31,
    "start_time": "2022-09-24T14:18:05.720Z"
   },
   {
    "duration": 57,
    "start_time": "2022-09-24T14:18:05.753Z"
   },
   {
    "duration": 5,
    "start_time": "2022-09-24T14:18:05.812Z"
   },
   {
    "duration": 23,
    "start_time": "2022-09-24T14:18:05.820Z"
   },
   {
    "duration": 68,
    "start_time": "2022-09-24T14:18:05.845Z"
   },
   {
    "duration": 327,
    "start_time": "2022-09-24T14:18:05.915Z"
   },
   {
    "duration": 174,
    "start_time": "2022-09-24T14:18:06.244Z"
   },
   {
    "duration": 35,
    "start_time": "2022-09-24T14:18:06.420Z"
   },
   {
    "duration": 293,
    "start_time": "2022-09-24T14:18:06.458Z"
   },
   {
    "duration": 49,
    "start_time": "2022-09-24T14:18:06.752Z"
   },
   {
    "duration": 311,
    "start_time": "2022-09-24T14:18:06.803Z"
   },
   {
    "duration": 309,
    "start_time": "2022-09-24T14:18:07.116Z"
   },
   {
    "duration": 5,
    "start_time": "2022-09-24T14:18:07.427Z"
   },
   {
    "duration": 200,
    "start_time": "2022-09-24T14:18:07.434Z"
   },
   {
    "duration": 287,
    "start_time": "2022-09-24T14:18:07.636Z"
   },
   {
    "duration": 194,
    "start_time": "2022-09-24T14:18:07.925Z"
   },
   {
    "duration": 203,
    "start_time": "2022-09-24T14:18:08.120Z"
   },
   {
    "duration": 9,
    "start_time": "2022-09-24T14:18:08.325Z"
   },
   {
    "duration": 116,
    "start_time": "2022-09-24T14:18:08.336Z"
   },
   {
    "duration": 4,
    "start_time": "2022-09-24T14:39:02.712Z"
   },
   {
    "duration": 19,
    "start_time": "2022-09-24T15:02:10.297Z"
   },
   {
    "duration": 9,
    "start_time": "2022-09-24T15:10:14.650Z"
   },
   {
    "duration": 64,
    "start_time": "2022-09-24T15:10:21.451Z"
   },
   {
    "duration": 6,
    "start_time": "2022-09-24T15:13:51.948Z"
   },
   {
    "duration": 11,
    "start_time": "2022-09-24T15:13:58.233Z"
   },
   {
    "duration": 193,
    "start_time": "2022-09-24T15:14:01.798Z"
   },
   {
    "duration": 32,
    "start_time": "2022-09-24T15:14:01.994Z"
   },
   {
    "duration": 65,
    "start_time": "2022-09-24T15:14:02.028Z"
   },
   {
    "duration": 50,
    "start_time": "2022-09-24T15:14:02.096Z"
   },
   {
    "duration": 48,
    "start_time": "2022-09-24T15:14:02.149Z"
   },
   {
    "duration": 76,
    "start_time": "2022-09-24T15:14:02.199Z"
   },
   {
    "duration": 13,
    "start_time": "2022-09-24T15:14:02.278Z"
   },
   {
    "duration": 46,
    "start_time": "2022-09-24T15:14:02.293Z"
   },
   {
    "duration": 7,
    "start_time": "2022-09-24T15:14:02.341Z"
   },
   {
    "duration": 14,
    "start_time": "2022-09-24T15:14:02.352Z"
   },
   {
    "duration": 9,
    "start_time": "2022-09-24T15:14:02.389Z"
   },
   {
    "duration": 15,
    "start_time": "2022-09-24T15:14:02.400Z"
   },
   {
    "duration": 14,
    "start_time": "2022-09-24T15:14:02.417Z"
   },
   {
    "duration": 21,
    "start_time": "2022-09-24T15:14:02.433Z"
   },
   {
    "duration": 10,
    "start_time": "2022-09-24T15:14:02.488Z"
   },
   {
    "duration": 94,
    "start_time": "2022-09-24T15:14:02.500Z"
   },
   {
    "duration": 21,
    "start_time": "2022-09-24T15:14:02.597Z"
   },
   {
    "duration": 14,
    "start_time": "2022-09-24T15:14:02.621Z"
   },
   {
    "duration": 23,
    "start_time": "2022-09-24T15:14:02.639Z"
   },
   {
    "duration": 55,
    "start_time": "2022-09-24T15:14:02.664Z"
   },
   {
    "duration": 44,
    "start_time": "2022-09-24T15:14:02.721Z"
   },
   {
    "duration": 6,
    "start_time": "2022-09-24T15:14:02.788Z"
   },
   {
    "duration": 33,
    "start_time": "2022-09-24T15:14:02.796Z"
   },
   {
    "duration": 6,
    "start_time": "2022-09-24T15:14:02.831Z"
   },
   {
    "duration": 54,
    "start_time": "2022-09-24T15:14:02.840Z"
   },
   {
    "duration": 11,
    "start_time": "2022-09-24T15:14:02.896Z"
   },
   {
    "duration": 37,
    "start_time": "2022-09-24T15:14:02.909Z"
   },
   {
    "duration": 642,
    "start_time": "2022-09-24T15:14:02.950Z"
   },
   {
    "duration": 135,
    "start_time": "2022-09-24T15:14:03.594Z"
   },
   {
    "duration": 136,
    "start_time": "2022-09-24T15:14:03.731Z"
   },
   {
    "duration": 135,
    "start_time": "2022-09-24T15:14:03.869Z"
   },
   {
    "duration": 192,
    "start_time": "2022-09-24T15:14:04.005Z"
   },
   {
    "duration": 15,
    "start_time": "2022-09-24T15:14:04.199Z"
   },
   {
    "duration": 22,
    "start_time": "2022-09-24T15:14:04.216Z"
   },
   {
    "duration": 754,
    "start_time": "2022-09-24T15:14:04.240Z"
   },
   {
    "duration": 1360,
    "start_time": "2022-09-24T15:14:04.997Z"
   },
   {
    "duration": 9,
    "start_time": "2022-09-24T15:14:06.359Z"
   },
   {
    "duration": 37,
    "start_time": "2022-09-24T15:14:06.370Z"
   },
   {
    "duration": 50,
    "start_time": "2022-09-24T15:14:06.409Z"
   },
   {
    "duration": 7,
    "start_time": "2022-09-24T15:14:06.461Z"
   },
   {
    "duration": 26,
    "start_time": "2022-09-24T15:14:06.490Z"
   },
   {
    "duration": 16,
    "start_time": "2022-09-24T15:14:06.518Z"
   },
   {
    "duration": 355,
    "start_time": "2022-09-24T15:14:06.537Z"
   },
   {
    "duration": 237,
    "start_time": "2022-09-24T15:14:06.894Z"
   },
   {
    "duration": 44,
    "start_time": "2022-09-24T15:14:07.133Z"
   },
   {
    "duration": 338,
    "start_time": "2022-09-24T15:14:07.179Z"
   },
   {
    "duration": 38,
    "start_time": "2022-09-24T15:14:07.519Z"
   },
   {
    "duration": 478,
    "start_time": "2022-09-24T15:14:07.559Z"
   },
   {
    "duration": 428,
    "start_time": "2022-09-24T15:14:08.039Z"
   },
   {
    "duration": 6,
    "start_time": "2022-09-24T15:14:08.469Z"
   },
   {
    "duration": 224,
    "start_time": "2022-09-24T15:14:08.477Z"
   },
   {
    "duration": 216,
    "start_time": "2022-09-24T15:14:08.703Z"
   },
   {
    "duration": 197,
    "start_time": "2022-09-24T15:14:08.921Z"
   },
   {
    "duration": 192,
    "start_time": "2022-09-24T15:14:09.122Z"
   },
   {
    "duration": 11,
    "start_time": "2022-09-24T15:14:09.316Z"
   },
   {
    "duration": 41,
    "start_time": "2022-09-24T15:14:09.329Z"
   },
   {
    "duration": 5,
    "start_time": "2022-09-24T15:14:52.482Z"
   },
   {
    "duration": 108,
    "start_time": "2022-09-24T15:18:45.630Z"
   },
   {
    "duration": 84,
    "start_time": "2022-09-24T15:18:52.205Z"
   },
   {
    "duration": 99,
    "start_time": "2022-09-24T15:18:58.520Z"
   },
   {
    "duration": 14,
    "start_time": "2022-09-24T15:19:51.338Z"
   },
   {
    "duration": 11,
    "start_time": "2022-09-24T15:20:28.724Z"
   },
   {
    "duration": 10,
    "start_time": "2022-09-24T15:20:33.600Z"
   },
   {
    "duration": 4,
    "start_time": "2022-09-24T15:21:22.550Z"
   },
   {
    "duration": 145,
    "start_time": "2022-09-24T15:21:30.717Z"
   },
   {
    "duration": 20,
    "start_time": "2022-09-24T15:21:30.864Z"
   },
   {
    "duration": 34,
    "start_time": "2022-09-24T15:21:31.279Z"
   },
   {
    "duration": 19,
    "start_time": "2022-09-24T15:21:31.315Z"
   },
   {
    "duration": 24,
    "start_time": "2022-09-24T15:21:31.335Z"
   },
   {
    "duration": 71,
    "start_time": "2022-09-24T15:21:31.361Z"
   },
   {
    "duration": 6,
    "start_time": "2022-09-24T15:21:31.434Z"
   },
   {
    "duration": 47,
    "start_time": "2022-09-24T15:21:31.442Z"
   },
   {
    "duration": 5,
    "start_time": "2022-09-24T15:21:31.491Z"
   },
   {
    "duration": 13,
    "start_time": "2022-09-24T15:21:31.498Z"
   },
   {
    "duration": 12,
    "start_time": "2022-09-24T15:21:31.513Z"
   },
   {
    "duration": 12,
    "start_time": "2022-09-24T15:21:31.527Z"
   },
   {
    "duration": 19,
    "start_time": "2022-09-24T15:21:31.540Z"
   },
   {
    "duration": 33,
    "start_time": "2022-09-24T15:21:31.561Z"
   },
   {
    "duration": 30,
    "start_time": "2022-09-24T15:21:31.596Z"
   },
   {
    "duration": 73,
    "start_time": "2022-09-24T15:21:31.630Z"
   },
   {
    "duration": 16,
    "start_time": "2022-09-24T15:21:31.705Z"
   },
   {
    "duration": 11,
    "start_time": "2022-09-24T15:21:31.722Z"
   },
   {
    "duration": 23,
    "start_time": "2022-09-24T15:21:31.734Z"
   },
   {
    "duration": 41,
    "start_time": "2022-09-24T15:21:31.758Z"
   },
   {
    "duration": 22,
    "start_time": "2022-09-24T15:21:31.800Z"
   },
   {
    "duration": 53,
    "start_time": "2022-09-24T15:21:31.824Z"
   },
   {
    "duration": 5,
    "start_time": "2022-09-24T15:21:31.879Z"
   },
   {
    "duration": 26,
    "start_time": "2022-09-24T15:21:31.889Z"
   },
   {
    "duration": 28,
    "start_time": "2022-09-24T15:21:31.918Z"
   },
   {
    "duration": 24,
    "start_time": "2022-09-24T15:21:31.950Z"
   },
   {
    "duration": 49,
    "start_time": "2022-09-24T15:21:31.976Z"
   },
   {
    "duration": 600,
    "start_time": "2022-09-24T15:21:32.027Z"
   },
   {
    "duration": 132,
    "start_time": "2022-09-24T15:21:32.629Z"
   },
   {
    "duration": 130,
    "start_time": "2022-09-24T15:21:32.763Z"
   },
   {
    "duration": 109,
    "start_time": "2022-09-24T15:21:32.894Z"
   },
   {
    "duration": 127,
    "start_time": "2022-09-24T15:21:33.004Z"
   },
   {
    "duration": 13,
    "start_time": "2022-09-24T15:21:33.133Z"
   },
   {
    "duration": 23,
    "start_time": "2022-09-24T15:21:33.147Z"
   },
   {
    "duration": 629,
    "start_time": "2022-09-24T15:21:33.188Z"
   },
   {
    "duration": 1519,
    "start_time": "2022-09-24T15:21:33.820Z"
   },
   {
    "duration": 8,
    "start_time": "2022-09-24T15:21:35.341Z"
   },
   {
    "duration": 54,
    "start_time": "2022-09-24T15:21:35.351Z"
   },
   {
    "duration": 55,
    "start_time": "2022-09-24T15:21:35.407Z"
   },
   {
    "duration": 17,
    "start_time": "2022-09-24T15:21:35.464Z"
   },
   {
    "duration": 39,
    "start_time": "2022-09-24T15:21:35.484Z"
   },
   {
    "duration": 44,
    "start_time": "2022-09-24T15:21:35.525Z"
   },
   {
    "duration": 352,
    "start_time": "2022-09-24T15:21:35.571Z"
   },
   {
    "duration": 198,
    "start_time": "2022-09-24T15:21:35.925Z"
   },
   {
    "duration": 42,
    "start_time": "2022-09-24T15:21:36.124Z"
   },
   {
    "duration": 309,
    "start_time": "2022-09-24T15:21:36.168Z"
   },
   {
    "duration": 43,
    "start_time": "2022-09-24T15:21:36.478Z"
   },
   {
    "duration": 296,
    "start_time": "2022-09-24T15:21:36.522Z"
   },
   {
    "duration": 305,
    "start_time": "2022-09-24T15:21:36.820Z"
   },
   {
    "duration": 5,
    "start_time": "2022-09-24T15:21:37.127Z"
   },
   {
    "duration": 261,
    "start_time": "2022-09-24T15:21:37.134Z"
   },
   {
    "duration": 186,
    "start_time": "2022-09-24T15:21:37.397Z"
   },
   {
    "duration": 196,
    "start_time": "2022-09-24T15:21:37.585Z"
   },
   {
    "duration": 191,
    "start_time": "2022-09-24T15:21:37.783Z"
   },
   {
    "duration": 15,
    "start_time": "2022-09-24T15:21:37.976Z"
   },
   {
    "duration": 45,
    "start_time": "2022-09-24T15:21:37.993Z"
   },
   {
    "duration": 596,
    "start_time": "2022-09-24T16:02:50.080Z"
   },
   {
    "duration": 27,
    "start_time": "2022-09-24T16:02:50.679Z"
   },
   {
    "duration": 26,
    "start_time": "2022-09-24T16:02:50.708Z"
   },
   {
    "duration": 31,
    "start_time": "2022-09-24T16:02:50.736Z"
   },
   {
    "duration": 44,
    "start_time": "2022-09-24T16:02:50.770Z"
   },
   {
    "duration": 76,
    "start_time": "2022-09-24T16:02:50.816Z"
   },
   {
    "duration": 6,
    "start_time": "2022-09-24T16:02:50.894Z"
   },
   {
    "duration": 32,
    "start_time": "2022-09-24T16:02:50.901Z"
   },
   {
    "duration": 5,
    "start_time": "2022-09-24T16:02:50.934Z"
   },
   {
    "duration": 12,
    "start_time": "2022-09-24T16:02:50.940Z"
   },
   {
    "duration": 9,
    "start_time": "2022-09-24T16:02:50.953Z"
   },
   {
    "duration": 34,
    "start_time": "2022-09-24T16:02:50.964Z"
   },
   {
    "duration": 11,
    "start_time": "2022-09-24T16:02:51.000Z"
   },
   {
    "duration": 20,
    "start_time": "2022-09-24T16:02:51.015Z"
   },
   {
    "duration": 7,
    "start_time": "2022-09-24T16:02:51.037Z"
   },
   {
    "duration": 101,
    "start_time": "2022-09-24T16:02:51.045Z"
   },
   {
    "duration": 16,
    "start_time": "2022-09-24T16:02:51.147Z"
   },
   {
    "duration": 30,
    "start_time": "2022-09-24T16:02:51.164Z"
   },
   {
    "duration": 46,
    "start_time": "2022-09-24T16:02:51.196Z"
   },
   {
    "duration": 34,
    "start_time": "2022-09-24T16:02:51.244Z"
   },
   {
    "duration": 39,
    "start_time": "2022-09-24T16:02:51.280Z"
   },
   {
    "duration": 19,
    "start_time": "2022-09-24T16:02:51.321Z"
   },
   {
    "duration": 34,
    "start_time": "2022-09-24T16:02:51.341Z"
   },
   {
    "duration": 12,
    "start_time": "2022-09-24T16:02:51.377Z"
   },
   {
    "duration": 36,
    "start_time": "2022-09-24T16:02:51.391Z"
   },
   {
    "duration": 900,
    "start_time": "2022-09-24T16:02:51.429Z"
   },
   {
    "duration": 184,
    "start_time": "2022-09-24T16:02:52.331Z"
   },
   {
    "duration": 131,
    "start_time": "2022-09-24T16:02:52.516Z"
   },
   {
    "duration": 107,
    "start_time": "2022-09-24T16:02:52.649Z"
   },
   {
    "duration": 116,
    "start_time": "2022-09-24T16:02:52.758Z"
   },
   {
    "duration": 21,
    "start_time": "2022-09-24T16:02:52.875Z"
   },
   {
    "duration": 19,
    "start_time": "2022-09-24T16:02:52.897Z"
   },
   {
    "duration": 606,
    "start_time": "2022-09-24T16:02:52.917Z"
   },
   {
    "duration": 1341,
    "start_time": "2022-09-24T16:02:53.524Z"
   },
   {
    "duration": 7,
    "start_time": "2022-09-24T16:02:54.867Z"
   },
   {
    "duration": 22,
    "start_time": "2022-09-24T16:02:54.875Z"
   },
   {
    "duration": 48,
    "start_time": "2022-09-24T16:02:54.898Z"
   },
   {
    "duration": 4,
    "start_time": "2022-09-24T16:02:54.948Z"
   },
   {
    "duration": 35,
    "start_time": "2022-09-24T16:02:54.954Z"
   },
   {
    "duration": 51,
    "start_time": "2022-09-24T16:02:54.991Z"
   },
   {
    "duration": 329,
    "start_time": "2022-09-24T16:02:55.047Z"
   },
   {
    "duration": 168,
    "start_time": "2022-09-24T16:02:55.378Z"
   },
   {
    "duration": 41,
    "start_time": "2022-09-24T16:02:55.548Z"
   },
   {
    "duration": 270,
    "start_time": "2022-09-24T16:02:55.591Z"
   },
   {
    "duration": 37,
    "start_time": "2022-09-24T16:02:55.862Z"
   },
   {
    "duration": 281,
    "start_time": "2022-09-24T16:02:55.901Z"
   },
   {
    "duration": 292,
    "start_time": "2022-09-24T16:02:56.183Z"
   },
   {
    "duration": 5,
    "start_time": "2022-09-24T16:02:56.476Z"
   },
   {
    "duration": 169,
    "start_time": "2022-09-24T16:02:56.489Z"
   },
   {
    "duration": 271,
    "start_time": "2022-09-24T16:02:56.660Z"
   },
   {
    "duration": 183,
    "start_time": "2022-09-24T16:02:56.933Z"
   },
   {
    "duration": 169,
    "start_time": "2022-09-24T16:02:57.118Z"
   },
   {
    "duration": 8,
    "start_time": "2022-09-24T16:02:57.289Z"
   },
   {
    "duration": 41,
    "start_time": "2022-09-24T16:02:57.298Z"
   },
   {
    "duration": 767,
    "start_time": "2022-09-27T10:42:24.304Z"
   },
   {
    "duration": 104,
    "start_time": "2022-09-27T10:42:25.073Z"
   },
   {
    "duration": 0,
    "start_time": "2022-09-27T10:42:25.180Z"
   },
   {
    "duration": 0,
    "start_time": "2022-09-27T10:42:25.181Z"
   },
   {
    "duration": 0,
    "start_time": "2022-09-27T10:42:25.182Z"
   },
   {
    "duration": 0,
    "start_time": "2022-09-27T10:42:25.183Z"
   },
   {
    "duration": 0,
    "start_time": "2022-09-27T10:42:25.184Z"
   },
   {
    "duration": 0,
    "start_time": "2022-09-27T10:42:25.185Z"
   },
   {
    "duration": 0,
    "start_time": "2022-09-27T10:42:25.186Z"
   },
   {
    "duration": 0,
    "start_time": "2022-09-27T10:42:25.187Z"
   },
   {
    "duration": 1,
    "start_time": "2022-09-27T10:42:25.187Z"
   },
   {
    "duration": 0,
    "start_time": "2022-09-27T10:42:25.188Z"
   },
   {
    "duration": 0,
    "start_time": "2022-09-27T10:42:25.189Z"
   },
   {
    "duration": 0,
    "start_time": "2022-09-27T10:42:25.190Z"
   },
   {
    "duration": 0,
    "start_time": "2022-09-27T10:42:25.191Z"
   },
   {
    "duration": 0,
    "start_time": "2022-09-27T10:42:25.192Z"
   },
   {
    "duration": 0,
    "start_time": "2022-09-27T10:42:25.193Z"
   },
   {
    "duration": 0,
    "start_time": "2022-09-27T10:42:25.194Z"
   },
   {
    "duration": 0,
    "start_time": "2022-09-27T10:42:25.195Z"
   },
   {
    "duration": 0,
    "start_time": "2022-09-27T10:42:25.196Z"
   },
   {
    "duration": 0,
    "start_time": "2022-09-27T10:42:25.222Z"
   },
   {
    "duration": 0,
    "start_time": "2022-09-27T10:42:25.223Z"
   },
   {
    "duration": 0,
    "start_time": "2022-09-27T10:42:25.223Z"
   },
   {
    "duration": 0,
    "start_time": "2022-09-27T10:42:25.224Z"
   },
   {
    "duration": 0,
    "start_time": "2022-09-27T10:42:25.225Z"
   },
   {
    "duration": 0,
    "start_time": "2022-09-27T10:42:25.226Z"
   },
   {
    "duration": 0,
    "start_time": "2022-09-27T10:42:25.227Z"
   },
   {
    "duration": 0,
    "start_time": "2022-09-27T10:42:25.229Z"
   },
   {
    "duration": 0,
    "start_time": "2022-09-27T10:42:25.229Z"
   },
   {
    "duration": 0,
    "start_time": "2022-09-27T10:42:25.231Z"
   },
   {
    "duration": 0,
    "start_time": "2022-09-27T10:42:25.231Z"
   },
   {
    "duration": 0,
    "start_time": "2022-09-27T10:42:25.233Z"
   },
   {
    "duration": 0,
    "start_time": "2022-09-27T10:42:25.234Z"
   },
   {
    "duration": 0,
    "start_time": "2022-09-27T10:42:25.234Z"
   },
   {
    "duration": 0,
    "start_time": "2022-09-27T10:42:25.236Z"
   },
   {
    "duration": 0,
    "start_time": "2022-09-27T10:42:25.237Z"
   },
   {
    "duration": 0,
    "start_time": "2022-09-27T10:42:25.238Z"
   },
   {
    "duration": 0,
    "start_time": "2022-09-27T10:42:25.239Z"
   },
   {
    "duration": 1,
    "start_time": "2022-09-27T10:42:25.239Z"
   },
   {
    "duration": 0,
    "start_time": "2022-09-27T10:42:25.241Z"
   },
   {
    "duration": 0,
    "start_time": "2022-09-27T10:42:25.242Z"
   },
   {
    "duration": 0,
    "start_time": "2022-09-27T10:42:25.243Z"
   },
   {
    "duration": 0,
    "start_time": "2022-09-27T10:42:25.244Z"
   },
   {
    "duration": 0,
    "start_time": "2022-09-27T10:42:25.245Z"
   },
   {
    "duration": 0,
    "start_time": "2022-09-27T10:42:25.246Z"
   },
   {
    "duration": 0,
    "start_time": "2022-09-27T10:42:25.247Z"
   },
   {
    "duration": 0,
    "start_time": "2022-09-27T10:42:25.248Z"
   },
   {
    "duration": 0,
    "start_time": "2022-09-27T10:42:25.249Z"
   },
   {
    "duration": 0,
    "start_time": "2022-09-27T10:42:25.250Z"
   },
   {
    "duration": 0,
    "start_time": "2022-09-27T10:42:25.251Z"
   },
   {
    "duration": 0,
    "start_time": "2022-09-27T10:42:25.252Z"
   },
   {
    "duration": 0,
    "start_time": "2022-09-27T10:42:25.253Z"
   },
   {
    "duration": 0,
    "start_time": "2022-09-27T10:42:25.254Z"
   },
   {
    "duration": 0,
    "start_time": "2022-09-27T10:42:25.255Z"
   },
   {
    "duration": 0,
    "start_time": "2022-09-27T10:42:25.255Z"
   },
   {
    "duration": 0,
    "start_time": "2022-09-27T10:42:25.256Z"
   },
   {
    "duration": 0,
    "start_time": "2022-09-27T10:42:25.257Z"
   },
   {
    "duration": 0,
    "start_time": "2022-09-27T10:42:25.322Z"
   },
   {
    "duration": 0,
    "start_time": "2022-09-27T10:42:25.323Z"
   },
   {
    "duration": 0,
    "start_time": "2022-09-27T10:42:25.323Z"
   },
   {
    "duration": 0,
    "start_time": "2022-09-27T10:42:25.324Z"
   },
   {
    "duration": 0,
    "start_time": "2022-09-27T10:42:25.325Z"
   },
   {
    "duration": 0,
    "start_time": "2022-09-27T10:42:25.326Z"
   },
   {
    "duration": 0,
    "start_time": "2022-09-27T10:42:25.327Z"
   },
   {
    "duration": 0,
    "start_time": "2022-09-27T10:42:25.328Z"
   },
   {
    "duration": 0,
    "start_time": "2022-09-27T10:42:25.329Z"
   },
   {
    "duration": 0,
    "start_time": "2022-09-27T10:42:25.330Z"
   },
   {
    "duration": 0,
    "start_time": "2022-09-27T10:42:25.331Z"
   },
   {
    "duration": 0,
    "start_time": "2022-09-27T10:42:25.332Z"
   },
   {
    "duration": 0,
    "start_time": "2022-09-27T10:42:25.333Z"
   },
   {
    "duration": 0,
    "start_time": "2022-09-27T10:42:25.334Z"
   },
   {
    "duration": 0,
    "start_time": "2022-09-27T10:42:25.335Z"
   },
   {
    "duration": 0,
    "start_time": "2022-09-27T10:42:25.335Z"
   },
   {
    "duration": 0,
    "start_time": "2022-09-27T10:42:25.336Z"
   },
   {
    "duration": 0,
    "start_time": "2022-09-27T10:42:25.337Z"
   },
   {
    "duration": 0,
    "start_time": "2022-09-27T10:42:25.338Z"
   },
   {
    "duration": 0,
    "start_time": "2022-09-27T10:42:25.339Z"
   },
   {
    "duration": 0,
    "start_time": "2022-09-27T10:42:25.340Z"
   },
   {
    "duration": 345,
    "start_time": "2022-09-27T11:03:00.217Z"
   },
   {
    "duration": 582,
    "start_time": "2022-09-27T11:03:06.287Z"
   },
   {
    "duration": 128,
    "start_time": "2022-09-27T11:03:06.871Z"
   },
   {
    "duration": 21,
    "start_time": "2022-09-27T11:03:07.001Z"
   },
   {
    "duration": 32,
    "start_time": "2022-09-27T11:03:07.023Z"
   },
   {
    "duration": 20,
    "start_time": "2022-09-27T11:03:07.058Z"
   },
   {
    "duration": 10,
    "start_time": "2022-09-27T11:03:07.080Z"
   },
   {
    "duration": 29,
    "start_time": "2022-09-27T11:03:07.092Z"
   },
   {
    "duration": 61,
    "start_time": "2022-09-27T11:03:07.123Z"
   },
   {
    "duration": 5,
    "start_time": "2022-09-27T11:03:07.186Z"
   },
   {
    "duration": 42,
    "start_time": "2022-09-27T11:03:07.192Z"
   },
   {
    "duration": 3,
    "start_time": "2022-09-27T11:03:07.236Z"
   },
   {
    "duration": 16,
    "start_time": "2022-09-27T11:03:07.241Z"
   },
   {
    "duration": 22,
    "start_time": "2022-09-27T11:03:07.259Z"
   },
   {
    "duration": 16,
    "start_time": "2022-09-27T11:03:07.283Z"
   },
   {
    "duration": 206,
    "start_time": "2022-09-27T11:03:07.300Z"
   },
   {
    "duration": 15,
    "start_time": "2022-09-27T11:03:07.508Z"
   },
   {
    "duration": 15,
    "start_time": "2022-09-27T11:03:07.525Z"
   },
   {
    "duration": 12,
    "start_time": "2022-09-27T11:03:07.542Z"
   },
   {
    "duration": 5,
    "start_time": "2022-09-27T11:03:07.555Z"
   },
   {
    "duration": 10,
    "start_time": "2022-09-27T11:03:07.561Z"
   },
   {
    "duration": 14,
    "start_time": "2022-09-27T11:03:07.573Z"
   },
   {
    "duration": 15,
    "start_time": "2022-09-27T11:03:07.589Z"
   },
   {
    "duration": 17,
    "start_time": "2022-09-27T11:03:07.605Z"
   },
   {
    "duration": 49,
    "start_time": "2022-09-27T11:03:07.623Z"
   },
   {
    "duration": 14,
    "start_time": "2022-09-27T11:03:07.674Z"
   },
   {
    "duration": 19,
    "start_time": "2022-09-27T11:03:07.689Z"
   },
   {
    "duration": 25,
    "start_time": "2022-09-27T11:03:07.709Z"
   },
   {
    "duration": 10,
    "start_time": "2022-09-27T11:03:07.735Z"
   },
   {
    "duration": 19,
    "start_time": "2022-09-27T11:03:07.746Z"
   },
   {
    "duration": 14,
    "start_time": "2022-09-27T11:03:07.766Z"
   },
   {
    "duration": 51,
    "start_time": "2022-09-27T11:03:07.781Z"
   },
   {
    "duration": 27,
    "start_time": "2022-09-27T11:03:07.834Z"
   },
   {
    "duration": 16,
    "start_time": "2022-09-27T11:03:07.863Z"
   },
   {
    "duration": 16,
    "start_time": "2022-09-27T11:03:07.881Z"
   },
   {
    "duration": 25,
    "start_time": "2022-09-27T11:03:07.899Z"
   },
   {
    "duration": 9,
    "start_time": "2022-09-27T11:03:07.926Z"
   },
   {
    "duration": 10,
    "start_time": "2022-09-27T11:03:07.937Z"
   },
   {
    "duration": 5,
    "start_time": "2022-09-27T11:03:07.949Z"
   },
   {
    "duration": 11,
    "start_time": "2022-09-27T11:03:07.955Z"
   },
   {
    "duration": 9,
    "start_time": "2022-09-27T11:03:07.967Z"
   },
   {
    "duration": 20,
    "start_time": "2022-09-27T11:03:07.980Z"
   },
   {
    "duration": 573,
    "start_time": "2022-09-27T11:03:08.001Z"
   },
   {
    "duration": 115,
    "start_time": "2022-09-27T11:03:08.576Z"
   },
   {
    "duration": 106,
    "start_time": "2022-09-27T11:03:08.693Z"
   },
   {
    "duration": 97,
    "start_time": "2022-09-27T11:03:08.800Z"
   },
   {
    "duration": 114,
    "start_time": "2022-09-27T11:03:08.899Z"
   },
   {
    "duration": 16,
    "start_time": "2022-09-27T11:03:09.015Z"
   },
   {
    "duration": 16,
    "start_time": "2022-09-27T11:03:09.033Z"
   },
   {
    "duration": 557,
    "start_time": "2022-09-27T11:03:09.051Z"
   },
   {
    "duration": 1211,
    "start_time": "2022-09-27T11:03:09.609Z"
   },
   {
    "duration": 7,
    "start_time": "2022-09-27T11:03:10.822Z"
   },
   {
    "duration": 12,
    "start_time": "2022-09-27T11:03:10.831Z"
   },
   {
    "duration": 9,
    "start_time": "2022-09-27T11:03:10.845Z"
   },
   {
    "duration": 9,
    "start_time": "2022-09-27T11:03:10.855Z"
   },
   {
    "duration": 18,
    "start_time": "2022-09-27T11:03:10.866Z"
   },
   {
    "duration": 53,
    "start_time": "2022-09-27T11:03:10.886Z"
   },
   {
    "duration": 20,
    "start_time": "2022-09-27T11:03:10.941Z"
   },
   {
    "duration": 41,
    "start_time": "2022-09-27T11:03:10.962Z"
   },
   {
    "duration": 4,
    "start_time": "2022-09-27T11:03:11.022Z"
   },
   {
    "duration": 26,
    "start_time": "2022-09-27T11:03:11.029Z"
   },
   {
    "duration": 83,
    "start_time": "2022-09-27T11:03:11.059Z"
   },
   {
    "duration": 291,
    "start_time": "2022-09-27T11:03:11.144Z"
   },
   {
    "duration": 169,
    "start_time": "2022-09-27T11:03:11.437Z"
   },
   {
    "duration": 49,
    "start_time": "2022-09-27T11:03:11.607Z"
   },
   {
    "duration": 8,
    "start_time": "2022-09-27T11:03:11.657Z"
   },
   {
    "duration": 271,
    "start_time": "2022-09-27T11:03:11.667Z"
   },
   {
    "duration": 29,
    "start_time": "2022-09-27T11:03:11.940Z"
   },
   {
    "duration": 288,
    "start_time": "2022-09-27T11:03:11.971Z"
   },
   {
    "duration": 260,
    "start_time": "2022-09-27T11:03:12.261Z"
   },
   {
    "duration": 8,
    "start_time": "2022-09-27T11:03:12.523Z"
   },
   {
    "duration": 22,
    "start_time": "2022-09-27T11:03:12.533Z"
   },
   {
    "duration": 23,
    "start_time": "2022-09-27T11:03:12.557Z"
   },
   {
    "duration": 223,
    "start_time": "2022-09-27T11:03:12.581Z"
   },
   {
    "duration": 140,
    "start_time": "2022-09-27T11:03:12.805Z"
   },
   {
    "duration": 146,
    "start_time": "2022-09-27T11:03:12.947Z"
   },
   {
    "duration": 141,
    "start_time": "2022-09-27T11:03:13.095Z"
   },
   {
    "duration": 7,
    "start_time": "2022-09-27T11:03:13.237Z"
   },
   {
    "duration": 14,
    "start_time": "2022-09-27T11:03:13.245Z"
   },
   {
    "duration": 136,
    "start_time": "2022-09-27T11:08:32.348Z"
   },
   {
    "duration": 11,
    "start_time": "2022-09-27T11:08:45.681Z"
   },
   {
    "duration": 14,
    "start_time": "2022-09-27T11:08:50.457Z"
   },
   {
    "duration": 671,
    "start_time": "2022-09-27T11:08:55.452Z"
   },
   {
    "duration": 182,
    "start_time": "2022-09-27T11:08:56.125Z"
   },
   {
    "duration": 31,
    "start_time": "2022-09-27T11:08:56.310Z"
   },
   {
    "duration": 35,
    "start_time": "2022-09-27T11:08:56.343Z"
   },
   {
    "duration": 42,
    "start_time": "2022-09-27T11:08:56.381Z"
   },
   {
    "duration": 4,
    "start_time": "2022-09-27T11:08:56.425Z"
   },
   {
    "duration": 36,
    "start_time": "2022-09-27T11:08:56.431Z"
   },
   {
    "duration": 66,
    "start_time": "2022-09-27T11:08:56.469Z"
   },
   {
    "duration": 8,
    "start_time": "2022-09-27T11:08:56.537Z"
   },
   {
    "duration": 42,
    "start_time": "2022-09-27T11:08:56.547Z"
   },
   {
    "duration": 5,
    "start_time": "2022-09-27T11:08:56.592Z"
   },
   {
    "duration": 23,
    "start_time": "2022-09-27T11:08:56.621Z"
   },
   {
    "duration": 9,
    "start_time": "2022-09-27T11:08:56.646Z"
   },
   {
    "duration": 17,
    "start_time": "2022-09-27T11:08:56.659Z"
   },
   {
    "duration": 227,
    "start_time": "2022-09-27T11:08:56.678Z"
   },
   {
    "duration": 17,
    "start_time": "2022-09-27T11:08:56.906Z"
   },
   {
    "duration": 20,
    "start_time": "2022-09-27T11:08:56.924Z"
   },
   {
    "duration": 9,
    "start_time": "2022-09-27T11:08:56.945Z"
   },
   {
    "duration": 12,
    "start_time": "2022-09-27T11:08:56.955Z"
   },
   {
    "duration": 6,
    "start_time": "2022-09-27T11:08:56.969Z"
   },
   {
    "duration": 15,
    "start_time": "2022-09-27T11:08:56.976Z"
   },
   {
    "duration": 33,
    "start_time": "2022-09-27T11:08:56.993Z"
   },
   {
    "duration": 5,
    "start_time": "2022-09-27T11:08:57.028Z"
   },
   {
    "duration": 62,
    "start_time": "2022-09-27T11:08:57.035Z"
   },
   {
    "duration": 34,
    "start_time": "2022-09-27T11:08:57.099Z"
   },
   {
    "duration": 17,
    "start_time": "2022-09-27T11:08:57.135Z"
   },
   {
    "duration": 19,
    "start_time": "2022-09-27T11:08:57.154Z"
   },
   {
    "duration": 15,
    "start_time": "2022-09-27T11:08:57.175Z"
   },
   {
    "duration": 37,
    "start_time": "2022-09-27T11:08:57.192Z"
   },
   {
    "duration": 15,
    "start_time": "2022-09-27T11:08:57.231Z"
   },
   {
    "duration": 17,
    "start_time": "2022-09-27T11:08:57.247Z"
   },
   {
    "duration": 37,
    "start_time": "2022-09-27T11:08:57.265Z"
   },
   {
    "duration": 16,
    "start_time": "2022-09-27T11:08:57.321Z"
   },
   {
    "duration": 15,
    "start_time": "2022-09-27T11:08:57.338Z"
   },
   {
    "duration": 13,
    "start_time": "2022-09-27T11:08:57.355Z"
   },
   {
    "duration": 15,
    "start_time": "2022-09-27T11:08:57.371Z"
   },
   {
    "duration": 40,
    "start_time": "2022-09-27T11:08:57.388Z"
   },
   {
    "duration": 10,
    "start_time": "2022-09-27T11:08:57.429Z"
   },
   {
    "duration": 15,
    "start_time": "2022-09-27T11:08:57.441Z"
   },
   {
    "duration": 20,
    "start_time": "2022-09-27T11:08:57.458Z"
   },
   {
    "duration": 21,
    "start_time": "2022-09-27T11:08:57.482Z"
   },
   {
    "duration": 674,
    "start_time": "2022-09-27T11:08:57.505Z"
   },
   {
    "duration": 168,
    "start_time": "2022-09-27T11:08:58.180Z"
   },
   {
    "duration": 185,
    "start_time": "2022-09-27T11:08:58.350Z"
   },
   {
    "duration": 118,
    "start_time": "2022-09-27T11:08:58.537Z"
   },
   {
    "duration": 125,
    "start_time": "2022-09-27T11:08:58.657Z"
   },
   {
    "duration": 11,
    "start_time": "2022-09-27T11:08:58.785Z"
   },
   {
    "duration": 35,
    "start_time": "2022-09-27T11:08:58.798Z"
   },
   {
    "duration": 614,
    "start_time": "2022-09-27T11:08:58.835Z"
   },
   {
    "duration": 1289,
    "start_time": "2022-09-27T11:08:59.451Z"
   },
   {
    "duration": 8,
    "start_time": "2022-09-27T11:09:00.743Z"
   },
   {
    "duration": 59,
    "start_time": "2022-09-27T11:09:00.752Z"
   },
   {
    "duration": 58,
    "start_time": "2022-09-27T11:09:00.813Z"
   },
   {
    "duration": 27,
    "start_time": "2022-09-27T11:09:00.873Z"
   },
   {
    "duration": 62,
    "start_time": "2022-09-27T11:09:00.903Z"
   },
   {
    "duration": 23,
    "start_time": "2022-09-27T11:09:00.971Z"
   },
   {
    "duration": 23,
    "start_time": "2022-09-27T11:09:00.996Z"
   },
   {
    "duration": 103,
    "start_time": "2022-09-27T11:09:01.022Z"
   },
   {
    "duration": 12,
    "start_time": "2022-09-27T11:09:01.128Z"
   },
   {
    "duration": 45,
    "start_time": "2022-09-27T11:09:01.142Z"
   },
   {
    "duration": 74,
    "start_time": "2022-09-27T11:09:01.189Z"
   },
   {
    "duration": 303,
    "start_time": "2022-09-27T11:09:01.265Z"
   },
   {
    "duration": 162,
    "start_time": "2022-09-27T11:09:01.570Z"
   },
   {
    "duration": 45,
    "start_time": "2022-09-27T11:09:01.733Z"
   },
   {
    "duration": 10,
    "start_time": "2022-09-27T11:09:01.781Z"
   },
   {
    "duration": 288,
    "start_time": "2022-09-27T11:09:01.793Z"
   },
   {
    "duration": 47,
    "start_time": "2022-09-27T11:09:02.084Z"
   },
   {
    "duration": 279,
    "start_time": "2022-09-27T11:09:02.134Z"
   },
   {
    "duration": 275,
    "start_time": "2022-09-27T11:09:02.415Z"
   },
   {
    "duration": 5,
    "start_time": "2022-09-27T11:09:02.692Z"
   },
   {
    "duration": 36,
    "start_time": "2022-09-27T11:09:02.698Z"
   },
   {
    "duration": 57,
    "start_time": "2022-09-27T11:09:02.736Z"
   },
   {
    "duration": 257,
    "start_time": "2022-09-27T11:09:02.795Z"
   },
   {
    "duration": 148,
    "start_time": "2022-09-27T11:09:03.054Z"
   },
   {
    "duration": 157,
    "start_time": "2022-09-27T11:09:03.204Z"
   },
   {
    "duration": 140,
    "start_time": "2022-09-27T11:09:03.362Z"
   },
   {
    "duration": 17,
    "start_time": "2022-09-27T11:09:03.505Z"
   },
   {
    "duration": 11,
    "start_time": "2022-09-27T11:09:03.523Z"
   },
   {
    "duration": 81,
    "start_time": "2022-09-27T11:09:32.708Z"
   },
   {
    "duration": 11,
    "start_time": "2022-09-27T11:10:38.224Z"
   },
   {
    "duration": 25,
    "start_time": "2022-09-27T11:16:19.629Z"
   },
   {
    "duration": 775,
    "start_time": "2022-09-27T20:23:00.659Z"
   },
   {
    "duration": 295,
    "start_time": "2022-09-27T20:23:01.436Z"
   },
   {
    "duration": 28,
    "start_time": "2022-09-27T20:23:01.733Z"
   },
   {
    "duration": 21,
    "start_time": "2022-09-27T20:23:01.763Z"
   },
   {
    "duration": 28,
    "start_time": "2022-09-27T20:23:01.786Z"
   },
   {
    "duration": 3,
    "start_time": "2022-09-27T20:23:01.816Z"
   },
   {
    "duration": 41,
    "start_time": "2022-09-27T20:23:01.821Z"
   },
   {
    "duration": 51,
    "start_time": "2022-09-27T20:23:01.864Z"
   },
   {
    "duration": 6,
    "start_time": "2022-09-27T20:23:01.917Z"
   },
   {
    "duration": 52,
    "start_time": "2022-09-27T20:23:01.926Z"
   },
   {
    "duration": 6,
    "start_time": "2022-09-27T20:23:01.980Z"
   },
   {
    "duration": 26,
    "start_time": "2022-09-27T20:23:01.987Z"
   },
   {
    "duration": 20,
    "start_time": "2022-09-27T20:23:02.015Z"
   },
   {
    "duration": 12,
    "start_time": "2022-09-27T20:23:02.036Z"
   },
   {
    "duration": 206,
    "start_time": "2022-09-27T20:23:02.049Z"
   },
   {
    "duration": 66,
    "start_time": "2022-09-27T20:23:02.257Z"
   },
   {
    "duration": 10,
    "start_time": "2022-09-27T20:23:02.325Z"
   },
   {
    "duration": 21,
    "start_time": "2022-09-27T20:23:02.336Z"
   },
   {
    "duration": 9,
    "start_time": "2022-09-27T20:23:02.359Z"
   },
   {
    "duration": 17,
    "start_time": "2022-09-27T20:23:02.370Z"
   },
   {
    "duration": 22,
    "start_time": "2022-09-27T20:23:02.388Z"
   },
   {
    "duration": 7,
    "start_time": "2022-09-27T20:23:02.412Z"
   },
   {
    "duration": 12,
    "start_time": "2022-09-27T20:23:02.421Z"
   },
   {
    "duration": 8,
    "start_time": "2022-09-27T20:23:02.435Z"
   },
   {
    "duration": 87,
    "start_time": "2022-09-27T20:23:02.445Z"
   },
   {
    "duration": 14,
    "start_time": "2022-09-27T20:23:02.534Z"
   },
   {
    "duration": 8,
    "start_time": "2022-09-27T20:23:02.549Z"
   },
   {
    "duration": 18,
    "start_time": "2022-09-27T20:23:02.561Z"
   },
   {
    "duration": 31,
    "start_time": "2022-09-27T20:23:02.581Z"
   },
   {
    "duration": 27,
    "start_time": "2022-09-27T20:23:02.614Z"
   },
   {
    "duration": 13,
    "start_time": "2022-09-27T20:23:02.643Z"
   },
   {
    "duration": 22,
    "start_time": "2022-09-27T20:23:02.657Z"
   },
   {
    "duration": 39,
    "start_time": "2022-09-27T20:23:02.681Z"
   },
   {
    "duration": 11,
    "start_time": "2022-09-27T20:23:02.722Z"
   },
   {
    "duration": 18,
    "start_time": "2022-09-27T20:23:02.734Z"
   },
   {
    "duration": 16,
    "start_time": "2022-09-27T20:23:02.753Z"
   },
   {
    "duration": 14,
    "start_time": "2022-09-27T20:23:02.770Z"
   },
   {
    "duration": 23,
    "start_time": "2022-09-27T20:23:02.785Z"
   },
   {
    "duration": 25,
    "start_time": "2022-09-27T20:23:02.809Z"
   },
   {
    "duration": 14,
    "start_time": "2022-09-27T20:23:02.836Z"
   },
   {
    "duration": 14,
    "start_time": "2022-09-27T20:23:02.851Z"
   },
   {
    "duration": 41,
    "start_time": "2022-09-27T20:23:02.866Z"
   },
   {
    "duration": 578,
    "start_time": "2022-09-27T20:23:02.909Z"
   },
   {
    "duration": 112,
    "start_time": "2022-09-27T20:23:03.489Z"
   },
   {
    "duration": 120,
    "start_time": "2022-09-27T20:23:03.603Z"
   },
   {
    "duration": 99,
    "start_time": "2022-09-27T20:23:03.725Z"
   },
   {
    "duration": 102,
    "start_time": "2022-09-27T20:23:03.826Z"
   },
   {
    "duration": 10,
    "start_time": "2022-09-27T20:23:03.930Z"
   },
   {
    "duration": 18,
    "start_time": "2022-09-27T20:23:03.942Z"
   },
   {
    "duration": 557,
    "start_time": "2022-09-27T20:23:03.962Z"
   },
   {
    "duration": 1227,
    "start_time": "2022-09-27T20:23:04.521Z"
   },
   {
    "duration": 7,
    "start_time": "2022-09-27T20:23:05.750Z"
   },
   {
    "duration": 16,
    "start_time": "2022-09-27T20:23:05.758Z"
   },
   {
    "duration": 8,
    "start_time": "2022-09-27T20:23:05.775Z"
   },
   {
    "duration": 8,
    "start_time": "2022-09-27T20:23:05.784Z"
   },
   {
    "duration": 6,
    "start_time": "2022-09-27T20:23:05.793Z"
   },
   {
    "duration": 19,
    "start_time": "2022-09-27T20:23:05.809Z"
   },
   {
    "duration": 16,
    "start_time": "2022-09-27T20:23:05.829Z"
   },
   {
    "duration": 63,
    "start_time": "2022-09-27T20:23:05.847Z"
   },
   {
    "duration": 3,
    "start_time": "2022-09-27T20:23:05.912Z"
   },
   {
    "duration": 18,
    "start_time": "2022-09-27T20:23:05.917Z"
   },
   {
    "duration": 11,
    "start_time": "2022-09-27T20:23:05.937Z"
   },
   {
    "duration": 158,
    "start_time": "2022-09-27T20:23:05.950Z"
   },
   {
    "duration": 14,
    "start_time": "2022-09-27T20:23:06.109Z"
   },
   {
    "duration": 167,
    "start_time": "2022-09-27T20:23:06.125Z"
   },
   {
    "duration": 16,
    "start_time": "2022-09-27T20:23:06.294Z"
   },
   {
    "duration": 138,
    "start_time": "2022-09-27T20:23:06.311Z"
   },
   {
    "duration": 31,
    "start_time": "2022-09-27T20:23:06.451Z"
   },
   {
    "duration": 113,
    "start_time": "2022-09-27T20:23:06.484Z"
   },
   {
    "duration": 15,
    "start_time": "2022-09-27T20:23:06.599Z"
   },
   {
    "duration": 12,
    "start_time": "2022-09-27T20:23:06.616Z"
   },
   {
    "duration": 239,
    "start_time": "2022-09-27T20:23:06.629Z"
   },
   {
    "duration": 27,
    "start_time": "2022-09-27T20:23:06.870Z"
   },
   {
    "duration": 238,
    "start_time": "2022-09-27T20:23:06.909Z"
   },
   {
    "duration": 316,
    "start_time": "2022-09-27T20:23:07.149Z"
   },
   {
    "duration": 5,
    "start_time": "2022-09-27T20:23:07.466Z"
   },
   {
    "duration": 11,
    "start_time": "2022-09-27T20:23:07.473Z"
   },
   {
    "duration": 35,
    "start_time": "2022-09-27T20:23:07.486Z"
   },
   {
    "duration": 135,
    "start_time": "2022-09-27T20:23:07.522Z"
   },
   {
    "duration": 138,
    "start_time": "2022-09-27T20:23:07.658Z"
   },
   {
    "duration": 149,
    "start_time": "2022-09-27T20:23:07.798Z"
   },
   {
    "duration": 135,
    "start_time": "2022-09-27T20:23:07.953Z"
   },
   {
    "duration": 7,
    "start_time": "2022-09-27T20:23:08.089Z"
   },
   {
    "duration": 18,
    "start_time": "2022-09-27T20:23:08.097Z"
   }
  ],
  "colab": {
   "name": "DA+. Сборный проект 1. Шаблон (1).ipynb",
   "provenance": []
  },
  "kernelspec": {
   "display_name": "Python 3 (ipykernel)",
   "language": "python",
   "name": "python3"
  },
  "language_info": {
   "codemirror_mode": {
    "name": "ipython",
    "version": 3
   },
   "file_extension": ".py",
   "mimetype": "text/x-python",
   "name": "python",
   "nbconvert_exporter": "python",
   "pygments_lexer": "ipython3",
   "version": "3.9.12"
  },
  "toc": {
   "base_numbering": 1,
   "nav_menu": {},
   "number_sections": true,
   "sideBar": true,
   "skip_h1_title": true,
   "title_cell": "Table of Contents",
   "title_sidebar": "Contents",
   "toc_cell": false,
   "toc_position": {
    "height": "calc(100% - 180px)",
    "left": "10px",
    "top": "150px",
    "width": "375.391px"
   },
   "toc_section_display": true,
   "toc_window_display": false
  }
 },
 "nbformat": 4,
 "nbformat_minor": 1
}
