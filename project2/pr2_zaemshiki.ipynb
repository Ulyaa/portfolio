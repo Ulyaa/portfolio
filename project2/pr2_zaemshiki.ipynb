{
 "cells": [
  {
   "cell_type": "markdown",
   "id": "b23e586d",
   "metadata": {
    "deletable": false,
    "editable": false,
    "id": "c81daeeb"
   },
   "source": [
    "# Исследование надежности заемщиков\n"
   ]
  },
  {
   "cell_type": "markdown",
   "id": "d0649585",
   "metadata": {},
   "source": [
    "Заказчик — кредитный отдел банка. Разобраться, влияет ли семейное положение и количество детей клиента на факт погашения кредита в срок. Входные данные от банка — статистика о платёжеспособности клиентов.\n",
    "Результаты исследования будут учтены при построении модели кредитного скоринга — специальной системы, которая оценивает способность потенциального заёмщика вернуть кредит банку."
   ]
  },
  {
   "cell_type": "markdown",
   "id": "c16e9d1d",
   "metadata": {
    "deletable": false,
    "editable": false,
    "id": "827c20bf"
   },
   "source": [
    "Во второй части проекта вы выполните шаги 3 и 4. Их вручную проверит ревьюер.\n",
    "Чтобы вам не пришлось писать код заново для шагов 1 и 2, мы добавили авторские решения в ячейки с кодом. \n",
    "\n"
   ]
  },
  {
   "cell_type": "markdown",
   "id": "9876a0d7",
   "metadata": {
    "deletable": false,
    "editable": false,
    "id": "744d7639"
   },
   "source": [
    "## Откройте таблицу и изучите общую информацию о данных"
   ]
  },
  {
   "cell_type": "markdown",
   "id": "c2d7d231",
   "metadata": {
    "deletable": false,
    "editable": false,
    "id": "e7a14c31"
   },
   "source": [
    "**Задание 1. Импортируйте библиотеку pandas. Считайте данные из csv-файла в датафрейм и сохраните в переменную `data`. Путь к файлу:**\n",
    "\n",
    "`/datasets/data.csv`"
   ]
  },
  {
   "cell_type": "code",
   "execution_count": 57,
   "id": "da603ed4",
   "metadata": {
    "deletable": false,
    "id": "7bcf75c9"
   },
   "outputs": [],
   "source": [
    "import pandas as pd\n",
    "\n",
    "try:\n",
    "    data = pd.read_csv('/datasets/data.csv')\n",
    "except:\n",
    "    data = pd.read_csv('https://code.s3.yandex.net/datasets/data.csv')"
   ]
  },
  {
   "cell_type": "markdown",
   "id": "77f68232",
   "metadata": {
    "deletable": false,
    "editable": false,
    "id": "b8038fe3"
   },
   "source": [
    "**Задание 2. Выведите первые 20 строчек датафрейма `data` на экран.**"
   ]
  },
  {
   "cell_type": "code",
   "execution_count": 58,
   "id": "e015181f",
   "metadata": {
    "deletable": false,
    "id": "2a7cab99",
    "outputId": "1a8f3ef2-d323-4ec2-ddf7-89670b5944c4"
   },
   "outputs": [
    {
     "data": {
      "text/html": [
       "<div>\n",
       "<style scoped>\n",
       "    .dataframe tbody tr th:only-of-type {\n",
       "        vertical-align: middle;\n",
       "    }\n",
       "\n",
       "    .dataframe tbody tr th {\n",
       "        vertical-align: top;\n",
       "    }\n",
       "\n",
       "    .dataframe thead th {\n",
       "        text-align: right;\n",
       "    }\n",
       "</style>\n",
       "<table border=\"1\" class=\"dataframe\">\n",
       "  <thead>\n",
       "    <tr style=\"text-align: right;\">\n",
       "      <th></th>\n",
       "      <th>children</th>\n",
       "      <th>days_employed</th>\n",
       "      <th>dob_years</th>\n",
       "      <th>education</th>\n",
       "      <th>education_id</th>\n",
       "      <th>family_status</th>\n",
       "      <th>family_status_id</th>\n",
       "      <th>gender</th>\n",
       "      <th>income_type</th>\n",
       "      <th>debt</th>\n",
       "      <th>total_income</th>\n",
       "      <th>purpose</th>\n",
       "    </tr>\n",
       "  </thead>\n",
       "  <tbody>\n",
       "    <tr>\n",
       "      <th>0</th>\n",
       "      <td>1</td>\n",
       "      <td>-8437.673028</td>\n",
       "      <td>42</td>\n",
       "      <td>высшее</td>\n",
       "      <td>0</td>\n",
       "      <td>женат / замужем</td>\n",
       "      <td>0</td>\n",
       "      <td>F</td>\n",
       "      <td>сотрудник</td>\n",
       "      <td>0</td>\n",
       "      <td>253875.639453</td>\n",
       "      <td>покупка жилья</td>\n",
       "    </tr>\n",
       "    <tr>\n",
       "      <th>1</th>\n",
       "      <td>1</td>\n",
       "      <td>-4024.803754</td>\n",
       "      <td>36</td>\n",
       "      <td>среднее</td>\n",
       "      <td>1</td>\n",
       "      <td>женат / замужем</td>\n",
       "      <td>0</td>\n",
       "      <td>F</td>\n",
       "      <td>сотрудник</td>\n",
       "      <td>0</td>\n",
       "      <td>112080.014102</td>\n",
       "      <td>приобретение автомобиля</td>\n",
       "    </tr>\n",
       "    <tr>\n",
       "      <th>2</th>\n",
       "      <td>0</td>\n",
       "      <td>-5623.422610</td>\n",
       "      <td>33</td>\n",
       "      <td>Среднее</td>\n",
       "      <td>1</td>\n",
       "      <td>женат / замужем</td>\n",
       "      <td>0</td>\n",
       "      <td>M</td>\n",
       "      <td>сотрудник</td>\n",
       "      <td>0</td>\n",
       "      <td>145885.952297</td>\n",
       "      <td>покупка жилья</td>\n",
       "    </tr>\n",
       "    <tr>\n",
       "      <th>3</th>\n",
       "      <td>3</td>\n",
       "      <td>-4124.747207</td>\n",
       "      <td>32</td>\n",
       "      <td>среднее</td>\n",
       "      <td>1</td>\n",
       "      <td>женат / замужем</td>\n",
       "      <td>0</td>\n",
       "      <td>M</td>\n",
       "      <td>сотрудник</td>\n",
       "      <td>0</td>\n",
       "      <td>267628.550329</td>\n",
       "      <td>дополнительное образование</td>\n",
       "    </tr>\n",
       "    <tr>\n",
       "      <th>4</th>\n",
       "      <td>0</td>\n",
       "      <td>340266.072047</td>\n",
       "      <td>53</td>\n",
       "      <td>среднее</td>\n",
       "      <td>1</td>\n",
       "      <td>гражданский брак</td>\n",
       "      <td>1</td>\n",
       "      <td>F</td>\n",
       "      <td>пенсионер</td>\n",
       "      <td>0</td>\n",
       "      <td>158616.077870</td>\n",
       "      <td>сыграть свадьбу</td>\n",
       "    </tr>\n",
       "    <tr>\n",
       "      <th>5</th>\n",
       "      <td>0</td>\n",
       "      <td>-926.185831</td>\n",
       "      <td>27</td>\n",
       "      <td>высшее</td>\n",
       "      <td>0</td>\n",
       "      <td>гражданский брак</td>\n",
       "      <td>1</td>\n",
       "      <td>M</td>\n",
       "      <td>компаньон</td>\n",
       "      <td>0</td>\n",
       "      <td>255763.565419</td>\n",
       "      <td>покупка жилья</td>\n",
       "    </tr>\n",
       "    <tr>\n",
       "      <th>6</th>\n",
       "      <td>0</td>\n",
       "      <td>-2879.202052</td>\n",
       "      <td>43</td>\n",
       "      <td>высшее</td>\n",
       "      <td>0</td>\n",
       "      <td>женат / замужем</td>\n",
       "      <td>0</td>\n",
       "      <td>F</td>\n",
       "      <td>компаньон</td>\n",
       "      <td>0</td>\n",
       "      <td>240525.971920</td>\n",
       "      <td>операции с жильем</td>\n",
       "    </tr>\n",
       "    <tr>\n",
       "      <th>7</th>\n",
       "      <td>0</td>\n",
       "      <td>-152.779569</td>\n",
       "      <td>50</td>\n",
       "      <td>СРЕДНЕЕ</td>\n",
       "      <td>1</td>\n",
       "      <td>женат / замужем</td>\n",
       "      <td>0</td>\n",
       "      <td>M</td>\n",
       "      <td>сотрудник</td>\n",
       "      <td>0</td>\n",
       "      <td>135823.934197</td>\n",
       "      <td>образование</td>\n",
       "    </tr>\n",
       "    <tr>\n",
       "      <th>8</th>\n",
       "      <td>2</td>\n",
       "      <td>-6929.865299</td>\n",
       "      <td>35</td>\n",
       "      <td>ВЫСШЕЕ</td>\n",
       "      <td>0</td>\n",
       "      <td>гражданский брак</td>\n",
       "      <td>1</td>\n",
       "      <td>F</td>\n",
       "      <td>сотрудник</td>\n",
       "      <td>0</td>\n",
       "      <td>95856.832424</td>\n",
       "      <td>на проведение свадьбы</td>\n",
       "    </tr>\n",
       "    <tr>\n",
       "      <th>9</th>\n",
       "      <td>0</td>\n",
       "      <td>-2188.756445</td>\n",
       "      <td>41</td>\n",
       "      <td>среднее</td>\n",
       "      <td>1</td>\n",
       "      <td>женат / замужем</td>\n",
       "      <td>0</td>\n",
       "      <td>M</td>\n",
       "      <td>сотрудник</td>\n",
       "      <td>0</td>\n",
       "      <td>144425.938277</td>\n",
       "      <td>покупка жилья для семьи</td>\n",
       "    </tr>\n",
       "    <tr>\n",
       "      <th>10</th>\n",
       "      <td>2</td>\n",
       "      <td>-4171.483647</td>\n",
       "      <td>36</td>\n",
       "      <td>высшее</td>\n",
       "      <td>0</td>\n",
       "      <td>женат / замужем</td>\n",
       "      <td>0</td>\n",
       "      <td>M</td>\n",
       "      <td>компаньон</td>\n",
       "      <td>0</td>\n",
       "      <td>113943.491460</td>\n",
       "      <td>покупка недвижимости</td>\n",
       "    </tr>\n",
       "    <tr>\n",
       "      <th>11</th>\n",
       "      <td>0</td>\n",
       "      <td>-792.701887</td>\n",
       "      <td>40</td>\n",
       "      <td>среднее</td>\n",
       "      <td>1</td>\n",
       "      <td>женат / замужем</td>\n",
       "      <td>0</td>\n",
       "      <td>F</td>\n",
       "      <td>сотрудник</td>\n",
       "      <td>0</td>\n",
       "      <td>77069.234271</td>\n",
       "      <td>покупка коммерческой недвижимости</td>\n",
       "    </tr>\n",
       "    <tr>\n",
       "      <th>12</th>\n",
       "      <td>0</td>\n",
       "      <td>NaN</td>\n",
       "      <td>65</td>\n",
       "      <td>среднее</td>\n",
       "      <td>1</td>\n",
       "      <td>гражданский брак</td>\n",
       "      <td>1</td>\n",
       "      <td>M</td>\n",
       "      <td>пенсионер</td>\n",
       "      <td>0</td>\n",
       "      <td>NaN</td>\n",
       "      <td>сыграть свадьбу</td>\n",
       "    </tr>\n",
       "    <tr>\n",
       "      <th>13</th>\n",
       "      <td>0</td>\n",
       "      <td>-1846.641941</td>\n",
       "      <td>54</td>\n",
       "      <td>неоконченное высшее</td>\n",
       "      <td>2</td>\n",
       "      <td>женат / замужем</td>\n",
       "      <td>0</td>\n",
       "      <td>F</td>\n",
       "      <td>сотрудник</td>\n",
       "      <td>0</td>\n",
       "      <td>130458.228857</td>\n",
       "      <td>приобретение автомобиля</td>\n",
       "    </tr>\n",
       "    <tr>\n",
       "      <th>14</th>\n",
       "      <td>0</td>\n",
       "      <td>-1844.956182</td>\n",
       "      <td>56</td>\n",
       "      <td>высшее</td>\n",
       "      <td>0</td>\n",
       "      <td>гражданский брак</td>\n",
       "      <td>1</td>\n",
       "      <td>F</td>\n",
       "      <td>компаньон</td>\n",
       "      <td>1</td>\n",
       "      <td>165127.911772</td>\n",
       "      <td>покупка жилой недвижимости</td>\n",
       "    </tr>\n",
       "    <tr>\n",
       "      <th>15</th>\n",
       "      <td>1</td>\n",
       "      <td>-972.364419</td>\n",
       "      <td>26</td>\n",
       "      <td>среднее</td>\n",
       "      <td>1</td>\n",
       "      <td>женат / замужем</td>\n",
       "      <td>0</td>\n",
       "      <td>F</td>\n",
       "      <td>сотрудник</td>\n",
       "      <td>0</td>\n",
       "      <td>116820.904450</td>\n",
       "      <td>строительство собственной недвижимости</td>\n",
       "    </tr>\n",
       "    <tr>\n",
       "      <th>16</th>\n",
       "      <td>0</td>\n",
       "      <td>-1719.934226</td>\n",
       "      <td>35</td>\n",
       "      <td>среднее</td>\n",
       "      <td>1</td>\n",
       "      <td>женат / замужем</td>\n",
       "      <td>0</td>\n",
       "      <td>F</td>\n",
       "      <td>сотрудник</td>\n",
       "      <td>0</td>\n",
       "      <td>289202.704229</td>\n",
       "      <td>недвижимость</td>\n",
       "    </tr>\n",
       "    <tr>\n",
       "      <th>17</th>\n",
       "      <td>0</td>\n",
       "      <td>-2369.999720</td>\n",
       "      <td>33</td>\n",
       "      <td>высшее</td>\n",
       "      <td>0</td>\n",
       "      <td>гражданский брак</td>\n",
       "      <td>1</td>\n",
       "      <td>M</td>\n",
       "      <td>сотрудник</td>\n",
       "      <td>0</td>\n",
       "      <td>90410.586745</td>\n",
       "      <td>строительство недвижимости</td>\n",
       "    </tr>\n",
       "    <tr>\n",
       "      <th>18</th>\n",
       "      <td>0</td>\n",
       "      <td>400281.136913</td>\n",
       "      <td>53</td>\n",
       "      <td>среднее</td>\n",
       "      <td>1</td>\n",
       "      <td>вдовец / вдова</td>\n",
       "      <td>2</td>\n",
       "      <td>F</td>\n",
       "      <td>пенсионер</td>\n",
       "      <td>0</td>\n",
       "      <td>56823.777243</td>\n",
       "      <td>на покупку подержанного автомобиля</td>\n",
       "    </tr>\n",
       "    <tr>\n",
       "      <th>19</th>\n",
       "      <td>0</td>\n",
       "      <td>-10038.818549</td>\n",
       "      <td>48</td>\n",
       "      <td>СРЕДНЕЕ</td>\n",
       "      <td>1</td>\n",
       "      <td>в разводе</td>\n",
       "      <td>3</td>\n",
       "      <td>F</td>\n",
       "      <td>сотрудник</td>\n",
       "      <td>0</td>\n",
       "      <td>242831.107982</td>\n",
       "      <td>на покупку своего автомобиля</td>\n",
       "    </tr>\n",
       "  </tbody>\n",
       "</table>\n",
       "</div>"
      ],
      "text/plain": [
       "    children  days_employed  dob_years            education  education_id  \\\n",
       "0          1   -8437.673028         42               высшее             0   \n",
       "1          1   -4024.803754         36              среднее             1   \n",
       "2          0   -5623.422610         33              Среднее             1   \n",
       "3          3   -4124.747207         32              среднее             1   \n",
       "4          0  340266.072047         53              среднее             1   \n",
       "5          0    -926.185831         27               высшее             0   \n",
       "6          0   -2879.202052         43               высшее             0   \n",
       "7          0    -152.779569         50              СРЕДНЕЕ             1   \n",
       "8          2   -6929.865299         35               ВЫСШЕЕ             0   \n",
       "9          0   -2188.756445         41              среднее             1   \n",
       "10         2   -4171.483647         36               высшее             0   \n",
       "11         0    -792.701887         40              среднее             1   \n",
       "12         0            NaN         65              среднее             1   \n",
       "13         0   -1846.641941         54  неоконченное высшее             2   \n",
       "14         0   -1844.956182         56               высшее             0   \n",
       "15         1    -972.364419         26              среднее             1   \n",
       "16         0   -1719.934226         35              среднее             1   \n",
       "17         0   -2369.999720         33               высшее             0   \n",
       "18         0  400281.136913         53              среднее             1   \n",
       "19         0  -10038.818549         48              СРЕДНЕЕ             1   \n",
       "\n",
       "       family_status  family_status_id gender income_type  debt  \\\n",
       "0    женат / замужем                 0      F   сотрудник     0   \n",
       "1    женат / замужем                 0      F   сотрудник     0   \n",
       "2    женат / замужем                 0      M   сотрудник     0   \n",
       "3    женат / замужем                 0      M   сотрудник     0   \n",
       "4   гражданский брак                 1      F   пенсионер     0   \n",
       "5   гражданский брак                 1      M   компаньон     0   \n",
       "6    женат / замужем                 0      F   компаньон     0   \n",
       "7    женат / замужем                 0      M   сотрудник     0   \n",
       "8   гражданский брак                 1      F   сотрудник     0   \n",
       "9    женат / замужем                 0      M   сотрудник     0   \n",
       "10   женат / замужем                 0      M   компаньон     0   \n",
       "11   женат / замужем                 0      F   сотрудник     0   \n",
       "12  гражданский брак                 1      M   пенсионер     0   \n",
       "13   женат / замужем                 0      F   сотрудник     0   \n",
       "14  гражданский брак                 1      F   компаньон     1   \n",
       "15   женат / замужем                 0      F   сотрудник     0   \n",
       "16   женат / замужем                 0      F   сотрудник     0   \n",
       "17  гражданский брак                 1      M   сотрудник     0   \n",
       "18    вдовец / вдова                 2      F   пенсионер     0   \n",
       "19         в разводе                 3      F   сотрудник     0   \n",
       "\n",
       "     total_income                                 purpose  \n",
       "0   253875.639453                           покупка жилья  \n",
       "1   112080.014102                 приобретение автомобиля  \n",
       "2   145885.952297                           покупка жилья  \n",
       "3   267628.550329              дополнительное образование  \n",
       "4   158616.077870                         сыграть свадьбу  \n",
       "5   255763.565419                           покупка жилья  \n",
       "6   240525.971920                       операции с жильем  \n",
       "7   135823.934197                             образование  \n",
       "8    95856.832424                   на проведение свадьбы  \n",
       "9   144425.938277                 покупка жилья для семьи  \n",
       "10  113943.491460                    покупка недвижимости  \n",
       "11   77069.234271       покупка коммерческой недвижимости  \n",
       "12            NaN                         сыграть свадьбу  \n",
       "13  130458.228857                 приобретение автомобиля  \n",
       "14  165127.911772              покупка жилой недвижимости  \n",
       "15  116820.904450  строительство собственной недвижимости  \n",
       "16  289202.704229                            недвижимость  \n",
       "17   90410.586745              строительство недвижимости  \n",
       "18   56823.777243      на покупку подержанного автомобиля  \n",
       "19  242831.107982            на покупку своего автомобиля  "
      ]
     },
     "execution_count": 58,
     "metadata": {},
     "output_type": "execute_result"
    }
   ],
   "source": [
    "data.head(20)"
   ]
  },
  {
   "cell_type": "markdown",
   "id": "f6dcb2d9",
   "metadata": {
    "deletable": false,
    "editable": false,
    "id": "1c12e233"
   },
   "source": [
    "**Задание 3. Выведите основную информацию о датафрейме с помощью метода `info()`.**"
   ]
  },
  {
   "cell_type": "code",
   "execution_count": 59,
   "id": "166d4422",
   "metadata": {
    "deletable": false,
    "id": "2b757bca",
    "outputId": "15376089-8dad-46c9-b520-c05248d43158"
   },
   "outputs": [
    {
     "name": "stdout",
     "output_type": "stream",
     "text": [
      "<class 'pandas.core.frame.DataFrame'>\n",
      "RangeIndex: 21525 entries, 0 to 21524\n",
      "Data columns (total 12 columns):\n",
      " #   Column            Non-Null Count  Dtype  \n",
      "---  ------            --------------  -----  \n",
      " 0   children          21525 non-null  int64  \n",
      " 1   days_employed     19351 non-null  float64\n",
      " 2   dob_years         21525 non-null  int64  \n",
      " 3   education         21525 non-null  object \n",
      " 4   education_id      21525 non-null  int64  \n",
      " 5   family_status     21525 non-null  object \n",
      " 6   family_status_id  21525 non-null  int64  \n",
      " 7   gender            21525 non-null  object \n",
      " 8   income_type       21525 non-null  object \n",
      " 9   debt              21525 non-null  int64  \n",
      " 10  total_income      19351 non-null  float64\n",
      " 11  purpose           21525 non-null  object \n",
      "dtypes: float64(2), int64(5), object(5)\n",
      "memory usage: 2.0+ MB\n"
     ]
    }
   ],
   "source": [
    "data.info()"
   ]
  },
  {
   "cell_type": "markdown",
   "id": "2ebd2bab",
   "metadata": {
    "deletable": false,
    "editable": false,
    "id": "333ec665"
   },
   "source": [
    "## Предобработка данных"
   ]
  },
  {
   "cell_type": "markdown",
   "id": "28483378",
   "metadata": {
    "deletable": false,
    "editable": false,
    "id": "02d92d53"
   },
   "source": [
    "### Удаление пропусков"
   ]
  },
  {
   "cell_type": "markdown",
   "id": "b7d99ab6",
   "metadata": {
    "deletable": false,
    "editable": false,
    "id": "cd84967c"
   },
   "source": [
    "**Задание 4. Выведите количество пропущенных значений для каждого столбца. Используйте комбинацию двух методов.**"
   ]
  },
  {
   "cell_type": "code",
   "execution_count": 60,
   "id": "e0ee21ef",
   "metadata": {
    "deletable": false,
    "id": "7f9b2309",
    "outputId": "81f4d817-781c-465c-ed15-91ce4446810d"
   },
   "outputs": [
    {
     "data": {
      "text/plain": [
       "children               0\n",
       "days_employed       2174\n",
       "dob_years              0\n",
       "education              0\n",
       "education_id           0\n",
       "family_status          0\n",
       "family_status_id       0\n",
       "gender                 0\n",
       "income_type            0\n",
       "debt                   0\n",
       "total_income        2174\n",
       "purpose                0\n",
       "dtype: int64"
      ]
     },
     "execution_count": 60,
     "metadata": {},
     "output_type": "execute_result"
    }
   ],
   "source": [
    "data.isna().sum()"
   ]
  },
  {
   "cell_type": "markdown",
   "id": "3544382b",
   "metadata": {
    "deletable": false,
    "editable": false,
    "id": "db86e27b"
   },
   "source": [
    "**Задание 5. В двух столбцах есть пропущенные значения. Один из них — `days_employed`. Пропуски в этом столбце вы обработаете на следующем этапе. Другой столбец с пропущенными значениями — `total_income` — хранит данные о доходах. На сумму дохода сильнее всего влияет тип занятости, поэтому заполнить пропуски в этом столбце нужно медианным значением по каждому типу из столбца `income_type`. Например, у человека с типом занятости `сотрудник` пропуск в столбце `total_income` должен быть заполнен медианным доходом среди всех записей с тем же типом.**"
   ]
  },
  {
   "cell_type": "code",
   "execution_count": 61,
   "id": "6c93f7bb",
   "metadata": {
    "deletable": false,
    "id": "42006a93"
   },
   "outputs": [],
   "source": [
    "for t in data['income_type'].unique():\n",
    "    data.loc[(data['income_type'] == t) & (data['total_income'].isna()), 'total_income'] = \\\n",
    "    data.loc[(data['income_type'] == t), 'total_income'].median()"
   ]
  },
  {
   "cell_type": "markdown",
   "id": "ff0622ea",
   "metadata": {
    "deletable": false,
    "editable": false,
    "id": "89da5ece"
   },
   "source": [
    "### Обработка аномальных значений"
   ]
  },
  {
   "cell_type": "markdown",
   "id": "f04df4f1",
   "metadata": {
    "deletable": false,
    "editable": false,
    "id": "57964554"
   },
   "source": [
    "**Задание 6. В данных могут встречаться артефакты (аномалии) — значения, которые не отражают действительность и появились по какой-то ошибке. таким артефактом будет отрицательное количество дней трудового стажа в столбце `days_employed`. Для реальных данных это нормально. Обработайте значения в этом столбце: замените все отрицательные значения положительными с помощью метода `abs()`.**"
   ]
  },
  {
   "cell_type": "code",
   "execution_count": 62,
   "id": "e54727db",
   "metadata": {
    "deletable": false,
    "id": "f6f055bf"
   },
   "outputs": [],
   "source": [
    "data['days_employed'] = data['days_employed'].abs()"
   ]
  },
  {
   "cell_type": "markdown",
   "id": "a69f12bc",
   "metadata": {
    "deletable": false,
    "editable": false,
    "id": "6107dd2f"
   },
   "source": [
    "**Задание 7. Для каждого типа занятости выведите медианное значение трудового стажа `days_employed` в днях.**"
   ]
  },
  {
   "cell_type": "code",
   "execution_count": 63,
   "id": "9d6ffa51",
   "metadata": {
    "deletable": false,
    "id": "85a5faf6",
    "outputId": "801ef80e-522b-4668-f34e-565af7432bcf"
   },
   "outputs": [
    {
     "data": {
      "text/plain": [
       "income_type\n",
       "безработный        366413.652744\n",
       "в декрете            3296.759962\n",
       "госслужащий          2689.368353\n",
       "компаньон            1547.382223\n",
       "пенсионер          365213.306266\n",
       "предприниматель       520.848083\n",
       "сотрудник            1574.202821\n",
       "студент               578.751554\n",
       "Name: days_employed, dtype: float64"
      ]
     },
     "execution_count": 63,
     "metadata": {},
     "output_type": "execute_result"
    }
   ],
   "source": [
    "data.groupby('income_type')['days_employed'].agg('median')"
   ]
  },
  {
   "cell_type": "markdown",
   "id": "706aecab",
   "metadata": {
    "deletable": false,
    "editable": false,
    "id": "38d1a030"
   },
   "source": [
    "У двух типов (безработные и пенсионеры) получатся аномально большие значения. Исправить такие значения сложно, поэтому оставьте их как есть. Тем более этот столбец не понадобится вам для исследования."
   ]
  },
  {
   "cell_type": "markdown",
   "id": "b2d89b26",
   "metadata": {
    "deletable": false,
    "editable": false,
    "id": "d8a9f147"
   },
   "source": [
    "**Задание 8. Выведите перечень уникальных значений столбца `children`.**"
   ]
  },
  {
   "cell_type": "code",
   "execution_count": 64,
   "id": "ad782b69",
   "metadata": {
    "deletable": false,
    "id": "ef5056eb",
    "outputId": "6975b15c-7f95-4697-d16d-a0c79b657b03"
   },
   "outputs": [
    {
     "data": {
      "text/plain": [
       "array([ 1,  0,  3,  2, -1,  4, 20,  5])"
      ]
     },
     "execution_count": 64,
     "metadata": {},
     "output_type": "execute_result"
    }
   ],
   "source": [
    "data['children'].unique()"
   ]
  },
  {
   "cell_type": "markdown",
   "id": "c9cc741f",
   "metadata": {
    "deletable": false,
    "editable": false,
    "id": "40b9ebf2"
   },
   "source": [
    "**Задание 9. В столбце `children` есть два аномальных значения. Удалите строки, в которых встречаются такие аномальные значения из датафрейма `data`.**"
   ]
  },
  {
   "cell_type": "code",
   "execution_count": 65,
   "id": "3dd3df26",
   "metadata": {
    "deletable": false,
    "id": "3ff9801d"
   },
   "outputs": [],
   "source": [
    "data = data[(data['children'] != -1) & (data['children'] != 20)]"
   ]
  },
  {
   "cell_type": "markdown",
   "id": "32fc5470",
   "metadata": {
    "deletable": false,
    "editable": false,
    "id": "bbc4d0ce"
   },
   "source": [
    "**Задание 10. Ещё раз выведите перечень уникальных значений столбца `children`, чтобы убедиться, что артефакты удалены.**"
   ]
  },
  {
   "cell_type": "code",
   "execution_count": 66,
   "id": "a6932783",
   "metadata": {
    "deletable": false,
    "id": "ad4fa8b7",
    "outputId": "b2097101-d49d-44d9-901b-32a65c9463d1"
   },
   "outputs": [
    {
     "data": {
      "text/plain": [
       "array([1, 0, 3, 2, 4, 5])"
      ]
     },
     "execution_count": 66,
     "metadata": {},
     "output_type": "execute_result"
    }
   ],
   "source": [
    "data['children'].unique()"
   ]
  },
  {
   "cell_type": "markdown",
   "id": "d204a59a",
   "metadata": {
    "deletable": false,
    "editable": false,
    "id": "75440b63"
   },
   "source": [
    "### Удаление пропусков (продолжение)"
   ]
  },
  {
   "cell_type": "markdown",
   "id": "9e650536",
   "metadata": {
    "deletable": false,
    "editable": false,
    "id": "f4ea573f"
   },
   "source": [
    "**Задание 11. Заполните пропуски в столбце `days_employed` медианными значениями по каждого типа занятости `income_type`.**"
   ]
  },
  {
   "cell_type": "code",
   "execution_count": 67,
   "id": "fb85eb4f",
   "metadata": {
    "deletable": false,
    "id": "af6b1a7e"
   },
   "outputs": [],
   "source": [
    "for t in data['income_type'].unique():\n",
    "    data.loc[(data['income_type'] == t) & (data['days_employed'].isna()), 'days_employed'] = \\\n",
    "    data.loc[(data['income_type'] == t), 'days_employed'].median()"
   ]
  },
  {
   "cell_type": "markdown",
   "id": "05ed23c4",
   "metadata": {
    "deletable": false,
    "editable": false,
    "id": "2753f40d"
   },
   "source": [
    "**Задание 12. Убедитесь, что все пропуски заполнены. Проверьте себя и ещё раз выведите количество пропущенных значений для каждого столбца с помощью двух методов.**"
   ]
  },
  {
   "cell_type": "code",
   "execution_count": 68,
   "id": "1a37f7df",
   "metadata": {
    "deletable": false,
    "id": "55f78bc2",
    "outputId": "8da1e4e1-358e-4e87-98c9-f261bce0a7b2"
   },
   "outputs": [
    {
     "data": {
      "text/plain": [
       "children            0\n",
       "days_employed       0\n",
       "dob_years           0\n",
       "education           0\n",
       "education_id        0\n",
       "family_status       0\n",
       "family_status_id    0\n",
       "gender              0\n",
       "income_type         0\n",
       "debt                0\n",
       "total_income        0\n",
       "purpose             0\n",
       "dtype: int64"
      ]
     },
     "execution_count": 68,
     "metadata": {},
     "output_type": "execute_result"
    }
   ],
   "source": [
    "data.isna().sum()"
   ]
  },
  {
   "cell_type": "markdown",
   "id": "012887cd",
   "metadata": {
    "deletable": false,
    "editable": false,
    "id": "ddc81e43"
   },
   "source": [
    "### Изменение типов данных"
   ]
  },
  {
   "cell_type": "markdown",
   "id": "2e6e0ea7",
   "metadata": {
    "deletable": false,
    "editable": false,
    "id": "42d19d24"
   },
   "source": [
    "**Задание 13. Замените вещественный тип данных в столбце `total_income` на целочисленный с помощью метода `astype()`.**"
   ]
  },
  {
   "cell_type": "code",
   "execution_count": 69,
   "id": "2aefe021",
   "metadata": {
    "deletable": false,
    "id": "920b65ad"
   },
   "outputs": [],
   "source": [
    "data['total_income'] = data['total_income'].astype(int)"
   ]
  },
  {
   "cell_type": "markdown",
   "id": "56ba858f",
   "metadata": {
    "deletable": false,
    "editable": false,
    "id": "80c420ba"
   },
   "source": [
    "### Обработка дубликатов"
   ]
  },
  {
   "cell_type": "markdown",
   "id": "d7675473",
   "metadata": {
    "deletable": false,
    "editable": false
   },
   "source": [
    "**Задание 14. Обработайте неявные дубликаты в столбце `education`. В этом столбце есть одни и те же значения, но записанные по-разному: с использованием заглавных и строчных букв. Приведите их к нижнему регистру. Проверьте остальные столбцы.**"
   ]
  },
  {
   "cell_type": "code",
   "execution_count": 70,
   "id": "784f01d1",
   "metadata": {
    "deletable": false
   },
   "outputs": [],
   "source": [
    "data['education'] = data['education'].str.lower()"
   ]
  },
  {
   "cell_type": "markdown",
   "id": "032e2c1c",
   "metadata": {
    "deletable": false,
    "editable": false,
    "id": "dc587695"
   },
   "source": [
    "**Задание 15. Выведите на экран количество строк-дубликатов в данных. Если такие строки присутствуют, удалите их.**"
   ]
  },
  {
   "cell_type": "code",
   "execution_count": 71,
   "id": "ff26bd33",
   "metadata": {
    "deletable": false,
    "id": "3ee445e4",
    "outputId": "9684deba-1934-42d1-99e1-cda61740f822"
   },
   "outputs": [
    {
     "data": {
      "text/plain": [
       "71"
      ]
     },
     "execution_count": 71,
     "metadata": {},
     "output_type": "execute_result"
    }
   ],
   "source": [
    "data.duplicated().sum()"
   ]
  },
  {
   "cell_type": "code",
   "execution_count": 72,
   "id": "3b34ffa3",
   "metadata": {
    "deletable": false,
    "id": "8575fe05"
   },
   "outputs": [],
   "source": [
    "data = data.drop_duplicates()"
   ]
  },
  {
   "cell_type": "markdown",
   "id": "c313eab8",
   "metadata": {
    "deletable": false,
    "editable": false,
    "id": "9904cf55"
   },
   "source": [
    "### Категоризация данных"
   ]
  },
  {
   "cell_type": "markdown",
   "id": "b150b7d5",
   "metadata": {
    "deletable": false,
    "editable": false,
    "id": "72fcc8a2"
   },
   "source": [
    "**Задание 16. На основании диапазонов, указанных ниже, создайте в датафрейме `data` столбец `total_income_category` с категориями:**\n",
    "\n",
    "- 0–30000 — `'E'`;\n",
    "- 30001–50000 — `'D'`;\n",
    "- 50001–200000 — `'C'`;\n",
    "- 200001–1000000 — `'B'`;\n",
    "- 1000001 и выше — `'A'`.\n",
    "\n",
    "\n",
    "**Например, кредитополучателю с доходом 25000 нужно назначить категорию `'E'`, а клиенту, получающему 235000, — `'B'`. Используйте собственную функцию с именем `categorize_income()` и метод `apply()`.**"
   ]
  },
  {
   "cell_type": "code",
   "execution_count": 73,
   "id": "3eff4240",
   "metadata": {
    "deletable": false,
    "id": "e1771346"
   },
   "outputs": [],
   "source": [
    "def categorize_income(income):\n",
    "    try:\n",
    "        if 0 <= income <= 30000:\n",
    "            return 'E'\n",
    "        elif 30001 <= income <= 50000:\n",
    "            return 'D'\n",
    "        elif 50001 <= income <= 200000:\n",
    "            return 'C'\n",
    "        elif 200001 <= income <= 1000000:\n",
    "            return 'B'\n",
    "        elif income >= 1000001:\n",
    "            return 'A'\n",
    "    except:\n",
    "        pass"
   ]
  },
  {
   "cell_type": "code",
   "execution_count": 74,
   "id": "dc1a9333",
   "metadata": {
    "deletable": false,
    "id": "d5f3586d"
   },
   "outputs": [],
   "source": [
    "data['total_income_category'] = data['total_income'].apply(categorize_income)"
   ]
  },
  {
   "cell_type": "markdown",
   "id": "13e0cda4",
   "metadata": {
    "deletable": false,
    "editable": false,
    "id": "dde49b5c"
   },
   "source": [
    "**Задание 17. Выведите на экран перечень уникальных целей взятия кредита из столбца `purpose`.**"
   ]
  },
  {
   "cell_type": "code",
   "execution_count": 75,
   "id": "95d0f7d4",
   "metadata": {
    "deletable": false,
    "id": "f67ce9b3",
    "outputId": "673c12d9-7d7e-4ae0-9812-c622c89dd244"
   },
   "outputs": [
    {
     "data": {
      "text/plain": [
       "array(['покупка жилья', 'приобретение автомобиля',\n",
       "       'дополнительное образование', 'сыграть свадьбу',\n",
       "       'операции с жильем', 'образование', 'на проведение свадьбы',\n",
       "       'покупка жилья для семьи', 'покупка недвижимости',\n",
       "       'покупка коммерческой недвижимости', 'покупка жилой недвижимости',\n",
       "       'строительство собственной недвижимости', 'недвижимость',\n",
       "       'строительство недвижимости', 'на покупку подержанного автомобиля',\n",
       "       'на покупку своего автомобиля',\n",
       "       'операции с коммерческой недвижимостью',\n",
       "       'строительство жилой недвижимости', 'жилье',\n",
       "       'операции со своей недвижимостью', 'автомобили',\n",
       "       'заняться образованием', 'сделка с подержанным автомобилем',\n",
       "       'получение образования', 'автомобиль', 'свадьба',\n",
       "       'получение дополнительного образования', 'покупка своего жилья',\n",
       "       'операции с недвижимостью', 'получение высшего образования',\n",
       "       'свой автомобиль', 'сделка с автомобилем',\n",
       "       'профильное образование', 'высшее образование',\n",
       "       'покупка жилья для сдачи', 'на покупку автомобиля', 'ремонт жилью',\n",
       "       'заняться высшим образованием'], dtype=object)"
      ]
     },
     "execution_count": 75,
     "metadata": {},
     "output_type": "execute_result"
    }
   ],
   "source": [
    "data['purpose'].unique()"
   ]
  },
  {
   "cell_type": "markdown",
   "id": "ebb70501",
   "metadata": {
    "deletable": false,
    "editable": false,
    "id": "85d0aef0"
   },
   "source": [
    "**Задание 18. Создайте функцию, которая на основании данных из столбца `purpose` сформирует новый столбец `purpose_category`, в который войдут следующие категории:**\n",
    "\n",
    "- `'операции с автомобилем'`,\n",
    "- `'операции с недвижимостью'`,\n",
    "- `'проведение свадьбы'`,\n",
    "- `'получение образования'`.\n",
    "\n",
    "**Например, если в столбце `purpose` находится подстрока `'на покупку автомобиля'`, то в столбце `purpose_category` должна появиться строка `'операции с автомобилем'`.**\n",
    "\n",
    "**Используйте собственную функцию с именем `categorize_purpose()` и метод `apply()`. Изучите данные в столбце `purpose` и определите, какие подстроки помогут вам правильно определить категорию.**"
   ]
  },
  {
   "cell_type": "code",
   "execution_count": 76,
   "id": "25a660f6",
   "metadata": {
    "deletable": false,
    "id": "e149fab4"
   },
   "outputs": [],
   "source": [
    "def categorize_purpose(row):\n",
    "    try:\n",
    "        if 'автом' in row:\n",
    "            return 'операции с автомобилем'\n",
    "        elif 'жил' in row or 'недвиж' in row:\n",
    "            return 'операции с недвижимостью'\n",
    "        elif 'свад' in row:\n",
    "            return 'проведение свадьбы'\n",
    "        elif 'образов' in row:\n",
    "            return 'получение образования'\n",
    "    except:\n",
    "        return 'нет категории'"
   ]
  },
  {
   "cell_type": "code",
   "execution_count": 77,
   "id": "e60c62a8",
   "metadata": {
    "deletable": false,
    "id": "bf36e69b"
   },
   "outputs": [],
   "source": [
    "data['purpose_category'] = data['purpose'].apply(categorize_purpose)"
   ]
  },
  {
   "cell_type": "markdown",
   "id": "a7693079",
   "metadata": {
    "deletable": false,
    "editable": false,
    "id": "09b242bf"
   },
   "source": [
    "### Шаг 3. Исследуйте данные и ответьте на вопросы"
   ]
  },
  {
   "cell_type": "markdown",
   "id": "0c9e4987",
   "metadata": {
    "deletable": false,
    "editable": false,
    "id": "c5d66278"
   },
   "source": [
    "#### 3.1 Есть ли зависимость между количеством детей и возвратом кредита в срок?"
   ]
  },
  {
   "cell_type": "code",
   "execution_count": 78,
   "id": "c26c802a",
   "metadata": {
    "deletable": false,
    "id": "2cacfc4a"
   },
   "outputs": [
    {
     "data": {
      "text/html": [
       "<div>\n",
       "<style scoped>\n",
       "    .dataframe tbody tr th:only-of-type {\n",
       "        vertical-align: middle;\n",
       "    }\n",
       "\n",
       "    .dataframe tbody tr th {\n",
       "        vertical-align: top;\n",
       "    }\n",
       "\n",
       "    .dataframe thead th {\n",
       "        text-align: right;\n",
       "    }\n",
       "</style>\n",
       "<table border=\"1\" class=\"dataframe\">\n",
       "  <thead>\n",
       "    <tr style=\"text-align: right;\">\n",
       "      <th></th>\n",
       "      <th>Всего кредитополучателей</th>\n",
       "      <th>Всего должников</th>\n",
       "      <th>Доля должников</th>\n",
       "    </tr>\n",
       "    <tr>\n",
       "      <th>children</th>\n",
       "      <th></th>\n",
       "      <th></th>\n",
       "      <th></th>\n",
       "    </tr>\n",
       "  </thead>\n",
       "  <tbody>\n",
       "    <tr>\n",
       "      <th>0</th>\n",
       "      <td>14091</td>\n",
       "      <td>1063</td>\n",
       "      <td>0.075438</td>\n",
       "    </tr>\n",
       "    <tr>\n",
       "      <th>1</th>\n",
       "      <td>4808</td>\n",
       "      <td>444</td>\n",
       "      <td>0.092346</td>\n",
       "    </tr>\n",
       "    <tr>\n",
       "      <th>2</th>\n",
       "      <td>2052</td>\n",
       "      <td>194</td>\n",
       "      <td>0.094542</td>\n",
       "    </tr>\n",
       "    <tr>\n",
       "      <th>3</th>\n",
       "      <td>330</td>\n",
       "      <td>27</td>\n",
       "      <td>0.081818</td>\n",
       "    </tr>\n",
       "    <tr>\n",
       "      <th>4</th>\n",
       "      <td>41</td>\n",
       "      <td>4</td>\n",
       "      <td>0.097561</td>\n",
       "    </tr>\n",
       "    <tr>\n",
       "      <th>5</th>\n",
       "      <td>9</td>\n",
       "      <td>0</td>\n",
       "      <td>0.000000</td>\n",
       "    </tr>\n",
       "  </tbody>\n",
       "</table>\n",
       "</div>"
      ],
      "text/plain": [
       "          Всего кредитополучателей  Всего должников  Доля должников\n",
       "children                                                           \n",
       "0                            14091             1063        0.075438\n",
       "1                             4808              444        0.092346\n",
       "2                             2052              194        0.094542\n",
       "3                              330               27        0.081818\n",
       "4                               41                4        0.097561\n",
       "5                                9                0        0.000000"
      ]
     },
     "metadata": {},
     "output_type": "display_data"
    }
   ],
   "source": [
    "\n",
    "def que(category):\n",
    "        data_temp = data.pivot_table(index=category, values='debt', aggfunc=['count', 'sum', 'mean'])\n",
    "        data_temp.columns = ['Всего кредитополучателей', 'Всего должников', 'Доля должников']\n",
    "        return(data_temp)\n",
    "\n",
    "display(que(data['children']))"
   ]
  },
  {
   "cell_type": "markdown",
   "id": "54dd7ce6",
   "metadata": {
    "deletable": false,
    "id": "3a6b99ec"
   },
   "source": [
    "**Вывод:** \n",
    "На таблице указана доля отношения количества задолженности по кредиту к общему количеству клиентов, сгруппированных по количеству детей.\n",
    "\n",
    "Несмотря на то, что у клиентов с 5тью детьми 100% возврат кредита вовремя, нужно принимать во внимание, что общее количество клиентов с данным количеством детей - 9, что намного меньше, чем количество остальных клиентов с другим количеством детей. А так же, общее количество клиентов с 4мя детьми меньше всех оставшихся из данной категории. Исходя из этого, следующие категории не будем рассматривать. В итоге, можно отметить, что клиенты с 2мя детьми на 1.9% чаще не возвращают кредит в срок в отличии от клиентов без детей. Самая высокая доля должников - клиенты с 2мя детьми, соответственно, данные клиенты слабее возвращают кредит.\n",
    "\n"
   ]
  },
  {
   "cell_type": "markdown",
   "id": "679791ac",
   "metadata": {
    "deletable": false,
    "editable": false,
    "id": "97be82ca"
   },
   "source": [
    "#### 3.2 Есть ли зависимость между семейным положением и возвратом кредита в срок?"
   ]
  },
  {
   "cell_type": "code",
   "execution_count": 79,
   "id": "767e2597",
   "metadata": {
    "deletable": false,
    "id": "dc3f7ee8"
   },
   "outputs": [
    {
     "data": {
      "text/html": [
       "<div>\n",
       "<style scoped>\n",
       "    .dataframe tbody tr th:only-of-type {\n",
       "        vertical-align: middle;\n",
       "    }\n",
       "\n",
       "    .dataframe tbody tr th {\n",
       "        vertical-align: top;\n",
       "    }\n",
       "\n",
       "    .dataframe thead th {\n",
       "        text-align: right;\n",
       "    }\n",
       "</style>\n",
       "<table border=\"1\" class=\"dataframe\">\n",
       "  <thead>\n",
       "    <tr style=\"text-align: right;\">\n",
       "      <th>debt</th>\n",
       "      <th>0</th>\n",
       "      <th>1</th>\n",
       "      <th>sum</th>\n",
       "      <th>percent</th>\n",
       "    </tr>\n",
       "    <tr>\n",
       "      <th>family_status</th>\n",
       "      <th></th>\n",
       "      <th></th>\n",
       "      <th></th>\n",
       "      <th></th>\n",
       "    </tr>\n",
       "  </thead>\n",
       "  <tbody>\n",
       "    <tr>\n",
       "      <th>Не женат / не замужем</th>\n",
       "      <td>2523</td>\n",
       "      <td>273</td>\n",
       "      <td>2796</td>\n",
       "      <td>9.763948</td>\n",
       "    </tr>\n",
       "    <tr>\n",
       "      <th>гражданский брак</th>\n",
       "      <td>3749</td>\n",
       "      <td>385</td>\n",
       "      <td>4134</td>\n",
       "      <td>9.313014</td>\n",
       "    </tr>\n",
       "    <tr>\n",
       "      <th>женат / замужем</th>\n",
       "      <td>11334</td>\n",
       "      <td>927</td>\n",
       "      <td>12261</td>\n",
       "      <td>7.560558</td>\n",
       "    </tr>\n",
       "    <tr>\n",
       "      <th>в разводе</th>\n",
       "      <td>1105</td>\n",
       "      <td>84</td>\n",
       "      <td>1189</td>\n",
       "      <td>7.064760</td>\n",
       "    </tr>\n",
       "    <tr>\n",
       "      <th>вдовец / вдова</th>\n",
       "      <td>888</td>\n",
       "      <td>63</td>\n",
       "      <td>951</td>\n",
       "      <td>6.624606</td>\n",
       "    </tr>\n",
       "  </tbody>\n",
       "</table>\n",
       "</div>"
      ],
      "text/plain": [
       "debt                       0    1    sum   percent\n",
       "family_status                                     \n",
       "Не женат / не замужем   2523  273   2796  9.763948\n",
       "гражданский брак        3749  385   4134  9.313014\n",
       "женат / замужем        11334  927  12261  7.560558\n",
       "в разводе               1105   84   1189  7.064760\n",
       "вдовец / вдова           888   63    951  6.624606"
      ]
     },
     "execution_count": 79,
     "metadata": {},
     "output_type": "execute_result"
    }
   ],
   "source": [
    "#Cоздадим сводную таблицу используя метод pivot_table() и выведем данные о количестве клиентов \n",
    "#по семейному положению, разделенные по условию \"имел ли задолженность по возврату кредитов\"\n",
    "\n",
    "family_pivot = data.pivot_table(index = ['family_status'], \\\n",
    "                                columns = ['debt'], \\\n",
    "                                values = 'purpose', aggfunc='count')\n",
    "# Добавим столбец с общим количеством клиентов с соответствующим семейныйм положением\n",
    "family_pivot['sum'] = family_pivot[0] + family_pivot[1]\n",
    "\n",
    "# Добавим столбец процентного отношения количества клиентов не возвращающих долг вовремя на общее число клиентов\n",
    "family_pivot['percent'] = family_pivot[1]/family_pivot['sum'] *100\n",
    "\n",
    "# Отсортируем в порядке убывания по столбцу 'percent'\n",
    "family_pivot = family_pivot.sort_values(by='percent', ascending = False)\n",
    "family_pivot"
   ]
  },
  {
   "cell_type": "markdown",
   "id": "66681a9f",
   "metadata": {
    "deletable": false,
    "id": "1cef7837"
   },
   "source": [
    "**Вывод:** \n",
    "На таблице указан процент отношения количества задолженности по кредиту к общему количеству клиентов, сгруппированных по семейному статусу. Данные таблицы не сильно разнятся, клиенты со семейным статусом - 'Не женат / не замужем' чуть чаще не возвращают кредит вовремя, а именно на 3.1%, в отличии от клиентов с семейным статусом 'вдовец / вдова'."
   ]
  },
  {
   "cell_type": "markdown",
   "id": "d0efc2a7",
   "metadata": {
    "deletable": false,
    "editable": false,
    "id": "1e8b2fca"
   },
   "source": [
    "#### 3.3 Есть ли зависимость между уровнем дохода и возвратом кредита в срок?"
   ]
  },
  {
   "cell_type": "code",
   "execution_count": 119,
   "id": "d9d8e9da",
   "metadata": {
    "deletable": false,
    "id": "cd7e3720",
    "scrolled": true
   },
   "outputs": [
    {
     "data": {
      "text/html": [
       "<div>\n",
       "<style scoped>\n",
       "    .dataframe tbody tr th:only-of-type {\n",
       "        vertical-align: middle;\n",
       "    }\n",
       "\n",
       "    .dataframe tbody tr th {\n",
       "        vertical-align: top;\n",
       "    }\n",
       "\n",
       "    .dataframe thead th {\n",
       "        text-align: right;\n",
       "    }\n",
       "</style>\n",
       "<table border=\"1\" class=\"dataframe\">\n",
       "  <thead>\n",
       "    <tr style=\"text-align: right;\">\n",
       "      <th></th>\n",
       "      <th>Уровень дохода</th>\n",
       "      <th>Всего кредитополучателей</th>\n",
       "      <th>Всего должников</th>\n",
       "      <th>Доля должников</th>\n",
       "    </tr>\n",
       "  </thead>\n",
       "  <tbody>\n",
       "    <tr>\n",
       "      <th>4</th>\n",
       "      <td>наинизший</td>\n",
       "      <td>22</td>\n",
       "      <td>2</td>\n",
       "      <td>0.090909</td>\n",
       "    </tr>\n",
       "    <tr>\n",
       "      <th>2</th>\n",
       "      <td>средний</td>\n",
       "      <td>15921</td>\n",
       "      <td>1353</td>\n",
       "      <td>0.084982</td>\n",
       "    </tr>\n",
       "    <tr>\n",
       "      <th>0</th>\n",
       "      <td>наивысочайший</td>\n",
       "      <td>25</td>\n",
       "      <td>2</td>\n",
       "      <td>0.080000</td>\n",
       "    </tr>\n",
       "    <tr>\n",
       "      <th>1</th>\n",
       "      <td>высокий</td>\n",
       "      <td>5014</td>\n",
       "      <td>354</td>\n",
       "      <td>0.070602</td>\n",
       "    </tr>\n",
       "    <tr>\n",
       "      <th>3</th>\n",
       "      <td>низкий</td>\n",
       "      <td>349</td>\n",
       "      <td>21</td>\n",
       "      <td>0.060172</td>\n",
       "    </tr>\n",
       "  </tbody>\n",
       "</table>\n",
       "</div>"
      ],
      "text/plain": [
       "  Уровень дохода  Всего кредитополучателей  Всего должников  Доля должников\n",
       "4      наинизший                        22                2        0.090909\n",
       "2        средний                     15921             1353        0.084982\n",
       "0  наивысочайший                        25                2        0.080000\n",
       "1        высокий                      5014              354        0.070602\n",
       "3         низкий                       349               21        0.060172"
      ]
     },
     "metadata": {},
     "output_type": "display_data"
    }
   ],
   "source": [
    "# Создадим DataFrame с описанием уровня дохода, для дальнейшего объединения и ясности таблицы\n",
    "category = pd.DataFrame({'Уровень дохода':['наивысочайший', 'высокий', 'средний', 'низкий', 'наинизший' ], 'total_income_category':['A','B','C','D','E']})\n",
    "\n",
    "#Cоздадим сводную таблицу используя функцию для вывода данных о количестве клиентов, должников и доли должников\n",
    "#по уровню дохода\n",
    "income_pivot = que(data['total_income_category'])\n",
    "\n",
    "#Объединим таблицу данных с описанием уровня дохода\n",
    "data_income_new = category.merge(income_pivot, on= 'total_income_category', how='left')\n",
    "#Удалим столбец, с краткой категорией уровня дохода клиента\n",
    "data_income_new = data_income_new.drop(columns = ['total_income_category'])\n",
    "\n",
    "#Отсортируем в порядке убывания по столбцу 'Доля должников'\n",
    "data_income_new = data_income_new.sort_values(by='Доля должников', ascending = False)\n",
    "\n",
    "display(data_income_new)\n"
   ]
  },
  {
   "cell_type": "markdown",
   "id": "cf9863e4",
   "metadata": {
    "deletable": false,
    "id": "e8593def"
   },
   "source": [
    "**Вывод:** \n",
    "На таблице указана доля должников по кредиту, сгруппированных по категориям уровня дохода. Общее количество кредитополучателей с уровнями дохода \"наинизший\" и \"наивысочайший\" сильно отстают от количества остальных критериев. Исходя из этого, следущие категории не будем рассматривать. Оставшиеся данные доли должников не сильно разнятся, клиенты относящиеся к категории со средним уровнем дохода на 2% чаще не возвращают кредит вовремя, в отличии от клиентов категории с низким уровнем дохода. Самая высокая доля должников - у клиентов со средним заработком."
   ]
  },
  {
   "cell_type": "markdown",
   "id": "d3d2578b",
   "metadata": {
    "deletable": false,
    "editable": false,
    "id": "99ecbd1f"
   },
   "source": [
    "#### 3.4 Как разные цели кредита влияют на его возврат в срок?"
   ]
  },
  {
   "cell_type": "code",
   "execution_count": 81,
   "id": "7828de94",
   "metadata": {
    "deletable": false,
    "id": "2b687290"
   },
   "outputs": [
    {
     "data": {
      "text/html": [
       "<div>\n",
       "<style scoped>\n",
       "    .dataframe tbody tr th:only-of-type {\n",
       "        vertical-align: middle;\n",
       "    }\n",
       "\n",
       "    .dataframe tbody tr th {\n",
       "        vertical-align: top;\n",
       "    }\n",
       "\n",
       "    .dataframe thead th {\n",
       "        text-align: right;\n",
       "    }\n",
       "</style>\n",
       "<table border=\"1\" class=\"dataframe\">\n",
       "  <thead>\n",
       "    <tr style=\"text-align: right;\">\n",
       "      <th>debt</th>\n",
       "      <th>0</th>\n",
       "      <th>1</th>\n",
       "      <th>sum</th>\n",
       "      <th>percent</th>\n",
       "    </tr>\n",
       "    <tr>\n",
       "      <th>purpose_category</th>\n",
       "      <th></th>\n",
       "      <th></th>\n",
       "      <th></th>\n",
       "      <th></th>\n",
       "    </tr>\n",
       "  </thead>\n",
       "  <tbody>\n",
       "    <tr>\n",
       "      <th>операции с автомобилем</th>\n",
       "      <td>3879</td>\n",
       "      <td>400</td>\n",
       "      <td>4279</td>\n",
       "      <td>9.347978</td>\n",
       "    </tr>\n",
       "    <tr>\n",
       "      <th>получение образования</th>\n",
       "      <td>3619</td>\n",
       "      <td>369</td>\n",
       "      <td>3988</td>\n",
       "      <td>9.252758</td>\n",
       "    </tr>\n",
       "    <tr>\n",
       "      <th>проведение свадьбы</th>\n",
       "      <td>2130</td>\n",
       "      <td>183</td>\n",
       "      <td>2313</td>\n",
       "      <td>7.911803</td>\n",
       "    </tr>\n",
       "    <tr>\n",
       "      <th>операции с недвижимостью</th>\n",
       "      <td>9971</td>\n",
       "      <td>780</td>\n",
       "      <td>10751</td>\n",
       "      <td>7.255139</td>\n",
       "    </tr>\n",
       "  </tbody>\n",
       "</table>\n",
       "</div>"
      ],
      "text/plain": [
       "debt                         0    1    sum   percent\n",
       "purpose_category                                    \n",
       "операции с автомобилем    3879  400   4279  9.347978\n",
       "получение образования     3619  369   3988  9.252758\n",
       "проведение свадьбы        2130  183   2313  7.911803\n",
       "операции с недвижимостью  9971  780  10751  7.255139"
      ]
     },
     "execution_count": 81,
     "metadata": {},
     "output_type": "execute_result"
    }
   ],
   "source": [
    "#Cоздадим сводную таблицу используя метод pivot_table() и выведем данные о количестве клиентов \n",
    "#по категории цели кредита, разделенные по условию \"имел ли задолженность по возврату кредитов\"\n",
    "\n",
    "purpose_pivot = data.pivot_table(index = ['purpose_category'], \\\n",
    "                                columns = ['debt'], \\\n",
    "                                values = 'purpose', aggfunc='count')\n",
    "# Добавим столбец с общим количеством клиентов с соответствующей целью кредита\n",
    "purpose_pivot['sum'] = purpose_pivot[0] + purpose_pivot[1]\n",
    "\n",
    "# Добавим столбец процентного отношения количества клиентов не возвращающих долг вовремя на общее число клиентов\n",
    "purpose_pivot['percent'] = purpose_pivot[1]/purpose_pivot['sum'] *100\n",
    "\n",
    "# Отсортируем в порядке убывания по столбцу 'percent'\n",
    "purpose_pivot = purpose_pivot.sort_values(by='percent', ascending = False)\n",
    "purpose_pivot"
   ]
  },
  {
   "cell_type": "markdown",
   "id": "7dd5a0a4",
   "metadata": {
    "deletable": false,
    "id": "b4bb2ce6"
   },
   "source": [
    "**Вывод:** \n",
    " На таблице указан процент отношения количества задолженности по кредиту к общему количеству клиентов, сгруппированных по категории целеи кредита. Данные таблицы не сильно разнятся, клиенты взявшие кредит на \"операции с автомобилем\" на 2% чаще не возвращают кредит вовремя, в отличии от клиентов взявших кредит на целью \"операции с недвижимостью\". "
   ]
  },
  {
   "cell_type": "markdown",
   "id": "967105ca",
   "metadata": {
    "deletable": false,
    "editable": false,
    "id": "09c3ac4c"
   },
   "source": [
    "#### 3.5 Приведите возможные причины появления пропусков в исходных данных."
   ]
  },
  {
   "cell_type": "markdown",
   "id": "789d7246",
   "metadata": {
    "deletable": false,
    "id": "9da2ceda"
   },
   "source": [
    "*Ответ:* \n",
    "Причиной пропусков в большинстве случаев, может быть человеческий фактор. Опечатки, ошибки, человек может спутать данные и так далее.\n",
    "А также причиной пропусков могут быть технологические ошибки: при копировании данных, неправильном считывании, смене формата, в том числе и при записи данных"
   ]
  },
  {
   "cell_type": "markdown",
   "id": "8b1ce85a",
   "metadata": {
    "deletable": false,
    "editable": false,
    "id": "7b0487d6"
   },
   "source": [
    "#### 3.6 Объясните, почему заполнить пропуски медианным значением — лучшее решение для количественных переменных."
   ]
  },
  {
   "cell_type": "markdown",
   "id": "4a9e3280",
   "metadata": {
    "deletable": false,
    "id": "7ecf2b8e"
   },
   "source": [
    "*Ответ:* \n",
    "\n",
    "Данные могут значительно разниться между собой, как и количество наибольших данных и количество наименьших данных также отличительны друг от друга. При условии если наибольшее значение на порядок больше от остальных данных, то результат среднего значения заметно смещается вверх. Поэтому, целесообразно заполнять пропуски медианным значением."
   ]
  },
  {
   "cell_type": "markdown",
   "id": "b3b52275",
   "metadata": {
    "deletable": false,
    "editable": false,
    "id": "6db5255a"
   },
   "source": [
    "### Шаг 4: общий вывод."
   ]
  },
  {
   "cell_type": "markdown",
   "id": "f70d2b6b",
   "metadata": {
    "deletable": false,
    "id": "bad65432"
   },
   "source": [
    "Исходя из данных полученных выше, можно сделать вывод, что есть некоторая зависимость между количеством детей, семейным положением, уровнем дохода, целями кредита. Эта зависимость незначительная, но разница в 2%-3% в больших данных могут иметь существенную значимость в анализе данных.\n",
    "По данным анализа самыми ненадежными клиентами оказались клиенты с 2мя детьми, неженатые/незамужние, со средним уровнем дохода, которые брали кредит для операций с автомобилем. А самыми надежными клиентами оказались бездетные клиенты, вдовцы/вдовы, с низким уровнем дохода, которые брали кредит на недвижимость."
   ]
  },
  {
   "cell_type": "code",
   "execution_count": null,
   "id": "39acb486",
   "metadata": {},
   "outputs": [],
   "source": []
  }
 ],
 "metadata": {
  "ExecuteTimeLog": [
   {
    "duration": 52,
    "start_time": "2022-08-12T14:16:21.303Z"
   },
   {
    "duration": 485,
    "start_time": "2022-08-12T14:16:49.596Z"
   },
   {
    "duration": 22,
    "start_time": "2022-08-12T14:16:53.706Z"
   },
   {
    "duration": 17,
    "start_time": "2022-08-12T14:17:04.435Z"
   },
   {
    "duration": 15,
    "start_time": "2022-08-12T14:17:10.218Z"
   },
   {
    "duration": 47,
    "start_time": "2022-08-12T14:17:16.384Z"
   },
   {
    "duration": 4,
    "start_time": "2022-08-12T14:17:20.412Z"
   },
   {
    "duration": 9,
    "start_time": "2022-08-12T14:17:23.045Z"
   },
   {
    "duration": 5,
    "start_time": "2022-08-12T14:17:27.562Z"
   },
   {
    "duration": 8,
    "start_time": "2022-08-12T14:17:30.481Z"
   },
   {
    "duration": 6,
    "start_time": "2022-08-12T14:17:35.217Z"
   },
   {
    "duration": 36,
    "start_time": "2022-08-12T14:17:38.719Z"
   },
   {
    "duration": 10,
    "start_time": "2022-08-12T14:17:41.686Z"
   },
   {
    "duration": 3,
    "start_time": "2022-08-12T14:17:44.962Z"
   },
   {
    "duration": 17,
    "start_time": "2022-08-12T14:17:48.124Z"
   },
   {
    "duration": 29,
    "start_time": "2022-08-12T14:17:50.696Z"
   },
   {
    "duration": 18,
    "start_time": "2022-08-12T14:17:54.393Z"
   },
   {
    "duration": 4,
    "start_time": "2022-08-12T14:18:06.977Z"
   },
   {
    "duration": 10,
    "start_time": "2022-08-12T14:18:09.866Z"
   },
   {
    "duration": 8,
    "start_time": "2022-08-12T14:18:15.141Z"
   },
   {
    "duration": 3,
    "start_time": "2022-08-12T14:18:20.110Z"
   },
   {
    "duration": 9,
    "start_time": "2022-08-12T14:18:22.976Z"
   },
   {
    "duration": 9,
    "start_time": "2022-08-12T14:18:38.452Z"
   },
   {
    "duration": 9,
    "start_time": "2022-08-12T14:20:19.329Z"
   },
   {
    "duration": 8,
    "start_time": "2022-08-12T14:20:58.078Z"
   },
   {
    "duration": 10,
    "start_time": "2022-08-12T14:21:10.919Z"
   },
   {
    "duration": 7,
    "start_time": "2022-08-12T14:21:39.353Z"
   },
   {
    "duration": 8,
    "start_time": "2022-08-12T14:23:44.352Z"
   },
   {
    "duration": 121,
    "start_time": "2022-08-12T14:25:02.056Z"
   },
   {
    "duration": 110,
    "start_time": "2022-08-12T14:25:09.177Z"
   },
   {
    "duration": 89,
    "start_time": "2022-08-12T14:25:19.107Z"
   },
   {
    "duration": 8,
    "start_time": "2022-08-12T14:25:24.418Z"
   },
   {
    "duration": 8,
    "start_time": "2022-08-12T14:27:06.515Z"
   },
   {
    "duration": 7,
    "start_time": "2022-08-12T14:27:15.344Z"
   },
   {
    "duration": 5,
    "start_time": "2022-08-12T14:27:22.773Z"
   },
   {
    "duration": 9,
    "start_time": "2022-08-12T14:27:31.113Z"
   },
   {
    "duration": 8,
    "start_time": "2022-08-12T14:27:48.725Z"
   },
   {
    "duration": 8,
    "start_time": "2022-08-12T14:28:00.981Z"
   },
   {
    "duration": 7,
    "start_time": "2022-08-12T14:29:37.361Z"
   },
   {
    "duration": 6,
    "start_time": "2022-08-12T14:30:28.732Z"
   },
   {
    "duration": 8,
    "start_time": "2022-08-12T14:30:52.110Z"
   },
   {
    "duration": 9,
    "start_time": "2022-08-12T14:31:03.198Z"
   },
   {
    "duration": 7,
    "start_time": "2022-08-12T14:42:31.445Z"
   },
   {
    "duration": 16,
    "start_time": "2022-08-12T14:42:40.568Z"
   },
   {
    "duration": 24,
    "start_time": "2022-08-12T14:42:58.994Z"
   },
   {
    "duration": 9,
    "start_time": "2022-08-12T14:43:15.610Z"
   },
   {
    "duration": 11,
    "start_time": "2022-08-12T14:44:13.502Z"
   },
   {
    "duration": 4,
    "start_time": "2022-08-12T14:46:01.562Z"
   },
   {
    "duration": 14,
    "start_time": "2022-08-12T14:46:22.538Z"
   },
   {
    "duration": 6,
    "start_time": "2022-08-12T14:46:49.128Z"
   },
   {
    "duration": 17,
    "start_time": "2022-08-12T14:47:10.165Z"
   },
   {
    "duration": 5,
    "start_time": "2022-08-12T14:47:36.452Z"
   },
   {
    "duration": 4,
    "start_time": "2022-08-12T14:50:08.015Z"
   },
   {
    "duration": 79,
    "start_time": "2022-08-12T14:51:05.540Z"
   },
   {
    "duration": 84,
    "start_time": "2022-08-12T14:51:09.614Z"
   },
   {
    "duration": 8,
    "start_time": "2022-08-12T14:51:13.514Z"
   },
   {
    "duration": 7,
    "start_time": "2022-08-12T14:51:34.843Z"
   },
   {
    "duration": 7,
    "start_time": "2022-08-12T14:51:42.883Z"
   },
   {
    "duration": 8,
    "start_time": "2022-08-12T14:51:58.297Z"
   },
   {
    "duration": 94,
    "start_time": "2022-08-12T14:52:31.581Z"
   },
   {
    "duration": 8,
    "start_time": "2022-08-12T14:52:36.948Z"
   },
   {
    "duration": 35,
    "start_time": "2022-08-12T14:53:23.703Z"
   },
   {
    "duration": 9,
    "start_time": "2022-08-12T14:53:27.388Z"
   },
   {
    "duration": 7,
    "start_time": "2022-08-12T14:54:39.238Z"
   },
   {
    "duration": 8,
    "start_time": "2022-08-12T14:55:26.787Z"
   },
   {
    "duration": 5,
    "start_time": "2022-08-12T14:56:32.493Z"
   },
   {
    "duration": 114,
    "start_time": "2022-08-12T15:13:07.688Z"
   },
   {
    "duration": 6,
    "start_time": "2022-08-12T15:13:18.036Z"
   },
   {
    "duration": 112,
    "start_time": "2022-08-12T15:15:34.671Z"
   },
   {
    "duration": 82,
    "start_time": "2022-08-12T15:15:38.796Z"
   },
   {
    "duration": 5,
    "start_time": "2022-08-12T15:15:43.867Z"
   },
   {
    "duration": 4,
    "start_time": "2022-08-12T15:16:53.624Z"
   },
   {
    "duration": 5,
    "start_time": "2022-08-12T15:17:44.865Z"
   },
   {
    "duration": 7,
    "start_time": "2022-08-12T15:25:40.714Z"
   },
   {
    "duration": 6,
    "start_time": "2022-08-12T15:25:43.815Z"
   },
   {
    "duration": 7,
    "start_time": "2022-08-12T15:26:26.855Z"
   },
   {
    "duration": 9,
    "start_time": "2022-08-12T15:27:28.683Z"
   },
   {
    "duration": 10,
    "start_time": "2022-08-12T15:27:57.513Z"
   },
   {
    "duration": 9,
    "start_time": "2022-08-12T15:31:02.935Z"
   },
   {
    "duration": 10,
    "start_time": "2022-08-12T15:31:34.916Z"
   },
   {
    "duration": 10,
    "start_time": "2022-08-12T15:31:44.631Z"
   },
   {
    "duration": 9,
    "start_time": "2022-08-12T15:32:15.181Z"
   },
   {
    "duration": 5,
    "start_time": "2022-08-12T15:33:15.440Z"
   },
   {
    "duration": 4,
    "start_time": "2022-08-12T15:35:22.446Z"
   },
   {
    "duration": 6,
    "start_time": "2022-08-12T15:35:28.378Z"
   },
   {
    "duration": 5,
    "start_time": "2022-08-12T15:36:23.418Z"
   },
   {
    "duration": 9,
    "start_time": "2022-08-12T16:19:07.426Z"
   },
   {
    "duration": 7,
    "start_time": "2022-08-12T16:19:47.140Z"
   },
   {
    "duration": 17,
    "start_time": "2022-08-12T16:19:53.813Z"
   },
   {
    "duration": 9,
    "start_time": "2022-08-12T16:20:15.328Z"
   },
   {
    "duration": 4,
    "start_time": "2022-08-12T16:20:36.098Z"
   },
   {
    "duration": 9,
    "start_time": "2022-08-12T16:21:52.640Z"
   },
   {
    "duration": 10,
    "start_time": "2022-08-12T16:23:15.632Z"
   },
   {
    "duration": 7,
    "start_time": "2022-08-12T16:24:16.793Z"
   },
   {
    "duration": 6,
    "start_time": "2022-08-12T16:26:16.010Z"
   },
   {
    "duration": 8,
    "start_time": "2022-08-12T16:34:31.181Z"
   },
   {
    "duration": 8,
    "start_time": "2022-08-12T16:35:45.758Z"
   },
   {
    "duration": 8,
    "start_time": "2022-08-12T16:36:29.223Z"
   },
   {
    "duration": 5,
    "start_time": "2022-08-12T16:37:05.807Z"
   },
   {
    "duration": 5,
    "start_time": "2022-08-12T16:37:36.180Z"
   },
   {
    "duration": 8,
    "start_time": "2022-08-12T16:38:11.063Z"
   },
   {
    "duration": 7,
    "start_time": "2022-08-12T16:38:15.383Z"
   },
   {
    "duration": 3,
    "start_time": "2022-08-12T17:25:04.935Z"
   },
   {
    "duration": 92,
    "start_time": "2022-08-12T17:25:15.566Z"
   },
   {
    "duration": 6,
    "start_time": "2022-08-12T17:25:26.912Z"
   },
   {
    "duration": 5,
    "start_time": "2022-08-12T17:25:31.762Z"
   },
   {
    "duration": 6,
    "start_time": "2022-08-12T17:26:22.386Z"
   },
   {
    "duration": 5,
    "start_time": "2022-08-12T17:26:58.016Z"
   },
   {
    "duration": 7,
    "start_time": "2022-08-12T17:27:01.526Z"
   },
   {
    "duration": 5,
    "start_time": "2022-08-12T17:27:44.222Z"
   },
   {
    "duration": 24,
    "start_time": "2022-08-12T17:56:52.918Z"
   },
   {
    "duration": 7,
    "start_time": "2022-08-12T17:58:03.900Z"
   },
   {
    "duration": 23,
    "start_time": "2022-08-12T17:59:04.753Z"
   },
   {
    "duration": 26,
    "start_time": "2022-08-12T18:01:20.253Z"
   },
   {
    "duration": 26,
    "start_time": "2022-08-12T18:01:47.546Z"
   },
   {
    "duration": 22,
    "start_time": "2022-08-12T18:07:40.720Z"
   },
   {
    "duration": 29,
    "start_time": "2022-08-12T18:14:31.565Z"
   },
   {
    "duration": 22,
    "start_time": "2022-08-12T18:14:51.351Z"
   },
   {
    "duration": 25,
    "start_time": "2022-08-12T18:15:01.167Z"
   },
   {
    "duration": 27,
    "start_time": "2022-08-12T18:16:32.816Z"
   },
   {
    "duration": 44,
    "start_time": "2022-08-12T18:16:40.327Z"
   },
   {
    "duration": 28,
    "start_time": "2022-08-12T18:17:44.684Z"
   },
   {
    "duration": 1219,
    "start_time": "2022-08-12T18:19:04.134Z"
   },
   {
    "duration": 1137,
    "start_time": "2022-08-12T18:19:21.449Z"
   },
   {
    "duration": 26,
    "start_time": "2022-08-12T18:19:26.002Z"
   },
   {
    "duration": 26,
    "start_time": "2022-08-12T18:19:40.952Z"
   },
   {
    "duration": 25,
    "start_time": "2022-08-12T18:20:31.796Z"
   },
   {
    "duration": 26,
    "start_time": "2022-08-12T18:20:45.369Z"
   },
   {
    "duration": 26,
    "start_time": "2022-08-12T18:21:37.104Z"
   },
   {
    "duration": 27,
    "start_time": "2022-08-12T18:21:40.369Z"
   },
   {
    "duration": 29,
    "start_time": "2022-08-12T18:22:56.096Z"
   },
   {
    "duration": 22,
    "start_time": "2022-08-12T18:24:06.687Z"
   },
   {
    "duration": 20,
    "start_time": "2022-08-12T18:26:53.719Z"
   },
   {
    "duration": 20,
    "start_time": "2022-08-12T18:28:30.839Z"
   },
   {
    "duration": 33,
    "start_time": "2022-08-12T18:32:47.065Z"
   },
   {
    "duration": 24,
    "start_time": "2022-08-12T18:32:56.839Z"
   },
   {
    "duration": 32,
    "start_time": "2022-08-12T18:34:06.062Z"
   },
   {
    "duration": 20,
    "start_time": "2022-08-12T18:36:48.958Z"
   },
   {
    "duration": 20,
    "start_time": "2022-08-12T18:38:37.945Z"
   },
   {
    "duration": 22,
    "start_time": "2022-08-12T18:39:12.445Z"
   },
   {
    "duration": 25,
    "start_time": "2022-08-12T18:39:38.549Z"
   },
   {
    "duration": 27,
    "start_time": "2022-08-12T18:45:08.746Z"
   },
   {
    "duration": 23,
    "start_time": "2022-08-12T18:47:12.342Z"
   },
   {
    "duration": 23,
    "start_time": "2022-08-12T18:48:05.099Z"
   },
   {
    "duration": 24,
    "start_time": "2022-08-12T18:49:41.273Z"
   },
   {
    "duration": 24,
    "start_time": "2022-08-12T18:50:23.889Z"
   },
   {
    "duration": 23,
    "start_time": "2022-08-12T18:50:29.978Z"
   },
   {
    "duration": 25,
    "start_time": "2022-08-12T18:51:11.833Z"
   },
   {
    "duration": 8,
    "start_time": "2022-08-12T18:51:28.858Z"
   },
   {
    "duration": 8,
    "start_time": "2022-08-12T18:51:40.901Z"
   },
   {
    "duration": 26,
    "start_time": "2022-08-12T18:54:48.365Z"
   },
   {
    "duration": 27,
    "start_time": "2022-08-12T18:55:20.975Z"
   },
   {
    "duration": 23,
    "start_time": "2022-08-12T18:56:17.919Z"
   },
   {
    "duration": 22,
    "start_time": "2022-08-12T18:57:07.541Z"
   },
   {
    "duration": 23,
    "start_time": "2022-08-12T18:59:32.392Z"
   },
   {
    "duration": 23,
    "start_time": "2022-08-12T18:59:35.615Z"
   },
   {
    "duration": 55,
    "start_time": "2022-08-16T15:50:14.452Z"
   },
   {
    "duration": 8,
    "start_time": "2022-08-16T15:50:35.164Z"
   },
   {
    "duration": 9,
    "start_time": "2022-08-16T15:50:55.712Z"
   },
   {
    "duration": 8,
    "start_time": "2022-08-16T15:51:24.942Z"
   },
   {
    "duration": 665,
    "start_time": "2022-08-16T15:51:32.749Z"
   },
   {
    "duration": 25,
    "start_time": "2022-08-16T15:51:33.416Z"
   },
   {
    "duration": 18,
    "start_time": "2022-08-16T15:51:33.442Z"
   },
   {
    "duration": 10,
    "start_time": "2022-08-16T15:51:33.462Z"
   },
   {
    "duration": 51,
    "start_time": "2022-08-16T15:51:33.474Z"
   },
   {
    "duration": 4,
    "start_time": "2022-08-16T15:51:33.527Z"
   },
   {
    "duration": 18,
    "start_time": "2022-08-16T15:51:33.533Z"
   },
   {
    "duration": 9,
    "start_time": "2022-08-16T15:51:33.553Z"
   },
   {
    "duration": 20,
    "start_time": "2022-08-16T15:51:33.564Z"
   },
   {
    "duration": 6,
    "start_time": "2022-08-16T15:51:33.588Z"
   },
   {
    "duration": 35,
    "start_time": "2022-08-16T15:51:33.602Z"
   },
   {
    "duration": 10,
    "start_time": "2022-08-16T15:51:33.639Z"
   },
   {
    "duration": 5,
    "start_time": "2022-08-16T15:51:33.651Z"
   },
   {
    "duration": 13,
    "start_time": "2022-08-16T15:51:33.657Z"
   },
   {
    "duration": 48,
    "start_time": "2022-08-16T15:51:33.672Z"
   },
   {
    "duration": 19,
    "start_time": "2022-08-16T15:51:33.722Z"
   },
   {
    "duration": 4,
    "start_time": "2022-08-16T15:51:33.743Z"
   },
   {
    "duration": 13,
    "start_time": "2022-08-16T15:51:33.749Z"
   },
   {
    "duration": 7,
    "start_time": "2022-08-16T15:51:33.764Z"
   },
   {
    "duration": 5,
    "start_time": "2022-08-16T15:51:33.804Z"
   },
   {
    "duration": 15,
    "start_time": "2022-08-16T15:51:33.810Z"
   },
   {
    "duration": 33,
    "start_time": "2022-08-16T15:51:33.827Z"
   },
   {
    "duration": 42,
    "start_time": "2022-08-16T15:51:33.862Z"
   },
   {
    "duration": 24,
    "start_time": "2022-08-16T15:51:33.905Z"
   },
   {
    "duration": 24,
    "start_time": "2022-08-16T15:51:33.930Z"
   },
   {
    "duration": 38,
    "start_time": "2022-08-16T16:00:15.790Z"
   },
   {
    "duration": 56,
    "start_time": "2022-08-16T16:00:47.037Z"
   },
   {
    "duration": 45,
    "start_time": "2022-08-16T16:00:49.864Z"
   },
   {
    "duration": 43,
    "start_time": "2022-08-16T16:00:53.011Z"
   },
   {
    "duration": 72,
    "start_time": "2022-08-16T16:01:01.090Z"
   },
   {
    "duration": 24,
    "start_time": "2022-08-16T16:01:01.165Z"
   },
   {
    "duration": 51,
    "start_time": "2022-08-16T16:01:01.191Z"
   },
   {
    "duration": 44,
    "start_time": "2022-08-16T16:01:01.245Z"
   },
   {
    "duration": 54,
    "start_time": "2022-08-16T16:01:01.292Z"
   },
   {
    "duration": 6,
    "start_time": "2022-08-16T16:01:01.350Z"
   },
   {
    "duration": 45,
    "start_time": "2022-08-16T16:01:01.359Z"
   },
   {
    "duration": 36,
    "start_time": "2022-08-16T16:01:01.406Z"
   },
   {
    "duration": 15,
    "start_time": "2022-08-16T16:01:01.444Z"
   },
   {
    "duration": 25,
    "start_time": "2022-08-16T16:01:01.462Z"
   },
   {
    "duration": 58,
    "start_time": "2022-08-16T16:01:01.489Z"
   },
   {
    "duration": 10,
    "start_time": "2022-08-16T16:01:01.549Z"
   },
   {
    "duration": 8,
    "start_time": "2022-08-16T16:01:01.561Z"
   },
   {
    "duration": 25,
    "start_time": "2022-08-16T16:01:01.570Z"
   },
   {
    "duration": 53,
    "start_time": "2022-08-16T16:01:01.597Z"
   },
   {
    "duration": 21,
    "start_time": "2022-08-16T16:01:01.653Z"
   },
   {
    "duration": 4,
    "start_time": "2022-08-16T16:01:01.676Z"
   },
   {
    "duration": 20,
    "start_time": "2022-08-16T16:01:01.681Z"
   },
   {
    "duration": 15,
    "start_time": "2022-08-16T16:01:01.704Z"
   },
   {
    "duration": 5,
    "start_time": "2022-08-16T16:01:01.722Z"
   },
   {
    "duration": 20,
    "start_time": "2022-08-16T16:01:01.729Z"
   },
   {
    "duration": 73,
    "start_time": "2022-08-16T16:01:01.751Z"
   },
   {
    "duration": 35,
    "start_time": "2022-08-16T16:01:01.826Z"
   },
   {
    "duration": 57,
    "start_time": "2022-08-16T16:01:01.864Z"
   },
   {
    "duration": 34,
    "start_time": "2022-08-16T16:01:01.923Z"
   },
   {
    "duration": 56,
    "start_time": "2022-08-16T16:01:20.609Z"
   },
   {
    "duration": 47,
    "start_time": "2022-08-16T16:01:41.633Z"
   },
   {
    "duration": 46,
    "start_time": "2022-08-16T16:01:52.910Z"
   },
   {
    "duration": 60,
    "start_time": "2022-08-16T16:04:58.445Z"
   },
   {
    "duration": 55,
    "start_time": "2022-08-16T16:26:07.340Z"
   },
   {
    "duration": 27,
    "start_time": "2022-08-16T16:26:25.138Z"
   },
   {
    "duration": 26,
    "start_time": "2022-08-16T16:29:09.232Z"
   },
   {
    "duration": 26,
    "start_time": "2022-08-16T17:43:51.045Z"
   },
   {
    "duration": 32,
    "start_time": "2022-08-16T17:44:07.531Z"
   },
   {
    "duration": 25,
    "start_time": "2022-08-16T17:44:46.495Z"
   },
   {
    "duration": 28,
    "start_time": "2022-08-16T17:47:13.443Z"
   },
   {
    "duration": 36,
    "start_time": "2022-08-16T17:49:29.070Z"
   },
   {
    "duration": 29,
    "start_time": "2022-08-16T17:49:47.754Z"
   },
   {
    "duration": 38,
    "start_time": "2022-08-16T17:50:27.997Z"
   },
   {
    "duration": 34,
    "start_time": "2022-08-16T17:50:38.841Z"
   },
   {
    "duration": 62,
    "start_time": "2022-08-16T17:51:51.397Z"
   },
   {
    "duration": 35,
    "start_time": "2022-08-16T17:54:00.936Z"
   },
   {
    "duration": 65,
    "start_time": "2022-08-16T17:54:11.462Z"
   },
   {
    "duration": 52,
    "start_time": "2022-08-16T17:54:18.276Z"
   },
   {
    "duration": 45,
    "start_time": "2022-08-16T17:54:37.189Z"
   },
   {
    "duration": 35,
    "start_time": "2022-08-16T17:55:03.058Z"
   },
   {
    "duration": 1034,
    "start_time": "2022-08-16T17:55:48.144Z"
   },
   {
    "duration": 29,
    "start_time": "2022-08-16T17:56:52.729Z"
   },
   {
    "duration": 36,
    "start_time": "2022-08-16T17:57:10.352Z"
   },
   {
    "duration": 29,
    "start_time": "2022-08-16T17:57:36.585Z"
   },
   {
    "duration": 84,
    "start_time": "2022-08-16T18:03:59.762Z"
   },
   {
    "duration": 78,
    "start_time": "2022-08-16T18:08:26.666Z"
   },
   {
    "duration": 47,
    "start_time": "2022-08-16T18:08:53.751Z"
   },
   {
    "duration": 36,
    "start_time": "2022-08-16T18:10:35.721Z"
   },
   {
    "duration": 42,
    "start_time": "2022-08-16T18:10:53.494Z"
   },
   {
    "duration": 38,
    "start_time": "2022-08-16T18:11:23.672Z"
   },
   {
    "duration": 71,
    "start_time": "2022-08-16T18:20:32.215Z"
   },
   {
    "duration": 9,
    "start_time": "2022-08-16T18:20:50.371Z"
   },
   {
    "duration": 35,
    "start_time": "2022-08-16T18:21:48.721Z"
   },
   {
    "duration": 14,
    "start_time": "2022-08-16T18:26:49.452Z"
   },
   {
    "duration": 77,
    "start_time": "2022-08-16T18:44:34.077Z"
   },
   {
    "duration": 17,
    "start_time": "2022-08-16T18:44:34.156Z"
   },
   {
    "duration": 39,
    "start_time": "2022-08-16T18:44:34.175Z"
   },
   {
    "duration": 11,
    "start_time": "2022-08-16T18:44:34.219Z"
   },
   {
    "duration": 34,
    "start_time": "2022-08-16T18:44:34.233Z"
   },
   {
    "duration": 4,
    "start_time": "2022-08-16T18:44:34.269Z"
   },
   {
    "duration": 38,
    "start_time": "2022-08-16T18:44:34.276Z"
   },
   {
    "duration": 9,
    "start_time": "2022-08-16T18:44:34.318Z"
   },
   {
    "duration": 7,
    "start_time": "2022-08-16T18:44:34.328Z"
   },
   {
    "duration": 5,
    "start_time": "2022-08-16T18:44:34.337Z"
   },
   {
    "duration": 74,
    "start_time": "2022-08-16T18:44:34.344Z"
   },
   {
    "duration": 12,
    "start_time": "2022-08-16T18:44:34.419Z"
   },
   {
    "duration": 4,
    "start_time": "2022-08-16T18:44:34.433Z"
   },
   {
    "duration": 27,
    "start_time": "2022-08-16T18:44:34.439Z"
   },
   {
    "duration": 46,
    "start_time": "2022-08-16T18:44:34.468Z"
   },
   {
    "duration": 20,
    "start_time": "2022-08-16T18:44:34.517Z"
   },
   {
    "duration": 3,
    "start_time": "2022-08-16T18:44:34.539Z"
   },
   {
    "duration": 25,
    "start_time": "2022-08-16T18:44:34.545Z"
   },
   {
    "duration": 23,
    "start_time": "2022-08-16T18:44:34.572Z"
   },
   {
    "duration": 21,
    "start_time": "2022-08-16T18:44:34.596Z"
   },
   {
    "duration": 25,
    "start_time": "2022-08-16T18:44:34.619Z"
   },
   {
    "duration": 33,
    "start_time": "2022-08-16T18:44:34.646Z"
   },
   {
    "duration": 33,
    "start_time": "2022-08-16T18:44:34.681Z"
   },
   {
    "duration": 22,
    "start_time": "2022-08-16T18:44:34.717Z"
   },
   {
    "duration": 0,
    "start_time": "2022-08-16T18:44:34.741Z"
   },
   {
    "duration": 71,
    "start_time": "2022-08-16T18:46:51.414Z"
   },
   {
    "duration": 16,
    "start_time": "2022-08-16T18:46:51.487Z"
   },
   {
    "duration": 21,
    "start_time": "2022-08-16T18:46:51.513Z"
   },
   {
    "duration": 9,
    "start_time": "2022-08-16T18:46:51.536Z"
   },
   {
    "duration": 70,
    "start_time": "2022-08-16T18:46:51.547Z"
   },
   {
    "duration": 4,
    "start_time": "2022-08-16T18:46:51.618Z"
   },
   {
    "duration": 10,
    "start_time": "2022-08-16T18:46:51.624Z"
   },
   {
    "duration": 4,
    "start_time": "2022-08-16T18:46:51.635Z"
   },
   {
    "duration": 6,
    "start_time": "2022-08-16T18:46:51.641Z"
   },
   {
    "duration": 5,
    "start_time": "2022-08-16T18:46:51.649Z"
   },
   {
    "duration": 87,
    "start_time": "2022-08-16T18:46:51.655Z"
   },
   {
    "duration": 10,
    "start_time": "2022-08-16T18:46:51.746Z"
   },
   {
    "duration": 16,
    "start_time": "2022-08-16T18:46:51.757Z"
   },
   {
    "duration": 40,
    "start_time": "2022-08-16T18:46:51.776Z"
   },
   {
    "duration": 29,
    "start_time": "2022-08-16T18:46:51.818Z"
   },
   {
    "duration": 20,
    "start_time": "2022-08-16T18:46:51.849Z"
   },
   {
    "duration": 6,
    "start_time": "2022-08-16T18:46:51.870Z"
   },
   {
    "duration": 30,
    "start_time": "2022-08-16T18:46:51.878Z"
   },
   {
    "duration": 37,
    "start_time": "2022-08-16T18:46:51.911Z"
   },
   {
    "duration": 7,
    "start_time": "2022-08-16T18:46:51.950Z"
   },
   {
    "duration": 36,
    "start_time": "2022-08-16T18:46:51.959Z"
   },
   {
    "duration": 45,
    "start_time": "2022-08-16T18:46:51.997Z"
   },
   {
    "duration": 27,
    "start_time": "2022-08-16T18:46:52.044Z"
   },
   {
    "duration": 43,
    "start_time": "2022-08-16T18:46:52.073Z"
   },
   {
    "duration": 0,
    "start_time": "2022-08-16T18:46:52.118Z"
   },
   {
    "duration": 70,
    "start_time": "2022-08-16T18:53:11.728Z"
   },
   {
    "duration": 15,
    "start_time": "2022-08-16T18:53:11.800Z"
   },
   {
    "duration": 19,
    "start_time": "2022-08-16T18:53:11.817Z"
   },
   {
    "duration": 15,
    "start_time": "2022-08-16T18:53:11.838Z"
   },
   {
    "duration": 69,
    "start_time": "2022-08-16T18:53:11.855Z"
   },
   {
    "duration": 4,
    "start_time": "2022-08-16T18:53:11.926Z"
   },
   {
    "duration": 12,
    "start_time": "2022-08-16T18:53:11.931Z"
   },
   {
    "duration": 5,
    "start_time": "2022-08-16T18:53:11.945Z"
   },
   {
    "duration": 6,
    "start_time": "2022-08-16T18:53:11.952Z"
   },
   {
    "duration": 44,
    "start_time": "2022-08-16T18:53:11.961Z"
   },
   {
    "duration": 35,
    "start_time": "2022-08-16T18:53:12.007Z"
   },
   {
    "duration": 11,
    "start_time": "2022-08-16T18:53:12.044Z"
   },
   {
    "duration": 6,
    "start_time": "2022-08-16T18:53:12.056Z"
   },
   {
    "duration": 43,
    "start_time": "2022-08-16T18:53:12.064Z"
   },
   {
    "duration": 22,
    "start_time": "2022-08-16T18:53:12.108Z"
   },
   {
    "duration": 21,
    "start_time": "2022-08-16T18:53:12.131Z"
   },
   {
    "duration": 4,
    "start_time": "2022-08-16T18:53:12.153Z"
   },
   {
    "duration": 47,
    "start_time": "2022-08-16T18:53:12.159Z"
   },
   {
    "duration": 6,
    "start_time": "2022-08-16T18:53:12.208Z"
   },
   {
    "duration": 4,
    "start_time": "2022-08-16T18:53:12.216Z"
   },
   {
    "duration": 13,
    "start_time": "2022-08-16T18:53:12.222Z"
   },
   {
    "duration": 66,
    "start_time": "2022-08-16T18:53:12.237Z"
   },
   {
    "duration": 24,
    "start_time": "2022-08-16T18:53:12.305Z"
   },
   {
    "duration": 21,
    "start_time": "2022-08-16T18:53:12.331Z"
   },
   {
    "duration": 0,
    "start_time": "2022-08-16T18:53:12.354Z"
   },
   {
    "duration": 45,
    "start_time": "2022-08-16T18:53:45.111Z"
   },
   {
    "duration": 49,
    "start_time": "2022-08-16T18:54:18.226Z"
   },
   {
    "duration": 43,
    "start_time": "2022-08-16T18:54:34.435Z"
   },
   {
    "duration": 40,
    "start_time": "2022-08-16T18:54:58.540Z"
   },
   {
    "duration": 10,
    "start_time": "2022-08-16T18:55:15.397Z"
   },
   {
    "duration": 11,
    "start_time": "2022-08-16T18:55:20.866Z"
   },
   {
    "duration": 9,
    "start_time": "2022-08-16T18:55:31.238Z"
   },
   {
    "duration": 38,
    "start_time": "2022-08-16T18:56:28.017Z"
   },
   {
    "duration": 5,
    "start_time": "2022-08-16T18:56:43.013Z"
   },
   {
    "duration": 5,
    "start_time": "2022-08-16T19:00:44.383Z"
   },
   {
    "duration": 10,
    "start_time": "2022-08-16T19:01:05.759Z"
   },
   {
    "duration": 37,
    "start_time": "2022-08-16T19:03:08.043Z"
   },
   {
    "duration": 37,
    "start_time": "2022-08-16T19:03:31.190Z"
   },
   {
    "duration": 1013,
    "start_time": "2022-08-16T19:03:49.478Z"
   },
   {
    "duration": 951,
    "start_time": "2022-08-16T19:04:04.030Z"
   },
   {
    "duration": 1117,
    "start_time": "2022-08-16T19:04:40.501Z"
   },
   {
    "duration": 881,
    "start_time": "2022-08-16T19:06:40.309Z"
   },
   {
    "duration": 985,
    "start_time": "2022-08-16T19:07:31.287Z"
   },
   {
    "duration": 1149,
    "start_time": "2022-08-16T19:19:50.490Z"
   },
   {
    "duration": 2033,
    "start_time": "2022-08-16T19:20:01.388Z"
   },
   {
    "duration": 885,
    "start_time": "2022-08-16T19:20:21.537Z"
   },
   {
    "duration": 79,
    "start_time": "2022-08-17T03:49:39.880Z"
   },
   {
    "duration": 10,
    "start_time": "2022-08-17T03:56:02.861Z"
   },
   {
    "duration": 577,
    "start_time": "2022-08-17T03:56:19.912Z"
   },
   {
    "duration": 24,
    "start_time": "2022-08-17T03:56:20.491Z"
   },
   {
    "duration": 16,
    "start_time": "2022-08-17T03:56:20.518Z"
   },
   {
    "duration": 12,
    "start_time": "2022-08-17T03:56:20.536Z"
   },
   {
    "duration": 65,
    "start_time": "2022-08-17T03:56:20.550Z"
   },
   {
    "duration": 3,
    "start_time": "2022-08-17T03:56:20.617Z"
   },
   {
    "duration": 13,
    "start_time": "2022-08-17T03:56:20.622Z"
   },
   {
    "duration": 5,
    "start_time": "2022-08-17T03:56:20.636Z"
   },
   {
    "duration": 9,
    "start_time": "2022-08-17T03:56:20.643Z"
   },
   {
    "duration": 4,
    "start_time": "2022-08-17T03:56:20.655Z"
   },
   {
    "duration": 37,
    "start_time": "2022-08-17T03:56:20.691Z"
   },
   {
    "duration": 11,
    "start_time": "2022-08-17T03:56:20.730Z"
   },
   {
    "duration": 5,
    "start_time": "2022-08-17T03:56:20.743Z"
   },
   {
    "duration": 45,
    "start_time": "2022-08-17T03:56:20.750Z"
   },
   {
    "duration": 29,
    "start_time": "2022-08-17T03:56:20.797Z"
   },
   {
    "duration": 20,
    "start_time": "2022-08-17T03:56:20.827Z"
   },
   {
    "duration": 4,
    "start_time": "2022-08-17T03:56:20.848Z"
   },
   {
    "duration": 12,
    "start_time": "2022-08-17T03:56:20.854Z"
   },
   {
    "duration": 30,
    "start_time": "2022-08-17T03:56:20.869Z"
   },
   {
    "duration": 4,
    "start_time": "2022-08-17T03:56:20.902Z"
   },
   {
    "duration": 17,
    "start_time": "2022-08-17T03:56:20.908Z"
   },
   {
    "duration": 34,
    "start_time": "2022-08-17T03:56:20.927Z"
   },
   {
    "duration": 59,
    "start_time": "2022-08-17T03:56:20.963Z"
   },
   {
    "duration": 32,
    "start_time": "2022-08-17T03:56:21.024Z"
   },
   {
    "duration": 47,
    "start_time": "2022-08-17T03:56:21.057Z"
   },
   {
    "duration": 29,
    "start_time": "2022-08-17T03:59:14.029Z"
   },
   {
    "duration": 2051,
    "start_time": "2022-08-17T03:59:30.272Z"
   },
   {
    "duration": 1864,
    "start_time": "2022-08-17T04:00:16.645Z"
   },
   {
    "duration": 2032,
    "start_time": "2022-08-17T04:00:29.426Z"
   },
   {
    "duration": 30,
    "start_time": "2022-08-17T04:00:44.830Z"
   },
   {
    "duration": 1524,
    "start_time": "2022-08-17T04:00:54.280Z"
   },
   {
    "duration": 1252,
    "start_time": "2022-08-17T04:01:25.048Z"
   },
   {
    "duration": 1328,
    "start_time": "2022-08-17T04:01:59.248Z"
   },
   {
    "duration": 1578,
    "start_time": "2022-08-17T04:02:11.570Z"
   },
   {
    "duration": 1330,
    "start_time": "2022-08-17T04:02:38.838Z"
   },
   {
    "duration": 30,
    "start_time": "2022-08-17T04:11:32.473Z"
   },
   {
    "duration": 40,
    "start_time": "2022-08-17T04:11:39.659Z"
   },
   {
    "duration": 45,
    "start_time": "2022-08-17T04:12:04.257Z"
   },
   {
    "duration": 2091,
    "start_time": "2022-08-17T04:16:01.258Z"
   },
   {
    "duration": 1508,
    "start_time": "2022-08-17T04:21:17.717Z"
   },
   {
    "duration": 45,
    "start_time": "2022-08-17T04:36:52.584Z"
   },
   {
    "duration": 40,
    "start_time": "2022-08-17T04:39:38.393Z"
   },
   {
    "duration": 41,
    "start_time": "2022-08-17T04:40:05.640Z"
   },
   {
    "duration": 39,
    "start_time": "2022-08-17T04:40:14.846Z"
   },
   {
    "duration": 20,
    "start_time": "2022-08-17T04:49:24.343Z"
   },
   {
    "duration": 20,
    "start_time": "2022-08-17T04:49:35.498Z"
   },
   {
    "duration": 24,
    "start_time": "2022-08-17T04:49:58.071Z"
   },
   {
    "duration": 1342,
    "start_time": "2022-08-17T04:50:46.002Z"
   },
   {
    "duration": 1289,
    "start_time": "2022-08-17T04:50:56.650Z"
   },
   {
    "duration": 1338,
    "start_time": "2022-08-17T04:51:02.467Z"
   },
   {
    "duration": 1305,
    "start_time": "2022-08-17T04:51:18.756Z"
   },
   {
    "duration": 17,
    "start_time": "2022-08-17T04:56:00.450Z"
   },
   {
    "duration": 24,
    "start_time": "2022-08-17T04:56:11.608Z"
   },
   {
    "duration": 18,
    "start_time": "2022-08-17T04:56:16.284Z"
   },
   {
    "duration": 91,
    "start_time": "2022-08-17T04:56:20.942Z"
   },
   {
    "duration": 23,
    "start_time": "2022-08-17T04:56:21.036Z"
   },
   {
    "duration": 39,
    "start_time": "2022-08-17T04:56:21.062Z"
   },
   {
    "duration": 16,
    "start_time": "2022-08-17T04:56:21.104Z"
   },
   {
    "duration": 36,
    "start_time": "2022-08-17T04:56:21.124Z"
   },
   {
    "duration": 3,
    "start_time": "2022-08-17T04:56:21.162Z"
   },
   {
    "duration": 10,
    "start_time": "2022-08-17T04:56:21.192Z"
   },
   {
    "duration": 5,
    "start_time": "2022-08-17T04:56:21.204Z"
   },
   {
    "duration": 8,
    "start_time": "2022-08-17T04:56:21.211Z"
   },
   {
    "duration": 10,
    "start_time": "2022-08-17T04:56:21.221Z"
   },
   {
    "duration": 66,
    "start_time": "2022-08-17T04:56:21.233Z"
   },
   {
    "duration": 12,
    "start_time": "2022-08-17T04:56:21.302Z"
   },
   {
    "duration": 7,
    "start_time": "2022-08-17T04:56:21.315Z"
   },
   {
    "duration": 25,
    "start_time": "2022-08-17T04:56:21.325Z"
   },
   {
    "duration": 31,
    "start_time": "2022-08-17T04:56:21.352Z"
   },
   {
    "duration": 21,
    "start_time": "2022-08-17T04:56:21.392Z"
   },
   {
    "duration": 5,
    "start_time": "2022-08-17T04:56:21.415Z"
   },
   {
    "duration": 16,
    "start_time": "2022-08-17T04:56:21.422Z"
   },
   {
    "duration": 10,
    "start_time": "2022-08-17T04:56:21.440Z"
   },
   {
    "duration": 5,
    "start_time": "2022-08-17T04:56:21.452Z"
   },
   {
    "duration": 37,
    "start_time": "2022-08-17T04:56:21.458Z"
   },
   {
    "duration": 39,
    "start_time": "2022-08-17T04:56:21.497Z"
   },
   {
    "duration": 24,
    "start_time": "2022-08-17T04:56:21.538Z"
   },
   {
    "duration": 38,
    "start_time": "2022-08-17T04:56:21.563Z"
   },
   {
    "duration": 26,
    "start_time": "2022-08-17T04:56:21.603Z"
   },
   {
    "duration": 24,
    "start_time": "2022-08-17T04:56:41.594Z"
   },
   {
    "duration": 27,
    "start_time": "2022-08-17T04:57:26.396Z"
   },
   {
    "duration": 36,
    "start_time": "2022-08-17T05:09:43.483Z"
   },
   {
    "duration": 45,
    "start_time": "2022-08-17T05:13:11.381Z"
   },
   {
    "duration": 14,
    "start_time": "2022-08-17T05:15:25.774Z"
   },
   {
    "duration": 26,
    "start_time": "2022-08-17T05:15:49.188Z"
   },
   {
    "duration": 12,
    "start_time": "2022-08-17T05:16:14.222Z"
   },
   {
    "duration": 22,
    "start_time": "2022-08-17T05:16:25.843Z"
   },
   {
    "duration": 6,
    "start_time": "2022-08-17T05:20:00.439Z"
   },
   {
    "duration": 17,
    "start_time": "2022-08-17T05:20:08.361Z"
   },
   {
    "duration": 21,
    "start_time": "2022-08-17T05:20:19.584Z"
   },
   {
    "duration": 28,
    "start_time": "2022-08-17T05:20:27.817Z"
   },
   {
    "duration": 30,
    "start_time": "2022-08-17T05:20:32.810Z"
   },
   {
    "duration": 24,
    "start_time": "2022-08-17T05:20:39.972Z"
   },
   {
    "duration": 17,
    "start_time": "2022-08-17T05:23:12.425Z"
   },
   {
    "duration": 21,
    "start_time": "2022-08-17T05:23:26.634Z"
   },
   {
    "duration": 23,
    "start_time": "2022-08-17T05:24:36.890Z"
   },
   {
    "duration": 22,
    "start_time": "2022-08-17T05:29:03.693Z"
   },
   {
    "duration": 20,
    "start_time": "2022-08-17T05:29:22.093Z"
   },
   {
    "duration": 102,
    "start_time": "2022-08-17T05:31:30.331Z"
   },
   {
    "duration": 77,
    "start_time": "2022-08-17T05:32:15.499Z"
   },
   {
    "duration": 24,
    "start_time": "2022-08-17T05:32:34.500Z"
   },
   {
    "duration": 23,
    "start_time": "2022-08-17T05:32:46.772Z"
   },
   {
    "duration": 24,
    "start_time": "2022-08-17T05:32:54.213Z"
   },
   {
    "duration": 29,
    "start_time": "2022-08-17T05:33:23.027Z"
   },
   {
    "duration": 25,
    "start_time": "2022-08-17T05:34:36.731Z"
   },
   {
    "duration": 40,
    "start_time": "2022-08-17T05:35:37.984Z"
   },
   {
    "duration": 41,
    "start_time": "2022-08-17T05:38:02.266Z"
   },
   {
    "duration": 54,
    "start_time": "2022-08-17T05:38:29.497Z"
   },
   {
    "duration": 46,
    "start_time": "2022-08-17T05:39:53.744Z"
   },
   {
    "duration": 61,
    "start_time": "2022-08-17T05:40:21.224Z"
   },
   {
    "duration": 56,
    "start_time": "2022-08-17T05:48:07.545Z"
   },
   {
    "duration": 33,
    "start_time": "2022-08-17T05:50:27.072Z"
   },
   {
    "duration": 34,
    "start_time": "2022-08-17T05:50:32.482Z"
   },
   {
    "duration": 56,
    "start_time": "2022-08-17T05:50:46.578Z"
   },
   {
    "duration": 38,
    "start_time": "2022-08-17T05:52:16.470Z"
   },
   {
    "duration": 38,
    "start_time": "2022-08-17T05:52:25.415Z"
   },
   {
    "duration": 36,
    "start_time": "2022-08-17T05:52:33.720Z"
   }
  ],
  "colab": {
   "name": "dpp_template_part2.ipynb",
   "provenance": []
  },
  "kernelspec": {
   "display_name": "Python 3 (ipykernel)",
   "language": "python",
   "name": "python3"
  },
  "language_info": {
   "codemirror_mode": {
    "name": "ipython",
    "version": 3
   },
   "file_extension": ".py",
   "mimetype": "text/x-python",
   "name": "python",
   "nbconvert_exporter": "python",
   "pygments_lexer": "ipython3",
   "version": "3.9.12"
  },
  "toc": {
   "base_numbering": 1,
   "nav_menu": {},
   "number_sections": true,
   "sideBar": true,
   "skip_h1_title": true,
   "title_cell": "Table of Contents",
   "title_sidebar": "Contents",
   "toc_cell": false,
   "toc_position": {},
   "toc_section_display": true,
   "toc_window_display": false
  }
 },
 "nbformat": 4,
 "nbformat_minor": 5
}
