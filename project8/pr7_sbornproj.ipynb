{
 "cells": [
  {
   "cell_type": "markdown",
   "id": "2ef3c4ed",
   "metadata": {},
   "source": [
    "## Анализ текущего уровня потребительской лояльности по результатам NPS-опросов"
   ]
  },
  {
   "cell_type": "markdown",
   "id": "32a7d8eb",
   "metadata": {
    "collapsed": true
   },
   "source": [
    "**Описание проекта**\n",
    "\n",
    "Заказчик этого исследования — большая телекоммуникационная компания, которая оказывает услуги на территории всего СНГ. Перед компанией стоит задача определить текущий уровень потребительской лояльности, или NPS (от англ. Net Promoter Score), среди клиентов из России. \n",
    "\n",
    "Чтобы определить уровень лояльности, клиентам задавали классический вопрос: «Оцените по шкале от 1 до 10 вероятность того, что вы порекомендуете компанию друзьям и знакомым».\n",
    "\n",
    "Компания провела опрос и попросила вас подготовить дашборд с его итогами. Большую базу данных для такой задачи разворачивать не стали и выгрузили данные в SQLite. \n",
    "\n",
    "Чтобы оценить результаты опроса, оценки обычно делят на три группы:\n",
    "\n",
    "- 9-10 баллов — «cторонники» (англ. promoters);\n",
    "- 7-8 баллов — «нейтралы» (англ. passives);\n",
    "- 0-6 баллов — «критики» (англ. detractors).\n",
    "\n",
    "Итоговое значение NPS рассчитывается по формуле: % «сторонников» - % «критиков».\n",
    "\n",
    "Таким образом, значение этого показателя варьируется от -100% (когда все клиенты «критики») до 100% (когда все клиенты лояльны к сервису). Но это крайние случаи, которые редко встретишь на практике. \n",
    "Интерпретируя результаты NPS-опросов, следует также помнить, что само значение мало о чём говорит. Однако исследования показывают, что клиенты-сторонники полезны любому бизнесу. Они чаще других повторно совершают покупки, активнее тестируют обновления и приводят в сервис своих друзей и знакомых. Поэтому NPS остаётся одной из важнейших метрик бизнеса. "
   ]
  },
  {
   "cell_type": "markdown",
   "id": "0ef2d4c9",
   "metadata": {},
   "source": [
    "## Шаг 1. Подключение к базе"
   ]
  },
  {
   "cell_type": "code",
   "execution_count": 1,
   "id": "e244c024",
   "metadata": {
    "scrolled": false
   },
   "outputs": [
    {
     "data": {
      "text/html": [
       "<div>\n",
       "<style scoped>\n",
       "    .dataframe tbody tr th:only-of-type {\n",
       "        vertical-align: middle;\n",
       "    }\n",
       "\n",
       "    .dataframe tbody tr th {\n",
       "        vertical-align: top;\n",
       "    }\n",
       "\n",
       "    .dataframe thead th {\n",
       "        text-align: right;\n",
       "    }\n",
       "</style>\n",
       "<table border=\"1\" class=\"dataframe\">\n",
       "  <thead>\n",
       "    <tr style=\"text-align: right;\">\n",
       "      <th></th>\n",
       "      <th>user_id</th>\n",
       "      <th>lt_day</th>\n",
       "      <th>is_new</th>\n",
       "      <th>age</th>\n",
       "      <th>gender_segment</th>\n",
       "      <th>os_name</th>\n",
       "      <th>cpe_type_name</th>\n",
       "      <th>country</th>\n",
       "      <th>city</th>\n",
       "      <th>age_segment</th>\n",
       "      <th>traffic_segment</th>\n",
       "      <th>lifetime_segment</th>\n",
       "      <th>nps_score</th>\n",
       "      <th>nps_group</th>\n",
       "    </tr>\n",
       "  </thead>\n",
       "  <tbody>\n",
       "    <tr>\n",
       "      <th>0</th>\n",
       "      <td>A001A2</td>\n",
       "      <td>2320</td>\n",
       "      <td>old</td>\n",
       "      <td>45.0</td>\n",
       "      <td>женщина</td>\n",
       "      <td>ANDROID</td>\n",
       "      <td>SMARTPHONE</td>\n",
       "      <td>Россия</td>\n",
       "      <td>Уфа</td>\n",
       "      <td>45-54</td>\n",
       "      <td>1-5</td>\n",
       "      <td>36+</td>\n",
       "      <td>10</td>\n",
       "      <td>promoters</td>\n",
       "    </tr>\n",
       "    <tr>\n",
       "      <th>1</th>\n",
       "      <td>A001WF</td>\n",
       "      <td>2344</td>\n",
       "      <td>old</td>\n",
       "      <td>53.0</td>\n",
       "      <td>мужчина</td>\n",
       "      <td>ANDROID</td>\n",
       "      <td>SMARTPHONE</td>\n",
       "      <td>Россия</td>\n",
       "      <td>Киров</td>\n",
       "      <td>45-54</td>\n",
       "      <td>1-5</td>\n",
       "      <td>36+</td>\n",
       "      <td>10</td>\n",
       "      <td>promoters</td>\n",
       "    </tr>\n",
       "    <tr>\n",
       "      <th>2</th>\n",
       "      <td>A003Q7</td>\n",
       "      <td>467</td>\n",
       "      <td>old</td>\n",
       "      <td>57.0</td>\n",
       "      <td>мужчина</td>\n",
       "      <td>ANDROID</td>\n",
       "      <td>SMARTPHONE</td>\n",
       "      <td>Россия</td>\n",
       "      <td>Москва</td>\n",
       "      <td>55-64</td>\n",
       "      <td>20-25</td>\n",
       "      <td>13-24</td>\n",
       "      <td>10</td>\n",
       "      <td>promoters</td>\n",
       "    </tr>\n",
       "    <tr>\n",
       "      <th>3</th>\n",
       "      <td>A004TB</td>\n",
       "      <td>4190</td>\n",
       "      <td>old</td>\n",
       "      <td>44.0</td>\n",
       "      <td>женщина</td>\n",
       "      <td>IOS</td>\n",
       "      <td>SMARTPHONE</td>\n",
       "      <td>Россия</td>\n",
       "      <td>РостовнаДону</td>\n",
       "      <td>35-44</td>\n",
       "      <td>0.1-1</td>\n",
       "      <td>36+</td>\n",
       "      <td>10</td>\n",
       "      <td>promoters</td>\n",
       "    </tr>\n",
       "    <tr>\n",
       "      <th>4</th>\n",
       "      <td>A004XT</td>\n",
       "      <td>1163</td>\n",
       "      <td>old</td>\n",
       "      <td>24.0</td>\n",
       "      <td>мужчина</td>\n",
       "      <td>ANDROID</td>\n",
       "      <td>SMARTPHONE</td>\n",
       "      <td>Россия</td>\n",
       "      <td>Рязань</td>\n",
       "      <td>16-24</td>\n",
       "      <td>5-10</td>\n",
       "      <td>36+</td>\n",
       "      <td>10</td>\n",
       "      <td>promoters</td>\n",
       "    </tr>\n",
       "  </tbody>\n",
       "</table>\n",
       "</div>"
      ],
      "text/plain": [
       "  user_id  lt_day is_new   age gender_segment  os_name cpe_type_name country  \\\n",
       "0  A001A2    2320    old  45.0        женщина  ANDROID    SMARTPHONE  Россия   \n",
       "1  A001WF    2344    old  53.0        мужчина  ANDROID    SMARTPHONE  Россия   \n",
       "2  A003Q7     467    old  57.0        мужчина  ANDROID    SMARTPHONE  Россия   \n",
       "3  A004TB    4190    old  44.0        женщина      IOS    SMARTPHONE  Россия   \n",
       "4  A004XT    1163    old  24.0        мужчина  ANDROID    SMARTPHONE  Россия   \n",
       "\n",
       "           city age_segment traffic_segment lifetime_segment  nps_score  \\\n",
       "0           Уфа       45-54             1-5              36+         10   \n",
       "1         Киров       45-54             1-5              36+         10   \n",
       "2        Москва       55-64           20-25            13-24         10   \n",
       "3  РостовнаДону       35-44           0.1-1              36+         10   \n",
       "4        Рязань       16-24            5-10              36+         10   \n",
       "\n",
       "   nps_group  \n",
       "0  promoters  \n",
       "1  promoters  \n",
       "2  promoters  \n",
       "3  promoters  \n",
       "4  promoters  "
      ]
     },
     "execution_count": 1,
     "metadata": {},
     "output_type": "execute_result"
    }
   ],
   "source": [
    "import pandas as pd\n",
    "import os\n",
    "from sqlalchemy import create_engine\n",
    "\n",
    "pth1 = 'telecomm_csi.db'\n",
    "pth2 = '/datasets/telecomm_csi.db'\n",
    "\n",
    "if os.path.exists(pth1):\n",
    "    path_to_db = pth1\n",
    "elif os.path.exists(pth2):\n",
    "    path_to_db = pth2\n",
    "else:\n",
    "    print('Something is wrong')\n",
    "\n",
    "engine = create_engine(f'sqlite:///{path_to_db}', echo = False)\n",
    "\n",
    "query = \"\"\"\n",
    "            SELECT u.user_id, \n",
    "                    u.lt_day,\n",
    "                    CASE\n",
    "                        WHEN u.lt_day <= 365 THEN \"new\"\n",
    "                        ELSE \"old\"\n",
    "                    END AS is_new,\n",
    "                    u.age,\n",
    "                    CASE \n",
    "                        WHEN u.gender_segment == 1 THEN \"женщина\"\n",
    "                        WHEN u.gender_segment == 0 THEN  \"мужчина\"\n",
    "                    END AS gender_segment,\n",
    "                    u.os_name,\n",
    "                    u.cpe_type_name,\n",
    "                    l.country,\n",
    "                    l.city,\n",
    "                    SUBSTR(a_g.title, 3) AS age_segment,\n",
    "                    SUBSTR(t_s.title, 3) AS traffic_segment,\n",
    "                    SUBSTR(lt_s.title, 3) AS lifetime_segment,\n",
    "                    u.nps_score,\n",
    "                    CASE\n",
    "                        WHEN u.nps_score >= 9 THEN \"promoters\"\n",
    "                        WHEN u.nps_score == 7 OR u.nps_score == 8 THEN \"passives\"\n",
    "                        ELSE \"detractors\"\n",
    "                    END AS nps_group\n",
    "            FROM\n",
    "                user AS u LEFT JOIN location AS l ON u.location_id = l.location_id\n",
    "                LEFT JOIN age_segment AS a_g ON u.age_gr_id = a_g.age_gr_id\n",
    "                LEFT JOIN traffic_segment AS t_s ON u.tr_gr_id = t_s.tr_gr_id\n",
    "                LEFT JOIN lifetime_segment AS lt_s ON u.lt_gr_id = lt_s.lt_gr_id\n",
    "                WHERE age IS NOT NULL AND gender_segment IS NOT NULL;\n",
    "\"\"\"\n",
    "\n",
    "\n",
    "df = pd.read_sql(query, engine)\n",
    "df.head(5)"
   ]
  },
  {
   "cell_type": "markdown",
   "id": "fbd28c57",
   "metadata": {},
   "source": [
    "Запишем таблицу в файл `df.csv`"
   ]
  },
  {
   "cell_type": "code",
   "execution_count": 2,
   "id": "4f267230",
   "metadata": {},
   "outputs": [
    {
     "name": "stdout",
     "output_type": "stream",
     "text": [
      "<class 'pandas.core.frame.DataFrame'>\n",
      "RangeIndex: 501152 entries, 0 to 501151\n",
      "Data columns (total 14 columns):\n",
      " #   Column            Non-Null Count   Dtype  \n",
      "---  ------            --------------   -----  \n",
      " 0   user_id           501152 non-null  object \n",
      " 1   lt_day            501152 non-null  int64  \n",
      " 2   is_new            501152 non-null  object \n",
      " 3   age               501152 non-null  float64\n",
      " 4   gender_segment    501152 non-null  object \n",
      " 5   os_name           501152 non-null  object \n",
      " 6   cpe_type_name     501152 non-null  object \n",
      " 7   country           501152 non-null  object \n",
      " 8   city              501152 non-null  object \n",
      " 9   age_segment       501152 non-null  object \n",
      " 10  traffic_segment   501152 non-null  object \n",
      " 11  lifetime_segment  501152 non-null  object \n",
      " 12  nps_score         501152 non-null  int64  \n",
      " 13  nps_group         501152 non-null  object \n",
      "dtypes: float64(1), int64(2), object(11)\n",
      "memory usage: 53.5+ MB\n"
     ]
    }
   ],
   "source": [
    "df.to_csv('df.csv', index=False)\n",
    "df.info()"
   ]
  },
  {
   "cell_type": "markdown",
   "id": "2957d346",
   "metadata": {},
   "source": [
    "#### Шаг 3. Создание дашборда в Tableau\n",
    "\n",
    "Построить дашборд, который представит информацию о текущем уровне NPS среди клиентов и покажет, как этот уровень меняется в зависимости от пользовательских признаков. \n",
    "\n",
    "\n",
    "[ССЫЛКА на дашборд](https://public.tableau.com/views/Book1_16722492160430/Dashboard1?:language=en-US&publish=yes&:display_count=n&:origin=viz_share_link)\n",
    "\n"
   ]
  },
  {
   "cell_type": "markdown",
   "id": "12c3ccf5",
   "metadata": {},
   "source": [
    "#### Шаг 4. Ответить на вопросы с помощью дашборда в виде презентации. \n",
    "[ССЫЛКА на презентацию](https://docs.google.com/presentation/d/1OOOxWGsZfRNUpX504TNcygN0dtN0D_8zNK7MK8VE7Js/edit?usp=sharing)"
   ]
  },
  {
   "cell_type": "code",
   "execution_count": null,
   "id": "bb7659b6",
   "metadata": {},
   "outputs": [],
   "source": []
  }
 ],
 "metadata": {
  "ExecuteTimeLog": [
   {
    "duration": 6542,
    "start_time": "2022-12-29T05:18:08.073Z"
   },
   {
    "duration": 554,
    "start_time": "2022-12-29T05:18:14.617Z"
   },
   {
    "duration": 884,
    "start_time": "2022-12-29T05:18:15.173Z"
   },
   {
    "duration": 6354,
    "start_time": "2022-12-29T05:18:16.060Z"
   },
   {
    "duration": 5,
    "start_time": "2022-12-29T05:43:03.026Z"
   },
   {
    "duration": 7101,
    "start_time": "2022-12-30T06:06:35.802Z"
   },
   {
    "duration": 5047,
    "start_time": "2022-12-30T06:06:42.905Z"
   }
  ],
  "kernelspec": {
   "display_name": "Python 3 (ipykernel)",
   "language": "python",
   "name": "python3"
  },
  "language_info": {
   "codemirror_mode": {
    "name": "ipython",
    "version": 3
   },
   "file_extension": ".py",
   "mimetype": "text/x-python",
   "name": "python",
   "nbconvert_exporter": "python",
   "pygments_lexer": "ipython3",
   "version": "3.9.12"
  },
  "toc": {
   "base_numbering": 1,
   "nav_menu": {},
   "number_sections": true,
   "sideBar": true,
   "skip_h1_title": true,
   "title_cell": "Table of Contents",
   "title_sidebar": "Contents",
   "toc_cell": false,
   "toc_position": {},
   "toc_section_display": true,
   "toc_window_display": false
  }
 },
 "nbformat": 4,
 "nbformat_minor": 5
}
