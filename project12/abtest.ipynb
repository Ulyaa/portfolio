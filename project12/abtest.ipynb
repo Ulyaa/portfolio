{
 "cells": [
  {
   "cell_type": "markdown",
   "metadata": {},
   "source": [
    "# Приоритизация гипотезы, запуск A/B-теста и анализ результатов. "
   ]
  },
  {
   "cell_type": "markdown",
   "metadata": {},
   "source": [
    "**Описание проекта:**\n",
    "\n",
    "В крупном интернет-магазине, перед аналитиком стоит задача приоритизировать гипотезы, подготовленные аналитиком вместе с отделом маркетинга для увеличения выручки, а также запустить A/B-тест и проанализировать результаты."
   ]
  },
  {
   "cell_type": "markdown",
   "metadata": {},
   "source": [
    "**1 часть. Приоритизация гипотез.**\n",
    "\n",
    "В файле `/datasets/hypothesis.csv` 9 гипотез по увеличению выручки интернет-магазина с указанными параметрами Reach, Impact, Confidence, Effort.\n",
    "\n",
    "\n",
    "- Hypothesis — краткое описание гипотезы;\n",
    "- Reach — охват пользователей по 10-балльной шкале;\n",
    "- Impact — влияние на пользователей по 10-балльной шкале;\n",
    "- Confidence — уверенность в гипотезе по 10-балльной шкале;\n",
    "- Efforts — затраты ресурсов на проверку гипотезы по 10-балльной шкале. Чем больше значение Efforts, тем дороже проверка гипотезы.\n",
    "\n",
    "\n",
    "Задачи\n",
    "- Применить фреймворк ICE для приоритизации гипотез. Отсортируйте их по убыванию приоритета.\n",
    "- Применить фреймворк RICE для приоритизации гипотез. Отсортируйте их по убыванию приоритета.\n",
    "- Указать, как изменилась приоритизация гипотез при применении RICE вместо ICE. Объясните, почему так произошло.\n",
    "\n",
    "\n",
    "**2 часть. Анализ A/B-теста**\n",
    "\n",
    "Вы провели A/B-тест и получили результаты, которые описаны в файлах /datasets/orders.csv и /datasets/visitors.csv.\n",
    "\n",
    "Задачи\n",
    "- Проанализировать A/B-тест:\n",
    "- Построить график кумулятивной выручки по группам. Сделать выводы и предположения.\n",
    "- Построить график кумулятивного среднего чека по группам. Сделать выводы и предположения.\n",
    "- Построить график относительного изменения кумулятивного среднего чека группы B к группе A. Сделать выводы и предположения.\n",
    "- Построить график кумулятивного среднего количества заказов на посетителя по группам. Сделать выводы и предположения.\n",
    "- Построить график относительного изменения кумулятивного среднего количества заказов на посетителя группы B к группе A. Сделать выводы и предположения.\n",
    "- Построить точечный график количества заказов по пользователям. Сделать выводы и предположения.\n",
    "- Посчитать 95-й и 99-й перцентили количества заказов на пользователя. Выбрать границу для определения аномальных пользователей.\n",
    "- Построить точечный график стоимостей заказов. Сделать выводы и предположения.\n",
    "- Посчитать 95-й и 99-й перцентили стоимости заказов. Выбрать границу для определения аномальных заказов.\n",
    "- Посчитать статистическую значимость различий в среднем количестве заказов на посетителя между группами по «сырым» данным. Сделать выводы и предположения.\n",
    "- Посчитать статистическую значимость различий в среднем чеке заказа между группами по «сырым» данным. Сделать выводы и предположения.\n",
    "- Посчитать статистическую значимость различий в среднем количестве заказов на посетителя между группами по «очищенным» данным. Сделать выводы и предположения.\n",
    "- Посчитать статистическую значимость различий в среднем чеке заказа между группами по «очищенным» данным. Сделать выводы и предположения.\n",
    "\n",
    "Принять решение по результатам теста и Объяснить его. Варианты решений:\n",
    "\n",
    "1. Остановить тест, зафиксировать победу одной из групп.\n",
    "2. Остановить тест, зафиксировать отсутствие различий между группами.\n",
    "3. Продолжить тест."
   ]
  },
  {
   "cell_type": "markdown",
   "metadata": {},
   "source": [
    "## часть. Приоритизация гипотез."
   ]
  },
  {
   "cell_type": "markdown",
   "metadata": {},
   "source": [
    "Для начала пропишем все используемые библиотеки, считаем данные, присвоим их `data` и выведем на экран, убрав при этом ограничение на ширину вывода столбцов\n"
   ]
  },
  {
   "cell_type": "code",
   "execution_count": 1,
   "metadata": {},
   "outputs": [],
   "source": [
    "import pandas as pd\n",
    "import datetime as dt\n",
    "import matplotlib.pyplot as plt\n",
    "import numpy as np\n",
    "from pandas.plotting import register_matplotlib_converters\n",
    "\n",
    "import scipy.stats as stats\n",
    "\n",
    "\n",
    "pd.options.display.float_format = '{:,.2f}'.format \n",
    "import warnings\n",
    "# конвертеры, которые позволяют использовать типы pandas в matplotlib  \n",
    "register_matplotlib_converters()"
   ]
  },
  {
   "cell_type": "code",
   "execution_count": 2,
   "metadata": {},
   "outputs": [],
   "source": [
    "pd.set_option('display.max_colwidth', None)"
   ]
  },
  {
   "cell_type": "code",
   "execution_count": 3,
   "metadata": {},
   "outputs": [
    {
     "data": {
      "text/html": [
       "<div>\n",
       "<style scoped>\n",
       "    .dataframe tbody tr th:only-of-type {\n",
       "        vertical-align: middle;\n",
       "    }\n",
       "\n",
       "    .dataframe tbody tr th {\n",
       "        vertical-align: top;\n",
       "    }\n",
       "\n",
       "    .dataframe thead th {\n",
       "        text-align: right;\n",
       "    }\n",
       "</style>\n",
       "<table border=\"1\" class=\"dataframe\">\n",
       "  <thead>\n",
       "    <tr style=\"text-align: right;\">\n",
       "      <th></th>\n",
       "      <th>Hypothesis</th>\n",
       "      <th>Reach</th>\n",
       "      <th>Impact</th>\n",
       "      <th>Confidence</th>\n",
       "      <th>Efforts</th>\n",
       "    </tr>\n",
       "  </thead>\n",
       "  <tbody>\n",
       "    <tr>\n",
       "      <th>0</th>\n",
       "      <td>Добавить два новых канала привлечения трафика, что позволит привлекать на 30% больше пользователей</td>\n",
       "      <td>3</td>\n",
       "      <td>10</td>\n",
       "      <td>8</td>\n",
       "      <td>6</td>\n",
       "    </tr>\n",
       "    <tr>\n",
       "      <th>1</th>\n",
       "      <td>Запустить собственную службу доставки, что сократит срок доставки заказов</td>\n",
       "      <td>2</td>\n",
       "      <td>5</td>\n",
       "      <td>4</td>\n",
       "      <td>10</td>\n",
       "    </tr>\n",
       "    <tr>\n",
       "      <th>2</th>\n",
       "      <td>Добавить блоки рекомендаций товаров на сайт интернет магазина, чтобы повысить конверсию и средний чек заказа</td>\n",
       "      <td>8</td>\n",
       "      <td>3</td>\n",
       "      <td>7</td>\n",
       "      <td>3</td>\n",
       "    </tr>\n",
       "    <tr>\n",
       "      <th>3</th>\n",
       "      <td>Изменить структура категорий, что увеличит конверсию, т.к. пользователи быстрее найдут нужный товар</td>\n",
       "      <td>8</td>\n",
       "      <td>3</td>\n",
       "      <td>3</td>\n",
       "      <td>8</td>\n",
       "    </tr>\n",
       "    <tr>\n",
       "      <th>4</th>\n",
       "      <td>Изменить цвет фона главной страницы, чтобы увеличить вовлеченность пользователей</td>\n",
       "      <td>3</td>\n",
       "      <td>1</td>\n",
       "      <td>1</td>\n",
       "      <td>1</td>\n",
       "    </tr>\n",
       "    <tr>\n",
       "      <th>5</th>\n",
       "      <td>Добавить страницу отзывов клиентов о магазине, что позволит увеличить количество заказов</td>\n",
       "      <td>3</td>\n",
       "      <td>2</td>\n",
       "      <td>2</td>\n",
       "      <td>3</td>\n",
       "    </tr>\n",
       "    <tr>\n",
       "      <th>6</th>\n",
       "      <td>Показать на главной странице баннеры с актуальными акциями и распродажами, чтобы увеличить конверсию</td>\n",
       "      <td>5</td>\n",
       "      <td>3</td>\n",
       "      <td>8</td>\n",
       "      <td>3</td>\n",
       "    </tr>\n",
       "    <tr>\n",
       "      <th>7</th>\n",
       "      <td>Добавить форму подписки на все основные страницы, чтобы собрать базу клиентов для email-рассылок</td>\n",
       "      <td>10</td>\n",
       "      <td>7</td>\n",
       "      <td>8</td>\n",
       "      <td>5</td>\n",
       "    </tr>\n",
       "    <tr>\n",
       "      <th>8</th>\n",
       "      <td>Запустить акцию, дающую скидку на товар в день рождения</td>\n",
       "      <td>1</td>\n",
       "      <td>9</td>\n",
       "      <td>9</td>\n",
       "      <td>5</td>\n",
       "    </tr>\n",
       "  </tbody>\n",
       "</table>\n",
       "</div>"
      ],
      "text/plain": [
       "                                                                                                     Hypothesis  \\\n",
       "0            Добавить два новых канала привлечения трафика, что позволит привлекать на 30% больше пользователей   \n",
       "1                                     Запустить собственную службу доставки, что сократит срок доставки заказов   \n",
       "2  Добавить блоки рекомендаций товаров на сайт интернет магазина, чтобы повысить конверсию и средний чек заказа   \n",
       "3           Изменить структура категорий, что увеличит конверсию, т.к. пользователи быстрее найдут нужный товар   \n",
       "4                              Изменить цвет фона главной страницы, чтобы увеличить вовлеченность пользователей   \n",
       "5                      Добавить страницу отзывов клиентов о магазине, что позволит увеличить количество заказов   \n",
       "6          Показать на главной странице баннеры с актуальными акциями и распродажами, чтобы увеличить конверсию   \n",
       "7              Добавить форму подписки на все основные страницы, чтобы собрать базу клиентов для email-рассылок   \n",
       "8                                                       Запустить акцию, дающую скидку на товар в день рождения   \n",
       "\n",
       "   Reach  Impact  Confidence  Efforts  \n",
       "0      3      10           8        6  \n",
       "1      2       5           4       10  \n",
       "2      8       3           7        3  \n",
       "3      8       3           3        8  \n",
       "4      3       1           1        1  \n",
       "5      3       2           2        3  \n",
       "6      5       3           8        3  \n",
       "7     10       7           8        5  \n",
       "8      1       9           9        5  "
      ]
     },
     "metadata": {},
     "output_type": "display_data"
    }
   ],
   "source": [
    "data = pd.read_csv('/datasets/hypothesis.csv')\n",
    "display(data)"
   ]
  },
  {
   "cell_type": "markdown",
   "metadata": {},
   "source": [
    "Применяем фреймворк ICE для приоритизации гипотез и выводим список отсортированных гипотез по убыванию приоритета."
   ]
  },
  {
   "cell_type": "code",
   "execution_count": 4,
   "metadata": {
    "scrolled": false
   },
   "outputs": [
    {
     "data": {
      "text/html": [
       "<div>\n",
       "<style scoped>\n",
       "    .dataframe tbody tr th:only-of-type {\n",
       "        vertical-align: middle;\n",
       "    }\n",
       "\n",
       "    .dataframe tbody tr th {\n",
       "        vertical-align: top;\n",
       "    }\n",
       "\n",
       "    .dataframe thead th {\n",
       "        text-align: right;\n",
       "    }\n",
       "</style>\n",
       "<table border=\"1\" class=\"dataframe\">\n",
       "  <thead>\n",
       "    <tr style=\"text-align: right;\">\n",
       "      <th></th>\n",
       "      <th>ICE</th>\n",
       "      <th>Hypothesis</th>\n",
       "    </tr>\n",
       "  </thead>\n",
       "  <tbody>\n",
       "    <tr>\n",
       "      <th>8</th>\n",
       "      <td>16.20</td>\n",
       "      <td>Запустить акцию, дающую скидку на товар в день рождения</td>\n",
       "    </tr>\n",
       "    <tr>\n",
       "      <th>0</th>\n",
       "      <td>13.33</td>\n",
       "      <td>Добавить два новых канала привлечения трафика, что позволит привлекать на 30% больше пользователей</td>\n",
       "    </tr>\n",
       "    <tr>\n",
       "      <th>7</th>\n",
       "      <td>11.20</td>\n",
       "      <td>Добавить форму подписки на все основные страницы, чтобы собрать базу клиентов для email-рассылок</td>\n",
       "    </tr>\n",
       "    <tr>\n",
       "      <th>6</th>\n",
       "      <td>8.00</td>\n",
       "      <td>Показать на главной странице баннеры с актуальными акциями и распродажами, чтобы увеличить конверсию</td>\n",
       "    </tr>\n",
       "    <tr>\n",
       "      <th>2</th>\n",
       "      <td>7.00</td>\n",
       "      <td>Добавить блоки рекомендаций товаров на сайт интернет магазина, чтобы повысить конверсию и средний чек заказа</td>\n",
       "    </tr>\n",
       "    <tr>\n",
       "      <th>1</th>\n",
       "      <td>2.00</td>\n",
       "      <td>Запустить собственную службу доставки, что сократит срок доставки заказов</td>\n",
       "    </tr>\n",
       "    <tr>\n",
       "      <th>5</th>\n",
       "      <td>1.33</td>\n",
       "      <td>Добавить страницу отзывов клиентов о магазине, что позволит увеличить количество заказов</td>\n",
       "    </tr>\n",
       "    <tr>\n",
       "      <th>3</th>\n",
       "      <td>1.12</td>\n",
       "      <td>Изменить структура категорий, что увеличит конверсию, т.к. пользователи быстрее найдут нужный товар</td>\n",
       "    </tr>\n",
       "    <tr>\n",
       "      <th>4</th>\n",
       "      <td>1.00</td>\n",
       "      <td>Изменить цвет фона главной страницы, чтобы увеличить вовлеченность пользователей</td>\n",
       "    </tr>\n",
       "  </tbody>\n",
       "</table>\n",
       "</div>"
      ],
      "text/plain": [
       "    ICE  \\\n",
       "8 16.20   \n",
       "0 13.33   \n",
       "7 11.20   \n",
       "6  8.00   \n",
       "2  7.00   \n",
       "1  2.00   \n",
       "5  1.33   \n",
       "3  1.12   \n",
       "4  1.00   \n",
       "\n",
       "                                                                                                     Hypothesis  \n",
       "8                                                       Запустить акцию, дающую скидку на товар в день рождения  \n",
       "0            Добавить два новых канала привлечения трафика, что позволит привлекать на 30% больше пользователей  \n",
       "7              Добавить форму подписки на все основные страницы, чтобы собрать базу клиентов для email-рассылок  \n",
       "6          Показать на главной странице баннеры с актуальными акциями и распродажами, чтобы увеличить конверсию  \n",
       "2  Добавить блоки рекомендаций товаров на сайт интернет магазина, чтобы повысить конверсию и средний чек заказа  \n",
       "1                                     Запустить собственную службу доставки, что сократит срок доставки заказов  \n",
       "5                      Добавить страницу отзывов клиентов о магазине, что позволит увеличить количество заказов  \n",
       "3           Изменить структура категорий, что увеличит конверсию, т.к. пользователи быстрее найдут нужный товар  \n",
       "4                              Изменить цвет фона главной страницы, чтобы увеличить вовлеченность пользователей  "
      ]
     },
     "metadata": {},
     "output_type": "display_data"
    }
   ],
   "source": [
    "data['ICE'] = data['Impact'] * data['Confidence'] / data['Efforts']\n",
    "display(data.sort_values('ICE', ascending = False)[{'Hypothesis', 'ICE'}])\n"
   ]
  },
  {
   "cell_type": "code",
   "execution_count": 5,
   "metadata": {},
   "outputs": [
    {
     "data": {
      "image/png": "[encoded data removed]",
      "text/plain": [
       "<Figure size 432x288 with 1 Axes>"
      ]
     },
     "metadata": {
      "needs_background": "light"
     },
     "output_type": "display_data"
    }
   ],
   "source": [
    "fig = data.sort_values('ICE', ascending = False)[{'Hypothesis', 'ICE'}].set_index('Hypothesis').plot( kind= 'barh')\n",
    "fig.set_title('Столбчатая диаграмма приоритизации гипотез по ICE\\n')\n",
    "fig.set_ylabel('Гипотезы')\n",
    "fig.set_xlabel('Приоритет')\n",
    "plt.show()"
   ]
  },
  {
   "cell_type": "markdown",
   "metadata": {},
   "source": [
    "По результатам, наиболее перспективные гипотезы по ICE :8-я гипотеза самая перспективная \"Запустить акцию, дающую скидку на товар в день рождения\", далее идут 0, 7, 6, 2. Остальные наименее перспективные."
   ]
  },
  {
   "cell_type": "markdown",
   "metadata": {},
   "source": [
    "Применяем фреймворк RICE для приоритизации гипотез и выводим список отсортированных гипотез по убыванию приоритета."
   ]
  },
  {
   "cell_type": "code",
   "execution_count": 6,
   "metadata": {
    "scrolled": true
   },
   "outputs": [
    {
     "data": {
      "text/html": [
       "<div>\n",
       "<style scoped>\n",
       "    .dataframe tbody tr th:only-of-type {\n",
       "        vertical-align: middle;\n",
       "    }\n",
       "\n",
       "    .dataframe tbody tr th {\n",
       "        vertical-align: top;\n",
       "    }\n",
       "\n",
       "    .dataframe thead th {\n",
       "        text-align: right;\n",
       "    }\n",
       "</style>\n",
       "<table border=\"1\" class=\"dataframe\">\n",
       "  <thead>\n",
       "    <tr style=\"text-align: right;\">\n",
       "      <th></th>\n",
       "      <th>Hypothesis</th>\n",
       "      <th>RICE</th>\n",
       "    </tr>\n",
       "  </thead>\n",
       "  <tbody>\n",
       "    <tr>\n",
       "      <th>7</th>\n",
       "      <td>Добавить форму подписки на все основные страницы, чтобы собрать базу клиентов для email-рассылок</td>\n",
       "      <td>112.00</td>\n",
       "    </tr>\n",
       "    <tr>\n",
       "      <th>2</th>\n",
       "      <td>Добавить блоки рекомендаций товаров на сайт интернет магазина, чтобы повысить конверсию и средний чек заказа</td>\n",
       "      <td>56.00</td>\n",
       "    </tr>\n",
       "    <tr>\n",
       "      <th>0</th>\n",
       "      <td>Добавить два новых канала привлечения трафика, что позволит привлекать на 30% больше пользователей</td>\n",
       "      <td>40.00</td>\n",
       "    </tr>\n",
       "    <tr>\n",
       "      <th>6</th>\n",
       "      <td>Показать на главной странице баннеры с актуальными акциями и распродажами, чтобы увеличить конверсию</td>\n",
       "      <td>40.00</td>\n",
       "    </tr>\n",
       "    <tr>\n",
       "      <th>8</th>\n",
       "      <td>Запустить акцию, дающую скидку на товар в день рождения</td>\n",
       "      <td>16.20</td>\n",
       "    </tr>\n",
       "    <tr>\n",
       "      <th>3</th>\n",
       "      <td>Изменить структура категорий, что увеличит конверсию, т.к. пользователи быстрее найдут нужный товар</td>\n",
       "      <td>9.00</td>\n",
       "    </tr>\n",
       "    <tr>\n",
       "      <th>1</th>\n",
       "      <td>Запустить собственную службу доставки, что сократит срок доставки заказов</td>\n",
       "      <td>4.00</td>\n",
       "    </tr>\n",
       "    <tr>\n",
       "      <th>5</th>\n",
       "      <td>Добавить страницу отзывов клиентов о магазине, что позволит увеличить количество заказов</td>\n",
       "      <td>4.00</td>\n",
       "    </tr>\n",
       "    <tr>\n",
       "      <th>4</th>\n",
       "      <td>Изменить цвет фона главной страницы, чтобы увеличить вовлеченность пользователей</td>\n",
       "      <td>3.00</td>\n",
       "    </tr>\n",
       "  </tbody>\n",
       "</table>\n",
       "</div>"
      ],
      "text/plain": [
       "                                                                                                     Hypothesis  \\\n",
       "7              Добавить форму подписки на все основные страницы, чтобы собрать базу клиентов для email-рассылок   \n",
       "2  Добавить блоки рекомендаций товаров на сайт интернет магазина, чтобы повысить конверсию и средний чек заказа   \n",
       "0            Добавить два новых канала привлечения трафика, что позволит привлекать на 30% больше пользователей   \n",
       "6          Показать на главной странице баннеры с актуальными акциями и распродажами, чтобы увеличить конверсию   \n",
       "8                                                       Запустить акцию, дающую скидку на товар в день рождения   \n",
       "3           Изменить структура категорий, что увеличит конверсию, т.к. пользователи быстрее найдут нужный товар   \n",
       "1                                     Запустить собственную службу доставки, что сократит срок доставки заказов   \n",
       "5                      Добавить страницу отзывов клиентов о магазине, что позволит увеличить количество заказов   \n",
       "4                              Изменить цвет фона главной страницы, чтобы увеличить вовлеченность пользователей   \n",
       "\n",
       "    RICE  \n",
       "7 112.00  \n",
       "2  56.00  \n",
       "0  40.00  \n",
       "6  40.00  \n",
       "8  16.20  \n",
       "3   9.00  \n",
       "1   4.00  \n",
       "5   4.00  \n",
       "4   3.00  "
      ]
     },
     "metadata": {},
     "output_type": "display_data"
    }
   ],
   "source": [
    "data['RICE'] = data['Reach'] * data['Impact'] * data['Confidence']/data['Efforts']\n",
    "\n",
    "display(data.sort_values('RICE', ascending = False)[{'Hypothesis', 'RICE'}])"
   ]
  },
  {
   "cell_type": "code",
   "execution_count": 7,
   "metadata": {},
   "outputs": [
    {
     "data": {
      "image/png": "[encoded data removed]",
      "text/plain": [
       "<Figure size 432x288 with 1 Axes>"
      ]
     },
     "metadata": {
      "needs_background": "light"
     },
     "output_type": "display_data"
    }
   ],
   "source": [
    "fig = data.sort_values('RICE', ascending = False)[{'Hypothesis', 'RICE'}].set_index('Hypothesis').plot( kind= 'barh')\n",
    "fig.set_title('Столбчатая диаграмма приоритизации гипотез по RICE\\n')\n",
    "fig.set_ylabel('Гипотезы')\n",
    "fig.set_xlabel('Приоритет')\n",
    "plt.show()"
   ]
  },
  {
   "cell_type": "markdown",
   "metadata": {},
   "source": [
    "По RICE гипотеза 7 \"Добавить форму подписки на все основные страницы, чтобы собрать базу клиентов для email-рассылок\" стала наиболее перспективным чем остальные, так как значение Reach - 10, то есть охват пользователей у данной гипотезы на все 10 баллов из 10ти. А также, по графикам видим, что те же самые 5 гипотез оказались более перспективными по фреймворкам `ICE` и `RICE` в отличие от остальных 4-х."
   ]
  },
  {
   "cell_type": "markdown",
   "metadata": {},
   "source": [
    "\n",
    "## часть. Анализ A/B-теста\n",
    "Вы провели A/B-тест и получили результаты, которые описаны в файлах /datasets/orders.csv и /datasets/visitors.csv.\n",
    "\n",
    "Задачи\n",
    "- Проанализировать A/B-тест:\n",
    "- Построить график кумулятивной выручки по группам. Сделать выводы и предположения.\n",
    "- Построить график кумулятивного среднего чека по группам. Сделать выводы и предположения.\n",
    "- Построить график относительного изменения кумулятивного среднего чека группы B к группе A. Сделать выводы и предположения.\n",
    "- Построить график кумулятивного среднего количества заказов на посетителя по группам. Сделать выводы и предположения.\n",
    "- Построить график относительного изменения кумулятивного среднего количества заказов на посетителя группы B к группе A. Сделать выводы и предположения.\n",
    "- Построить точечный график количества заказов по пользователям. Сделать выводы и предположения.\n",
    "- Посчитать 95-й и 99-й перцентили количества заказов на пользователя. Выбрать границу для определения аномальных пользователей.\n",
    "- Построить точечный график стоимостей заказов. Сделать выводы и предположения.\n",
    "- Посчитать 95-й и 99-й перцентили стоимости заказов. Выбрать границу для определения аномальных заказов.\n",
    "- Посчитать статистическую значимость различий в среднем количестве заказов на посетителя между группами по «сырым» данным. Сделать выводы и предположения.\n",
    "- Посчитать статистическую значимость различий в среднем чеке заказа между группами по «сырым» данным. Сделать выводы и предположения.\n",
    "- Посчитать статистическую значимость различий в среднем количестве заказов на посетителя между группами по «очищенным» данным. Сделать выводы и предположения.\n",
    "- Посчитать статистическую значимость различий в среднем чеке заказа между группами по «очищенным» данным. Сделать выводы и предположения.\n",
    "\n",
    "Принять решение по результатам теста и Объяснить его. Варианты решений:\n",
    "\n",
    "1. Остановить тест, зафиксировать победу одной из групп.\n",
    "2. Остановить тест, зафиксировать отсутствие различий между группами.\n",
    "3. Продолжить тест."
   ]
  },
  {
   "cell_type": "markdown",
   "metadata": {},
   "source": [
    "Данные для второй части\n",
    "\n",
    "Файл /datasets/orders.csv.\n",
    "\n",
    "- transactionId — идентификатор заказа;\n",
    "- visitorId — идентификатор пользователя, совершившего заказ;\n",
    "- date — дата, когда был совершён заказ;\n",
    "- revenue — выручка заказа;\n",
    "- group — группа A/B-теста, в которую попал заказ.\n",
    "\n",
    "Файл /datasets/visitors.csv.\n",
    "- date — дата;\n",
    "- group — группа A/B-теста;\n",
    "- visitors — количество пользователей в указанную дату в указанной группе A/B-теста"
   ]
  },
  {
   "cell_type": "markdown",
   "metadata": {},
   "source": [
    "### Проанализировать A/B-тест:\n",
    "Для начала считаем, присвоим `orders` и `visitors` соответственно, а также выведем основную информацию по данным"
   ]
  },
  {
   "cell_type": "code",
   "execution_count": 8,
   "metadata": {},
   "outputs": [
    {
     "data": {
      "text/html": [
       "<div>\n",
       "<style scoped>\n",
       "    .dataframe tbody tr th:only-of-type {\n",
       "        vertical-align: middle;\n",
       "    }\n",
       "\n",
       "    .dataframe tbody tr th {\n",
       "        vertical-align: top;\n",
       "    }\n",
       "\n",
       "    .dataframe thead th {\n",
       "        text-align: right;\n",
       "    }\n",
       "</style>\n",
       "<table border=\"1\" class=\"dataframe\">\n",
       "  <thead>\n",
       "    <tr style=\"text-align: right;\">\n",
       "      <th></th>\n",
       "      <th>transactionId</th>\n",
       "      <th>visitorId</th>\n",
       "      <th>date</th>\n",
       "      <th>revenue</th>\n",
       "      <th>group</th>\n",
       "    </tr>\n",
       "  </thead>\n",
       "  <tbody>\n",
       "    <tr>\n",
       "      <th>0</th>\n",
       "      <td>3667963787</td>\n",
       "      <td>3312258926</td>\n",
       "      <td>2019-08-15</td>\n",
       "      <td>1650</td>\n",
       "      <td>B</td>\n",
       "    </tr>\n",
       "    <tr>\n",
       "      <th>1</th>\n",
       "      <td>2804400009</td>\n",
       "      <td>3642806036</td>\n",
       "      <td>2019-08-15</td>\n",
       "      <td>730</td>\n",
       "      <td>B</td>\n",
       "    </tr>\n",
       "    <tr>\n",
       "      <th>2</th>\n",
       "      <td>2961555356</td>\n",
       "      <td>4069496402</td>\n",
       "      <td>2019-08-15</td>\n",
       "      <td>400</td>\n",
       "      <td>A</td>\n",
       "    </tr>\n",
       "    <tr>\n",
       "      <th>3</th>\n",
       "      <td>3797467345</td>\n",
       "      <td>1196621759</td>\n",
       "      <td>2019-08-15</td>\n",
       "      <td>9759</td>\n",
       "      <td>B</td>\n",
       "    </tr>\n",
       "    <tr>\n",
       "      <th>4</th>\n",
       "      <td>2282983706</td>\n",
       "      <td>2322279887</td>\n",
       "      <td>2019-08-15</td>\n",
       "      <td>2308</td>\n",
       "      <td>B</td>\n",
       "    </tr>\n",
       "    <tr>\n",
       "      <th>...</th>\n",
       "      <td>...</td>\n",
       "      <td>...</td>\n",
       "      <td>...</td>\n",
       "      <td>...</td>\n",
       "      <td>...</td>\n",
       "    </tr>\n",
       "    <tr>\n",
       "      <th>1192</th>\n",
       "      <td>2662137336</td>\n",
       "      <td>3733762160</td>\n",
       "      <td>2019-08-14</td>\n",
       "      <td>6490</td>\n",
       "      <td>B</td>\n",
       "    </tr>\n",
       "    <tr>\n",
       "      <th>1193</th>\n",
       "      <td>2203539145</td>\n",
       "      <td>370388673</td>\n",
       "      <td>2019-08-14</td>\n",
       "      <td>3190</td>\n",
       "      <td>A</td>\n",
       "    </tr>\n",
       "    <tr>\n",
       "      <th>1194</th>\n",
       "      <td>1807773912</td>\n",
       "      <td>573423106</td>\n",
       "      <td>2019-08-14</td>\n",
       "      <td>10550</td>\n",
       "      <td>A</td>\n",
       "    </tr>\n",
       "    <tr>\n",
       "      <th>1195</th>\n",
       "      <td>1947021204</td>\n",
       "      <td>1614305549</td>\n",
       "      <td>2019-08-14</td>\n",
       "      <td>100</td>\n",
       "      <td>A</td>\n",
       "    </tr>\n",
       "    <tr>\n",
       "      <th>1196</th>\n",
       "      <td>3936777065</td>\n",
       "      <td>2108080724</td>\n",
       "      <td>2019-08-15</td>\n",
       "      <td>202740</td>\n",
       "      <td>B</td>\n",
       "    </tr>\n",
       "  </tbody>\n",
       "</table>\n",
       "<p>1197 rows × 5 columns</p>\n",
       "</div>"
      ],
      "text/plain": [
       "      transactionId   visitorId        date  revenue group\n",
       "0        3667963787  3312258926  2019-08-15     1650     B\n",
       "1        2804400009  3642806036  2019-08-15      730     B\n",
       "2        2961555356  4069496402  2019-08-15      400     A\n",
       "3        3797467345  1196621759  2019-08-15     9759     B\n",
       "4        2282983706  2322279887  2019-08-15     2308     B\n",
       "...             ...         ...         ...      ...   ...\n",
       "1192     2662137336  3733762160  2019-08-14     6490     B\n",
       "1193     2203539145   370388673  2019-08-14     3190     A\n",
       "1194     1807773912   573423106  2019-08-14    10550     A\n",
       "1195     1947021204  1614305549  2019-08-14      100     A\n",
       "1196     3936777065  2108080724  2019-08-15   202740     B\n",
       "\n",
       "[1197 rows x 5 columns]"
      ]
     },
     "metadata": {},
     "output_type": "display_data"
    },
    {
     "name": "stdout",
     "output_type": "stream",
     "text": [
      "<class 'pandas.core.frame.DataFrame'>\n",
      "RangeIndex: 1197 entries, 0 to 1196\n",
      "Data columns (total 5 columns):\n",
      " #   Column         Non-Null Count  Dtype \n",
      "---  ------         --------------  ----- \n",
      " 0   transactionId  1197 non-null   int64 \n",
      " 1   visitorId      1197 non-null   int64 \n",
      " 2   date           1197 non-null   object\n",
      " 3   revenue        1197 non-null   int64 \n",
      " 4   group          1197 non-null   object\n",
      "dtypes: int64(3), object(2)\n",
      "memory usage: 46.9+ KB\n"
     ]
    }
   ],
   "source": [
    "orders = pd.read_csv('/datasets/orders.csv')\n",
    "display(orders)\n",
    "orders.info()"
   ]
  },
  {
   "cell_type": "code",
   "execution_count": 9,
   "metadata": {},
   "outputs": [
    {
     "data": {
      "text/html": [
       "<div>\n",
       "<style scoped>\n",
       "    .dataframe tbody tr th:only-of-type {\n",
       "        vertical-align: middle;\n",
       "    }\n",
       "\n",
       "    .dataframe tbody tr th {\n",
       "        vertical-align: top;\n",
       "    }\n",
       "\n",
       "    .dataframe thead th {\n",
       "        text-align: right;\n",
       "    }\n",
       "</style>\n",
       "<table border=\"1\" class=\"dataframe\">\n",
       "  <thead>\n",
       "    <tr style=\"text-align: right;\">\n",
       "      <th></th>\n",
       "      <th>date</th>\n",
       "      <th>group</th>\n",
       "      <th>visitors</th>\n",
       "    </tr>\n",
       "  </thead>\n",
       "  <tbody>\n",
       "    <tr>\n",
       "      <th>0</th>\n",
       "      <td>2019-08-01</td>\n",
       "      <td>A</td>\n",
       "      <td>719</td>\n",
       "    </tr>\n",
       "    <tr>\n",
       "      <th>1</th>\n",
       "      <td>2019-08-02</td>\n",
       "      <td>A</td>\n",
       "      <td>619</td>\n",
       "    </tr>\n",
       "    <tr>\n",
       "      <th>2</th>\n",
       "      <td>2019-08-03</td>\n",
       "      <td>A</td>\n",
       "      <td>507</td>\n",
       "    </tr>\n",
       "    <tr>\n",
       "      <th>3</th>\n",
       "      <td>2019-08-04</td>\n",
       "      <td>A</td>\n",
       "      <td>717</td>\n",
       "    </tr>\n",
       "    <tr>\n",
       "      <th>4</th>\n",
       "      <td>2019-08-05</td>\n",
       "      <td>A</td>\n",
       "      <td>756</td>\n",
       "    </tr>\n",
       "  </tbody>\n",
       "</table>\n",
       "</div>"
      ],
      "text/plain": [
       "         date group  visitors\n",
       "0  2019-08-01     A       719\n",
       "1  2019-08-02     A       619\n",
       "2  2019-08-03     A       507\n",
       "3  2019-08-04     A       717\n",
       "4  2019-08-05     A       756"
      ]
     },
     "metadata": {},
     "output_type": "display_data"
    },
    {
     "name": "stdout",
     "output_type": "stream",
     "text": [
      "<class 'pandas.core.frame.DataFrame'>\n",
      "RangeIndex: 62 entries, 0 to 61\n",
      "Data columns (total 3 columns):\n",
      " #   Column    Non-Null Count  Dtype \n",
      "---  ------    --------------  ----- \n",
      " 0   date      62 non-null     object\n",
      " 1   group     62 non-null     object\n",
      " 2   visitors  62 non-null     int64 \n",
      "dtypes: int64(1), object(2)\n",
      "memory usage: 1.6+ KB\n"
     ]
    }
   ],
   "source": [
    "visitors = pd.read_csv('/datasets/visitors.csv')\n",
    "display(visitors.head(5))\n",
    "visitors.info()"
   ]
  },
  {
   "cell_type": "markdown",
   "metadata": {},
   "source": [
    "Приведем столбцы `date` к типу `datetime`"
   ]
  },
  {
   "cell_type": "code",
   "execution_count": 10,
   "metadata": {
    "scrolled": false
   },
   "outputs": [
    {
     "name": "stdout",
     "output_type": "stream",
     "text": [
      "<class 'pandas.core.frame.DataFrame'>\n",
      "RangeIndex: 1197 entries, 0 to 1196\n",
      "Data columns (total 5 columns):\n",
      " #   Column         Non-Null Count  Dtype         \n",
      "---  ------         --------------  -----         \n",
      " 0   transactionId  1197 non-null   int64         \n",
      " 1   visitorId      1197 non-null   int64         \n",
      " 2   date           1197 non-null   datetime64[ns]\n",
      " 3   revenue        1197 non-null   int64         \n",
      " 4   group          1197 non-null   object        \n",
      "dtypes: datetime64[ns](1), int64(3), object(1)\n",
      "memory usage: 46.9+ KB\n",
      "<class 'pandas.core.frame.DataFrame'>\n",
      "RangeIndex: 62 entries, 0 to 61\n",
      "Data columns (total 3 columns):\n",
      " #   Column    Non-Null Count  Dtype         \n",
      "---  ------    --------------  -----         \n",
      " 0   date      62 non-null     datetime64[ns]\n",
      " 1   group     62 non-null     object        \n",
      " 2   visitors  62 non-null     int64         \n",
      "dtypes: datetime64[ns](1), int64(1), object(1)\n",
      "memory usage: 1.6+ KB\n"
     ]
    }
   ],
   "source": [
    "orders['date'] = orders['date'].map(\n",
    "    lambda x: dt.datetime.strptime(x, '%Y-%m-%d')\n",
    ")\n",
    "orders.info()\n",
    "\n",
    "visitors['date'] = visitors['date'].map(\n",
    "    lambda x: dt.datetime.strptime(x, '%Y-%m-%d')\n",
    ")\n",
    "visitors.info()"
   ]
  },
  {
   "cell_type": "markdown",
   "metadata": {},
   "source": [
    "Проверим на наличие явных дубликатов"
   ]
  },
  {
   "cell_type": "code",
   "execution_count": 11,
   "metadata": {
    "scrolled": true
   },
   "outputs": [
    {
     "name": "stdout",
     "output_type": "stream",
     "text": [
      "0\n"
     ]
    },
    {
     "data": {
      "text/plain": [
       "0"
      ]
     },
     "execution_count": 11,
     "metadata": {},
     "output_type": "execute_result"
    }
   ],
   "source": [
    "print(orders.duplicated().sum())\n",
    "visitors.duplicated().sum()"
   ]
  },
  {
   "cell_type": "markdown",
   "metadata": {},
   "source": [
    "проверяем корректность разбиения пользователей на группы - может быть есть пользователи, попавшие в обе группы."
   ]
  },
  {
   "cell_type": "code",
   "execution_count": 12,
   "metadata": {
    "scrolled": false
   },
   "outputs": [
    {
     "name": "stdout",
     "output_type": "stream",
     "text": [
      "1197\n",
      "1016\n",
      "62\n",
      "56\n"
     ]
    }
   ],
   "source": [
    "#получаем список уникальных id пересечений:\n",
    "\n",
    "res = set(orders.query('group==\"A\"')['visitorId'].unique()).intersection(orders.query('group==\"B\"')['visitorId'].unique())\n",
    "\n",
    "#при помощи инверсии isin делаем фильтрацию:\n",
    "print(len(orders))\n",
    "orders = (orders[~orders['visitorId'].isin(res)])\n",
    "print(len(orders))\n",
    "\n",
    "\n",
    "res = set(visitors.query('group==\"A\"')['visitors'].unique()).intersection(visitors.query('group==\"B\"')['visitors'].unique())\n",
    "\n",
    "#при помощи инверсии isin делаем фильтрацию:\n",
    "print(len(visitors))\n",
    "visitors = (visitors[~visitors['visitors'].isin(res)])\n",
    "print(len(visitors))\n"
   ]
  },
  {
   "cell_type": "markdown",
   "metadata": {},
   "source": [
    "### Построить график кумулятивной выручки по группам. Сделайте выводы и предположения."
   ]
  },
  {
   "cell_type": "code",
   "execution_count": 13,
   "metadata": {},
   "outputs": [],
   "source": [
    "datesGroups = orders[['date', 'group']].drop_duplicates()"
   ]
  },
  {
   "cell_type": "code",
   "execution_count": 14,
   "metadata": {},
   "outputs": [
    {
     "data": {
      "text/html": [
       "<div>\n",
       "<style scoped>\n",
       "    .dataframe tbody tr th:only-of-type {\n",
       "        vertical-align: middle;\n",
       "    }\n",
       "\n",
       "    .dataframe tbody tr th {\n",
       "        vertical-align: top;\n",
       "    }\n",
       "\n",
       "    .dataframe thead th {\n",
       "        text-align: right;\n",
       "    }\n",
       "</style>\n",
       "<table border=\"1\" class=\"dataframe\">\n",
       "  <thead>\n",
       "    <tr style=\"text-align: right;\">\n",
       "      <th></th>\n",
       "      <th>date</th>\n",
       "      <th>group</th>\n",
       "      <th>transactionId</th>\n",
       "      <th>visitorId</th>\n",
       "      <th>revenue</th>\n",
       "    </tr>\n",
       "  </thead>\n",
       "  <tbody>\n",
       "    <tr>\n",
       "      <th>55</th>\n",
       "      <td>2019-08-01</td>\n",
       "      <td>A</td>\n",
       "      <td>23</td>\n",
       "      <td>19</td>\n",
       "      <td>142779</td>\n",
       "    </tr>\n",
       "    <tr>\n",
       "      <th>66</th>\n",
       "      <td>2019-08-01</td>\n",
       "      <td>B</td>\n",
       "      <td>17</td>\n",
       "      <td>17</td>\n",
       "      <td>59758</td>\n",
       "    </tr>\n",
       "    <tr>\n",
       "      <th>175</th>\n",
       "      <td>2019-08-02</td>\n",
       "      <td>A</td>\n",
       "      <td>42</td>\n",
       "      <td>36</td>\n",
       "      <td>234381</td>\n",
       "    </tr>\n",
       "    <tr>\n",
       "      <th>173</th>\n",
       "      <td>2019-08-02</td>\n",
       "      <td>B</td>\n",
       "      <td>40</td>\n",
       "      <td>39</td>\n",
       "      <td>221801</td>\n",
       "    </tr>\n",
       "    <tr>\n",
       "      <th>291</th>\n",
       "      <td>2019-08-03</td>\n",
       "      <td>A</td>\n",
       "      <td>66</td>\n",
       "      <td>60</td>\n",
       "      <td>346854</td>\n",
       "    </tr>\n",
       "    <tr>\n",
       "      <th>...</th>\n",
       "      <td>...</td>\n",
       "      <td>...</td>\n",
       "      <td>...</td>\n",
       "      <td>...</td>\n",
       "      <td>...</td>\n",
       "    </tr>\n",
       "    <tr>\n",
       "      <th>533</th>\n",
       "      <td>2019-08-29</td>\n",
       "      <td>B</td>\n",
       "      <td>510</td>\n",
       "      <td>490</td>\n",
       "      <td>4746610</td>\n",
       "    </tr>\n",
       "    <tr>\n",
       "      <th>757</th>\n",
       "      <td>2019-08-30</td>\n",
       "      <td>A</td>\n",
       "      <td>460</td>\n",
       "      <td>437</td>\n",
       "      <td>3311413</td>\n",
       "    </tr>\n",
       "    <tr>\n",
       "      <th>690</th>\n",
       "      <td>2019-08-30</td>\n",
       "      <td>B</td>\n",
       "      <td>531</td>\n",
       "      <td>511</td>\n",
       "      <td>4955833</td>\n",
       "    </tr>\n",
       "    <tr>\n",
       "      <th>958</th>\n",
       "      <td>2019-08-31</td>\n",
       "      <td>A</td>\n",
       "      <td>468</td>\n",
       "      <td>445</td>\n",
       "      <td>3364656</td>\n",
       "    </tr>\n",
       "    <tr>\n",
       "      <th>930</th>\n",
       "      <td>2019-08-31</td>\n",
       "      <td>B</td>\n",
       "      <td>548</td>\n",
       "      <td>528</td>\n",
       "      <td>5068972</td>\n",
       "    </tr>\n",
       "  </tbody>\n",
       "</table>\n",
       "<p>62 rows × 5 columns</p>\n",
       "</div>"
      ],
      "text/plain": [
       "          date group  transactionId  visitorId  revenue\n",
       "55  2019-08-01     A             23         19   142779\n",
       "66  2019-08-01     B             17         17    59758\n",
       "175 2019-08-02     A             42         36   234381\n",
       "173 2019-08-02     B             40         39   221801\n",
       "291 2019-08-03     A             66         60   346854\n",
       "..         ...   ...            ...        ...      ...\n",
       "533 2019-08-29     B            510        490  4746610\n",
       "757 2019-08-30     A            460        437  3311413\n",
       "690 2019-08-30     B            531        511  4955833\n",
       "958 2019-08-31     A            468        445  3364656\n",
       "930 2019-08-31     B            548        528  5068972\n",
       "\n",
       "[62 rows x 5 columns]"
      ]
     },
     "metadata": {},
     "output_type": "display_data"
    },
    {
     "data": {
      "text/html": [
       "<div>\n",
       "<style scoped>\n",
       "    .dataframe tbody tr th:only-of-type {\n",
       "        vertical-align: middle;\n",
       "    }\n",
       "\n",
       "    .dataframe tbody tr th {\n",
       "        vertical-align: top;\n",
       "    }\n",
       "\n",
       "    .dataframe thead th {\n",
       "        text-align: right;\n",
       "    }\n",
       "</style>\n",
       "<table border=\"1\" class=\"dataframe\">\n",
       "  <thead>\n",
       "    <tr style=\"text-align: right;\">\n",
       "      <th></th>\n",
       "      <th>date</th>\n",
       "      <th>group</th>\n",
       "      <th>visitors</th>\n",
       "    </tr>\n",
       "  </thead>\n",
       "  <tbody>\n",
       "    <tr>\n",
       "      <th>55</th>\n",
       "      <td>2019-08-01</td>\n",
       "      <td>A</td>\n",
       "      <td>719</td>\n",
       "    </tr>\n",
       "    <tr>\n",
       "      <th>66</th>\n",
       "      <td>2019-08-01</td>\n",
       "      <td>B</td>\n",
       "      <td>713</td>\n",
       "    </tr>\n",
       "    <tr>\n",
       "      <th>175</th>\n",
       "      <td>2019-08-02</td>\n",
       "      <td>A</td>\n",
       "      <td>1338</td>\n",
       "    </tr>\n",
       "    <tr>\n",
       "      <th>173</th>\n",
       "      <td>2019-08-02</td>\n",
       "      <td>B</td>\n",
       "      <td>1294</td>\n",
       "    </tr>\n",
       "    <tr>\n",
       "      <th>291</th>\n",
       "      <td>2019-08-03</td>\n",
       "      <td>A</td>\n",
       "      <td>1845</td>\n",
       "    </tr>\n",
       "    <tr>\n",
       "      <th>...</th>\n",
       "      <td>...</td>\n",
       "      <td>...</td>\n",
       "      <td>...</td>\n",
       "    </tr>\n",
       "    <tr>\n",
       "      <th>757</th>\n",
       "      <td>2019-08-29</td>\n",
       "      <td>A</td>\n",
       "      <td>16219</td>\n",
       "    </tr>\n",
       "    <tr>\n",
       "      <th>533</th>\n",
       "      <td>2019-08-29</td>\n",
       "      <td>B</td>\n",
       "      <td>17098</td>\n",
       "    </tr>\n",
       "    <tr>\n",
       "      <th>690</th>\n",
       "      <td>2019-08-29</td>\n",
       "      <td>B</td>\n",
       "      <td>17098</td>\n",
       "    </tr>\n",
       "    <tr>\n",
       "      <th>930</th>\n",
       "      <td>2019-08-29</td>\n",
       "      <td>B</td>\n",
       "      <td>17098</td>\n",
       "    </tr>\n",
       "    <tr>\n",
       "      <th>958</th>\n",
       "      <td>2019-08-31</td>\n",
       "      <td>A</td>\n",
       "      <td>16918</td>\n",
       "    </tr>\n",
       "  </tbody>\n",
       "</table>\n",
       "<p>62 rows × 3 columns</p>\n",
       "</div>"
      ],
      "text/plain": [
       "          date group  visitors\n",
       "55  2019-08-01     A       719\n",
       "66  2019-08-01     B       713\n",
       "175 2019-08-02     A      1338\n",
       "173 2019-08-02     B      1294\n",
       "291 2019-08-03     A      1845\n",
       "..         ...   ...       ...\n",
       "757 2019-08-29     A     16219\n",
       "533 2019-08-29     B     17098\n",
       "690 2019-08-29     B     17098\n",
       "930 2019-08-29     B     17098\n",
       "958 2019-08-31     A     16918\n",
       "\n",
       "[62 rows x 3 columns]"
      ]
     },
     "metadata": {},
     "output_type": "display_data"
    }
   ],
   "source": [
    "ordersAggregated = datesGroups.apply(\n",
    "    lambda x: orders[\n",
    "        np.logical_and(\n",
    "            orders['date'] <= x['date'], orders['group'] == x['group']\n",
    "        )\n",
    "    ].agg(\n",
    "        {\n",
    "            'date': 'max',\n",
    "            'group': 'max',\n",
    "            'transactionId': 'nunique',\n",
    "            'visitorId': 'nunique',\n",
    "            'revenue': 'sum',\n",
    "        }\n",
    "    ),\n",
    "    axis=1,\n",
    ").sort_values(by=['date', 'group'])\n",
    "\n",
    "visitorsAggregated = datesGroups.apply(\n",
    "    lambda x: visitors[\n",
    "        np.logical_and(\n",
    "            visitors['date'] <= x['date'], visitors['group'] == x['group']\n",
    "        )\n",
    "    ].agg({'date': 'max', 'group': 'max', 'visitors': 'sum'}),\n",
    "    axis=1,\n",
    ").sort_values(by=['date', 'group'])\n",
    "\n",
    "display(ordersAggregated)\n",
    "display(visitorsAggregated)"
   ]
  },
  {
   "cell_type": "code",
   "execution_count": 15,
   "metadata": {},
   "outputs": [
    {
     "data": {
      "text/html": [
       "<div>\n",
       "<style scoped>\n",
       "    .dataframe tbody tr th:only-of-type {\n",
       "        vertical-align: middle;\n",
       "    }\n",
       "\n",
       "    .dataframe tbody tr th {\n",
       "        vertical-align: top;\n",
       "    }\n",
       "\n",
       "    .dataframe thead th {\n",
       "        text-align: right;\n",
       "    }\n",
       "</style>\n",
       "<table border=\"1\" class=\"dataframe\">\n",
       "  <thead>\n",
       "    <tr style=\"text-align: right;\">\n",
       "      <th></th>\n",
       "      <th>date</th>\n",
       "      <th>group</th>\n",
       "      <th>orders</th>\n",
       "      <th>buyers</th>\n",
       "      <th>revenue</th>\n",
       "      <th>visitors</th>\n",
       "    </tr>\n",
       "  </thead>\n",
       "  <tbody>\n",
       "    <tr>\n",
       "      <th>0</th>\n",
       "      <td>2019-08-01</td>\n",
       "      <td>A</td>\n",
       "      <td>23</td>\n",
       "      <td>19</td>\n",
       "      <td>142779</td>\n",
       "      <td>719</td>\n",
       "    </tr>\n",
       "    <tr>\n",
       "      <th>1</th>\n",
       "      <td>2019-08-01</td>\n",
       "      <td>B</td>\n",
       "      <td>17</td>\n",
       "      <td>17</td>\n",
       "      <td>59758</td>\n",
       "      <td>713</td>\n",
       "    </tr>\n",
       "    <tr>\n",
       "      <th>2</th>\n",
       "      <td>2019-08-02</td>\n",
       "      <td>A</td>\n",
       "      <td>42</td>\n",
       "      <td>36</td>\n",
       "      <td>234381</td>\n",
       "      <td>1338</td>\n",
       "    </tr>\n",
       "    <tr>\n",
       "      <th>3</th>\n",
       "      <td>2019-08-02</td>\n",
       "      <td>B</td>\n",
       "      <td>40</td>\n",
       "      <td>39</td>\n",
       "      <td>221801</td>\n",
       "      <td>1294</td>\n",
       "    </tr>\n",
       "    <tr>\n",
       "      <th>4</th>\n",
       "      <td>2019-08-03</td>\n",
       "      <td>A</td>\n",
       "      <td>66</td>\n",
       "      <td>60</td>\n",
       "      <td>346854</td>\n",
       "      <td>1845</td>\n",
       "    </tr>\n",
       "    <tr>\n",
       "      <th>...</th>\n",
       "      <td>...</td>\n",
       "      <td>...</td>\n",
       "      <td>...</td>\n",
       "      <td>...</td>\n",
       "      <td>...</td>\n",
       "      <td>...</td>\n",
       "    </tr>\n",
       "    <tr>\n",
       "      <th>57</th>\n",
       "      <td>2019-08-29</td>\n",
       "      <td>A</td>\n",
       "      <td>451</td>\n",
       "      <td>430</td>\n",
       "      <td>3233233</td>\n",
       "      <td>16219</td>\n",
       "    </tr>\n",
       "    <tr>\n",
       "      <th>58</th>\n",
       "      <td>2019-08-29</td>\n",
       "      <td>B</td>\n",
       "      <td>510</td>\n",
       "      <td>490</td>\n",
       "      <td>4746610</td>\n",
       "      <td>17098</td>\n",
       "    </tr>\n",
       "    <tr>\n",
       "      <th>59</th>\n",
       "      <td>2019-08-29</td>\n",
       "      <td>B</td>\n",
       "      <td>510</td>\n",
       "      <td>490</td>\n",
       "      <td>4746610</td>\n",
       "      <td>17098</td>\n",
       "    </tr>\n",
       "    <tr>\n",
       "      <th>60</th>\n",
       "      <td>2019-08-29</td>\n",
       "      <td>B</td>\n",
       "      <td>510</td>\n",
       "      <td>490</td>\n",
       "      <td>4746610</td>\n",
       "      <td>17098</td>\n",
       "    </tr>\n",
       "    <tr>\n",
       "      <th>61</th>\n",
       "      <td>2019-08-31</td>\n",
       "      <td>A</td>\n",
       "      <td>468</td>\n",
       "      <td>445</td>\n",
       "      <td>3364656</td>\n",
       "      <td>16918</td>\n",
       "    </tr>\n",
       "  </tbody>\n",
       "</table>\n",
       "<p>62 rows × 6 columns</p>\n",
       "</div>"
      ],
      "text/plain": [
       "         date group  orders  buyers  revenue  visitors\n",
       "0  2019-08-01     A      23      19   142779       719\n",
       "1  2019-08-01     B      17      17    59758       713\n",
       "2  2019-08-02     A      42      36   234381      1338\n",
       "3  2019-08-02     B      40      39   221801      1294\n",
       "4  2019-08-03     A      66      60   346854      1845\n",
       "..        ...   ...     ...     ...      ...       ...\n",
       "57 2019-08-29     A     451     430  3233233     16219\n",
       "58 2019-08-29     B     510     490  4746610     17098\n",
       "59 2019-08-29     B     510     490  4746610     17098\n",
       "60 2019-08-29     B     510     490  4746610     17098\n",
       "61 2019-08-31     A     468     445  3364656     16918\n",
       "\n",
       "[62 rows x 6 columns]"
      ]
     },
     "execution_count": 15,
     "metadata": {},
     "output_type": "execute_result"
    }
   ],
   "source": [
    "cumulativeData = ordersAggregated.merge(\n",
    "    visitorsAggregated, left_on=['date', 'group'], right_on=['date', 'group']\n",
    ")\n",
    "cumulativeData.columns = [\n",
    "    'date',\n",
    "    'group',\n",
    "    'orders',\n",
    "    'buyers',\n",
    "    'revenue',\n",
    "    'visitors',\n",
    "]\n",
    "cumulativeData"
   ]
  },
  {
   "cell_type": "code",
   "execution_count": 16,
   "metadata": {},
   "outputs": [
    {
     "data": {
      "image/png": "[encoded data removed]",
      "text/plain": [
       "<Figure size 432x288 with 1 Axes>"
      ]
     },
     "metadata": {
      "needs_background": "light"
     },
     "output_type": "display_data"
    }
   ],
   "source": [
    "cumulativeRevenueA = cumulativeData[cumulativeData['group']=='A'][['date','revenue', 'orders']]\n",
    "cumulativeRevenueB = cumulativeData[cumulativeData['group']=='B'][['date','revenue', 'orders']]\n",
    "# Строим график выручки группы A\n",
    "plt.plot(cumulativeRevenueA['date'], cumulativeRevenueA['revenue'], label='A')\n",
    "\n",
    "# Строим график выручки группы B\n",
    "plt.plot(cumulativeRevenueB['date'], cumulativeRevenueB['revenue'], label='B')\n",
    "plt.xticks(rotation=90)\n",
    "plt.legend()\n",
    "plt.title('График кумулятивной выручки по группам')\n",
    "plt.ylabel('Выручка')\n",
    "plt.xlabel('Дата')\n",
    "plt.show()"
   ]
  },
  {
   "cell_type": "markdown",
   "metadata": {},
   "source": [
    "По результатам графика видно, что выручка в группе В с 17го по 21е августа 2019 года резко повысилась выручка, возможно это обусловлено резким увеличением количества заказов в интернет магазине, а также закупка на большую сумму"
   ]
  },
  {
   "cell_type": "markdown",
   "metadata": {},
   "source": [
    "### Построить график кумулятивного среднего чека по группам. Сделать выводы и предположения.\n"
   ]
  },
  {
   "cell_type": "code",
   "execution_count": 17,
   "metadata": {},
   "outputs": [
    {
     "data": {
      "image/png": "[encoded data removed]",
      "text/plain": [
       "<Figure size 432x288 with 1 Axes>"
      ]
     },
     "metadata": {
      "needs_background": "light"
     },
     "output_type": "display_data"
    }
   ],
   "source": [
    "plt.plot(cumulativeRevenueA['date'], cumulativeRevenueA['revenue']/cumulativeRevenueA['orders'], label='A')\n",
    "plt.plot(cumulativeRevenueB['date'], cumulativeRevenueB['revenue']/cumulativeRevenueB['orders'], label='B')\n",
    "plt.legend()\n",
    "plt.xticks(rotation=90)\n",
    "plt.title('График кумулятивного среднего чека по группам')\n",
    "plt.ylabel('Средний чек')\n",
    "plt.xlabel('Дата')\n",
    "plt.show()"
   ]
  },
  {
   "cell_type": "markdown",
   "metadata": {},
   "source": [
    "По результатам графика можно также определить резкий рост среднего чека группы В с 17го по 21е августа 2019 г. Это подтверждает возможность заказа на большую сумму\n"
   ]
  },
  {
   "cell_type": "markdown",
   "metadata": {},
   "source": [
    "### Построить график относительного изменения кумулятивного среднего чека группы B к группе A. Сделать выводы и предположения.\n"
   ]
  },
  {
   "cell_type": "code",
   "execution_count": 18,
   "metadata": {},
   "outputs": [
    {
     "data": {
      "image/png": "[encoded data removed]",
      "text/plain": [
       "<Figure size 432x288 with 1 Axes>"
      ]
     },
     "metadata": {
      "needs_background": "light"
     },
     "output_type": "display_data"
    }
   ],
   "source": [
    "mergedCumulativeRevenue = cumulativeRevenueA[['date','revenue', 'orders']].merge(cumulativeRevenueB[['date','revenue', 'orders']], left_on='date', right_on='date', how='left', suffixes=['A', 'B'])\n",
    "plt.plot(mergedCumulativeRevenue['date'], (mergedCumulativeRevenue['revenueB']/mergedCumulativeRevenue['ordersB'])/(mergedCumulativeRevenue['revenueA']/mergedCumulativeRevenue['ordersA'])-1)\n",
    "plt.xticks(rotation=90)\n",
    "plt.title('Относительное изменение кумулятивного среднего чека группы B к группе A')\n",
    "plt.xlabel('Дата')\n",
    "plt.axhline(y=0, color='black', linestyle='--')\n",
    "plt.show()"
   ]
  },
  {
   "cell_type": "markdown",
   "metadata": {},
   "source": [
    "График изменения кумулятивного среднего чека группы В относительно группы А то резко растет, то резко снижается. Что еще раз подтверждает возможность большого заказа а также не исключено наличие выбросов."
   ]
  },
  {
   "cell_type": "markdown",
   "metadata": {},
   "source": [
    "### Построить график кумулятивного среднего количества заказов на посетителя по группам. Сделать выводы и предположения."
   ]
  },
  {
   "cell_type": "code",
   "execution_count": 19,
   "metadata": {},
   "outputs": [
    {
     "data": {
      "image/png": "[encoded data removed]",
      "text/plain": [
       "<Figure size 432x288 with 1 Axes>"
      ]
     },
     "metadata": {
      "needs_background": "light"
     },
     "output_type": "display_data"
    }
   ],
   "source": [
    "#считаем кумулятивное среднее количество заказов на посетителя\n",
    "cumulativeData['conversion'] = cumulativeData['orders']/cumulativeData['visitors']\n",
    "# отделяем данные по группе A\n",
    "cumulativeDataA = cumulativeData[cumulativeData['group']=='A']\n",
    "\n",
    "# отделяем данные по группе B\n",
    "cumulativeDataB = cumulativeData[cumulativeData['group']=='B']\n",
    "\n",
    "# строим графики\n",
    "plt.plot(cumulativeDataA['date'], cumulativeDataA['conversion'], label='A')\n",
    "plt.plot(cumulativeDataB['date'], cumulativeDataB['conversion'], label='B')\n",
    "plt.legend()\n",
    "plt.xticks(rotation=90)\n",
    "plt.title('График кумулятивного среднего количества заказов на посетителя по группам')\n",
    "plt.ylabel('Среднее количество заказов на посетителя')\n",
    "plt.xlabel('Дата')\n",
    "plt.show()"
   ]
  },
  {
   "cell_type": "markdown",
   "metadata": {},
   "source": [
    "По данным графика кумулятивного среднего количества заказов на посетителя по группам видно что в начале были некоторые скачки в количествах, но далее можно увидеть что у группы В показатели лучше чем у группы А.\n"
   ]
  },
  {
   "cell_type": "markdown",
   "metadata": {},
   "source": [
    "### Построить график относительного изменения кумулятивного среднего количества заказов на посетителя группы B к группе A. Сделать выводы и предположения."
   ]
  },
  {
   "cell_type": "code",
   "execution_count": 20,
   "metadata": {},
   "outputs": [
    {
     "data": {
      "image/png": "[encoded data removed]",
      "text/plain": [
       "<Figure size 432x288 with 1 Axes>"
      ]
     },
     "metadata": {
      "needs_background": "light"
     },
     "output_type": "display_data"
    }
   ],
   "source": [
    "#Объединяем таблицы cumulativeDataA и cumulativeDataB\n",
    "mergedCumulativeConversions = cumulativeDataA[['date','conversion']].merge(cumulativeDataB[['date','conversion']], left_on='date', right_on='date', how='left', suffixes=['A', 'B'])\n",
    "\n",
    "plt.plot(mergedCumulativeConversions['date'], mergedCumulativeConversions['conversionB']/mergedCumulativeConversions['conversionA']-1)\n",
    "plt.xticks(rotation=90)\n",
    "plt.title('Относительное изменение кумулятивного среднего чека группы B к группе A')\n",
    "plt.xlabel('Дата')\n",
    "plt.axhline(y=0, color='black', linestyle='--')\n",
    "plt.axhline(y=0.15, color='grey', linestyle='--')\n",
    "plt.show()"
   ]
  },
  {
   "cell_type": "markdown",
   "metadata": {},
   "source": [
    "В начале теста группа А лидировала, но с затем мы видим значительный прирост группы В, далее она лидирует по конверсии: становится все лучше и лучше, далее видим небольшой спад, но конце группа В также начал рост около прироста в 15% относительно группы А."
   ]
  },
  {
   "cell_type": "markdown",
   "metadata": {},
   "source": [
    "### Построить точечный график количества заказов по пользователям. Сделать выводы и предположения.\n"
   ]
  },
  {
   "cell_type": "markdown",
   "metadata": {},
   "source": [
    "Для начала найдем количество заказов каждого пользователя и выведем основные метрики полученной таблицы."
   ]
  },
  {
   "cell_type": "code",
   "execution_count": 21,
   "metadata": {},
   "outputs": [
    {
     "data": {
      "text/plain": [
       "count   973.00\n",
       "mean      1.04\n",
       "std       0.24\n",
       "min       1.00\n",
       "25%       1.00\n",
       "50%       1.00\n",
       "75%       1.00\n",
       "max       3.00\n",
       "Name: transactionId, dtype: float64"
      ]
     },
     "metadata": {},
     "output_type": "display_data"
    }
   ],
   "source": [
    "orders_by_users = orders.groupby('visitorId', as_index=False).agg({'transactionId': 'nunique'})\n",
    "display(orders_by_users['transactionId'].describe())\n"
   ]
  },
  {
   "cell_type": "markdown",
   "metadata": {},
   "source": [
    "тут мы видим что в основном пользователь делает один заказ, но есть и те, кто оформил 11 заказов. Построим точечный график количества заказов по пользователям."
   ]
  },
  {
   "cell_type": "code",
   "execution_count": 22,
   "metadata": {},
   "outputs": [
    {
     "data": {
      "image/png": "[encoded data removed]",
      "text/plain": [
       "<Figure size 432x288 with 1 Axes>"
      ]
     },
     "metadata": {
      "needs_background": "light"
     },
     "output_type": "display_data"
    }
   ],
   "source": [
    "# строим точечную диаграмму\n",
    "plt.scatter(pd.Series(range(0, len(orders_by_users))), orders_by_users['transactionId'], alpha=0.5)\n",
    "plt.title('График количества заказов по пользователям')\n",
    "plt.show()"
   ]
  },
  {
   "cell_type": "markdown",
   "metadata": {},
   "source": [
    "На графике наглядно видно, что в основном пользователи делают по 1-2 заказа, а также есть пользователи которые оформили 11 заказов"
   ]
  },
  {
   "cell_type": "markdown",
   "metadata": {},
   "source": [
    "### Посчитать 95-й и 99-й перцентили количества заказов на пользователя. Выбрать границу для определения аномальных пользователей.\n"
   ]
  },
  {
   "cell_type": "markdown",
   "metadata": {},
   "source": [
    "Определим 95 и 99 перцентили количества заказов на пользователя"
   ]
  },
  {
   "cell_type": "code",
   "execution_count": 23,
   "metadata": {},
   "outputs": [
    {
     "name": "stdout",
     "output_type": "stream",
     "text": [
      "[1. 2.]\n"
     ]
    }
   ],
   "source": [
    "print(np.percentile(orders_by_users['transactionId'], [95, 99])) "
   ]
  },
  {
   "cell_type": "markdown",
   "metadata": {},
   "source": [
    "Не более 5% пользователей  оформляли больше чем 1го заказа и не более 1% больше 2-х. Разумно выбрать 1 или 2 заказа на одного пользователя за верхнюю границу числа заказов, и отсеять аномальных пользователей по ней."
   ]
  },
  {
   "cell_type": "markdown",
   "metadata": {},
   "source": [
    "### Построить точечный график стоимостей заказов. Сделать выводы и предположения.\n"
   ]
  },
  {
   "cell_type": "code",
   "execution_count": 24,
   "metadata": {},
   "outputs": [
    {
     "data": {
      "text/plain": [
       "count       1,016.00\n",
       "mean        8,300.81\n",
       "std        42,121.99\n",
       "min            50.00\n",
       "25%         1,190.00\n",
       "50%         2,955.00\n",
       "75%         8,134.25\n",
       "max     1,294,500.00\n",
       "Name: revenue, dtype: float64"
      ]
     },
     "metadata": {},
     "output_type": "display_data"
    }
   ],
   "source": [
    "display(orders['revenue'].describe())"
   ]
  },
  {
   "cell_type": "markdown",
   "metadata": {},
   "source": [
    "Максимальный заказ на 1294500 когда как медианное значение 9,692.11"
   ]
  },
  {
   "cell_type": "code",
   "execution_count": 25,
   "metadata": {},
   "outputs": [
    {
     "data": {
      "image/png": "[encoded data removed]",
      "text/plain": [
       "<Figure size 432x288 with 1 Axes>"
      ]
     },
     "metadata": {
      "needs_background": "light"
     },
     "output_type": "display_data"
    }
   ],
   "source": [
    "plt.scatter(pd.Series(range(0, len(orders))), orders['revenue'], alpha=0.5)\n",
    "plt.title('График стоимостей заказов')\n",
    "plt.show()"
   ]
  },
  {
   "cell_type": "markdown",
   "metadata": {},
   "source": [
    "В основном заказывают на сумму до 3000, есть большие выбросы аж до 1 миллиона"
   ]
  },
  {
   "cell_type": "markdown",
   "metadata": {},
   "source": [
    "### Посчитать 95-й и 99-й перцентили стоимости заказов. Выбрать границу для определения аномальных заказов.\n"
   ]
  },
  {
   "cell_type": "code",
   "execution_count": 26,
   "metadata": {},
   "outputs": [
    {
     "name": "stdout",
     "output_type": "stream",
     "text": [
      "[26785. 53904.]\n"
     ]
    }
   ],
   "source": [
    "print(np.percentile(orders['revenue'], [95, 99])) "
   ]
  },
  {
   "cell_type": "markdown",
   "metadata": {},
   "source": [
    "Не более 5% пользователей оформляли заказ больше чем 26785 и не более 1% больше 53904. Можно выбрать эти значения как за верхнюю границу числа заказов, и отсеять аномальных пользователей по ней."
   ]
  },
  {
   "cell_type": "markdown",
   "metadata": {},
   "source": [
    "### Посчитать статистическую значимость различий в среднем количестве заказов на посетителя между группами по «сырым» данным. Сделать выводы и предположения.\n"
   ]
  },
  {
   "cell_type": "markdown",
   "metadata": {},
   "source": [
    "Посчитаем статистическую значимость различий в среднем числе заказов на посетителя по «сырым» данным — без удаления аномальных пользователей.\n",
    "Сформулируем гипотезы. \n",
    "- **Нулевая**: Нет различий в среднем количестве заказов между группами. \n",
    "- **Альтернативная**: Есть различия в среднем между группами ."
   ]
  },
  {
   "cell_type": "code",
   "execution_count": 27,
   "metadata": {
    "scrolled": true
   },
   "outputs": [
    {
     "data": {
      "text/html": [
       "<div>\n",
       "<style scoped>\n",
       "    .dataframe tbody tr th:only-of-type {\n",
       "        vertical-align: middle;\n",
       "    }\n",
       "\n",
       "    .dataframe tbody tr th {\n",
       "        vertical-align: top;\n",
       "    }\n",
       "\n",
       "    .dataframe thead th {\n",
       "        text-align: right;\n",
       "    }\n",
       "</style>\n",
       "<table border=\"1\" class=\"dataframe\">\n",
       "  <thead>\n",
       "    <tr style=\"text-align: right;\">\n",
       "      <th></th>\n",
       "      <th>date</th>\n",
       "      <th>ordersPerDateA</th>\n",
       "      <th>revenuePerDateA</th>\n",
       "      <th>ordersPerDateB</th>\n",
       "      <th>revenuePerDateB</th>\n",
       "      <th>ordersCummulativeA</th>\n",
       "      <th>revenueCummulativeA</th>\n",
       "      <th>ordersCummulativeB</th>\n",
       "      <th>revenueCummulativeB</th>\n",
       "      <th>visitorsPerDateA</th>\n",
       "      <th>visitorsPerDateB</th>\n",
       "      <th>visitorsCummulativeA</th>\n",
       "      <th>visitorsCummulativeB</th>\n",
       "    </tr>\n",
       "  </thead>\n",
       "  <tbody>\n",
       "    <tr>\n",
       "      <th>0</th>\n",
       "      <td>2019-08-01</td>\n",
       "      <td>19</td>\n",
       "      <td>142779</td>\n",
       "      <td>17</td>\n",
       "      <td>59758</td>\n",
       "      <td>19</td>\n",
       "      <td>142779</td>\n",
       "      <td>17</td>\n",
       "      <td>59758</td>\n",
       "      <td>719.00</td>\n",
       "      <td>713.00</td>\n",
       "      <td>719.00</td>\n",
       "      <td>713.00</td>\n",
       "    </tr>\n",
       "    <tr>\n",
       "      <th>1</th>\n",
       "      <td>2019-08-02</td>\n",
       "      <td>18</td>\n",
       "      <td>91602</td>\n",
       "      <td>23</td>\n",
       "      <td>162043</td>\n",
       "      <td>37</td>\n",
       "      <td>234381</td>\n",
       "      <td>40</td>\n",
       "      <td>221801</td>\n",
       "      <td>619.00</td>\n",
       "      <td>581.00</td>\n",
       "      <td>1,338.00</td>\n",
       "      <td>1,294.00</td>\n",
       "    </tr>\n",
       "    <tr>\n",
       "      <th>2</th>\n",
       "      <td>2019-08-03</td>\n",
       "      <td>24</td>\n",
       "      <td>112473</td>\n",
       "      <td>14</td>\n",
       "      <td>67049</td>\n",
       "      <td>61</td>\n",
       "      <td>346854</td>\n",
       "      <td>54</td>\n",
       "      <td>288850</td>\n",
       "      <td>507.00</td>\n",
       "      <td>509.00</td>\n",
       "      <td>1,845.00</td>\n",
       "      <td>1,803.00</td>\n",
       "    </tr>\n",
       "    <tr>\n",
       "      <th>3</th>\n",
       "      <td>2019-08-04</td>\n",
       "      <td>11</td>\n",
       "      <td>41176</td>\n",
       "      <td>14</td>\n",
       "      <td>96890</td>\n",
       "      <td>72</td>\n",
       "      <td>388030</td>\n",
       "      <td>68</td>\n",
       "      <td>385740</td>\n",
       "      <td>717.00</td>\n",
       "      <td>770.00</td>\n",
       "      <td>2,562.00</td>\n",
       "      <td>2,573.00</td>\n",
       "    </tr>\n",
       "    <tr>\n",
       "      <th>4</th>\n",
       "      <td>2019-08-05</td>\n",
       "      <td>22</td>\n",
       "      <td>86383</td>\n",
       "      <td>21</td>\n",
       "      <td>89908</td>\n",
       "      <td>94</td>\n",
       "      <td>474413</td>\n",
       "      <td>89</td>\n",
       "      <td>475648</td>\n",
       "      <td>756.00</td>\n",
       "      <td>707.00</td>\n",
       "      <td>3,318.00</td>\n",
       "      <td>3,280.00</td>\n",
       "    </tr>\n",
       "  </tbody>\n",
       "</table>\n",
       "</div>"
      ],
      "text/plain": [
       "        date  ordersPerDateA  revenuePerDateA  ordersPerDateB  \\\n",
       "0 2019-08-01              19           142779              17   \n",
       "1 2019-08-02              18            91602              23   \n",
       "2 2019-08-03              24           112473              14   \n",
       "3 2019-08-04              11            41176              14   \n",
       "4 2019-08-05              22            86383              21   \n",
       "\n",
       "   revenuePerDateB  ordersCummulativeA  revenueCummulativeA  \\\n",
       "0            59758                  19               142779   \n",
       "1           162043                  37               234381   \n",
       "2            67049                  61               346854   \n",
       "3            96890                  72               388030   \n",
       "4            89908                  94               474413   \n",
       "\n",
       "   ordersCummulativeB  revenueCummulativeB  visitorsPerDateA  \\\n",
       "0                  17                59758            719.00   \n",
       "1                  40               221801            619.00   \n",
       "2                  54               288850            507.00   \n",
       "3                  68               385740            717.00   \n",
       "4                  89               475648            756.00   \n",
       "\n",
       "   visitorsPerDateB  visitorsCummulativeA  visitorsCummulativeB  \n",
       "0            713.00                719.00                713.00  \n",
       "1            581.00              1,338.00              1,294.00  \n",
       "2            509.00              1,845.00              1,803.00  \n",
       "3            770.00              2,562.00              2,573.00  \n",
       "4            707.00              3,318.00              3,280.00  "
      ]
     },
     "metadata": {},
     "output_type": "display_data"
    }
   ],
   "source": [
    "visitorsADaily = visitors[visitors['group'] == 'A'][['date', 'visitors']]\n",
    "visitorsADaily.columns = ['date', 'visitorsPerDateA']\n",
    "\n",
    "visitorsACummulative = visitorsADaily.apply(\n",
    "    lambda x: visitorsADaily[visitorsADaily['date'] <= x['date']].agg(\n",
    "        {'date': 'max', 'visitorsPerDateA': 'sum'}\n",
    "    ),\n",
    "    axis=1,\n",
    ")\n",
    "visitorsACummulative.columns = ['date', 'visitorsCummulativeA']\n",
    "\n",
    "visitorsBDaily = visitors[visitors['group'] == 'B'][['date', 'visitors']]\n",
    "visitorsBDaily.columns = ['date', 'visitorsPerDateB']\n",
    "\n",
    "visitorsBCummulative = visitorsBDaily.apply(\n",
    "    lambda x: visitorsBDaily[visitorsBDaily['date'] <= x['date']].agg(\n",
    "        {'date': 'max', 'visitorsPerDateB': 'sum'}\n",
    "    ),\n",
    "    axis=1,\n",
    ")\n",
    "visitorsBCummulative.columns = ['date', 'visitorsCummulativeB']\n",
    "\n",
    "ordersADaily = (\n",
    "    orders[orders['group'] == 'A'][['date', 'transactionId', 'visitorId', 'revenue']]\n",
    "    .groupby('date', as_index=False)\n",
    "    .agg({'visitorId': pd.Series.nunique, 'revenue': 'sum'})\n",
    ")\n",
    "ordersADaily.columns = ['date', 'ordersPerDateA', 'revenuePerDateA']\n",
    "\n",
    "ordersACummulative = ordersADaily.apply(\n",
    "    lambda x: ordersADaily[ordersADaily['date'] <= x['date']].agg(\n",
    "        {'date': 'max', 'ordersPerDateA': 'sum', 'revenuePerDateA': 'sum'}\n",
    "    ),\n",
    "    axis=1,\n",
    ").sort_values(by=['date'])\n",
    "ordersACummulative.columns = [\n",
    "    'date',\n",
    "    'ordersCummulativeA',\n",
    "    'revenueCummulativeA',\n",
    "]\n",
    "\n",
    "ordersBDaily = (\n",
    "    orders[orders['group'] == 'B'][['date', 'transactionId', 'visitorId', 'revenue']]\n",
    "    .groupby('date', as_index=False)\n",
    "    .agg({'transactionId': pd.Series.nunique, 'revenue': 'sum'})\n",
    ")\n",
    "ordersBDaily.columns = ['date', 'ordersPerDateB', 'revenuePerDateB']\n",
    "\n",
    "ordersBCummulative = ordersBDaily.apply(\n",
    "    lambda x: ordersBDaily[ordersBDaily['date'] <= x['date']].agg(\n",
    "        {'date': 'max', 'ordersPerDateB': 'sum', 'revenuePerDateB': 'sum'}\n",
    "    ),\n",
    "    axis=1,\n",
    ").sort_values(by=['date'])\n",
    "ordersBCummulative.columns = [\n",
    "    'date',\n",
    "    'ordersCummulativeB',\n",
    "    'revenueCummulativeB',\n",
    "]\n",
    "\n",
    "data = (\n",
    "    ordersADaily.merge(\n",
    "        ordersBDaily, left_on='date', right_on='date', how='left'\n",
    "    )\n",
    "    .merge(ordersACummulative, left_on='date', right_on='date', how='left')\n",
    "    .merge(ordersBCummulative, left_on='date', right_on='date', how='left')\n",
    "    .merge(visitorsADaily, left_on='date', right_on='date', how='left')\n",
    "    .merge(visitorsBDaily, left_on='date', right_on='date', how='left')\n",
    "    .merge(visitorsACummulative, left_on='date', right_on='date', how='left')\n",
    "    .merge(visitorsBCummulative, left_on='date', right_on='date', how='left')\n",
    ")\n",
    "\n",
    "display(data.head(5))"
   ]
  },
  {
   "cell_type": "markdown",
   "metadata": {},
   "source": [
    "Наименования столбцов:\n",
    "- `date` — дата;\n",
    "- `ordersPerDateA` — количество заказов в выбранную дату в группе A;\n",
    "- `revenuePerDateB` — суммарная выручка в выбранную дату в группе B;\n",
    "- `ordersCummulativeA` — суммарное число заказов до выбранной даты включительно в группе A;\n",
    "- `revenueCummulativeA` — суммарная выручка до выбранной даты включительно в группе A;\n",
    "- `ordersCummulativeB` — суммарное количество заказов до выбранной даты включительно в группе B;\n",
    "- `revenueCummulativeB` — суммарная выручка до выбранной даты включительно в группе B;\n",
    "- `visitorsPerDateA` — количество пользователей в выбранную дату в группе A;\n",
    "- `visitorsPerDateB` — количество пользователей в выбранную дату в группе B;\n",
    "- `visitorsCummulativeA` — количество пользователей до выбранной даты включительно в группе A;\n",
    "- `visitorsCummulativeB` — количество пользователей до выбранной даты включительно в группе B."
   ]
  },
  {
   "cell_type": "markdown",
   "metadata": {},
   "source": [
    "Создадим переменные `ordersByUsersA` и `ordersByUsersB` со столбцами `['userId', 'orders']`. В них для пользователей, которые заказывали хотя бы 1 раз, укажем число совершённых заказов. "
   ]
  },
  {
   "cell_type": "code",
   "execution_count": 28,
   "metadata": {},
   "outputs": [],
   "source": [
    "ordersByUsersA = (\n",
    "    orders[orders['group'] == 'A']\n",
    "    .groupby('visitorId', as_index=False)\n",
    "    .agg({'transactionId': pd.Series.nunique})\n",
    ")\n",
    "ordersByUsersA.columns = ['userId', 'orders']\n",
    "\n",
    "ordersByUsersB = (\n",
    "    orders[orders['group'] == 'B']\n",
    "    .groupby('visitorId', as_index=False)\n",
    "    .agg({'transactionId': pd.Series.nunique})\n",
    ")\n",
    "ordersByUsersB.columns = ['userId', 'orders']\n"
   ]
  },
  {
   "cell_type": "markdown",
   "metadata": {},
   "source": [
    "Объявим переменные `sampleA` и `sampleB`, в которых пользователям из разных групп будет соответствовать количество заказов. Тем, кто ничего не заказал, будут соответствовать нули. Это нужно, чтобы подготовить выборки к проверке критерием Манна-Уитни."
   ]
  },
  {
   "cell_type": "code",
   "execution_count": 29,
   "metadata": {},
   "outputs": [],
   "source": [
    "sampleA = pd.concat([ordersByUsersA['orders'],pd.Series(0, index=np.arange(data['visitorsPerDateA'].sum() - len(ordersByUsersA['orders'])), name='orders')],axis=0)\n",
    "\n",
    "sampleB = pd.concat([ordersByUsersB['orders'],pd.Series(0, index=np.arange(data['visitorsPerDateB'].sum() - len(ordersByUsersB['orders'])), name='orders')],axis=0) "
   ]
  },
  {
   "cell_type": "markdown",
   "metadata": {},
   "source": [
    "Применим критерий и отформатируем p-value, округлив его до трёх знаков после запятой.\n"
   ]
  },
  {
   "cell_type": "code",
   "execution_count": 30,
   "metadata": {},
   "outputs": [
    {
     "name": "stdout",
     "output_type": "stream",
     "text": [
      "p-value = 0.011\n",
      "0.159\n"
     ]
    }
   ],
   "source": [
    "print(\"p-value = {0:.3f}\".format(stats.mannwhitneyu(sampleA, sampleB)[1]))\n",
    "\n",
    "print(\"{0:.3f}\".format(sampleB.mean() / sampleA.mean() - 1))"
   ]
  },
  {
   "cell_type": "markdown",
   "metadata": {},
   "source": [
    "Вывод: По «сырым» данным различия есть в среднем количестве заказов групп A и B. \n",
    "Первое число — p-value = 0.011 меньше 0.05. Значит, нулевую гипотезу о том, что нет статистически значимых различий в среднем числе заказов между группами, отвергаем. \n",
    "Относительный прирост группы B равен 15.9% — второе число в выводе."
   ]
  },
  {
   "cell_type": "markdown",
   "metadata": {},
   "source": [
    "### Посчитать статистическую значимость различий в среднем чеке заказа между группами по «сырым» данным. Сделать выводы и предположения.\n"
   ]
  },
  {
   "cell_type": "markdown",
   "metadata": {},
   "source": [
    "Найдём относительные различия в среднем чеке между группами по \"сырым\" данным — без удаления аномальных пользователей.\n",
    "Сформулируем гипотезы. \n",
    "- **Нулевая**:  нет различий в среднем чеке заказов между группами. \n",
    "- **Альтернативная**: есть различия в среднем чеке между группами ."
   ]
  },
  {
   "cell_type": "code",
   "execution_count": 31,
   "metadata": {},
   "outputs": [
    {
     "name": "stdout",
     "output_type": "stream",
     "text": [
      "p-value = 0.829\n",
      "0.287\n"
     ]
    }
   ],
   "source": [
    "print('p-value = {0:.3f}'.format(stats.mannwhitneyu(orders[orders['group']=='A']['revenue'], orders[orders['group']=='B']['revenue'])[1]))\n",
    "print('{0:.3f}'.format(orders[orders['group']=='B']['revenue'].mean()/orders[orders['group']=='A']['revenue'].mean()-1)) "
   ]
  },
  {
   "cell_type": "markdown",
   "metadata": {},
   "source": [
    "Вывод: По «сырым» данным различиий нет в среднем чеке заказа между группами A и B. Первое число — p-value = 0.829 больше 0.05. Значит, нулевую гипотезу не отвергаем. Наблюдается относительное различие в 28.7% среднего чека группы В, не является статистически значимым."
   ]
  },
  {
   "cell_type": "markdown",
   "metadata": {},
   "source": [
    "### Посчитать статистическую значимость различий в среднем количестве заказов на посетителя между группами по «очищенным» данным. Сделать выводы и предположения.\n"
   ]
  },
  {
   "cell_type": "markdown",
   "metadata": {},
   "source": [
    "Примем за аномальных пользователей тех, кто совершил от 1 заказов или совершил заказ дороже 53 904. Так мы уберём 1% пользователей с наибольшим числом заказов и 1% пользователей с дорогими заказами. Сделаем срезы пользователей с числом заказов больше 1 — `usersWithManyOrders` и пользователей, совершивших заказы дороже  53 904 — `usersWithExpensiveOrders`. Объединим их в таблице `abnormalUsers`. \n",
    "Узнаем, сколько всего аномальных пользователей атрибутом `shape`."
   ]
  },
  {
   "cell_type": "code",
   "execution_count": 32,
   "metadata": {},
   "outputs": [
    {
     "name": "stdout",
     "output_type": "stream",
     "text": [
      "1099    148427295\n",
      "33      249864742\n",
      "36      366673373\n",
      "51      406208401\n",
      "67      522292794\n",
      "dtype: int64\n",
      "45\n"
     ]
    }
   ],
   "source": [
    "revenue_lim = np.percentile(orders['revenue'], 99)\n",
    "\n",
    "orders_lim = 1\n",
    "\n",
    "usersWithManyOrders = pd.concat(\n",
    "    [\n",
    "        ordersByUsersA[ordersByUsersA['orders'] > orders_lim]['userId'],\n",
    "        ordersByUsersB[ordersByUsersB['orders'] > orders_lim]['userId'],\n",
    "    ],\n",
    "    axis=0,\n",
    ")\n",
    "usersWithExpensiveOrders = orders[orders['revenue'] > revenue_lim]['visitorId']\n",
    "abnormalUsers = (\n",
    "    pd.concat([usersWithManyOrders, usersWithExpensiveOrders], axis=0)\n",
    "    .drop_duplicates()\n",
    "    .sort_values()\n",
    ")\n",
    "print(abnormalUsers.head(5))\n",
    "print(abnormalUsers.shape[0]) \n"
   ]
  },
  {
   "cell_type": "markdown",
   "metadata": {},
   "source": [
    "Всего 15 аномальных пользователей. \n",
    "\n",
    "Узнаем, как их действия повлияли на результаты теста. Посчитаем статистическую значимость различий в среднем количестве заказов между группами теста по очищенным данным. Сначала подготовим выборки количества заказов по пользователям по группам теста:\n"
   ]
  },
  {
   "cell_type": "code",
   "execution_count": 33,
   "metadata": {},
   "outputs": [],
   "source": [
    "sampleAFiltered = pd.concat(\n",
    "    [\n",
    "        ordersByUsersA[\n",
    "            np.logical_not(ordersByUsersA['userId'].isin(abnormalUsers))\n",
    "        ]['orders'],\n",
    "        pd.Series(\n",
    "            0,\n",
    "            index=np.arange(\n",
    "                data['visitorsPerDateA'].sum() - len(ordersByUsersA['orders'])\n",
    "            ),\n",
    "            name='orders',\n",
    "        ),\n",
    "    ],\n",
    "    axis=0,\n",
    ")\n",
    "\n",
    "sampleBFiltered = pd.concat(\n",
    "    [\n",
    "        ordersByUsersB[\n",
    "            np.logical_not(ordersByUsersB['userId'].isin(abnormalUsers))\n",
    "        ]['orders'],\n",
    "        pd.Series(\n",
    "            0,\n",
    "            index=np.arange(\n",
    "                data['visitorsPerDateB'].sum() - len(ordersByUsersB['orders'])\n",
    "            ),\n",
    "            name='orders',\n",
    "        ),\n",
    "    ],\n",
    "    axis=0,\n",
    ") "
   ]
  },
  {
   "cell_type": "markdown",
   "metadata": {},
   "source": [
    "Применим статистический критерий Манна-Уитни к полученным выборкам:"
   ]
  },
  {
   "cell_type": "code",
   "execution_count": 34,
   "metadata": {},
   "outputs": [
    {
     "name": "stdout",
     "output_type": "stream",
     "text": [
      "p-value = 0.009\n",
      "0.186\n"
     ]
    }
   ],
   "source": [
    "print('p-value = {0:.3f}'.format(stats.mannwhitneyu(sampleAFiltered, sampleBFiltered)[1]))\n",
    "print('{0:.3f}'.format(sampleBFiltered.mean()/sampleAFiltered.mean()-1)) "
   ]
  },
  {
   "cell_type": "markdown",
   "metadata": {},
   "source": [
    "Результаты по среднему количеству заказов практически не изменились. \n",
    "Так же: различия есть в среднем количестве заказов групп A и B. \n",
    "\n",
    "Первое число — p-value = 0.01 меньше 0.05. Значит, нулевую гипотезу о том, что статистически значимых различий в среднем числе заказов между группами нет, отвергаем. \n",
    "\n",
    "Произошло ли что-нибудь с результатами по среднему чеку после \"очищения\"?"
   ]
  },
  {
   "cell_type": "markdown",
   "metadata": {},
   "source": [
    "### Посчитать статистическую значимость различий в среднем чеке заказа между группами по «очищенным» данным. Сделать выводы и предположения."
   ]
  },
  {
   "cell_type": "code",
   "execution_count": 35,
   "metadata": {},
   "outputs": [
    {
     "name": "stdout",
     "output_type": "stream",
     "text": [
      "p-value = 0.969\n",
      "0.002\n"
     ]
    }
   ],
   "source": [
    "print(\n",
    "    'p-value = {0:.3f}'.format(\n",
    "        stats.mannwhitneyu(\n",
    "            orders[\n",
    "                np.logical_and(\n",
    "                    orders['group'] == 'A',\n",
    "                    np.logical_not(orders['visitorId'].isin(abnormalUsers)),\n",
    "                )\n",
    "            ]['revenue'],\n",
    "            orders[\n",
    "                np.logical_and(\n",
    "                    orders['group'] == 'B',\n",
    "                    np.logical_not(orders['visitorId'].isin(abnormalUsers)),\n",
    "                )\n",
    "            ]['revenue'],\n",
    "        )[1]\n",
    "    )\n",
    ")\n",
    "\n",
    "print(\n",
    "    \"{0:.3f}\".format(\n",
    "        orders[\n",
    "            np.logical_and(\n",
    "                orders['group'] == 'B',\n",
    "                np.logical_not(orders['visitorId'].isin(abnormalUsers)),\n",
    "            )\n",
    "        ]['revenue'].mean()\n",
    "        / orders[\n",
    "            np.logical_and(\n",
    "                orders['group'] == 'A',\n",
    "                np.logical_not(orders['visitorId'].isin(abnormalUsers)),\n",
    "            )\n",
    "        ]['revenue'].mean()\n",
    "        - 1\n",
    "    )\n",
    ") "
   ]
  },
  {
   "cell_type": "markdown",
   "metadata": {},
   "source": [
    "P-value значительно больше 0.05. Значит не отвергаем нулевую гипотезу, о том что нет различий в среднем чеке заказов между группами. Наблюдается относительное различие в -3.2% среднего чека группы"
   ]
  },
  {
   "cell_type": "markdown",
   "metadata": {},
   "source": [
    "## Общие выводы по проекту\n",
    "\n"
   ]
  },
  {
   "cell_type": "markdown",
   "metadata": {},
   "source": [
    "\n",
    "\n",
    "- Есть статистически значимые различия по среднему количеству заказов между группами и по «сырым», и по данным после фильтрации аномалий; Разница около 14% и 15% в пользу группы В. \n",
    "\n",
    "- Нет статистически значимого различия по среднему чеку между группами ни по «сырым», ни по данным после фильтрации аномалий;\n",
    "\n",
    "- По данным графика кумулятивного среднего количества заказов на посетителя по группам видно что в начале были некоторые скачки в количествах, но далее можно увидеть что у группы В показатели лучше чем у группы А.\n",
    "\n",
    "- График относительного изменения кумулятивного среднего количества заказов на посетителя говорит о том, в начале теста группа А лидировала, но с затем мы видим значительный прирост группы В, далее она лидирует по конверсии: становится все лучше и лучше, далее видим небольшой спад, но конце группа В также начал рост около прироста в 15% относительно группы А.\n",
    "\n",
    "**Исходя из обнаруженных фактов, тест следует остановить и признать победу группы B, так как среднее количество заказов на посетителя группы B значительно выше группы A.** "
   ]
  }
 ],
 "metadata": {
  "ExecuteTimeLog": [
   {
    "duration": 514,
    "start_time": "2023-05-29T09:27:15.782Z"
   },
   {
    "duration": 37,
    "start_time": "2023-05-29T09:27:25.397Z"
   },
   {
    "duration": 1249,
    "start_time": "2023-05-29T10:09:06.250Z"
   },
   {
    "duration": 1265,
    "start_time": "2023-05-29T10:09:13.610Z"
   },
   {
    "duration": 15,
    "start_time": "2023-05-29T10:09:23.955Z"
   },
   {
    "duration": 558,
    "start_time": "2023-05-30T03:13:29.827Z"
   },
   {
    "duration": 1121,
    "start_time": "2023-05-30T03:26:12.344Z"
   },
   {
    "duration": 16,
    "start_time": "2023-05-30T03:26:26.964Z"
   },
   {
    "duration": 27,
    "start_time": "2023-05-30T06:52:28.357Z"
   },
   {
    "duration": 20,
    "start_time": "2023-05-30T06:52:59.877Z"
   },
   {
    "duration": 31,
    "start_time": "2023-05-30T06:53:06.032Z"
   },
   {
    "duration": 106,
    "start_time": "2023-05-30T06:55:38.611Z"
   },
   {
    "duration": 69,
    "start_time": "2023-05-30T06:56:15.360Z"
   },
   {
    "duration": 17,
    "start_time": "2023-05-30T07:03:52.681Z"
   },
   {
    "duration": 451,
    "start_time": "2023-05-31T05:22:32.866Z"
   },
   {
    "duration": 18,
    "start_time": "2023-05-31T05:22:33.318Z"
   },
   {
    "duration": 16,
    "start_time": "2023-05-31T05:22:33.338Z"
   },
   {
    "duration": 86,
    "start_time": "2023-05-31T05:22:33.355Z"
   },
   {
    "duration": 78,
    "start_time": "2023-05-31T05:22:33.444Z"
   },
   {
    "duration": 62,
    "start_time": "2023-05-31T05:22:49.030Z"
   },
   {
    "duration": 46,
    "start_time": "2023-05-31T10:38:28.207Z"
   },
   {
    "duration": 469,
    "start_time": "2023-05-31T10:38:34.972Z"
   },
   {
    "duration": 78,
    "start_time": "2023-05-31T10:38:41.468Z"
   },
   {
    "duration": 357,
    "start_time": "2023-05-31T10:39:08.533Z"
   },
   {
    "duration": 2,
    "start_time": "2023-05-31T10:39:44.268Z"
   },
   {
    "duration": 38,
    "start_time": "2023-05-31T10:39:47.066Z"
   },
   {
    "duration": 429,
    "start_time": "2023-05-31T10:39:50.837Z"
   },
   {
    "duration": 343,
    "start_time": "2023-05-31T10:40:20.872Z"
   },
   {
    "duration": 38,
    "start_time": "2023-05-31T10:40:29.083Z"
   },
   {
    "duration": 265,
    "start_time": "2023-05-31T10:40:33.377Z"
   },
   {
    "duration": 11,
    "start_time": "2023-05-31T10:40:48.063Z"
   },
   {
    "duration": 6,
    "start_time": "2023-05-31T10:41:47.407Z"
   },
   {
    "duration": 162,
    "start_time": "2023-05-31T10:41:58.752Z"
   },
   {
    "duration": 22,
    "start_time": "2023-05-31T10:42:02.563Z"
   },
   {
    "duration": 412,
    "start_time": "2023-05-31T10:42:35.857Z"
   },
   {
    "duration": 65,
    "start_time": "2023-05-31T10:42:48.335Z"
   },
   {
    "duration": 18,
    "start_time": "2023-05-31T10:42:59.292Z"
   },
   {
    "duration": 63,
    "start_time": "2023-05-31T10:43:23.838Z"
   },
   {
    "duration": 17,
    "start_time": "2023-05-31T10:43:31.306Z"
   },
   {
    "duration": 9,
    "start_time": "2023-05-31T10:44:23.217Z"
   },
   {
    "duration": 17,
    "start_time": "2023-05-31T10:45:12.877Z"
   },
   {
    "duration": 13,
    "start_time": "2023-05-31T10:45:47.842Z"
   },
   {
    "duration": 42,
    "start_time": "2023-05-31T10:46:17.123Z"
   },
   {
    "duration": 14,
    "start_time": "2023-05-31T10:46:38.073Z"
   },
   {
    "duration": 430,
    "start_time": "2023-05-31T17:04:54.901Z"
   },
   {
    "duration": 73,
    "start_time": "2023-05-31T17:04:55.480Z"
   },
   {
    "duration": 34,
    "start_time": "2023-05-31T17:04:58.301Z"
   },
   {
    "duration": 390,
    "start_time": "2023-05-31T20:29:46.361Z"
   },
   {
    "duration": 100,
    "start_time": "2023-05-31T20:29:46.754Z"
   },
   {
    "duration": 20,
    "start_time": "2023-05-31T20:29:46.856Z"
   },
   {
    "duration": 17,
    "start_time": "2023-05-31T20:29:46.878Z"
   },
   {
    "duration": 143,
    "start_time": "2023-05-31T20:29:46.897Z"
   },
   {
    "duration": 4,
    "start_time": "2023-05-31T20:29:47.047Z"
   },
   {
    "duration": 76,
    "start_time": "2023-05-31T20:29:47.054Z"
   },
   {
    "duration": 15,
    "start_time": "2023-05-31T20:29:47.134Z"
   },
   {
    "duration": 19,
    "start_time": "2023-05-31T20:29:47.152Z"
   },
   {
    "duration": 15,
    "start_time": "2023-05-31T20:29:47.173Z"
   },
   {
    "duration": 76,
    "start_time": "2023-05-31T20:29:47.190Z"
   },
   {
    "duration": 1548,
    "start_time": "2023-05-31T20:29:47.268Z"
   },
   {
    "duration": 1363,
    "start_time": "2023-05-31T20:43:35.776Z"
   },
   {
    "duration": 3,
    "start_time": "2023-05-31T20:43:42.580Z"
   },
   {
    "duration": 46,
    "start_time": "2023-05-31T20:43:42.585Z"
   },
   {
    "duration": 16,
    "start_time": "2023-05-31T20:43:50.439Z"
   },
   {
    "duration": 3,
    "start_time": "2023-05-31T20:44:31.620Z"
   },
   {
    "duration": 49,
    "start_time": "2023-05-31T20:44:31.625Z"
   },
   {
    "duration": 10,
    "start_time": "2023-05-31T20:44:34.289Z"
   },
   {
    "duration": 9,
    "start_time": "2023-05-31T20:44:44.461Z"
   },
   {
    "duration": 3,
    "start_time": "2023-05-31T20:44:55.747Z"
   },
   {
    "duration": 51,
    "start_time": "2023-05-31T20:44:55.752Z"
   },
   {
    "duration": 15,
    "start_time": "2023-05-31T20:44:59.599Z"
   },
   {
    "duration": 4,
    "start_time": "2023-05-31T20:49:56.499Z"
   },
   {
    "duration": 6,
    "start_time": "2023-05-31T20:50:34.608Z"
   },
   {
    "duration": 4,
    "start_time": "2023-05-31T20:50:40.409Z"
   },
   {
    "duration": 1260,
    "start_time": "2023-05-31T20:50:55.422Z"
   },
   {
    "duration": 1249,
    "start_time": "2023-05-31T20:51:00.625Z"
   },
   {
    "duration": 1267,
    "start_time": "2023-05-31T20:51:13.562Z"
   },
   {
    "duration": 5,
    "start_time": "2023-05-31T20:51:38.647Z"
   },
   {
    "duration": 13,
    "start_time": "2023-05-31T20:54:10.437Z"
   },
   {
    "duration": 4,
    "start_time": "2023-05-31T20:57:45.516Z"
   },
   {
    "duration": 3,
    "start_time": "2023-05-31T21:02:24.139Z"
   },
   {
    "duration": 74,
    "start_time": "2023-05-31T21:20:45.944Z"
   },
   {
    "duration": 54,
    "start_time": "2023-05-31T21:21:19.133Z"
   },
   {
    "duration": 31,
    "start_time": "2023-05-31T21:23:39.821Z"
   },
   {
    "duration": 344,
    "start_time": "2023-05-31T21:23:59.947Z"
   },
   {
    "duration": 373,
    "start_time": "2023-05-31T21:24:24.945Z"
   },
   {
    "duration": 3,
    "start_time": "2023-05-31T21:24:32.745Z"
   },
   {
    "duration": 36,
    "start_time": "2023-05-31T21:24:32.750Z"
   },
   {
    "duration": 9,
    "start_time": "2023-05-31T21:24:32.788Z"
   },
   {
    "duration": 13,
    "start_time": "2023-05-31T21:24:32.799Z"
   },
   {
    "duration": 70,
    "start_time": "2023-05-31T21:24:32.815Z"
   },
   {
    "duration": 33,
    "start_time": "2023-05-31T21:24:32.886Z"
   },
   {
    "duration": 37,
    "start_time": "2023-05-31T21:24:36.895Z"
   },
   {
    "duration": 3,
    "start_time": "2023-05-31T21:37:55.141Z"
   },
   {
    "duration": 33,
    "start_time": "2023-05-31T21:37:58.567Z"
   },
   {
    "duration": 11,
    "start_time": "2023-05-31T21:39:49.292Z"
   },
   {
    "duration": 15,
    "start_time": "2023-05-31T21:40:21.890Z"
   },
   {
    "duration": 81,
    "start_time": "2023-05-31T21:41:02.618Z"
   },
   {
    "duration": 52,
    "start_time": "2023-05-31T21:41:09.650Z"
   },
   {
    "duration": 36,
    "start_time": "2023-05-31T21:41:14.547Z"
   },
   {
    "duration": 11,
    "start_time": "2023-05-31T21:43:37.472Z"
   },
   {
    "duration": 11,
    "start_time": "2023-05-31T21:43:46.411Z"
   },
   {
    "duration": 8,
    "start_time": "2023-05-31T21:44:04.143Z"
   },
   {
    "duration": 546,
    "start_time": "2023-05-31T21:51:10.650Z"
   },
   {
    "duration": 3,
    "start_time": "2023-05-31T21:51:35.649Z"
   },
   {
    "duration": 174,
    "start_time": "2023-05-31T21:51:42.162Z"
   },
   {
    "duration": 212,
    "start_time": "2023-05-31T21:51:59.975Z"
   },
   {
    "duration": 146,
    "start_time": "2023-05-31T21:53:04.652Z"
   },
   {
    "duration": 106,
    "start_time": "2023-05-31T21:53:36.964Z"
   },
   {
    "duration": 111,
    "start_time": "2023-05-31T21:53:54.478Z"
   },
   {
    "duration": 11,
    "start_time": "2023-05-31T21:54:30.366Z"
   },
   {
    "duration": 259,
    "start_time": "2023-05-31T21:54:48.928Z"
   },
   {
    "duration": 299,
    "start_time": "2023-05-31T21:55:34.454Z"
   },
   {
    "duration": 240,
    "start_time": "2023-05-31T21:56:47.519Z"
   },
   {
    "duration": 1465,
    "start_time": "2023-05-31T21:58:31.282Z"
   },
   {
    "duration": 1176,
    "start_time": "2023-05-31T21:59:17.320Z"
   },
   {
    "duration": 261,
    "start_time": "2023-05-31T22:00:04.532Z"
   },
   {
    "duration": 69,
    "start_time": "2023-05-31T22:05:33.989Z"
   },
   {
    "duration": 111,
    "start_time": "2023-05-31T22:05:47.478Z"
   },
   {
    "duration": 260,
    "start_time": "2023-05-31T22:07:50.716Z"
   },
   {
    "duration": 255,
    "start_time": "2023-05-31T22:08:01.602Z"
   },
   {
    "duration": 241,
    "start_time": "2023-05-31T22:08:34.030Z"
   },
   {
    "duration": 233,
    "start_time": "2023-05-31T22:08:57.444Z"
   },
   {
    "duration": 240,
    "start_time": "2023-05-31T22:09:20.857Z"
   },
   {
    "duration": 239,
    "start_time": "2023-05-31T22:09:43.232Z"
   },
   {
    "duration": 244,
    "start_time": "2023-05-31T22:09:52.094Z"
   },
   {
    "duration": 325,
    "start_time": "2023-05-31T22:10:19.009Z"
   },
   {
    "duration": 235,
    "start_time": "2023-05-31T22:10:25.945Z"
   },
   {
    "duration": 241,
    "start_time": "2023-05-31T22:11:32.682Z"
   },
   {
    "duration": 236,
    "start_time": "2023-05-31T22:11:39.795Z"
   },
   {
    "duration": 216,
    "start_time": "2023-05-31T22:11:50.132Z"
   },
   {
    "duration": 3,
    "start_time": "2023-06-01T01:23:06.608Z"
   },
   {
    "duration": 3,
    "start_time": "2023-06-01T01:23:44.000Z"
   },
   {
    "duration": 3,
    "start_time": "2023-06-01T01:24:23.998Z"
   },
   {
    "duration": 12,
    "start_time": "2023-06-01T01:24:24.003Z"
   },
   {
    "duration": 49,
    "start_time": "2023-06-01T01:24:24.016Z"
   },
   {
    "duration": 10,
    "start_time": "2023-06-01T01:24:24.066Z"
   },
   {
    "duration": 247,
    "start_time": "2023-06-01T01:24:24.078Z"
   },
   {
    "duration": 10,
    "start_time": "2023-06-01T01:24:24.327Z"
   },
   {
    "duration": 254,
    "start_time": "2023-06-01T01:24:24.339Z"
   },
   {
    "duration": 53,
    "start_time": "2023-06-01T01:24:24.595Z"
   },
   {
    "duration": 28,
    "start_time": "2023-06-01T01:24:24.650Z"
   },
   {
    "duration": 24,
    "start_time": "2023-06-01T01:24:24.680Z"
   },
   {
    "duration": 17,
    "start_time": "2023-06-01T01:24:24.705Z"
   },
   {
    "duration": 6,
    "start_time": "2023-06-01T01:25:01.190Z"
   },
   {
    "duration": 24,
    "start_time": "2023-06-01T01:26:00.750Z"
   },
   {
    "duration": 263,
    "start_time": "2023-06-01T01:27:15.844Z"
   },
   {
    "duration": 7,
    "start_time": "2023-06-01T01:28:18.919Z"
   },
   {
    "duration": 16,
    "start_time": "2023-06-01T01:28:26.316Z"
   },
   {
    "duration": 59,
    "start_time": "2023-06-01T07:24:23.404Z"
   },
   {
    "duration": 804,
    "start_time": "2023-06-01T07:24:30.424Z"
   },
   {
    "duration": 2,
    "start_time": "2023-06-01T07:24:31.231Z"
   },
   {
    "duration": 103,
    "start_time": "2023-06-01T07:24:31.234Z"
   },
   {
    "duration": 12,
    "start_time": "2023-06-01T07:24:31.339Z"
   },
   {
    "duration": 319,
    "start_time": "2023-06-01T07:24:31.353Z"
   },
   {
    "duration": 17,
    "start_time": "2023-06-01T07:24:31.674Z"
   },
   {
    "duration": 275,
    "start_time": "2023-06-01T07:24:31.693Z"
   },
   {
    "duration": 113,
    "start_time": "2023-06-01T07:24:31.974Z"
   },
   {
    "duration": 67,
    "start_time": "2023-06-01T07:24:32.090Z"
   },
   {
    "duration": 30,
    "start_time": "2023-06-01T07:24:32.159Z"
   },
   {
    "duration": 7,
    "start_time": "2023-06-01T07:24:32.191Z"
   },
   {
    "duration": 5,
    "start_time": "2023-06-01T07:24:32.200Z"
   },
   {
    "duration": 312,
    "start_time": "2023-06-01T07:24:32.206Z"
   },
   {
    "duration": 15,
    "start_time": "2023-06-01T07:24:32.521Z"
   },
   {
    "duration": 279,
    "start_time": "2023-06-01T07:24:32.537Z"
   },
   {
    "duration": 232,
    "start_time": "2023-06-01T07:24:44.624Z"
   },
   {
    "duration": 178,
    "start_time": "2023-06-01T07:24:58.361Z"
   },
   {
    "duration": 215,
    "start_time": "2023-06-01T07:25:30.692Z"
   },
   {
    "duration": 213,
    "start_time": "2023-06-01T07:25:35.191Z"
   },
   {
    "duration": 216,
    "start_time": "2023-06-01T07:26:12.910Z"
   },
   {
    "duration": 184,
    "start_time": "2023-06-01T07:26:52.268Z"
   },
   {
    "duration": 196,
    "start_time": "2023-06-01T07:27:22.865Z"
   },
   {
    "duration": 291,
    "start_time": "2023-06-01T07:28:12.250Z"
   },
   {
    "duration": 217,
    "start_time": "2023-06-01T07:29:19.103Z"
   },
   {
    "duration": 14,
    "start_time": "2023-06-01T07:40:06.795Z"
   },
   {
    "duration": 186,
    "start_time": "2023-06-01T07:40:10.252Z"
   },
   {
    "duration": 166,
    "start_time": "2023-06-01T07:47:48.381Z"
   },
   {
    "duration": 293,
    "start_time": "2023-06-01T07:48:10.762Z"
   },
   {
    "duration": 174,
    "start_time": "2023-06-01T07:48:16.999Z"
   },
   {
    "duration": 194,
    "start_time": "2023-06-01T09:20:17.588Z"
   },
   {
    "duration": 197,
    "start_time": "2023-06-01T09:21:04.225Z"
   },
   {
    "duration": 213,
    "start_time": "2023-06-01T09:31:13.972Z"
   },
   {
    "duration": 198,
    "start_time": "2023-06-01T09:31:26.202Z"
   },
   {
    "duration": 294,
    "start_time": "2023-06-01T09:32:52.191Z"
   },
   {
    "duration": 182,
    "start_time": "2023-06-01T09:33:03.288Z"
   },
   {
    "duration": 290,
    "start_time": "2023-06-01T09:33:45.279Z"
   },
   {
    "duration": 210,
    "start_time": "2023-06-01T09:35:29.223Z"
   },
   {
    "duration": 189,
    "start_time": "2023-06-01T09:36:08.719Z"
   },
   {
    "duration": 194,
    "start_time": "2023-06-01T09:36:16.795Z"
   },
   {
    "duration": 323,
    "start_time": "2023-06-01T09:36:28.106Z"
   },
   {
    "duration": 289,
    "start_time": "2023-06-01T09:36:44.210Z"
   },
   {
    "duration": 336,
    "start_time": "2023-06-01T09:37:35.443Z"
   },
   {
    "duration": 5,
    "start_time": "2023-06-01T09:37:42.188Z"
   },
   {
    "duration": 4,
    "start_time": "2023-06-01T09:37:42.195Z"
   },
   {
    "duration": 37,
    "start_time": "2023-06-01T09:37:42.201Z"
   },
   {
    "duration": 11,
    "start_time": "2023-06-01T09:37:42.239Z"
   },
   {
    "duration": 294,
    "start_time": "2023-06-01T09:37:42.252Z"
   },
   {
    "duration": 12,
    "start_time": "2023-06-01T09:37:42.548Z"
   },
   {
    "duration": 297,
    "start_time": "2023-06-01T09:37:42.562Z"
   },
   {
    "duration": 57,
    "start_time": "2023-06-01T09:37:42.861Z"
   },
   {
    "duration": 26,
    "start_time": "2023-06-01T09:37:42.920Z"
   },
   {
    "duration": 25,
    "start_time": "2023-06-01T09:37:42.948Z"
   },
   {
    "duration": 11,
    "start_time": "2023-06-01T09:37:42.974Z"
   },
   {
    "duration": 7,
    "start_time": "2023-06-01T09:37:42.987Z"
   },
   {
    "duration": 309,
    "start_time": "2023-06-01T09:37:42.995Z"
   },
   {
    "duration": 15,
    "start_time": "2023-06-01T09:37:43.307Z"
   },
   {
    "duration": 226,
    "start_time": "2023-06-01T09:37:43.323Z"
   },
   {
    "duration": 208,
    "start_time": "2023-06-01T09:37:43.550Z"
   },
   {
    "duration": 443,
    "start_time": "2023-06-01T09:37:43.759Z"
   },
   {
    "duration": 11,
    "start_time": "2023-06-01T10:05:19.248Z"
   },
   {
    "duration": 15,
    "start_time": "2023-06-01T10:22:40.367Z"
   },
   {
    "duration": 14,
    "start_time": "2023-06-01T10:23:19.762Z"
   },
   {
    "duration": 346,
    "start_time": "2023-06-01T10:25:34.954Z"
   },
   {
    "duration": 341,
    "start_time": "2023-06-01T10:26:28.952Z"
   },
   {
    "duration": 21,
    "start_time": "2023-06-01T10:42:40.597Z"
   },
   {
    "duration": 13,
    "start_time": "2023-06-01T10:43:05.723Z"
   },
   {
    "duration": 5,
    "start_time": "2023-06-01T10:43:12.746Z"
   },
   {
    "duration": 24,
    "start_time": "2023-06-01T10:43:25.381Z"
   },
   {
    "duration": 13,
    "start_time": "2023-06-01T10:43:46.172Z"
   },
   {
    "duration": 15,
    "start_time": "2023-06-01T10:43:57.815Z"
   },
   {
    "duration": 21,
    "start_time": "2023-06-01T10:44:28.539Z"
   },
   {
    "duration": 327,
    "start_time": "2023-06-01T13:24:58.322Z"
   },
   {
    "duration": 529,
    "start_time": "2023-06-01T13:27:53.597Z"
   },
   {
    "duration": 222,
    "start_time": "2023-06-01T13:28:19.746Z"
   },
   {
    "duration": 232,
    "start_time": "2023-06-01T13:28:49.487Z"
   },
   {
    "duration": 226,
    "start_time": "2023-06-01T13:30:15.698Z"
   },
   {
    "duration": 3,
    "start_time": "2023-06-01T13:32:27.417Z"
   },
   {
    "duration": 7,
    "start_time": "2023-06-01T13:32:27.423Z"
   },
   {
    "duration": 61,
    "start_time": "2023-06-01T13:32:27.431Z"
   },
   {
    "duration": 10,
    "start_time": "2023-06-01T13:32:27.494Z"
   },
   {
    "duration": 293,
    "start_time": "2023-06-01T13:32:27.506Z"
   },
   {
    "duration": 11,
    "start_time": "2023-06-01T13:32:27.801Z"
   },
   {
    "duration": 289,
    "start_time": "2023-06-01T13:32:27.814Z"
   },
   {
    "duration": 51,
    "start_time": "2023-06-01T13:32:28.104Z"
   },
   {
    "duration": 38,
    "start_time": "2023-06-01T13:32:28.157Z"
   },
   {
    "duration": 27,
    "start_time": "2023-06-01T13:32:28.196Z"
   },
   {
    "duration": 7,
    "start_time": "2023-06-01T13:32:28.224Z"
   },
   {
    "duration": 5,
    "start_time": "2023-06-01T13:32:28.232Z"
   },
   {
    "duration": 315,
    "start_time": "2023-06-01T13:32:28.239Z"
   },
   {
    "duration": 33,
    "start_time": "2023-06-01T13:32:28.556Z"
   },
   {
    "duration": 201,
    "start_time": "2023-06-01T13:32:28.591Z"
   },
   {
    "duration": 299,
    "start_time": "2023-06-01T13:32:28.793Z"
   },
   {
    "duration": 295,
    "start_time": "2023-06-01T13:32:29.094Z"
   },
   {
    "duration": 229,
    "start_time": "2023-06-01T13:32:29.391Z"
   },
   {
    "duration": 228,
    "start_time": "2023-06-01T13:32:36.128Z"
   },
   {
    "duration": 13,
    "start_time": "2023-06-01T13:32:59.516Z"
   },
   {
    "duration": 5,
    "start_time": "2023-06-01T13:34:18.594Z"
   },
   {
    "duration": 194,
    "start_time": "2023-06-01T13:36:00.658Z"
   },
   {
    "duration": 234,
    "start_time": "2023-06-01T13:36:14.687Z"
   },
   {
    "duration": 12,
    "start_time": "2023-06-01T13:37:18.115Z"
   },
   {
    "duration": 275,
    "start_time": "2023-06-01T13:37:44.319Z"
   },
   {
    "duration": 312,
    "start_time": "2023-06-01T13:39:02.373Z"
   },
   {
    "duration": 98,
    "start_time": "2023-06-01T13:43:04.014Z"
   },
   {
    "duration": 12,
    "start_time": "2023-06-01T13:59:38.122Z"
   },
   {
    "duration": 1389,
    "start_time": "2023-06-01T14:01:23.521Z"
   },
   {
    "duration": 1355,
    "start_time": "2023-06-01T14:02:46.903Z"
   },
   {
    "duration": 1452,
    "start_time": "2023-06-01T14:03:00.955Z"
   },
   {
    "duration": 1537,
    "start_time": "2023-06-01T14:03:25.652Z"
   },
   {
    "duration": 1216,
    "start_time": "2023-06-01T14:04:05.688Z"
   },
   {
    "duration": 1223,
    "start_time": "2023-06-01T14:06:04.269Z"
   },
   {
    "duration": 1201,
    "start_time": "2023-06-01T14:06:41.670Z"
   },
   {
    "duration": 4,
    "start_time": "2023-06-01T14:06:56.914Z"
   },
   {
    "duration": 15,
    "start_time": "2023-06-01T14:07:07.690Z"
   },
   {
    "duration": 1201,
    "start_time": "2023-06-01T14:07:43.552Z"
   },
   {
    "duration": 10,
    "start_time": "2023-06-01T14:07:59.804Z"
   },
   {
    "duration": 10,
    "start_time": "2023-06-01T14:10:59.792Z"
   },
   {
    "duration": 147,
    "start_time": "2023-06-01T14:11:35.913Z"
   },
   {
    "duration": 18,
    "start_time": "2023-06-01T14:12:22.872Z"
   },
   {
    "duration": 5,
    "start_time": "2023-06-01T14:12:40.106Z"
   },
   {
    "duration": 14,
    "start_time": "2023-06-01T14:13:33.283Z"
   },
   {
    "duration": 11,
    "start_time": "2023-06-01T14:14:22.703Z"
   },
   {
    "duration": 11,
    "start_time": "2023-06-01T14:15:12.204Z"
   },
   {
    "duration": 12,
    "start_time": "2023-06-01T14:15:58.952Z"
   },
   {
    "duration": 28,
    "start_time": "2023-06-01T14:16:23.204Z"
   },
   {
    "duration": 24,
    "start_time": "2023-06-01T14:17:59.591Z"
   },
   {
    "duration": 26,
    "start_time": "2023-06-01T14:18:38.740Z"
   },
   {
    "duration": 25,
    "start_time": "2023-06-01T14:18:50.310Z"
   },
   {
    "duration": 31,
    "start_time": "2023-06-01T14:19:12.705Z"
   },
   {
    "duration": 31,
    "start_time": "2023-06-01T14:19:38.163Z"
   },
   {
    "duration": 31,
    "start_time": "2023-06-01T14:20:02.119Z"
   },
   {
    "duration": 1204,
    "start_time": "2023-06-01T14:20:41.551Z"
   },
   {
    "duration": 130,
    "start_time": "2023-06-01T14:20:53.796Z"
   },
   {
    "duration": 121,
    "start_time": "2023-06-01T14:21:42.310Z"
   },
   {
    "duration": 149,
    "start_time": "2023-06-01T14:22:41.408Z"
   },
   {
    "duration": 11,
    "start_time": "2023-06-01T14:23:43.909Z"
   },
   {
    "duration": 220,
    "start_time": "2023-06-01T14:38:54.953Z"
   },
   {
    "duration": 129,
    "start_time": "2023-06-01T14:38:59.991Z"
   },
   {
    "duration": 128,
    "start_time": "2023-06-01T14:39:33.360Z"
   },
   {
    "duration": 118,
    "start_time": "2023-06-01T14:41:02.190Z"
   },
   {
    "duration": 5,
    "start_time": "2023-06-01T15:03:04.230Z"
   },
   {
    "duration": 16,
    "start_time": "2023-06-01T15:20:33.587Z"
   },
   {
    "duration": 4,
    "start_time": "2023-06-01T15:21:45.101Z"
   },
   {
    "duration": 13,
    "start_time": "2023-06-01T15:21:56.394Z"
   },
   {
    "duration": 10,
    "start_time": "2023-06-01T15:23:44.509Z"
   },
   {
    "duration": 10,
    "start_time": "2023-06-01T15:23:49.120Z"
   },
   {
    "duration": 17,
    "start_time": "2023-06-01T15:25:17.795Z"
   },
   {
    "duration": 12,
    "start_time": "2023-06-01T15:25:27.285Z"
   },
   {
    "duration": 146,
    "start_time": "2023-06-01T15:26:05.464Z"
   },
   {
    "duration": 153,
    "start_time": "2023-06-01T15:26:56.281Z"
   },
   {
    "duration": 7,
    "start_time": "2023-06-01T15:30:06.791Z"
   },
   {
    "duration": 108,
    "start_time": "2023-06-01T15:38:59.756Z"
   },
   {
    "duration": 116,
    "start_time": "2023-06-01T15:39:35.992Z"
   },
   {
    "duration": 109,
    "start_time": "2023-06-01T15:40:16.990Z"
   },
   {
    "duration": 8,
    "start_time": "2023-06-01T15:41:04.296Z"
   },
   {
    "duration": 15,
    "start_time": "2023-06-01T15:41:26.309Z"
   },
   {
    "duration": 219,
    "start_time": "2023-06-01T15:52:47.964Z"
   },
   {
    "duration": 133,
    "start_time": "2023-06-01T15:53:01.206Z"
   },
   {
    "duration": 91,
    "start_time": "2023-06-01T15:53:07.868Z"
   },
   {
    "duration": 228,
    "start_time": "2023-06-01T15:53:10.660Z"
   },
   {
    "duration": 153,
    "start_time": "2023-06-01T16:02:29.672Z"
   },
   {
    "duration": 166,
    "start_time": "2023-06-01T16:02:40.280Z"
   },
   {
    "duration": 182,
    "start_time": "2023-06-01T16:03:13.168Z"
   },
   {
    "duration": 134,
    "start_time": "2023-06-01T16:03:39.103Z"
   },
   {
    "duration": 10,
    "start_time": "2023-06-01T16:12:44.001Z"
   },
   {
    "duration": 7,
    "start_time": "2023-06-01T16:13:41.111Z"
   },
   {
    "duration": 6,
    "start_time": "2023-06-01T16:13:49.452Z"
   },
   {
    "duration": 6,
    "start_time": "2023-06-01T16:14:49.625Z"
   },
   {
    "duration": 5,
    "start_time": "2023-06-01T16:15:01.627Z"
   },
   {
    "duration": 19,
    "start_time": "2023-06-01T16:22:35.784Z"
   },
   {
    "duration": 5,
    "start_time": "2023-06-01T16:23:46.985Z"
   },
   {
    "duration": 10,
    "start_time": "2023-06-01T16:24:21.386Z"
   },
   {
    "duration": 157,
    "start_time": "2023-06-01T17:21:05.366Z"
   },
   {
    "duration": 8,
    "start_time": "2023-06-01T17:21:57.011Z"
   },
   {
    "duration": 8,
    "start_time": "2023-06-01T17:36:41.416Z"
   },
   {
    "duration": 484,
    "start_time": "2023-06-01T17:39:04.506Z"
   },
   {
    "duration": 56,
    "start_time": "2023-06-01T17:39:12.259Z"
   },
   {
    "duration": 49,
    "start_time": "2023-06-01T17:39:58.165Z"
   },
   {
    "duration": 63,
    "start_time": "2023-06-02T03:34:19.657Z"
   },
   {
    "duration": 1357,
    "start_time": "2023-06-02T03:34:26.406Z"
   },
   {
    "duration": 3,
    "start_time": "2023-06-02T03:34:27.765Z"
   },
   {
    "duration": 109,
    "start_time": "2023-06-02T03:34:27.770Z"
   },
   {
    "duration": 23,
    "start_time": "2023-06-02T03:34:27.880Z"
   },
   {
    "duration": 277,
    "start_time": "2023-06-02T03:34:27.910Z"
   },
   {
    "duration": 12,
    "start_time": "2023-06-02T03:34:28.189Z"
   },
   {
    "duration": 267,
    "start_time": "2023-06-02T03:34:28.203Z"
   },
   {
    "duration": 111,
    "start_time": "2023-06-02T03:34:28.471Z"
   },
   {
    "duration": 79,
    "start_time": "2023-06-02T03:34:28.583Z"
   },
   {
    "duration": 32,
    "start_time": "2023-06-02T03:34:28.664Z"
   },
   {
    "duration": 47,
    "start_time": "2023-06-02T03:34:28.698Z"
   },
   {
    "duration": 9,
    "start_time": "2023-06-02T03:34:28.747Z"
   },
   {
    "duration": 294,
    "start_time": "2023-06-02T03:34:28.758Z"
   },
   {
    "duration": 15,
    "start_time": "2023-06-02T03:34:29.054Z"
   },
   {
    "duration": 276,
    "start_time": "2023-06-02T03:34:29.070Z"
   },
   {
    "duration": 196,
    "start_time": "2023-06-02T03:34:29.348Z"
   },
   {
    "duration": 357,
    "start_time": "2023-06-02T03:34:29.545Z"
   },
   {
    "duration": 224,
    "start_time": "2023-06-02T03:34:29.904Z"
   },
   {
    "duration": 257,
    "start_time": "2023-06-02T03:34:30.130Z"
   },
   {
    "duration": 12,
    "start_time": "2023-06-02T03:34:30.388Z"
   },
   {
    "duration": 223,
    "start_time": "2023-06-02T03:34:30.402Z"
   },
   {
    "duration": 4,
    "start_time": "2023-06-02T03:34:30.626Z"
   },
   {
    "duration": 39,
    "start_time": "2023-06-02T03:34:30.631Z"
   },
   {
    "duration": 171,
    "start_time": "2023-06-02T03:34:30.671Z"
   },
   {
    "duration": 5,
    "start_time": "2023-06-02T03:34:30.844Z"
   },
   {
    "duration": 252,
    "start_time": "2023-06-02T03:34:30.851Z"
   },
   {
    "duration": 151,
    "start_time": "2023-06-02T03:34:31.105Z"
   },
   {
    "duration": 6,
    "start_time": "2023-06-02T03:34:31.257Z"
   },
   {
    "duration": 22,
    "start_time": "2023-06-02T03:34:37.709Z"
   },
   {
    "duration": 10,
    "start_time": "2023-06-02T04:31:55.105Z"
   },
   {
    "duration": 54,
    "start_time": "2023-06-02T04:32:13.605Z"
   },
   {
    "duration": 9,
    "start_time": "2023-06-02T04:33:08.458Z"
   },
   {
    "duration": 1031,
    "start_time": "2023-06-02T04:56:01.039Z"
   },
   {
    "duration": 872,
    "start_time": "2023-06-02T04:56:25.329Z"
   },
   {
    "duration": 775,
    "start_time": "2023-06-02T04:56:36.367Z"
   },
   {
    "duration": 879,
    "start_time": "2023-06-02T04:57:20.538Z"
   },
   {
    "duration": 2404,
    "start_time": "2023-06-02T04:57:28.902Z"
   },
   {
    "duration": 7,
    "start_time": "2023-06-02T04:57:41.662Z"
   },
   {
    "duration": 9,
    "start_time": "2023-06-02T04:58:08.678Z"
   },
   {
    "duration": 9,
    "start_time": "2023-06-02T05:00:26.516Z"
   },
   {
    "duration": 8,
    "start_time": "2023-06-02T05:01:33.318Z"
   },
   {
    "duration": 9,
    "start_time": "2023-06-02T05:02:05.363Z"
   },
   {
    "duration": 23,
    "start_time": "2023-06-02T05:02:24.196Z"
   },
   {
    "duration": 952,
    "start_time": "2023-06-02T05:05:14.717Z"
   },
   {
    "duration": 14,
    "start_time": "2023-06-02T05:05:45.859Z"
   },
   {
    "duration": 12,
    "start_time": "2023-06-02T05:11:20.963Z"
   },
   {
    "duration": 3,
    "start_time": "2023-06-02T05:11:35.631Z"
   },
   {
    "duration": 8,
    "start_time": "2023-06-02T05:11:35.636Z"
   },
   {
    "duration": 37,
    "start_time": "2023-06-02T05:11:35.645Z"
   },
   {
    "duration": 11,
    "start_time": "2023-06-02T05:11:35.690Z"
   },
   {
    "duration": 276,
    "start_time": "2023-06-02T05:11:35.703Z"
   },
   {
    "duration": 26,
    "start_time": "2023-06-02T05:11:35.981Z"
   },
   {
    "duration": 317,
    "start_time": "2023-06-02T05:11:36.008Z"
   },
   {
    "duration": 53,
    "start_time": "2023-06-02T05:11:36.327Z"
   },
   {
    "duration": 46,
    "start_time": "2023-06-02T05:11:36.381Z"
   },
   {
    "duration": 27,
    "start_time": "2023-06-02T05:11:36.429Z"
   },
   {
    "duration": 6,
    "start_time": "2023-06-02T05:11:36.457Z"
   },
   {
    "duration": 24,
    "start_time": "2023-06-02T05:11:36.465Z"
   },
   {
    "duration": 311,
    "start_time": "2023-06-02T05:11:36.490Z"
   },
   {
    "duration": 16,
    "start_time": "2023-06-02T05:11:36.810Z"
   },
   {
    "duration": 197,
    "start_time": "2023-06-02T05:11:36.828Z"
   },
   {
    "duration": 193,
    "start_time": "2023-06-02T05:11:37.027Z"
   },
   {
    "duration": 275,
    "start_time": "2023-06-02T05:11:37.221Z"
   },
   {
    "duration": 229,
    "start_time": "2023-06-02T05:11:37.498Z"
   },
   {
    "duration": 265,
    "start_time": "2023-06-02T05:11:37.729Z"
   },
   {
    "duration": 13,
    "start_time": "2023-06-02T05:11:37.995Z"
   },
   {
    "duration": 125,
    "start_time": "2023-06-02T05:11:38.011Z"
   },
   {
    "duration": 4,
    "start_time": "2023-06-02T05:11:38.138Z"
   },
   {
    "duration": 19,
    "start_time": "2023-06-02T05:11:38.143Z"
   },
   {
    "duration": 212,
    "start_time": "2023-06-02T05:11:38.164Z"
   },
   {
    "duration": 18,
    "start_time": "2023-06-02T05:11:38.378Z"
   },
   {
    "duration": 237,
    "start_time": "2023-06-02T05:11:38.398Z"
   },
   {
    "duration": 135,
    "start_time": "2023-06-02T05:11:38.636Z"
   },
   {
    "duration": 6,
    "start_time": "2023-06-02T05:11:38.772Z"
   },
   {
    "duration": 54,
    "start_time": "2023-06-02T05:11:38.779Z"
   },
   {
    "duration": 9,
    "start_time": "2023-06-02T05:11:38.835Z"
   },
   {
    "duration": 18,
    "start_time": "2023-06-02T05:11:38.846Z"
   },
   {
    "duration": 18,
    "start_time": "2023-06-02T05:11:38.865Z"
   },
   {
    "duration": 44,
    "start_time": "2023-06-02T05:11:38.891Z"
   },
   {
    "duration": 13,
    "start_time": "2023-06-02T05:11:41.810Z"
   },
   {
    "duration": 13,
    "start_time": "2023-06-02T05:12:18.716Z"
   },
   {
    "duration": 8,
    "start_time": "2023-06-02T05:14:50.061Z"
   },
   {
    "duration": 13,
    "start_time": "2023-06-02T05:14:54.139Z"
   },
   {
    "duration": 1107,
    "start_time": "2023-06-02T08:38:26.607Z"
   },
   {
    "duration": 2,
    "start_time": "2023-06-02T08:38:27.717Z"
   },
   {
    "duration": 39,
    "start_time": "2023-06-02T08:38:27.721Z"
   },
   {
    "duration": 12,
    "start_time": "2023-06-02T08:38:27.762Z"
   },
   {
    "duration": 285,
    "start_time": "2023-06-02T08:38:27.777Z"
   },
   {
    "duration": 11,
    "start_time": "2023-06-02T08:38:28.064Z"
   },
   {
    "duration": 292,
    "start_time": "2023-06-02T08:38:28.076Z"
   },
   {
    "duration": 50,
    "start_time": "2023-06-02T08:38:28.370Z"
   },
   {
    "duration": 27,
    "start_time": "2023-06-02T08:38:28.422Z"
   },
   {
    "duration": 29,
    "start_time": "2023-06-02T08:38:28.451Z"
   },
   {
    "duration": 7,
    "start_time": "2023-06-02T08:38:28.482Z"
   },
   {
    "duration": 5,
    "start_time": "2023-06-02T08:38:28.491Z"
   },
   {
    "duration": 308,
    "start_time": "2023-06-02T08:38:28.497Z"
   },
   {
    "duration": 16,
    "start_time": "2023-06-02T08:38:28.808Z"
   },
   {
    "duration": 279,
    "start_time": "2023-06-02T08:38:28.826Z"
   },
   {
    "duration": 190,
    "start_time": "2023-06-02T08:38:29.107Z"
   },
   {
    "duration": 330,
    "start_time": "2023-06-02T08:38:29.299Z"
   },
   {
    "duration": 221,
    "start_time": "2023-06-02T08:38:29.631Z"
   },
   {
    "duration": 291,
    "start_time": "2023-06-02T08:38:29.853Z"
   },
   {
    "duration": 10,
    "start_time": "2023-06-02T08:38:30.151Z"
   },
   {
    "duration": 134,
    "start_time": "2023-06-02T08:38:30.163Z"
   },
   {
    "duration": 4,
    "start_time": "2023-06-02T08:38:30.298Z"
   },
   {
    "duration": 52,
    "start_time": "2023-06-02T08:38:30.304Z"
   },
   {
    "duration": 228,
    "start_time": "2023-06-02T08:38:30.358Z"
   },
   {
    "duration": 4,
    "start_time": "2023-06-02T08:38:30.588Z"
   },
   {
    "duration": 263,
    "start_time": "2023-06-02T08:38:30.593Z"
   },
   {
    "duration": 131,
    "start_time": "2023-06-02T08:38:30.858Z"
   },
   {
    "duration": 6,
    "start_time": "2023-06-02T08:38:30.991Z"
   },
   {
    "duration": 55,
    "start_time": "2023-06-02T08:38:30.998Z"
   },
   {
    "duration": 18,
    "start_time": "2023-06-02T08:38:31.055Z"
   },
   {
    "duration": 33,
    "start_time": "2023-06-02T08:38:31.075Z"
   },
   {
    "duration": 52,
    "start_time": "2023-06-02T08:38:31.110Z"
   },
   {
    "duration": 55,
    "start_time": "2023-06-02T08:38:31.164Z"
   },
   {
    "duration": 15,
    "start_time": "2023-06-02T08:38:31.221Z"
   },
   {
    "duration": 1910,
    "start_time": "2023-06-02T16:55:06.033Z"
   },
   {
    "duration": 307,
    "start_time": "2023-06-02T16:55:15.189Z"
   },
   {
    "duration": 141,
    "start_time": "2023-06-02T16:55:25.471Z"
   },
   {
    "duration": 173,
    "start_time": "2023-06-02T17:10:58.965Z"
   },
   {
    "duration": 178,
    "start_time": "2023-06-02T17:11:04.073Z"
   },
   {
    "duration": 243,
    "start_time": "2023-06-02T17:11:07.362Z"
   },
   {
    "duration": 106,
    "start_time": "2023-06-02T17:18:05.758Z"
   },
   {
    "duration": 8,
    "start_time": "2023-06-02T17:18:20.659Z"
   },
   {
    "duration": 8,
    "start_time": "2023-06-02T17:18:25.757Z"
   },
   {
    "duration": 1326,
    "start_time": "2023-06-02T17:18:38.246Z"
   },
   {
    "duration": 19,
    "start_time": "2023-06-02T17:18:39.574Z"
   },
   {
    "duration": 144,
    "start_time": "2023-06-02T17:18:39.602Z"
   },
   {
    "duration": 13,
    "start_time": "2023-06-02T17:18:39.748Z"
   },
   {
    "duration": 436,
    "start_time": "2023-06-02T17:18:39.763Z"
   },
   {
    "duration": 18,
    "start_time": "2023-06-02T17:18:40.202Z"
   },
   {
    "duration": 361,
    "start_time": "2023-06-02T17:18:40.222Z"
   },
   {
    "duration": 77,
    "start_time": "2023-06-02T17:18:40.584Z"
   },
   {
    "duration": 87,
    "start_time": "2023-06-02T17:18:40.665Z"
   },
   {
    "duration": 24,
    "start_time": "2023-06-02T17:18:44.279Z"
   },
   {
    "duration": 31,
    "start_time": "2023-06-02T17:19:54.422Z"
   },
   {
    "duration": 17,
    "start_time": "2023-06-02T17:20:47.967Z"
   },
   {
    "duration": 24,
    "start_time": "2023-06-02T17:21:02.810Z"
   },
   {
    "duration": 35,
    "start_time": "2023-06-02T17:22:44.069Z"
   },
   {
    "duration": 30,
    "start_time": "2023-06-02T17:22:53.502Z"
   },
   {
    "duration": 39,
    "start_time": "2023-06-02T17:25:34.346Z"
   },
   {
    "duration": 82,
    "start_time": "2023-06-02T17:25:52.094Z"
   },
   {
    "duration": 22,
    "start_time": "2023-06-02T17:27:04.850Z"
   },
   {
    "duration": 30,
    "start_time": "2023-06-02T17:28:16.912Z"
   },
   {
    "duration": 4,
    "start_time": "2023-06-02T17:28:23.164Z"
   },
   {
    "duration": 4,
    "start_time": "2023-06-02T17:28:23.170Z"
   },
   {
    "duration": 72,
    "start_time": "2023-06-02T17:28:23.175Z"
   },
   {
    "duration": 11,
    "start_time": "2023-06-02T17:28:23.248Z"
   },
   {
    "duration": 343,
    "start_time": "2023-06-02T17:28:23.262Z"
   },
   {
    "duration": 20,
    "start_time": "2023-06-02T17:28:23.624Z"
   },
   {
    "duration": 311,
    "start_time": "2023-06-02T17:28:23.645Z"
   },
   {
    "duration": 89,
    "start_time": "2023-06-02T17:28:23.959Z"
   },
   {
    "duration": 59,
    "start_time": "2023-06-02T17:28:24.053Z"
   },
   {
    "duration": 40,
    "start_time": "2023-06-02T17:28:24.123Z"
   },
   {
    "duration": 20,
    "start_time": "2023-06-02T17:28:24.165Z"
   },
   {
    "duration": 38,
    "start_time": "2023-06-02T17:28:28.416Z"
   },
   {
    "duration": 44,
    "start_time": "2023-06-02T17:28:48.084Z"
   },
   {
    "duration": 12,
    "start_time": "2023-06-02T17:34:15.417Z"
   },
   {
    "duration": 105,
    "start_time": "2023-06-02T17:34:21.296Z"
   },
   {
    "duration": 35,
    "start_time": "2023-06-02T17:34:39.406Z"
   },
   {
    "duration": 58,
    "start_time": "2023-06-02T17:35:58.699Z"
   },
   {
    "duration": 25,
    "start_time": "2023-06-02T17:36:31.618Z"
   },
   {
    "duration": 24,
    "start_time": "2023-06-02T17:36:38.444Z"
   },
   {
    "duration": 37,
    "start_time": "2023-06-02T17:36:46.536Z"
   },
   {
    "duration": 6,
    "start_time": "2023-06-02T17:39:09.534Z"
   },
   {
    "duration": 39,
    "start_time": "2023-06-02T17:39:15.441Z"
   },
   {
    "duration": 12,
    "start_time": "2023-06-02T17:42:31.521Z"
   },
   {
    "duration": 29,
    "start_time": "2023-06-02T17:42:39.712Z"
   },
   {
    "duration": 16,
    "start_time": "2023-06-02T17:42:51.848Z"
   },
   {
    "duration": 17,
    "start_time": "2023-06-02T17:43:05.643Z"
   },
   {
    "duration": 144,
    "start_time": "2023-06-02T17:43:12.904Z"
   },
   {
    "duration": 42,
    "start_time": "2023-06-02T17:43:17.871Z"
   },
   {
    "duration": 2219,
    "start_time": "2023-06-02T17:46:09.550Z"
   },
   {
    "duration": 189,
    "start_time": "2023-06-02T17:46:28.663Z"
   },
   {
    "duration": 2154,
    "start_time": "2023-06-02T17:46:41.601Z"
   },
   {
    "duration": 2279,
    "start_time": "2023-06-02T17:47:27.662Z"
   },
   {
    "duration": 42,
    "start_time": "2023-06-02T17:48:24.617Z"
   },
   {
    "duration": 6,
    "start_time": "2023-06-02T17:48:46.924Z"
   },
   {
    "duration": 13,
    "start_time": "2023-06-02T17:48:46.933Z"
   },
   {
    "duration": 56,
    "start_time": "2023-06-02T17:48:46.948Z"
   },
   {
    "duration": 14,
    "start_time": "2023-06-02T17:48:47.006Z"
   },
   {
    "duration": 322,
    "start_time": "2023-06-02T17:48:47.023Z"
   },
   {
    "duration": 10,
    "start_time": "2023-06-02T17:48:47.347Z"
   },
   {
    "duration": 355,
    "start_time": "2023-06-02T17:48:47.358Z"
   },
   {
    "duration": 54,
    "start_time": "2023-06-02T17:48:47.715Z"
   },
   {
    "duration": 53,
    "start_time": "2023-06-02T17:48:47.770Z"
   },
   {
    "duration": 29,
    "start_time": "2023-06-02T17:48:47.825Z"
   },
   {
    "duration": 7,
    "start_time": "2023-06-02T17:48:47.855Z"
   },
   {
    "duration": 45,
    "start_time": "2023-06-02T17:49:02.827Z"
   },
   {
    "duration": 15,
    "start_time": "2023-06-02T17:50:23.037Z"
   },
   {
    "duration": 5,
    "start_time": "2023-06-02T17:50:27.320Z"
   },
   {
    "duration": 4,
    "start_time": "2023-06-02T17:50:27.327Z"
   },
   {
    "duration": 32,
    "start_time": "2023-06-02T17:50:27.332Z"
   },
   {
    "duration": 24,
    "start_time": "2023-06-02T17:50:27.365Z"
   },
   {
    "duration": 330,
    "start_time": "2023-06-02T17:50:27.397Z"
   },
   {
    "duration": 19,
    "start_time": "2023-06-02T17:50:27.730Z"
   },
   {
    "duration": 392,
    "start_time": "2023-06-02T17:50:27.752Z"
   },
   {
    "duration": 88,
    "start_time": "2023-06-02T17:50:28.145Z"
   },
   {
    "duration": 28,
    "start_time": "2023-06-02T17:50:28.235Z"
   },
   {
    "duration": 52,
    "start_time": "2023-06-02T17:50:28.265Z"
   },
   {
    "duration": 11,
    "start_time": "2023-06-02T17:50:28.322Z"
   },
   {
    "duration": 26,
    "start_time": "2023-06-02T17:50:28.335Z"
   },
   {
    "duration": 22,
    "start_time": "2023-06-02T17:50:39.806Z"
   },
   {
    "duration": 3,
    "start_time": "2023-06-02T17:50:46.053Z"
   },
   {
    "duration": 4,
    "start_time": "2023-06-02T17:50:46.059Z"
   },
   {
    "duration": 69,
    "start_time": "2023-06-02T17:50:46.065Z"
   },
   {
    "duration": 9,
    "start_time": "2023-06-02T17:50:46.136Z"
   },
   {
    "duration": 316,
    "start_time": "2023-06-02T17:50:46.147Z"
   },
   {
    "duration": 35,
    "start_time": "2023-06-02T17:50:46.465Z"
   },
   {
    "duration": 360,
    "start_time": "2023-06-02T17:50:46.507Z"
   },
   {
    "duration": 67,
    "start_time": "2023-06-02T17:50:46.868Z"
   },
   {
    "duration": 25,
    "start_time": "2023-06-02T17:50:46.937Z"
   },
   {
    "duration": 42,
    "start_time": "2023-06-02T17:50:46.964Z"
   },
   {
    "duration": 11,
    "start_time": "2023-06-02T17:50:47.010Z"
   },
   {
    "duration": 21,
    "start_time": "2023-06-02T17:50:51.763Z"
   },
   {
    "duration": 4,
    "start_time": "2023-06-02T17:52:39.263Z"
   },
   {
    "duration": 4,
    "start_time": "2023-06-02T17:52:39.269Z"
   },
   {
    "duration": 56,
    "start_time": "2023-06-02T17:52:39.275Z"
   },
   {
    "duration": 10,
    "start_time": "2023-06-02T17:52:39.333Z"
   },
   {
    "duration": 294,
    "start_time": "2023-06-02T17:52:39.345Z"
   },
   {
    "duration": 10,
    "start_time": "2023-06-02T17:52:39.641Z"
   },
   {
    "duration": 285,
    "start_time": "2023-06-02T17:52:39.653Z"
   },
   {
    "duration": 56,
    "start_time": "2023-06-02T17:52:39.939Z"
   },
   {
    "duration": 34,
    "start_time": "2023-06-02T17:52:39.996Z"
   },
   {
    "duration": 27,
    "start_time": "2023-06-02T17:52:40.032Z"
   },
   {
    "duration": 10,
    "start_time": "2023-06-02T17:52:40.061Z"
   },
   {
    "duration": 34,
    "start_time": "2023-06-02T17:52:40.072Z"
   },
   {
    "duration": 6,
    "start_time": "2023-06-02T17:52:40.108Z"
   },
   {
    "duration": 312,
    "start_time": "2023-06-02T17:52:40.120Z"
   },
   {
    "duration": 17,
    "start_time": "2023-06-02T17:52:40.434Z"
   },
   {
    "duration": 304,
    "start_time": "2023-06-02T17:52:40.453Z"
   },
   {
    "duration": 209,
    "start_time": "2023-06-02T17:52:40.758Z"
   },
   {
    "duration": 299,
    "start_time": "2023-06-02T17:52:40.968Z"
   },
   {
    "duration": 258,
    "start_time": "2023-06-02T17:52:41.269Z"
   },
   {
    "duration": 318,
    "start_time": "2023-06-02T17:52:41.529Z"
   },
   {
    "duration": 11,
    "start_time": "2023-06-02T17:52:41.848Z"
   },
   {
    "duration": 156,
    "start_time": "2023-06-02T17:52:41.876Z"
   },
   {
    "duration": 4,
    "start_time": "2023-06-02T17:52:42.034Z"
   },
   {
    "duration": 9,
    "start_time": "2023-06-02T17:52:42.040Z"
   },
   {
    "duration": 169,
    "start_time": "2023-06-02T17:52:42.051Z"
   },
   {
    "duration": 5,
    "start_time": "2023-06-02T17:52:42.222Z"
   },
   {
    "duration": 361,
    "start_time": "2023-06-02T17:52:42.228Z"
   },
   {
    "duration": 139,
    "start_time": "2023-06-02T17:52:42.591Z"
   },
   {
    "duration": 7,
    "start_time": "2023-06-02T17:52:42.731Z"
   },
   {
    "duration": 40,
    "start_time": "2023-06-02T17:52:42.740Z"
   },
   {
    "duration": 12,
    "start_time": "2023-06-02T17:52:42.784Z"
   },
   {
    "duration": 15,
    "start_time": "2023-06-02T17:52:42.809Z"
   },
   {
    "duration": 26,
    "start_time": "2023-06-02T17:52:42.826Z"
   },
   {
    "duration": 46,
    "start_time": "2023-06-02T17:52:42.854Z"
   },
   {
    "duration": 14,
    "start_time": "2023-06-02T17:52:42.906Z"
   },
   {
    "duration": 19,
    "start_time": "2023-06-02T17:58:47.542Z"
   },
   {
    "duration": 11,
    "start_time": "2023-06-02T17:59:48.656Z"
   },
   {
    "duration": 16,
    "start_time": "2023-06-02T18:00:17.211Z"
   },
   {
    "duration": 20,
    "start_time": "2023-06-02T18:00:35.198Z"
   },
   {
    "duration": 15,
    "start_time": "2023-06-02T18:00:41.440Z"
   },
   {
    "duration": 22,
    "start_time": "2023-06-02T18:00:45.506Z"
   },
   {
    "duration": 21,
    "start_time": "2023-06-02T18:01:10.602Z"
   },
   {
    "duration": 97,
    "start_time": "2023-06-02T18:18:54.300Z"
   },
   {
    "duration": 24,
    "start_time": "2023-06-02T18:19:00.498Z"
   },
   {
    "duration": 10,
    "start_time": "2023-06-02T18:19:16.141Z"
   },
   {
    "duration": 14,
    "start_time": "2023-06-02T18:21:10.323Z"
   },
   {
    "duration": 14,
    "start_time": "2023-06-02T18:22:11.404Z"
   },
   {
    "duration": 13,
    "start_time": "2023-06-02T18:23:01.919Z"
   },
   {
    "duration": 20,
    "start_time": "2023-06-02T18:23:11.373Z"
   },
   {
    "duration": 1249,
    "start_time": "2023-06-03T07:07:51.310Z"
   },
   {
    "duration": 5,
    "start_time": "2023-06-03T07:07:52.563Z"
   },
   {
    "duration": 78,
    "start_time": "2023-06-03T07:07:52.572Z"
   },
   {
    "duration": 17,
    "start_time": "2023-06-03T07:07:52.655Z"
   },
   {
    "duration": 296,
    "start_time": "2023-06-03T07:07:52.675Z"
   },
   {
    "duration": 11,
    "start_time": "2023-06-03T07:07:52.973Z"
   },
   {
    "duration": 284,
    "start_time": "2023-06-03T07:07:52.986Z"
   },
   {
    "duration": 85,
    "start_time": "2023-06-03T07:07:53.271Z"
   },
   {
    "duration": 80,
    "start_time": "2023-06-03T07:07:53.360Z"
   },
   {
    "duration": 39,
    "start_time": "2023-06-03T07:07:53.442Z"
   },
   {
    "duration": 7,
    "start_time": "2023-06-03T07:07:53.483Z"
   },
   {
    "duration": 31,
    "start_time": "2023-06-03T07:07:53.492Z"
   },
   {
    "duration": 8,
    "start_time": "2023-06-03T07:07:53.525Z"
   },
   {
    "duration": 351,
    "start_time": "2023-06-03T07:07:53.536Z"
   },
   {
    "duration": 16,
    "start_time": "2023-06-03T07:07:53.888Z"
   },
   {
    "duration": 378,
    "start_time": "2023-06-03T07:07:53.906Z"
   },
   {
    "duration": 287,
    "start_time": "2023-06-03T07:07:54.286Z"
   },
   {
    "duration": 291,
    "start_time": "2023-06-03T07:07:54.575Z"
   },
   {
    "duration": 225,
    "start_time": "2023-06-03T07:07:54.871Z"
   },
   {
    "duration": 345,
    "start_time": "2023-06-03T07:07:55.097Z"
   },
   {
    "duration": 23,
    "start_time": "2023-06-03T07:07:55.444Z"
   },
   {
    "duration": 197,
    "start_time": "2023-06-03T07:07:55.469Z"
   },
   {
    "duration": 5,
    "start_time": "2023-06-03T07:07:55.674Z"
   },
   {
    "duration": 11,
    "start_time": "2023-06-03T07:07:55.680Z"
   },
   {
    "duration": 244,
    "start_time": "2023-06-03T07:07:55.693Z"
   },
   {
    "duration": 14,
    "start_time": "2023-06-03T07:07:55.939Z"
   },
   {
    "duration": 305,
    "start_time": "2023-06-03T07:07:55.958Z"
   },
   {
    "duration": 168,
    "start_time": "2023-06-03T07:07:56.267Z"
   },
   {
    "duration": 17,
    "start_time": "2023-06-03T07:07:56.437Z"
   },
   {
    "duration": 29,
    "start_time": "2023-06-03T07:07:56.456Z"
   },
   {
    "duration": 21,
    "start_time": "2023-06-03T07:07:56.487Z"
   },
   {
    "duration": 13,
    "start_time": "2023-06-03T07:07:56.510Z"
   },
   {
    "duration": 41,
    "start_time": "2023-06-03T07:07:56.525Z"
   },
   {
    "duration": 34,
    "start_time": "2023-06-03T07:07:56.568Z"
   },
   {
    "duration": 16,
    "start_time": "2023-06-03T07:07:56.605Z"
   }
  ],
  "kernelspec": {
   "display_name": "Python 3 (ipykernel)",
   "language": "python",
   "name": "python3"
  },
  "language_info": {
   "codemirror_mode": {
    "name": "ipython",
    "version": 3
   },
   "file_extension": ".py",
   "mimetype": "text/x-python",
   "name": "python",
   "nbconvert_exporter": "python",
   "pygments_lexer": "ipython3",
   "version": "3.9.12"
  },
  "toc": {
   "base_numbering": 1,
   "nav_menu": {},
   "number_sections": true,
   "sideBar": true,
   "skip_h1_title": true,
   "title_cell": "Table of Contents",
   "title_sidebar": "Contents",
   "toc_cell": false,
   "toc_position": {
    "height": "calc(100% - 180px)",
    "left": "10px",
    "top": "150px",
    "width": "324.746px"
   },
   "toc_section_display": true,
   "toc_window_display": true
  }
 },
 "nbformat": 4,
 "nbformat_minor": 2
}
